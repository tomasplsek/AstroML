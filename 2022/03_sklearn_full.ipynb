{
  "nbformat": 4,
  "nbformat_minor": 0,
  "metadata": {
    "colab": {
      "provenance": [],
      "toc_visible": true,
      "include_colab_link": true
    },
    "kernelspec": {
      "display_name": "Python 3",
      "language": "python",
      "name": "python3"
    },
    "language_info": {
      "codemirror_mode": {
        "name": "ipython",
        "version": 3
      },
      "file_extension": ".py",
      "mimetype": "text/x-python",
      "name": "python",
      "nbconvert_exporter": "python",
      "pygments_lexer": "ipython3",
      "version": "3.8.10"
    },
    "toc-autonumbering": false
  },
  "cells": [
    {
      "cell_type": "markdown",
      "metadata": {
        "id": "view-in-github",
        "colab_type": "text"
      },
      "source": [
        "<a href=\"https://colab.research.google.com/github/tomasplsek/AstroML/blob/main/2022/03_sklearn_full.ipynb\" target=\"_parent\"><img src=\"https://colab.research.google.com/assets/colab-badge.svg\" alt=\"Open In Colab\"/></a>"
      ]
    },
    {
      "cell_type": "markdown",
      "metadata": {
        "id": "w5pcm7J6fqxK"
      },
      "source": [
        "# 3. hands-on session: **From *Data* to *Prediction***"
      ]
    },
    {
      "cell_type": "markdown",
      "metadata": {
        "id": "qXE0gT_O3l-l"
      },
      "source": [
        "## **Contents**\n",
        "\n",
        "1. Preprocess the data\n",
        "1. Select features & reduce dimensions\n",
        "1. Cross-validate\n",
        "1. Find best hyperparameters\n",
        "1. Compare classifiers\n",
        "1. Combine classifiers\n",
        "1. Evaluate performance\n",
        "1. Predict"
      ]
    },
    {
      "cell_type": "code",
      "metadata": {
        "id": "ZCF_HPrGAIMK"
      },
      "source": [
        "import numpy as np\n",
        "import pandas as pd\n",
        "import matplotlib.pyplot as plt"
      ],
      "execution_count": null,
      "outputs": []
    },
    {
      "cell_type": "markdown",
      "metadata": {
        "id": "nIMmT6-DCEYC"
      },
      "source": [
        "# **Our dataset**\n",
        "\n",
        "SDSS photometry of points sources: Star vs QSO"
      ]
    },
    {
      "cell_type": "markdown",
      "metadata": {
        "id": "Hc23Ez28VGGe"
      },
      "source": [
        "<img src=\"https://cdn.mos.cms.futurecdn.net/HgaCHZDNppE6e52yeDACo6-970-80.jpg.webp\" height=200>\n",
        "\n",
        "<img src=\"https://earthsky.org/upl/2021/01/supermassive-black-hole-artist-e1610556964639.jpg\" height=200 align=right>\n",
        "\n"
      ]
    },
    {
      "cell_type": "markdown",
      "source": [
        "### **Sloan Digital Sky Survey (SDSS)**\n",
        "\n",
        "- photometry & spectroscopy\n",
        "\n",
        "- fotometry 1 billion objects\n",
        "\n",
        "- spectroscopy 6 million objects\n",
        "\n",
        "- stars from our galaxy\n",
        "\n",
        "- galaxies up to $z \\approx 0.7$\n",
        "\n",
        "- quasars up to $z \\approx 6$\n",
        "\n",
        "- color system `u g r i z`\n",
        "\n",
        "<img src=\"https://www.astroml.org/_images/fig_sdss_filters_1.png\" align=left width=500>"
      ],
      "metadata": {
        "id": "vFSwlRFZ-Z6T"
      }
    },
    {
      "cell_type": "code",
      "metadata": {
        "colab": {
          "base_uri": "https://localhost:8080/"
        },
        "id": "kjK_BVs1CDh9",
        "outputId": "20a8c6e0-5373-41e3-9476-3a6be4160d96"
      },
      "source": [
        "!wget -c \"https://drive.google.com/uc?id=1IoQfGFo13ZP2wTyp-xvzQvguPYhE8TWB\" -O \"sdss_photo.csv\""
      ],
      "execution_count": null,
      "outputs": [
        {
          "output_type": "stream",
          "name": "stdout",
          "text": [
            "--2022-10-17 12:44:15--  https://drive.google.com/uc?id=1IoQfGFo13ZP2wTyp-xvzQvguPYhE8TWB\n",
            "Resolving drive.google.com (drive.google.com)... 74.125.143.102, 74.125.143.139, 74.125.143.101, ...\n",
            "Connecting to drive.google.com (drive.google.com)|74.125.143.102|:443... connected.\n",
            "HTTP request sent, awaiting response... 416 Requested range not satisfiable\n",
            "\n",
            "    The file is already fully retrieved; nothing to do.\n",
            "\n"
          ]
        }
      ]
    },
    {
      "cell_type": "markdown",
      "metadata": {
        "id": "jWeG6dFa0x77"
      },
      "source": [
        "## **Data preprocessing**"
      ]
    },
    {
      "cell_type": "code",
      "metadata": {
        "id": "Pqhbn1Ht58EC"
      },
      "source": [
        "data = pd.read_csv(\"sdss_photo.csv\")"
      ],
      "execution_count": null,
      "outputs": []
    },
    {
      "cell_type": "code",
      "metadata": {
        "colab": {
          "base_uri": "https://localhost:8080/",
          "height": 424
        },
        "id": "DyEbvboDoe02",
        "outputId": "67251962-de2a-4e04-f410-c1f6f52adad2"
      },
      "source": [
        "data"
      ],
      "execution_count": null,
      "outputs": [
        {
          "output_type": "execute_result",
          "data": {
            "text/plain": [
              "             u          g          r          i          z target\n",
              "0    19.240999  17.525999  16.840000  16.613001  16.492001   star\n",
              "1    19.732000  18.339001  17.767000  17.580000  17.481001   star\n",
              "2    16.120001  15.232000  14.933000  14.845000  14.827000   star\n",
              "3    18.995001  18.150999  17.877001  17.747000  17.766001   star\n",
              "4    19.032000  18.112000  17.848000  17.709999  17.712000   star\n",
              "..         ...        ...        ...        ...        ...    ...\n",
              "862  19.247000  19.047001  18.663000  18.627001  18.671000    QSO\n",
              "863  26.433001  21.429001  20.261000  20.108000  20.073000    QSO\n",
              "864  20.535999  20.200001  20.292999  19.910000  19.726000    QSO\n",
              "865  20.627001  20.583000  20.270000  20.229000  20.190001    QSO\n",
              "866  19.431000  19.228001  18.794001  18.791000  18.923000    QSO\n",
              "\n",
              "[867 rows x 6 columns]"
            ],
            "text/html": [
              "\n",
              "  <div id=\"df-26168823-2cac-47fe-aef8-fbf2382ac80a\">\n",
              "    <div class=\"colab-df-container\">\n",
              "      <div>\n",
              "<style scoped>\n",
              "    .dataframe tbody tr th:only-of-type {\n",
              "        vertical-align: middle;\n",
              "    }\n",
              "\n",
              "    .dataframe tbody tr th {\n",
              "        vertical-align: top;\n",
              "    }\n",
              "\n",
              "    .dataframe thead th {\n",
              "        text-align: right;\n",
              "    }\n",
              "</style>\n",
              "<table border=\"1\" class=\"dataframe\">\n",
              "  <thead>\n",
              "    <tr style=\"text-align: right;\">\n",
              "      <th></th>\n",
              "      <th>u</th>\n",
              "      <th>g</th>\n",
              "      <th>r</th>\n",
              "      <th>i</th>\n",
              "      <th>z</th>\n",
              "      <th>target</th>\n",
              "    </tr>\n",
              "  </thead>\n",
              "  <tbody>\n",
              "    <tr>\n",
              "      <th>0</th>\n",
              "      <td>19.240999</td>\n",
              "      <td>17.525999</td>\n",
              "      <td>16.840000</td>\n",
              "      <td>16.613001</td>\n",
              "      <td>16.492001</td>\n",
              "      <td>star</td>\n",
              "    </tr>\n",
              "    <tr>\n",
              "      <th>1</th>\n",
              "      <td>19.732000</td>\n",
              "      <td>18.339001</td>\n",
              "      <td>17.767000</td>\n",
              "      <td>17.580000</td>\n",
              "      <td>17.481001</td>\n",
              "      <td>star</td>\n",
              "    </tr>\n",
              "    <tr>\n",
              "      <th>2</th>\n",
              "      <td>16.120001</td>\n",
              "      <td>15.232000</td>\n",
              "      <td>14.933000</td>\n",
              "      <td>14.845000</td>\n",
              "      <td>14.827000</td>\n",
              "      <td>star</td>\n",
              "    </tr>\n",
              "    <tr>\n",
              "      <th>3</th>\n",
              "      <td>18.995001</td>\n",
              "      <td>18.150999</td>\n",
              "      <td>17.877001</td>\n",
              "      <td>17.747000</td>\n",
              "      <td>17.766001</td>\n",
              "      <td>star</td>\n",
              "    </tr>\n",
              "    <tr>\n",
              "      <th>4</th>\n",
              "      <td>19.032000</td>\n",
              "      <td>18.112000</td>\n",
              "      <td>17.848000</td>\n",
              "      <td>17.709999</td>\n",
              "      <td>17.712000</td>\n",
              "      <td>star</td>\n",
              "    </tr>\n",
              "    <tr>\n",
              "      <th>...</th>\n",
              "      <td>...</td>\n",
              "      <td>...</td>\n",
              "      <td>...</td>\n",
              "      <td>...</td>\n",
              "      <td>...</td>\n",
              "      <td>...</td>\n",
              "    </tr>\n",
              "    <tr>\n",
              "      <th>862</th>\n",
              "      <td>19.247000</td>\n",
              "      <td>19.047001</td>\n",
              "      <td>18.663000</td>\n",
              "      <td>18.627001</td>\n",
              "      <td>18.671000</td>\n",
              "      <td>QSO</td>\n",
              "    </tr>\n",
              "    <tr>\n",
              "      <th>863</th>\n",
              "      <td>26.433001</td>\n",
              "      <td>21.429001</td>\n",
              "      <td>20.261000</td>\n",
              "      <td>20.108000</td>\n",
              "      <td>20.073000</td>\n",
              "      <td>QSO</td>\n",
              "    </tr>\n",
              "    <tr>\n",
              "      <th>864</th>\n",
              "      <td>20.535999</td>\n",
              "      <td>20.200001</td>\n",
              "      <td>20.292999</td>\n",
              "      <td>19.910000</td>\n",
              "      <td>19.726000</td>\n",
              "      <td>QSO</td>\n",
              "    </tr>\n",
              "    <tr>\n",
              "      <th>865</th>\n",
              "      <td>20.627001</td>\n",
              "      <td>20.583000</td>\n",
              "      <td>20.270000</td>\n",
              "      <td>20.229000</td>\n",
              "      <td>20.190001</td>\n",
              "      <td>QSO</td>\n",
              "    </tr>\n",
              "    <tr>\n",
              "      <th>866</th>\n",
              "      <td>19.431000</td>\n",
              "      <td>19.228001</td>\n",
              "      <td>18.794001</td>\n",
              "      <td>18.791000</td>\n",
              "      <td>18.923000</td>\n",
              "      <td>QSO</td>\n",
              "    </tr>\n",
              "  </tbody>\n",
              "</table>\n",
              "<p>867 rows × 6 columns</p>\n",
              "</div>\n",
              "      <button class=\"colab-df-convert\" onclick=\"convertToInteractive('df-26168823-2cac-47fe-aef8-fbf2382ac80a')\"\n",
              "              title=\"Convert this dataframe to an interactive table.\"\n",
              "              style=\"display:none;\">\n",
              "        \n",
              "  <svg xmlns=\"http://www.w3.org/2000/svg\" height=\"24px\"viewBox=\"0 0 24 24\"\n",
              "       width=\"24px\">\n",
              "    <path d=\"M0 0h24v24H0V0z\" fill=\"none\"/>\n",
              "    <path d=\"M18.56 5.44l.94 2.06.94-2.06 2.06-.94-2.06-.94-.94-2.06-.94 2.06-2.06.94zm-11 1L8.5 8.5l.94-2.06 2.06-.94-2.06-.94L8.5 2.5l-.94 2.06-2.06.94zm10 10l.94 2.06.94-2.06 2.06-.94-2.06-.94-.94-2.06-.94 2.06-2.06.94z\"/><path d=\"M17.41 7.96l-1.37-1.37c-.4-.4-.92-.59-1.43-.59-.52 0-1.04.2-1.43.59L10.3 9.45l-7.72 7.72c-.78.78-.78 2.05 0 2.83L4 21.41c.39.39.9.59 1.41.59.51 0 1.02-.2 1.41-.59l7.78-7.78 2.81-2.81c.8-.78.8-2.07 0-2.86zM5.41 20L4 18.59l7.72-7.72 1.47 1.35L5.41 20z\"/>\n",
              "  </svg>\n",
              "      </button>\n",
              "      \n",
              "  <style>\n",
              "    .colab-df-container {\n",
              "      display:flex;\n",
              "      flex-wrap:wrap;\n",
              "      gap: 12px;\n",
              "    }\n",
              "\n",
              "    .colab-df-convert {\n",
              "      background-color: #E8F0FE;\n",
              "      border: none;\n",
              "      border-radius: 50%;\n",
              "      cursor: pointer;\n",
              "      display: none;\n",
              "      fill: #1967D2;\n",
              "      height: 32px;\n",
              "      padding: 0 0 0 0;\n",
              "      width: 32px;\n",
              "    }\n",
              "\n",
              "    .colab-df-convert:hover {\n",
              "      background-color: #E2EBFA;\n",
              "      box-shadow: 0px 1px 2px rgba(60, 64, 67, 0.3), 0px 1px 3px 1px rgba(60, 64, 67, 0.15);\n",
              "      fill: #174EA6;\n",
              "    }\n",
              "\n",
              "    [theme=dark] .colab-df-convert {\n",
              "      background-color: #3B4455;\n",
              "      fill: #D2E3FC;\n",
              "    }\n",
              "\n",
              "    [theme=dark] .colab-df-convert:hover {\n",
              "      background-color: #434B5C;\n",
              "      box-shadow: 0px 1px 3px 1px rgba(0, 0, 0, 0.15);\n",
              "      filter: drop-shadow(0px 1px 2px rgba(0, 0, 0, 0.3));\n",
              "      fill: #FFFFFF;\n",
              "    }\n",
              "  </style>\n",
              "\n",
              "      <script>\n",
              "        const buttonEl =\n",
              "          document.querySelector('#df-26168823-2cac-47fe-aef8-fbf2382ac80a button.colab-df-convert');\n",
              "        buttonEl.style.display =\n",
              "          google.colab.kernel.accessAllowed ? 'block' : 'none';\n",
              "\n",
              "        async function convertToInteractive(key) {\n",
              "          const element = document.querySelector('#df-26168823-2cac-47fe-aef8-fbf2382ac80a');\n",
              "          const dataTable =\n",
              "            await google.colab.kernel.invokeFunction('convertToInteractive',\n",
              "                                                     [key], {});\n",
              "          if (!dataTable) return;\n",
              "\n",
              "          const docLinkHtml = 'Like what you see? Visit the ' +\n",
              "            '<a target=\"_blank\" href=https://colab.research.google.com/notebooks/data_table.ipynb>data table notebook</a>'\n",
              "            + ' to learn more about interactive tables.';\n",
              "          element.innerHTML = '';\n",
              "          dataTable['output_type'] = 'display_data';\n",
              "          await google.colab.output.renderOutput(dataTable, element);\n",
              "          const docLink = document.createElement('div');\n",
              "          docLink.innerHTML = docLinkHtml;\n",
              "          element.appendChild(docLink);\n",
              "        }\n",
              "      </script>\n",
              "    </div>\n",
              "  </div>\n",
              "  "
            ]
          },
          "metadata": {},
          "execution_count": 4
        }
      ]
    },
    {
      "cell_type": "code",
      "metadata": {
        "colab": {
          "base_uri": "https://localhost:8080/",
          "height": 300
        },
        "id": "1Xj0KTG6oe5c",
        "outputId": "8fc97af2-181f-4be1-915c-6ae86280cff9"
      },
      "source": [
        "data.describe().round(2)"
      ],
      "execution_count": null,
      "outputs": [
        {
          "output_type": "execute_result",
          "data": {
            "text/plain": [
              "            u       g       r       i       z\n",
              "count  867.00  867.00  867.00  867.00  867.00\n",
              "mean    19.29   18.17   17.72   17.54   17.45\n",
              "std      1.39    1.33    1.35    1.37    1.38\n",
              "min     15.67   14.36   14.12   13.95   13.89\n",
              "25%     18.50   17.29   16.74   16.54   16.45\n",
              "50%     19.33   18.33   17.88   17.69   17.62\n",
              "75%     20.02   19.09   18.76   18.61   18.52\n",
              "max     26.43   25.17   21.14   20.72   20.91"
            ],
            "text/html": [
              "\n",
              "  <div id=\"df-d90cc753-2616-487b-a006-96898a978721\">\n",
              "    <div class=\"colab-df-container\">\n",
              "      <div>\n",
              "<style scoped>\n",
              "    .dataframe tbody tr th:only-of-type {\n",
              "        vertical-align: middle;\n",
              "    }\n",
              "\n",
              "    .dataframe tbody tr th {\n",
              "        vertical-align: top;\n",
              "    }\n",
              "\n",
              "    .dataframe thead th {\n",
              "        text-align: right;\n",
              "    }\n",
              "</style>\n",
              "<table border=\"1\" class=\"dataframe\">\n",
              "  <thead>\n",
              "    <tr style=\"text-align: right;\">\n",
              "      <th></th>\n",
              "      <th>u</th>\n",
              "      <th>g</th>\n",
              "      <th>r</th>\n",
              "      <th>i</th>\n",
              "      <th>z</th>\n",
              "    </tr>\n",
              "  </thead>\n",
              "  <tbody>\n",
              "    <tr>\n",
              "      <th>count</th>\n",
              "      <td>867.00</td>\n",
              "      <td>867.00</td>\n",
              "      <td>867.00</td>\n",
              "      <td>867.00</td>\n",
              "      <td>867.00</td>\n",
              "    </tr>\n",
              "    <tr>\n",
              "      <th>mean</th>\n",
              "      <td>19.29</td>\n",
              "      <td>18.17</td>\n",
              "      <td>17.72</td>\n",
              "      <td>17.54</td>\n",
              "      <td>17.45</td>\n",
              "    </tr>\n",
              "    <tr>\n",
              "      <th>std</th>\n",
              "      <td>1.39</td>\n",
              "      <td>1.33</td>\n",
              "      <td>1.35</td>\n",
              "      <td>1.37</td>\n",
              "      <td>1.38</td>\n",
              "    </tr>\n",
              "    <tr>\n",
              "      <th>min</th>\n",
              "      <td>15.67</td>\n",
              "      <td>14.36</td>\n",
              "      <td>14.12</td>\n",
              "      <td>13.95</td>\n",
              "      <td>13.89</td>\n",
              "    </tr>\n",
              "    <tr>\n",
              "      <th>25%</th>\n",
              "      <td>18.50</td>\n",
              "      <td>17.29</td>\n",
              "      <td>16.74</td>\n",
              "      <td>16.54</td>\n",
              "      <td>16.45</td>\n",
              "    </tr>\n",
              "    <tr>\n",
              "      <th>50%</th>\n",
              "      <td>19.33</td>\n",
              "      <td>18.33</td>\n",
              "      <td>17.88</td>\n",
              "      <td>17.69</td>\n",
              "      <td>17.62</td>\n",
              "    </tr>\n",
              "    <tr>\n",
              "      <th>75%</th>\n",
              "      <td>20.02</td>\n",
              "      <td>19.09</td>\n",
              "      <td>18.76</td>\n",
              "      <td>18.61</td>\n",
              "      <td>18.52</td>\n",
              "    </tr>\n",
              "    <tr>\n",
              "      <th>max</th>\n",
              "      <td>26.43</td>\n",
              "      <td>25.17</td>\n",
              "      <td>21.14</td>\n",
              "      <td>20.72</td>\n",
              "      <td>20.91</td>\n",
              "    </tr>\n",
              "  </tbody>\n",
              "</table>\n",
              "</div>\n",
              "      <button class=\"colab-df-convert\" onclick=\"convertToInteractive('df-d90cc753-2616-487b-a006-96898a978721')\"\n",
              "              title=\"Convert this dataframe to an interactive table.\"\n",
              "              style=\"display:none;\">\n",
              "        \n",
              "  <svg xmlns=\"http://www.w3.org/2000/svg\" height=\"24px\"viewBox=\"0 0 24 24\"\n",
              "       width=\"24px\">\n",
              "    <path d=\"M0 0h24v24H0V0z\" fill=\"none\"/>\n",
              "    <path d=\"M18.56 5.44l.94 2.06.94-2.06 2.06-.94-2.06-.94-.94-2.06-.94 2.06-2.06.94zm-11 1L8.5 8.5l.94-2.06 2.06-.94-2.06-.94L8.5 2.5l-.94 2.06-2.06.94zm10 10l.94 2.06.94-2.06 2.06-.94-2.06-.94-.94-2.06-.94 2.06-2.06.94z\"/><path d=\"M17.41 7.96l-1.37-1.37c-.4-.4-.92-.59-1.43-.59-.52 0-1.04.2-1.43.59L10.3 9.45l-7.72 7.72c-.78.78-.78 2.05 0 2.83L4 21.41c.39.39.9.59 1.41.59.51 0 1.02-.2 1.41-.59l7.78-7.78 2.81-2.81c.8-.78.8-2.07 0-2.86zM5.41 20L4 18.59l7.72-7.72 1.47 1.35L5.41 20z\"/>\n",
              "  </svg>\n",
              "      </button>\n",
              "      \n",
              "  <style>\n",
              "    .colab-df-container {\n",
              "      display:flex;\n",
              "      flex-wrap:wrap;\n",
              "      gap: 12px;\n",
              "    }\n",
              "\n",
              "    .colab-df-convert {\n",
              "      background-color: #E8F0FE;\n",
              "      border: none;\n",
              "      border-radius: 50%;\n",
              "      cursor: pointer;\n",
              "      display: none;\n",
              "      fill: #1967D2;\n",
              "      height: 32px;\n",
              "      padding: 0 0 0 0;\n",
              "      width: 32px;\n",
              "    }\n",
              "\n",
              "    .colab-df-convert:hover {\n",
              "      background-color: #E2EBFA;\n",
              "      box-shadow: 0px 1px 2px rgba(60, 64, 67, 0.3), 0px 1px 3px 1px rgba(60, 64, 67, 0.15);\n",
              "      fill: #174EA6;\n",
              "    }\n",
              "\n",
              "    [theme=dark] .colab-df-convert {\n",
              "      background-color: #3B4455;\n",
              "      fill: #D2E3FC;\n",
              "    }\n",
              "\n",
              "    [theme=dark] .colab-df-convert:hover {\n",
              "      background-color: #434B5C;\n",
              "      box-shadow: 0px 1px 3px 1px rgba(0, 0, 0, 0.15);\n",
              "      filter: drop-shadow(0px 1px 2px rgba(0, 0, 0, 0.3));\n",
              "      fill: #FFFFFF;\n",
              "    }\n",
              "  </style>\n",
              "\n",
              "      <script>\n",
              "        const buttonEl =\n",
              "          document.querySelector('#df-d90cc753-2616-487b-a006-96898a978721 button.colab-df-convert');\n",
              "        buttonEl.style.display =\n",
              "          google.colab.kernel.accessAllowed ? 'block' : 'none';\n",
              "\n",
              "        async function convertToInteractive(key) {\n",
              "          const element = document.querySelector('#df-d90cc753-2616-487b-a006-96898a978721');\n",
              "          const dataTable =\n",
              "            await google.colab.kernel.invokeFunction('convertToInteractive',\n",
              "                                                     [key], {});\n",
              "          if (!dataTable) return;\n",
              "\n",
              "          const docLinkHtml = 'Like what you see? Visit the ' +\n",
              "            '<a target=\"_blank\" href=https://colab.research.google.com/notebooks/data_table.ipynb>data table notebook</a>'\n",
              "            + ' to learn more about interactive tables.';\n",
              "          element.innerHTML = '';\n",
              "          dataTable['output_type'] = 'display_data';\n",
              "          await google.colab.output.renderOutput(dataTable, element);\n",
              "          const docLink = document.createElement('div');\n",
              "          docLink.innerHTML = docLinkHtml;\n",
              "          element.appendChild(docLink);\n",
              "        }\n",
              "      </script>\n",
              "    </div>\n",
              "  </div>\n",
              "  "
            ]
          },
          "metadata": {},
          "execution_count": 5
        }
      ]
    },
    {
      "cell_type": "code",
      "metadata": {
        "id": "ZVLpF-z3hmxk",
        "colab": {
          "base_uri": "https://localhost:8080/"
        },
        "outputId": "2754d569-db20-4240-b170-6f4deee60764"
      },
      "source": [
        "sum(data.target== \"star\"), sum(data.target == \"QSO\")"
      ],
      "execution_count": null,
      "outputs": [
        {
          "output_type": "execute_result",
          "data": {
            "text/plain": [
              "(655, 212)"
            ]
          },
          "metadata": {},
          "execution_count": 6
        }
      ]
    },
    {
      "cell_type": "markdown",
      "source": [
        "<img src=\"https://drive.google.com/uc?id=1gFQWdyFW_TRVtlR4PZLAShDvdF9HGgpp\" width=\"850px\" align=\"left\">"
      ],
      "metadata": {
        "id": "A-YaeLoEQAfP"
      }
    },
    {
      "cell_type": "markdown",
      "metadata": {
        "id": "6iO4-7kC79Kz"
      },
      "source": [
        "### task 1: **create `X` and `y`**\n",
        "\n",
        "```python\n",
        "data[[\"u\",\"g\",\"r\",\"i\",\"z\"]] -> X\n",
        "data[\"target\"] -> y\n",
        "\"QSO\" -> 0\n",
        "\"star\" -> 1\n",
        "```\n",
        "\n",
        "hint: you can use [LabelEncoder()](https://scikit-learn.org/stable/modules/generated/sklearn.preprocessing.LabelEncoder.html)\n"
      ]
    },
    {
      "cell_type": "code",
      "source": [
        "from sklearn.preprocessing import LabelEncoder"
      ],
      "metadata": {
        "id": "k-2znzpEurJs"
      },
      "execution_count": null,
      "outputs": []
    },
    {
      "cell_type": "code",
      "metadata": {
        "colab": {
          "base_uri": "https://localhost:8080/",
          "height": 424
        },
        "id": "mTSxvZPF77kZ",
        "outputId": "14be23a0-a744-4679-e5b5-d498cbff14e9"
      },
      "source": [
        "X = data[[\"u\",\"g\",\"r\",\"i\",\"z\"]]\n",
        "X"
      ],
      "execution_count": null,
      "outputs": [
        {
          "output_type": "execute_result",
          "data": {
            "text/plain": [
              "             u          g          r          i          z\n",
              "0    19.240999  17.525999  16.840000  16.613001  16.492001\n",
              "1    19.732000  18.339001  17.767000  17.580000  17.481001\n",
              "2    16.120001  15.232000  14.933000  14.845000  14.827000\n",
              "3    18.995001  18.150999  17.877001  17.747000  17.766001\n",
              "4    19.032000  18.112000  17.848000  17.709999  17.712000\n",
              "..         ...        ...        ...        ...        ...\n",
              "862  19.247000  19.047001  18.663000  18.627001  18.671000\n",
              "863  26.433001  21.429001  20.261000  20.108000  20.073000\n",
              "864  20.535999  20.200001  20.292999  19.910000  19.726000\n",
              "865  20.627001  20.583000  20.270000  20.229000  20.190001\n",
              "866  19.431000  19.228001  18.794001  18.791000  18.923000\n",
              "\n",
              "[867 rows x 5 columns]"
            ],
            "text/html": [
              "\n",
              "  <div id=\"df-b28d4614-f118-415f-9bec-62c7730cc3b6\">\n",
              "    <div class=\"colab-df-container\">\n",
              "      <div>\n",
              "<style scoped>\n",
              "    .dataframe tbody tr th:only-of-type {\n",
              "        vertical-align: middle;\n",
              "    }\n",
              "\n",
              "    .dataframe tbody tr th {\n",
              "        vertical-align: top;\n",
              "    }\n",
              "\n",
              "    .dataframe thead th {\n",
              "        text-align: right;\n",
              "    }\n",
              "</style>\n",
              "<table border=\"1\" class=\"dataframe\">\n",
              "  <thead>\n",
              "    <tr style=\"text-align: right;\">\n",
              "      <th></th>\n",
              "      <th>u</th>\n",
              "      <th>g</th>\n",
              "      <th>r</th>\n",
              "      <th>i</th>\n",
              "      <th>z</th>\n",
              "    </tr>\n",
              "  </thead>\n",
              "  <tbody>\n",
              "    <tr>\n",
              "      <th>0</th>\n",
              "      <td>19.240999</td>\n",
              "      <td>17.525999</td>\n",
              "      <td>16.840000</td>\n",
              "      <td>16.613001</td>\n",
              "      <td>16.492001</td>\n",
              "    </tr>\n",
              "    <tr>\n",
              "      <th>1</th>\n",
              "      <td>19.732000</td>\n",
              "      <td>18.339001</td>\n",
              "      <td>17.767000</td>\n",
              "      <td>17.580000</td>\n",
              "      <td>17.481001</td>\n",
              "    </tr>\n",
              "    <tr>\n",
              "      <th>2</th>\n",
              "      <td>16.120001</td>\n",
              "      <td>15.232000</td>\n",
              "      <td>14.933000</td>\n",
              "      <td>14.845000</td>\n",
              "      <td>14.827000</td>\n",
              "    </tr>\n",
              "    <tr>\n",
              "      <th>3</th>\n",
              "      <td>18.995001</td>\n",
              "      <td>18.150999</td>\n",
              "      <td>17.877001</td>\n",
              "      <td>17.747000</td>\n",
              "      <td>17.766001</td>\n",
              "    </tr>\n",
              "    <tr>\n",
              "      <th>4</th>\n",
              "      <td>19.032000</td>\n",
              "      <td>18.112000</td>\n",
              "      <td>17.848000</td>\n",
              "      <td>17.709999</td>\n",
              "      <td>17.712000</td>\n",
              "    </tr>\n",
              "    <tr>\n",
              "      <th>...</th>\n",
              "      <td>...</td>\n",
              "      <td>...</td>\n",
              "      <td>...</td>\n",
              "      <td>...</td>\n",
              "      <td>...</td>\n",
              "    </tr>\n",
              "    <tr>\n",
              "      <th>862</th>\n",
              "      <td>19.247000</td>\n",
              "      <td>19.047001</td>\n",
              "      <td>18.663000</td>\n",
              "      <td>18.627001</td>\n",
              "      <td>18.671000</td>\n",
              "    </tr>\n",
              "    <tr>\n",
              "      <th>863</th>\n",
              "      <td>26.433001</td>\n",
              "      <td>21.429001</td>\n",
              "      <td>20.261000</td>\n",
              "      <td>20.108000</td>\n",
              "      <td>20.073000</td>\n",
              "    </tr>\n",
              "    <tr>\n",
              "      <th>864</th>\n",
              "      <td>20.535999</td>\n",
              "      <td>20.200001</td>\n",
              "      <td>20.292999</td>\n",
              "      <td>19.910000</td>\n",
              "      <td>19.726000</td>\n",
              "    </tr>\n",
              "    <tr>\n",
              "      <th>865</th>\n",
              "      <td>20.627001</td>\n",
              "      <td>20.583000</td>\n",
              "      <td>20.270000</td>\n",
              "      <td>20.229000</td>\n",
              "      <td>20.190001</td>\n",
              "    </tr>\n",
              "    <tr>\n",
              "      <th>866</th>\n",
              "      <td>19.431000</td>\n",
              "      <td>19.228001</td>\n",
              "      <td>18.794001</td>\n",
              "      <td>18.791000</td>\n",
              "      <td>18.923000</td>\n",
              "    </tr>\n",
              "  </tbody>\n",
              "</table>\n",
              "<p>867 rows × 5 columns</p>\n",
              "</div>\n",
              "      <button class=\"colab-df-convert\" onclick=\"convertToInteractive('df-b28d4614-f118-415f-9bec-62c7730cc3b6')\"\n",
              "              title=\"Convert this dataframe to an interactive table.\"\n",
              "              style=\"display:none;\">\n",
              "        \n",
              "  <svg xmlns=\"http://www.w3.org/2000/svg\" height=\"24px\"viewBox=\"0 0 24 24\"\n",
              "       width=\"24px\">\n",
              "    <path d=\"M0 0h24v24H0V0z\" fill=\"none\"/>\n",
              "    <path d=\"M18.56 5.44l.94 2.06.94-2.06 2.06-.94-2.06-.94-.94-2.06-.94 2.06-2.06.94zm-11 1L8.5 8.5l.94-2.06 2.06-.94-2.06-.94L8.5 2.5l-.94 2.06-2.06.94zm10 10l.94 2.06.94-2.06 2.06-.94-2.06-.94-.94-2.06-.94 2.06-2.06.94z\"/><path d=\"M17.41 7.96l-1.37-1.37c-.4-.4-.92-.59-1.43-.59-.52 0-1.04.2-1.43.59L10.3 9.45l-7.72 7.72c-.78.78-.78 2.05 0 2.83L4 21.41c.39.39.9.59 1.41.59.51 0 1.02-.2 1.41-.59l7.78-7.78 2.81-2.81c.8-.78.8-2.07 0-2.86zM5.41 20L4 18.59l7.72-7.72 1.47 1.35L5.41 20z\"/>\n",
              "  </svg>\n",
              "      </button>\n",
              "      \n",
              "  <style>\n",
              "    .colab-df-container {\n",
              "      display:flex;\n",
              "      flex-wrap:wrap;\n",
              "      gap: 12px;\n",
              "    }\n",
              "\n",
              "    .colab-df-convert {\n",
              "      background-color: #E8F0FE;\n",
              "      border: none;\n",
              "      border-radius: 50%;\n",
              "      cursor: pointer;\n",
              "      display: none;\n",
              "      fill: #1967D2;\n",
              "      height: 32px;\n",
              "      padding: 0 0 0 0;\n",
              "      width: 32px;\n",
              "    }\n",
              "\n",
              "    .colab-df-convert:hover {\n",
              "      background-color: #E2EBFA;\n",
              "      box-shadow: 0px 1px 2px rgba(60, 64, 67, 0.3), 0px 1px 3px 1px rgba(60, 64, 67, 0.15);\n",
              "      fill: #174EA6;\n",
              "    }\n",
              "\n",
              "    [theme=dark] .colab-df-convert {\n",
              "      background-color: #3B4455;\n",
              "      fill: #D2E3FC;\n",
              "    }\n",
              "\n",
              "    [theme=dark] .colab-df-convert:hover {\n",
              "      background-color: #434B5C;\n",
              "      box-shadow: 0px 1px 3px 1px rgba(0, 0, 0, 0.15);\n",
              "      filter: drop-shadow(0px 1px 2px rgba(0, 0, 0, 0.3));\n",
              "      fill: #FFFFFF;\n",
              "    }\n",
              "  </style>\n",
              "\n",
              "      <script>\n",
              "        const buttonEl =\n",
              "          document.querySelector('#df-b28d4614-f118-415f-9bec-62c7730cc3b6 button.colab-df-convert');\n",
              "        buttonEl.style.display =\n",
              "          google.colab.kernel.accessAllowed ? 'block' : 'none';\n",
              "\n",
              "        async function convertToInteractive(key) {\n",
              "          const element = document.querySelector('#df-b28d4614-f118-415f-9bec-62c7730cc3b6');\n",
              "          const dataTable =\n",
              "            await google.colab.kernel.invokeFunction('convertToInteractive',\n",
              "                                                     [key], {});\n",
              "          if (!dataTable) return;\n",
              "\n",
              "          const docLinkHtml = 'Like what you see? Visit the ' +\n",
              "            '<a target=\"_blank\" href=https://colab.research.google.com/notebooks/data_table.ipynb>data table notebook</a>'\n",
              "            + ' to learn more about interactive tables.';\n",
              "          element.innerHTML = '';\n",
              "          dataTable['output_type'] = 'display_data';\n",
              "          await google.colab.output.renderOutput(dataTable, element);\n",
              "          const docLink = document.createElement('div');\n",
              "          docLink.innerHTML = docLinkHtml;\n",
              "          element.appendChild(docLink);\n",
              "        }\n",
              "      </script>\n",
              "    </div>\n",
              "  </div>\n",
              "  "
            ]
          },
          "metadata": {},
          "execution_count": 8
        }
      ]
    },
    {
      "cell_type": "code",
      "metadata": {
        "colab": {
          "base_uri": "https://localhost:8080/"
        },
        "id": "wdjrBi_U8ilA",
        "outputId": "1d132edd-3795-4415-869e-c52f0f3bca66"
      },
      "source": [
        "y = np.array(data.target == \"star\").astype(int)\n",
        "y"
      ],
      "execution_count": null,
      "outputs": [
        {
          "output_type": "execute_result",
          "data": {
            "text/plain": [
              "array([1, 1, 1, 1, 1, 1, 1, 1, 1, 1, 1, 1, 1, 1, 1, 1, 1, 1, 1, 1, 1, 1,\n",
              "       1, 1, 1, 1, 1, 1, 1, 1, 1, 1, 1, 1, 1, 1, 1, 1, 1, 1, 1, 1, 1, 1,\n",
              "       1, 1, 1, 1, 1, 1, 1, 1, 1, 1, 1, 1, 1, 1, 1, 1, 1, 1, 1, 1, 1, 1,\n",
              "       1, 1, 1, 1, 1, 1, 1, 1, 1, 1, 1, 1, 1, 1, 1, 1, 1, 1, 1, 1, 1, 1,\n",
              "       1, 1, 1, 1, 1, 1, 1, 1, 1, 1, 1, 1, 1, 1, 1, 1, 1, 1, 1, 1, 1, 1,\n",
              "       1, 1, 1, 1, 1, 1, 1, 1, 1, 1, 1, 1, 1, 1, 1, 1, 1, 1, 1, 1, 1, 1,\n",
              "       1, 1, 1, 1, 1, 1, 1, 1, 1, 1, 1, 1, 1, 1, 1, 1, 1, 1, 1, 1, 1, 1,\n",
              "       1, 1, 1, 1, 1, 1, 1, 1, 1, 1, 1, 1, 1, 1, 1, 1, 1, 1, 1, 1, 1, 1,\n",
              "       1, 1, 1, 1, 1, 1, 1, 1, 1, 1, 1, 1, 1, 1, 1, 1, 1, 1, 1, 1, 1, 1,\n",
              "       1, 1, 1, 1, 1, 1, 1, 1, 1, 1, 1, 1, 1, 1, 1, 1, 1, 1, 1, 1, 1, 1,\n",
              "       1, 1, 1, 1, 1, 1, 1, 1, 1, 1, 1, 1, 1, 1, 1, 1, 1, 1, 1, 1, 1, 1,\n",
              "       1, 1, 1, 1, 1, 1, 1, 1, 1, 1, 1, 1, 1, 1, 1, 1, 1, 1, 1, 1, 1, 1,\n",
              "       1, 1, 1, 1, 1, 1, 1, 1, 1, 1, 1, 1, 1, 1, 1, 1, 1, 1, 1, 1, 1, 1,\n",
              "       1, 1, 1, 1, 1, 1, 1, 1, 1, 1, 1, 1, 1, 1, 1, 1, 1, 1, 1, 1, 1, 1,\n",
              "       1, 1, 1, 1, 1, 1, 1, 1, 1, 1, 1, 1, 1, 1, 1, 1, 1, 1, 1, 1, 1, 1,\n",
              "       1, 1, 1, 1, 1, 1, 1, 1, 1, 1, 1, 1, 1, 1, 1, 1, 1, 1, 1, 1, 1, 1,\n",
              "       1, 1, 1, 1, 1, 1, 1, 1, 1, 1, 1, 1, 1, 1, 1, 1, 1, 1, 1, 1, 1, 1,\n",
              "       1, 1, 1, 1, 1, 1, 1, 1, 1, 1, 1, 1, 1, 1, 1, 1, 1, 1, 1, 1, 1, 1,\n",
              "       1, 1, 1, 1, 1, 1, 1, 1, 1, 1, 1, 1, 1, 1, 1, 1, 1, 1, 1, 1, 1, 1,\n",
              "       1, 1, 1, 1, 1, 1, 1, 1, 1, 1, 1, 1, 1, 1, 1, 1, 1, 1, 1, 1, 1, 1,\n",
              "       1, 1, 1, 1, 1, 1, 1, 1, 1, 1, 1, 1, 1, 1, 1, 1, 1, 1, 1, 1, 1, 1,\n",
              "       1, 1, 1, 1, 1, 1, 1, 1, 1, 1, 1, 1, 1, 1, 1, 1, 1, 1, 1, 1, 1, 1,\n",
              "       1, 1, 1, 1, 1, 1, 1, 1, 1, 1, 1, 1, 1, 1, 1, 1, 1, 1, 1, 1, 1, 1,\n",
              "       1, 1, 1, 1, 1, 1, 1, 1, 1, 1, 1, 1, 1, 1, 1, 1, 1, 1, 1, 1, 1, 1,\n",
              "       1, 1, 1, 1, 1, 1, 1, 1, 1, 1, 1, 1, 1, 1, 1, 1, 1, 1, 1, 1, 1, 1,\n",
              "       1, 1, 1, 1, 1, 1, 1, 1, 1, 1, 1, 1, 1, 1, 1, 1, 1, 1, 1, 1, 1, 1,\n",
              "       1, 1, 1, 1, 1, 1, 1, 1, 1, 1, 1, 1, 1, 1, 1, 1, 1, 1, 1, 1, 1, 1,\n",
              "       1, 1, 1, 1, 1, 1, 1, 1, 1, 1, 1, 1, 1, 1, 1, 1, 1, 1, 1, 1, 1, 1,\n",
              "       1, 1, 1, 1, 1, 1, 1, 1, 1, 1, 1, 1, 1, 1, 1, 1, 1, 1, 1, 1, 1, 1,\n",
              "       1, 1, 1, 1, 1, 1, 1, 1, 1, 1, 1, 1, 1, 1, 1, 1, 1, 0, 0, 0, 0, 0,\n",
              "       0, 0, 0, 0, 0, 0, 0, 0, 0, 0, 0, 0, 0, 0, 0, 0, 0, 0, 0, 0, 0, 0,\n",
              "       0, 0, 0, 0, 0, 0, 0, 0, 0, 0, 0, 0, 0, 0, 0, 0, 0, 0, 0, 0, 0, 0,\n",
              "       0, 0, 0, 0, 0, 0, 0, 0, 0, 0, 0, 0, 0, 0, 0, 0, 0, 0, 0, 0, 0, 0,\n",
              "       0, 0, 0, 0, 0, 0, 0, 0, 0, 0, 0, 0, 0, 0, 0, 0, 0, 0, 0, 0, 0, 0,\n",
              "       0, 0, 0, 0, 0, 0, 0, 0, 0, 0, 0, 0, 0, 0, 0, 0, 0, 0, 0, 0, 0, 0,\n",
              "       0, 0, 0, 0, 0, 0, 0, 0, 0, 0, 0, 0, 0, 0, 0, 0, 0, 0, 0, 0, 0, 0,\n",
              "       0, 0, 0, 0, 0, 0, 0, 0, 0, 0, 0, 0, 0, 0, 0, 0, 0, 0, 0, 0, 0, 0,\n",
              "       0, 0, 0, 0, 0, 0, 0, 0, 0, 0, 0, 0, 0, 0, 0, 0, 0, 0, 0, 0, 0, 0,\n",
              "       0, 0, 0, 0, 0, 0, 0, 0, 0, 0, 0, 0, 0, 0, 0, 0, 0, 0, 0, 0, 0, 0,\n",
              "       0, 0, 0, 0, 0, 0, 0, 0, 0])"
            ]
          },
          "metadata": {},
          "execution_count": 9
        }
      ]
    },
    {
      "cell_type": "code",
      "metadata": {
        "colab": {
          "base_uri": "https://localhost:8080/"
        },
        "id": "3shTgaecWYO5",
        "outputId": "204db7e3-a023-41d1-ef88-347703fed61e"
      },
      "source": [
        "le = LabelEncoder()\n",
        "# le.fit(data.target)\n",
        "# y = le.transform(data.target)\n",
        "y = le.fit_transform(data.target)\n",
        "y"
      ],
      "execution_count": null,
      "outputs": [
        {
          "output_type": "execute_result",
          "data": {
            "text/plain": [
              "array([1, 1, 1, 1, 1, 1, 1, 1, 1, 1, 1, 1, 1, 1, 1, 1, 1, 1, 1, 1, 1, 1,\n",
              "       1, 1, 1, 1, 1, 1, 1, 1, 1, 1, 1, 1, 1, 1, 1, 1, 1, 1, 1, 1, 1, 1,\n",
              "       1, 1, 1, 1, 1, 1, 1, 1, 1, 1, 1, 1, 1, 1, 1, 1, 1, 1, 1, 1, 1, 1,\n",
              "       1, 1, 1, 1, 1, 1, 1, 1, 1, 1, 1, 1, 1, 1, 1, 1, 1, 1, 1, 1, 1, 1,\n",
              "       1, 1, 1, 1, 1, 1, 1, 1, 1, 1, 1, 1, 1, 1, 1, 1, 1, 1, 1, 1, 1, 1,\n",
              "       1, 1, 1, 1, 1, 1, 1, 1, 1, 1, 1, 1, 1, 1, 1, 1, 1, 1, 1, 1, 1, 1,\n",
              "       1, 1, 1, 1, 1, 1, 1, 1, 1, 1, 1, 1, 1, 1, 1, 1, 1, 1, 1, 1, 1, 1,\n",
              "       1, 1, 1, 1, 1, 1, 1, 1, 1, 1, 1, 1, 1, 1, 1, 1, 1, 1, 1, 1, 1, 1,\n",
              "       1, 1, 1, 1, 1, 1, 1, 1, 1, 1, 1, 1, 1, 1, 1, 1, 1, 1, 1, 1, 1, 1,\n",
              "       1, 1, 1, 1, 1, 1, 1, 1, 1, 1, 1, 1, 1, 1, 1, 1, 1, 1, 1, 1, 1, 1,\n",
              "       1, 1, 1, 1, 1, 1, 1, 1, 1, 1, 1, 1, 1, 1, 1, 1, 1, 1, 1, 1, 1, 1,\n",
              "       1, 1, 1, 1, 1, 1, 1, 1, 1, 1, 1, 1, 1, 1, 1, 1, 1, 1, 1, 1, 1, 1,\n",
              "       1, 1, 1, 1, 1, 1, 1, 1, 1, 1, 1, 1, 1, 1, 1, 1, 1, 1, 1, 1, 1, 1,\n",
              "       1, 1, 1, 1, 1, 1, 1, 1, 1, 1, 1, 1, 1, 1, 1, 1, 1, 1, 1, 1, 1, 1,\n",
              "       1, 1, 1, 1, 1, 1, 1, 1, 1, 1, 1, 1, 1, 1, 1, 1, 1, 1, 1, 1, 1, 1,\n",
              "       1, 1, 1, 1, 1, 1, 1, 1, 1, 1, 1, 1, 1, 1, 1, 1, 1, 1, 1, 1, 1, 1,\n",
              "       1, 1, 1, 1, 1, 1, 1, 1, 1, 1, 1, 1, 1, 1, 1, 1, 1, 1, 1, 1, 1, 1,\n",
              "       1, 1, 1, 1, 1, 1, 1, 1, 1, 1, 1, 1, 1, 1, 1, 1, 1, 1, 1, 1, 1, 1,\n",
              "       1, 1, 1, 1, 1, 1, 1, 1, 1, 1, 1, 1, 1, 1, 1, 1, 1, 1, 1, 1, 1, 1,\n",
              "       1, 1, 1, 1, 1, 1, 1, 1, 1, 1, 1, 1, 1, 1, 1, 1, 1, 1, 1, 1, 1, 1,\n",
              "       1, 1, 1, 1, 1, 1, 1, 1, 1, 1, 1, 1, 1, 1, 1, 1, 1, 1, 1, 1, 1, 1,\n",
              "       1, 1, 1, 1, 1, 1, 1, 1, 1, 1, 1, 1, 1, 1, 1, 1, 1, 1, 1, 1, 1, 1,\n",
              "       1, 1, 1, 1, 1, 1, 1, 1, 1, 1, 1, 1, 1, 1, 1, 1, 1, 1, 1, 1, 1, 1,\n",
              "       1, 1, 1, 1, 1, 1, 1, 1, 1, 1, 1, 1, 1, 1, 1, 1, 1, 1, 1, 1, 1, 1,\n",
              "       1, 1, 1, 1, 1, 1, 1, 1, 1, 1, 1, 1, 1, 1, 1, 1, 1, 1, 1, 1, 1, 1,\n",
              "       1, 1, 1, 1, 1, 1, 1, 1, 1, 1, 1, 1, 1, 1, 1, 1, 1, 1, 1, 1, 1, 1,\n",
              "       1, 1, 1, 1, 1, 1, 1, 1, 1, 1, 1, 1, 1, 1, 1, 1, 1, 1, 1, 1, 1, 1,\n",
              "       1, 1, 1, 1, 1, 1, 1, 1, 1, 1, 1, 1, 1, 1, 1, 1, 1, 1, 1, 1, 1, 1,\n",
              "       1, 1, 1, 1, 1, 1, 1, 1, 1, 1, 1, 1, 1, 1, 1, 1, 1, 1, 1, 1, 1, 1,\n",
              "       1, 1, 1, 1, 1, 1, 1, 1, 1, 1, 1, 1, 1, 1, 1, 1, 1, 0, 0, 0, 0, 0,\n",
              "       0, 0, 0, 0, 0, 0, 0, 0, 0, 0, 0, 0, 0, 0, 0, 0, 0, 0, 0, 0, 0, 0,\n",
              "       0, 0, 0, 0, 0, 0, 0, 0, 0, 0, 0, 0, 0, 0, 0, 0, 0, 0, 0, 0, 0, 0,\n",
              "       0, 0, 0, 0, 0, 0, 0, 0, 0, 0, 0, 0, 0, 0, 0, 0, 0, 0, 0, 0, 0, 0,\n",
              "       0, 0, 0, 0, 0, 0, 0, 0, 0, 0, 0, 0, 0, 0, 0, 0, 0, 0, 0, 0, 0, 0,\n",
              "       0, 0, 0, 0, 0, 0, 0, 0, 0, 0, 0, 0, 0, 0, 0, 0, 0, 0, 0, 0, 0, 0,\n",
              "       0, 0, 0, 0, 0, 0, 0, 0, 0, 0, 0, 0, 0, 0, 0, 0, 0, 0, 0, 0, 0, 0,\n",
              "       0, 0, 0, 0, 0, 0, 0, 0, 0, 0, 0, 0, 0, 0, 0, 0, 0, 0, 0, 0, 0, 0,\n",
              "       0, 0, 0, 0, 0, 0, 0, 0, 0, 0, 0, 0, 0, 0, 0, 0, 0, 0, 0, 0, 0, 0,\n",
              "       0, 0, 0, 0, 0, 0, 0, 0, 0, 0, 0, 0, 0, 0, 0, 0, 0, 0, 0, 0, 0, 0,\n",
              "       0, 0, 0, 0, 0, 0, 0, 0, 0])"
            ]
          },
          "metadata": {},
          "execution_count": 10
        }
      ]
    },
    {
      "cell_type": "code",
      "source": [
        "le.inverse_transform([0,1])"
      ],
      "metadata": {
        "id": "-HZSY2BqRFLI",
        "outputId": "283d3e09-9982-4674-ac9f-f83dc6979637",
        "colab": {
          "base_uri": "https://localhost:8080/"
        }
      },
      "execution_count": null,
      "outputs": [
        {
          "output_type": "execute_result",
          "data": {
            "text/plain": [
              "array(['QSO', 'star'], dtype=object)"
            ]
          },
          "metadata": {},
          "execution_count": 11
        }
      ]
    },
    {
      "cell_type": "markdown",
      "metadata": {
        "id": "seZZJbZ0A7dk"
      },
      "source": [
        "### task 2: **split the data (9:1), train a linear [Support Vector Classifier (SVC)](https://scikit-learn.org/stable/modules/generated/sklearn.svm.SVC.html) & test its accuracy**\n",
        "\n",
        "![](https://scikit-learn.org/stable/_images/sphx_glr_plot_svm_margin_002.png)"
      ]
    },
    {
      "cell_type": "code",
      "metadata": {
        "id": "1TLjQ7rHWeRM"
      },
      "source": [
        "from sklearn.svm import SVC\n",
        "from sklearn.model_selection import train_test_split\n",
        "\n",
        "model = SVC(kernel=\"linear\")"
      ],
      "execution_count": null,
      "outputs": []
    },
    {
      "cell_type": "code",
      "metadata": {
        "id": "3R9OArBLAefy"
      },
      "source": [
        "X_train, X_test, y_train, y_test = train_test_split(X, y, test_size=0.1, stratify=y, random_state=420)"
      ],
      "execution_count": null,
      "outputs": []
    },
    {
      "cell_type": "code",
      "metadata": {
        "colab": {
          "base_uri": "https://localhost:8080/"
        },
        "id": "-6b4RklvAsmm",
        "outputId": "7f6255c7-858e-4c55-8e05-25cc84a17d15"
      },
      "source": [
        "model.fit(X_train, y_train)"
      ],
      "execution_count": null,
      "outputs": [
        {
          "output_type": "execute_result",
          "data": {
            "text/plain": [
              "SVC(kernel='linear')"
            ]
          },
          "metadata": {},
          "execution_count": 14
        }
      ]
    },
    {
      "cell_type": "code",
      "metadata": {
        "colab": {
          "base_uri": "https://localhost:8080/"
        },
        "id": "RLPt5jOwB2eQ",
        "outputId": "dc3b1f8d-659e-481d-c5f0-0c45fa718e1f"
      },
      "source": [
        "y_pred = model.predict(X_test)\n",
        "sum(y_pred == y_test) / len(y_pred)"
      ],
      "execution_count": null,
      "outputs": [
        {
          "output_type": "execute_result",
          "data": {
            "text/plain": [
              "0.9425287356321839"
            ]
          },
          "metadata": {},
          "execution_count": 15
        }
      ]
    },
    {
      "cell_type": "code",
      "metadata": {
        "colab": {
          "base_uri": "https://localhost:8080/"
        },
        "id": "nfBlkYhcBKAK",
        "outputId": "e742d040-2bba-469b-c399-c0e3e3a9d531"
      },
      "source": [
        "model.score(X_test, y_test)"
      ],
      "execution_count": null,
      "outputs": [
        {
          "output_type": "execute_result",
          "data": {
            "text/plain": [
              "0.9425287356321839"
            ]
          },
          "metadata": {},
          "execution_count": 16
        }
      ]
    },
    {
      "cell_type": "markdown",
      "metadata": {
        "id": "l3wPRpSa-0S0"
      },
      "source": [
        "### task 3: **rescale the data -> `X_scaled` & test score**\n",
        "\n",
        "note: the data were already transformed from fluxes to magnitudes `m = -log10(F)`\n",
        "\n",
        "```python\n",
        "X_scaled = (X - μ) / σ\n",
        "```\n",
        "\n",
        "hint: you can use [`StandardScaler()`](https://scikit-learn.org/stable/modules/generated/sklearn.preprocessing.StandardScaler.html)"
      ]
    },
    {
      "cell_type": "code",
      "source": [
        "from sklearn.preprocessing import StandardScaler"
      ],
      "metadata": {
        "id": "ruGTy4vh_0IH"
      },
      "execution_count": null,
      "outputs": []
    },
    {
      "cell_type": "code",
      "metadata": {
        "colab": {
          "base_uri": "https://localhost:8080/"
        },
        "id": "CWBDavYmVNdp",
        "outputId": "22b64446-01d1-4d46-9309-a14932f1ae1e"
      },
      "source": [
        "X_scaled = StandardScaler().fit_transform(X)\n",
        "X_scaled"
      ],
      "execution_count": null,
      "outputs": [
        {
          "output_type": "execute_result",
          "data": {
            "text/plain": [
              "array([[-0.03431629, -0.48472471, -0.64808566, -0.67580301, -0.69718857],\n",
              "       [ 0.31930584,  0.12473607,  0.03656377,  0.03011821,  0.0203667 ],\n",
              "       [-2.28207913, -2.20440421, -2.05652877, -1.9664652 , -1.90520657],\n",
              "       ...,\n",
              "       [ 0.89835098,  1.51982126,  1.90217729,  1.73104683,  1.64919409],\n",
              "       [ 0.96389084,  1.806934  ,  1.88519118,  1.96392093,  1.98584328],\n",
              "       [ 0.1025233 ,  0.79116842,  0.79506994,  0.91416343,  1.0665891 ]])"
            ]
          },
          "metadata": {},
          "execution_count": 18
        }
      ]
    },
    {
      "cell_type": "code",
      "source": [
        "X_scaled = pd.DataFrame(data=X_scaled, columns=X.columns)\n",
        "X_scaled.describe().round(2)"
      ],
      "metadata": {
        "colab": {
          "base_uri": "https://localhost:8080/",
          "height": 300
        },
        "id": "qI3Pj4uXhQlY",
        "outputId": "78d5a608-a3b9-46d7-c733-e0e35b6f8129"
      },
      "execution_count": null,
      "outputs": [
        {
          "output_type": "execute_result",
          "data": {
            "text/plain": [
              "            u       g       r       i       z\n",
              "count  867.00  867.00  867.00  867.00  867.00\n",
              "mean    -0.00    0.00   -0.00   -0.00   -0.00\n",
              "std      1.00    1.00    1.00    1.00    1.00\n",
              "min     -2.61   -2.86   -2.65   -2.62   -2.59\n",
              "25%     -0.57   -0.66   -0.72   -0.73   -0.73\n",
              "50%      0.03    0.12    0.12    0.11    0.12\n",
              "75%      0.53    0.69    0.77    0.78    0.77\n",
              "max      5.15    5.24    2.52    2.32    2.51"
            ],
            "text/html": [
              "\n",
              "  <div id=\"df-8407dd3f-cf10-4ed4-a611-a27071b5d124\">\n",
              "    <div class=\"colab-df-container\">\n",
              "      <div>\n",
              "<style scoped>\n",
              "    .dataframe tbody tr th:only-of-type {\n",
              "        vertical-align: middle;\n",
              "    }\n",
              "\n",
              "    .dataframe tbody tr th {\n",
              "        vertical-align: top;\n",
              "    }\n",
              "\n",
              "    .dataframe thead th {\n",
              "        text-align: right;\n",
              "    }\n",
              "</style>\n",
              "<table border=\"1\" class=\"dataframe\">\n",
              "  <thead>\n",
              "    <tr style=\"text-align: right;\">\n",
              "      <th></th>\n",
              "      <th>u</th>\n",
              "      <th>g</th>\n",
              "      <th>r</th>\n",
              "      <th>i</th>\n",
              "      <th>z</th>\n",
              "    </tr>\n",
              "  </thead>\n",
              "  <tbody>\n",
              "    <tr>\n",
              "      <th>count</th>\n",
              "      <td>867.00</td>\n",
              "      <td>867.00</td>\n",
              "      <td>867.00</td>\n",
              "      <td>867.00</td>\n",
              "      <td>867.00</td>\n",
              "    </tr>\n",
              "    <tr>\n",
              "      <th>mean</th>\n",
              "      <td>-0.00</td>\n",
              "      <td>0.00</td>\n",
              "      <td>-0.00</td>\n",
              "      <td>-0.00</td>\n",
              "      <td>-0.00</td>\n",
              "    </tr>\n",
              "    <tr>\n",
              "      <th>std</th>\n",
              "      <td>1.00</td>\n",
              "      <td>1.00</td>\n",
              "      <td>1.00</td>\n",
              "      <td>1.00</td>\n",
              "      <td>1.00</td>\n",
              "    </tr>\n",
              "    <tr>\n",
              "      <th>min</th>\n",
              "      <td>-2.61</td>\n",
              "      <td>-2.86</td>\n",
              "      <td>-2.65</td>\n",
              "      <td>-2.62</td>\n",
              "      <td>-2.59</td>\n",
              "    </tr>\n",
              "    <tr>\n",
              "      <th>25%</th>\n",
              "      <td>-0.57</td>\n",
              "      <td>-0.66</td>\n",
              "      <td>-0.72</td>\n",
              "      <td>-0.73</td>\n",
              "      <td>-0.73</td>\n",
              "    </tr>\n",
              "    <tr>\n",
              "      <th>50%</th>\n",
              "      <td>0.03</td>\n",
              "      <td>0.12</td>\n",
              "      <td>0.12</td>\n",
              "      <td>0.11</td>\n",
              "      <td>0.12</td>\n",
              "    </tr>\n",
              "    <tr>\n",
              "      <th>75%</th>\n",
              "      <td>0.53</td>\n",
              "      <td>0.69</td>\n",
              "      <td>0.77</td>\n",
              "      <td>0.78</td>\n",
              "      <td>0.77</td>\n",
              "    </tr>\n",
              "    <tr>\n",
              "      <th>max</th>\n",
              "      <td>5.15</td>\n",
              "      <td>5.24</td>\n",
              "      <td>2.52</td>\n",
              "      <td>2.32</td>\n",
              "      <td>2.51</td>\n",
              "    </tr>\n",
              "  </tbody>\n",
              "</table>\n",
              "</div>\n",
              "      <button class=\"colab-df-convert\" onclick=\"convertToInteractive('df-8407dd3f-cf10-4ed4-a611-a27071b5d124')\"\n",
              "              title=\"Convert this dataframe to an interactive table.\"\n",
              "              style=\"display:none;\">\n",
              "        \n",
              "  <svg xmlns=\"http://www.w3.org/2000/svg\" height=\"24px\"viewBox=\"0 0 24 24\"\n",
              "       width=\"24px\">\n",
              "    <path d=\"M0 0h24v24H0V0z\" fill=\"none\"/>\n",
              "    <path d=\"M18.56 5.44l.94 2.06.94-2.06 2.06-.94-2.06-.94-.94-2.06-.94 2.06-2.06.94zm-11 1L8.5 8.5l.94-2.06 2.06-.94-2.06-.94L8.5 2.5l-.94 2.06-2.06.94zm10 10l.94 2.06.94-2.06 2.06-.94-2.06-.94-.94-2.06-.94 2.06-2.06.94z\"/><path d=\"M17.41 7.96l-1.37-1.37c-.4-.4-.92-.59-1.43-.59-.52 0-1.04.2-1.43.59L10.3 9.45l-7.72 7.72c-.78.78-.78 2.05 0 2.83L4 21.41c.39.39.9.59 1.41.59.51 0 1.02-.2 1.41-.59l7.78-7.78 2.81-2.81c.8-.78.8-2.07 0-2.86zM5.41 20L4 18.59l7.72-7.72 1.47 1.35L5.41 20z\"/>\n",
              "  </svg>\n",
              "      </button>\n",
              "      \n",
              "  <style>\n",
              "    .colab-df-container {\n",
              "      display:flex;\n",
              "      flex-wrap:wrap;\n",
              "      gap: 12px;\n",
              "    }\n",
              "\n",
              "    .colab-df-convert {\n",
              "      background-color: #E8F0FE;\n",
              "      border: none;\n",
              "      border-radius: 50%;\n",
              "      cursor: pointer;\n",
              "      display: none;\n",
              "      fill: #1967D2;\n",
              "      height: 32px;\n",
              "      padding: 0 0 0 0;\n",
              "      width: 32px;\n",
              "    }\n",
              "\n",
              "    .colab-df-convert:hover {\n",
              "      background-color: #E2EBFA;\n",
              "      box-shadow: 0px 1px 2px rgba(60, 64, 67, 0.3), 0px 1px 3px 1px rgba(60, 64, 67, 0.15);\n",
              "      fill: #174EA6;\n",
              "    }\n",
              "\n",
              "    [theme=dark] .colab-df-convert {\n",
              "      background-color: #3B4455;\n",
              "      fill: #D2E3FC;\n",
              "    }\n",
              "\n",
              "    [theme=dark] .colab-df-convert:hover {\n",
              "      background-color: #434B5C;\n",
              "      box-shadow: 0px 1px 3px 1px rgba(0, 0, 0, 0.15);\n",
              "      filter: drop-shadow(0px 1px 2px rgba(0, 0, 0, 0.3));\n",
              "      fill: #FFFFFF;\n",
              "    }\n",
              "  </style>\n",
              "\n",
              "      <script>\n",
              "        const buttonEl =\n",
              "          document.querySelector('#df-8407dd3f-cf10-4ed4-a611-a27071b5d124 button.colab-df-convert');\n",
              "        buttonEl.style.display =\n",
              "          google.colab.kernel.accessAllowed ? 'block' : 'none';\n",
              "\n",
              "        async function convertToInteractive(key) {\n",
              "          const element = document.querySelector('#df-8407dd3f-cf10-4ed4-a611-a27071b5d124');\n",
              "          const dataTable =\n",
              "            await google.colab.kernel.invokeFunction('convertToInteractive',\n",
              "                                                     [key], {});\n",
              "          if (!dataTable) return;\n",
              "\n",
              "          const docLinkHtml = 'Like what you see? Visit the ' +\n",
              "            '<a target=\"_blank\" href=https://colab.research.google.com/notebooks/data_table.ipynb>data table notebook</a>'\n",
              "            + ' to learn more about interactive tables.';\n",
              "          element.innerHTML = '';\n",
              "          dataTable['output_type'] = 'display_data';\n",
              "          await google.colab.output.renderOutput(dataTable, element);\n",
              "          const docLink = document.createElement('div');\n",
              "          docLink.innerHTML = docLinkHtml;\n",
              "          element.appendChild(docLink);\n",
              "        }\n",
              "      </script>\n",
              "    </div>\n",
              "  </div>\n",
              "  "
            ]
          },
          "metadata": {},
          "execution_count": 19
        }
      ]
    },
    {
      "cell_type": "code",
      "source": [
        "X_train, X_test, y_train, y_test = train_test_split(X_scaled, y, test_size=0.1, stratify=y, random_state=420)\n",
        "\n",
        "model.fit(X_train, y_train)\n",
        "\n",
        "model.score(X_test, y_test)"
      ],
      "metadata": {
        "colab": {
          "base_uri": "https://localhost:8080/"
        },
        "id": "wj0TDjj21qqA",
        "outputId": "76f51851-a95a-4544-eaea-f6da0cb1c054"
      },
      "execution_count": null,
      "outputs": [
        {
          "output_type": "execute_result",
          "data": {
            "text/plain": [
              "0.9310344827586207"
            ]
          },
          "metadata": {},
          "execution_count": 20
        }
      ]
    },
    {
      "cell_type": "markdown",
      "source": [
        "### **Create a pipeline**"
      ],
      "metadata": {
        "id": "d0Uj8Q-o_oxS"
      }
    },
    {
      "cell_type": "code",
      "metadata": {
        "colab": {
          "base_uri": "https://localhost:8080/"
        },
        "id": "sR86rx_BVNgT",
        "outputId": "9c427220-7ca0-48eb-970a-bc63ac11f7d4"
      },
      "source": [
        "from sklearn.pipeline import make_pipeline\n",
        "\n",
        "X_train, X_test, y_train, y_test = train_test_split(X, y, test_size=0.1, stratify=y, random_state=420)\n",
        "\n",
        "model = make_pipeline(StandardScaler(),\n",
        "                      SVC(kernel=\"linear\"))\n",
        "\n",
        "model.fit(X_train, y_train)\n",
        "\n",
        "model.score(X_test, y_test)"
      ],
      "execution_count": null,
      "outputs": [
        {
          "output_type": "execute_result",
          "data": {
            "text/plain": [
              "0.9310344827586207"
            ]
          },
          "metadata": {},
          "execution_count": 21
        }
      ]
    },
    {
      "cell_type": "markdown",
      "metadata": {
        "id": "4uNyaEwaTLas"
      },
      "source": [
        "## **Feature selection & dimensionality reduction**"
      ]
    },
    {
      "cell_type": "code",
      "metadata": {
        "id": "r5MWCPJSq0vE"
      },
      "source": [
        "from sklearn.ensemble import ExtraTreesClassifier"
      ],
      "execution_count": null,
      "outputs": []
    },
    {
      "cell_type": "code",
      "metadata": {
        "colab": {
          "base_uri": "https://localhost:8080/"
        },
        "id": "o3r_-qzCq03O",
        "outputId": "c5d6da7c-f853-4d85-b1e4-b46bf8e1dbf8"
      },
      "source": [
        "etc = ExtraTreesClassifier(random_state=42).fit(X,y)\n",
        "etc.feature_importances_"
      ],
      "execution_count": null,
      "outputs": [
        {
          "output_type": "execute_result",
          "data": {
            "text/plain": [
              "array([0.29715325, 0.11687197, 0.21442021, 0.19203806, 0.17951651])"
            ]
          },
          "metadata": {},
          "execution_count": 23
        }
      ]
    },
    {
      "cell_type": "code",
      "metadata": {
        "id": "SLpvL6JS43Ls",
        "colab": {
          "base_uri": "https://localhost:8080/",
          "height": 265
        },
        "outputId": "0587134e-5128-4a3f-a997-02bba244747d"
      },
      "source": [
        "plt.bar(np.arange(5), etc.feature_importances_, 0.5)\n",
        "plt.xticks(np.arange(5), X.columns);"
      ],
      "execution_count": null,
      "outputs": [
        {
          "output_type": "display_data",
          "data": {
            "text/plain": [
              "<Figure size 432x288 with 1 Axes>"
            ],
            "image/png": "[encoded data removed]"
          },
          "metadata": {
            "needs_background": "light"
          }
        }
      ]
    },
    {
      "cell_type": "markdown",
      "metadata": {
        "id": "9E7QvHcTbYcm"
      },
      "source": [
        "#### task 4: **calculate spectral indices & test importance**\n",
        "\n",
        "hint:\n",
        "`X_new = X.copy()`\n",
        "\n"
      ]
    },
    {
      "cell_type": "code",
      "metadata": {
        "colab": {
          "base_uri": "https://localhost:8080/",
          "height": 424
        },
        "id": "MZfoAJA1rmRz",
        "outputId": "1a40647d-9b50-4a6e-d33e-fb7f5a67139e"
      },
      "source": [
        "X_new = X.copy()\n",
        "X_new[\"u-g\"] = X.u - X.g\n",
        "X_new[\"g-r\"] = X.g - X.r\n",
        "X_new[\"r-z\"] = X.r - X.z\n",
        "X_new[\"i-z\"] = X.i - X.z\n",
        "\n",
        "X_new"
      ],
      "execution_count": null,
      "outputs": [
        {
          "output_type": "execute_result",
          "data": {
            "text/plain": [
              "             u          g          r          i          z       u-g  \\\n",
              "0    19.240999  17.525999  16.840000  16.613001  16.492001  1.715000   \n",
              "1    19.732000  18.339001  17.767000  17.580000  17.481001  1.393000   \n",
              "2    16.120001  15.232000  14.933000  14.845000  14.827000  0.888000   \n",
              "3    18.995001  18.150999  17.877001  17.747000  17.766001  0.844002   \n",
              "4    19.032000  18.112000  17.848000  17.709999  17.712000  0.920000   \n",
              "..         ...        ...        ...        ...        ...       ...   \n",
              "862  19.247000  19.047001  18.663000  18.627001  18.671000  0.199999   \n",
              "863  26.433001  21.429001  20.261000  20.108000  20.073000  5.004000   \n",
              "864  20.535999  20.200001  20.292999  19.910000  19.726000  0.335999   \n",
              "865  20.627001  20.583000  20.270000  20.229000  20.190001  0.044001   \n",
              "866  19.431000  19.228001  18.794001  18.791000  18.923000  0.202999   \n",
              "\n",
              "          g-r       r-z       i-z  \n",
              "0    0.685999  0.348000  0.121000  \n",
              "1    0.572001  0.285999  0.098999  \n",
              "2    0.299001  0.106000  0.018001  \n",
              "3    0.273998  0.111000 -0.019001  \n",
              "4    0.264000  0.136000 -0.002001  \n",
              "..        ...       ...       ...  \n",
              "862  0.384001 -0.007999 -0.043999  \n",
              "863  1.168001  0.188000  0.035000  \n",
              "864 -0.092999  0.566999  0.184000  \n",
              "865  0.313000  0.080000  0.039000  \n",
              "866  0.434000 -0.129000 -0.132000  \n",
              "\n",
              "[867 rows x 9 columns]"
            ],
            "text/html": [
              "\n",
              "  <div id=\"df-711c544d-d03a-4223-a7fe-801dda03a7d2\">\n",
              "    <div class=\"colab-df-container\">\n",
              "      <div>\n",
              "<style scoped>\n",
              "    .dataframe tbody tr th:only-of-type {\n",
              "        vertical-align: middle;\n",
              "    }\n",
              "\n",
              "    .dataframe tbody tr th {\n",
              "        vertical-align: top;\n",
              "    }\n",
              "\n",
              "    .dataframe thead th {\n",
              "        text-align: right;\n",
              "    }\n",
              "</style>\n",
              "<table border=\"1\" class=\"dataframe\">\n",
              "  <thead>\n",
              "    <tr style=\"text-align: right;\">\n",
              "      <th></th>\n",
              "      <th>u</th>\n",
              "      <th>g</th>\n",
              "      <th>r</th>\n",
              "      <th>i</th>\n",
              "      <th>z</th>\n",
              "      <th>u-g</th>\n",
              "      <th>g-r</th>\n",
              "      <th>r-z</th>\n",
              "      <th>i-z</th>\n",
              "    </tr>\n",
              "  </thead>\n",
              "  <tbody>\n",
              "    <tr>\n",
              "      <th>0</th>\n",
              "      <td>19.240999</td>\n",
              "      <td>17.525999</td>\n",
              "      <td>16.840000</td>\n",
              "      <td>16.613001</td>\n",
              "      <td>16.492001</td>\n",
              "      <td>1.715000</td>\n",
              "      <td>0.685999</td>\n",
              "      <td>0.348000</td>\n",
              "      <td>0.121000</td>\n",
              "    </tr>\n",
              "    <tr>\n",
              "      <th>1</th>\n",
              "      <td>19.732000</td>\n",
              "      <td>18.339001</td>\n",
              "      <td>17.767000</td>\n",
              "      <td>17.580000</td>\n",
              "      <td>17.481001</td>\n",
              "      <td>1.393000</td>\n",
              "      <td>0.572001</td>\n",
              "      <td>0.285999</td>\n",
              "      <td>0.098999</td>\n",
              "    </tr>\n",
              "    <tr>\n",
              "      <th>2</th>\n",
              "      <td>16.120001</td>\n",
              "      <td>15.232000</td>\n",
              "      <td>14.933000</td>\n",
              "      <td>14.845000</td>\n",
              "      <td>14.827000</td>\n",
              "      <td>0.888000</td>\n",
              "      <td>0.299001</td>\n",
              "      <td>0.106000</td>\n",
              "      <td>0.018001</td>\n",
              "    </tr>\n",
              "    <tr>\n",
              "      <th>3</th>\n",
              "      <td>18.995001</td>\n",
              "      <td>18.150999</td>\n",
              "      <td>17.877001</td>\n",
              "      <td>17.747000</td>\n",
              "      <td>17.766001</td>\n",
              "      <td>0.844002</td>\n",
              "      <td>0.273998</td>\n",
              "      <td>0.111000</td>\n",
              "      <td>-0.019001</td>\n",
              "    </tr>\n",
              "    <tr>\n",
              "      <th>4</th>\n",
              "      <td>19.032000</td>\n",
              "      <td>18.112000</td>\n",
              "      <td>17.848000</td>\n",
              "      <td>17.709999</td>\n",
              "      <td>17.712000</td>\n",
              "      <td>0.920000</td>\n",
              "      <td>0.264000</td>\n",
              "      <td>0.136000</td>\n",
              "      <td>-0.002001</td>\n",
              "    </tr>\n",
              "    <tr>\n",
              "      <th>...</th>\n",
              "      <td>...</td>\n",
              "      <td>...</td>\n",
              "      <td>...</td>\n",
              "      <td>...</td>\n",
              "      <td>...</td>\n",
              "      <td>...</td>\n",
              "      <td>...</td>\n",
              "      <td>...</td>\n",
              "      <td>...</td>\n",
              "    </tr>\n",
              "    <tr>\n",
              "      <th>862</th>\n",
              "      <td>19.247000</td>\n",
              "      <td>19.047001</td>\n",
              "      <td>18.663000</td>\n",
              "      <td>18.627001</td>\n",
              "      <td>18.671000</td>\n",
              "      <td>0.199999</td>\n",
              "      <td>0.384001</td>\n",
              "      <td>-0.007999</td>\n",
              "      <td>-0.043999</td>\n",
              "    </tr>\n",
              "    <tr>\n",
              "      <th>863</th>\n",
              "      <td>26.433001</td>\n",
              "      <td>21.429001</td>\n",
              "      <td>20.261000</td>\n",
              "      <td>20.108000</td>\n",
              "      <td>20.073000</td>\n",
              "      <td>5.004000</td>\n",
              "      <td>1.168001</td>\n",
              "      <td>0.188000</td>\n",
              "      <td>0.035000</td>\n",
              "    </tr>\n",
              "    <tr>\n",
              "      <th>864</th>\n",
              "      <td>20.535999</td>\n",
              "      <td>20.200001</td>\n",
              "      <td>20.292999</td>\n",
              "      <td>19.910000</td>\n",
              "      <td>19.726000</td>\n",
              "      <td>0.335999</td>\n",
              "      <td>-0.092999</td>\n",
              "      <td>0.566999</td>\n",
              "      <td>0.184000</td>\n",
              "    </tr>\n",
              "    <tr>\n",
              "      <th>865</th>\n",
              "      <td>20.627001</td>\n",
              "      <td>20.583000</td>\n",
              "      <td>20.270000</td>\n",
              "      <td>20.229000</td>\n",
              "      <td>20.190001</td>\n",
              "      <td>0.044001</td>\n",
              "      <td>0.313000</td>\n",
              "      <td>0.080000</td>\n",
              "      <td>0.039000</td>\n",
              "    </tr>\n",
              "    <tr>\n",
              "      <th>866</th>\n",
              "      <td>19.431000</td>\n",
              "      <td>19.228001</td>\n",
              "      <td>18.794001</td>\n",
              "      <td>18.791000</td>\n",
              "      <td>18.923000</td>\n",
              "      <td>0.202999</td>\n",
              "      <td>0.434000</td>\n",
              "      <td>-0.129000</td>\n",
              "      <td>-0.132000</td>\n",
              "    </tr>\n",
              "  </tbody>\n",
              "</table>\n",
              "<p>867 rows × 9 columns</p>\n",
              "</div>\n",
              "      <button class=\"colab-df-convert\" onclick=\"convertToInteractive('df-711c544d-d03a-4223-a7fe-801dda03a7d2')\"\n",
              "              title=\"Convert this dataframe to an interactive table.\"\n",
              "              style=\"display:none;\">\n",
              "        \n",
              "  <svg xmlns=\"http://www.w3.org/2000/svg\" height=\"24px\"viewBox=\"0 0 24 24\"\n",
              "       width=\"24px\">\n",
              "    <path d=\"M0 0h24v24H0V0z\" fill=\"none\"/>\n",
              "    <path d=\"M18.56 5.44l.94 2.06.94-2.06 2.06-.94-2.06-.94-.94-2.06-.94 2.06-2.06.94zm-11 1L8.5 8.5l.94-2.06 2.06-.94-2.06-.94L8.5 2.5l-.94 2.06-2.06.94zm10 10l.94 2.06.94-2.06 2.06-.94-2.06-.94-.94-2.06-.94 2.06-2.06.94z\"/><path d=\"M17.41 7.96l-1.37-1.37c-.4-.4-.92-.59-1.43-.59-.52 0-1.04.2-1.43.59L10.3 9.45l-7.72 7.72c-.78.78-.78 2.05 0 2.83L4 21.41c.39.39.9.59 1.41.59.51 0 1.02-.2 1.41-.59l7.78-7.78 2.81-2.81c.8-.78.8-2.07 0-2.86zM5.41 20L4 18.59l7.72-7.72 1.47 1.35L5.41 20z\"/>\n",
              "  </svg>\n",
              "      </button>\n",
              "      \n",
              "  <style>\n",
              "    .colab-df-container {\n",
              "      display:flex;\n",
              "      flex-wrap:wrap;\n",
              "      gap: 12px;\n",
              "    }\n",
              "\n",
              "    .colab-df-convert {\n",
              "      background-color: #E8F0FE;\n",
              "      border: none;\n",
              "      border-radius: 50%;\n",
              "      cursor: pointer;\n",
              "      display: none;\n",
              "      fill: #1967D2;\n",
              "      height: 32px;\n",
              "      padding: 0 0 0 0;\n",
              "      width: 32px;\n",
              "    }\n",
              "\n",
              "    .colab-df-convert:hover {\n",
              "      background-color: #E2EBFA;\n",
              "      box-shadow: 0px 1px 2px rgba(60, 64, 67, 0.3), 0px 1px 3px 1px rgba(60, 64, 67, 0.15);\n",
              "      fill: #174EA6;\n",
              "    }\n",
              "\n",
              "    [theme=dark] .colab-df-convert {\n",
              "      background-color: #3B4455;\n",
              "      fill: #D2E3FC;\n",
              "    }\n",
              "\n",
              "    [theme=dark] .colab-df-convert:hover {\n",
              "      background-color: #434B5C;\n",
              "      box-shadow: 0px 1px 3px 1px rgba(0, 0, 0, 0.15);\n",
              "      filter: drop-shadow(0px 1px 2px rgba(0, 0, 0, 0.3));\n",
              "      fill: #FFFFFF;\n",
              "    }\n",
              "  </style>\n",
              "\n",
              "      <script>\n",
              "        const buttonEl =\n",
              "          document.querySelector('#df-711c544d-d03a-4223-a7fe-801dda03a7d2 button.colab-df-convert');\n",
              "        buttonEl.style.display =\n",
              "          google.colab.kernel.accessAllowed ? 'block' : 'none';\n",
              "\n",
              "        async function convertToInteractive(key) {\n",
              "          const element = document.querySelector('#df-711c544d-d03a-4223-a7fe-801dda03a7d2');\n",
              "          const dataTable =\n",
              "            await google.colab.kernel.invokeFunction('convertToInteractive',\n",
              "                                                     [key], {});\n",
              "          if (!dataTable) return;\n",
              "\n",
              "          const docLinkHtml = 'Like what you see? Visit the ' +\n",
              "            '<a target=\"_blank\" href=https://colab.research.google.com/notebooks/data_table.ipynb>data table notebook</a>'\n",
              "            + ' to learn more about interactive tables.';\n",
              "          element.innerHTML = '';\n",
              "          dataTable['output_type'] = 'display_data';\n",
              "          await google.colab.output.renderOutput(dataTable, element);\n",
              "          const docLink = document.createElement('div');\n",
              "          docLink.innerHTML = docLinkHtml;\n",
              "          element.appendChild(docLink);\n",
              "        }\n",
              "      </script>\n",
              "    </div>\n",
              "  </div>\n",
              "  "
            ]
          },
          "metadata": {},
          "execution_count": 25
        }
      ]
    },
    {
      "cell_type": "code",
      "metadata": {
        "colab": {
          "base_uri": "https://localhost:8080/",
          "height": 265
        },
        "id": "Nj0_n3aJrmUs",
        "outputId": "b0c250c2-8f47-41c4-d3a2-ffa7766ec18c"
      },
      "source": [
        "etc = ExtraTreesClassifier(random_state=420).fit(X_new,y)\n",
        "plt.bar(np.arange(9), etc.feature_importances_, 0.5)\n",
        "plt.xticks(np.arange(9), X_new.columns);"
      ],
      "execution_count": null,
      "outputs": [
        {
          "output_type": "display_data",
          "data": {
            "text/plain": [
              "<Figure size 432x288 with 1 Axes>"
            ],
            "image/png": "[encoded data removed]"
          },
          "metadata": {
            "needs_background": "light"
          }
        }
      ]
    },
    {
      "cell_type": "markdown",
      "metadata": {
        "id": "7Vsu9gRdl8ba"
      },
      "source": [
        "#### task 5: **test score if only *u-g* or *i-z* spectral indices are used**\n",
        "\n",
        "hint: for single columns use `X_new[[\"u-g\"]]`"
      ]
    },
    {
      "cell_type": "code",
      "metadata": {
        "colab": {
          "base_uri": "https://localhost:8080/"
        },
        "id": "-Z3PTCanGYKf",
        "outputId": "48a6122e-0cec-425c-e418-dc365d72e991"
      },
      "source": [
        "X_train, X_test, y_train, y_test = train_test_split(X_new[[\"u-g\"]], y, test_size=0.1, stratify=y, random_state=420)\n",
        "\n",
        "model.fit(X_train, y_train)\n",
        "\n",
        "model.score(X_test, y_test)"
      ],
      "execution_count": null,
      "outputs": [
        {
          "output_type": "execute_result",
          "data": {
            "text/plain": [
              "0.9655172413793104"
            ]
          },
          "metadata": {},
          "execution_count": 27
        }
      ]
    },
    {
      "cell_type": "code",
      "source": [
        "X_train, X_test, y_train, y_test = train_test_split(X_new[[\"i-z\"]], y, test_size=0.1, stratify=y, random_state=420)\n",
        "\n",
        "model.fit(X_train, y_train)\n",
        "\n",
        "model.score(X_test, y_test)"
      ],
      "metadata": {
        "colab": {
          "base_uri": "https://localhost:8080/"
        },
        "id": "DZN5ZHDB2lda",
        "outputId": "eebf231a-8228-4c08-b5f1-fdce7b859a6e"
      },
      "execution_count": null,
      "outputs": [
        {
          "output_type": "execute_result",
          "data": {
            "text/plain": [
              "0.7586206896551724"
            ]
          },
          "metadata": {},
          "execution_count": 28
        }
      ]
    },
    {
      "cell_type": "code",
      "source": [
        "sum(data.target == \"star\") / data.target.size"
      ],
      "metadata": {
        "colab": {
          "base_uri": "https://localhost:8080/"
        },
        "id": "Uar9JVzhAVlZ",
        "outputId": "fb285443-b116-43bb-cc95-21b00b66946a"
      },
      "execution_count": null,
      "outputs": [
        {
          "output_type": "execute_result",
          "data": {
            "text/plain": [
              "0.7554786620530565"
            ]
          },
          "metadata": {},
          "execution_count": 29
        }
      ]
    },
    {
      "cell_type": "markdown",
      "metadata": {
        "id": "1ud7hKL_GYKe"
      },
      "source": [
        "#### task 6: **create dummy column & test importance**\n",
        "\n",
        "hint:\n",
        "```\n",
        "X_new2 = X.copy()\n",
        "X_new2[\"dummy\"] = np.random.randint(10, size=X.r.size)\n",
        "```"
      ]
    },
    {
      "cell_type": "code",
      "metadata": {
        "id": "yjkNN6d4SuYn"
      },
      "source": [
        "X_new2 = X.copy()\n",
        "\n",
        "X_new2[\"dummy\"] = np.random.normal(0, 1, size=X.r.size)\n",
        "X_new2[\"dummy2\"] = np.ones_like(X.r)"
      ],
      "execution_count": null,
      "outputs": []
    },
    {
      "cell_type": "code",
      "metadata": {
        "id": "zXukq-8HGYKe",
        "colab": {
          "base_uri": "https://localhost:8080/",
          "height": 265
        },
        "outputId": "98322f1d-cba9-4dac-8e86-b7042073cf15"
      },
      "source": [
        "etc = ExtraTreesClassifier().fit(X_new2,y)\n",
        "plt.bar(np.arange(7), etc.feature_importances_, 0.5)\n",
        "plt.xticks(np.arange(7), X_new2.columns);"
      ],
      "execution_count": null,
      "outputs": [
        {
          "output_type": "display_data",
          "data": {
            "text/plain": [
              "<Figure size 432x288 with 1 Axes>"
            ],
            "image/png": "[encoded data removed]"
          },
          "metadata": {
            "needs_background": "light"
          }
        }
      ]
    },
    {
      "cell_type": "code",
      "metadata": {
        "id": "twqvduOy1E63",
        "colab": {
          "base_uri": "https://localhost:8080/"
        },
        "outputId": "dc53e960-28da-4c70-f4af-35cf44da73a1"
      },
      "source": [
        "X_train, X_test, y_train, y_test = train_test_split(X_new2[[\"dummy\"]], y, stratify=y, random_state=420)\n",
        "\n",
        "model.fit(X_train, y_train)\n",
        "\n",
        "model.score(X_test, y_test)"
      ],
      "execution_count": null,
      "outputs": [
        {
          "output_type": "execute_result",
          "data": {
            "text/plain": [
              "0.7557603686635944"
            ]
          },
          "metadata": {},
          "execution_count": 32
        }
      ]
    },
    {
      "cell_type": "markdown",
      "metadata": {
        "id": "kNQwj_5FmPYF"
      },
      "source": [
        "### [**Principal component analysis**](https://scikit-learn.org/stable/modules/generated/sklearn.decomposition.PCA.html)\n",
        "\n",
        "<img src=\"https://programmathically.com/wp-content/uploads/2021/08/pca-2-dimensions-1024x644.png\" align=left width=500pt></img>\n",
        "\n",
        "<br><br>\n",
        "\n",
        "<img src=\"https://dimensionless.in/wp-content/uploads/2019/07/pca2.png\" align=left width=750pt></img>\n",
        "\n",
        "<br>\n",
        "<br><br><br><br><br><br><br><br><br><br><br><br><br><br><br><br><br><br><br><br><br><br><br><br><br>"
      ]
    },
    {
      "cell_type": "code",
      "metadata": {
        "id": "InxyTPHuGYKa",
        "colab": {
          "base_uri": "https://localhost:8080/"
        },
        "outputId": "16eddba2-7dc0-4c70-e517-282ef9d6c5e0"
      },
      "source": [
        "from sklearn.decomposition import PCA\n",
        "\n",
        "pca = PCA(n_components=2)\n",
        "X_PCA = pca.fit_transform(X)\n",
        "X_PCA"
      ],
      "execution_count": null,
      "outputs": [
        {
          "output_type": "execute_result",
          "data": {
            "text/plain": [
              "array([[-1.57855903,  0.69166694],\n",
              "       [ 0.31005208,  0.36354459],\n",
              "       [-6.33253416, -0.70006217],\n",
              "       ...,\n",
              "       [ 4.73285303, -0.77175228],\n",
              "       [ 5.29123786, -0.90930764],\n",
              "       [ 2.27592808, -0.88723164]])"
            ]
          },
          "metadata": {},
          "execution_count": 86
        }
      ]
    },
    {
      "cell_type": "code",
      "metadata": {
        "id": "dFrr051pGYKb",
        "colab": {
          "base_uri": "https://localhost:8080/",
          "height": 265
        },
        "outputId": "84c812ff-41fd-478b-e6fb-73fad5c007b7"
      },
      "source": [
        "plt.scatter(X_PCA[:,0], X_PCA[:,1], c=y);"
      ],
      "execution_count": null,
      "outputs": [
        {
          "output_type": "display_data",
          "data": {
            "text/plain": [
              "<Figure size 432x288 with 1 Axes>"
            ],
            "image/png": "[encoded data removed]"
          },
          "metadata": {
            "needs_background": "light"
          }
        }
      ]
    },
    {
      "cell_type": "code",
      "source": [
        "plt.scatter(X.g, X.u-X.g, c=y);"
      ],
      "metadata": {
        "colab": {
          "base_uri": "https://localhost:8080/",
          "height": 265
        },
        "id": "-xBWlyBZ7iUX",
        "outputId": "483e0596-11ec-49cd-a7ec-31d0c2c07ac3"
      },
      "execution_count": null,
      "outputs": [
        {
          "output_type": "display_data",
          "data": {
            "text/plain": [
              "<Figure size 432x288 with 1 Axes>"
            ],
            "image/png": "[encoded data removed]"
          },
          "metadata": {
            "needs_background": "light"
          }
        }
      ]
    },
    {
      "cell_type": "code",
      "metadata": {
        "id": "BuDSwwTDmTSC",
        "colab": {
          "base_uri": "https://localhost:8080/"
        },
        "outputId": "7090d1ab-d2df-4dc9-cebc-b5b511154fe2"
      },
      "source": [
        "X_train, X_test, y_train, y_test = train_test_split(X_PCA, y, test_size=0.1, stratify=y, random_state=42)\n",
        "\n",
        "model.fit(X_train, y_train)\n",
        "\n",
        "model.score(X_test, y_test)"
      ],
      "execution_count": null,
      "outputs": [
        {
          "output_type": "execute_result",
          "data": {
            "text/plain": [
              "0.9195402298850575"
            ]
          },
          "metadata": {},
          "execution_count": 37
        }
      ]
    },
    {
      "cell_type": "markdown",
      "source": [
        "### task 7: **integrate `PCA()` into our pipeline**"
      ],
      "metadata": {
        "id": "nt4XlOsZ924l"
      }
    },
    {
      "cell_type": "code",
      "source": [
        "X_train, X_test, y_train, y_test = train_test_split(X, y, test_size=0.1, stratify=y, random_state=420)\n",
        "\n",
        "model = make_pipeline(PCA(n_components=3),\n",
        "                      StandardScaler(),\n",
        "                      SVC(kernel=\"linear\"))\n",
        "\n",
        "model.fit(X_train, y_train)\n",
        "\n",
        "model.score(X_test, y_test)"
      ],
      "metadata": {
        "colab": {
          "base_uri": "https://localhost:8080/"
        },
        "id": "IAyivdwI-FJt",
        "outputId": "4dc993f3-8f6e-4b3d-8b9d-9a9269952896"
      },
      "execution_count": null,
      "outputs": [
        {
          "output_type": "execute_result",
          "data": {
            "text/plain": [
              "0.9540229885057471"
            ]
          },
          "metadata": {},
          "execution_count": 38
        }
      ]
    },
    {
      "cell_type": "markdown",
      "metadata": {
        "id": "teq3fSl7GYKk"
      },
      "source": [
        "## [**Cross-validation**](https://scikit-learn.org/stable/modules/cross_validation.html)\n",
        "\n",
        "<img src=\"https://miro.medium.com/max/1400/1*AAwIlHM8TpAVe4l2FihNUQ.png\" width=800pt></img>"
      ]
    },
    {
      "cell_type": "code",
      "source": [
        "X_train, X_test, y_train, y_test = train_test_split(X, y, test_size=0.1, stratify=y, random_state=420)\n",
        "\n",
        "model = make_pipeline(PCA(n_components=3),\n",
        "                      StandardScaler(),\n",
        "                      SVC(kernel=\"linear\"))\n",
        "\n",
        "model.fit(X_train, y_train)\n",
        "\n",
        "model.score(X_test, y_test)"
      ],
      "metadata": {
        "colab": {
          "base_uri": "https://localhost:8080/"
        },
        "id": "jJHUCVn78tC5",
        "outputId": "b4b14390-2893-42f7-ccd3-8289975c39e4"
      },
      "execution_count": null,
      "outputs": [
        {
          "output_type": "execute_result",
          "data": {
            "text/plain": [
              "0.9540229885057471"
            ]
          },
          "metadata": {},
          "execution_count": 39
        }
      ]
    },
    {
      "cell_type": "markdown",
      "source": [
        "### task 8: **use several different random states when splitting data & get average score**"
      ],
      "metadata": {
        "id": "7v74ZKEd_iC5"
      }
    },
    {
      "cell_type": "code",
      "source": [
        "scores = []\n",
        "for i in range(10):\n",
        "    X_train, X_test, y_train, y_test = train_test_split(X, y, stratify=y, random_state=i)\n",
        "\n",
        "    model.fit(X_train, y_train)\n",
        "\n",
        "    scores.append(model.score(X_test, y_test))\n",
        "\n",
        "scores"
      ],
      "metadata": {
        "colab": {
          "base_uri": "https://localhost:8080/"
        },
        "id": "Ue01LJEAASTt",
        "outputId": "0a5307c6-c35e-4ba3-828e-c513f4376393"
      },
      "execution_count": null,
      "outputs": [
        {
          "output_type": "execute_result",
          "data": {
            "text/plain": [
              "[0.9354838709677419,\n",
              " 0.9493087557603687,\n",
              " 0.9539170506912442,\n",
              " 0.9585253456221198,\n",
              " 0.9447004608294931,\n",
              " 0.9585253456221198,\n",
              " 0.9308755760368663,\n",
              " 0.9539170506912442,\n",
              " 0.9400921658986175,\n",
              " 0.9354838709677419]"
            ]
          },
          "metadata": {},
          "execution_count": 40
        }
      ]
    },
    {
      "cell_type": "code",
      "source": [
        "np.mean(scores), np.std(scores)"
      ],
      "metadata": {
        "colab": {
          "base_uri": "https://localhost:8080/"
        },
        "id": "FibejIjIAdEO",
        "outputId": "62c340c8-6240-4ea5-e1fc-f362f989f883"
      },
      "execution_count": null,
      "outputs": [
        {
          "output_type": "execute_result",
          "data": {
            "text/plain": [
              "(0.9460829493087557, 0.009677419354838708)"
            ]
          },
          "metadata": {},
          "execution_count": 41
        }
      ]
    },
    {
      "cell_type": "markdown",
      "source": [
        "### task 9: **use [`cross_validate`](https://scikit-learn.org/stable/modules/generated/sklearn.model_selection.cross_validate.html)**"
      ],
      "metadata": {
        "id": "ymsY_Fd1oLWF"
      }
    },
    {
      "cell_type": "code",
      "source": [
        "from sklearn.model_selection import cross_validate"
      ],
      "metadata": {
        "id": "brpWmP54oUxo"
      },
      "execution_count": null,
      "outputs": []
    },
    {
      "cell_type": "code",
      "metadata": {
        "id": "J5dKswVZGYKl",
        "colab": {
          "base_uri": "https://localhost:8080/"
        },
        "outputId": "e8c9ed44-df46-4ea8-e20b-7e10a235507a"
      },
      "source": [
        "res = cross_validate(model, X, y, cv=10)\n",
        "\n",
        "print(res)"
      ],
      "execution_count": null,
      "outputs": [
        {
          "output_type": "stream",
          "name": "stdout",
          "text": [
            "{'fit_time': array([0.01530457, 0.01464748, 0.0144999 , 0.01442313, 0.01615572,\n",
            "       0.01394105, 0.01501513, 0.01499629, 0.0152204 , 0.01502824]), 'score_time': array([0.00265884, 0.00270629, 0.00274038, 0.00384307, 0.00276804,\n",
            "       0.0027163 , 0.0027647 , 0.00276279, 0.00295591, 0.0027225 ]), 'test_score': array([0.95402299, 0.94252874, 0.96551724, 0.94252874, 0.94252874,\n",
            "       0.95402299, 0.95402299, 0.93023256, 0.96511628, 0.97674419])}\n"
          ]
        }
      ]
    },
    {
      "cell_type": "code",
      "source": [
        "np.mean(res[\"test_score\"]), np.std(res[\"test_score\"])"
      ],
      "metadata": {
        "colab": {
          "base_uri": "https://localhost:8080/"
        },
        "id": "WdHg0z9o-d-S",
        "outputId": "7e68b699-ae6e-4cfc-c895-c8567c39e396"
      },
      "execution_count": null,
      "outputs": [
        {
          "output_type": "execute_result",
          "data": {
            "text/plain": [
              "(0.9527265437048917, 0.013103290409293528)"
            ]
          },
          "metadata": {},
          "execution_count": 44
        }
      ]
    },
    {
      "cell_type": "markdown",
      "metadata": {
        "id": "hfzrKed1GYKf"
      },
      "source": [
        "## **Tuning hyperparameters**"
      ]
    },
    {
      "cell_type": "code",
      "metadata": {
        "scrolled": true,
        "id": "y8XOCnR-GYKg"
      },
      "source": [
        "SVC?"
      ],
      "execution_count": null,
      "outputs": []
    },
    {
      "cell_type": "code",
      "source": [
        "def decision_surface(X, y, classifier):\n",
        "    size = 100\n",
        "\n",
        "    X_n = PCA(n_components=2).fit_transform(X)\n",
        "    X_n = StandardScaler().fit_transform(X_n)\n",
        "\n",
        "    range_U = np.linspace(min(X_n[:,0]), max(X_n[:,0]), size)\n",
        "    range_G = np.linspace(min(X_n[:,1]), max(X_n[:,1]), size)\n",
        "    U, G = np.meshgrid(range_U, range_G)\n",
        "\n",
        "    grid = np.vstack((U.flatten(), G.flatten())).T\n",
        "\n",
        "    classifier.fit(X_n, y)\n",
        "\n",
        "    predicted = classifier.predict_proba(grid)[:,0]\n",
        "\n",
        "    predicted = predicted.reshape(size,size)\n",
        "\n",
        "    plt.contourf(U, G, predicted, cmap=\"coolwarm\", alpha=0.5)\n",
        "\n",
        "    plt.plot(X_n[:,0][data.target == \"star\"], X_n[:,1][data.target == \"star\"], \"o\")\n",
        "    plt.plot(X_n[:,0][data.target == \"QSO\"], X_n[:,1][data.target == \"QSO\"], \"o\");\n",
        "\n",
        "    plt.xlabel(\"U [mag]\")\n",
        "    plt.ylabel(\"G [mag]\");\n",
        "\n",
        "def classify(X, y, classifier):\n",
        "    model = make_pipeline(PCA(n_components=3),\n",
        "                          StandardScaler(),\n",
        "                          classifier)\n",
        "\n",
        "    res = cross_validate(model, X, y, cv=10)\n",
        "    print(np.mean(res[\"test_score\"]))"
      ],
      "metadata": {
        "id": "AdLKvspW7-IO"
      },
      "execution_count": null,
      "outputs": []
    },
    {
      "cell_type": "code",
      "source": [
        "decision_surface(X, y, SVC(kernel=\"linear\", probability=True))"
      ],
      "metadata": {
        "colab": {
          "base_uri": "https://localhost:8080/",
          "height": 281
        },
        "id": "jDSuCKR1TO3f",
        "outputId": "976938df-7c97-4b0b-bff8-40ea99336a91"
      },
      "execution_count": null,
      "outputs": [
        {
          "output_type": "display_data",
          "data": {
            "text/plain": [
              "<Figure size 432x288 with 1 Axes>"
            ],
            "image/png": "[encoded data removed]"
          },
          "metadata": {
            "needs_background": "light"
          }
        }
      ]
    },
    {
      "cell_type": "code",
      "source": [
        "decision_surface(X, y, SVC(kernel=\"poly\", probability=True))"
      ],
      "metadata": {
        "id": "5rX27SR95GZy",
        "outputId": "6508474c-f484-43e8-9539-028609d86b3f",
        "colab": {
          "base_uri": "https://localhost:8080/",
          "height": 281
        }
      },
      "execution_count": null,
      "outputs": [
        {
          "output_type": "display_data",
          "data": {
            "text/plain": [
              "<Figure size 432x288 with 1 Axes>"
            ],
            "image/png": "[encoded data removed]"
          },
          "metadata": {
            "needs_background": "light"
          }
        }
      ]
    },
    {
      "cell_type": "code",
      "source": [
        "decision_surface(X, y, SVC(kernel=\"rbf\", C=1, probability=True))"
      ],
      "metadata": {
        "colab": {
          "base_uri": "https://localhost:8080/",
          "height": 281
        },
        "id": "2Wb-mru1TSA6",
        "outputId": "8fb0fa80-8c7f-4282-94b7-e3601741776e"
      },
      "execution_count": null,
      "outputs": [
        {
          "output_type": "display_data",
          "data": {
            "text/plain": [
              "<Figure size 432x288 with 1 Axes>"
            ],
            "image/png": "[encoded data removed]"
          },
          "metadata": {
            "needs_background": "light"
          }
        }
      ]
    },
    {
      "cell_type": "code",
      "source": [
        "decision_surface(X, y, SVC(kernel=\"rbf\", C=1000, probability=True))"
      ],
      "metadata": {
        "colab": {
          "base_uri": "https://localhost:8080/",
          "height": 281
        },
        "id": "6lj-OinJU8NU",
        "outputId": "d971aa05-0f00-4dc5-c7c4-62f4f07c2426"
      },
      "execution_count": null,
      "outputs": [
        {
          "output_type": "display_data",
          "data": {
            "text/plain": [
              "<Figure size 432x288 with 1 Axes>"
            ],
            "image/png": "[encoded data removed]"
          },
          "metadata": {
            "needs_background": "light"
          }
        }
      ]
    },
    {
      "cell_type": "markdown",
      "metadata": {
        "id": "0PYW9nkuGYKh"
      },
      "source": [
        "#### task 10: **find SVC hyperparameters with best test score**"
      ]
    },
    {
      "cell_type": "code",
      "metadata": {
        "id": "F-6ACW9fGYKi",
        "colab": {
          "base_uri": "https://localhost:8080/"
        },
        "outputId": "c60b11db-c479-481a-8eab-74a73383de80"
      },
      "source": [
        "classify(X, y, SVC(kernel=\"linear\"))"
      ],
      "execution_count": null,
      "outputs": [
        {
          "output_type": "stream",
          "name": "stdout",
          "text": [
            "0.9527265437048917\n"
          ]
        }
      ]
    },
    {
      "cell_type": "code",
      "metadata": {
        "id": "GfPZIkZYGYKi",
        "colab": {
          "base_uri": "https://localhost:8080/"
        },
        "outputId": "f9dd24ea-279e-4227-fb57-ca3e0f29125b"
      },
      "source": [
        "classify(X, y, SVC(kernel=\"linear\", C=10))"
      ],
      "execution_count": null,
      "outputs": [
        {
          "output_type": "stream",
          "name": "stdout",
          "text": [
            "0.9481154771451484\n"
          ]
        }
      ]
    },
    {
      "cell_type": "code",
      "metadata": {
        "id": "gG1kpotXGYKj",
        "colab": {
          "base_uri": "https://localhost:8080/"
        },
        "outputId": "23dc794f-fafd-42bd-bbe7-3851b467d2df"
      },
      "source": [
        "classify(X, y, SVC(kernel=\"linear\", C=0.1))"
      ],
      "execution_count": null,
      "outputs": [
        {
          "output_type": "stream",
          "name": "stdout",
          "text": [
            "0.9561881849772786\n"
          ]
        }
      ]
    },
    {
      "cell_type": "code",
      "source": [
        "classify(X, y, SVC(kernel=\"poly\", degree=1))"
      ],
      "metadata": {
        "colab": {
          "base_uri": "https://localhost:8080/"
        },
        "id": "rzIooBzk4cPc",
        "outputId": "bb0ef7e6-dea9-492a-9dcf-7a2b264b6c3f"
      },
      "execution_count": null,
      "outputs": [
        {
          "output_type": "stream",
          "name": "stdout",
          "text": [
            "0.9550387596899224\n"
          ]
        }
      ]
    },
    {
      "cell_type": "code",
      "metadata": {
        "id": "lLb81etQGYKj",
        "colab": {
          "base_uri": "https://localhost:8080/"
        },
        "outputId": "1f2bb5d0-8301-472b-e370-dfe6bcd94c4e"
      },
      "source": [
        "classify(X, y, SVC(kernel=\"poly\", degree=3))"
      ],
      "execution_count": null,
      "outputs": [
        {
          "output_type": "stream",
          "name": "stdout",
          "text": [
            "0.9711307137129112\n"
          ]
        }
      ]
    },
    {
      "cell_type": "code",
      "metadata": {
        "id": "-5WE1CLyGYKj",
        "colab": {
          "base_uri": "https://localhost:8080/"
        },
        "outputId": "3b7b1c03-ea50-4bfb-e22d-2f15cc4290b6"
      },
      "source": [
        "classify(X, y, SVC(kernel=\"rbf\", C=10))"
      ],
      "execution_count": null,
      "outputs": [
        {
          "output_type": "stream",
          "name": "stdout",
          "text": [
            "0.9838679497460572\n"
          ]
        }
      ]
    },
    {
      "cell_type": "markdown",
      "metadata": {
        "id": "a5rX00qbGYKl"
      },
      "source": [
        "### **Grid-search + crossvalidation**"
      ]
    },
    {
      "cell_type": "code",
      "metadata": {
        "id": "xKRbmlGLGYKl"
      },
      "source": [
        "from sklearn.model_selection import GridSearchCV"
      ],
      "execution_count": null,
      "outputs": []
    },
    {
      "cell_type": "code",
      "metadata": {
        "id": "jyeQmN-9GYKl",
        "colab": {
          "base_uri": "https://localhost:8080/"
        },
        "outputId": "21c313c3-1083-48e8-b7ae-a81e9999863e"
      },
      "source": [
        "C = [0.01, 0.1, 1, 10, 100]\n",
        "gamma = [0.1, 1, 10, 100]\n",
        "\n",
        "params = {\"C\" : C,\n",
        "          \"gamma\" : gamma}\n",
        "\n",
        "model = GridSearchCV(SVC(kernel=\"rbf\"), params, cv=10, n_jobs=4)\n",
        "model.fit(X, y)"
      ],
      "execution_count": null,
      "outputs": [
        {
          "output_type": "execute_result",
          "data": {
            "text/plain": [
              "GridSearchCV(cv=10, estimator=SVC(), n_jobs=4,\n",
              "             param_grid={'C': [0.01, 0.1, 1, 10, 100],\n",
              "                         'gamma': [0.1, 1, 10, 100]})"
            ]
          },
          "metadata": {},
          "execution_count": 58
        }
      ]
    },
    {
      "cell_type": "code",
      "source": [
        "model.cv_results_"
      ],
      "metadata": {
        "colab": {
          "base_uri": "https://localhost:8080/"
        },
        "id": "dPJjayx2Dm2p",
        "outputId": "3fd7f477-c9bd-4afa-d6ad-83622aa8325a"
      },
      "execution_count": null,
      "outputs": [
        {
          "output_type": "execute_result",
          "data": {
            "text/plain": [
              "{'mean_fit_time': array([0.07599914, 0.09040411, 0.11826148, 0.1720979 , 0.07104983,\n",
              "        0.06413922, 0.11293702, 0.19308898, 0.03929267, 0.04360352,\n",
              "        0.1040098 , 0.19172583, 0.02498248, 0.04383473, 0.14040828,\n",
              "        0.19308612, 0.03189874, 0.03349431, 0.19183743, 0.17473814]),\n",
              " 'std_fit_time': array([0.01091094, 0.02175377, 0.01823785, 0.03225414, 0.01132017,\n",
              "        0.0111591 , 0.03546798, 0.03610552, 0.01208333, 0.01511459,\n",
              "        0.02728793, 0.0378376 , 0.00788161, 0.0136504 , 0.0389555 ,\n",
              "        0.02915827, 0.00792941, 0.00981139, 0.03552759, 0.04512377]),\n",
              " 'mean_score_time': array([0.01605725, 0.01499958, 0.0205847 , 0.02599237, 0.01539836,\n",
              "        0.01321368, 0.02134302, 0.02312748, 0.01159654, 0.00874801,\n",
              "        0.01641662, 0.01983488, 0.00687113, 0.00942988, 0.01392205,\n",
              "        0.02052071, 0.00531757, 0.00888705, 0.02028551, 0.02049327]),\n",
              " 'std_score_time': array([0.00617245, 0.00440863, 0.00397544, 0.00790913, 0.01189163,\n",
              "        0.00657206, 0.00632088, 0.00858428, 0.00522581, 0.00581307,\n",
              "        0.0044006 , 0.00305106, 0.00650374, 0.00593333, 0.00681244,\n",
              "        0.00548219, 0.00402125, 0.00440057, 0.00583692, 0.01073097]),\n",
              " 'param_C': masked_array(data=[0.01, 0.01, 0.01, 0.01, 0.1, 0.1, 0.1, 0.1, 1, 1, 1, 1,\n",
              "                    10, 10, 10, 10, 100, 100, 100, 100],\n",
              "              mask=[False, False, False, False, False, False, False, False,\n",
              "                    False, False, False, False, False, False, False, False,\n",
              "                    False, False, False, False],\n",
              "        fill_value='?',\n",
              "             dtype=object),\n",
              " 'param_gamma': masked_array(data=[0.1, 1, 10, 100, 0.1, 1, 10, 100, 0.1, 1, 10, 100, 0.1,\n",
              "                    1, 10, 100, 0.1, 1, 10, 100],\n",
              "              mask=[False, False, False, False, False, False, False, False,\n",
              "                    False, False, False, False, False, False, False, False,\n",
              "                    False, False, False, False],\n",
              "        fill_value='?',\n",
              "             dtype=object),\n",
              " 'params': [{'C': 0.01, 'gamma': 0.1},\n",
              "  {'C': 0.01, 'gamma': 1},\n",
              "  {'C': 0.01, 'gamma': 10},\n",
              "  {'C': 0.01, 'gamma': 100},\n",
              "  {'C': 0.1, 'gamma': 0.1},\n",
              "  {'C': 0.1, 'gamma': 1},\n",
              "  {'C': 0.1, 'gamma': 10},\n",
              "  {'C': 0.1, 'gamma': 100},\n",
              "  {'C': 1, 'gamma': 0.1},\n",
              "  {'C': 1, 'gamma': 1},\n",
              "  {'C': 1, 'gamma': 10},\n",
              "  {'C': 1, 'gamma': 100},\n",
              "  {'C': 10, 'gamma': 0.1},\n",
              "  {'C': 10, 'gamma': 1},\n",
              "  {'C': 10, 'gamma': 10},\n",
              "  {'C': 10, 'gamma': 100},\n",
              "  {'C': 100, 'gamma': 0.1},\n",
              "  {'C': 100, 'gamma': 1},\n",
              "  {'C': 100, 'gamma': 10},\n",
              "  {'C': 100, 'gamma': 100}],\n",
              " 'split0_test_score': array([0.75862069, 0.75862069, 0.75862069, 0.75862069, 0.93103448,\n",
              "        0.93103448, 0.7816092 , 0.75862069, 0.96551724, 0.98850575,\n",
              "        0.91954023, 0.75862069, 0.97701149, 0.98850575, 0.91954023,\n",
              "        0.75862069, 0.97701149, 0.98850575, 0.91954023, 0.75862069]),\n",
              " 'split1_test_score': array([0.75862069, 0.75862069, 0.75862069, 0.75862069, 0.93103448,\n",
              "        0.91954023, 0.8045977 , 0.75862069, 0.95402299, 0.95402299,\n",
              "        0.93103448, 0.75862069, 0.96551724, 0.97701149, 0.93103448,\n",
              "        0.79310345, 0.97701149, 0.95402299, 0.93103448, 0.79310345]),\n",
              " 'split2_test_score': array([0.75862069, 0.75862069, 0.75862069, 0.75862069, 0.96551724,\n",
              "        0.96551724, 0.8045977 , 0.75862069, 0.98850575, 1.        ,\n",
              "        0.95402299, 0.77011494, 1.        , 0.98850575, 0.95402299,\n",
              "        0.7816092 , 0.97701149, 0.98850575, 0.95402299, 0.7816092 ]),\n",
              " 'split3_test_score': array([0.75862069, 0.75862069, 0.75862069, 0.75862069, 0.94252874,\n",
              "        0.94252874, 0.81609195, 0.75862069, 0.96551724, 0.97701149,\n",
              "        0.94252874, 0.77011494, 0.98850575, 1.        , 0.94252874,\n",
              "        0.8045977 , 0.98850575, 1.        , 0.94252874, 0.8045977 ]),\n",
              " 'split4_test_score': array([0.75862069, 0.75862069, 0.75862069, 0.75862069, 0.95402299,\n",
              "        0.95402299, 0.8045977 , 0.75862069, 0.98850575, 0.97701149,\n",
              "        0.96551724, 0.7816092 , 0.97701149, 0.97701149, 0.96551724,\n",
              "        0.7816092 , 0.96551724, 0.97701149, 0.96551724, 0.7816092 ]),\n",
              " 'split5_test_score': array([0.74712644, 0.74712644, 0.74712644, 0.74712644, 0.98850575,\n",
              "        0.95402299, 0.83908046, 0.74712644, 0.98850575, 0.97701149,\n",
              "        0.96551724, 0.74712644, 0.98850575, 0.97701149, 0.96551724,\n",
              "        0.77011494, 0.97701149, 0.97701149, 0.96551724, 0.77011494]),\n",
              " 'split6_test_score': array([0.74712644, 0.74712644, 0.74712644, 0.74712644, 0.97701149,\n",
              "        0.96551724, 0.8045977 , 0.74712644, 0.97701149, 0.98850575,\n",
              "        0.96551724, 0.75862069, 0.97701149, 0.98850575, 0.96551724,\n",
              "        0.81609195, 0.97701149, 0.98850575, 0.96551724, 0.81609195]),\n",
              " 'split7_test_score': array([0.75581395, 0.75581395, 0.75581395, 0.75581395, 0.94186047,\n",
              "        0.93023256, 0.77906977, 0.75581395, 0.94186047, 0.95348837,\n",
              "        0.93023256, 0.75581395, 0.96511628, 0.96511628, 0.93023256,\n",
              "        0.76744186, 0.96511628, 0.96511628, 0.93023256, 0.76744186]),\n",
              " 'split8_test_score': array([0.75581395, 0.75581395, 0.75581395, 0.75581395, 0.96511628,\n",
              "        0.95348837, 0.81395349, 0.75581395, 0.96511628, 0.95348837,\n",
              "        0.94186047, 0.76744186, 1.        , 0.98837209, 0.94186047,\n",
              "        0.77906977, 0.98837209, 0.98837209, 0.94186047, 0.77906977]),\n",
              " 'split9_test_score': array([0.75581395, 0.75581395, 0.75581395, 0.75581395, 0.91860465,\n",
              "        0.94186047, 0.79069767, 0.75581395, 0.97674419, 0.97674419,\n",
              "        0.94186047, 0.75581395, 0.97674419, 0.97674419, 0.94186047,\n",
              "        0.76744186, 0.98837209, 0.97674419, 0.94186047, 0.76744186]),\n",
              " 'mean_test_score': array([0.75547982, 0.75547982, 0.75547982, 0.75547982, 0.95152366,\n",
              "        0.94577653, 0.80388933, 0.75547982, 0.97113071, 0.97457899,\n",
              "        0.94576316, 0.76238974, 0.98154237, 0.98267843, 0.94576316,\n",
              "        0.78197006, 0.97809409, 0.98037958, 0.94576316, 0.78197006]),\n",
              " 'std_test_score': array([0.00434992, 0.00434992, 0.00434992, 0.00434992, 0.02121719,\n",
              "        0.0146562 , 0.01666448, 0.00434992, 0.01490096, 0.01539076,\n",
              "        0.01557432, 0.00936128, 0.01178803, 0.00935048, 0.01557432,\n",
              "        0.01707868, 0.00807551, 0.0126905 , 0.01557432, 0.01707868]),\n",
              " 'rank_test_score': array([16, 16, 16, 16,  7,  8, 12, 16,  6,  5,  9, 15,  2,  1,  9, 13,  4,\n",
              "         3,  9, 13], dtype=int32)}"
            ]
          },
          "metadata": {},
          "execution_count": 59
        }
      ]
    },
    {
      "cell_type": "code",
      "metadata": {
        "id": "xFNq5dL4GYKm",
        "colab": {
          "base_uri": "https://localhost:8080/"
        },
        "outputId": "dd6d3d5e-405b-4ea7-e43b-c39af852042e"
      },
      "source": [
        "pars, score = model.cv_results_[\"params\"], model.cv_results_[\"mean_test_score\"]\n",
        "\n",
        "indices = np.argsort(score)\n",
        "\n",
        "for i in indices:\n",
        "    print(pars[i], score[i].round(3))"
      ],
      "execution_count": null,
      "outputs": [
        {
          "output_type": "stream",
          "name": "stdout",
          "text": [
            "{'C': 0.01, 'gamma': 0.1} 0.755\n",
            "{'C': 0.01, 'gamma': 1} 0.755\n",
            "{'C': 0.01, 'gamma': 10} 0.755\n",
            "{'C': 0.01, 'gamma': 100} 0.755\n",
            "{'C': 0.1, 'gamma': 100} 0.755\n",
            "{'C': 1, 'gamma': 100} 0.762\n",
            "{'C': 10, 'gamma': 100} 0.782\n",
            "{'C': 100, 'gamma': 100} 0.782\n",
            "{'C': 0.1, 'gamma': 10} 0.804\n",
            "{'C': 100, 'gamma': 10} 0.946\n",
            "{'C': 1, 'gamma': 10} 0.946\n",
            "{'C': 10, 'gamma': 10} 0.946\n",
            "{'C': 0.1, 'gamma': 1} 0.946\n",
            "{'C': 0.1, 'gamma': 0.1} 0.952\n",
            "{'C': 1, 'gamma': 0.1} 0.971\n",
            "{'C': 1, 'gamma': 1} 0.975\n",
            "{'C': 100, 'gamma': 0.1} 0.978\n",
            "{'C': 100, 'gamma': 1} 0.98\n",
            "{'C': 10, 'gamma': 0.1} 0.982\n",
            "{'C': 10, 'gamma': 1} 0.983\n"
          ]
        }
      ]
    },
    {
      "cell_type": "code",
      "source": [
        "res = model.cv_results_\n",
        "\n",
        "plt.figure(figsize=(len(C)*1.5,len(gamma)*1.5))\n",
        "plt.imshow(res[\"mean_test_score\"].reshape(len(C), len(gamma)), origin=\"lower\")\n",
        "n = 0\n",
        "for i in range(len(C)):\n",
        "    for j in range(len(gamma)):\n",
        "        plt.text(j,i,\"{0:.3f}\".format(res[\"mean_test_score\"][n]), ha=\"center\")\n",
        "        n += 1\n",
        "\n",
        "plt.ylabel(\"C\")\n",
        "plt.xlabel(\"gamma\")\n",
        "plt.yticks(np.arange(len(params[\"C\"])), params[\"C\"]);\n",
        "plt.xticks(np.arange(len(params[\"gamma\"])), params[\"gamma\"]);"
      ],
      "metadata": {
        "colab": {
          "base_uri": "https://localhost:8080/",
          "height": 388
        },
        "id": "N1oAaCZrqCR4",
        "outputId": "2d1af307-6737-4f89-c427-f2fb42386b82"
      },
      "execution_count": null,
      "outputs": [
        {
          "output_type": "display_data",
          "data": {
            "text/plain": [
              "<Figure size 540x432 with 1 Axes>"
            ],
            "image/png": "[encoded data removed]"
          },
          "metadata": {
            "needs_background": "light"
          }
        }
      ]
    },
    {
      "cell_type": "code",
      "metadata": {
        "id": "VvcN0sn0GYKm",
        "colab": {
          "base_uri": "https://localhost:8080/"
        },
        "outputId": "422ca042-ab18-4816-b01e-c959515c0d31"
      },
      "source": [
        "model.best_estimator_, model.best_score_"
      ],
      "execution_count": null,
      "outputs": [
        {
          "output_type": "execute_result",
          "data": {
            "text/plain": [
              "(SVC(C=10, gamma=1), 0.9826784282277468)"
            ]
          },
          "metadata": {},
          "execution_count": 62
        }
      ]
    },
    {
      "cell_type": "code",
      "source": [
        "decision_surface(X, y, SVC(kernel=\"rbf\", C=10, gamma=1, probability=True))"
      ],
      "metadata": {
        "colab": {
          "base_uri": "https://localhost:8080/",
          "height": 281
        },
        "id": "jOIRblw16VDI",
        "outputId": "5367c04c-5db5-401e-bfb0-87cfbe974043"
      },
      "execution_count": null,
      "outputs": [
        {
          "output_type": "display_data",
          "data": {
            "text/plain": [
              "<Figure size 432x288 with 1 Axes>"
            ],
            "image/png": "[encoded data removed]"
          },
          "metadata": {
            "needs_background": "light"
          }
        }
      ]
    },
    {
      "cell_type": "markdown",
      "metadata": {
        "id": "jMH5qPGMAeB4"
      },
      "source": [
        "## **Classifier comparison**"
      ]
    },
    {
      "cell_type": "code",
      "metadata": {
        "id": "93lNl7rt3ftZ"
      },
      "source": [
        "from sklearn.neural_network import MLPClassifier # multi-layer perceptron classifier\n",
        "from sklearn.naive_bayes import GaussianNB\n",
        "from sklearn.tree import DecisionTreeClassifier\n",
        "from sklearn.neighbors import KNeighborsClassifier"
      ],
      "execution_count": null,
      "outputs": []
    },
    {
      "cell_type": "code",
      "metadata": {
        "id": "jRSP0nxqGYKn",
        "colab": {
          "base_uri": "https://localhost:8080/"
        },
        "outputId": "7e773d6a-f273-4707-9ced-2830d9ba49c4"
      },
      "source": [
        "classifiers = [SVC(kernel=\"rbf\", C=10, gamma=1),\n",
        "               DecisionTreeClassifier(),\n",
        "               MLPClassifier(max_iter=1000),\n",
        "               GaussianNB(),\n",
        "               KNeighborsClassifier()]\n",
        "\n",
        "for classifier in classifiers:\n",
        "    print(classifier)\n",
        "    classify(X, y, classifier)\n",
        "    print()"
      ],
      "execution_count": null,
      "outputs": [
        {
          "output_type": "stream",
          "name": "stdout",
          "text": [
            "SVC(C=10, gamma=1)\n",
            "0.9896017107725207\n",
            "\n",
            "DecisionTreeClassifier()\n",
            "0.9584603047313554\n",
            "\n",
            "MLPClassifier(max_iter=1000)\n",
            "0.9861668003207698\n",
            "\n",
            "GaussianNB()\n",
            "0.8950013365410319\n",
            "\n",
            "KNeighborsClassifier()\n",
            "0.9850173750334136\n",
            "\n"
          ]
        }
      ]
    },
    {
      "cell_type": "markdown",
      "metadata": {
        "id": "D_pSaCWM3gec"
      },
      "source": [
        "## **Ensemble methods**"
      ]
    },
    {
      "cell_type": "markdown",
      "source": [
        "### **Various hyper-parameters**"
      ],
      "metadata": {
        "id": "r8g4xFXRGFne"
      }
    },
    {
      "cell_type": "code",
      "metadata": {
        "id": "9Uvk2gjj3f1n"
      },
      "source": [
        "from sklearn.ensemble import StackingClassifier"
      ],
      "execution_count": null,
      "outputs": []
    },
    {
      "cell_type": "code",
      "source": [
        "classifiers = [(\"Linear\", SVC(kernel=\"linear\")),\n",
        "               (\"Quadratic\", SVC(kernel=\"poly\", degree=2))]\n",
        "\n",
        "model = make_pipeline(PCA(n_components=3),\n",
        "                      StandardScaler(),\n",
        "                      StackingClassifier(classifiers))\n",
        "\n",
        "res = cross_validate(model, X, y, cv=10)\n",
        "np.mean(res[\"test_score\"]), np.std(res[\"test_score\"])"
      ],
      "metadata": {
        "colab": {
          "base_uri": "https://localhost:8080/"
        },
        "id": "eTQkxAZCFjw4",
        "outputId": "b17bd3cd-ca56-49f3-c44d-7cf70d5805cc"
      },
      "execution_count": null,
      "outputs": [
        {
          "output_type": "execute_result",
          "data": {
            "text/plain": [
              "(0.9653702218658115, 0.015581850256831519)"
            ]
          },
          "metadata": {},
          "execution_count": 71
        }
      ]
    },
    {
      "cell_type": "code",
      "source": [
        "decision_surface(X, y, StackingClassifier(classifiers))"
      ],
      "metadata": {
        "colab": {
          "base_uri": "https://localhost:8080/",
          "height": 281
        },
        "id": "v48Iqa1NF0iI",
        "outputId": "11fc3634-8b19-40d9-d844-0a1fa6c5f242"
      },
      "execution_count": null,
      "outputs": [
        {
          "output_type": "display_data",
          "data": {
            "text/plain": [
              "<Figure size 432x288 with 1 Axes>"
            ],
            "image/png": "[encoded data removed]"
          },
          "metadata": {
            "needs_background": "light"
          }
        }
      ]
    },
    {
      "cell_type": "markdown",
      "source": [
        "### **Random forest**"
      ],
      "metadata": {
        "id": "j4VUjY3TGP3w"
      }
    },
    {
      "cell_type": "code",
      "source": [
        "classifiers = [(\"One\", DecisionTreeClassifier(random_state=1)),\n",
        "               (\"Two\", DecisionTreeClassifier(random_state=2)),\n",
        "               (\"Three\", DecisionTreeClassifier(random_state=3)),\n",
        "               (\"Four\", DecisionTreeClassifier(random_state=4))]\n",
        "\n",
        "model = make_pipeline(PCA(n_components=3),\n",
        "                      StandardScaler(),\n",
        "                      StackingClassifier(classifiers))\n",
        "\n",
        "res = cross_validate(model, X, y, cv=10)\n",
        "np.mean(res[\"test_score\"]), np.std(res[\"test_score\"])"
      ],
      "metadata": {
        "colab": {
          "base_uri": "https://localhost:8080/"
        },
        "id": "5Hltix9NWsmo",
        "outputId": "7c2cf7e1-7a68-422a-c511-402f2eca44d8"
      },
      "execution_count": null,
      "outputs": [
        {
          "output_type": "execute_result",
          "data": {
            "text/plain": [
              "(0.9618952151831062, 0.02008269760839265)"
            ]
          },
          "metadata": {},
          "execution_count": 73
        }
      ]
    },
    {
      "cell_type": "code",
      "metadata": {
        "id": "JMDa_nxxGYKr"
      },
      "source": [
        "from sklearn.ensemble import RandomForestClassifier"
      ],
      "execution_count": null,
      "outputs": []
    },
    {
      "cell_type": "code",
      "metadata": {
        "id": "gdqWpK1iGYK0",
        "colab": {
          "base_uri": "https://localhost:8080/"
        },
        "outputId": "fc84c648-1090-4fd0-a1b6-633c041b1849"
      },
      "source": [
        "model = make_pipeline(PCA(n_components=3),\n",
        "                      StandardScaler(),\n",
        "                      RandomForestClassifier(n_estimators=100))\n",
        "\n",
        "res = cross_validate(model, X, y, cv=10)\n",
        "np.mean(res[\"test_score\"]), np.std(res[\"test_score\"])"
      ],
      "execution_count": null,
      "outputs": [
        {
          "output_type": "execute_result",
          "data": {
            "text/plain": [
              "(0.9757818765036086, 0.01891295762572299)"
            ]
          },
          "metadata": {},
          "execution_count": 75
        }
      ]
    },
    {
      "cell_type": "code",
      "source": [
        "decision_surface(X, y, RandomForestClassifier(n_estimators=100))"
      ],
      "metadata": {
        "colab": {
          "base_uri": "https://localhost:8080/",
          "height": 281
        },
        "id": "7HTAt_pjD6_Q",
        "outputId": "e1f9c9f4-3091-4bf5-9650-86ef9ccd34db"
      },
      "execution_count": null,
      "outputs": [
        {
          "output_type": "display_data",
          "data": {
            "text/plain": [
              "<Figure size 432x288 with 1 Axes>"
            ],
            "image/png": "[encoded data removed]"
          },
          "metadata": {
            "needs_background": "light"
          }
        }
      ]
    },
    {
      "cell_type": "markdown",
      "source": [
        "### **Stacking multiple methods**"
      ],
      "metadata": {
        "id": "h6a8h3qkFAkd"
      }
    },
    {
      "cell_type": "code",
      "metadata": {
        "id": "ccqwzF_tGYK1",
        "colab": {
          "base_uri": "https://localhost:8080/"
        },
        "outputId": "a909d71b-a3ea-4cfd-da17-3aa56adc4f99"
      },
      "source": [
        "classifiers = [(\"SVC\", SVC(kernel=\"rbf\", C=10, gamma=1)),\n",
        "               (\"RFC\", RandomForestClassifier()),\n",
        "               (\"MLP\", MLPClassifier(max_iter=1000)),\n",
        "               (\"Bayes\", GaussianNB()),\n",
        "               (\"KNN\", KNeighborsClassifier())]\n",
        "\n",
        "model = make_pipeline(PCA(n_components=3),\n",
        "                      StandardScaler(),\n",
        "                      StackingClassifier(classifiers))\n",
        "\n",
        "res = cross_validate(model, X, y, cv=10)\n",
        "np.mean(res[\"test_score\"]), np.std(res[\"test_score\"])"
      ],
      "execution_count": null,
      "outputs": [
        {
          "output_type": "execute_result",
          "data": {
            "text/plain": [
              "(0.9896284415931568, 0.006195037090662189)"
            ]
          },
          "metadata": {},
          "execution_count": 77
        }
      ]
    },
    {
      "cell_type": "code",
      "source": [
        "decision_surface(X, y, StackingClassifier(classifiers))"
      ],
      "metadata": {
        "colab": {
          "base_uri": "https://localhost:8080/",
          "height": 281
        },
        "id": "Um00cOfpH2cn",
        "outputId": "000978d4-870c-4436-9ac6-50604b099a05"
      },
      "execution_count": null,
      "outputs": [
        {
          "output_type": "display_data",
          "data": {
            "text/plain": [
              "<Figure size 432x288 with 1 Axes>"
            ],
            "image/png": "[encoded data removed]"
          },
          "metadata": {
            "needs_background": "light"
          }
        }
      ]
    },
    {
      "cell_type": "markdown",
      "source": [
        "## **Performance evaluation**"
      ],
      "metadata": {
        "id": "bnIInEhCXdFP"
      }
    },
    {
      "cell_type": "markdown",
      "source": [
        "### **[`classification_report`](https://scikit-learn.org/stable/modules/generated/sklearn.metrics.classification_report.html) and [`ConfusionMatrixDisplay`](https://scikit-learn.org/stable/modules/generated/sklearn.metrics.ConfusionMatrixDisplay.html)**"
      ],
      "metadata": {
        "id": "OEuCneVx0Ep9"
      }
    },
    {
      "cell_type": "code",
      "source": [
        "from sklearn.metrics import classification_report, ConfusionMatrixDisplay"
      ],
      "metadata": {
        "id": "am_qy-DK0FLu"
      },
      "execution_count": null,
      "outputs": []
    },
    {
      "cell_type": "code",
      "source": [
        "classifiers = [(\"SVC\", SVC(kernel=\"rbf\", C=10, gamma=1)),\n",
        "               (\"RFC\", RandomForestClassifier()),\n",
        "               (\"MLP\", MLPClassifier(max_iter=1000)),\n",
        "               (\"Bayes\", GaussianNB()),\n",
        "               (\"KNN\", KNeighborsClassifier())]\n",
        "\n",
        "model = make_pipeline(PCA(n_components=3),\n",
        "                      StandardScaler(),\n",
        "                      StackingClassifier(classifiers))\n",
        "\n",
        "model.fit(X_train, y_train)\n",
        "\n",
        "y_pred = model.predict(X_test)\n",
        "\n",
        "print(classification_report(y_test, y_pred, digits=3))"
      ],
      "metadata": {
        "id": "XIdS0Y3P0FOn",
        "colab": {
          "base_uri": "https://localhost:8080/"
        },
        "outputId": "02d716fe-6262-4585-cbf1-8b0cd1683bac"
      },
      "execution_count": null,
      "outputs": [
        {
          "output_type": "stream",
          "name": "stdout",
          "text": [
            "              precision    recall  f1-score   support\n",
            "\n",
            "           0      0.946     1.000     0.972        53\n",
            "           1      1.000     0.982     0.991       164\n",
            "\n",
            "    accuracy                          0.986       217\n",
            "   macro avg      0.973     0.991     0.982       217\n",
            "weighted avg      0.987     0.986     0.986       217\n",
            "\n"
          ]
        }
      ]
    },
    {
      "cell_type": "code",
      "source": [
        "ConfusionMatrixDisplay.from_estimator(model, X_test, y_test, display_labels=[\"QSO\", \"star\"]);"
      ],
      "metadata": {
        "id": "FoWrqWNF0FR5",
        "colab": {
          "base_uri": "https://localhost:8080/",
          "height": 282
        },
        "outputId": "e5fc1679-cf16-42d8-ba3b-55c926991fc3"
      },
      "execution_count": null,
      "outputs": [
        {
          "output_type": "display_data",
          "data": {
            "text/plain": [
              "<Figure size 432x288 with 2 Axes>"
            ],
            "image/png": "[encoded data removed]"
          },
          "metadata": {
            "needs_background": "light"
          }
        }
      ]
    },
    {
      "cell_type": "markdown",
      "metadata": {
        "id": "mUhmTJO3GYK1"
      },
      "source": [
        "## **Conclusion**"
      ]
    },
    {
      "cell_type": "code",
      "metadata": {
        "id": "R3tjj2vcGYK1",
        "colab": {
          "base_uri": "https://localhost:8080/",
          "height": 296
        },
        "outputId": "1035630e-d086-49ca-cc13-3436fce86481"
      },
      "source": [
        "# Data preparation\n",
        "X = data[[\"u\",\"g\",\"r\",\"i\",\"z\"]]\n",
        "le = LabelEncoder()\n",
        "y = le.fit_transform(data[\"target\"])\n",
        "\n",
        "# Train-test split\n",
        "X_train, X_test, y_train, y_test = train_test_split(X, y, test_size=0.1, stratify=y, random_state=420)\n",
        "\n",
        "# Stacking classifiers\n",
        "classifiers = [(\"SVC\", SVC(kernel=\"rbf\", C=10, gamma=1)),\n",
        "               (\"RFC\", RandomForestClassifier()),\n",
        "               (\"MLP\", MLPClassifier(max_iter=1000)),\n",
        "               (\"Bayes\", GaussianNB()),\n",
        "               (\"KNN\", KNeighborsClassifier())]\n",
        "\n",
        "# Making a pipeline\n",
        "model = make_pipeline(PCA(n_components=3),\n",
        "                      StandardScaler(),\n",
        "                      StackingClassifier(classifiers))\n",
        "\n",
        "# Fitting a model for train data\n",
        "model.fit(X_train, y_train)\n",
        "\n",
        "# Testing a model on test data\n",
        "score = model.score(X_test, y_test)\n",
        "ConfusionMatrixDisplay.from_estimator(model, X_test, y_test, display_labels=[\"QSO\", \"star\"]);\n",
        "\n",
        "# Cross-validation\n",
        "res = cross_validate(model, X, y, cv=10)\n",
        "print(np.mean(res[\"test_score\"]), np.std(res[\"test_score\"]))"
      ],
      "execution_count": null,
      "outputs": [
        {
          "output_type": "stream",
          "name": "stdout",
          "text": [
            "0.9896284415931568 0.006195037090662189\n"
          ]
        },
        {
          "output_type": "display_data",
          "data": {
            "text/plain": [
              "<Figure size 432x288 with 2 Axes>"
            ],
            "image/png": "[encoded data removed]"
          },
          "metadata": {
            "needs_background": "light"
          }
        }
      ]
    },
    {
      "cell_type": "markdown",
      "source": [
        "## **Model inference**"
      ],
      "metadata": {
        "id": "piZXL3PN0Grh"
      }
    },
    {
      "cell_type": "code",
      "source": [
        "classifiers = [(\"SVC\", SVC(kernel=\"rbf\", C=10, gamma=1)),\n",
        "               (\"RFC\", RandomForestClassifier()),\n",
        "               (\"MLP\", MLPClassifier(max_iter=1000)),\n",
        "               (\"Bayes\", GaussianNB()),\n",
        "               (\"KNN\", KNeighborsClassifier())]\n",
        "\n",
        "model = make_pipeline(PCA(n_components=3),\n",
        "                      StandardScaler(),\n",
        "                      StackingClassifier(classifiers))\n",
        "\n",
        "model.fit(X, y)"
      ],
      "metadata": {
        "id": "ouEW5qescwo8",
        "outputId": "ad32e1f0-cee9-4043-f961-e53b43d5d762",
        "colab": {
          "base_uri": "https://localhost:8080/"
        }
      },
      "execution_count": null,
      "outputs": [
        {
          "output_type": "execute_result",
          "data": {
            "text/plain": [
              "Pipeline(steps=[('pca', PCA(n_components=3)),\n",
              "                ('standardscaler', StandardScaler()),\n",
              "                ('stackingclassifier',\n",
              "                 StackingClassifier(estimators=[('SVC', SVC(C=10, gamma=1)),\n",
              "                                                ('RFC',\n",
              "                                                 RandomForestClassifier()),\n",
              "                                                ('MLP',\n",
              "                                                 MLPClassifier(max_iter=1000)),\n",
              "                                                ('Bayes', GaussianNB()),\n",
              "                                                ('KNN',\n",
              "                                                 KNeighborsClassifier())]))])"
            ]
          },
          "metadata": {},
          "execution_count": 83
        }
      ]
    },
    {
      "cell_type": "markdown",
      "source": [
        "### task 11: **pick an object from SDSS and classify it**\n",
        "\n",
        "http://skyserver.sdss.org/dr7/en/tools/search/radial.asp"
      ],
      "metadata": {
        "id": "ngmliPGF0KYg"
      }
    },
    {
      "cell_type": "code",
      "metadata": {
        "id": "f3SeWR9NNlmE",
        "colab": {
          "base_uri": "https://localhost:8080/",
          "height": 81
        },
        "outputId": "8aa07cb0-17a9-45b1-ea28-1e337f4247fd"
      },
      "source": [
        "u = 15.914\n",
        "g = 15.500\n",
        "r = 16.2\n",
        "i = 16.5\n",
        "z = 17.1\n",
        "\n",
        "X_real = pd.DataFrame(np.array([[u,g,r,i,z]]), columns=[\"u\",\"g\",\"r\",\"i\",\"z\"])\n",
        "\n",
        "X_real"
      ],
      "execution_count": null,
      "outputs": [
        {
          "output_type": "execute_result",
          "data": {
            "text/plain": [
              "        u     g     r     i     z\n",
              "0  15.914  15.5  16.2  16.5  17.1"
            ],
            "text/html": [
              "\n",
              "  <div id=\"df-5c86dff8-8e7f-434b-a0f7-ac77b3833f10\">\n",
              "    <div class=\"colab-df-container\">\n",
              "      <div>\n",
              "<style scoped>\n",
              "    .dataframe tbody tr th:only-of-type {\n",
              "        vertical-align: middle;\n",
              "    }\n",
              "\n",
              "    .dataframe tbody tr th {\n",
              "        vertical-align: top;\n",
              "    }\n",
              "\n",
              "    .dataframe thead th {\n",
              "        text-align: right;\n",
              "    }\n",
              "</style>\n",
              "<table border=\"1\" class=\"dataframe\">\n",
              "  <thead>\n",
              "    <tr style=\"text-align: right;\">\n",
              "      <th></th>\n",
              "      <th>u</th>\n",
              "      <th>g</th>\n",
              "      <th>r</th>\n",
              "      <th>i</th>\n",
              "      <th>z</th>\n",
              "    </tr>\n",
              "  </thead>\n",
              "  <tbody>\n",
              "    <tr>\n",
              "      <th>0</th>\n",
              "      <td>15.914</td>\n",
              "      <td>15.5</td>\n",
              "      <td>16.2</td>\n",
              "      <td>16.5</td>\n",
              "      <td>17.1</td>\n",
              "    </tr>\n",
              "  </tbody>\n",
              "</table>\n",
              "</div>\n",
              "      <button class=\"colab-df-convert\" onclick=\"convertToInteractive('df-5c86dff8-8e7f-434b-a0f7-ac77b3833f10')\"\n",
              "              title=\"Convert this dataframe to an interactive table.\"\n",
              "              style=\"display:none;\">\n",
              "        \n",
              "  <svg xmlns=\"http://www.w3.org/2000/svg\" height=\"24px\"viewBox=\"0 0 24 24\"\n",
              "       width=\"24px\">\n",
              "    <path d=\"M0 0h24v24H0V0z\" fill=\"none\"/>\n",
              "    <path d=\"M18.56 5.44l.94 2.06.94-2.06 2.06-.94-2.06-.94-.94-2.06-.94 2.06-2.06.94zm-11 1L8.5 8.5l.94-2.06 2.06-.94-2.06-.94L8.5 2.5l-.94 2.06-2.06.94zm10 10l.94 2.06.94-2.06 2.06-.94-2.06-.94-.94-2.06-.94 2.06-2.06.94z\"/><path d=\"M17.41 7.96l-1.37-1.37c-.4-.4-.92-.59-1.43-.59-.52 0-1.04.2-1.43.59L10.3 9.45l-7.72 7.72c-.78.78-.78 2.05 0 2.83L4 21.41c.39.39.9.59 1.41.59.51 0 1.02-.2 1.41-.59l7.78-7.78 2.81-2.81c.8-.78.8-2.07 0-2.86zM5.41 20L4 18.59l7.72-7.72 1.47 1.35L5.41 20z\"/>\n",
              "  </svg>\n",
              "      </button>\n",
              "      \n",
              "  <style>\n",
              "    .colab-df-container {\n",
              "      display:flex;\n",
              "      flex-wrap:wrap;\n",
              "      gap: 12px;\n",
              "    }\n",
              "\n",
              "    .colab-df-convert {\n",
              "      background-color: #E8F0FE;\n",
              "      border: none;\n",
              "      border-radius: 50%;\n",
              "      cursor: pointer;\n",
              "      display: none;\n",
              "      fill: #1967D2;\n",
              "      height: 32px;\n",
              "      padding: 0 0 0 0;\n",
              "      width: 32px;\n",
              "    }\n",
              "\n",
              "    .colab-df-convert:hover {\n",
              "      background-color: #E2EBFA;\n",
              "      box-shadow: 0px 1px 2px rgba(60, 64, 67, 0.3), 0px 1px 3px 1px rgba(60, 64, 67, 0.15);\n",
              "      fill: #174EA6;\n",
              "    }\n",
              "\n",
              "    [theme=dark] .colab-df-convert {\n",
              "      background-color: #3B4455;\n",
              "      fill: #D2E3FC;\n",
              "    }\n",
              "\n",
              "    [theme=dark] .colab-df-convert:hover {\n",
              "      background-color: #434B5C;\n",
              "      box-shadow: 0px 1px 3px 1px rgba(0, 0, 0, 0.15);\n",
              "      filter: drop-shadow(0px 1px 2px rgba(0, 0, 0, 0.3));\n",
              "      fill: #FFFFFF;\n",
              "    }\n",
              "  </style>\n",
              "\n",
              "      <script>\n",
              "        const buttonEl =\n",
              "          document.querySelector('#df-5c86dff8-8e7f-434b-a0f7-ac77b3833f10 button.colab-df-convert');\n",
              "        buttonEl.style.display =\n",
              "          google.colab.kernel.accessAllowed ? 'block' : 'none';\n",
              "\n",
              "        async function convertToInteractive(key) {\n",
              "          const element = document.querySelector('#df-5c86dff8-8e7f-434b-a0f7-ac77b3833f10');\n",
              "          const dataTable =\n",
              "            await google.colab.kernel.invokeFunction('convertToInteractive',\n",
              "                                                     [key], {});\n",
              "          if (!dataTable) return;\n",
              "\n",
              "          const docLinkHtml = 'Like what you see? Visit the ' +\n",
              "            '<a target=\"_blank\" href=https://colab.research.google.com/notebooks/data_table.ipynb>data table notebook</a>'\n",
              "            + ' to learn more about interactive tables.';\n",
              "          element.innerHTML = '';\n",
              "          dataTable['output_type'] = 'display_data';\n",
              "          await google.colab.output.renderOutput(dataTable, element);\n",
              "          const docLink = document.createElement('div');\n",
              "          docLink.innerHTML = docLinkHtml;\n",
              "          element.appendChild(docLink);\n",
              "        }\n",
              "      </script>\n",
              "    </div>\n",
              "  </div>\n",
              "  "
            ]
          },
          "metadata": {},
          "execution_count": 84
        }
      ]
    },
    {
      "cell_type": "code",
      "metadata": {
        "id": "ZNg6aU3TE0Ba",
        "colab": {
          "base_uri": "https://localhost:8080/"
        },
        "outputId": "fb45c772-5367-4616-8068-89d4b25b8a84"
      },
      "source": [
        "pred = model.predict(X_real)\n",
        "\n",
        "le.inverse_transform(pred)"
      ],
      "execution_count": null,
      "outputs": [
        {
          "output_type": "execute_result",
          "data": {
            "text/plain": [
              "array(['star'], dtype=object)"
            ]
          },
          "metadata": {},
          "execution_count": 85
        }
      ]
    },
    {
      "cell_type": "code",
      "source": [
        "plt.plot(X.u[y == 1], X.g[y == 1], \".\")\n",
        "plt.plot(X.u[y == 0], X.g[y == 0], \".\")\n",
        "plt.plot(u, g, \"o\")"
      ],
      "metadata": {
        "id": "wGCeUSOY0gX2",
        "colab": {
          "base_uri": "https://localhost:8080/",
          "height": 282
        },
        "outputId": "bdc7a550-4e96-4d3b-fed0-5868b6680c37"
      },
      "execution_count": null,
      "outputs": [
        {
          "output_type": "execute_result",
          "data": {
            "text/plain": [
              "[<matplotlib.lines.Line2D at 0x7f58b67d6550>]"
            ]
          },
          "metadata": {},
          "execution_count": 92
        },
        {
          "output_type": "display_data",
          "data": {
            "text/plain": [
              "<Figure size 432x288 with 1 Axes>"
            ],
            "image/png": "[encoded data removed]"
          },
          "metadata": {
            "needs_background": "light"
          }
        }
      ]
    },
    {
      "cell_type": "code",
      "source": [],
      "metadata": {
        "id": "ddBspnOkPVZ6"
      },
      "execution_count": null,
      "outputs": []
    }
  ]
}