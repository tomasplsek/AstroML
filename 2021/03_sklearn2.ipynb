{
  "nbformat": 4,
  "nbformat_minor": 0,
  "metadata": {
    "colab": {
      "name": "01_uvod.ipynb",
      "provenance": [],
      "collapsed_sections": [],
      "toc_visible": true,
      "include_colab_link": true
    },
    "kernelspec": {
      "display_name": "Python 3",
      "language": "python",
      "name": "python3"
    },
    "language_info": {
      "codemirror_mode": {
        "name": "ipython",
        "version": 3
      },
      "file_extension": ".py",
      "mimetype": "text/x-python",
      "name": "python",
      "nbconvert_exporter": "python",
      "pygments_lexer": "ipython3",
      "version": "3.8.10"
    },
    "toc-autonumbering": false
  },
  "cells": [
    {
      "cell_type": "markdown",
      "metadata": {
        "id": "view-in-github",
        "colab_type": "text"
      },
      "source": [
        "<a href=\"https://colab.research.google.com/github/tomasplsek/AstroML/blob/main/03_sklearn2.ipynb\" target=\"_parent\"><img src=\"https://colab.research.google.com/assets/colab-badge.svg\" alt=\"Open In Colab\"/></a>"
      ]
    },
    {
      "cell_type": "markdown",
      "metadata": {
        "id": "uOHZeYnyBsZK"
      },
      "source": [
        "# **Introduction to Machine learning for astronomers in Python**\n",
        "\n",
        "\n"
      ]
    },
    {
      "cell_type": "markdown",
      "metadata": {
        "id": "w5pcm7J6fqxK"
      },
      "source": [
        "# 3. hands-on session: **Classification problem: from *Data* to *Inference***"
      ]
    },
    {
      "cell_type": "markdown",
      "metadata": {
        "id": "qXE0gT_O3l-l"
      },
      "source": [
        "## **Contents**\n",
        "\n",
        "1. Obtain (good) data\n",
        "1. Preprocess the data\n",
        "1. Select features & reduce dimensions\n",
        "1. Find best hyperparameters\n",
        "1. Closs-validate\n",
        "1. Compare classifiers\n",
        "1. Combine classifiers\n",
        "1. Predict"
      ]
    },
    {
      "cell_type": "code",
      "metadata": {
        "id": "ZCF_HPrGAIMK"
      },
      "source": [
        "import numpy as np\n",
        "import pandas as pd\n",
        "import matplotlib.pyplot as plt"
      ],
      "execution_count": 1,
      "outputs": []
    },
    {
      "cell_type": "markdown",
      "metadata": {
        "id": "LzzgLE1IEQ4D"
      },
      "source": [
        "## **Obtain (good) data**\n",
        "\n",
        "- enough datapoints\n",
        "- distinguishable features\n",
        "- not so much omitted datapoints\n",
        "- representant dataset\n",
        "- unbiased dataset"
      ]
    },
    {
      "cell_type": "markdown",
      "metadata": {
        "id": "EQF9cS5MBGBF"
      },
      "source": [
        "### **Random points**"
      ]
    },
    {
      "cell_type": "code",
      "metadata": {
        "colab": {
          "base_uri": "https://localhost:8080/",
          "height": 265
        },
        "id": "hSlXJx8AMU9Y",
        "outputId": "e763d642-fe2e-4a10-ee44-a1a72541e58a"
      },
      "source": [
        "# generate data\n",
        "dist1 = np.random.multivariate_normal([-2, 2], [[1, 0], [0, 1]], size=500)\n",
        "dist2 = np.random.multivariate_normal([0, 0], [[1, 0], [0, 1]], size=500)\n",
        "\n",
        "# plot data\n",
        "plt.scatter(dist1[:, 0], dist1[:, 1], color='red')\n",
        "plt.scatter(dist2[:, 0], dist2[:, 1], color='green');"
      ],
      "execution_count": 2,
      "outputs": [
        {
          "output_type": "display_data",
          "data": {
            "image/png": "[encoded data removed]",
            "text/plain": [
              "<Figure size 432x288 with 1 Axes>"
            ]
          },
          "metadata": {
            "needs_background": "light"
          }
        }
      ]
    },
    {
      "cell_type": "code",
      "metadata": {
        "colab": {
          "base_uri": "https://localhost:8080/",
          "height": 265
        },
        "id": "C7uWazwH9Rxe",
        "outputId": "af807cab-377e-4361-fcdd-e03e5120a57c"
      },
      "source": [
        "# generate data\n",
        "dist1 = np.random.multivariate_normal([-2, 2], [[1, 0], [0, 1]], size=5)\n",
        "dist2 = np.random.multivariate_normal([0, 0], [[1, 0], [0, 1]], size=5)\n",
        "\n",
        "# plot data\n",
        "plt.scatter(dist1[:, 0], dist1[:, 1], color='red')\n",
        "plt.scatter(dist2[:, 0], dist2[:, 1], color='green');"
      ],
      "execution_count": 3,
      "outputs": [
        {
          "output_type": "display_data",
          "data": {
            "image/png": "[encoded data removed]",
            "text/plain": [
              "<Figure size 432x288 with 1 Axes>"
            ]
          },
          "metadata": {
            "needs_background": "light"
          }
        }
      ]
    },
    {
      "cell_type": "code",
      "metadata": {
        "colab": {
          "base_uri": "https://localhost:8080/",
          "height": 265
        },
        "id": "rJiB6fgv6Sdk",
        "outputId": "47f39e96-86a1-4a97-a1b8-7061089a6bd3"
      },
      "source": [
        "# generate data\n",
        "dist1 = np.random.multivariate_normal([0, 0], [[1, 0], [0, 1]], size=500)\n",
        "dist2 = np.random.multivariate_normal([0, 0], [[1, 0], [0, 1]], size=500)\n",
        "\n",
        "# plot data\n",
        "plt.scatter(dist1[:, 0], dist1[:, 1], color='red')\n",
        "plt.scatter(dist2[:, 0], dist2[:, 1], color='green');"
      ],
      "execution_count": 4,
      "outputs": [
        {
          "output_type": "display_data",
          "data": {
            "image/png": "[encoded data removed]",
            "text/plain": [
              "<Figure size 432x288 with 1 Axes>"
            ]
          },
          "metadata": {
            "needs_background": "light"
          }
        }
      ]
    },
    {
      "cell_type": "code",
      "metadata": {
        "colab": {
          "base_uri": "https://localhost:8080/",
          "height": 739
        },
        "id": "naSeaAax-_vM",
        "outputId": "53d52773-5f99-4a50-9603-4f54c3d55cce"
      },
      "source": [
        "X1 = np.hstack((np.random.uniform(15, 50, size=10), \n",
        "                np.random.uniform(5, 20, size=4)))\n",
        "\n",
        "X2 = np.hstack((np.random.uniform(8, 30, size=10), \n",
        "                np.random.uniform(3, 10, size=4)))\n",
        "\n",
        "X2[::3] = np.nan\n",
        "\n",
        "y = 10*[\"Dog\"] + 4*[\"Cat\"]\n",
        "labels = 10*[0] + 4*[1]\n",
        "\n",
        "plt.scatter(X1, X2, c=labels)\n",
        "\n",
        "pd.options.display.float_format = \"{:,.2g}\".format\n",
        "pd.DataFrame({\"Height\" : X1, \"Width\" : X2, \"Species\" : y})"
      ],
      "execution_count": 5,
      "outputs": [
        {
          "output_type": "execute_result",
          "data": {
            "text/html": [
              "<div>\n",
              "<style scoped>\n",
              "    .dataframe tbody tr th:only-of-type {\n",
              "        vertical-align: middle;\n",
              "    }\n",
              "\n",
              "    .dataframe tbody tr th {\n",
              "        vertical-align: top;\n",
              "    }\n",
              "\n",
              "    .dataframe thead th {\n",
              "        text-align: right;\n",
              "    }\n",
              "</style>\n",
              "<table border=\"1\" class=\"dataframe\">\n",
              "  <thead>\n",
              "    <tr style=\"text-align: right;\">\n",
              "      <th></th>\n",
              "      <th>Height</th>\n",
              "      <th>Width</th>\n",
              "      <th>Species</th>\n",
              "    </tr>\n",
              "  </thead>\n",
              "  <tbody>\n",
              "    <tr>\n",
              "      <th>0</th>\n",
              "      <td>26</td>\n",
              "      <td>nan</td>\n",
              "      <td>Dog</td>\n",
              "    </tr>\n",
              "    <tr>\n",
              "      <th>1</th>\n",
              "      <td>28</td>\n",
              "      <td>19</td>\n",
              "      <td>Dog</td>\n",
              "    </tr>\n",
              "    <tr>\n",
              "      <th>2</th>\n",
              "      <td>42</td>\n",
              "      <td>24</td>\n",
              "      <td>Dog</td>\n",
              "    </tr>\n",
              "    <tr>\n",
              "      <th>3</th>\n",
              "      <td>23</td>\n",
              "      <td>nan</td>\n",
              "      <td>Dog</td>\n",
              "    </tr>\n",
              "    <tr>\n",
              "      <th>4</th>\n",
              "      <td>31</td>\n",
              "      <td>11</td>\n",
              "      <td>Dog</td>\n",
              "    </tr>\n",
              "    <tr>\n",
              "      <th>5</th>\n",
              "      <td>40</td>\n",
              "      <td>9.9</td>\n",
              "      <td>Dog</td>\n",
              "    </tr>\n",
              "    <tr>\n",
              "      <th>6</th>\n",
              "      <td>24</td>\n",
              "      <td>nan</td>\n",
              "      <td>Dog</td>\n",
              "    </tr>\n",
              "    <tr>\n",
              "      <th>7</th>\n",
              "      <td>34</td>\n",
              "      <td>15</td>\n",
              "      <td>Dog</td>\n",
              "    </tr>\n",
              "    <tr>\n",
              "      <th>8</th>\n",
              "      <td>22</td>\n",
              "      <td>10</td>\n",
              "      <td>Dog</td>\n",
              "    </tr>\n",
              "    <tr>\n",
              "      <th>9</th>\n",
              "      <td>25</td>\n",
              "      <td>nan</td>\n",
              "      <td>Dog</td>\n",
              "    </tr>\n",
              "    <tr>\n",
              "      <th>10</th>\n",
              "      <td>5.5</td>\n",
              "      <td>5.6</td>\n",
              "      <td>Cat</td>\n",
              "    </tr>\n",
              "    <tr>\n",
              "      <th>11</th>\n",
              "      <td>11</td>\n",
              "      <td>4.7</td>\n",
              "      <td>Cat</td>\n",
              "    </tr>\n",
              "    <tr>\n",
              "      <th>12</th>\n",
              "      <td>15</td>\n",
              "      <td>nan</td>\n",
              "      <td>Cat</td>\n",
              "    </tr>\n",
              "    <tr>\n",
              "      <th>13</th>\n",
              "      <td>11</td>\n",
              "      <td>7.9</td>\n",
              "      <td>Cat</td>\n",
              "    </tr>\n",
              "  </tbody>\n",
              "</table>\n",
              "</div>"
            ],
            "text/plain": [
              "    Height  Width Species\n",
              "0       26    nan     Dog\n",
              "1       28     19     Dog\n",
              "2       42     24     Dog\n",
              "3       23    nan     Dog\n",
              "4       31     11     Dog\n",
              "5       40    9.9     Dog\n",
              "6       24    nan     Dog\n",
              "7       34     15     Dog\n",
              "8       22     10     Dog\n",
              "9       25    nan     Dog\n",
              "10     5.5    5.6     Cat\n",
              "11      11    4.7     Cat\n",
              "12      15    nan     Cat\n",
              "13      11    7.9     Cat"
            ]
          },
          "metadata": {},
          "execution_count": 5
        },
        {
          "output_type": "display_data",
          "data": {
            "image/png": "[encoded data removed]",
            "text/plain": [
              "<Figure size 432x288 with 1 Axes>"
            ]
          },
          "metadata": {
            "needs_background": "light"
          }
        }
      ]
    },
    {
      "cell_type": "code",
      "metadata": {
        "colab": {
          "base_uri": "https://localhost:8080/",
          "height": 269
        },
        "id": "pBoRjl8jMRGQ",
        "outputId": "53aa67f8-4e7b-47cd-bbca-f8aa0610373f"
      },
      "source": [
        "# generate data\n",
        "dist1 = np.random.multivariate_normal([-6, 6], [[1, 0], [0, 1]], size=500)\n",
        "dist2 = np.random.multivariate_normal([0, 0], [[1, 0], [0, 1]], size=500)\n",
        "\n",
        "# plot data\n",
        "plt.scatter(dist1[:, 0], dist1[:, 1], color='red')\n",
        "plt.scatter(dist2[:, 0], dist2[:, 1], color='green');\n",
        "\n",
        "plt.xlim(-10, 5)\n",
        "plt.ylim(-5, 10)\n",
        "plt.text(-3, 3, \"?\", fontsize=30);"
      ],
      "execution_count": 6,
      "outputs": [
        {
          "output_type": "display_data",
          "data": {
            "image/png": "[encoded data removed]",
            "text/plain": [
              "<Figure size 432x288 with 1 Axes>"
            ]
          },
          "metadata": {
            "needs_background": "light"
          }
        }
      ]
    },
    {
      "cell_type": "code",
      "metadata": {
        "colab": {
          "base_uri": "https://localhost:8080/",
          "height": 265
        },
        "id": "pHdNwNKX7jVb",
        "outputId": "26993c0b-a84e-4fbd-bb24-21a06e6593f2"
      },
      "source": [
        "# generate data\n",
        "dist1 = np.random.multivariate_normal([-2, -2], [[1, 0], [0, 1]], size=500)\n",
        "dist2 = np.random.multivariate_normal([0, 0], [[1, 0], [0, 1]], size=500)\n",
        "\n",
        "# plot data\n",
        "x0, y0, r = -6, 9, 10\n",
        "opacities1 = np.where(np.sqrt((dist1[:,0]-x0)**2 + (dist1[:,1]-y0)**2) < r, 1, 0.1)\n",
        "colors1 = np.ones((500,3)) * np.array([0, 128, 0]) / 255\n",
        "colors1 = np.column_stack((colors1, opacities1))\n",
        "\n",
        "opacities2 = np.where(np.sqrt((dist2[:,0]-x0)**2 + (dist2[:,1]-y0)**2) < r, 1, 0.1)\n",
        "colors2 = np.ones((500,3)) * np.array([255, 0, 0]) / 255\n",
        "colors2 = np.column_stack((colors2, opacities2))\n",
        "\n",
        "fig, ax = plt.subplots()\n",
        "ax.scatter(dist1[:, 0], dist1[:, 1], c=colors1)\n",
        "ax.scatter(dist2[:, 0], dist2[:, 1], c=colors2);\n",
        "\n",
        "circle = plt.Circle((x0, y0), r, color=\"black\", fill=False, lw=2)\n",
        "ax.add_artist(circle);"
      ],
      "execution_count": 7,
      "outputs": [
        {
          "output_type": "display_data",
          "data": {
            "image/png": "[encoded data removed]",
            "text/plain": [
              "<Figure size 432x288 with 1 Axes>"
            ]
          },
          "metadata": {
            "needs_background": "light"
          }
        }
      ]
    },
    {
      "cell_type": "code",
      "metadata": {
        "colab": {
          "base_uri": "https://localhost:8080/",
          "height": 265
        },
        "id": "s9sArqo79JS3",
        "outputId": "46e34ebd-6547-4db6-8269-2939bd3dc616"
      },
      "source": [
        "# generate data\n",
        "dist1 = np.random.multivariate_normal([2, 0], [[1, 0], [0, 1]], size=500)\n",
        "dist2 = np.random.multivariate_normal([0, 2], [[1, 0], [0, 1]], size=500)\n",
        "\n",
        "# plot data\n",
        "plt.scatter(dist1[:, 0], dist1[:, 1], color='red')\n",
        "plt.scatter(dist2[:, 0], dist2[:, 1], color='green');"
      ],
      "execution_count": 8,
      "outputs": [
        {
          "output_type": "display_data",
          "data": {
            "image/png": "[encoded data removed]",
            "text/plain": [
              "<Figure size 432x288 with 1 Axes>"
            ]
          },
          "metadata": {
            "needs_background": "light"
          }
        }
      ]
    },
    {
      "cell_type": "markdown",
      "metadata": {
        "id": "_RKvO86fBJfI"
      },
      "source": [
        "### **Random points with scikit-learn**"
      ]
    },
    {
      "cell_type": "code",
      "metadata": {
        "colab": {
          "base_uri": "https://localhost:8080/",
          "height": 265
        },
        "id": "1SrcuSm06kcD",
        "outputId": "5c48b1d1-0ecd-4952-e2be-418b5cbdda14"
      },
      "source": [
        "from sklearn.datasets import make_classification\n",
        "\n",
        "X, y = make_classification(n_samples=1000, \n",
        "                           n_classes=2, \n",
        "                           n_features=2, \n",
        "                           n_informative=2, \n",
        "                           n_redundant=0, \n",
        "                           random_state=666)\n",
        "\n",
        "i1, i2 = y == 0, y == 1\n",
        "\n",
        "plt.scatter(X[:, 0][i1], X[:, 1][i1], color='red')\n",
        "plt.scatter(X[:, 0][i2], X[:, 1][i2], color='green');"
      ],
      "execution_count": 9,
      "outputs": [
        {
          "output_type": "display_data",
          "data": {
            "image/png": "[encoded data removed]",
            "text/plain": [
              "<Figure size 432x288 with 1 Axes>"
            ]
          },
          "metadata": {
            "needs_background": "light"
          }
        }
      ]
    },
    {
      "cell_type": "markdown",
      "metadata": {
        "id": "i9k48m0YBRGR"
      },
      "source": [
        "### **[Scikit-learn datasets](https://scikit-learn.org/stable/datasets/toy_dataset.html)**"
      ]
    },
    {
      "cell_type": "markdown",
      "metadata": {
        "id": "oY_yLRpHBXpq"
      },
      "source": [
        "#### **Iris dataset**\n",
        "\n",
        "![](https://www.aifunded.es/images/iris.png)"
      ]
    },
    {
      "cell_type": "code",
      "metadata": {
        "colab": {
          "base_uri": "https://localhost:8080/",
          "height": 409
        },
        "id": "ZD9Y-rJl6kl-",
        "outputId": "58d111f9-3fdd-4443-9ebc-31e4b837905f"
      },
      "source": [
        "from sklearn.datasets import load_iris # kosatec\n",
        "\n",
        "iris = load_iris()\n",
        "X, y = iris[\"data\"], iris[\"target\"]\n",
        "\n",
        "#X, y = load_iris(return_X_y = True)\n",
        "\n",
        "i1, i2, i3 = y==0, y==1, y==2\n",
        "\n",
        "plt.figure(figsize=(12,5))\n",
        "\n",
        "plt.subplot(121)\n",
        "plt.scatter(X[:, 0], X[:, 1], c=y)\n",
        "\n",
        "plt.subplot(122)\n",
        "plt.scatter(X[:, 2], X[:, 3], c=y)\n",
        "\n",
        "iris[\"target_names\"], iris[\"feature_names\"]"
      ],
      "execution_count": 10,
      "outputs": [
        {
          "output_type": "execute_result",
          "data": {
            "text/plain": [
              "(array(['setosa', 'versicolor', 'virginica'], dtype='<U10'),\n",
              " ['sepal length (cm)',\n",
              "  'sepal width (cm)',\n",
              "  'petal length (cm)',\n",
              "  'petal width (cm)'])"
            ]
          },
          "metadata": {},
          "execution_count": 10
        },
        {
          "output_type": "display_data",
          "data": {
            "image/png": "[encoded data removed]",
            "text/plain": [
              "<Figure size 864x360 with 2 Axes>"
            ]
          },
          "metadata": {
            "needs_background": "light"
          }
        }
      ]
    },
    {
      "cell_type": "code",
      "metadata": {
        "colab": {
          "base_uri": "https://localhost:8080/"
        },
        "id": "FBEQmIMCTq06",
        "outputId": "ca7dac0d-d0a8-44e6-d6a8-17c2d7a15b00"
      },
      "source": [
        "!pip install corner\n",
        "import corner"
      ],
      "execution_count": 11,
      "outputs": [
        {
          "output_type": "stream",
          "name": "stdout",
          "text": [
            "Requirement already satisfied: corner in /usr/local/lib/python3.7/dist-packages (2.2.1)\n",
            "Requirement already satisfied: matplotlib>=2.1 in /usr/local/lib/python3.7/dist-packages (from corner) (3.2.2)\n",
            "Requirement already satisfied: kiwisolver>=1.0.1 in /usr/local/lib/python3.7/dist-packages (from matplotlib>=2.1->corner) (1.3.2)\n",
            "Requirement already satisfied: cycler>=0.10 in /usr/local/lib/python3.7/dist-packages (from matplotlib>=2.1->corner) (0.10.0)\n",
            "Requirement already satisfied: pyparsing!=2.0.4,!=2.1.2,!=2.1.6,>=2.0.1 in /usr/local/lib/python3.7/dist-packages (from matplotlib>=2.1->corner) (2.4.7)\n",
            "Requirement already satisfied: numpy>=1.11 in /usr/local/lib/python3.7/dist-packages (from matplotlib>=2.1->corner) (1.19.5)\n",
            "Requirement already satisfied: python-dateutil>=2.1 in /usr/local/lib/python3.7/dist-packages (from matplotlib>=2.1->corner) (2.8.2)\n",
            "Requirement already satisfied: six in /usr/local/lib/python3.7/dist-packages (from cycler>=0.10->matplotlib>=2.1->corner) (1.15.0)\n"
          ]
        }
      ]
    },
    {
      "cell_type": "code",
      "metadata": {
        "colab": {
          "base_uri": "https://localhost:8080/",
          "height": 821
        },
        "id": "tJeBsKkxUvxG",
        "outputId": "11f2ab22-c03b-4e85-c7cc-901b929309b4"
      },
      "source": [
        "df = pd.DataFrame(data=iris[\"data\"],\n",
        "                  columns=iris[\"feature_names\"])\n",
        "\n",
        "df_1 = df[iris[\"target\"] == 0]\n",
        "df_2 = df[iris[\"target\"] == 1]\n",
        "df_3 = df[iris[\"target\"] == 2]\n",
        "\n",
        "kw = {\"bins\" : [7, 7, 7, 7]}\n",
        "fig = corner.corner(df_1, color=\"C0\", **kw)\n",
        "corner.corner(df_2, fig=fig, color=\"C1\", **kw)\n",
        "corner.corner(df_3, fig=fig, color=\"C2\", **kw);"
      ],
      "execution_count": 12,
      "outputs": [
        {
          "output_type": "stream",
          "name": "stderr",
          "text": [
            "WARNING:root:Pandas support in corner is deprecated; use ArviZ directly\n",
            "WARNING:root:Too few points to create valid contours\n",
            "WARNING:root:Too few points to create valid contours\n",
            "WARNING:root:Pandas support in corner is deprecated; use ArviZ directly\n",
            "WARNING:root:Too few points to create valid contours\n",
            "WARNING:root:Too few points to create valid contours\n",
            "WARNING:root:Pandas support in corner is deprecated; use ArviZ directly\n",
            "WARNING:root:Too few points to create valid contours\n"
          ]
        },
        {
          "output_type": "display_data",
          "data": {
            "image/png": "[encoded data removed]",
            "text/plain": [
              "<Figure size 698.4x698.4 with 16 Axes>"
            ]
          },
          "metadata": {
            "needs_background": "light"
          }
        }
      ]
    },
    {
      "cell_type": "markdown",
      "metadata": {
        "id": "B82MPwAnjrud"
      },
      "source": [
        "#### **Digits**"
      ]
    },
    {
      "cell_type": "code",
      "metadata": {
        "colab": {
          "base_uri": "https://localhost:8080/",
          "height": 282
        },
        "id": "cnC21drKjpuu",
        "outputId": "13d9b705-afad-4341-f241-0cf56d600517"
      },
      "source": [
        "from sklearn.datasets import load_digits\n",
        "digits = load_digits()\n",
        "plt.imshow(digits.data[42].reshape(8,8));\n",
        "digits.data.shape"
      ],
      "execution_count": 13,
      "outputs": [
        {
          "output_type": "execute_result",
          "data": {
            "text/plain": [
              "(1797, 64)"
            ]
          },
          "metadata": {},
          "execution_count": 13
        },
        {
          "output_type": "display_data",
          "data": {
            "image/png": "[encoded data removed]",
            "text/plain": [
              "<Figure size 432x288 with 1 Axes>"
            ]
          },
          "metadata": {
            "needs_background": "light"
          }
        }
      ]
    },
    {
      "cell_type": "code",
      "metadata": {
        "colab": {
          "base_uri": "https://localhost:8080/",
          "height": 282
        },
        "id": "czapxIrTjUI_",
        "outputId": "90cc5524-69e4-4838-c076-abc255e2dab4"
      },
      "source": [
        "from keras.datasets import mnist\n",
        "\n",
        "(x_train, y_train),(x_test, y_test) = mnist.load_data()\n",
        "\n",
        "plt.imshow(x_train[42]);\n",
        "x_train.shape"
      ],
      "execution_count": 14,
      "outputs": [
        {
          "output_type": "execute_result",
          "data": {
            "text/plain": [
              "(60000, 28, 28)"
            ]
          },
          "metadata": {},
          "execution_count": 14
        },
        {
          "output_type": "display_data",
          "data": {
            "image/png": "[encoded data removed]",
            "text/plain": [
              "<Figure size 432x288 with 1 Axes>"
            ]
          },
          "metadata": {
            "needs_background": "light"
          }
        }
      ]
    },
    {
      "cell_type": "markdown",
      "metadata": {
        "id": "0-7DEWuGBcDr"
      },
      "source": [
        "#### **Califoria housing prices dataset**"
      ]
    },
    {
      "cell_type": "code",
      "metadata": {
        "colab": {
          "base_uri": "https://localhost:8080/",
          "height": 424
        },
        "id": "LHdE-FSj-RpO",
        "outputId": "99f191ba-5d02-4738-8f69-58d89ad69da1"
      },
      "source": [
        "from sklearn.datasets import fetch_california_housing\n",
        "\n",
        "data = fetch_california_housing()\n",
        "X = pd.DataFrame(data[\"data\"], columns=data['feature_names'])\n",
        "X[\"MedHouseVal\"] = data[\"target\"]\n",
        "\n",
        "pd.reset_option(\"display.float_format\")\n",
        "X"
      ],
      "execution_count": 15,
      "outputs": [
        {
          "output_type": "execute_result",
          "data": {
            "text/html": [
              "<div>\n",
              "<style scoped>\n",
              "    .dataframe tbody tr th:only-of-type {\n",
              "        vertical-align: middle;\n",
              "    }\n",
              "\n",
              "    .dataframe tbody tr th {\n",
              "        vertical-align: top;\n",
              "    }\n",
              "\n",
              "    .dataframe thead th {\n",
              "        text-align: right;\n",
              "    }\n",
              "</style>\n",
              "<table border=\"1\" class=\"dataframe\">\n",
              "  <thead>\n",
              "    <tr style=\"text-align: right;\">\n",
              "      <th></th>\n",
              "      <th>MedInc</th>\n",
              "      <th>HouseAge</th>\n",
              "      <th>AveRooms</th>\n",
              "      <th>AveBedrms</th>\n",
              "      <th>Population</th>\n",
              "      <th>AveOccup</th>\n",
              "      <th>Latitude</th>\n",
              "      <th>Longitude</th>\n",
              "      <th>MedHouseVal</th>\n",
              "    </tr>\n",
              "  </thead>\n",
              "  <tbody>\n",
              "    <tr>\n",
              "      <th>0</th>\n",
              "      <td>8.3252</td>\n",
              "      <td>41.0</td>\n",
              "      <td>6.984127</td>\n",
              "      <td>1.023810</td>\n",
              "      <td>322.0</td>\n",
              "      <td>2.555556</td>\n",
              "      <td>37.88</td>\n",
              "      <td>-122.23</td>\n",
              "      <td>4.526</td>\n",
              "    </tr>\n",
              "    <tr>\n",
              "      <th>1</th>\n",
              "      <td>8.3014</td>\n",
              "      <td>21.0</td>\n",
              "      <td>6.238137</td>\n",
              "      <td>0.971880</td>\n",
              "      <td>2401.0</td>\n",
              "      <td>2.109842</td>\n",
              "      <td>37.86</td>\n",
              "      <td>-122.22</td>\n",
              "      <td>3.585</td>\n",
              "    </tr>\n",
              "    <tr>\n",
              "      <th>2</th>\n",
              "      <td>7.2574</td>\n",
              "      <td>52.0</td>\n",
              "      <td>8.288136</td>\n",
              "      <td>1.073446</td>\n",
              "      <td>496.0</td>\n",
              "      <td>2.802260</td>\n",
              "      <td>37.85</td>\n",
              "      <td>-122.24</td>\n",
              "      <td>3.521</td>\n",
              "    </tr>\n",
              "    <tr>\n",
              "      <th>3</th>\n",
              "      <td>5.6431</td>\n",
              "      <td>52.0</td>\n",
              "      <td>5.817352</td>\n",
              "      <td>1.073059</td>\n",
              "      <td>558.0</td>\n",
              "      <td>2.547945</td>\n",
              "      <td>37.85</td>\n",
              "      <td>-122.25</td>\n",
              "      <td>3.413</td>\n",
              "    </tr>\n",
              "    <tr>\n",
              "      <th>4</th>\n",
              "      <td>3.8462</td>\n",
              "      <td>52.0</td>\n",
              "      <td>6.281853</td>\n",
              "      <td>1.081081</td>\n",
              "      <td>565.0</td>\n",
              "      <td>2.181467</td>\n",
              "      <td>37.85</td>\n",
              "      <td>-122.25</td>\n",
              "      <td>3.422</td>\n",
              "    </tr>\n",
              "    <tr>\n",
              "      <th>...</th>\n",
              "      <td>...</td>\n",
              "      <td>...</td>\n",
              "      <td>...</td>\n",
              "      <td>...</td>\n",
              "      <td>...</td>\n",
              "      <td>...</td>\n",
              "      <td>...</td>\n",
              "      <td>...</td>\n",
              "      <td>...</td>\n",
              "    </tr>\n",
              "    <tr>\n",
              "      <th>20635</th>\n",
              "      <td>1.5603</td>\n",
              "      <td>25.0</td>\n",
              "      <td>5.045455</td>\n",
              "      <td>1.133333</td>\n",
              "      <td>845.0</td>\n",
              "      <td>2.560606</td>\n",
              "      <td>39.48</td>\n",
              "      <td>-121.09</td>\n",
              "      <td>0.781</td>\n",
              "    </tr>\n",
              "    <tr>\n",
              "      <th>20636</th>\n",
              "      <td>2.5568</td>\n",
              "      <td>18.0</td>\n",
              "      <td>6.114035</td>\n",
              "      <td>1.315789</td>\n",
              "      <td>356.0</td>\n",
              "      <td>3.122807</td>\n",
              "      <td>39.49</td>\n",
              "      <td>-121.21</td>\n",
              "      <td>0.771</td>\n",
              "    </tr>\n",
              "    <tr>\n",
              "      <th>20637</th>\n",
              "      <td>1.7000</td>\n",
              "      <td>17.0</td>\n",
              "      <td>5.205543</td>\n",
              "      <td>1.120092</td>\n",
              "      <td>1007.0</td>\n",
              "      <td>2.325635</td>\n",
              "      <td>39.43</td>\n",
              "      <td>-121.22</td>\n",
              "      <td>0.923</td>\n",
              "    </tr>\n",
              "    <tr>\n",
              "      <th>20638</th>\n",
              "      <td>1.8672</td>\n",
              "      <td>18.0</td>\n",
              "      <td>5.329513</td>\n",
              "      <td>1.171920</td>\n",
              "      <td>741.0</td>\n",
              "      <td>2.123209</td>\n",
              "      <td>39.43</td>\n",
              "      <td>-121.32</td>\n",
              "      <td>0.847</td>\n",
              "    </tr>\n",
              "    <tr>\n",
              "      <th>20639</th>\n",
              "      <td>2.3886</td>\n",
              "      <td>16.0</td>\n",
              "      <td>5.254717</td>\n",
              "      <td>1.162264</td>\n",
              "      <td>1387.0</td>\n",
              "      <td>2.616981</td>\n",
              "      <td>39.37</td>\n",
              "      <td>-121.24</td>\n",
              "      <td>0.894</td>\n",
              "    </tr>\n",
              "  </tbody>\n",
              "</table>\n",
              "<p>20640 rows × 9 columns</p>\n",
              "</div>"
            ],
            "text/plain": [
              "       MedInc  HouseAge  AveRooms  ...  Latitude  Longitude  MedHouseVal\n",
              "0      8.3252      41.0  6.984127  ...     37.88    -122.23        4.526\n",
              "1      8.3014      21.0  6.238137  ...     37.86    -122.22        3.585\n",
              "2      7.2574      52.0  8.288136  ...     37.85    -122.24        3.521\n",
              "3      5.6431      52.0  5.817352  ...     37.85    -122.25        3.413\n",
              "4      3.8462      52.0  6.281853  ...     37.85    -122.25        3.422\n",
              "...       ...       ...       ...  ...       ...        ...          ...\n",
              "20635  1.5603      25.0  5.045455  ...     39.48    -121.09        0.781\n",
              "20636  2.5568      18.0  6.114035  ...     39.49    -121.21        0.771\n",
              "20637  1.7000      17.0  5.205543  ...     39.43    -121.22        0.923\n",
              "20638  1.8672      18.0  5.329513  ...     39.43    -121.32        0.847\n",
              "20639  2.3886      16.0  5.254717  ...     39.37    -121.24        0.894\n",
              "\n",
              "[20640 rows x 9 columns]"
            ]
          },
          "metadata": {},
          "execution_count": 15
        }
      ]
    },
    {
      "cell_type": "code",
      "metadata": {
        "colab": {
          "base_uri": "https://localhost:8080/",
          "height": 340
        },
        "id": "x2KhputjAZmZ",
        "outputId": "61baa4ff-7df9-4a37-da9f-7f985355063b"
      },
      "source": [
        "import seaborn as sns\n",
        "\n",
        "plt.figure(figsize=(7,5))\n",
        "plt.rc(\"font\", size=13)\n",
        "sns.scatterplot(data=X, x=\"Longitude\", y=\"Latitude\",\n",
        "                size=\"MedHouseVal\", hue=\"MedHouseVal\",\n",
        "                palette=\"viridis\", alpha=0.5)\n",
        "plt.legend(title=\"MedHouseVal\", bbox_to_anchor=(1.04, 0.99), loc=\"upper left\");"
      ],
      "execution_count": 16,
      "outputs": [
        {
          "output_type": "display_data",
          "data": {
            "image/png": "[encoded data removed]",
            "text/plain": [
              "<Figure size 504x360 with 1 Axes>"
            ]
          },
          "metadata": {
            "needs_background": "light"
          }
        }
      ]
    },
    {
      "cell_type": "markdown",
      "metadata": {
        "id": "-VuB3z9iTf9q"
      },
      "source": [
        "### **Other datasets**\n",
        "\n",
        "[Scikit-learn](https://scikit-learn.org/stable/datasets/toy_dataset.html)\n",
        "\n",
        "[Keras](https://keras.io/api/datasets/)\n",
        "\n",
        "[Kaggle](https://www.kaggle.com/datasets)\n",
        "\n",
        "[OpenML](https://www.openml.org/search?type=data)"
      ]
    },
    {
      "cell_type": "markdown",
      "metadata": {
        "id": "nIMmT6-DCEYC"
      },
      "source": [
        "### **Our dataset**\n",
        "\n",
        "SDSS data of point sources: stars vs Quasi-stellar objects"
      ]
    },
    {
      "cell_type": "markdown",
      "metadata": {
        "id": "Hc23Ez28VGGe"
      },
      "source": [
        "<img src=\"https://cdn.mos.cms.futurecdn.net/HgaCHZDNppE6e52yeDACo6-970-80.jpg.webp\" height=200>\n",
        "\n",
        "<img src=\"https://earthsky.org/upl/2021/01/supermassive-black-hole-artist-e1610556964639.jpg\" height=200 align=right>\n",
        "\n"
      ]
    },
    {
      "cell_type": "code",
      "metadata": {
        "colab": {
          "base_uri": "https://localhost:8080/"
        },
        "id": "kjK_BVs1CDh9",
        "outputId": "4707e3d6-6ddc-47b5-d1fc-2588294d10aa"
      },
      "source": [
        "!wget -c \"https://drive.google.com/uc?id=1IoQfGFo13ZP2wTyp-xvzQvguPYhE8TWB\" -O \"sdss_photo.csv\""
      ],
      "execution_count": 17,
      "outputs": [
        {
          "output_type": "stream",
          "name": "stdout",
          "text": [
            "--2021-11-04 14:13:43--  https://drive.google.com/uc?id=1IoQfGFo13ZP2wTyp-xvzQvguPYhE8TWB\n",
            "Resolving drive.google.com (drive.google.com)... 142.250.188.46, 2607:f8b0:4004:835::200e\n",
            "Connecting to drive.google.com (drive.google.com)|142.250.188.46|:443... connected.\n",
            "HTTP request sent, awaiting response... 302 Moved Temporarily\n",
            "Location: https://doc-04-2s-docs.googleusercontent.com/docs/securesc/ha0ro937gcuc7l7deffksulhg5h7mbp1/1r5idnoia0uu3d1na76ns05i52s5uqn7/1636035150000/12667160157784747384/*/1IoQfGFo13ZP2wTyp-xvzQvguPYhE8TWB [following]\n",
            "Warning: wildcards not supported in HTTP.\n",
            "--2021-11-04 14:13:44--  https://doc-04-2s-docs.googleusercontent.com/docs/securesc/ha0ro937gcuc7l7deffksulhg5h7mbp1/1r5idnoia0uu3d1na76ns05i52s5uqn7/1636035150000/12667160157784747384/*/1IoQfGFo13ZP2wTyp-xvzQvguPYhE8TWB\n",
            "Resolving doc-04-2s-docs.googleusercontent.com (doc-04-2s-docs.googleusercontent.com)... 172.217.164.161, 2607:f8b0:4004:815::2001\n",
            "Connecting to doc-04-2s-docs.googleusercontent.com (doc-04-2s-docs.googleusercontent.com)|172.217.164.161|:443... connected.\n",
            "HTTP request sent, awaiting response... 416 Requested range not satisfiable\n",
            "\n",
            "    The file is already fully retrieved; nothing to do.\n",
            "\n"
          ]
        }
      ]
    },
    {
      "cell_type": "code",
      "metadata": {
        "id": "Pqhbn1Ht58EC"
      },
      "source": [
        "data = pd.read_csv(\"sdss_photo.csv\")"
      ],
      "execution_count": 18,
      "outputs": []
    },
    {
      "cell_type": "markdown",
      "metadata": {
        "id": "jWeG6dFa0x77"
      },
      "source": [
        "## **Data preprocessing**"
      ]
    },
    {
      "cell_type": "markdown",
      "metadata": {
        "id": "-yc3mKYsWYcl"
      },
      "source": [
        "### What to do with the data:\n",
        "- look at the data\n",
        "- check data quality\n",
        "- understand the data\n",
        "- think of selection biases"
      ]
    },
    {
      "cell_type": "code",
      "metadata": {
        "colab": {
          "base_uri": "https://localhost:8080/",
          "height": 424
        },
        "id": "DyEbvboDoe02",
        "outputId": "dfc78488-0ae0-44ed-e6f1-57b2cf0b573b"
      },
      "source": [
        "data"
      ],
      "execution_count": 19,
      "outputs": [
        {
          "output_type": "execute_result",
          "data": {
            "text/html": [
              "<div>\n",
              "<style scoped>\n",
              "    .dataframe tbody tr th:only-of-type {\n",
              "        vertical-align: middle;\n",
              "    }\n",
              "\n",
              "    .dataframe tbody tr th {\n",
              "        vertical-align: top;\n",
              "    }\n",
              "\n",
              "    .dataframe thead th {\n",
              "        text-align: right;\n",
              "    }\n",
              "</style>\n",
              "<table border=\"1\" class=\"dataframe\">\n",
              "  <thead>\n",
              "    <tr style=\"text-align: right;\">\n",
              "      <th></th>\n",
              "      <th>mag_u</th>\n",
              "      <th>mag_g</th>\n",
              "      <th>mag_r</th>\n",
              "      <th>mag_i</th>\n",
              "      <th>mag_z</th>\n",
              "      <th>target</th>\n",
              "      <th>u-g</th>\n",
              "      <th>g-r</th>\n",
              "      <th>r-i</th>\n",
              "      <th>i-z</th>\n",
              "    </tr>\n",
              "  </thead>\n",
              "  <tbody>\n",
              "    <tr>\n",
              "      <th>0</th>\n",
              "      <td>19.240999</td>\n",
              "      <td>17.525999</td>\n",
              "      <td>16.840000</td>\n",
              "      <td>16.613001</td>\n",
              "      <td>16.492001</td>\n",
              "      <td>star</td>\n",
              "      <td>1.715000</td>\n",
              "      <td>0.685999</td>\n",
              "      <td>0.226999</td>\n",
              "      <td>0.121000</td>\n",
              "    </tr>\n",
              "    <tr>\n",
              "      <th>1</th>\n",
              "      <td>19.732000</td>\n",
              "      <td>18.339001</td>\n",
              "      <td>17.767000</td>\n",
              "      <td>17.580000</td>\n",
              "      <td>17.481001</td>\n",
              "      <td>star</td>\n",
              "      <td>1.393000</td>\n",
              "      <td>0.572001</td>\n",
              "      <td>0.187000</td>\n",
              "      <td>0.098999</td>\n",
              "    </tr>\n",
              "    <tr>\n",
              "      <th>2</th>\n",
              "      <td>16.120001</td>\n",
              "      <td>15.232000</td>\n",
              "      <td>14.933000</td>\n",
              "      <td>14.845000</td>\n",
              "      <td>14.827000</td>\n",
              "      <td>star</td>\n",
              "      <td>0.888000</td>\n",
              "      <td>0.299001</td>\n",
              "      <td>0.087999</td>\n",
              "      <td>0.018001</td>\n",
              "    </tr>\n",
              "    <tr>\n",
              "      <th>3</th>\n",
              "      <td>18.995001</td>\n",
              "      <td>18.150999</td>\n",
              "      <td>17.877001</td>\n",
              "      <td>17.747000</td>\n",
              "      <td>17.766001</td>\n",
              "      <td>star</td>\n",
              "      <td>0.844002</td>\n",
              "      <td>0.273998</td>\n",
              "      <td>0.130001</td>\n",
              "      <td>-0.019001</td>\n",
              "    </tr>\n",
              "    <tr>\n",
              "      <th>4</th>\n",
              "      <td>19.032000</td>\n",
              "      <td>18.112000</td>\n",
              "      <td>17.848000</td>\n",
              "      <td>17.709999</td>\n",
              "      <td>17.712000</td>\n",
              "      <td>star</td>\n",
              "      <td>0.920000</td>\n",
              "      <td>0.264000</td>\n",
              "      <td>0.138000</td>\n",
              "      <td>-0.002001</td>\n",
              "    </tr>\n",
              "    <tr>\n",
              "      <th>...</th>\n",
              "      <td>...</td>\n",
              "      <td>...</td>\n",
              "      <td>...</td>\n",
              "      <td>...</td>\n",
              "      <td>...</td>\n",
              "      <td>...</td>\n",
              "      <td>...</td>\n",
              "      <td>...</td>\n",
              "      <td>...</td>\n",
              "      <td>...</td>\n",
              "    </tr>\n",
              "    <tr>\n",
              "      <th>862</th>\n",
              "      <td>19.247000</td>\n",
              "      <td>19.047001</td>\n",
              "      <td>18.663000</td>\n",
              "      <td>18.627001</td>\n",
              "      <td>18.671000</td>\n",
              "      <td>QSO</td>\n",
              "      <td>0.199999</td>\n",
              "      <td>0.384001</td>\n",
              "      <td>0.035999</td>\n",
              "      <td>-0.043999</td>\n",
              "    </tr>\n",
              "    <tr>\n",
              "      <th>863</th>\n",
              "      <td>26.433001</td>\n",
              "      <td>21.429001</td>\n",
              "      <td>20.261000</td>\n",
              "      <td>20.108000</td>\n",
              "      <td>20.073000</td>\n",
              "      <td>QSO</td>\n",
              "      <td>5.004000</td>\n",
              "      <td>1.168001</td>\n",
              "      <td>0.153000</td>\n",
              "      <td>0.035000</td>\n",
              "    </tr>\n",
              "    <tr>\n",
              "      <th>864</th>\n",
              "      <td>20.535999</td>\n",
              "      <td>20.200001</td>\n",
              "      <td>20.292999</td>\n",
              "      <td>19.910000</td>\n",
              "      <td>19.726000</td>\n",
              "      <td>QSO</td>\n",
              "      <td>0.335999</td>\n",
              "      <td>-0.092999</td>\n",
              "      <td>0.382999</td>\n",
              "      <td>0.184000</td>\n",
              "    </tr>\n",
              "    <tr>\n",
              "      <th>865</th>\n",
              "      <td>20.627001</td>\n",
              "      <td>20.583000</td>\n",
              "      <td>20.270000</td>\n",
              "      <td>20.229000</td>\n",
              "      <td>20.190001</td>\n",
              "      <td>QSO</td>\n",
              "      <td>0.044001</td>\n",
              "      <td>0.313000</td>\n",
              "      <td>0.041000</td>\n",
              "      <td>0.039000</td>\n",
              "    </tr>\n",
              "    <tr>\n",
              "      <th>866</th>\n",
              "      <td>19.431000</td>\n",
              "      <td>19.228001</td>\n",
              "      <td>18.794001</td>\n",
              "      <td>18.791000</td>\n",
              "      <td>18.923000</td>\n",
              "      <td>QSO</td>\n",
              "      <td>0.202999</td>\n",
              "      <td>0.434000</td>\n",
              "      <td>0.003000</td>\n",
              "      <td>-0.132000</td>\n",
              "    </tr>\n",
              "  </tbody>\n",
              "</table>\n",
              "<p>867 rows × 10 columns</p>\n",
              "</div>"
            ],
            "text/plain": [
              "         mag_u      mag_g      mag_r  ...       g-r       r-i       i-z\n",
              "0    19.240999  17.525999  16.840000  ...  0.685999  0.226999  0.121000\n",
              "1    19.732000  18.339001  17.767000  ...  0.572001  0.187000  0.098999\n",
              "2    16.120001  15.232000  14.933000  ...  0.299001  0.087999  0.018001\n",
              "3    18.995001  18.150999  17.877001  ...  0.273998  0.130001 -0.019001\n",
              "4    19.032000  18.112000  17.848000  ...  0.264000  0.138000 -0.002001\n",
              "..         ...        ...        ...  ...       ...       ...       ...\n",
              "862  19.247000  19.047001  18.663000  ...  0.384001  0.035999 -0.043999\n",
              "863  26.433001  21.429001  20.261000  ...  1.168001  0.153000  0.035000\n",
              "864  20.535999  20.200001  20.292999  ... -0.092999  0.382999  0.184000\n",
              "865  20.627001  20.583000  20.270000  ...  0.313000  0.041000  0.039000\n",
              "866  19.431000  19.228001  18.794001  ...  0.434000  0.003000 -0.132000\n",
              "\n",
              "[867 rows x 10 columns]"
            ]
          },
          "metadata": {},
          "execution_count": 19
        }
      ]
    },
    {
      "cell_type": "code",
      "metadata": {
        "colab": {
          "base_uri": "https://localhost:8080/",
          "height": 300
        },
        "id": "1Xj0KTG6oe5c",
        "outputId": "3cd7026e-71df-45e8-a6c6-30fc52c19894"
      },
      "source": [
        "data.describe().round(2)"
      ],
      "execution_count": 22,
      "outputs": [
        {
          "output_type": "execute_result",
          "data": {
            "text/html": [
              "<div>\n",
              "<style scoped>\n",
              "    .dataframe tbody tr th:only-of-type {\n",
              "        vertical-align: middle;\n",
              "    }\n",
              "\n",
              "    .dataframe tbody tr th {\n",
              "        vertical-align: top;\n",
              "    }\n",
              "\n",
              "    .dataframe thead th {\n",
              "        text-align: right;\n",
              "    }\n",
              "</style>\n",
              "<table border=\"1\" class=\"dataframe\">\n",
              "  <thead>\n",
              "    <tr style=\"text-align: right;\">\n",
              "      <th></th>\n",
              "      <th>mag_u</th>\n",
              "      <th>mag_g</th>\n",
              "      <th>mag_r</th>\n",
              "      <th>mag_i</th>\n",
              "      <th>mag_z</th>\n",
              "      <th>u-g</th>\n",
              "      <th>g-r</th>\n",
              "      <th>r-i</th>\n",
              "      <th>i-z</th>\n",
              "    </tr>\n",
              "  </thead>\n",
              "  <tbody>\n",
              "    <tr>\n",
              "      <th>count</th>\n",
              "      <td>867.00</td>\n",
              "      <td>867.00</td>\n",
              "      <td>867.00</td>\n",
              "      <td>867.00</td>\n",
              "      <td>867.00</td>\n",
              "      <td>867.00</td>\n",
              "      <td>867.00</td>\n",
              "      <td>867.00</td>\n",
              "      <td>867.00</td>\n",
              "    </tr>\n",
              "    <tr>\n",
              "      <th>mean</th>\n",
              "      <td>19.29</td>\n",
              "      <td>18.17</td>\n",
              "      <td>17.72</td>\n",
              "      <td>17.54</td>\n",
              "      <td>17.45</td>\n",
              "      <td>1.12</td>\n",
              "      <td>0.46</td>\n",
              "      <td>0.18</td>\n",
              "      <td>0.09</td>\n",
              "    </tr>\n",
              "    <tr>\n",
              "      <th>std</th>\n",
              "      <td>1.39</td>\n",
              "      <td>1.33</td>\n",
              "      <td>1.35</td>\n",
              "      <td>1.37</td>\n",
              "      <td>1.38</td>\n",
              "      <td>0.67</td>\n",
              "      <td>0.31</td>\n",
              "      <td>0.13</td>\n",
              "      <td>0.10</td>\n",
              "    </tr>\n",
              "    <tr>\n",
              "      <th>min</th>\n",
              "      <td>15.67</td>\n",
              "      <td>14.36</td>\n",
              "      <td>14.12</td>\n",
              "      <td>13.95</td>\n",
              "      <td>13.89</td>\n",
              "      <td>-0.95</td>\n",
              "      <td>-0.20</td>\n",
              "      <td>-0.21</td>\n",
              "      <td>-0.42</td>\n",
              "    </tr>\n",
              "    <tr>\n",
              "      <th>25%</th>\n",
              "      <td>18.50</td>\n",
              "      <td>17.29</td>\n",
              "      <td>16.74</td>\n",
              "      <td>16.54</td>\n",
              "      <td>16.45</td>\n",
              "      <td>0.84</td>\n",
              "      <td>0.26</td>\n",
              "      <td>0.11</td>\n",
              "      <td>0.03</td>\n",
              "    </tr>\n",
              "    <tr>\n",
              "      <th>50%</th>\n",
              "      <td>19.33</td>\n",
              "      <td>18.33</td>\n",
              "      <td>17.88</td>\n",
              "      <td>17.69</td>\n",
              "      <td>17.62</td>\n",
              "      <td>1.09</td>\n",
              "      <td>0.44</td>\n",
              "      <td>0.17</td>\n",
              "      <td>0.08</td>\n",
              "    </tr>\n",
              "    <tr>\n",
              "      <th>75%</th>\n",
              "      <td>20.02</td>\n",
              "      <td>19.09</td>\n",
              "      <td>18.76</td>\n",
              "      <td>18.61</td>\n",
              "      <td>18.52</td>\n",
              "      <td>1.46</td>\n",
              "      <td>0.60</td>\n",
              "      <td>0.25</td>\n",
              "      <td>0.14</td>\n",
              "    </tr>\n",
              "    <tr>\n",
              "      <th>max</th>\n",
              "      <td>26.43</td>\n",
              "      <td>25.17</td>\n",
              "      <td>21.14</td>\n",
              "      <td>20.72</td>\n",
              "      <td>20.91</td>\n",
              "      <td>5.06</td>\n",
              "      <td>4.03</td>\n",
              "      <td>1.21</td>\n",
              "      <td>0.56</td>\n",
              "    </tr>\n",
              "  </tbody>\n",
              "</table>\n",
              "</div>"
            ],
            "text/plain": [
              "        mag_u   mag_g   mag_r   mag_i   mag_z     u-g     g-r     r-i     i-z\n",
              "count  867.00  867.00  867.00  867.00  867.00  867.00  867.00  867.00  867.00\n",
              "mean    19.29   18.17   17.72   17.54   17.45    1.12    0.46    0.18    0.09\n",
              "std      1.39    1.33    1.35    1.37    1.38    0.67    0.31    0.13    0.10\n",
              "min     15.67   14.36   14.12   13.95   13.89   -0.95   -0.20   -0.21   -0.42\n",
              "25%     18.50   17.29   16.74   16.54   16.45    0.84    0.26    0.11    0.03\n",
              "50%     19.33   18.33   17.88   17.69   17.62    1.09    0.44    0.17    0.08\n",
              "75%     20.02   19.09   18.76   18.61   18.52    1.46    0.60    0.25    0.14\n",
              "max     26.43   25.17   21.14   20.72   20.91    5.06    4.03    1.21    0.56"
            ]
          },
          "metadata": {},
          "execution_count": 22
        }
      ]
    },
    {
      "cell_type": "code",
      "metadata": {
        "colab": {
          "base_uri": "https://localhost:8080/"
        },
        "id": "ZVLpF-z3hmxk",
        "outputId": "35212d82-8fef-49e3-b54a-f37bcf397d5f"
      },
      "source": [
        "sum(data[\"target\"] == \"star\"), sum(data[\"target\"] == \"QSO\")"
      ],
      "execution_count": 23,
      "outputs": [
        {
          "output_type": "execute_result",
          "data": {
            "text/plain": [
              "(655, 212)"
            ]
          },
          "metadata": {},
          "execution_count": 23
        }
      ]
    },
    {
      "cell_type": "markdown",
      "metadata": {
        "id": "6iO4-7kC79Kz"
      },
      "source": [
        "#### task 1: **create `X` and `y`**"
      ]
    },
    {
      "cell_type": "code",
      "metadata": {
        "id": "mTSxvZPF77kZ"
      },
      "source": [
        ""
      ],
      "execution_count": 87,
      "outputs": []
    },
    {
      "cell_type": "code",
      "metadata": {
        "id": "obizjbgk8eOq"
      },
      "source": [
        ""
      ],
      "execution_count": 87,
      "outputs": []
    },
    {
      "cell_type": "code",
      "metadata": {
        "id": "wdjrBi_U8ilA"
      },
      "source": [
        ""
      ],
      "execution_count": 87,
      "outputs": []
    },
    {
      "cell_type": "code",
      "metadata": {
        "id": "3shTgaecWYO5"
      },
      "source": [
        ""
      ],
      "execution_count": 87,
      "outputs": []
    },
    {
      "cell_type": "code",
      "metadata": {
        "id": "SSYlbEMvgqXc"
      },
      "source": [
        ""
      ],
      "execution_count": 87,
      "outputs": []
    },
    {
      "cell_type": "code",
      "metadata": {
        "id": "cFjCU0ZOgwCh"
      },
      "source": [
        ""
      ],
      "execution_count": 87,
      "outputs": []
    },
    {
      "cell_type": "markdown",
      "metadata": {
        "id": "jPlMgF-lpnAo"
      },
      "source": [
        "#### task 2: **plot the data**"
      ]
    },
    {
      "cell_type": "code",
      "metadata": {
        "id": "0CD0OiBvhVFX"
      },
      "source": [
        ""
      ],
      "execution_count": 87,
      "outputs": []
    },
    {
      "cell_type": "code",
      "metadata": {
        "id": "vcd2YbRQpKjb"
      },
      "source": [
        ""
      ],
      "execution_count": 87,
      "outputs": []
    },
    {
      "cell_type": "markdown",
      "metadata": {
        "id": "seZZJbZ0A7dk"
      },
      "source": [
        "#### task 3: **classify with SVC & test score**"
      ]
    },
    {
      "cell_type": "code",
      "metadata": {
        "id": "1TLjQ7rHWeRM"
      },
      "source": [
        "from sklearn.svm import SVC\n",
        "from sklearn.model_selection import train_test_split\n",
        "\n",
        "model = SVC(kernel=\"linear\")"
      ],
      "execution_count": 87,
      "outputs": []
    },
    {
      "cell_type": "code",
      "metadata": {
        "id": "3R9OArBLAefy"
      },
      "source": [
        ""
      ],
      "execution_count": 87,
      "outputs": []
    },
    {
      "cell_type": "code",
      "metadata": {
        "id": "-6b4RklvAsmm"
      },
      "source": [
        ""
      ],
      "execution_count": 87,
      "outputs": []
    },
    {
      "cell_type": "code",
      "metadata": {
        "id": "RLPt5jOwB2eQ"
      },
      "source": [
        ""
      ],
      "execution_count": 87,
      "outputs": []
    },
    {
      "cell_type": "code",
      "metadata": {
        "id": "nfBlkYhcBKAK"
      },
      "source": [
        ""
      ],
      "execution_count": 87,
      "outputs": []
    },
    {
      "cell_type": "code",
      "metadata": {
        "id": "c57TLC6XBsc-"
      },
      "source": [
        ""
      ],
      "execution_count": 87,
      "outputs": []
    },
    {
      "cell_type": "code",
      "metadata": {
        "id": "hJre5s3OBvKX"
      },
      "source": [
        ""
      ],
      "execution_count": 87,
      "outputs": []
    },
    {
      "cell_type": "code",
      "metadata": {
        "id": "oKvnXTkIiw2p"
      },
      "source": [
        ""
      ],
      "execution_count": 87,
      "outputs": []
    },
    {
      "cell_type": "markdown",
      "metadata": {
        "id": "l3wPRpSa-0S0"
      },
      "source": [
        "#### task 4: **rescale the data -> `X_scaled` & test score**"
      ]
    },
    {
      "cell_type": "code",
      "metadata": {
        "id": "GCbc-uPr--Y7"
      },
      "source": [
        "X_scaled = X.copy()"
      ],
      "execution_count": 88,
      "outputs": []
    },
    {
      "cell_type": "code",
      "metadata": {
        "id": "A_k473pY_S-t"
      },
      "source": [
        ""
      ],
      "execution_count": 88,
      "outputs": []
    },
    {
      "cell_type": "code",
      "metadata": {
        "id": "CWBDavYmVNdp"
      },
      "source": [
        ""
      ],
      "execution_count": 88,
      "outputs": []
    },
    {
      "cell_type": "code",
      "metadata": {
        "id": "sR86rx_BVNgT"
      },
      "source": [
        ""
      ],
      "execution_count": 88,
      "outputs": []
    },
    {
      "cell_type": "code",
      "metadata": {
        "id": "VjRVZxWsjAUN"
      },
      "source": [
        ""
      ],
      "execution_count": 88,
      "outputs": []
    },
    {
      "cell_type": "markdown",
      "metadata": {
        "id": "4uNyaEwaTLas"
      },
      "source": [
        "## **Feature selection & dimensionality reduction**"
      ]
    },
    {
      "cell_type": "code",
      "metadata": {
        "id": "r5MWCPJSq0vE"
      },
      "source": [
        "from sklearn.ensemble import ExtraTreesClassifier"
      ],
      "execution_count": 45,
      "outputs": []
    },
    {
      "cell_type": "code",
      "metadata": {
        "colab": {
          "base_uri": "https://localhost:8080/"
        },
        "id": "o3r_-qzCq03O",
        "outputId": "6a91a329-c2b4-49eb-e8e2-f8e3cfccb48f"
      },
      "source": [
        "clf = ExtraTreesClassifier(random_state=42).fit(X,y)\n",
        "clf.feature_importances_"
      ],
      "execution_count": 46,
      "outputs": [
        {
          "output_type": "execute_result",
          "data": {
            "text/plain": [
              "array([0.29715325, 0.11687197, 0.21442021, 0.19203806, 0.17951651])"
            ]
          },
          "metadata": {},
          "execution_count": 46
        }
      ]
    },
    {
      "cell_type": "code",
      "metadata": {
        "colab": {
          "base_uri": "https://localhost:8080/",
          "height": 268
        },
        "id": "SLpvL6JS43Ls",
        "outputId": "38f092e6-8937-4be1-a3c8-4c493b463195"
      },
      "source": [
        "plt.bar(np.arange(5), clf.feature_importances_, 0.5)\n",
        "plt.xticks(np.arange(5), X.columns);"
      ],
      "execution_count": 47,
      "outputs": [
        {
          "output_type": "display_data",
          "data": {
            "image/png": "[encoded data removed]",
            "text/plain": [
              "<Figure size 432x288 with 1 Axes>"
            ]
          },
          "metadata": {
            "needs_background": "light"
          }
        }
      ]
    },
    {
      "cell_type": "markdown",
      "metadata": {
        "id": "9E7QvHcTbYcm"
      },
      "source": [
        "#### task 5: **calculate spectral indices -> `X_new` & test importance**"
      ]
    },
    {
      "cell_type": "code",
      "metadata": {
        "colab": {
          "base_uri": "https://localhost:8080/",
          "height": 424
        },
        "id": "Is0aCppJ5r1x",
        "outputId": "aa3d182b-40be-4059-9d7c-9f1b5f8b57e5"
      },
      "source": [
        "X_new = X.copy()\n",
        "X_new[\"new\"] = np.ones(len(X_new.u))\n",
        "X_new"
      ],
      "execution_count": 89,
      "outputs": [
        {
          "output_type": "execute_result",
          "data": {
            "text/html": [
              "<div>\n",
              "<style scoped>\n",
              "    .dataframe tbody tr th:only-of-type {\n",
              "        vertical-align: middle;\n",
              "    }\n",
              "\n",
              "    .dataframe tbody tr th {\n",
              "        vertical-align: top;\n",
              "    }\n",
              "\n",
              "    .dataframe thead th {\n",
              "        text-align: right;\n",
              "    }\n",
              "</style>\n",
              "<table border=\"1\" class=\"dataframe\">\n",
              "  <thead>\n",
              "    <tr style=\"text-align: right;\">\n",
              "      <th></th>\n",
              "      <th>u</th>\n",
              "      <th>g</th>\n",
              "      <th>r</th>\n",
              "      <th>i</th>\n",
              "      <th>z</th>\n",
              "      <th>new</th>\n",
              "    </tr>\n",
              "  </thead>\n",
              "  <tbody>\n",
              "    <tr>\n",
              "      <th>0</th>\n",
              "      <td>19.240999</td>\n",
              "      <td>17.525999</td>\n",
              "      <td>16.840000</td>\n",
              "      <td>16.613001</td>\n",
              "      <td>16.492001</td>\n",
              "      <td>1.0</td>\n",
              "    </tr>\n",
              "    <tr>\n",
              "      <th>1</th>\n",
              "      <td>19.732000</td>\n",
              "      <td>18.339001</td>\n",
              "      <td>17.767000</td>\n",
              "      <td>17.580000</td>\n",
              "      <td>17.481001</td>\n",
              "      <td>1.0</td>\n",
              "    </tr>\n",
              "    <tr>\n",
              "      <th>2</th>\n",
              "      <td>16.120001</td>\n",
              "      <td>15.232000</td>\n",
              "      <td>14.933000</td>\n",
              "      <td>14.845000</td>\n",
              "      <td>14.827000</td>\n",
              "      <td>1.0</td>\n",
              "    </tr>\n",
              "    <tr>\n",
              "      <th>3</th>\n",
              "      <td>18.995001</td>\n",
              "      <td>18.150999</td>\n",
              "      <td>17.877001</td>\n",
              "      <td>17.747000</td>\n",
              "      <td>17.766001</td>\n",
              "      <td>1.0</td>\n",
              "    </tr>\n",
              "    <tr>\n",
              "      <th>4</th>\n",
              "      <td>19.032000</td>\n",
              "      <td>18.112000</td>\n",
              "      <td>17.848000</td>\n",
              "      <td>17.709999</td>\n",
              "      <td>17.712000</td>\n",
              "      <td>1.0</td>\n",
              "    </tr>\n",
              "    <tr>\n",
              "      <th>...</th>\n",
              "      <td>...</td>\n",
              "      <td>...</td>\n",
              "      <td>...</td>\n",
              "      <td>...</td>\n",
              "      <td>...</td>\n",
              "      <td>...</td>\n",
              "    </tr>\n",
              "    <tr>\n",
              "      <th>862</th>\n",
              "      <td>19.247000</td>\n",
              "      <td>19.047001</td>\n",
              "      <td>18.663000</td>\n",
              "      <td>18.627001</td>\n",
              "      <td>18.671000</td>\n",
              "      <td>1.0</td>\n",
              "    </tr>\n",
              "    <tr>\n",
              "      <th>863</th>\n",
              "      <td>26.433001</td>\n",
              "      <td>21.429001</td>\n",
              "      <td>20.261000</td>\n",
              "      <td>20.108000</td>\n",
              "      <td>20.073000</td>\n",
              "      <td>1.0</td>\n",
              "    </tr>\n",
              "    <tr>\n",
              "      <th>864</th>\n",
              "      <td>20.535999</td>\n",
              "      <td>20.200001</td>\n",
              "      <td>20.292999</td>\n",
              "      <td>19.910000</td>\n",
              "      <td>19.726000</td>\n",
              "      <td>1.0</td>\n",
              "    </tr>\n",
              "    <tr>\n",
              "      <th>865</th>\n",
              "      <td>20.627001</td>\n",
              "      <td>20.583000</td>\n",
              "      <td>20.270000</td>\n",
              "      <td>20.229000</td>\n",
              "      <td>20.190001</td>\n",
              "      <td>1.0</td>\n",
              "    </tr>\n",
              "    <tr>\n",
              "      <th>866</th>\n",
              "      <td>19.431000</td>\n",
              "      <td>19.228001</td>\n",
              "      <td>18.794001</td>\n",
              "      <td>18.791000</td>\n",
              "      <td>18.923000</td>\n",
              "      <td>1.0</td>\n",
              "    </tr>\n",
              "  </tbody>\n",
              "</table>\n",
              "<p>867 rows × 6 columns</p>\n",
              "</div>"
            ],
            "text/plain": [
              "             u          g          r          i          z  new\n",
              "0    19.240999  17.525999  16.840000  16.613001  16.492001  1.0\n",
              "1    19.732000  18.339001  17.767000  17.580000  17.481001  1.0\n",
              "2    16.120001  15.232000  14.933000  14.845000  14.827000  1.0\n",
              "3    18.995001  18.150999  17.877001  17.747000  17.766001  1.0\n",
              "4    19.032000  18.112000  17.848000  17.709999  17.712000  1.0\n",
              "..         ...        ...        ...        ...        ...  ...\n",
              "862  19.247000  19.047001  18.663000  18.627001  18.671000  1.0\n",
              "863  26.433001  21.429001  20.261000  20.108000  20.073000  1.0\n",
              "864  20.535999  20.200001  20.292999  19.910000  19.726000  1.0\n",
              "865  20.627001  20.583000  20.270000  20.229000  20.190001  1.0\n",
              "866  19.431000  19.228001  18.794001  18.791000  18.923000  1.0\n",
              "\n",
              "[867 rows x 6 columns]"
            ]
          },
          "metadata": {},
          "execution_count": 89
        }
      ]
    },
    {
      "cell_type": "code",
      "metadata": {
        "id": "MZfoAJA1rmRz"
      },
      "source": [
        ""
      ],
      "execution_count": 89,
      "outputs": []
    },
    {
      "cell_type": "code",
      "metadata": {
        "id": "Nj0_n3aJrmUs"
      },
      "source": [
        ""
      ],
      "execution_count": 89,
      "outputs": []
    },
    {
      "cell_type": "code",
      "metadata": {
        "id": "_A3FA-tPl0HR"
      },
      "source": [
        ""
      ],
      "execution_count": 89,
      "outputs": []
    },
    {
      "cell_type": "markdown",
      "metadata": {
        "id": "7Vsu9gRdl8ba"
      },
      "source": [
        "#### task 6: **test score for *u-r* spectral index**"
      ]
    },
    {
      "cell_type": "code",
      "metadata": {
        "id": "-Z3PTCanGYKf"
      },
      "source": [
        ""
      ],
      "execution_count": 89,
      "outputs": []
    },
    {
      "cell_type": "markdown",
      "metadata": {
        "id": "1ud7hKL_GYKe"
      },
      "source": [
        "#### task 7: **create dummy column & test importance**"
      ]
    },
    {
      "cell_type": "code",
      "metadata": {
        "id": "yjkNN6d4SuYn"
      },
      "source": [
        ""
      ],
      "execution_count": 89,
      "outputs": []
    },
    {
      "cell_type": "code",
      "metadata": {
        "id": "zXukq-8HGYKe"
      },
      "source": [
        ""
      ],
      "execution_count": 89,
      "outputs": []
    },
    {
      "cell_type": "code",
      "metadata": {
        "id": "u7Ou9OCHl2wR"
      },
      "source": [
        ""
      ],
      "execution_count": 89,
      "outputs": []
    },
    {
      "cell_type": "code",
      "metadata": {
        "id": "twqvduOy1E63"
      },
      "source": [
        ""
      ],
      "execution_count": 89,
      "outputs": []
    },
    {
      "cell_type": "code",
      "metadata": {
        "id": "o3GUkeHW_oIw"
      },
      "source": [
        ""
      ],
      "execution_count": 89,
      "outputs": []
    },
    {
      "cell_type": "markdown",
      "metadata": {
        "id": "kNQwj_5FmPYF"
      },
      "source": [
        "### **Principal component analysis**"
      ]
    },
    {
      "cell_type": "code",
      "metadata": {
        "id": "InxyTPHuGYKa"
      },
      "source": [
        "from sklearn.decomposition import PCA\n",
        "\n",
        "pca = PCA(n_components=3)\n",
        "X_n = pca.fit_transform(X)"
      ],
      "execution_count": 58,
      "outputs": []
    },
    {
      "cell_type": "code",
      "metadata": {
        "colab": {
          "base_uri": "https://localhost:8080/",
          "height": 285
        },
        "id": "dFrr051pGYKb",
        "outputId": "177cc6ea-3605-4e93-cd01-65193064cc80"
      },
      "source": [
        "plt.plot(X.u, X.g, \".\")\n",
        "plt.plot(X_n[:,0], X_n[:,1], \".\")"
      ],
      "execution_count": 59,
      "outputs": [
        {
          "output_type": "execute_result",
          "data": {
            "text/plain": [
              "[<matplotlib.lines.Line2D at 0x7fa8bd0e9150>]"
            ]
          },
          "metadata": {},
          "execution_count": 59
        },
        {
          "output_type": "display_data",
          "data": {
            "image/png": "[encoded data removed]",
            "text/plain": [
              "<Figure size 432x288 with 1 Axes>"
            ]
          },
          "metadata": {
            "needs_background": "light"
          }
        }
      ]
    },
    {
      "cell_type": "code",
      "metadata": {
        "colab": {
          "base_uri": "https://localhost:8080/"
        },
        "id": "BuDSwwTDmTSC",
        "outputId": "a8a50ad9-f4bb-40f4-d667-cec27e2728b2"
      },
      "source": [
        "X_train, X_test, y_train, y_test = train_test_split(X_n, y, \n",
        "                                                    stratify=y, \n",
        "                                                    random_state=42)\n",
        "\n",
        "model.fit(X_train, y_train)\n",
        "\n",
        "model.score(X_test, y_test)"
      ],
      "execution_count": 60,
      "outputs": [
        {
          "output_type": "execute_result",
          "data": {
            "text/plain": [
              "0.9631336405529954"
            ]
          },
          "metadata": {},
          "execution_count": 60
        }
      ]
    },
    {
      "cell_type": "markdown",
      "metadata": {
        "id": "hfzrKed1GYKf"
      },
      "source": [
        "## **Tune hyperparameters**"
      ]
    },
    {
      "cell_type": "code",
      "metadata": {
        "scrolled": true,
        "id": "y8XOCnR-GYKg"
      },
      "source": [
        "SVC?"
      ],
      "execution_count": 61,
      "outputs": []
    },
    {
      "cell_type": "markdown",
      "metadata": {
        "id": "0PYW9nkuGYKh"
      },
      "source": [
        "#### task 8: **find SVC hyperparameters with best test score**"
      ]
    },
    {
      "cell_type": "code",
      "metadata": {
        "id": "Xvaxj20ZGYKh"
      },
      "source": [
        ""
      ],
      "execution_count": 89,
      "outputs": []
    },
    {
      "cell_type": "code",
      "metadata": {
        "id": "F-6ACW9fGYKi"
      },
      "source": [
        ""
      ],
      "execution_count": 89,
      "outputs": []
    },
    {
      "cell_type": "code",
      "metadata": {
        "id": "GfPZIkZYGYKi"
      },
      "source": [
        ""
      ],
      "execution_count": 89,
      "outputs": []
    },
    {
      "cell_type": "code",
      "metadata": {
        "id": "gG1kpotXGYKj"
      },
      "source": [
        ""
      ],
      "execution_count": 89,
      "outputs": []
    },
    {
      "cell_type": "code",
      "metadata": {
        "id": "lLb81etQGYKj"
      },
      "source": [
        ""
      ],
      "execution_count": 89,
      "outputs": []
    },
    {
      "cell_type": "code",
      "metadata": {
        "id": "-5WE1CLyGYKj"
      },
      "source": [
        ""
      ],
      "execution_count": 89,
      "outputs": []
    },
    {
      "cell_type": "markdown",
      "metadata": {
        "id": "teq3fSl7GYKk"
      },
      "source": [
        "## **Crossvalidate**"
      ]
    },
    {
      "cell_type": "code",
      "metadata": {
        "id": "46i2meaYGYKk"
      },
      "source": [
        "from sklearn.model_selection import cross_validate"
      ],
      "execution_count": 68,
      "outputs": []
    },
    {
      "cell_type": "code",
      "metadata": {
        "colab": {
          "base_uri": "https://localhost:8080/"
        },
        "id": "J5dKswVZGYKl",
        "outputId": "e245c305-caf7-4936-d4db-24986a9139c2"
      },
      "source": [
        "model = SVC(kernel=\"rbf\", C=1000)\n",
        "\n",
        "res = cross_validate(model, X, y, cv=10)\n",
        "\n",
        "np.mean(res[\"test_score\"]), np.std(res[\"test_score\"])"
      ],
      "execution_count": 69,
      "outputs": [
        {
          "output_type": "execute_result",
          "data": {
            "text/plain": [
              "(0.98040630847367, 0.012683091315102809)"
            ]
          },
          "metadata": {},
          "execution_count": 69
        }
      ]
    },
    {
      "cell_type": "markdown",
      "metadata": {
        "id": "a5rX00qbGYKl"
      },
      "source": [
        "### **Grid-search + crossvalidation**"
      ]
    },
    {
      "cell_type": "code",
      "metadata": {
        "id": "xKRbmlGLGYKl"
      },
      "source": [
        "from sklearn.model_selection import GridSearchCV"
      ],
      "execution_count": 70,
      "outputs": []
    },
    {
      "cell_type": "code",
      "metadata": {
        "colab": {
          "base_uri": "https://localhost:8080/"
        },
        "id": "jyeQmN-9GYKl",
        "outputId": "23a94769-b133-4092-a759-ba8ab874196f"
      },
      "source": [
        "clf = SVC()\n",
        "params = {\"C\" : [0.01, 0.1, 1, 10, 100],\n",
        "          \"kernel\" : [\"linear\", \"poly\", \"rbf\"]}#,\n",
        "          #\"gamma\" : [\"scale\", \"auto\"]}\n",
        "model = GridSearchCV(clf, params, cv=5, n_jobs=8)\n",
        "model.fit(X, y)"
      ],
      "execution_count": 71,
      "outputs": [
        {
          "output_type": "execute_result",
          "data": {
            "text/plain": [
              "GridSearchCV(cv=5, error_score=nan,\n",
              "             estimator=SVC(C=1.0, break_ties=False, cache_size=200,\n",
              "                           class_weight=None, coef0=0.0,\n",
              "                           decision_function_shape='ovr', degree=3,\n",
              "                           gamma='scale', kernel='rbf', max_iter=-1,\n",
              "                           probability=False, random_state=None, shrinking=True,\n",
              "                           tol=0.001, verbose=False),\n",
              "             iid='deprecated', n_jobs=8,\n",
              "             param_grid={'C': [0.01, 0.1, 1, 10, 100],\n",
              "                         'kernel': ['linear', 'poly', 'rbf']},\n",
              "             pre_dispatch='2*n_jobs', refit=True, return_train_score=False,\n",
              "             scoring=None, verbose=0)"
            ]
          },
          "metadata": {},
          "execution_count": 71
        }
      ]
    },
    {
      "cell_type": "code",
      "metadata": {
        "colab": {
          "base_uri": "https://localhost:8080/"
        },
        "id": "0UQbBdAsGYKm",
        "outputId": "9c847a3d-00ee-4563-ae02-db51efa00e4e"
      },
      "source": [
        "model.cv_results_"
      ],
      "execution_count": 72,
      "outputs": [
        {
          "output_type": "execute_result",
          "data": {
            "text/plain": [
              "{'mean_fit_time': array([ 0.03289309,  0.75745916,  0.07324104,  0.03523169,  3.88805909,\n",
              "         0.0637609 ,  0.03977938, 17.00119848,  0.03582358,  0.08575797,\n",
              "        22.19215889,  0.04136014,  0.38689542, 21.95765085,  0.04090886]),\n",
              " 'mean_score_time': array([0.01102381, 0.00749578, 0.02249055, 0.00529971, 0.01057339,\n",
              "        0.01616697, 0.00638475, 0.00890236, 0.01199656, 0.00593567,\n",
              "        0.00281076, 0.00955348, 0.00900517, 0.00495229, 0.004354  ]),\n",
              " 'mean_test_score': array([0.88470534, 0.96194273, 0.75548469, 0.93543951, 0.97117799,\n",
              "        0.94581091, 0.9458242 , 0.97463291, 0.96541094, 0.94812969,\n",
              "        0.97810112, 0.98039333, 0.94927912, 0.9769517 , 0.97925055]),\n",
              " 'param_C': masked_array(data=[0.01, 0.01, 0.01, 0.1, 0.1, 0.1, 1, 1, 1, 10, 10, 10,\n",
              "                    100, 100, 100],\n",
              "              mask=[False, False, False, False, False, False, False, False,\n",
              "                    False, False, False, False, False, False, False],\n",
              "        fill_value='?',\n",
              "             dtype=object),\n",
              " 'param_kernel': masked_array(data=['linear', 'poly', 'rbf', 'linear', 'poly', 'rbf',\n",
              "                    'linear', 'poly', 'rbf', 'linear', 'poly', 'rbf',\n",
              "                    'linear', 'poly', 'rbf'],\n",
              "              mask=[False, False, False, False, False, False, False, False,\n",
              "                    False, False, False, False, False, False, False],\n",
              "        fill_value='?',\n",
              "             dtype=object),\n",
              " 'params': [{'C': 0.01, 'kernel': 'linear'},\n",
              "  {'C': 0.01, 'kernel': 'poly'},\n",
              "  {'C': 0.01, 'kernel': 'rbf'},\n",
              "  {'C': 0.1, 'kernel': 'linear'},\n",
              "  {'C': 0.1, 'kernel': 'poly'},\n",
              "  {'C': 0.1, 'kernel': 'rbf'},\n",
              "  {'C': 1, 'kernel': 'linear'},\n",
              "  {'C': 1, 'kernel': 'poly'},\n",
              "  {'C': 1, 'kernel': 'rbf'},\n",
              "  {'C': 10, 'kernel': 'linear'},\n",
              "  {'C': 10, 'kernel': 'poly'},\n",
              "  {'C': 10, 'kernel': 'rbf'},\n",
              "  {'C': 100, 'kernel': 'linear'},\n",
              "  {'C': 100, 'kernel': 'poly'},\n",
              "  {'C': 100, 'kernel': 'rbf'}],\n",
              " 'rank_test_score': array([14,  8, 15, 13,  6, 12, 11,  5,  7, 10,  3,  1,  9,  4,  2],\n",
              "       dtype=int32),\n",
              " 'split0_test_score': array([0.86781609, 0.95402299, 0.75287356, 0.90804598, 0.95977011,\n",
              "        0.92528736, 0.91954023, 0.96551724, 0.94827586, 0.92528736,\n",
              "        0.96551724, 0.97126437, 0.93103448, 0.95977011, 0.97126437]),\n",
              " 'split1_test_score': array([0.86206897, 0.96551724, 0.75287356, 0.93678161, 0.97126437,\n",
              "        0.94827586, 0.94252874, 0.97701149, 0.97126437, 0.94252874,\n",
              "        0.97701149, 0.98850575, 0.94252874, 0.97701149, 0.97701149]),\n",
              " 'split2_test_score': array([0.9132948 , 0.97109827, 0.75722543, 0.94797688, 0.98265896,\n",
              "        0.97109827, 0.95953757, 0.98265896, 0.98265896, 0.96531792,\n",
              "        0.99421965, 0.98843931, 0.96531792, 0.99421965, 0.98265896]),\n",
              " 'split3_test_score': array([0.87861272, 0.94797688, 0.75722543, 0.94219653, 0.95953757,\n",
              "        0.94797688, 0.94219653, 0.95953757, 0.95953757, 0.94219653,\n",
              "        0.96531792, 0.96531792, 0.94219653, 0.96531792, 0.97687861]),\n",
              " 'split4_test_score': array([0.9017341 , 0.97109827, 0.75722543, 0.94219653, 0.98265896,\n",
              "        0.93641618, 0.96531792, 0.98843931, 0.96531792, 0.96531792,\n",
              "        0.98843931, 0.98843931, 0.96531792, 0.98843931, 0.98843931]),\n",
              " 'std_fit_time': array([9.39951345e-03, 1.47231018e-01, 1.01781102e-02, 7.37216308e-03,\n",
              "        1.31942059e+00, 2.95263384e-03, 6.92880847e-03, 4.47860362e+00,\n",
              "        3.27479696e-03, 1.26203057e-02, 8.24476177e+00, 1.01773818e-02,\n",
              "        5.73730223e-02, 6.83857733e+00, 2.88791100e-03]),\n",
              " 'std_score_time': array([0.00768859, 0.00524111, 0.00624511, 0.00409038, 0.00534153,\n",
              "        0.00452397, 0.00554549, 0.00591912, 0.00488662, 0.00512734,\n",
              "        0.00240878, 0.0044648 , 0.00372311, 0.00436744, 0.00491606]),\n",
              " 'std_test_score': array([0.01970841, 0.00936154, 0.00213197, 0.01414714, 0.01028855,\n",
              "        0.01522954, 0.01601829, 0.01069258, 0.01148802, 0.01535719,\n",
              "        0.01174425, 0.01005875, 0.01373378, 0.01312023, 0.00583899])}"
            ]
          },
          "metadata": {},
          "execution_count": 72
        }
      ]
    },
    {
      "cell_type": "code",
      "metadata": {
        "colab": {
          "base_uri": "https://localhost:8080/"
        },
        "id": "xFNq5dL4GYKm",
        "outputId": "20cefd0b-4df5-4859-d9c3-e178cc1b9dd1"
      },
      "source": [
        "params, score = model.cv_results_[\"params\"], model.cv_results_[\"mean_test_score\"]\n",
        "\n",
        "indices = np.argsort(score)\n",
        "\n",
        "for i in indices:\n",
        "    print(params[i], score[i].round(3))"
      ],
      "execution_count": 73,
      "outputs": [
        {
          "output_type": "stream",
          "name": "stdout",
          "text": [
            "{'C': 0.01, 'kernel': 'rbf'} 0.755\n",
            "{'C': 0.01, 'kernel': 'linear'} 0.885\n",
            "{'C': 0.1, 'kernel': 'linear'} 0.935\n",
            "{'C': 0.1, 'kernel': 'rbf'} 0.946\n",
            "{'C': 1, 'kernel': 'linear'} 0.946\n",
            "{'C': 10, 'kernel': 'linear'} 0.948\n",
            "{'C': 100, 'kernel': 'linear'} 0.949\n",
            "{'C': 0.01, 'kernel': 'poly'} 0.962\n",
            "{'C': 1, 'kernel': 'rbf'} 0.965\n",
            "{'C': 0.1, 'kernel': 'poly'} 0.971\n",
            "{'C': 1, 'kernel': 'poly'} 0.975\n",
            "{'C': 100, 'kernel': 'poly'} 0.977\n",
            "{'C': 10, 'kernel': 'poly'} 0.978\n",
            "{'C': 100, 'kernel': 'rbf'} 0.979\n",
            "{'C': 10, 'kernel': 'rbf'} 0.98\n"
          ]
        }
      ]
    },
    {
      "cell_type": "code",
      "metadata": {
        "colab": {
          "base_uri": "https://localhost:8080/"
        },
        "id": "VvcN0sn0GYKm",
        "outputId": "e0e87446-38fb-4726-da23-38e7d875f71a"
      },
      "source": [
        "model.best_estimator_"
      ],
      "execution_count": 74,
      "outputs": [
        {
          "output_type": "execute_result",
          "data": {
            "text/plain": [
              "SVC(C=10, break_ties=False, cache_size=200, class_weight=None, coef0=0.0,\n",
              "    decision_function_shape='ovr', degree=3, gamma='scale', kernel='rbf',\n",
              "    max_iter=-1, probability=False, random_state=None, shrinking=True,\n",
              "    tol=0.001, verbose=False)"
            ]
          },
          "metadata": {},
          "execution_count": 74
        }
      ]
    },
    {
      "cell_type": "markdown",
      "metadata": {
        "id": "jMH5qPGMAeB4"
      },
      "source": [
        "## **Compare classifiers**"
      ]
    },
    {
      "cell_type": "code",
      "metadata": {
        "id": "93lNl7rt3ftZ"
      },
      "source": [
        "from sklearn.neural_network import MLPClassifier # multi-layer perceptron classifier\n",
        "from sklearn.naive_bayes import GaussianNB\n",
        "from sklearn.tree import DecisionTreeClassifier\n",
        "from sklearn.neighbors import KNeighborsClassifier"
      ],
      "execution_count": 75,
      "outputs": []
    },
    {
      "cell_type": "code",
      "metadata": {
        "colab": {
          "base_uri": "https://localhost:8080/"
        },
        "id": "jRSP0nxqGYKn",
        "outputId": "bdc9553c-d9ee-4253-f87c-7d47ef31e499"
      },
      "source": [
        "classifiers = [MLPClassifier(max_iter=1000),\n",
        "               GaussianNB(),\n",
        "               DecisionTreeClassifier(),\n",
        "               KNeighborsClassifier(),\n",
        "               SVC(kernel=\"rbf\", C=10)]\n",
        "\n",
        "for classifier in classifiers:\n",
        "    classify(X, y, classifier)"
      ],
      "execution_count": 76,
      "outputs": [
        {
          "output_type": "stream",
          "name": "stdout",
          "text": [
            "0.977\n",
            "0.779\n",
            "0.959\n",
            "0.968\n",
            "0.986\n"
          ]
        }
      ]
    },
    {
      "cell_type": "code",
      "metadata": {
        "colab": {
          "base_uri": "https://localhost:8080/"
        },
        "id": "kjMNwSVEGYKo",
        "outputId": "f65f3a4f-4315-4152-9809-e8fc3366880f"
      },
      "source": [
        "clf = MLPClassifier(max_iter=1000)\n",
        "params = {\"hidden_layer_sizes\" : [5, 10, 50, 100],\n",
        "          \"activation\" : [\"identity\", \"logistic\", \"tanh\", \"relu\"],\n",
        "          \"solver\" : [\"sgd\", \"adam\"]}\n",
        "model = GridSearchCV(clf, params, cv=5, n_jobs=8)\n",
        "model.fit(X, y)"
      ],
      "execution_count": 77,
      "outputs": [
        {
          "output_type": "execute_result",
          "data": {
            "text/plain": [
              "GridSearchCV(cv=5, error_score=nan,\n",
              "             estimator=MLPClassifier(activation='relu', alpha=0.0001,\n",
              "                                     batch_size='auto', beta_1=0.9,\n",
              "                                     beta_2=0.999, early_stopping=False,\n",
              "                                     epsilon=1e-08, hidden_layer_sizes=(100,),\n",
              "                                     learning_rate='constant',\n",
              "                                     learning_rate_init=0.001, max_fun=15000,\n",
              "                                     max_iter=1000, momentum=0.9,\n",
              "                                     n_iter_no_change=10,\n",
              "                                     nesterovs_momentum=True, power_t=0.5,\n",
              "                                     random_state=None, shuffle=True,\n",
              "                                     solver='adam', tol=0.0001,\n",
              "                                     validation_fraction=0.1, verbose=False,\n",
              "                                     warm_start=False),\n",
              "             iid='deprecated', n_jobs=8,\n",
              "             param_grid={'activation': ['identity', 'logistic', 'tanh', 'relu'],\n",
              "                         'hidden_layer_sizes': [5, 10, 50, 100],\n",
              "                         'solver': ['sgd', 'adam']},\n",
              "             pre_dispatch='2*n_jobs', refit=True, return_train_score=False,\n",
              "             scoring=None, verbose=0)"
            ]
          },
          "metadata": {},
          "execution_count": 77
        }
      ]
    },
    {
      "cell_type": "code",
      "metadata": {
        "colab": {
          "base_uri": "https://localhost:8080/"
        },
        "id": "1fPwnj2EGYKp",
        "outputId": "9365b46e-8003-4761-bfae-325dce6d8979"
      },
      "source": [
        "model.best_estimator_, model.best_score_"
      ],
      "execution_count": 78,
      "outputs": [
        {
          "output_type": "execute_result",
          "data": {
            "text/plain": [
              "(MLPClassifier(activation='tanh', alpha=0.0001, batch_size='auto', beta_1=0.9,\n",
              "               beta_2=0.999, early_stopping=False, epsilon=1e-08,\n",
              "               hidden_layer_sizes=50, learning_rate='constant',\n",
              "               learning_rate_init=0.001, max_fun=15000, max_iter=1000,\n",
              "               momentum=0.9, n_iter_no_change=10, nesterovs_momentum=True,\n",
              "               power_t=0.5, random_state=None, shuffle=True, solver='adam',\n",
              "               tol=0.0001, validation_fraction=0.1, verbose=False,\n",
              "               warm_start=False), 0.9504285429539566)"
            ]
          },
          "metadata": {},
          "execution_count": 78
        }
      ]
    },
    {
      "cell_type": "code",
      "metadata": {
        "colab": {
          "base_uri": "https://localhost:8080/"
        },
        "id": "Y5mz5zviGYKq",
        "outputId": "b3e3e065-02c4-461c-f0dc-989ed80f3074"
      },
      "source": [
        "%time MLPClassifier(hidden_layer_sizes=10, max_iter=1000, solver='sgd').fit(X_train, y_train).score(X_test, y_test)"
      ],
      "execution_count": 79,
      "outputs": [
        {
          "output_type": "stream",
          "name": "stdout",
          "text": [
            "CPU times: user 1.33 s, sys: 1.74 ms, total: 1.33 s\n",
            "Wall time: 1.34 s\n"
          ]
        },
        {
          "output_type": "stream",
          "name": "stderr",
          "text": [
            "/usr/local/lib/python3.7/dist-packages/sklearn/neural_network/_multilayer_perceptron.py:571: ConvergenceWarning: Stochastic Optimizer: Maximum iterations (1000) reached and the optimization hasn't converged yet.\n",
            "  % self.max_iter, ConvergenceWarning)\n"
          ]
        },
        {
          "output_type": "execute_result",
          "data": {
            "text/plain": [
              "0.9723502304147466"
            ]
          },
          "metadata": {},
          "execution_count": 79
        }
      ]
    },
    {
      "cell_type": "code",
      "metadata": {
        "scrolled": true,
        "colab": {
          "base_uri": "https://localhost:8080/"
        },
        "id": "4JWnkM5WGYKq",
        "outputId": "5483c027-251a-4f05-afa5-ec0eeb60d559"
      },
      "source": [
        "%time SVC(C=10).fit(X_train, y_train).score(X_test, y_test)"
      ],
      "execution_count": 80,
      "outputs": [
        {
          "output_type": "stream",
          "name": "stdout",
          "text": [
            "CPU times: user 4.99 ms, sys: 0 ns, total: 4.99 ms\n",
            "Wall time: 5.78 ms\n"
          ]
        },
        {
          "output_type": "execute_result",
          "data": {
            "text/plain": [
              "0.9861751152073732"
            ]
          },
          "metadata": {},
          "execution_count": 80
        }
      ]
    },
    {
      "cell_type": "markdown",
      "metadata": {
        "id": "D_pSaCWM3gec"
      },
      "source": [
        "## **Ensemble methods**"
      ]
    },
    {
      "cell_type": "code",
      "metadata": {
        "id": "JMDa_nxxGYKr"
      },
      "source": [
        "from sklearn.ensemble import RandomForestClassifier"
      ],
      "execution_count": 81,
      "outputs": []
    },
    {
      "cell_type": "code",
      "metadata": {
        "colab": {
          "base_uri": "https://localhost:8080/"
        },
        "id": "gdqWpK1iGYK0",
        "outputId": "55749024-9b22-4cb3-cc0f-a2ffdb2f6c85"
      },
      "source": [
        "model = RandomForestClassifier()\n",
        "\n",
        "res = cross_validate(model, X, y, cv=10)\n",
        "np.mean(res[\"test_score\"]), np.std(res[\"test_score\"])"
      ],
      "execution_count": 82,
      "outputs": [
        {
          "output_type": "execute_result",
          "data": {
            "text/plain": [
              "(0.9665196471531677, 0.01589183257241371)"
            ]
          },
          "metadata": {},
          "execution_count": 82
        }
      ]
    },
    {
      "cell_type": "code",
      "metadata": {
        "id": "9Uvk2gjj3f1n"
      },
      "source": [
        "from sklearn.ensemble import StackingClassifier"
      ],
      "execution_count": 83,
      "outputs": []
    },
    {
      "cell_type": "code",
      "metadata": {
        "colab": {
          "base_uri": "https://localhost:8080/"
        },
        "id": "hbnW2C7wfanU",
        "outputId": "1476405c-2b20-4219-f51a-6864242906c1"
      },
      "source": [
        "classifiers = [(\"MLP\", MLPClassifier(max_iter=1000, random_state=42)),\n",
        "               (\"Bayes\", GaussianNB()),\n",
        "               (\"RFC\", RandomForestClassifier()),\n",
        "               (\"KNN\", KNeighborsClassifier()),\n",
        "               (\"SVC\", SVC(C=10))]\n",
        "\n",
        "model = StackingClassifier(classifiers)\n",
        "\n",
        "res = cross_validate(model, X, y, cv=10)\n",
        "np.mean(res[\"test_score\"]), np.std(res[\"test_score\"])"
      ],
      "execution_count": 84,
      "outputs": [
        {
          "output_type": "execute_result",
          "data": {
            "text/plain": [
              "(0.9780673616680031, 0.013099254486727276)"
            ]
          },
          "metadata": {},
          "execution_count": 84
        }
      ]
    },
    {
      "cell_type": "code",
      "metadata": {
        "colab": {
          "base_uri": "https://localhost:8080/"
        },
        "id": "ccqwzF_tGYK1",
        "outputId": "6ca3e014-13c3-4144-d727-5f96794f2b0a"
      },
      "source": [
        "classifiers = [(\"MLP\", MLPClassifier(max_iter=1000, random_state=42)),\n",
        "               (\"Bayes\", GaussianNB()),\n",
        "               (\"DTC\", DecisionTreeClassifier()),\n",
        "               (\"KNN\", KNeighborsClassifier()),\n",
        "               (\"SVC\", SVC(C=10))]\n",
        "\n",
        "# train the model\n",
        "clf = StackingClassifier(classifiers)\n",
        "\n",
        "model = make_pipeline(StandardScaler(),\n",
        "                      clf)\n",
        "\n",
        "res = cross_validate(model, X, y, cv=10)\n",
        "np.mean(res[\"test_score\"]), np.std(res[\"test_score\"])"
      ],
      "execution_count": 85,
      "outputs": [
        {
          "output_type": "execute_result",
          "data": {
            "text/plain": [
              "(0.980379577653034, 0.010401999270797655)"
            ]
          },
          "metadata": {},
          "execution_count": 85
        }
      ]
    },
    {
      "cell_type": "markdown",
      "metadata": {
        "id": "mUhmTJO3GYK1"
      },
      "source": [
        "## **Conclusion**"
      ]
    },
    {
      "cell_type": "code",
      "metadata": {
        "colab": {
          "base_uri": "https://localhost:8080/"
        },
        "id": "R3tjj2vcGYK1",
        "outputId": "bce217f4-1aa4-466c-cbde-a53c8b81321a"
      },
      "source": [
        "classifiers = [(\"MLP\", MLPClassifier(max_iter=1000, random_state=42)),\n",
        "               (\"Bayes\", GaussianNB()),\n",
        "               (\"DTC\", DecisionTreeClassifier()),\n",
        "               (\"KNN\", KNeighborsClassifier()),\n",
        "               (\"SVC\", SVC(C=10))]\n",
        "\n",
        "# train the model\n",
        "clf = StackingClassifier(classifiers)\n",
        "\n",
        "model = make_pipeline(StandardScaler(),\n",
        "                      clf)\n",
        "\n",
        "model.fit(X_new[[\"u-g\"]], y)"
      ],
      "execution_count": 86,
      "outputs": [
        {
          "output_type": "execute_result",
          "data": {
            "text/plain": [
              "Pipeline(memory=None,\n",
              "         steps=[('standardscaler',\n",
              "                 StandardScaler(copy=True, with_mean=True, with_std=True)),\n",
              "                ('stackingclassifier',\n",
              "                 StackingClassifier(cv=None,\n",
              "                                    estimators=[('MLP',\n",
              "                                                 MLPClassifier(activation='relu',\n",
              "                                                               alpha=0.0001,\n",
              "                                                               batch_size='auto',\n",
              "                                                               beta_1=0.9,\n",
              "                                                               beta_2=0.999,\n",
              "                                                               early_stopping=False,\n",
              "                                                               epsilon=1e-08,\n",
              "                                                               hidden_layer_sizes=(100,),\n",
              "                                                               learning_rate='constant',\n",
              "                                                               learnin...\n",
              "                                                                      weights='uniform')),\n",
              "                                                ('SVC',\n",
              "                                                 SVC(C=10, break_ties=False,\n",
              "                                                     cache_size=200,\n",
              "                                                     class_weight=None,\n",
              "                                                     coef0=0.0,\n",
              "                                                     decision_function_shape='ovr',\n",
              "                                                     degree=3, gamma='scale',\n",
              "                                                     kernel='rbf', max_iter=-1,\n",
              "                                                     probability=False,\n",
              "                                                     random_state=None,\n",
              "                                                     shrinking=True, tol=0.001,\n",
              "                                                     verbose=False))],\n",
              "                                    final_estimator=None, n_jobs=None,\n",
              "                                    passthrough=False, stack_method='auto',\n",
              "                                    verbose=0))],\n",
              "         verbose=False)"
            ]
          },
          "metadata": {},
          "execution_count": 86
        }
      ]
    },
    {
      "cell_type": "code",
      "metadata": {
        "colab": {
          "base_uri": "https://localhost:8080/"
        },
        "id": "f3SeWR9NNlmE",
        "outputId": "9ae855a4-195a-4773-c242-c9980cd5cff4"
      },
      "source": [
        "u = 21\n",
        "g = 20\n",
        "\n",
        "pred = model.predict(np.array([u-g]).reshape(-1,1))\n",
        "\n",
        "le.inverse_transform(pred)"
      ],
      "execution_count": 87,
      "outputs": [
        {
          "output_type": "execute_result",
          "data": {
            "text/plain": [
              "array(['star'], dtype=object)"
            ]
          },
          "metadata": {},
          "execution_count": 87
        }
      ]
    },
    {
      "cell_type": "markdown",
      "metadata": {
        "id": "bhE4ST82ehcl"
      },
      "source": [
        "# **OpenAI**"
      ]
    },
    {
      "cell_type": "code",
      "metadata": {
        "id": "iSzo7B7IPJr9"
      },
      "source": [
        "'''\n",
        "1. generate 2 dimesional data with two distinct classes.\n",
        "2. scale the using min-max scaler.\n",
        "3. classify the data using random forest classifier.\n",
        "4. find best hyperparameters using grid search.\n",
        "'''"
      ],
      "execution_count": null,
      "outputs": []
    },
    {
      "cell_type": "code",
      "metadata": {
        "id": "ZNg6aU3TE0Ba"
      },
      "source": [
        ""
      ],
      "execution_count": null,
      "outputs": []
    }
  ]
}