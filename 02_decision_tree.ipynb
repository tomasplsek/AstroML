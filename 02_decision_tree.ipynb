{
 "cells": [
  {
   "cell_type": "markdown",
   "id": "3288bcc8",
   "metadata": {
    "id": "3288bcc8"
   },
   "source": [
    "# 2. hands-on session: ***Star vs Quasar*: Decision tree**"
   ]
  },
  {
   "cell_type": "markdown",
   "id": "zgUbb-KvmqRg",
   "metadata": {
    "id": "zgUbb-KvmqRg"
   },
   "source": [
    "# **What does a good dataset look like?**\n",
    "\n",
    "- enough data points\n",
    "- not so much omitted data\n",
    "- distinguishable features\n",
    "- representative features\n",
    "- good parameter-space coverage\n",
    "- unbiased dataset"
   ]
  },
  {
   "cell_type": "code",
   "execution_count": null,
   "id": "2284c2e1-f7d8-4bf4-b4c8-fd08b84e3d14",
   "metadata": {},
   "outputs": [],
   "source": [
    "import numpy as np\n",
    "import pandas as pd\n",
    "import matplotlib.pyplot as plt\n",
    "\n",
    "plt.rc(\"font\", size=15)\n",
    "pd.options.display.float_format = \"{:,.2g}\".format\n",
    "pd.set_option('display.max_rows', 20)"
   ]
  },
  {
   "cell_type": "markdown",
   "id": "3e29e1ac-6d1a-4994-92e1-b9359c631389",
   "metadata": {},
   "source": [
    "## **Cats vs Dogs**\n",
    "\n",
    "Exemplary problem: distinguish between *cats* and *dogs* based on their **heights** and **widths**."
   ]
  },
  {
   "cell_type": "code",
   "execution_count": null,
   "id": "77a1395a-52a3-44a2-9d96-0cbca7c78cbb",
   "metadata": {},
   "outputs": [],
   "source": [
    "Ndog, Ncat = 60, 40\n",
    "\n",
    "height = np.hstack((np.random.uniform(11, 50, size=Ndog), \n",
    "                    np.random.uniform(9, 20, size=Ncat)))\n",
    "\n",
    "width = np.hstack((np.random.uniform(7, 25, size=Ndog), \n",
    "                   np.random.uniform(5, 14, size=Ncat)))\n",
    "\n",
    "y = Ndog*[\"Dog\"] + Ncat*[\"Cat\"]\n",
    "\n",
    "df = pd.DataFrame({\"height\" : height, \"width\" : width, \"species\" : y})\n",
    "df"
   ]
  },
  {
   "cell_type": "code",
   "execution_count": null,
   "id": "192bfe0f-f5ee-4fcd-91ee-9cab453e8907",
   "metadata": {},
   "outputs": [],
   "source": [
    "cats = df[\"species\"] == \"Cat\"\n",
    "dogs = df[\"species\"] == \"Dog\"\n",
    "\n",
    "plt.scatter(df.loc[dogs, \"width\"], df.loc[dogs, \"height\"], label=\"dogs\")\n",
    "plt.scatter(df.loc[cats, \"width\"], df.loc[cats, \"height\"], label=\"cats\")\n",
    "\n",
    "plt.xlabel(\"width (cm)\");\n",
    "plt.ylabel(\"height (cm)\")\n",
    "plt.legend();"
   ]
  },
  {
   "cell_type": "markdown",
   "id": "nUaIh-T2mw_G",
   "metadata": {
    "id": "nUaIh-T2mw_G"
   },
   "source": [
    "### **Enough data points**"
   ]
  },
  {
   "cell_type": "code",
   "execution_count": null,
   "id": "7c8efe39",
   "metadata": {
    "colab": {
     "base_uri": "https://localhost:8080/",
     "height": 289
    },
    "id": "7c8efe39",
    "outputId": "9d70f62a-9934-41f2-c3aa-ee81d4cfe0b6"
   },
   "outputs": [],
   "source": [
    "plt.scatter(df.loc[dogs, \"width\"][:5], df.loc[dogs, \"height\"][:5], label=\"dogs\")\n",
    "plt.scatter(df.loc[cats, \"width\"][:3], df.loc[cats, \"height\"][:3], label=\"cats\")\n",
    "\n",
    "plt.xlabel(\"width (cm)\");\n",
    "plt.ylabel(\"height (cm)\")\n",
    "plt.legend();"
   ]
  },
  {
   "cell_type": "markdown",
   "id": "IRoBWzVKn1Wc",
   "metadata": {
    "id": "IRoBWzVKn1Wc"
   },
   "source": [
    "### **Not so much omitted data**"
   ]
  },
  {
   "cell_type": "code",
   "execution_count": null,
   "id": "1433ef10-9701-4b8f-964e-3f14ef1de436",
   "metadata": {},
   "outputs": [],
   "source": [
    "new = df.copy()\n",
    "\n",
    "new.loc[::2, \"width\"] = np.NaN\n",
    "\n",
    "new"
   ]
  },
  {
   "cell_type": "code",
   "execution_count": null,
   "id": "978114dd-3c6c-4efd-9002-9e8dbea48144",
   "metadata": {},
   "outputs": [],
   "source": [
    "new.loc[cats, \"width\"] = new.loc[cats, \"width\"].fillna(np.mean(new.loc[cats, \"width\"]))\n",
    "new.loc[dogs, \"width\"] = new.loc[dogs, \"width\"].fillna(np.mean(new.loc[dogs, \"width\"]))\n",
    "\n",
    "plt.scatter(new[dogs][\"width\"], new[dogs][\"height\"], label=\"dogs\")\n",
    "plt.scatter(new[cats][\"width\"], new[cats][\"height\"], label=\"cats\")\n",
    "\n",
    "plt.xlabel(\"width (cm)\")\n",
    "plt.ylabel(\"height (cm)\");"
   ]
  },
  {
   "cell_type": "markdown",
   "id": "V33O_-GSnOOi",
   "metadata": {
    "id": "V33O_-GSnOOi"
   },
   "source": [
    "### **Distinguishable features**"
   ]
  },
  {
   "cell_type": "code",
   "execution_count": null,
   "id": "a91475c0",
   "metadata": {
    "colab": {
     "base_uri": "https://localhost:8080/",
     "height": 289
    },
    "id": "a91475c0",
    "outputId": "28ecd553-38e4-43a7-aab8-030f9e61818c"
   },
   "outputs": [],
   "source": [
    "Ncat, Nchihuahua = 50, 30\n",
    "\n",
    "height = np.hstack((np.random.uniform(9, 20, size=Nchihuahua), \n",
    "                    np.random.uniform(9, 20, size=Ncat)))\n",
    "\n",
    "width = np.hstack((np.random.uniform(5, 14, size=Nchihuahua), \n",
    "                   np.random.uniform(5, 14, size=Ncat)))\n",
    "\n",
    "y = Ncat * [\"Cat\"] + Nchihuahua * [\"Chihuahua\"]\n",
    "\n",
    "df_new = pd.DataFrame({\"height\" : height, \"width\" : width, \"species\" : y})\n",
    "\n",
    "cats_new = df_new[\"species\"] == \"Cat\"\n",
    "dogs_new = df_new[\"species\"] == \"Chihuahua\"\n",
    "\n",
    "plt.scatter(df_new.loc[dogs_new, \"width\"], df_new.loc[dogs_new, \"height\"], label=\"chihuahuas\")\n",
    "plt.scatter(df_new.loc[cats_new, \"width\"], df_new.loc[cats_new, \"height\"], label=\"cats\")\n",
    "plt.xlabel(\"width (cm)\")\n",
    "plt.ylabel(\"height (cm)\");"
   ]
  },
  {
   "cell_type": "markdown",
   "id": "pZvczkuM-uI2",
   "metadata": {
    "id": "pZvczkuM-uI2"
   },
   "source": [
    "### **Representative features**"
   ]
  },
  {
   "cell_type": "code",
   "execution_count": null,
   "id": "bYx9EAdipH7P",
   "metadata": {
    "colab": {
     "base_uri": "https://localhost:8080/",
     "height": 424
    },
    "id": "bYx9EAdipH7P",
    "outputId": "59ffa5d0-576d-41dc-e0c1-bbcded494964"
   },
   "outputs": [],
   "source": [
    "Ndog, Ncat = 10, 10\n",
    "\n",
    "legs = np.hstack((np.ones(Ndog)*4,\n",
    "                  np.ones(Ncat)*4))\n",
    "\n",
    "tail = np.hstack(([True for i in range(Ndog)],\n",
    "                  [True for i in range(Ncat)]))\n",
    "\n",
    "y = Ndog*[\"Dog\"] + Ncat*[\"Cat\"]\n",
    "\n",
    "pd.DataFrame({\"Legs\" : legs, \"Tail\" : tail, \"Species\" : y})"
   ]
  },
  {
   "cell_type": "markdown",
   "id": "Z7PBc9Bwq4eK",
   "metadata": {
    "id": "Z7PBc9Bwq4eK"
   },
   "source": [
    "### **Good parameter-space coverage**"
   ]
  },
  {
   "cell_type": "code",
   "execution_count": null,
   "id": "TisOu0HUITBA",
   "metadata": {
    "colab": {
     "base_uri": "https://localhost:8080/",
     "height": 289
    },
    "id": "TisOu0HUITBA",
    "outputId": "c0c09810-3616-4e67-8a69-9fd82cf10158"
   },
   "outputs": [],
   "source": [
    "cond_dogs = (df.loc[dogs, \"width\"] > 15) & (df.loc[dogs, \"height\"] > 15)\n",
    "cond_cats = (df.loc[cats, \"width\"] < 10) & (df.loc[cats, \"height\"] < 20)\n",
    "\n",
    "plt.scatter(df.loc[dogs, \"width\"][cond_dogs], df.loc[dogs, \"height\"][cond_dogs], label=\"dogs\")\n",
    "plt.scatter(df.loc[cats, \"width\"][cond_cats], df.loc[cats, \"height\"][cond_cats], label=\"cats\")\n",
    "plt.text(11.2, 25, \"?\", size=30)\n",
    "\n",
    "plt.xlabel(\"width (cm)\");\n",
    "plt.ylabel(\"height (cm)\")\n",
    "plt.legend();"
   ]
  },
  {
   "cell_type": "markdown",
   "id": "gqbF6ozwrJvU",
   "metadata": {
    "id": "gqbF6ozwrJvU"
   },
   "source": [
    "### **Selection & sampling bias**"
   ]
  },
  {
   "cell_type": "code",
   "execution_count": null,
   "id": "31d3d3f6-86e4-4cd0-9429-957ae6c9355e",
   "metadata": {},
   "outputs": [],
   "source": [
    "width_limit = 10\n",
    "\n",
    "cond_dogs = df.loc[dogs, \"width\"] > width_limit\n",
    "cond_cats = df.loc[cats, \"width\"] > width_limit\n",
    "\n",
    "plt.scatter(df.loc[dogs, \"width\"], df.loc[dogs, \"height\"], alpha=0.3, color=\"C0\")\n",
    "plt.scatter(df.loc[dogs, \"width\"][cond_dogs], df.loc[dogs, \"height\"][cond_dogs], label=\"dogs\", color=\"C0\")\n",
    "plt.scatter(df.loc[cats, \"width\"], df.loc[cats, \"height\"], color=\"C1\", alpha=0.3)\n",
    "plt.scatter(df.loc[cats, \"width\"][cond_cats], df.loc[cats, \"height\"][cond_cats], label=\"cats\", color=\"C1\")\n",
    "plt.axvline(width_limit, color=\"k\")\n",
    "\n",
    "plt.xlabel(\"width (cm)\")\n",
    "plt.ylabel(\"height (cm)\")\n",
    "plt.legend(loc=\"lower right\");"
   ]
  },
  {
   "cell_type": "markdown",
   "id": "397bda39-6c5d-46c7-9a3f-9dab003ebf0f",
   "metadata": {},
   "source": [
    "<img src=\"https://i.redd.it/fpjq7qswyp871.jpg\" width=650 align=center style=\"padding-bottom:40px;padding-top:40px\"></img>"
   ]
  },
  {
   "cell_type": "markdown",
   "id": "dfd0f97a-dc2f-4c97-8a80-024d16a7b62f",
   "metadata": {},
   "source": [
    "#### **Example: Flux-limited studies (Malmquist bias)**\n",
    "\n",
    "<img src=\"https://upload.wikimedia.org/wikipedia/commons/6/6a/Bias2.png\" width=650 align=left style=\"padding-bottom:0px;padding-top:30px\"></img>"
   ]
  },
  {
   "cell_type": "markdown",
   "id": "eJDzo4VOrs4a",
   "metadata": {
    "id": "eJDzo4VOrs4a"
   },
   "source": [
    "#### **Example: Hot Jupiters**\n",
    "\n",
    "\n",
    "<img src=\"https://drive.google.com/uc?export=view&id=1720xkETMsQiIKJU0QFtOZ0LTGUqHNFQJ\" width=\"550px\" align=\"left\" style=\"padding-bottom:40px;padding-top:40px\">"
   ]
  },
  {
   "cell_type": "markdown",
   "id": "kXoG9NnYpIX4",
   "metadata": {
    "id": "kXoG9NnYpIX4"
   },
   "source": [
    "# **Where can you get a dataset?**\n",
    "\n",
    "- [Scikit-learn](https://scikit-learn.org/stable/datasets/toy_dataset.html)\n",
    "- [Keras](https://keras.io/api/datasets/)\n",
    "- [Kaggle](https://www.kaggle.com/datasets)\n",
    "- [HuggingFace](https://huggingface.co/datasets)\n",
    "- Internet: Photobanks, Weather, Stocks, Bitcoin"
   ]
  },
  {
   "cell_type": "markdown",
   "id": "5KniPgpS16FS",
   "metadata": {
    "id": "5KniPgpS16FS"
   },
   "source": [
    "## **Scikit-learn Datasets**"
   ]
  },
  {
   "cell_type": "markdown",
   "id": "Hve-KFRf7JVJ",
   "metadata": {
    "id": "Hve-KFRf7JVJ"
   },
   "source": [
    "### **Blobs & circles (clustering)**\n",
    "\n",
    "```python\n",
    "from sklearn import datasets\n",
    "\n",
    "n_samples = 500\n",
    "noisy_circles = datasets.make_circles(n_samples=n_samples, factor=0.5, noise=0.05)\n",
    "noisy_moons = datasets.make_moons(n_samples=n_samples, noise=0.05)\n",
    "blobs = datasets.make_blobs(n_samples=n_samples)\n",
    "...\n",
    "...\n",
    "```\n",
    "\n",
    "https://scikit-learn.org/stable/auto_examples/cluster/plot_cluster_comparison.html\n",
    "\n",
    "<img src=\"https://scikit-learn.org/stable/_images/sphx_glr_plot_cluster_comparison_001.png\" align=left width=950 style=\"padding-bottom:40px;padding-top:20px\">"
   ]
  },
  {
   "cell_type": "markdown",
   "id": "6lioGV9J7YKh",
   "metadata": {
    "id": "6lioGV9J7YKh"
   },
   "source": [
    "### **Iris = kosatec (classification, clustering)**\n",
    "\n",
    "<br>\n",
    "\n",
    "<img src=\"https://www.aifunded.es/images/iris.png\" align=left width=950 style=\"padding-bottom:25px\">"
   ]
  },
  {
   "cell_type": "code",
   "execution_count": null,
   "id": "VzX6CIK72Ghp",
   "metadata": {
    "colab": {
     "base_uri": "https://localhost:8080/",
     "height": 54
    },
    "id": "VzX6CIK72Ghp",
    "outputId": "327db2ce-feef-4459-8b56-8e0860d55ad8"
   },
   "outputs": [],
   "source": [
    "from sklearn.datasets import load_iris\n",
    "\n",
    "iris = load_iris()\n",
    "\n",
    "df = pd.DataFrame(data=iris[\"data\"], columns=iris[\"feature_names\"])\n",
    "df[\"type\"] = [iris[\"target_names\"][i] for i in iris[\"target\"]]\n",
    "\n",
    "df"
   ]
  },
  {
   "cell_type": "code",
   "execution_count": null,
   "id": "084e49a0-c7b4-4d37-9931-89446ca389f4",
   "metadata": {},
   "outputs": [],
   "source": [
    "i1, i2, i3 = y == 0, y == 1, y == 2\n",
    "setosa = df[\"type\"] == \"setosa\"\n",
    "versicolor = df[\"type\"] == \"versicolor\"\n",
    "virginica = df[\"type\"] == \"virginica\"\n",
    "\n",
    "plt.figure(figsize=(14,6))\n",
    "\n",
    "plt.subplot(121)\n",
    "\n",
    "col1, col2 = \"sepal length (cm)\", \"sepal width (cm)\"\n",
    "plt.scatter(df.loc[setosa, col1], df.loc[setosa, col2])\n",
    "plt.scatter(df.loc[versicolor, col1], df.loc[versicolor, col2])\n",
    "plt.scatter(df.loc[virginica, col1], df.loc[virginica, col2])\n",
    "plt.xlabel(col1)\n",
    "plt.ylabel(col2)\n",
    "\n",
    "plt.subplot(122)\n",
    "col1, col2 = \"petal length (cm)\", \"petal width (cm)\"\n",
    "plt.scatter(df.loc[setosa, col1], df.loc[setosa, col2], label=\"setosa\")\n",
    "plt.scatter(df.loc[versicolor, col1], df.loc[versicolor, col2], label=\"versicolor\")\n",
    "plt.scatter(df.loc[virginica, col1], df.loc[virginica, col2], label=\"virginica\")\n",
    "plt.xlabel(col1)\n",
    "plt.ylabel(col2)\n",
    "plt.legend(fontsize=14);"
   ]
  },
  {
   "cell_type": "markdown",
   "id": "st5K7Ig6AGU0",
   "metadata": {
    "id": "st5K7Ig6AGU0"
   },
   "source": [
    "### **California housing dataset (regression)**"
   ]
  },
  {
   "cell_type": "code",
   "execution_count": null,
   "id": "hJ6ELdrJAGDD",
   "metadata": {
    "colab": {
     "base_uri": "https://localhost:8080/",
     "height": 424
    },
    "id": "hJ6ELdrJAGDD",
    "outputId": "8fb8d021-48a8-41a7-e19f-0e5cf405a44b"
   },
   "outputs": [],
   "source": [
    "from sklearn.datasets import fetch_california_housing\n",
    "\n",
    "data = fetch_california_housing()\n",
    "df = pd.DataFrame(data[\"data\"], columns=data['feature_names'])\n",
    "df[\"MedHouseVal\"] = data[\"target\"]\n",
    "\n",
    "pd.reset_option(\"display.float_format\")\n",
    "df"
   ]
  },
  {
   "cell_type": "code",
   "execution_count": null,
   "id": "0DhE4FswBraV",
   "metadata": {
    "colab": {
     "base_uri": "https://localhost:8080/",
     "height": 340
    },
    "id": "0DhE4FswBraV",
    "outputId": "993d0f8a-37be-4684-c7bc-4d79f779a354"
   },
   "outputs": [],
   "source": [
    "import seaborn as sns\n",
    "import warnings\n",
    "warnings.filterwarnings(\"ignore\", category=FutureWarning)\n",
    "\n",
    "plt.figure(figsize=(7,5))\n",
    "plt.rc(\"font\", size=13)\n",
    "sns.scatterplot(data=df, x=\"Longitude\", y=\"Latitude\",\n",
    "                size=\"MedHouseVal\", hue=\"MedHouseVal\",\n",
    "                palette=\"viridis\", alpha=0.5)\n",
    "plt.legend(title=\"MedHouseVal\", bbox_to_anchor=(1.04, 0.99), loc=\"upper left\");"
   ]
  },
  {
   "cell_type": "markdown",
   "id": "fSc31AxQpnko",
   "metadata": {
    "id": "fSc31AxQpnko"
   },
   "source": [
    "### **MNIST digits (classification)**"
   ]
  },
  {
   "cell_type": "code",
   "execution_count": null,
   "id": "2e373f1b",
   "metadata": {
    "colab": {
     "base_uri": "https://localhost:8080/",
     "height": 286
    },
    "id": "2e373f1b",
    "outputId": "b210e82e-e25e-438c-d805-92691056b6be"
   },
   "outputs": [],
   "source": [
    "from keras.datasets import mnist\n",
    "\n",
    "(x_train, y_train),(x_test, y_test) = mnist.load_data()\n",
    "\n",
    "fig, axs = plt.subplots(2, 5, figsize=(15,5))\n",
    "x = 0\n",
    "for i in range(2):\n",
    "    for j in range(5):\n",
    "        axs[i,j].imshow(x_train[x], cmap=\"gray\")\n",
    "        axs[i,j].axis(\"off\")\n",
    "        x += 1\n",
    "\n",
    "x_train.shape"
   ]
  },
  {
   "cell_type": "markdown",
   "id": "7cceb226-1456-409f-9480-380e9a2cd084",
   "metadata": {},
   "source": [
    "### **MNIST Fashion (classification)**"
   ]
  },
  {
   "cell_type": "code",
   "execution_count": null,
   "id": "JRTq8nJdM9_K",
   "metadata": {
    "colab": {
     "base_uri": "https://localhost:8080/",
     "height": 864
    },
    "id": "JRTq8nJdM9_K",
    "outputId": "79471df3-96d0-46f4-fb36-2a2318a81493"
   },
   "outputs": [],
   "source": [
    "from keras.datasets import fashion_mnist\n",
    "\n",
    "(x_train, y_train), (x_test, y_test) = fashion_mnist.load_data()\n",
    "\n",
    "clothing_dict = {\n",
    "    0: 'T-shirt/top',\n",
    "    1: 'Trouser', \n",
    "    2: 'Pullover',\n",
    "    3: 'Dress',\n",
    "    4: 'Coat',\n",
    "    5: 'Sandal',\n",
    "    6: 'Shirt',\n",
    "    7: 'Sneaker', \n",
    "    8: 'Bag',\n",
    "    9: 'Ankle boot'\n",
    "}\n",
    "\n",
    "fig, axs = plt.subplots(5, 5, figsize=(15,15))\n",
    "x = 0\n",
    "for i in range(5):\n",
    "    for j in range(5):\n",
    "        axs[i,j].set_title(clothing_dict[y_train[x]])\n",
    "        axs[i,j].imshow(x_train[x])\n",
    "        axs[i,j].axis(\"off\")\n",
    "        x += 1\n",
    "\n",
    "x_train.shape"
   ]
  },
  {
   "cell_type": "markdown",
   "id": "X2ZF9hKZ8pyr",
   "metadata": {
    "id": "X2ZF9hKZ8pyr"
   },
   "source": [
    "## **Astronomical datasets**\n",
    "\n",
    "- [AstroML](https://www.astroml.org/user_guide/datasets.html)\\\n",
    "      - SDSS photometry\\\n",
    "      - time-series data (light curves)\\\n",
    "      - spectroscopy\n",
    "\n",
    "- galaxy classification\\\n",
    "      - [AstroNN](https://astronn.readthedocs.io/en/latest/#)\\\n",
    "      - [Galaxy Zoo](https://www.kaggle.com/competitions/galaxy-zoo-the-galaxy-challenge/data)\n",
    "\n",
    "- artificial dataset (more advanced)\\\n",
    "      - simulate X-ray spectra ([Xspec](https://heasarc.gsfc.nasa.gov/xanadu/xspec/manual/node72.html))\\\n",
    "      - simulate gamma-ray burst ([cosmogrb](https://github.com/grburgess/cosmogrb))\\\n",
    "      - simulate X-ray images ([pyxsim](https://hea-www.cfa.harvard.edu/~jzuhone/pyxsim/), [SIXTE](https://www.sternwarte.uni-erlangen.de/sixte/))"
   ]
  },
  {
   "cell_type": "code",
   "execution_count": null,
   "id": "9a44c926-2da3-4bf9-a38b-6a0b9e77087c",
   "metadata": {},
   "outputs": [],
   "source": [
    "#!pip install astroML"
   ]
  },
  {
   "cell_type": "code",
   "execution_count": null,
   "id": "050285e9-810c-48b9-96ff-64883731bc3a",
   "metadata": {},
   "outputs": [],
   "source": [
    "#!pip install astroNN"
   ]
  },
  {
   "cell_type": "markdown",
   "id": "1f760bca-7a0f-4383-98b2-d8d459017801",
   "metadata": {},
   "source": [
    "### **SDSS photometry (clustering)**"
   ]
  },
  {
   "cell_type": "code",
   "execution_count": null,
   "id": "c83a19c5-5064-41e4-b949-b18ecb161158",
   "metadata": {},
   "outputs": [],
   "source": [
    "from astroML.plotting import MultiAxes\n",
    "from astroML.datasets import fetch_dr7_quasar\n",
    "\n",
    "data = fetch_dr7_quasar()\n",
    "\n",
    "pd.DataFrame(data)"
   ]
  },
  {
   "cell_type": "code",
   "execution_count": null,
   "id": "999fb3d6-9fac-4f9c-92c6-33364f0e4e72",
   "metadata": {},
   "outputs": [],
   "source": [
    "colors = np.empty((len(data), 5))\n",
    "\n",
    "colors[:, 0] = data['mag_u'] - data['mag_g']\n",
    "colors[:, 1] = data['mag_g'] - data['mag_r']\n",
    "colors[:, 2] = data['mag_r'] - data['mag_i']\n",
    "colors[:, 3] = data['mag_i'] - data['mag_z']\n",
    "colors[:, 4] = data['mag_z'] - data['mag_J']\n",
    "\n",
    "labels = ['u-g', 'g-r', 'r-i', 'i-z', 'z-J']\n",
    "\n",
    "bins = [np.linspace(-0.4, 1.0, 100),\n",
    "        np.linspace(-0.4, 1.0, 100),\n",
    "        np.linspace(-0.3, 0.6, 100),\n",
    "        np.linspace(-0.4, 0.7, 100),\n",
    "        np.linspace(0, 2.2, 100)]\n",
    "\n",
    "ax = MultiAxes(5, wspace=0.05, hspace=0.05,\n",
    "               fig=plt.figure(figsize=(10, 10)))\n",
    "ax.density(colors, bins)\n",
    "ax.set_labels(labels)\n",
    "ax.set_locators(plt.MaxNLocator(5))\n",
    "plt.suptitle('SDSS DR7 Quasar Colors', fontsize=18);"
   ]
  },
  {
   "cell_type": "markdown",
   "id": "-95uwgojIp-G",
   "metadata": {
    "id": "-95uwgojIp-G"
   },
   "source": [
    "### **RR Lyrae (classification)**"
   ]
  },
  {
   "cell_type": "code",
   "execution_count": null,
   "id": "NKyNXkEEIHTI",
   "metadata": {
    "colab": {
     "base_uri": "https://localhost:8080/",
     "height": 323
    },
    "id": "NKyNXkEEIHTI",
    "outputId": "2e08ff33-6cc9-4e63-ea2a-d89a92abdd35"
   },
   "outputs": [],
   "source": [
    "from astroML.datasets import fetch_rrlyrae_templates\n",
    "\n",
    "templates = fetch_rrlyrae_templates()\n",
    "x, y = templates['115r'].T\n",
    "\n",
    "# Plot the results\n",
    "fig, ax = plt.subplots(figsize=(7, 5))\n",
    "\n",
    "# plot the true value and the k-term reconstruction\n",
    "ax.plot(np.concatenate([x, 1 + x]),\n",
    "        np.concatenate([y, y]), '--k', lw=2)\n",
    "\n",
    "ax.set_xlim(0, 2)\n",
    "ax.set_ylim(1.1, -0.1);"
   ]
  },
  {
   "cell_type": "markdown",
   "id": "uZuy7FKwIsSA",
   "metadata": {
    "id": "uZuy7FKwIsSA"
   },
   "source": [
    "### **SDSS spectra (classification, clustering)**"
   ]
  },
  {
   "cell_type": "code",
   "execution_count": null,
   "id": "e2EzzFTRI9Ye",
   "metadata": {
    "colab": {
     "base_uri": "https://localhost:8080/",
     "height": 307
    },
    "id": "e2EzzFTRI9Ye",
    "outputId": "a78f5f9f-746a-4cc7-892d-dab3c611a0dc"
   },
   "outputs": [],
   "source": [
    "from astroML.datasets import fetch_sdss_spectrum\n",
    "\n",
    "# Fetch single spectrum\n",
    "plate = 1615\n",
    "mjd = 53166\n",
    "fiber = 513\n",
    "\n",
    "spec = fetch_sdss_spectrum(plate, mjd, fiber)\n",
    "\n",
    "# Plot the resulting spectrum\n",
    "ax = plt.axes()\n",
    "ax.plot(spec.wavelength(), spec.spectrum, '-k', label='spectrum')\n",
    "ax.plot(spec.wavelength(), spec.error, '-', color='gray', label='error')\n",
    "\n",
    "ax.legend(loc=4)\n",
    "\n",
    "ax.set_title('Plate = %(plate)i, MJD = %(mjd)i, Fiber = %(fiber)i' % locals())\n",
    "\n",
    "ax.text(0.05, 0.95, 'z = %.2f' % spec.z, size=16,\n",
    "        ha='left', va='top', transform=ax.transAxes)\n",
    "\n",
    "ax.set_xlabel(r'$\\lambda (\\AA)$')\n",
    "ax.set_ylabel('Flux')\n",
    "ax.set_ylim(-10, 300);"
   ]
  },
  {
   "cell_type": "markdown",
   "id": "iDTIvl1mAg_Q",
   "metadata": {
    "id": "iDTIvl1mAg_Q"
   },
   "source": [
    "### **Galaxy10 (classification)**"
   ]
  },
  {
   "cell_type": "code",
   "execution_count": null,
   "id": "dw66xMGi8pGf",
   "metadata": {
    "colab": {
     "base_uri": "https://localhost:8080/"
    },
    "id": "dw66xMGi8pGf",
    "outputId": "d6bfdacd-be72-4a11-f588-9e7bf688352f"
   },
   "outputs": [],
   "source": [
    "from astroNN.datasets import load_galaxy10sdss\n",
    "# from astroNN.datasets import load_galaxy10  # size = 2.7GB\n",
    "\n",
    "(X, y) = load_galaxy10sdss()"
   ]
  },
  {
   "cell_type": "code",
   "execution_count": null,
   "id": "2vhSpYhQ8pWA",
   "metadata": {
    "colab": {
     "base_uri": "https://localhost:8080/",
     "height": 864
    },
    "id": "2vhSpYhQ8pWA",
    "outputId": "b42eb850-15d5-4af3-9e4d-8b9dac04619a"
   },
   "outputs": [],
   "source": [
    "names = {\n",
    "    0 : 'Disk, Face-on, No Spiral',\n",
    "    1 : 'Smooth, Completely round', \n",
    "    2 : 'Smooth, in-between round',\n",
    "    3 : 'Smooth, Cigar shaped',\n",
    "    4 : 'Disk, Edge-on, Rounded Bulge',\n",
    "    5 : 'Disk, Edge-on, Boxy Bulge',\n",
    "    6 : 'Disk, Edge-on, No Bulge',\n",
    "    7 : 'Disk, Face-on, Tight Spiral',\n",
    "    8 : 'Disk, Face-on, Medium Spiral',\n",
    "    9 : 'Disk, Face-on, Loose Spiral'\n",
    "}\n",
    "\n",
    "fig, axs = plt.subplots(5,5, figsize=(15,15))\n",
    "n = 0\n",
    "for i in range(5):\n",
    "    for j in range(5):\n",
    "        axs[i,j].set_title(names[y[n]], size=11)\n",
    "        axs[i,j].imshow(X[n])\n",
    "        axs[i,j].axis(\"off\")\n",
    "        n += 1"
   ]
  },
  {
   "cell_type": "markdown",
   "id": "df5dd491-e176-4588-a64a-b4cb047deff6",
   "metadata": {},
   "source": [
    "$\\,$"
   ]
  },
  {
   "cell_type": "markdown",
   "id": "38d2b1af",
   "metadata": {
    "id": "38d2b1af"
   },
   "source": [
    "# ***Today: Star vs QSO***\n",
    "\n",
    "<img src=\"https://cdn.mos.cms.futurecdn.net/HgaCHZDNppE6e52yeDACo6-970-80.jpg.webp\" align=left width=400> \n",
    "<img src=\"https://earthsky.org/upl/2021/01/supermassive-black-hole-artist-e1610556964639.jpg\" align=right width=400>\n",
    "\n",
    "<br>\n",
    "<br>\n",
    "<br>\n",
    "<br>\n",
    "<br>\n",
    "<br>\n",
    "<br>\n",
    "<br>\n",
    "<br>\n",
    "<br>\n",
    "<br>\n"
   ]
  },
  {
   "cell_type": "markdown",
   "id": "bd777e97",
   "metadata": {
    "id": "bd777e97"
   },
   "source": [
    "## **Sloan Digital Sky Survey (SDSS)**\n",
    "\n",
    "- photometry & spectroscopy\n",
    "\n",
    "- fotometry 1 billion objects\n",
    "\n",
    "- spectroscopy 6 million objects\n",
    "\n",
    "- **stars** from our Galaxy  &  **quasars** up to $z \\approx 6$\n",
    "\n",
    "- color system `u g r i z`\n",
    "\n",
    "<img src=\"https://www.astroml.org/_images/fig_sdss_filters_1.png\" align=left width=500>"
   ]
  },
  {
   "cell_type": "code",
   "execution_count": null,
   "id": "747fb9d8",
   "metadata": {
    "colab": {
     "base_uri": "https://localhost:8080/"
    },
    "id": "747fb9d8",
    "outputId": "ad17d96d-7fea-437d-e645-7f34a4233f07"
   },
   "outputs": [],
   "source": [
    "!wget -c \"https://drive.google.com/uc?id=1IoQfGFo13ZP2wTyp-xvzQvguPYhE8TWB\" -O \"sdss_photo.csv\""
   ]
  },
  {
   "cell_type": "markdown",
   "id": "1c4212ff",
   "metadata": {
    "id": "1c4212ff"
   },
   "source": [
    "### **task 1:** load the data from `sdss_photo.csv` and examine them (mean, std, how many stars/QSOs)"
   ]
  },
  {
   "cell_type": "code",
   "execution_count": null,
   "id": "5e3157e4",
   "metadata": {
    "id": "5e3157e4"
   },
   "outputs": [],
   "source": []
  },
  {
   "cell_type": "code",
   "execution_count": null,
   "id": "1f898da1",
   "metadata": {
    "colab": {
     "base_uri": "https://localhost:8080/",
     "height": 424
    },
    "id": "1f898da1",
    "outputId": "4d0b41fe-11ed-4317-98c8-876e389efef0"
   },
   "outputs": [],
   "source": []
  },
  {
   "cell_type": "code",
   "execution_count": null,
   "id": "Zz__i-5GHpVz",
   "metadata": {
    "colab": {
     "base_uri": "https://localhost:8080/",
     "height": 300
    },
    "id": "Zz__i-5GHpVz",
    "outputId": "4bf5022a-7f4c-47f6-95e5-2b3d7b3a4f88"
   },
   "outputs": [],
   "source": []
  },
  {
   "cell_type": "code",
   "execution_count": null,
   "id": "UJj0i00VKsxM",
   "metadata": {
    "colab": {
     "base_uri": "https://localhost:8080/"
    },
    "id": "UJj0i00VKsxM",
    "outputId": "13ea67e3-38e9-4e75-e970-c288cf9ea12e"
   },
   "outputs": [],
   "source": []
  },
  {
   "cell_type": "code",
   "execution_count": null,
   "id": "c57cebc1-c999-4cbd-b093-1fb53e9ac575",
   "metadata": {},
   "outputs": [],
   "source": []
  },
  {
   "cell_type": "code",
   "execution_count": null,
   "id": "429e9b67-e753-4c03-8e93-d7aedc72103a",
   "metadata": {},
   "outputs": [],
   "source": []
  },
  {
   "cell_type": "markdown",
   "id": "f3143977",
   "metadata": {
    "id": "f3143977"
   },
   "source": [
    "### **task 2:** divide the data into two groups (stars & QSOs) and compare them graphically"
   ]
  },
  {
   "cell_type": "code",
   "execution_count": null,
   "id": "8d000908",
   "metadata": {
    "id": "8d000908"
   },
   "outputs": [],
   "source": []
  },
  {
   "cell_type": "code",
   "execution_count": null,
   "id": "71d754d7",
   "metadata": {
    "colab": {
     "base_uri": "https://localhost:8080/",
     "height": 285
    },
    "id": "71d754d7",
    "outputId": "574ea95d-ada9-4e76-f408-d5ab2e1de8ba"
   },
   "outputs": [],
   "source": []
  },
  {
   "cell_type": "code",
   "execution_count": null,
   "id": "ca794f2c",
   "metadata": {
    "colab": {
     "base_uri": "https://localhost:8080/",
     "height": 715
    },
    "id": "ca794f2c",
    "outputId": "3b9a98ba-45e5-4188-ee39-f12e390ef88b"
   },
   "outputs": [],
   "source": []
  },
  {
   "cell_type": "code",
   "execution_count": null,
   "id": "1e0b74cc-b2f4-4c72-84ff-e5904587b441",
   "metadata": {},
   "outputs": [],
   "source": []
  },
  {
   "cell_type": "code",
   "execution_count": null,
   "id": "adbb713b-f9a1-4e6d-ac2a-41be27a48555",
   "metadata": {},
   "outputs": [],
   "source": []
  },
  {
   "cell_type": "markdown",
   "id": "38d36ea1",
   "metadata": {
    "id": "38d36ea1"
   },
   "source": [
    "### **task 3:** compute color indices from neighbouring filters and plot them"
   ]
  },
  {
   "cell_type": "code",
   "execution_count": null,
   "id": "c822ac7e",
   "metadata": {
    "id": "c822ac7e"
   },
   "outputs": [],
   "source": []
  },
  {
   "cell_type": "code",
   "execution_count": null,
   "id": "6e6c55f7",
   "metadata": {
    "colab": {
     "base_uri": "https://localhost:8080/",
     "height": 424
    },
    "id": "6e6c55f7",
    "outputId": "c8777c0f-713a-4d48-908f-d9cd730f73b8"
   },
   "outputs": [],
   "source": []
  },
  {
   "cell_type": "code",
   "execution_count": null,
   "id": "b2d17cd0",
   "metadata": {
    "colab": {
     "base_uri": "https://localhost:8080/",
     "height": 234
    },
    "id": "b2d17cd0",
    "outputId": "ba3cba19-e966-4c38-d577-89a462552f9c"
   },
   "outputs": [],
   "source": []
  },
  {
   "cell_type": "code",
   "execution_count": null,
   "id": "2714195e-f322-4eab-bb20-b62ab95e7a06",
   "metadata": {},
   "outputs": [],
   "source": []
  },
  {
   "cell_type": "code",
   "execution_count": null,
   "id": "3ba70bd9-bfab-47af-b7fc-9d64e1ce35f7",
   "metadata": {},
   "outputs": [],
   "source": []
  },
  {
   "cell_type": "markdown",
   "id": "be6351a2",
   "metadata": {
    "id": "be6351a2"
   },
   "source": [
    "### **task 4:** pick an index / combination of indices & filters and write single condition that best divides the two groups\n",
    "\n",
    "example:\n",
    "\n",
    "`u-g < 1.0` &rarr; QSO\n",
    "\n",
    "and make a new column `data[\"guess\"]`"
   ]
  },
  {
   "cell_type": "code",
   "execution_count": null,
   "id": "5e7e4911",
   "metadata": {
    "colab": {
     "base_uri": "https://localhost:8080/",
     "height": 306
    },
    "id": "5e7e4911",
    "outputId": "bcce361a-ac54-48f6-88ed-728d210d6200"
   },
   "outputs": [],
   "source": []
  },
  {
   "cell_type": "code",
   "execution_count": null,
   "id": "f6b67e74",
   "metadata": {
    "id": "f6b67e74"
   },
   "outputs": [],
   "source": []
  },
  {
   "cell_type": "code",
   "execution_count": null,
   "id": "3886be5b-982d-4a5a-baa0-bfa60fe1dbe8",
   "metadata": {},
   "outputs": [],
   "source": []
  },
  {
   "cell_type": "code",
   "execution_count": null,
   "id": "c9aea484-5cc8-4847-b551-86d95d21829b",
   "metadata": {},
   "outputs": [],
   "source": []
  },
  {
   "cell_type": "code",
   "execution_count": null,
   "id": "293811c8-8aad-4ee1-a36d-309975ff1f50",
   "metadata": {},
   "outputs": [],
   "source": []
  },
  {
   "cell_type": "markdown",
   "id": "700404f7",
   "metadata": {
    "id": "700404f7"
   },
   "source": [
    "### **task 5:** estimate how many datapoints were guessed correctly\n",
    "\n",
    "hint: compare column `data[\"guess\"]` with column `data[\"target\"]`\\\n",
    "hint2: if you do `sum([True, True, False])` you get number of `True` occurences in the list"
   ]
  },
  {
   "cell_type": "code",
   "execution_count": null,
   "id": "454d5903",
   "metadata": {
    "colab": {
     "base_uri": "https://localhost:8080/"
    },
    "id": "454d5903",
    "outputId": "bbb88c3e-5a10-4b7b-f4f1-14894fe9fd5e"
   },
   "outputs": [],
   "source": []
  },
  {
   "cell_type": "code",
   "execution_count": null,
   "id": "cc876bbf",
   "metadata": {
    "colab": {
     "base_uri": "https://localhost:8080/"
    },
    "id": "cc876bbf",
    "outputId": "48ccf6aa-4efe-42d8-bae4-05973d20d512"
   },
   "outputs": [],
   "source": []
  },
  {
   "cell_type": "code",
   "execution_count": null,
   "id": "1fcac074",
   "metadata": {
    "colab": {
     "base_uri": "https://localhost:8080/"
    },
    "id": "1fcac074",
    "outputId": "160e1a0c-f557-46d1-c348-e5f5c95eb3d1"
   },
   "outputs": [],
   "source": []
  },
  {
   "cell_type": "code",
   "execution_count": null,
   "id": "c50443f9",
   "metadata": {
    "colab": {
     "base_uri": "https://localhost:8080/"
    },
    "id": "c50443f9",
    "outputId": "2eedde1a-7342-4db8-c50e-e9438c729a0c"
   },
   "outputs": [],
   "source": []
  },
  {
   "cell_type": "code",
   "execution_count": null,
   "id": "c470713e",
   "metadata": {
    "colab": {
     "base_uri": "https://localhost:8080/"
    },
    "id": "c470713e",
    "outputId": "03598024-9046-4bf8-901a-22a013126706"
   },
   "outputs": [],
   "source": []
  },
  {
   "cell_type": "code",
   "execution_count": null,
   "id": "b84be300-7fb5-4b5c-b216-c31b2709bfb6",
   "metadata": {},
   "outputs": [],
   "source": []
  },
  {
   "cell_type": "code",
   "execution_count": null,
   "id": "9f59d703-0f63-4885-b948-c1c717a29223",
   "metadata": {},
   "outputs": [],
   "source": []
  },
  {
   "cell_type": "markdown",
   "id": "83a6e344-82a4-4611-aadd-85a8095aca6f",
   "metadata": {},
   "source": [
    "### **Scikit-learn naming convention**\n",
    "\n",
    "```python\n",
    "X = [[5.1, 3.5, 1.4, 0.2],\n",
    "     [4.9, 3.1, 0.4, 0.3],\n",
    "     [4.7, 3.2, 1.3, 0.2],\n",
    "     [5.0, 3.6, 1.1, 0.2],\n",
    "     [5.1, 3.5, 1.4, 0.2]]\n",
    "\n",
    "y = [\"versicolor\", \"setosa\", \"virginica\", \"setosa\", \"versicolor\"]\n",
    "\n",
    "\n",
    "from sklearn.tree import DecisionTreeClassifier\n",
    "\n",
    "dt = DecisionTreeClassifier(max_depth=5)\n",
    "\n",
    "dt.fit(X, y)\n",
    "\n",
    "y_pred = dt.predict(X_test)\n",
    "\n",
    "dt.score(X_test, y_test)\n",
    "```"
   ]
  },
  {
   "cell_type": "markdown",
   "id": "61e5a0b2",
   "metadata": {
    "id": "61e5a0b2"
   },
   "source": [
    "### **task 6:** create `X` a `y` variables\n",
    "\n",
    "hint:\n",
    "\n",
    "use original dataframe `data`\n",
    "\n",
    "u, u-g  &rarr;  `X`\n",
    "\n",
    "`y`:  $\\,$QSO &rarr; 0\\\n",
    "&nbsp; &nbsp; &nbsp; &nbsp; star &rarr; 1"
   ]
  },
  {
   "cell_type": "code",
   "execution_count": null,
   "id": "d82a8977",
   "metadata": {
    "colab": {
     "base_uri": "https://localhost:8080/",
     "height": 424
    },
    "id": "d82a8977",
    "outputId": "4868a82d-2365-4fdf-f30f-fc6df161149a"
   },
   "outputs": [],
   "source": []
  },
  {
   "cell_type": "code",
   "execution_count": null,
   "id": "cd821fa2",
   "metadata": {
    "id": "cd821fa2"
   },
   "outputs": [],
   "source": []
  },
  {
   "cell_type": "code",
   "execution_count": null,
   "id": "5a054ca3",
   "metadata": {
    "colab": {
     "base_uri": "https://localhost:8080/"
    },
    "id": "5a054ca3",
    "outputId": "556c3900-5c29-4c3b-deeb-a0094a93100c",
    "scrolled": true
   },
   "outputs": [],
   "source": []
  },
  {
   "cell_type": "code",
   "execution_count": null,
   "id": "310c3ea8-2714-47a5-a6b1-ef9a1f165846",
   "metadata": {},
   "outputs": [],
   "source": []
  },
  {
   "cell_type": "code",
   "execution_count": null,
   "id": "146eec23-5884-489f-9a02-c8c8a7ca1cf8",
   "metadata": {},
   "outputs": [],
   "source": []
  },
  {
   "cell_type": "markdown",
   "id": "c1de2304",
   "metadata": {
    "id": "c1de2304"
   },
   "source": [
    "### **task 7:** for scikit-learn import `DecisionTreeClassifier` and use its `fit()` method\n",
    "\n",
    "<img src=\"https://www.researchgate.net/profile/Amir-Akbari-19/publication/348456545/figure/fig1/AS:981743439994883@1611077284634/Schematic-of-a-Decision-Tree-The-figure-shows-an-example-of-a-decision-tree-with-3.png\" width=400>"
   ]
  },
  {
   "cell_type": "code",
   "execution_count": null,
   "id": "a9d4dcb8",
   "metadata": {
    "id": "a9d4dcb8"
   },
   "outputs": [],
   "source": []
  },
  {
   "cell_type": "code",
   "execution_count": null,
   "id": "d351257a",
   "metadata": {
    "colab": {
     "base_uri": "https://localhost:8080/"
    },
    "id": "d351257a",
    "outputId": "7929e1e1-9c64-419b-dd4d-5bcbac808a32"
   },
   "outputs": [],
   "source": []
  },
  {
   "cell_type": "code",
   "execution_count": null,
   "id": "692dc6ca-2667-4df9-bed2-2b687da26678",
   "metadata": {},
   "outputs": [],
   "source": []
  },
  {
   "cell_type": "markdown",
   "id": "J-19rpMU_ZM9",
   "metadata": {
    "id": "J-19rpMU_ZM9"
   },
   "source": [
    "### **task 8:** use method predict on the `X` variable and compare the output to `y`"
   ]
  },
  {
   "cell_type": "code",
   "execution_count": null,
   "id": "a6ddccf8",
   "metadata": {
    "id": "a6ddccf8"
   },
   "outputs": [],
   "source": []
  },
  {
   "cell_type": "code",
   "execution_count": null,
   "id": "f9ecc0a9",
   "metadata": {
    "colab": {
     "base_uri": "https://localhost:8080/"
    },
    "id": "f9ecc0a9",
    "outputId": "995ea1ab-1596-48e3-995a-d2a361d4e100"
   },
   "outputs": [],
   "source": []
  },
  {
   "cell_type": "code",
   "execution_count": null,
   "id": "a674a10c-168c-41cd-95ca-c727ecb62587",
   "metadata": {},
   "outputs": [],
   "source": []
  },
  {
   "cell_type": "markdown",
   "id": "db68e828-e23c-4582-ba85-039b580a0145",
   "metadata": {},
   "source": [
    "### **Confusion matrix**"
   ]
  },
  {
   "cell_type": "code",
   "execution_count": null,
   "id": "8d51e638",
   "metadata": {
    "id": "8d51e638"
   },
   "outputs": [],
   "source": [
    "from sklearn.metrics import ConfusionMatrixDisplay"
   ]
  },
  {
   "cell_type": "code",
   "execution_count": null,
   "id": "749fd7fb-ea5d-45a6-aebc-02b0d782983e",
   "metadata": {},
   "outputs": [],
   "source": [
    "ConfusionMatrixDisplay.from_estimator(dt, X, y, display_labels=[\"QSO\", \"star\"]);"
   ]
  },
  {
   "cell_type": "code",
   "execution_count": null,
   "id": "f2a1f858",
   "metadata": {
    "colab": {
     "base_uri": "https://localhost:8080/",
     "height": 285
    },
    "id": "f2a1f858",
    "outputId": "760bfb1f-1405-4b2c-9913-8a25fff82ccd"
   },
   "outputs": [],
   "source": [
    "ConfusionMatrixDisplay.from_estimator(dt, X, y, display_labels=[\"QSO\", \"star\"], normalize='true');"
   ]
  },
  {
   "cell_type": "markdown",
   "id": "5ff80c84",
   "metadata": {
    "id": "5ff80c84"
   },
   "source": [
    "### **Decision tree visualization**"
   ]
  },
  {
   "cell_type": "code",
   "execution_count": null,
   "id": "bac9ffe1",
   "metadata": {
    "id": "bac9ffe1"
   },
   "outputs": [],
   "source": [
    "from sklearn.tree import plot_tree"
   ]
  },
  {
   "cell_type": "code",
   "execution_count": null,
   "id": "ef19e509",
   "metadata": {
    "colab": {
     "base_uri": "https://localhost:8080/",
     "height": 520
    },
    "id": "ef19e509",
    "outputId": "a4c52162-565d-44fa-ffdf-72f978e6b74c"
   },
   "outputs": [],
   "source": [
    "fig, ax = plt.subplots(figsize=(20,9))\n",
    "plot_tree(dt, \n",
    "          feature_names=X.columns,\n",
    "          class_names=[\"QSO\", \"star\"],\n",
    "          filled=True, \n",
    "          ax=ax);"
   ]
  },
  {
   "cell_type": "code",
   "execution_count": null,
   "id": "4d9f8c3d",
   "metadata": {
    "colab": {
     "base_uri": "https://localhost:8080/"
    },
    "id": "4d9f8c3d",
    "outputId": "be4b5b4c-2395-4bbf-e271-288834f1a81e",
    "scrolled": true
   },
   "outputs": [],
   "source": [
    "# !pip install dtreeviz\n",
    "# from dtreeviz import dtreeviz"
   ]
  },
  {
   "cell_type": "code",
   "execution_count": null,
   "id": "dab551d3",
   "metadata": {
    "colab": {
     "base_uri": "https://localhost:8080/",
     "height": 961
    },
    "id": "dab551d3",
    "outputId": "6c04ab9c-ffc5-46b9-da7b-4d5ee7824f24"
   },
   "outputs": [],
   "source": [
    "# viz = dtreeviz(dt2, X, y,\n",
    "#                feature_names=X.columns,\n",
    "#                class_names=[\"QSO\", \"star\"])\n",
    "\n",
    "# viz"
   ]
  },
  {
   "cell_type": "markdown",
   "id": "3e686fc2",
   "metadata": {
    "id": "3e686fc2"
   },
   "source": [
    "### **Decision surface**"
   ]
  },
  {
   "cell_type": "code",
   "execution_count": null,
   "id": "d6b62585-2ade-4274-a670-f1c9a1a05a1c",
   "metadata": {},
   "outputs": [],
   "source": [
    "def plot_decision_surface(classifier, data, col1, col2):\n",
    "    # Number of points in the grid\n",
    "    size = 100\n",
    "\n",
    "    # Create U & U-G meshgrid\n",
    "    range_X = np.linspace(min(data[col1]), max(data[col1]), size)\n",
    "    range_Y = np.linspace(min(data[col2]), max(data[col2]), size)\n",
    "    X, Y = np.meshgrid(range_X, range_Y)\n",
    "    grid = np.vstack((X.flatten(), Y.flatten())).T\n",
    "    grid = pd.DataFrame(data=grid, columns=[col1,col2])\n",
    "\n",
    "    # Predict classes for the whole grid of values\n",
    "    predicted = classifier.predict(grid)\n",
    "\n",
    "    # Reshape back to 100x100 and plot countours\n",
    "    predicted = predicted.reshape(size,size)\n",
    "    plt.contourf(X, Y, predicted)\n",
    "    \n",
    "    # Overplot with datapoints\n",
    "    plt.plot(data.loc[qso, col1], data.loc[qso, col2], \"o\")\n",
    "    plt.plot(data.loc[star, col1], data.loc[star, col2], \"o\");    \n",
    "    plt.xlabel(f\"{col1} [mag]\")\n",
    "    plt.ylabel(f\"{col2} [mag]\");"
   ]
  },
  {
   "cell_type": "code",
   "execution_count": null,
   "id": "bf9d092e-045a-4a66-9588-72b7ed90fb5e",
   "metadata": {},
   "outputs": [],
   "source": [
    "plot_decision_surface(dt, data, col1=\"u\", col2=\"u-g\")"
   ]
  },
  {
   "cell_type": "markdown",
   "id": "29e50134",
   "metadata": {
    "id": "29e50134"
   },
   "source": [
    "### **Is that a good model?**\n",
    "\n",
    "<h1 style=\"padding-left:250px\">Overfitting vs Underfitting</h1>\n",
    "\n",
    "<img src=\"https://upload.wikimedia.org/wikipedia/commons/thumb/1/19/Overfitting.svg/1024px-Overfitting.svg.png\" style=\"padding-left:80px\" width=600>"
   ]
  },
  {
   "cell_type": "markdown",
   "id": "9f712fd2",
   "metadata": {
    "id": "9f712fd2"
   },
   "source": [
    "### **task 9:** split the data in the 9:1 ratio, train on 90% and test on 10% of data\n",
    "\n",
    "hint: use can use `train_test_split`"
   ]
  },
  {
   "cell_type": "code",
   "execution_count": null,
   "id": "219c2163-e0b1-4eb5-892f-b3b4722e3979",
   "metadata": {
    "id": "09ca9c21"
   },
   "outputs": [],
   "source": []
  },
  {
   "cell_type": "code",
   "execution_count": null,
   "id": "bfc7fc4a",
   "metadata": {
    "id": "bfc7fc4a"
   },
   "outputs": [],
   "source": []
  },
  {
   "cell_type": "code",
   "execution_count": null,
   "id": "fcbc99bc",
   "metadata": {
    "colab": {
     "base_uri": "https://localhost:8080/"
    },
    "id": "fcbc99bc",
    "outputId": "ef42c9ac-3ab5-4994-ef66-04b7b85089c9"
   },
   "outputs": [],
   "source": []
  },
  {
   "cell_type": "code",
   "execution_count": null,
   "id": "12f4ec3c",
   "metadata": {
    "colab": {
     "base_uri": "https://localhost:8080/"
    },
    "id": "12f4ec3c",
    "outputId": "eef0f6af-912d-42bf-9830-1f9c62908a77"
   },
   "outputs": [],
   "source": []
  },
  {
   "cell_type": "code",
   "execution_count": null,
   "id": "5acf9f71",
   "metadata": {
    "colab": {
     "base_uri": "https://localhost:8080/"
    },
    "id": "5acf9f71",
    "outputId": "04fa9a33-467c-491a-92e6-25da70279977"
   },
   "outputs": [],
   "source": []
  },
  {
   "cell_type": "code",
   "execution_count": null,
   "id": "56574e4a-282d-4a2e-94ca-8d97138372fb",
   "metadata": {},
   "outputs": [],
   "source": []
  },
  {
   "cell_type": "code",
   "execution_count": null,
   "id": "7193a200-7726-46df-b4c6-59519e20e616",
   "metadata": {},
   "outputs": [],
   "source": []
  },
  {
   "cell_type": "markdown",
   "id": "2d0f9b79",
   "metadata": {
    "id": "2d0f9b79"
   },
   "source": [
    "### **task 10:** import `RandomForestClassifier` and repeat tasks 8 & 9\n",
    "\n",
    "![](https://miro.medium.com/max/1200/1*hmtbIgxoflflJqMJ_UHwXw.jpeg)"
   ]
  },
  {
   "cell_type": "code",
   "execution_count": null,
   "id": "3eecc431",
   "metadata": {
    "id": "3eecc431"
   },
   "outputs": [],
   "source": []
  },
  {
   "cell_type": "code",
   "execution_count": null,
   "id": "70b3cdca",
   "metadata": {
    "colab": {
     "base_uri": "https://localhost:8080/"
    },
    "id": "70b3cdca",
    "outputId": "c2d8e32b-07a2-4981-8f8c-5ee341da886b"
   },
   "outputs": [],
   "source": []
  },
  {
   "cell_type": "code",
   "execution_count": null,
   "id": "5804e233",
   "metadata": {
    "colab": {
     "base_uri": "https://localhost:8080/"
    },
    "id": "5804e233",
    "outputId": "aa8c8b23-6046-4128-fc86-951e79986114"
   },
   "outputs": [],
   "source": []
  },
  {
   "cell_type": "code",
   "execution_count": null,
   "id": "c78NxuLXFHcY",
   "metadata": {
    "colab": {
     "base_uri": "https://localhost:8080/",
     "height": 289
    },
    "id": "c78NxuLXFHcY",
    "outputId": "f78a1c13-3b2e-4101-b9d3-47051afb9332"
   },
   "outputs": [],
   "source": []
  },
  {
   "cell_type": "code",
   "execution_count": null,
   "id": "9b2fb301-c660-441c-9db5-b87fa0415d2d",
   "metadata": {},
   "outputs": [],
   "source": []
  },
  {
   "cell_type": "code",
   "execution_count": null,
   "id": "158508cc",
   "metadata": {
    "colab": {
     "base_uri": "https://localhost:8080/"
    },
    "id": "158508cc",
    "outputId": "5dab7062-f498-4c78-b882-e3919d314dd6"
   },
   "outputs": [],
   "source": []
  },
  {
   "cell_type": "code",
   "execution_count": null,
   "id": "8a698ab0",
   "metadata": {
    "colab": {
     "base_uri": "https://localhost:8080/",
     "height": 920
    },
    "id": "8a698ab0",
    "outputId": "c412245e-b002-44ad-bf5a-3721500af5dc"
   },
   "outputs": [],
   "source": [
    "# viz = dtreeviz(rf.estimators_[0], X_train, y_train,\n",
    "#                feature_names=X.columns,\n",
    "#                class_names=[\"QSO\", \"star\"])\n",
    "\n",
    "# viz"
   ]
  },
  {
   "cell_type": "code",
   "execution_count": null,
   "id": "e9b3645c",
   "metadata": {
    "colab": {
     "base_uri": "https://localhost:8080/",
     "height": 782
    },
    "id": "e9b3645c",
    "outputId": "dbd0c56f-b4bd-466a-f9fd-c3d6cd7a6c83"
   },
   "outputs": [],
   "source": [
    "# viz = dtreeviz(rf.estimators_[1], X_train, y_train,\n",
    "#                feature_names=X.columns,\n",
    "#                class_names=[\"QSO\", \"star\"])\n",
    "\n",
    "# viz"
   ]
  },
  {
   "cell_type": "markdown",
   "id": "zvgrXSmLHHEN",
   "metadata": {
    "id": "zvgrXSmLHHEN"
   },
   "source": [
    "### **task 11:** choose a source and apply the model\n",
    "\n",
    "http://skyserver.sdss.org/dr7/en/tools/search/radial.asp"
   ]
  },
  {
   "cell_type": "code",
   "execution_count": null,
   "id": "67814387",
   "metadata": {
    "id": "67814387"
   },
   "outputs": [],
   "source": []
  },
  {
   "cell_type": "code",
   "execution_count": null,
   "id": "LQIPA5KIIiT-",
   "metadata": {
    "id": "LQIPA5KIIiT-"
   },
   "outputs": [],
   "source": []
  },
  {
   "cell_type": "code",
   "execution_count": null,
   "id": "cc471343-6e07-4f8b-9a29-bb2bfe2d15e6",
   "metadata": {},
   "outputs": [],
   "source": []
  },
  {
   "cell_type": "code",
   "execution_count": null,
   "id": "d66bab13-5f95-42f9-9ea4-647d60a80e60",
   "metadata": {},
   "outputs": [],
   "source": []
  }
 ],
 "metadata": {
  "colab": {
   "provenance": [],
   "toc_visible": true
  },
  "kernelspec": {
   "display_name": "Python 3 (ipykernel)",
   "language": "python",
   "name": "python3"
  },
  "language_info": {
   "codemirror_mode": {
    "name": "ipython",
    "version": 3
   },
   "file_extension": ".py",
   "mimetype": "text/x-python",
   "name": "python",
   "nbconvert_exporter": "python",
   "pygments_lexer": "ipython3",
   "version": "3.11.6"
  }
 },
 "nbformat": 4,
 "nbformat_minor": 5
}
