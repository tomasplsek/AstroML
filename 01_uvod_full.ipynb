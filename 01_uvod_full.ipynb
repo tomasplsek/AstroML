{
  "nbformat": 4,
  "nbformat_minor": 0,
  "metadata": {
    "colab": {
      "name": "Kopie sešitu 01_uvod.ipynb",
      "provenance": [],
      "collapsed_sections": [],
      "toc_visible": true,
      "mount_file_id": "https://github.com/tomasplsek/AstroML/blob/main/01_uvod.ipynb",
      "authorship_tag": "ABX9TyOUxD66YSD+0fGy+FMmpTu/"
    },
    "kernelspec": {
      "name": "python3",
      "display_name": "Python 3"
    },
    "language_info": {
      "name": "python"
    },
    "accelerator": "GPU"
  },
  "cells": [
    {
      "cell_type": "markdown",
      "metadata": {
        "id": "uOHZeYnyBsZK"
      },
      "source": [
        "# **Introduction to Machine learning for astronomers in Python**\n",
        "- taught online, in English\n",
        "- 50% lectures, 50% practical exercise\n",
        "- 6 lectures & 7 hands-on sessions\n",
        "- zápočet (final project)\n",
        "\n",
        "### **Contents**\n",
        "\n",
        "- Introduction to Machine Learning, the idea of supervised, non-supervised learning, semi-supervised learning, Classification vs Regression\n",
        "- General concept of Machine Learning, loss function\n",
        "- Popular algorithms such as Support Vector Machine, Bayesian Regression, K-Nearest neighbours\n",
        "- Data (feature) reduction such as Principal Component Analysis\n",
        "- Practical use of scikit-learn Python library\n",
        "- Model validation techniques. Fine-tuning model parameters.\n",
        "- Principles of Deep Learning\n",
        "- Practical use of Keras Deep Learning Python library\n",
        "- Student's own project\n"
      ]
    },
    {
      "cell_type": "markdown",
      "metadata": {
        "id": "GGAqtXiTHfxc"
      },
      "source": [
        "<div style=\"\">\n",
        "<img src=\"https://www.physics.muni.cz/~plsek/img.jpeg\" height=\"160px\" align=\"right\">\n",
        "\n",
        "<img src=\"https://cdn.muni.cz/media/3289673/matejkosiba.jpg?mode=crop&center=0.53,0.57&rnd=132563180850000000&width=179\" height=\"160px\" align=\"right\">\n",
        "\n",
        "<img src=\"https://cdn.muni.cz/media/3291288/toastm.jpg?mode=crop&center=0.5,0.5&rnd=132569108280000000&width=179\" height=\"160px\" align=\"right\">\n",
        "\n",
        "### **Timetable**\n",
        ">12.9. - Dean's leave\\\n",
        "19.9. - **Tomáš:** *Intro to Colab, Jupyter & Python*\\\n",
        "26.9. - 1st lecture\\\n",
        "3.10. - **Tomáš:** *Star or Quasar? (Decision trees)*\\\n",
        "10.10. - 2nd lecture\\\n",
        "17.10. - **Tomáš:** *Scikit learn: From Data to Prediction*\\\n",
        "24.10. - 3rd lecture\\\n",
        "31.10. - **Matěj:** *Intro to neural networks* \\\n",
        "7.11. - 4th lecture\\\n",
        "14.11. - **Matěj:** ?\\\n",
        "21.11. - 5th lecture\\\n",
        "28.11. - **Matěj:** ?\\\n",
        "5.12. - 6th lecture\\\n",
        "12.12. - **Tomáš:** *Tensorboard*\\\n",
        "19.12 - ?"
      ]
    },
    {
      "cell_type": "markdown",
      "source": [
        "## **Introduce yourselves :)** \n",
        "\n",
        "</div>\n",
        "\n",
        "> **Tomáš Plšek**\n",
        "> <br><br>\n",
        "> email: <a href=\"mailto:plsek@physics.muni.cz\">plsek@physics.muni.cz</a>\\\n",
        "> github: [tomasplsek](https://github.com/tomasplsek)\\\n",
        "> web: [physics.muni.cz/~plsek](https://www.physics.muni.cz/~plsek/)\\\n",
        "> office: [building 8 (Mathematics), 4th floor, last door to the left](https://is.muni.cz/auth/kontakty/mistnost?id=10454)"
      ],
      "metadata": {
        "id": "bonPrlisXOGY"
      }
    },
    {
      "cell_type": "markdown",
      "metadata": {
        "id": "wRhLdSG9XF83"
      },
      "source": [
        "# 1. hands-on session: **Intro to Colab, Jupyter & Python**"
      ]
    },
    {
      "cell_type": "markdown",
      "metadata": {
        "id": "Mog5i70hzAXg"
      },
      "source": [
        "## **Contents**\n",
        "\n",
        "\n",
        "\n",
        "1.   What is machine learning?\n",
        "2.   Examples\n",
        "3.   Hardware / software / data\n",
        "4.   Google colab / Conda + Jupyter\n",
        "5.   Basics of Python\n",
        "6.   \"Hello world\" of ML"
      ]
    },
    {
      "cell_type": "markdown",
      "metadata": {
        "id": "pJ6uaY6Czzm4"
      },
      "source": [
        "## **What is Machine learning?**\n",
        "\n",
        "Machine Learning is a set of algorithms with tunable parameters that can adjust the values of these parameters from previously seen data and generalize for prediction of new yet unseen data.\n",
        "\n",
        "<br>\n",
        "\n",
        "\"Machine learning is a field of study that gives computers the ability to learn without being explicitly programmed.\"\n",
        " - Arthur Samuel, 1959\n",
        "\n",
        "<br>\n",
        "\n",
        "\"A computer is said to learn from experience E with respect to some task T and some performance measure P, if its performance on T, as measured by P, improves with experience E.\"\n",
        " - Tom Mitchell, 1997\n",
        "\n",
        "<br>\n",
        "\n",
        "<img src=\"https://drive.google.com/uc?export=view&id=1iCTWs8F4-fxZgqOi3opWPg_PRB3Xgd92\" height=\"380px\" align=\"left\">\n",
        "\n",
        "<br>\n",
        "<br>\n",
        "<br>\n",
        "<br>\n",
        "<br>\n",
        "<br>\n",
        "<br>\n",
        "<br>\n",
        "<br>\n",
        "<br>\n",
        "<br>\n",
        "<br>\n",
        "<br>\n",
        "<br>\n",
        "<br>\n",
        "<br>\n",
        "<br>\n",
        "<br>\n",
        "\n",
        "<!-- <img src=\"https://lawtomated.com/wp-content/uploads/2019/04/MLvsDL.png\" align=left width=550>\n",
        "\n",
        "<br>\n",
        "<br>\n",
        "<br>\n",
        "<br>\n",
        "<br>\n",
        "<br>\n",
        "<br>\n",
        "<br>\n",
        "<br>\n",
        "<br>\n",
        "<br>\n",
        "<br>\n",
        "<br> -->\n",
        "\n",
        "<img src=\"https://1.bp.blogspot.com/-ME24ePzpzIM/UQLWTwurfXI/AAAAAAAAANw/W3EETIroA80/s1600/drop_shadows_background.png\" height=\"400px\" align=\"left\">\n",
        "\n",
        "<br>\n",
        "<br>\n",
        "<br>\n",
        "<br>\n",
        "<br>\n",
        "<br>\n",
        "<br>\n",
        "<br>\n",
        "<br>\n",
        "<br>\n",
        "<br>\n",
        "<br>\n",
        "<br>\n",
        "<br>\n",
        "<br>\n",
        "<br>\n",
        "<br>\n",
        "<br>\n",
        "<br>\n",
        "\n",
        "## **Classification**\n",
        "\n",
        "<img src=\"https://ecomputerconcepts.com/wp-content/uploads/2021/07/spam-filter.png\" height=\"230px\" align=\"left\">\n",
        "\n",
        "<br>\n",
        "<br>\n",
        "<br>\n",
        "<br>\n",
        "<br>\n",
        "<br>\n",
        "<br>\n",
        "<br>\n",
        "<br>\n",
        "<br>\n",
        "<br>\n",
        "\n",
        "\n",
        "## **Regression**\n",
        "\n",
        "<img src=\"https://www.researchgate.net/publication/356058062/figure/fig1/AS:11431281083467749@1662606065425/Linear-regression-Red-dots-represent-the-training-data-for-regression-and-blue-line_W640.jpg\" height=\"320px\" align=\"left\">\n",
        "\n",
        "<br>\n",
        "<br>\n",
        "<br>\n",
        "<br>\n",
        "<br>\n",
        "<br>\n",
        "<br>\n",
        "<br>\n",
        "<br>\n",
        "<br>\n",
        "<br>\n",
        "<br>\n",
        "<br>\n",
        "<br>\n",
        "\n",
        "\n",
        "\n",
        "\n",
        "\n",
        "\n",
        "## **Clustering**\n",
        "\n",
        "<img src=\"https://media.geeksforgeeks.org/wp-content/uploads/k-means-copy.jpg\" height=\"320px\" align=\"left\">\n",
        "\n",
        "<br>\n",
        "<br>\n",
        "<br>\n",
        "<br>\n",
        "<br>\n",
        "<br>\n",
        "<br>\n",
        "<br>\n",
        "<br>\n",
        "<br>\n",
        "<br>\n",
        "<br>\n",
        "<br>\n",
        "<br>\n",
        "\n",
        "## **Dimensionality reduction**\n",
        "\n",
        "<img src=\"https://programmathically.com/wp-content/uploads/2021/08/pca-2-dimensions-1024x644.png\" height=\"320px\" align=\"left\">\n"
      ]
    },
    {
      "cell_type": "markdown",
      "source": [
        "## **Examples**\n",
        "\n",
        "\n",
        "- Spam filter (1990s)\n",
        "\n",
        "<br>\n",
        "\n",
        "<img src=\"https://upload.wikimedia.org/wikipedia/commons/e/ed/DeepL_logo.svg\" align=\"right\" width=150>\n",
        "\n",
        "- Translation ([DeepL](https://www.deepl.com/translator))\n",
        "\n",
        "<br>\n",
        "<br>\n",
        "\n",
        "<img src=\"https://upload.wikimedia.org/wikipedia/commons/thumb/1/12/Google_Photos_icon_%282020%29.svg/2048px-Google_Photos_icon_%282020%29.svg.png\" align=right width=80>\n",
        "\n",
        "- Image recognition ([Google fotky](https://photos.google.com/))\n",
        "\n",
        "<br>\n",
        "<br>\n",
        "<br>\n",
        "\n",
        "<img src=\"https://play-lh.googleusercontent.com/m1xvI9w2cRNDESdNpw3vYsQmyDUpaUCIwolZ4Yg-Ie_c6Ka3LJho8cU1oACpAjPbrhM=s180\" align=right width=120>\n",
        "\n",
        "\n",
        "<br>\n",
        "<br>\n",
        "\n",
        "- Speech recognition (Google, Windows, [BirdNET](https://play.google.com/store/apps/details?id=de.tu_chemnitz.mi.kahst.birdnet&hl=cs&gl=US))\n",
        "\n",
        "<br>\n",
        "<br>\n",
        "\n",
        "<img src=\"https://drive.google.com/uc?export=view&id=1JcjFUplM22NwID97VoA2kpowh5I0Dy3v\" width=\"350px\" align=\"right\">\n",
        "\n",
        "<br>\n",
        "<br>\n",
        "<br>\n",
        "<br>\n",
        "<br>\n",
        "<br>\n",
        "<br>\n",
        "<br>\n",
        "<br>\n",
        "<br>\n",
        "<br>\n",
        "<br>\n",
        "<br>\n",
        "<br>\n",
        "<br>\n",
        "<br>\n",
        "<br>\n",
        "<br>\n",
        "<br>\n",
        "<br>\n",
        "<br>\n",
        "<br>\n",
        "<br>\n",
        "<br>\n",
        "\n",
        "<img src=\"https://bernardmarr.com/wp-content/uploads/2021/07/How-Tesla-Is-Using-Artificial-Intelligence-to-Create-The-Autonomous-Cars-Of-The-Future.jpg\" width=\"450px\" align=\"right\">\n",
        "\n",
        "- Self-driving cars\n",
        "\n",
        "<br>\n",
        "<br>\n",
        "<br>\n",
        "<br>\n",
        "<br>\n",
        "<br>\n",
        "<br>\n",
        "<br>\n",
        "<br>\n",
        "<br>\n",
        "<br>\n",
        "<br>\n",
        "<br>\n",
        "\n",
        "- DeepFake videos\n"
      ],
      "metadata": {
        "id": "-xt4wC4EkJJG"
      }
    },
    {
      "cell_type": "code",
      "source": [
        "from IPython.display import YouTubeVideo\n",
        "YouTubeVideo('cQ54GDm1eL0')"
      ],
      "metadata": {
        "colab": {
          "base_uri": "https://localhost:8080/",
          "height": 321
        },
        "id": "unG-x_QrGAPk",
        "outputId": "e5448806-5cb3-46a5-dc31-e6aa18537765"
      },
      "execution_count": 1,
      "outputs": [
        {
          "output_type": "execute_result",
          "data": {
            "text/plain": [
              "<IPython.lib.display.YouTubeVideo at 0x7fd2ef370990>"
            ],
            "text/html": [
              "\n",
              "        <iframe\n",
              "            width=\"400\"\n",
              "            height=\"300\"\n",
              "            src=\"https://www.youtube.com/embed/cQ54GDm1eL0\"\n",
              "            frameborder=\"0\"\n",
              "            allowfullscreen\n",
              "        ></iframe>\n",
              "        "
            ],
            "image/jpeg": "[encoded data removed]"
          },
          "metadata": {},
          "execution_count": 1
        }
      ]
    },
    {
      "cell_type": "markdown",
      "source": [
        "\n",
        "\n",
        "- [DALL-E](https://openai.com/dall-e-2/)\n",
        "\n",
        "<img src=\"https://drive.google.com/uc?export=view&id=1FtvxgNhnOyuaPp8pD1TWqIUYREbZ2UHu\" width=\"350px\" align=\"right\" alt=\"An astronaut playing basketball with cats in a watercolor style.\">\n",
        "\n",
        "\n",
        "   Example: An astronaut playing basketball with cats in a watercolor style.\n",
        "\n",
        "<br>\n",
        "<br>\n",
        "<br>\n",
        "<br>\n",
        "<br>\n",
        "<br>\n",
        "<br>\n",
        "<br>\n",
        "<br>\n",
        "<br>\n",
        "<br>\n",
        "<br>\n",
        "<br>\n",
        "<br>\n",
        "<br>\n",
        "<br>\n",
        "<br>\n",
        "\n",
        "<img src=\"https://rewind.com/wp-content/uploads/2022/03/github-copilot-logo.jpeg\" width=\"150px\" align=\"right\">\n",
        "\n",
        "<img src=\"https://venturebeat.com/wp-content/uploads/2019/03/openai-1.png?fit=2400%2C1000&strip=all\" width=\"150px\" align=\"right\">\n",
        "\n",
        "- [Github Copilot](https://github.com/features/copilot), [OpenAI](https://openai.com/) \\([live demo](https://www.youtube.com/watch?v=SGUCcjHTmGY&t=532s)\\)\n",
        "\n",
        "<br>\n",
        "\n",
        "OpenAI examples:\n",
        "\n",
        "'''\n",
        "Create array with 10 random numbers.\n",
        "'''\n",
        "\n",
        "'''\n",
        "Get 10 numbers from Fibonacci sequence.\n",
        "'''\n",
        "\n",
        "'''\n",
        "Download weather forecast for New York.\n",
        "'''\n",
        "\n",
        "'''\n",
        "Download an image of Barrack Obama and plot it.\n",
        "'''\n",
        "\n",
        "'''\n",
        "Create array of 10 values ranging from 0 to 9.\n",
        "Create new array from the previous one but mutliply the numbers by two.\n",
        "Plot the two arrays.\n",
        "Shuffle the first array and plot that again.\n",
        "'''\n",
        "\n",
        "<br>\n",
        "\n",
        "Copilot examples:\n",
        "\n",
        "```python\n",
        "def fibonnaci_sequence():\n",
        "```\n",
        "\n",
        "```python\n",
        "def rotate_image\n",
        "```"
      ],
      "metadata": {
        "id": "ey5CTb_ZF-cW"
      }
    },
    {
      "cell_type": "markdown",
      "source": [
        "## **What is ML useful for?**\n",
        "\n",
        "- computer vision (object / pattern recognition)\n",
        "- natural language (speech recognition, translation, ...)\n",
        "- complex image / video operations\n",
        "- high dimensional problems\n",
        "- big data problems\n",
        "\n",
        "Cases when you shouldn't use ML:\n",
        "- simple problems / algorithms\n",
        "- problems that need to be solved deterministically\n",
        "- basic mathematics, precise computations"
      ],
      "metadata": {
        "id": "hhkejRyKHA2s"
      }
    },
    {
      "cell_type": "markdown",
      "metadata": {
        "id": "KxAysN8s6-Tu"
      },
      "source": [
        "## **Why now?**\n",
        "1943 - Artificial neuron\\\n",
        "1957 - **Perceptron** (Frank Rosenblatt)\\\n",
        "1967 -  **Nearest neighbor algorithm**\\\n",
        "...\\\n",
        "1997 - Deep Blue beats Kasparov\\\n",
        "2006 - Training neural network using backpropagation\\\n",
        "2016 - AlphaGo beats Lee Sedol\\\n",
        "2018 - Protein Structure Prediction (AlphaFold 1)\\\n",
        "2022 - Augmented reality, Selfdriving cars\n",
        "\n",
        "<br>\n",
        "\n",
        "**Because of hardware, software and data!**"
      ]
    },
    {
      "cell_type": "markdown",
      "metadata": {
        "id": "nubcLWsQBsWK"
      },
      "source": [
        "<img src=\"https://drive.google.com/uc?export=view&id=19rLShDospF7mDvaWn9aJtVPePeNV0SQx\" width=\"460px\" align=\"right\">\n",
        "\n",
        "## **Hardware**\n",
        "\n",
        "*   **CPU** = *central processing unit*\\\n",
        "    \\- in every computer / mobile phone\\\n",
        "    \\- scalar operations\\\n",
        "    \\- multiple cores / threads (parallelizable)\\\n",
        "    \\- Intel, AMD\n",
        "\n",
        "<br>\n",
        "\n",
        "<img src=\"https://drive.google.com/uc?export=view&id=1m5eUCkodoLlHpW6JsABUOVOVm_nn2Gtr\" width=\"460px\" align=\"right\">\n",
        "\n",
        "\n",
        "*   **GPU** = *graphical processing unit*\\\n",
        "    \\- graphics and games, vector operations\\\n",
        "    \\- thousands of cores running simultaneously\\\n",
        "    \\- dedicated or integrated on CPU\\\n",
        "    \\- NVIDIA, AMD\n",
        "\n",
        "<br>\n",
        "\n",
        "*   **TPU** = *tensor processing unit*\\\n",
        "    \\- tensor operations\\\n",
        "    \\- developed by Google for Tensorflow\\\n",
        "    \\- narrow utilization field\n",
        "\n"
      ]
    },
    {
      "cell_type": "markdown",
      "metadata": {
        "id": "56ZXgZNCBsO4"
      },
      "source": [
        "## **Software**\n",
        "\n",
        "#### Higher level libraries are being developed mostly for Python:\n",
        "\n",
        "<img src=\"https://scikit-learn.org/stable/_static/scikit-learn-logo-small.png\" height=\"50px\" align=\"right\">\n",
        "\n",
        "*   [scikit-learn](https://scikit-learn.org/stable/)\\\n",
        "    \\- developed in 2013\\\n",
        "    \\- set of general ML tools\n",
        "\n",
        "<img src=\"https://upload.wikimedia.org/wikipedia/commons/thumb/2/2d/Tensorflow_logo.svg/1200px-Tensorflow_logo.svg.png\" height=\"75px\" align=\"right\">\n",
        "\n",
        "*   [tensorflow](https://www.tensorflow.org/)\\\n",
        "    \\- matrix and tensor computations\\\n",
        "    \\- can use GPU through CUDA ([install](https://www.tensorflow.org/install/gpu), [setup](https://www.tensorflow.org/guide/gpu))\n",
        "\n",
        "<img src=\"https://keras.io/img/logo.png\" height=\"50px\" align=\"right\">\n",
        "\n",
        "*   [keras](https://keras.io/)\\\n",
        "    \\- on top of tensorflow\\\n",
        "    \\- neural networks (dense & convolutional layers)\n",
        "\n",
        "<img src=\"https://drive.google.com/uc?export=view&id=1zVaUJ3Zvrw4GE-doH3m99TODfmPok7U7\" width=\"550px\" align=\"right\">\n",
        "\n",
        "*   [pycaret](https://pycaret.gitbook.io/docs/)\\\n",
        "    \\- low code library\n",
        "\n",
        "*   others: [pyTorch](https://pytorch.org/), Theano, [JAX](https://github.com/google/jax)\n",
        "\n",
        "<br>\n",
        "\n",
        "#### Libraries for comunication with GPU:\n",
        "\n",
        "<!-- <img src=\"https://www.nvidia.com/etc/designs/nvidiaGDC/clientlibs_base/images/NVIDIA-Logo.svg\" height=\"50px\" align=\"right\"> -->\n",
        "\n",
        "*   CUDA = NVIDIA libraries ([toolkit](https://developer.nvidia.com/cuda-toolkit-archive), [cuDNN](https://developer.nvidia.com/rdp/cudnn-download))\\\n",
        "    \\- GPU acceleration (Win & Linux)\\\n",
        "    \\- low level programming interface\\\n",
        "    \\- only necessary for dedicated GPUs\n"
      ]
    },
    {
      "cell_type": "markdown",
      "source": [
        "## **Data**\n",
        "\n",
        "<img src=\"https://drive.google.com/uc?export=view&id=178QHIX-BBYgByXC54wzdcL7pISKmQI_l\" width=\"520px\" align=\"right\">\n",
        "\n",
        "<br>\n",
        "\n",
        "- internet & digitalization\n",
        "\n",
        "<br>\n",
        "\n",
        "- social media (Facebook, Instagram, ...)\n",
        "\n",
        "<br>\n",
        "\n",
        "- cloud services (Yes, they train on your private images.)\n",
        "\n",
        "<br>\n",
        "\n",
        "- github (Yes, they train on your code.)\n",
        "\n",
        "<br>\n",
        "\n",
        "- public databases (https://www.kaggle.com/) \n",
        "\n",
        "<br>"
      ],
      "metadata": {
        "id": "qjgMrykWf_RA"
      }
    },
    {
      "cell_type": "markdown",
      "metadata": {
        "id": "ORuaA4ZQOhO3"
      },
      "source": [
        "## **Programing environments**\n",
        "\n",
        "<img src=\"https://colab.research.google.com/img/colab_favicon_256px.png\" height=\"90px\" align=\"right\">\n",
        "\n",
        "<img src=\"https://upload.wikimedia.org/wikipedia/commons/thumb/3/38/Jupyter_logo.svg/800px-Jupyter_logo.svg.png\" height=\"105px\" align=\"right\" style=\"margin-right:100px\">\n",
        "\n",
        "<!-- <div style=\"display:table\"> -->\n",
        "\n",
        "*   Google colab (cloud Jupyter notebook)\n",
        "\n",
        "*   [Conda](https://docs.conda.io/en/latest/) + [Jupyter](https://jupyter.org/) notebook/lab (tutorial in Study materials)\n",
        "\n",
        "*   [VS Code](https://code.visualstudio.com/)"
      ]
    },
    {
      "cell_type": "markdown",
      "metadata": {
        "id": "eLclsAQTVO5H"
      },
      "source": [
        "## **Google Colab**\n",
        "\n",
        "- share notebooks\n",
        "- access notebooks and files from **Google drive** and **GitHub**\n",
        "- GPU / TPU acceleration\n",
        "- preinstalled packages (```numpy```, ```scipy```, ```matplotlib```, ```keras```, ```tensorflow```...)\n",
        "- [bash shell commands](https://files.fosswire.com/2007/08/fwunixref.pdf) ```!```\n",
        "- non-traditional packages are easy to install: ```!pip install corner```\n",
        "- [magical commands](https://ipython.readthedocs.io/en/stable/interactive/magics.html) ```%```\n",
        "- include markdown or HTML blocks\n",
        "- get help"
      ]
    },
    {
      "cell_type": "code",
      "metadata": {
        "id": "7-4pg3boVDZa",
        "colab": {
          "base_uri": "https://localhost:8080/"
        },
        "outputId": "3b42fd89-1231-4216-c2ce-ea40dc0715f0"
      },
      "source": [
        "from google.colab import drive\n",
        "drive.mount('/content/drive', force_remount=True)"
      ],
      "execution_count": 1,
      "outputs": [
        {
          "output_type": "stream",
          "name": "stdout",
          "text": [
            "Mounted at /content/drive\n"
          ]
        }
      ]
    },
    {
      "cell_type": "code",
      "metadata": {
        "id": "Ch8c25Amzwnv",
        "colab": {
          "base_uri": "https://localhost:8080/"
        },
        "outputId": "2b1f0753-a768-466c-d3fa-b22f2da64e56"
      },
      "source": [
        "import tensorflow as tf\n",
        "print(\"Num GPUs Available: \", len(tf.config.list_physical_devices('GPU')))"
      ],
      "execution_count": 2,
      "outputs": [
        {
          "output_type": "stream",
          "name": "stdout",
          "text": [
            "Num GPUs Available:  1\n"
          ]
        }
      ]
    },
    {
      "cell_type": "code",
      "metadata": {
        "id": "EHWQwYG91RUS"
      },
      "source": [
        "import tensorflow\n",
        "import keras\n",
        "import sklearn"
      ],
      "execution_count": 3,
      "outputs": []
    },
    {
      "cell_type": "code",
      "source": [
        "tensorflow.__version__"
      ],
      "metadata": {
        "colab": {
          "base_uri": "https://localhost:8080/",
          "height": 35
        },
        "id": "-upuj3MsEljl",
        "outputId": "22bca7bd-c55b-4b5d-a39e-9cf6b60217cc"
      },
      "execution_count": 23,
      "outputs": [
        {
          "output_type": "execute_result",
          "data": {
            "text/plain": [
              "'2.8.2'"
            ],
            "application/vnd.google.colaboratory.intrinsic+json": {
              "type": "string"
            }
          },
          "metadata": {},
          "execution_count": 23
        }
      ]
    },
    {
      "cell_type": "code",
      "metadata": {
        "id": "AuSU4S-3VBTD",
        "colab": {
          "base_uri": "https://localhost:8080/"
        },
        "outputId": "b9da871e-d732-40ed-abdd-53cb60b20a58"
      },
      "source": [
        "!ls"
      ],
      "execution_count": 5,
      "outputs": [
        {
          "output_type": "stream",
          "name": "stdout",
          "text": [
            "drive  sample_data\n"
          ]
        }
      ]
    },
    {
      "cell_type": "code",
      "metadata": {
        "id": "mD257_HmBbT-"
      },
      "source": [
        "!echo \"nothing\" > file.txt"
      ],
      "execution_count": 6,
      "outputs": []
    },
    {
      "cell_type": "code",
      "metadata": {
        "id": "fGsYe8UxFGgT",
        "colab": {
          "base_uri": "https://localhost:8080/"
        },
        "outputId": "009b9045-5216-4474-db7c-0eef7d0784d8"
      },
      "source": [
        "!cat file.txt"
      ],
      "execution_count": 7,
      "outputs": [
        {
          "output_type": "stream",
          "name": "stdout",
          "text": [
            "nothing\n"
          ]
        }
      ]
    },
    {
      "cell_type": "code",
      "metadata": {
        "id": "3vGSQAVJa1k3",
        "colab": {
          "base_uri": "https://localhost:8080/"
        },
        "outputId": "c6d170a0-4092-4ea5-e3ed-1b6b065b3a22"
      },
      "source": [
        "!pip install corner"
      ],
      "execution_count": 8,
      "outputs": [
        {
          "output_type": "stream",
          "name": "stdout",
          "text": [
            "Looking in indexes: https://pypi.org/simple, https://us-python.pkg.dev/colab-wheels/public/simple/\n",
            "Collecting corner\n",
            "  Downloading corner-2.2.1-py3-none-any.whl (15 kB)\n",
            "Requirement already satisfied: matplotlib>=2.1 in /usr/local/lib/python3.7/dist-packages (from corner) (3.2.2)\n",
            "Requirement already satisfied: kiwisolver>=1.0.1 in /usr/local/lib/python3.7/dist-packages (from matplotlib>=2.1->corner) (1.4.4)\n",
            "Requirement already satisfied: cycler>=0.10 in /usr/local/lib/python3.7/dist-packages (from matplotlib>=2.1->corner) (0.11.0)\n",
            "Requirement already satisfied: python-dateutil>=2.1 in /usr/local/lib/python3.7/dist-packages (from matplotlib>=2.1->corner) (2.8.2)\n",
            "Requirement already satisfied: pyparsing!=2.0.4,!=2.1.2,!=2.1.6,>=2.0.1 in /usr/local/lib/python3.7/dist-packages (from matplotlib>=2.1->corner) (3.0.9)\n",
            "Requirement already satisfied: numpy>=1.11 in /usr/local/lib/python3.7/dist-packages (from matplotlib>=2.1->corner) (1.21.6)\n",
            "Requirement already satisfied: typing-extensions in /usr/local/lib/python3.7/dist-packages (from kiwisolver>=1.0.1->matplotlib>=2.1->corner) (4.1.1)\n",
            "Requirement already satisfied: six>=1.5 in /usr/local/lib/python3.7/dist-packages (from python-dateutil>=2.1->matplotlib>=2.1->corner) (1.15.0)\n",
            "Installing collected packages: corner\n",
            "Successfully installed corner-2.2.1\n"
          ]
        }
      ]
    },
    {
      "cell_type": "code",
      "metadata": {
        "id": "5NCXZeOAElv5",
        "colab": {
          "base_uri": "https://localhost:8080/"
        },
        "outputId": "703060da-fa5c-46d9-adef-3698bbb67fe8"
      },
      "source": [
        "!git clone https://github.com/dfm/corner.py.git\n",
        "!cd corner.py ; python -m pip install ."
      ],
      "execution_count": 9,
      "outputs": [
        {
          "output_type": "stream",
          "name": "stdout",
          "text": [
            "Cloning into 'corner.py'...\n",
            "remote: Enumerating objects: 1314, done.\u001b[K\n",
            "remote: Counting objects: 100% (429/429), done.\u001b[K\n",
            "remote: Compressing objects: 100% (256/256), done.\u001b[K\n",
            "remote: Total 1314 (delta 203), reused 352 (delta 148), pack-reused 885\u001b[K\n",
            "Receiving objects: 100% (1314/1314), 14.73 MiB | 25.39 MiB/s, done.\n",
            "Resolving deltas: 100% (632/632), done.\n",
            "Looking in indexes: https://pypi.org/simple, https://us-python.pkg.dev/colab-wheels/public/simple/\n",
            "Processing /content/corner.py\n",
            "\u001b[33m  DEPRECATION: A future pip version will change local packages to be built in-place without first copying to a temporary directory. We recommend you use --use-feature=in-tree-build to test your packages with this new behavior before it becomes the default.\n",
            "   pip 21.3 will remove support for this functionality. You can find discussion regarding this at https://github.com/pypa/pip/issues/7555.\u001b[0m\n",
            "  Installing build dependencies ... \u001b[?25l\u001b[?25hdone\n",
            "  Getting requirements to build wheel ... \u001b[?25l\u001b[?25hdone\n",
            "    Preparing wheel metadata ... \u001b[?25l\u001b[?25hdone\n",
            "Building wheels for collected packages: corner\n",
            "  Building wheel for corner (PEP 517) ... \u001b[?25l\u001b[?25hdone\n",
            "  Created wheel for corner: filename=corner-2.2.2.dev37+ga0b8ecf-py3-none-any.whl size=14487 sha256=981d5da8886b261254273dca08d01077ebe5b4d1954a7114d0a8826555881425\n",
            "  Stored in directory: /tmp/pip-ephem-wheel-cache-p51wbac1/wheels/36/82/c5/449fba3ea769f91715347bcea75053a107e2f2330ec6188e02\n",
            "Successfully built corner\n",
            "Installing collected packages: corner\n",
            "  Attempting uninstall: corner\n",
            "    Found existing installation: corner 2.2.1\n",
            "    Uninstalling corner-2.2.1:\n",
            "      Successfully uninstalled corner-2.2.1\n",
            "Successfully installed corner-2.2.2.dev37+ga0b8ecf\n"
          ]
        }
      ]
    },
    {
      "cell_type": "code",
      "source": [
        "import corner"
      ],
      "metadata": {
        "id": "nMjiPzyiDhgL"
      },
      "execution_count": 10,
      "outputs": []
    },
    {
      "cell_type": "code",
      "metadata": {
        "id": "_7DCE1HH3FA1"
      },
      "source": [
        "%matplotlib inline"
      ],
      "execution_count": 11,
      "outputs": []
    },
    {
      "cell_type": "code",
      "metadata": {
        "id": "XYiDm2zCGaOo",
        "colab": {
          "base_uri": "https://localhost:8080/"
        },
        "outputId": "79d07ee2-47b1-4069-827b-a8badb52d17e"
      },
      "source": [
        "%time print(\"Hello world\")"
      ],
      "execution_count": 12,
      "outputs": [
        {
          "output_type": "stream",
          "name": "stdout",
          "text": [
            "Hello world\n",
            "CPU times: user 1.94 ms, sys: 0 ns, total: 1.94 ms\n",
            "Wall time: 2.04 ms\n"
          ]
        }
      ]
    },
    {
      "cell_type": "code",
      "metadata": {
        "colab": {
          "base_uri": "https://localhost:8080/"
        },
        "id": "0bYb4aKd_oRD",
        "outputId": "381d6f11-3cab-47cd-fbb8-44bd61abee31"
      },
      "source": [
        "import time\n",
        "\n",
        "%time time.sleep(1)"
      ],
      "execution_count": 13,
      "outputs": [
        {
          "output_type": "stream",
          "name": "stdout",
          "text": [
            "CPU times: user 7.1 ms, sys: 0 ns, total: 7.1 ms\n",
            "Wall time: 1.01 s\n"
          ]
        }
      ]
    },
    {
      "cell_type": "code",
      "metadata": {
        "id": "7f7s7fIa1PTp",
        "colab": {
          "base_uri": "https://localhost:8080/"
        },
        "outputId": "0ed436a7-b618-4d3d-d140-c2dfd5768dc5"
      },
      "source": [
        "time.sleep(1)\n",
        "\n",
        "%time time.sleep(1)"
      ],
      "execution_count": 14,
      "outputs": [
        {
          "output_type": "stream",
          "name": "stdout",
          "text": [
            "CPU times: user 6.63 ms, sys: 0 ns, total: 6.63 ms\n",
            "Wall time: 1 s\n"
          ]
        }
      ]
    },
    {
      "cell_type": "code",
      "source": [
        "def fun():\n",
        "    time.sleep(1)\n",
        "    time.sleep(1)\n",
        "\n",
        "%time fun()"
      ],
      "metadata": {
        "colab": {
          "base_uri": "https://localhost:8080/"
        },
        "id": "l3XPg6DDdfx4",
        "outputId": "58e84c9b-9e70-432b-b42f-4ad84b1f7e38"
      },
      "execution_count": 15,
      "outputs": [
        {
          "output_type": "stream",
          "name": "stdout",
          "text": [
            "CPU times: user 14.2 ms, sys: 760 µs, total: 15 ms\n",
            "Wall time: 2 s\n"
          ]
        }
      ]
    },
    {
      "cell_type": "code",
      "metadata": {
        "id": "ki0THCp7G2Fb",
        "colab": {
          "base_uri": "https://localhost:8080/"
        },
        "outputId": "a8ed3792-4e81-4fb6-ce71-00d44b6fdeea"
      },
      "source": [
        "%timeit time.sleep(1)"
      ],
      "execution_count": 16,
      "outputs": [
        {
          "output_type": "stream",
          "name": "stdout",
          "text": [
            "1 s ± 36 µs per loop (mean ± std. dev. of 7 runs, 1 loop each)\n"
          ]
        }
      ]
    },
    {
      "cell_type": "code",
      "metadata": {
        "colab": {
          "base_uri": "https://localhost:8080/"
        },
        "id": "n4B78gbM_q-S",
        "outputId": "018ee537-064d-4aa3-cf95-a35e80dfcd97"
      },
      "source": [
        "%timeit -r 10 time.sleep(1)"
      ],
      "execution_count": 17,
      "outputs": [
        {
          "output_type": "stream",
          "name": "stdout",
          "text": [
            "1 s ± 175 µs per loop (mean ± std. dev. of 10 runs, 1 loop each)\n"
          ]
        }
      ]
    },
    {
      "cell_type": "markdown",
      "metadata": {
        "id": "arYFWel9AeWm"
      },
      "source": [
        "### Heading\n",
        "#### Heading 2\n",
        "\n",
        "**bold**\n",
        "\n",
        "*italic*\n",
        "\n",
        "`code`\n",
        "\n",
        "```\n",
        "from numpy import sin\n",
        "from numpy import cos\n",
        "```\n",
        "\n",
        "```python\n",
        "from numpy import sin\n",
        "from numpy import cos\n",
        "```\n",
        "\n",
        "[link](https://scikit-learn.org/)\n",
        "\n",
        "![](https://scikit-learn.org/stable/_static/scikit-learn-logo-small.png)\n",
        "\n",
        "\n",
        "> block\\\n",
        "> text v bloku\n",
        "\n",
        "\n",
        "1.   ordered list\n",
        "2.   ...\n",
        "\n",
        "\n",
        "*   unordered list\n",
        "*   ...\n",
        "\n",
        "---"
      ]
    },
    {
      "cell_type": "markdown",
      "metadata": {
        "id": "QKTnkxLbV1pv"
      },
      "source": [
        "```html\n",
        "<img src=\"https://scikit-learn.org/stable/_static/scikit-learn-logo-small.png\" height=\"150px\" align=\"right\">\n",
        "```\n",
        "\n",
        "<img src=\"https://scikit-learn.org/stable/_static/scikit-learn-logo-small.png\" height=\"100px\" align=\"right\">"
      ]
    },
    {
      "cell_type": "code",
      "metadata": {
        "id": "o7g1WVCUfJYx"
      },
      "source": [
        "import matplotlib.pyplot as plt\n",
        "plt.plot?"
      ],
      "execution_count": 18,
      "outputs": []
    },
    {
      "cell_type": "markdown",
      "metadata": {
        "id": "5xLIHRDdc29-"
      },
      "source": [
        "## **Basics of Python**\n",
        "\n",
        "- object oriented programming language\n",
        "- Python2, Python3\n",
        "- high level language - implemented in C (\"Python is just a C wrapper.\")\n",
        "- interpreted (slower)\n",
        "- open source & free to use\n",
        "- NOT ONLY scripting language\n",
        "- plenty of modules (`scipy`, `astropy`, `keras`, `Qt`...)\n",
        "- computations, programs, graphical interface, web backend..."
      ]
    },
    {
      "cell_type": "code",
      "metadata": {
        "id": "Sc7DJB68hZ83",
        "colab": {
          "base_uri": "https://localhost:8080/"
        },
        "outputId": "8640a904-4e29-4b9d-ecf5-1e1cdf1d96a8"
      },
      "source": [
        "import sys\n",
        "print(sys.version)"
      ],
      "execution_count": 25,
      "outputs": [
        {
          "output_type": "stream",
          "name": "stdout",
          "text": [
            "3.7.14 (default, Sep  8 2022, 00:06:44) \n",
            "[GCC 7.5.0]\n"
          ]
        }
      ]
    },
    {
      "cell_type": "markdown",
      "metadata": {
        "id": "BUJGSuJlp8xN"
      },
      "source": [
        "### **Classes**"
      ]
    },
    {
      "cell_type": "code",
      "metadata": {
        "id": "cIdGP4eRv3Es"
      },
      "source": [
        "a = 1\n",
        "b = 4.2\n",
        "c = \"word\"\n",
        "d = [1, 2, 3]\n",
        "e = (1, 2, 3)\n",
        "f = {\"Tomas\" : 1, \"Toast\" : 2, \"Matěj\" : 3}\n",
        "\n",
        "def fun(par1):\n",
        "    par2 = par1 + 1\n",
        "    return par2\n",
        "\n",
        "import numpy as np\n",
        "g = np.array([1,2,3])\n",
        "\n",
        "import pandas as pd\n",
        "df = pd.DataFrame()"
      ],
      "execution_count": 28,
      "outputs": []
    },
    {
      "cell_type": "code",
      "source": [
        "for i in [a, b, c, d, e, f, fun, np, g, df]:\n",
        "    print(type(i))"
      ],
      "metadata": {
        "colab": {
          "base_uri": "https://localhost:8080/"
        },
        "id": "7s6poqhtLlzz",
        "outputId": "0591c67e-70fe-47b5-d1c1-451442b2acf4"
      },
      "execution_count": 29,
      "outputs": [
        {
          "output_type": "stream",
          "name": "stdout",
          "text": [
            "<class 'int'>\n",
            "<class 'float'>\n",
            "<class 'str'>\n",
            "<class 'list'>\n",
            "<class 'tuple'>\n",
            "<class 'dict'>\n",
            "<class 'function'>\n",
            "<class 'module'>\n",
            "<class 'numpy.ndarray'>\n",
            "<class 'pandas.core.frame.DataFrame'>\n"
          ]
        }
      ]
    },
    {
      "cell_type": "code",
      "metadata": {
        "id": "2fJcFoLuiFyQ",
        "colab": {
          "base_uri": "https://localhost:8080/"
        },
        "outputId": "8b639466-65d7-4d76-cdab-b3a636a98a48"
      },
      "source": [
        "a = 1\n",
        "b = 2\n",
        "print(a + b)"
      ],
      "execution_count": 28,
      "outputs": [
        {
          "output_type": "stream",
          "name": "stdout",
          "text": [
            "3\n"
          ]
        }
      ]
    },
    {
      "cell_type": "code",
      "metadata": {
        "id": "G5p0NWLliF68",
        "colab": {
          "base_uri": "https://localhost:8080/"
        },
        "outputId": "7d48dc9f-2b68-4ad6-9262-a641fada68ed"
      },
      "source": [
        "a + b"
      ],
      "execution_count": 29,
      "outputs": [
        {
          "output_type": "execute_result",
          "data": {
            "text/plain": [
              "3"
            ]
          },
          "metadata": {},
          "execution_count": 29
        }
      ]
    },
    {
      "cell_type": "code",
      "metadata": {
        "id": "4JYjQU6r9Z_x",
        "colab": {
          "base_uri": "https://localhost:8080/"
        },
        "outputId": "1d7fd7da-7bd2-40bd-fd0a-e950e985d8b7"
      },
      "source": [
        "a = b\n",
        "a"
      ],
      "execution_count": 30,
      "outputs": [
        {
          "output_type": "execute_result",
          "data": {
            "text/plain": [
              "2"
            ]
          },
          "metadata": {},
          "execution_count": 30
        }
      ]
    },
    {
      "cell_type": "code",
      "source": [
        "a = [1,2,3,4]"
      ],
      "metadata": {
        "id": "YHXU0ugrLrlx"
      },
      "execution_count": 33,
      "outputs": []
    },
    {
      "cell_type": "code",
      "source": [
        "a[0]"
      ],
      "metadata": {
        "colab": {
          "base_uri": "https://localhost:8080/"
        },
        "id": "8KnrRbsoLtc8",
        "outputId": "6a3578c6-af1d-4f1b-bc9a-ca6844513524"
      },
      "execution_count": 34,
      "outputs": [
        {
          "output_type": "execute_result",
          "data": {
            "text/plain": [
              "1"
            ]
          },
          "metadata": {},
          "execution_count": 34
        }
      ]
    },
    {
      "cell_type": "code",
      "source": [
        "a[::2]"
      ],
      "metadata": {
        "colab": {
          "base_uri": "https://localhost:8080/"
        },
        "id": "HaxvnjUYLuv5",
        "outputId": "0adfe74b-55e0-402a-fce2-f43676e59b2c"
      },
      "execution_count": 35,
      "outputs": [
        {
          "output_type": "execute_result",
          "data": {
            "text/plain": [
              "[1, 3]"
            ]
          },
          "metadata": {},
          "execution_count": 35
        }
      ]
    },
    {
      "cell_type": "code",
      "source": [
        "a[0] = 0"
      ],
      "metadata": {
        "id": "Dy3WVK9vLxnZ"
      },
      "execution_count": 36,
      "outputs": []
    },
    {
      "cell_type": "code",
      "source": [
        "a"
      ],
      "metadata": {
        "colab": {
          "base_uri": "https://localhost:8080/"
        },
        "id": "aRalFiaELzND",
        "outputId": "49141aef-5b93-4cd7-ade0-3573e96d1e7e"
      },
      "execution_count": 37,
      "outputs": [
        {
          "output_type": "execute_result",
          "data": {
            "text/plain": [
              "[0, 2, 3, 4]"
            ]
          },
          "metadata": {},
          "execution_count": 37
        }
      ]
    },
    {
      "cell_type": "code",
      "metadata": {
        "id": "iPYuqnQvsDjx"
      },
      "source": [
        "from math import sin, pi, exp"
      ],
      "execution_count": 31,
      "outputs": []
    },
    {
      "cell_type": "code",
      "metadata": {
        "id": "Te8eU90OsGaC",
        "colab": {
          "base_uri": "https://localhost:8080/"
        },
        "outputId": "94df48d6-2e35-4e04-f993-db72e607653b"
      },
      "source": [
        "sin(pi/2)"
      ],
      "execution_count": 32,
      "outputs": [
        {
          "output_type": "execute_result",
          "data": {
            "text/plain": [
              "1.0"
            ]
          },
          "metadata": {},
          "execution_count": 32
        }
      ]
    },
    {
      "cell_type": "code",
      "metadata": {
        "id": "70FUi4wssHzn",
        "colab": {
          "base_uri": "https://localhost:8080/"
        },
        "outputId": "e12b0583-d825-468f-ac86-d88231a0765d"
      },
      "source": [
        "exp(0)"
      ],
      "execution_count": 33,
      "outputs": [
        {
          "output_type": "execute_result",
          "data": {
            "text/plain": [
              "1.0"
            ]
          },
          "metadata": {},
          "execution_count": 33
        }
      ]
    },
    {
      "cell_type": "markdown",
      "source": [
        "### **Atributes**"
      ],
      "metadata": {
        "id": "-o4lVIBBRjjk"
      }
    },
    {
      "cell_type": "code",
      "source": [
        "a = np.array([1,2,3])"
      ],
      "metadata": {
        "id": "MESPo7sWRm9h"
      },
      "execution_count": 38,
      "outputs": []
    },
    {
      "cell_type": "code",
      "source": [
        "a.shape"
      ],
      "metadata": {
        "colab": {
          "base_uri": "https://localhost:8080/"
        },
        "id": "ML0ukmWVIh1X",
        "outputId": "6e94d6d4-8c9f-4816-f064-73422d61fa24"
      },
      "execution_count": 39,
      "outputs": [
        {
          "output_type": "execute_result",
          "data": {
            "text/plain": [
              "(3,)"
            ]
          },
          "metadata": {},
          "execution_count": 39
        }
      ]
    },
    {
      "cell_type": "code",
      "source": [
        "a.size"
      ],
      "metadata": {
        "id": "s-eY3vnRRm_4",
        "colab": {
          "base_uri": "https://localhost:8080/"
        },
        "outputId": "17dd21ae-9552-4d67-b830-d6e71b1f2dea"
      },
      "execution_count": 40,
      "outputs": [
        {
          "output_type": "execute_result",
          "data": {
            "text/plain": [
              "3"
            ]
          },
          "metadata": {},
          "execution_count": 40
        }
      ]
    },
    {
      "cell_type": "code",
      "source": [
        "a.dtype"
      ],
      "metadata": {
        "id": "9m9Rpmi3RnFC",
        "colab": {
          "base_uri": "https://localhost:8080/"
        },
        "outputId": "f9257458-8225-4f0c-ea78-acb0731d8cba"
      },
      "execution_count": 41,
      "outputs": [
        {
          "output_type": "execute_result",
          "data": {
            "text/plain": [
              "dtype('int64')"
            ]
          },
          "metadata": {},
          "execution_count": 41
        }
      ]
    },
    {
      "cell_type": "code",
      "source": [
        "a = [1,2,3]\n",
        "a.size"
      ],
      "metadata": {
        "colab": {
          "base_uri": "https://localhost:8080/",
          "height": 186
        },
        "id": "0QzGAR4ROAoj",
        "outputId": "86bfe31e-46aa-494d-e12f-837edbf2a8f9"
      },
      "execution_count": 42,
      "outputs": [
        {
          "output_type": "error",
          "ename": "AttributeError",
          "evalue": "ignored",
          "traceback": [
            "\u001b[0;31m---------------------------------------------------------------------------\u001b[0m",
            "\u001b[0;31mAttributeError\u001b[0m                            Traceback (most recent call last)",
            "\u001b[0;32m<ipython-input-42-4f0a115bd770>\u001b[0m in \u001b[0;36m<module>\u001b[0;34m\u001b[0m\n\u001b[1;32m      1\u001b[0m \u001b[0ma\u001b[0m \u001b[0;34m=\u001b[0m \u001b[0;34m[\u001b[0m\u001b[0;36m1\u001b[0m\u001b[0;34m,\u001b[0m\u001b[0;36m2\u001b[0m\u001b[0;34m,\u001b[0m\u001b[0;36m3\u001b[0m\u001b[0;34m]\u001b[0m\u001b[0;34m\u001b[0m\u001b[0;34m\u001b[0m\u001b[0m\n\u001b[0;32m----> 2\u001b[0;31m \u001b[0ma\u001b[0m\u001b[0;34m.\u001b[0m\u001b[0msize\u001b[0m\u001b[0;34m\u001b[0m\u001b[0;34m\u001b[0m\u001b[0m\n\u001b[0m",
            "\u001b[0;31mAttributeError\u001b[0m: 'list' object has no attribute 'size'"
          ]
        }
      ]
    },
    {
      "cell_type": "code",
      "source": [
        "a.__len__()"
      ],
      "metadata": {
        "colab": {
          "base_uri": "https://localhost:8080/"
        },
        "id": "phOcExlZMAiO",
        "outputId": "c97c7bc3-571a-40a8-afe7-8372e0c7d3f3"
      },
      "execution_count": 44,
      "outputs": [
        {
          "output_type": "execute_result",
          "data": {
            "text/plain": [
              "3"
            ]
          },
          "metadata": {},
          "execution_count": 44
        }
      ]
    },
    {
      "cell_type": "code",
      "source": [
        "len(a)"
      ],
      "metadata": {
        "colab": {
          "base_uri": "https://localhost:8080/"
        },
        "id": "6FXvszwPOCnT",
        "outputId": "38f4eed2-1de7-470f-b308-5f051629706b"
      },
      "execution_count": 67,
      "outputs": [
        {
          "output_type": "execute_result",
          "data": {
            "text/plain": [
              "3"
            ]
          },
          "metadata": {},
          "execution_count": 67
        }
      ]
    },
    {
      "cell_type": "markdown",
      "metadata": {
        "id": "_FUsvJWkqBSP"
      },
      "source": [
        "### **Methods**"
      ]
    },
    {
      "cell_type": "code",
      "metadata": {
        "id": "c-GfWFkQqKY0",
        "colab": {
          "base_uri": "https://localhost:8080/",
          "height": 35
        },
        "outputId": "0dcfc768-dc47-4543-ab46-b2f80849ca35"
      },
      "source": [
        "a = \"string\"\n",
        "a"
      ],
      "execution_count": 50,
      "outputs": [
        {
          "output_type": "execute_result",
          "data": {
            "text/plain": [
              "'string'"
            ],
            "application/vnd.google.colaboratory.intrinsic+json": {
              "type": "string"
            }
          },
          "metadata": {},
          "execution_count": 50
        }
      ]
    },
    {
      "cell_type": "code",
      "metadata": {
        "id": "-EomYUkTqOF4",
        "colab": {
          "base_uri": "https://localhost:8080/"
        },
        "outputId": "95489204-6ca8-4d9a-ce20-69509f540da0"
      },
      "source": [
        "a.find(\"s\")"
      ],
      "execution_count": 49,
      "outputs": [
        {
          "output_type": "execute_result",
          "data": {
            "text/plain": [
              "0"
            ]
          },
          "metadata": {},
          "execution_count": 49
        }
      ]
    },
    {
      "cell_type": "code",
      "metadata": {
        "id": "PqdxGzlfR0Hd",
        "colab": {
          "base_uri": "https://localhost:8080/",
          "height": 35
        },
        "outputId": "8cbcce1a-be98-4991-912e-d28e3d59216f"
      },
      "source": [
        "a.capitalize()"
      ],
      "execution_count": 51,
      "outputs": [
        {
          "output_type": "execute_result",
          "data": {
            "text/plain": [
              "'String'"
            ],
            "application/vnd.google.colaboratory.intrinsic+json": {
              "type": "string"
            }
          },
          "metadata": {},
          "execution_count": 51
        }
      ]
    },
    {
      "cell_type": "code",
      "metadata": {
        "id": "qG0Tuk3nnF9I",
        "colab": {
          "base_uri": "https://localhost:8080/"
        },
        "outputId": "99a1eed1-d115-4eef-942f-ac692e722cd7"
      },
      "source": [
        "a = [1,2,3]\n",
        "a"
      ],
      "execution_count": 52,
      "outputs": [
        {
          "output_type": "execute_result",
          "data": {
            "text/plain": [
              "[1, 2, 3]"
            ]
          },
          "metadata": {},
          "execution_count": 52
        }
      ]
    },
    {
      "cell_type": "code",
      "metadata": {
        "id": "lR_JqpkEnGHB",
        "colab": {
          "base_uri": "https://localhost:8080/"
        },
        "outputId": "3f5f5368-8f8a-44f2-a818-1d8f025d8e7c"
      },
      "source": [
        "a.append(4)\n",
        "a"
      ],
      "execution_count": 53,
      "outputs": [
        {
          "output_type": "execute_result",
          "data": {
            "text/plain": [
              "[1, 2, 3, 4]"
            ]
          },
          "metadata": {},
          "execution_count": 53
        }
      ]
    },
    {
      "cell_type": "code",
      "source": [
        "a.pop(3)"
      ],
      "metadata": {
        "colab": {
          "base_uri": "https://localhost:8080/"
        },
        "id": "rqrdkU3ZMaQz",
        "outputId": "f79cccae-03c8-48e8-88fa-b5ca5ab2d3e1"
      },
      "execution_count": 54,
      "outputs": [
        {
          "output_type": "execute_result",
          "data": {
            "text/plain": [
              "4"
            ]
          },
          "metadata": {},
          "execution_count": 54
        }
      ]
    },
    {
      "cell_type": "code",
      "source": [
        "a = np.array([1,2,3])"
      ],
      "metadata": {
        "id": "F8aWDFOWKoft"
      },
      "execution_count": 43,
      "outputs": []
    },
    {
      "cell_type": "code",
      "source": [
        "a.sum()"
      ],
      "metadata": {
        "colab": {
          "base_uri": "https://localhost:8080/"
        },
        "id": "GHopNidBKrL_",
        "outputId": "6ab50835-db0f-4132-b949-23995d866b25"
      },
      "execution_count": 44,
      "outputs": [
        {
          "output_type": "execute_result",
          "data": {
            "text/plain": [
              "6"
            ]
          },
          "metadata": {},
          "execution_count": 44
        }
      ]
    },
    {
      "cell_type": "code",
      "source": [
        "a.mean(), a.std()"
      ],
      "metadata": {
        "colab": {
          "base_uri": "https://localhost:8080/"
        },
        "id": "8t8MSy1gKukW",
        "outputId": "464a0347-a7d1-4bbc-b72d-8b964a05f14a"
      },
      "execution_count": 46,
      "outputs": [
        {
          "output_type": "execute_result",
          "data": {
            "text/plain": [
              "(2.0, 0.816496580927726)"
            ]
          },
          "metadata": {},
          "execution_count": 46
        }
      ]
    },
    {
      "cell_type": "markdown",
      "source": [
        "### **Cycles**"
      ],
      "metadata": {
        "id": "lo9sQwt1MxSO"
      }
    },
    {
      "cell_type": "code",
      "source": [
        "for i in range(10):\n",
        "    print(i)"
      ],
      "metadata": {
        "colab": {
          "base_uri": "https://localhost:8080/"
        },
        "id": "gw2kfBO5MwlM",
        "outputId": "e663278a-7703-4154-c0e4-90de942e5e9e"
      },
      "execution_count": 55,
      "outputs": [
        {
          "output_type": "stream",
          "name": "stdout",
          "text": [
            "0\n",
            "1\n",
            "2\n",
            "3\n",
            "4\n",
            "5\n",
            "6\n",
            "7\n",
            "8\n",
            "9\n"
          ]
        }
      ]
    },
    {
      "cell_type": "code",
      "source": [
        "x = 0\n",
        "while x < 10:\n",
        "    print(x)\n",
        "    x += 1"
      ],
      "metadata": {
        "colab": {
          "base_uri": "https://localhost:8080/"
        },
        "id": "C1BexGe_M1g_",
        "outputId": "f56bfd19-383f-43e3-91d0-3002baa77e7d"
      },
      "execution_count": 56,
      "outputs": [
        {
          "output_type": "stream",
          "name": "stdout",
          "text": [
            "0\n",
            "1\n",
            "2\n",
            "3\n",
            "4\n",
            "5\n",
            "6\n",
            "7\n",
            "8\n",
            "9\n"
          ]
        }
      ]
    },
    {
      "cell_type": "markdown",
      "metadata": {
        "id": "r5S3jCQzYRQw"
      },
      "source": [
        "### **task 1:** write an algorithm that sums a list & measure it's speed\n",
        "\n",
        "a = [1, 2, 3, ...., 1000]\\\n",
        "`%timeit`"
      ]
    },
    {
      "cell_type": "code",
      "metadata": {
        "id": "brgCI-hkjf9d"
      },
      "source": [
        "def sum_list(a):\n",
        "    x = 0\n",
        "    for i in range(len(a)):\n",
        "        x += a[i]\n",
        "    return x"
      ],
      "execution_count": 57,
      "outputs": []
    },
    {
      "cell_type": "code",
      "metadata": {
        "id": "gc1AFpJxUqsQ"
      },
      "source": [
        "a = []\n",
        "for i in range(1000):\n",
        "    a.append(i)"
      ],
      "execution_count": 58,
      "outputs": []
    },
    {
      "cell_type": "code",
      "metadata": {
        "colab": {
          "base_uri": "https://localhost:8080/"
        },
        "id": "DrLRiWCCUuLC",
        "outputId": "46b2e089-c673-4a3f-c382-8dd947fe6e1e"
      },
      "source": [
        "%timeit sum_list(a)"
      ],
      "execution_count": 59,
      "outputs": [
        {
          "output_type": "stream",
          "name": "stdout",
          "text": [
            "55.2 µs ± 1 µs per loop (mean ± std. dev. of 7 runs, 10000 loops each)\n"
          ]
        }
      ]
    },
    {
      "cell_type": "code",
      "metadata": {
        "colab": {
          "base_uri": "https://localhost:8080/"
        },
        "id": "fLSx18h-Yziy",
        "outputId": "df546686-b7e8-4b7c-a137-85359de12abc"
      },
      "source": [
        "%timeit sum(a)"
      ],
      "execution_count": 60,
      "outputs": [
        {
          "output_type": "stream",
          "name": "stdout",
          "text": [
            "5.48 µs ± 159 ns per loop (mean ± std. dev. of 7 runs, 100000 loops each)\n"
          ]
        }
      ]
    },
    {
      "cell_type": "code",
      "metadata": {
        "id": "1KMgzsowUw_l"
      },
      "source": [
        "b = np.array(a)"
      ],
      "execution_count": 62,
      "outputs": []
    },
    {
      "cell_type": "code",
      "metadata": {
        "colab": {
          "base_uri": "https://localhost:8080/"
        },
        "id": "_2OKzAXCU74w",
        "outputId": "c012c435-0056-4f76-d56c-ed0b10e357ee"
      },
      "source": [
        "type(a), type(b)"
      ],
      "execution_count": 63,
      "outputs": [
        {
          "output_type": "execute_result",
          "data": {
            "text/plain": [
              "(list, numpy.ndarray)"
            ]
          },
          "metadata": {},
          "execution_count": 63
        }
      ]
    },
    {
      "cell_type": "code",
      "metadata": {
        "colab": {
          "base_uri": "https://localhost:8080/"
        },
        "id": "Aqss2_2UU8zr",
        "outputId": "795227b4-7ce7-487c-cf92-20393d69006e"
      },
      "source": [
        "%timeit b.sum()"
      ],
      "execution_count": 64,
      "outputs": [
        {
          "output_type": "stream",
          "name": "stdout",
          "text": [
            "1.98 µs ± 40.3 ns per loop (mean ± std. dev. of 7 runs, 1000000 loops each)\n"
          ]
        }
      ]
    },
    {
      "cell_type": "markdown",
      "source": [
        "<br>\n",
        "\n",
        "**Don't try to reinvent a wheel. Built in methods are often much faster!**\n",
        "\n",
        "<br>"
      ],
      "metadata": {
        "id": "Ua2R_hqEOaez"
      }
    },
    {
      "cell_type": "markdown",
      "source": [
        "### **task 2:** multiply two lists & measure the time\n",
        "\n",
        "a = [1, 2, 3, ...., 1000]\\\n",
        "b = [1, 2, 3, ...., 1000]"
      ],
      "metadata": {
        "id": "mIplODQhNDLF"
      }
    },
    {
      "cell_type": "code",
      "source": [
        "a = []\n",
        "b = []\n",
        "for i in range(1000):\n",
        "    a.append(i)\n",
        "    b.append(i)"
      ],
      "metadata": {
        "id": "l5Jm1DsrNxRx"
      },
      "execution_count": 76,
      "outputs": []
    },
    {
      "cell_type": "code",
      "metadata": {
        "id": "F6B5Tpu5VV7H"
      },
      "source": [
        "def multiply_lists(a,b):\n",
        "    c = []\n",
        "    for i in range(len(a)):\n",
        "        c.append(a[i] * b[i])\n",
        "    return c"
      ],
      "execution_count": 77,
      "outputs": []
    },
    {
      "cell_type": "code",
      "metadata": {
        "colab": {
          "base_uri": "https://localhost:8080/"
        },
        "id": "_pplp-rhVuec",
        "outputId": "5966954b-9435-4724-9af0-9575dc2675e8"
      },
      "source": [
        "%timeit multiply_lists(a,b)"
      ],
      "execution_count": 78,
      "outputs": [
        {
          "output_type": "stream",
          "name": "stdout",
          "text": [
            "104 µs ± 1.1 µs per loop (mean ± std. dev. of 7 runs, 10000 loops each)\n"
          ]
        }
      ]
    },
    {
      "cell_type": "code",
      "metadata": {
        "id": "witZx777VyCK"
      },
      "source": [
        "A = np.array(a)\n",
        "B = np.array(b)"
      ],
      "execution_count": 79,
      "outputs": []
    },
    {
      "cell_type": "code",
      "metadata": {
        "colab": {
          "base_uri": "https://localhost:8080/"
        },
        "id": "HtDRm2V8V3IY",
        "outputId": "01ca9b58-c27f-4708-b052-d7358e765544"
      },
      "source": [
        "%timeit A * B"
      ],
      "execution_count": 80,
      "outputs": [
        {
          "output_type": "stream",
          "name": "stdout",
          "text": [
            "1.05 µs ± 18 ns per loop (mean ± std. dev. of 7 runs, 1000000 loops each)\n"
          ]
        }
      ]
    },
    {
      "cell_type": "markdown",
      "source": [
        "<br>\n",
        "\n",
        "**Vectorize as much as possible! Work smarter not harder!**\n",
        "\n",
        "<br>"
      ],
      "metadata": {
        "id": "VpaV1gOn4Pm2"
      }
    },
    {
      "cell_type": "markdown",
      "source": [
        "### **task 3:** multiply 2 of 100x100x100 tensors\n",
        "\n",
        "hint: `np.random.randint(100, size=(100,100,100))`"
      ],
      "metadata": {
        "id": "dqNfZqtZ4QiL"
      }
    },
    {
      "cell_type": "code",
      "source": [
        "N = 100\n",
        "a = np.random.randint(10, size=(N,N,N))\n",
        "b = np.random.randint(10, size=(N,N,N))"
      ],
      "metadata": {
        "id": "m0cjb_AD4eSr"
      },
      "execution_count": 81,
      "outputs": []
    },
    {
      "cell_type": "code",
      "source": [
        "a.shape"
      ],
      "metadata": {
        "colab": {
          "base_uri": "https://localhost:8080/"
        },
        "id": "jFVZOko54jcY",
        "outputId": "54dcd546-e802-4dc6-c940-28b8f4ecbf27"
      },
      "execution_count": 82,
      "outputs": [
        {
          "output_type": "execute_result",
          "data": {
            "text/plain": [
              "(100, 100, 100)"
            ]
          },
          "metadata": {},
          "execution_count": 82
        }
      ]
    },
    {
      "cell_type": "code",
      "source": [
        "%timeit a * b"
      ],
      "metadata": {
        "colab": {
          "base_uri": "https://localhost:8080/"
        },
        "id": "HFwIFxKy4nBD",
        "outputId": "f6ce2f23-7140-4ea1-e869-e2d0d1d33243"
      },
      "execution_count": 83,
      "outputs": [
        {
          "output_type": "stream",
          "name": "stdout",
          "text": [
            "1.03 ms ± 39.9 µs per loop (mean ± std. dev. of 7 runs, 1000 loops each)\n"
          ]
        }
      ]
    },
    {
      "cell_type": "code",
      "metadata": {
        "id": "RuUWFzLzV5EI"
      },
      "source": [
        "import tensorflow as tf"
      ],
      "execution_count": 84,
      "outputs": []
    },
    {
      "cell_type": "code",
      "source": [
        "A = tf.convert_to_tensor(a)\n",
        "B = tf.convert_to_tensor(b)"
      ],
      "metadata": {
        "id": "LP53DZLr5A3B"
      },
      "execution_count": 85,
      "outputs": []
    },
    {
      "cell_type": "code",
      "metadata": {
        "colab": {
          "base_uri": "https://localhost:8080/"
        },
        "id": "FoGpy83tcZMh",
        "outputId": "ef0bb66a-dbb2-4b16-d9e9-5afb49b3666d"
      },
      "source": [
        "%timeit A * B"
      ],
      "execution_count": 86,
      "outputs": [
        {
          "output_type": "stream",
          "name": "stdout",
          "text": [
            "96.2 µs ± 7.6 ns per loop (mean ± std. dev. of 7 runs, 10000 loops each)\n"
          ]
        }
      ]
    },
    {
      "cell_type": "code",
      "source": [
        "import jax.numpy as jnp"
      ],
      "metadata": {
        "id": "6bIkxTQp6eQJ"
      },
      "execution_count": 87,
      "outputs": []
    },
    {
      "cell_type": "code",
      "source": [
        "A = jnp.array(a)\n",
        "B = jnp.array(b)"
      ],
      "metadata": {
        "id": "p9Wy31jk6kkx"
      },
      "execution_count": 88,
      "outputs": []
    },
    {
      "cell_type": "code",
      "source": [
        "%timeit A * B"
      ],
      "metadata": {
        "colab": {
          "base_uri": "https://localhost:8080/"
        },
        "id": "OUf3eK9U6zoU",
        "outputId": "f560568d-6ccf-48d8-ac81-c522181a7e0d"
      },
      "execution_count": 89,
      "outputs": [
        {
          "output_type": "stream",
          "name": "stdout",
          "text": [
            "59.7 µs ± 2.38 µs per loop (mean ± std. dev. of 7 runs, 10000 loops each)\n"
          ]
        }
      ]
    },
    {
      "cell_type": "markdown",
      "source": [
        "<br>\n",
        "\n",
        "**Use tensorflow or JAX to accelerate your code using a GPU!**\n",
        "\n",
        "<br>"
      ],
      "metadata": {
        "id": "SSMKRFYWOx52"
      }
    },
    {
      "cell_type": "markdown",
      "metadata": {
        "id": "z1DRbATkT0FO"
      },
      "source": [
        "## **\"Hello world\" of ML**"
      ]
    },
    {
      "cell_type": "markdown",
      "metadata": {
        "id": "4ah0tcn4iWnr"
      },
      "source": [
        "### **task 4:** generate 2 distinct datagroups each with 100 datapoints using a 2D normal distribution and plot them\n",
        "\n",
        "hint: use `np.random.normal(mean, std, shape)`"
      ]
    },
    {
      "cell_type": "code",
      "metadata": {
        "id": "Fo1-OG8cnruq"
      },
      "source": [
        "import matplotlib.pyplot as plt"
      ],
      "execution_count": 91,
      "outputs": []
    },
    {
      "cell_type": "code",
      "metadata": {
        "id": "p3_Mp-hfnuWS"
      },
      "source": [
        "# Generate random data\n",
        "shape = (100, 2)\n",
        "data1 = np.random.normal(0, 1, shape)\n",
        "data2 = np.random.normal(2, 1, shape)"
      ],
      "execution_count": 108,
      "outputs": []
    },
    {
      "cell_type": "code",
      "metadata": {
        "id": "q8674Zuwn2Nx",
        "colab": {
          "base_uri": "https://localhost:8080/",
          "height": 265
        },
        "outputId": "968af4f2-2b18-44c2-8fc5-2a2138e6ef1c"
      },
      "source": [
        "plt.scatter(data1[:, 0], data1[:, 1])\n",
        "plt.scatter(data2[:, 0], data2[:, 1]);"
      ],
      "execution_count": 109,
      "outputs": [
        {
          "output_type": "display_data",
          "data": {
            "text/plain": [
              "<Figure size 432x288 with 1 Axes>"
            ],
            "image/png": "[encoded data removed]"
          },
          "metadata": {
            "needs_background": "light"
          }
        }
      ]
    },
    {
      "cell_type": "markdown",
      "source": [
        "### **task 5:** stack the data into single array and use K-means clustering algorithm to divide them\n",
        "\n",
        "hint: `from sklearn.cluster import KMeans`"
      ],
      "metadata": {
        "id": "rG_bGE928Luu"
      }
    },
    {
      "cell_type": "code",
      "source": [
        "data = np.concatenate((data1, data2))"
      ],
      "metadata": {
        "id": "kZXzPAmF8GH9"
      },
      "execution_count": 110,
      "outputs": []
    },
    {
      "cell_type": "code",
      "source": [
        "from sklearn.cluster import KMeans"
      ],
      "metadata": {
        "id": "WBGNATfh8d_Y"
      },
      "execution_count": 111,
      "outputs": []
    },
    {
      "cell_type": "code",
      "metadata": {
        "id": "omioKGXjoB6x"
      },
      "source": [
        "kmeans = KMeans(n_clusters=2).fit(data)"
      ],
      "execution_count": 112,
      "outputs": []
    },
    {
      "cell_type": "code",
      "metadata": {
        "id": "DMUDW9MmoOpH",
        "colab": {
          "base_uri": "https://localhost:8080/"
        },
        "outputId": "ff89ff66-e637-4da3-a176-30c3a3785cd8"
      },
      "source": [
        "kmeans"
      ],
      "execution_count": 113,
      "outputs": [
        {
          "output_type": "execute_result",
          "data": {
            "text/plain": [
              "KMeans(n_clusters=2)"
            ]
          },
          "metadata": {},
          "execution_count": 113
        }
      ]
    },
    {
      "cell_type": "code",
      "metadata": {
        "id": "WgcZfjH5oY-B",
        "colab": {
          "base_uri": "https://localhost:8080/"
        },
        "outputId": "41ba58d4-8459-47ef-96b9-06e673d2a69b"
      },
      "source": [
        "kmeans.labels_"
      ],
      "execution_count": 114,
      "outputs": [
        {
          "output_type": "execute_result",
          "data": {
            "text/plain": [
              "array([1, 1, 1, 1, 1, 1, 0, 1, 0, 1, 1, 1, 1, 0, 1, 1, 1, 1, 1, 1, 1, 1,\n",
              "       1, 1, 1, 1, 1, 1, 1, 1, 1, 1, 1, 1, 1, 1, 0, 1, 1, 1, 1, 1, 1, 1,\n",
              "       1, 1, 1, 0, 1, 1, 0, 1, 1, 1, 1, 1, 1, 0, 1, 1, 1, 1, 1, 1, 1, 1,\n",
              "       0, 1, 1, 1, 1, 1, 1, 1, 0, 1, 1, 1, 1, 1, 1, 1, 1, 0, 1, 1, 1, 1,\n",
              "       1, 1, 1, 0, 1, 1, 1, 1, 1, 1, 0, 1, 0, 0, 0, 0, 0, 0, 0, 0, 0, 0,\n",
              "       0, 0, 0, 0, 0, 0, 0, 0, 0, 0, 0, 0, 0, 0, 0, 0, 0, 0, 0, 0, 0, 0,\n",
              "       0, 0, 0, 0, 0, 0, 0, 1, 0, 0, 0, 0, 0, 0, 0, 0, 0, 0, 1, 0, 0, 0,\n",
              "       0, 0, 1, 0, 0, 0, 0, 0, 0, 0, 0, 0, 0, 0, 0, 0, 0, 0, 0, 0, 0, 0,\n",
              "       0, 1, 0, 1, 0, 0, 1, 0, 0, 0, 0, 0, 0, 0, 0, 0, 0, 0, 0, 0, 1, 0,\n",
              "       0, 0], dtype=int32)"
            ]
          },
          "metadata": {},
          "execution_count": 114
        }
      ]
    },
    {
      "cell_type": "code",
      "metadata": {
        "id": "XNLAqC3Anohi",
        "colab": {
          "base_uri": "https://localhost:8080/",
          "height": 282
        },
        "outputId": "7d55da69-0fa5-4c9c-a711-f7229b31565b"
      },
      "source": [
        "plt.scatter(data[:, 0], data[:, 1], c=kmeans.labels_)"
      ],
      "execution_count": 115,
      "outputs": [
        {
          "output_type": "execute_result",
          "data": {
            "text/plain": [
              "<matplotlib.collections.PathCollection at 0x7f37f42ff8d0>"
            ]
          },
          "metadata": {},
          "execution_count": 115
        },
        {
          "output_type": "display_data",
          "data": {
            "text/plain": [
              "<Figure size 432x288 with 1 Axes>"
            ],
            "image/png": "[encoded data removed]"
          },
          "metadata": {
            "needs_background": "light"
          }
        }
      ]
    },
    {
      "cell_type": "markdown",
      "source": [
        "### **task 6:** estimate how many datapoints were clustered incorrectly and plot them"
      ],
      "metadata": {
        "id": "CUn4UJsKPxcw"
      }
    },
    {
      "cell_type": "code",
      "metadata": {
        "id": "1wWbLhwLofW4",
        "colab": {
          "base_uri": "https://localhost:8080/"
        },
        "outputId": "73251054-a34b-481c-d648-329c30809029"
      },
      "source": [
        "labels = np.zeros(200)\n",
        "labels[:100] = 1\n",
        "\n",
        "sum(kmeans.labels_ == labels) / len(labels) * 100"
      ],
      "execution_count": 116,
      "outputs": [
        {
          "output_type": "execute_result",
          "data": {
            "text/plain": [
              "90.5"
            ]
          },
          "metadata": {},
          "execution_count": 116
        }
      ]
    },
    {
      "cell_type": "code",
      "metadata": {
        "id": "D6XvH8q1o6YI",
        "colab": {
          "base_uri": "https://localhost:8080/",
          "height": 265
        },
        "outputId": "fc930270-7f6d-4c40-e132-3bd66e739350"
      },
      "source": [
        "plt.scatter(data1[:, 0], data1[:, 1])\n",
        "plt.scatter(data2[:, 0], data2[:, 1])\n",
        "plt.scatter(data[:, 0], data[:, 1], marker=\"+\", c=\"black\", s=np.logical_not(kmeans.labels_==labels)*70);"
      ],
      "execution_count": 117,
      "outputs": [
        {
          "output_type": "display_data",
          "data": {
            "text/plain": [
              "<Figure size 432x288 with 1 Axes>"
            ],
            "image/png": "[encoded data removed]"
          },
          "metadata": {
            "needs_background": "light"
          }
        }
      ]
    },
    {
      "cell_type": "markdown",
      "metadata": {
        "id": "yn2c1YOP-W2z"
      },
      "source": [
        "## **[OpenAI Codex](https://beta.openai.com/playground)**\n",
        "\n",
        "'''\\\n",
        "Generate 2 distinct datagroups each with 100 datapoints using a 2D normal distribution and plot them.\\\n",
        "Stack the data into single array and use K-means clustering algorithm to divide them.\\\n",
        "Estimate how many datapoints were clustered incorrectly and plot them.\\\n",
        "'''"
      ]
    },
    {
      "cell_type": "code",
      "metadata": {
        "id": "DSIQoT1JfuJC",
        "colab": {
          "base_uri": "https://localhost:8080/",
          "height": 530
        },
        "outputId": "137b8568-3939-4b43-e591-5f9db4e9c86e"
      },
      "source": [
        "import numpy as np\n",
        "import matplotlib.pyplot as plt\n",
        "from sklearn.cluster import KMeans\n",
        "\n",
        "# Generate 2 distinct datagroups each with 100 datapoints using a 2D normal distribution\n",
        "# and plot them.\n",
        "\n",
        "# Generate 2D normal distribution\n",
        "mean = [0, 0]\n",
        "cov = [[1, 0], [0, 1]]\n",
        "x, y = np.random.multivariate_normal(mean, cov, 100).T\n",
        "\n",
        "# Generate 2D normal distribution\n",
        "mean = [5, 5]\n",
        "cov = [[1, 0], [0, 1]]\n",
        "x1, y1 = np.random.multivariate_normal(mean, cov, 100).T\n",
        "\n",
        "# Plot the data\n",
        "plt.plot(x, y, 'x')\n",
        "plt.plot(x1, y1, 'x')\n",
        "plt.axis('equal')\n",
        "plt.show()\n",
        "\n",
        "# Stack the data into single array and use K-means clustering algorithm to divide them.\n",
        "\n",
        "# Stack the data\n",
        "X = np.vstack((np.vstack((x, y)).T, np.vstack((x1, y1)).T))\n",
        "\n",
        "# Use K-means clustering algorithm to divide them\n",
        "kmeans = KMeans(n_clusters=2, random_state=0).fit(X)\n",
        "\n",
        "# Estimate how many datapoints were clustered incorrectly and plot them.\n",
        "\n",
        "# Estimate how many datapoints were clustered incorrectly\n",
        "incorrect = 0\n",
        "for i in range(len(X)):\n",
        "    if kmeans.labels_[i] != i // 100:\n",
        "        incorrect += 1\n",
        "\n",
        "# Plot the data\n",
        "plt.plot(x, y, 'x')\n",
        "plt.plot(x1, y1, 'x')\n",
        "plt.axis('equal')\n",
        "plt.show()\n",
        "\n",
        "# Print the result\n",
        "print(\"Number of incorrectly clustered datapoints: \", incorrect)"
      ],
      "execution_count": 101,
      "outputs": [
        {
          "output_type": "display_data",
          "data": {
            "text/plain": [
              "<Figure size 432x288 with 1 Axes>"
            ],
            "image/png": "[encoded data removed]"
          },
          "metadata": {
            "needs_background": "light"
          }
        },
        {
          "output_type": "display_data",
          "data": {
            "text/plain": [
              "<Figure size 432x288 with 1 Axes>"
            ],
            "image/png": "[encoded data removed]"
          },
          "metadata": {
            "needs_background": "light"
          }
        },
        {
          "output_type": "stream",
          "name": "stdout",
          "text": [
            "Number of incorrectly clustered datapoints:  200\n"
          ]
        }
      ]
    },
    {
      "cell_type": "markdown",
      "source": [
        "## **KvIS**\n",
        "\n",
        "https://is.muni.cz/auth/kvis/spusteni?fakulta=1431;obdobi=8903;predmet=1477743;kvis_id=481;uv_id=849995"
      ],
      "metadata": {
        "id": "WeXK-s1Dgx9Y"
      }
    }
  ]
}