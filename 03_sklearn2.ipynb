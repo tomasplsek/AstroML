{
  "nbformat": 4,
  "nbformat_minor": 0,
  "metadata": {
    "colab": {
      "name": "01_uvod.ipynb",
      "provenance": [],
      "collapsed_sections": [],
      "toc_visible": true,
      "mount_file_id": "https://github.com/tomasplsek/AstroML/blob/main/01_uvod.ipynb",
      "authorship_tag": "ABX9TyOpoDLJ458Bx6zzbO99FtZE",
      "include_colab_link": true
    },
    "kernelspec": {
      "name": "python3",
      "display_name": "Python 3"
    },
    "language_info": {
      "name": "python"
    },
    "accelerator": "GPU"
  },
  "cells": [
    {
      "cell_type": "markdown",
      "metadata": {
        "id": "view-in-github",
        "colab_type": "text"
      },
      "source": [
        "<a href=\"https://colab.research.google.com/github/tomasplsek/AstroML/blob/main/03_sklearn2.ipynb\" target=\"_parent\"><img src=\"https://colab.research.google.com/assets/colab-badge.svg\" alt=\"Open In Colab\"/></a>"
      ]
    },
    {
      "cell_type": "markdown",
      "metadata": {
        "id": "uOHZeYnyBsZK"
      },
      "source": [
        "# **Introduction to Machine learning for astronomers in Python**\n",
        "\n",
        "\n"
      ]
    },
    {
      "cell_type": "markdown",
      "metadata": {
        "id": "w5pcm7J6fqxK"
      },
      "source": [
        "# 3. hands-on session: **Random trees and forests, feature importance, grid search**"
      ]
    },
    {
      "cell_type": "markdown",
      "metadata": {
        "id": "qXE0gT_O3l-l"
      },
      "source": [
        "## **Contents**\n",
        "\n",
        "1. Various classifiers\n",
        "2. Finding best hyperparameters\n",
        "3. Grid vs random search\n",
        "4. Ensemble methods"
      ]
    },
    {
      "cell_type": "code",
      "metadata": {
        "id": "93lNl7rt3ftZ"
      },
      "source": [
        ""
      ],
      "execution_count": null,
      "outputs": []
    },
    {
      "cell_type": "markdown",
      "metadata": {
        "id": "D_pSaCWM3gec"
      },
      "source": [
        "## **Ensemble methods**"
      ]
    },
    {
      "cell_type": "code",
      "metadata": {
        "id": "74LOO_X53fwS"
      },
      "source": [
        ""
      ],
      "execution_count": null,
      "outputs": []
    },
    {
      "cell_type": "code",
      "metadata": {
        "id": "bIINmfBn3fzA"
      },
      "source": [
        ""
      ],
      "execution_count": null,
      "outputs": []
    },
    {
      "cell_type": "code",
      "metadata": {
        "id": "9Uvk2gjj3f1n"
      },
      "source": [
        ""
      ],
      "execution_count": null,
      "outputs": []
    },
    {
      "cell_type": "code",
      "metadata": {
        "id": "V5bFuM79UNXw",
        "colab": {
          "base_uri": "https://localhost:8080/"
        },
        "outputId": "0dea338d-32bd-4262-c3a2-12e873a48790"
      },
      "source": [
        "import numpy as np\n",
        "import matplotlib.pyplot as plt\n",
        "from sklearn.ensemble import RandomForestClassifier, BaggingClassifier\n",
        "from sklearn.model_selection import train_test_split\n",
        "from sklearn.metrics import accuracy_score\n",
        "\n",
        "# generate data\n",
        "mean1 = [2, 0]\n",
        "cov1 = [[1, 0.1], [0.1, 1]]\n",
        "mean2 = [0, 2.5]\n",
        "cov2 = [[1, 0.1], [0.1, 1]]\n",
        "dist1 = np.random.multivariate_normal(mean1, cov1, 500)\n",
        "dist2 = np.random.multivariate_normal(mean2, cov2, 500)\n",
        "\n",
        "X_train, X_test, y_train, y_test = train_test_split(data[:, :2], data[:, -1])\n",
        "\n",
        "# train the model\n",
        "#model = RandomForestClassifier()\n",
        "model = BaggingClassifier()\n",
        "model.fit(X_train, y_train)\n",
        "\n",
        "y_pred = model.predict(X_test)\n",
        "\n",
        "# find accuracy\n",
        "accuracy = accuracy_score(y_test, y_pred)\n",
        "accuracy"
      ],
      "execution_count": 20,
      "outputs": [
        {
          "output_type": "execute_result",
          "data": {
            "text/plain": [
              "0.808"
            ]
          },
          "metadata": {},
          "execution_count": 20
        }
      ]
    },
    {
      "cell_type": "code",
      "metadata": {
        "id": "hbnW2C7wfanU"
      },
      "source": [
        ""
      ],
      "execution_count": 14,
      "outputs": []
    },
    {
      "cell_type": "code",
      "metadata": {
        "id": "DFiEczuEwtvw"
      },
      "source": [
        ""
      ],
      "execution_count": null,
      "outputs": []
    },
    {
      "cell_type": "markdown",
      "metadata": {
        "id": "bhE4ST82ehcl"
      },
      "source": [
        "# OpenAI"
      ]
    },
    {
      "cell_type": "code",
      "metadata": {
        "colab": {
          "base_uri": "https://localhost:8080/",
          "height": 317
        },
        "id": "dOJNpxTHefuo",
        "outputId": "ba524734-5aac-4048-d1b6-f430cda1795c"
      },
      "source": [
        "'''\n",
        "1. generate 2 dimesional data with two distinct classes.\n",
        "2. classify the data using random forest classifier.\n",
        "3. find best hyperparameters using grid search.\n",
        "'''\n",
        "\n",
        "import numpy as np\n",
        "import matplotlib.pyplot as plt\n",
        "from sklearn.ensemble import RandomForestClassifier\n",
        "from sklearn.model_selection import train_test_split\n",
        "from sklearn.metrics import accuracy_score\n",
        "\n",
        "# generate data\n",
        "mean1 = [1, 0]\n",
        "cov1 = [[1, 0.1], [0.1, 1]]\n",
        "mean2 = [0, 1.5]\n",
        "cov2 = [[1, 0.1], [0.1, 1]]\n",
        "dist1 = np.random.multivariate_normal(mean1, cov1, 500)\n",
        "dist2 = np.random.multivariate_normal(mean2, cov2, 500)\n",
        "\n",
        "# plot data\n",
        "plt.scatter(dist1[:, 0], dist1[:, 1], color='red')\n",
        "plt.scatter(dist2[:, 0], dist2[:, 1], color='green')\n",
        "plt.show()\n",
        "\n",
        "# prepare data for classification\n",
        "data = np.zeros((1000, 3))\n",
        "data[:500, :2] = dist1\n",
        "data[500:, :2] = dist2\n",
        "data[500:, -1] = 1\n",
        "\n",
        "# split data into training and testing\n",
        "X_train, X_test, y_train, y_test = train_test_split(data[:, :2], data[:, -1])\n",
        "\n",
        "# train the model\n",
        "model = RandomForestClassifier()\n",
        "model.fit(X_train, y_train)\n",
        "\n",
        "# predict\n",
        "y_pred = model.predict(X_test)\n",
        "\n",
        "# find accuracy\n",
        "accuracy = accuracy_score(y_test, y_pred)\n",
        "print(accuracy)\n",
        "\n",
        "# find best hyperparameters using grid search\n",
        "from sklearn.model_selection import GridSearchCV\n",
        "\n",
        "params = {'n_estimators': [10, 20, 30], 'max_depth': [2, 5, 7]}\n",
        "\n",
        "grid_search = GridSearchCV(RandomForestClassifier(), params, cv=3, scoring='accuracy')\n",
        "grid_search.fit(X_train, y_train)\n",
        "\n",
        "print(grid_search.best_params_)\n",
        "print(grid_search.best_score_)"
      ],
      "execution_count": 6,
      "outputs": [
        {
          "output_type": "display_data",
          "data": {
            "image/png": "[encoded data removed]",
            "text/plain": [
              "<Figure size 432x288 with 1 Axes>"
            ]
          },
          "metadata": {
            "needs_background": "light"
          }
        },
        {
          "output_type": "stream",
          "name": "stdout",
          "text": [
            "0.788\n",
            "{'max_depth': 5, 'n_estimators': 30}\n",
            "0.8093333333333333\n"
          ]
        }
      ]
    },
    {
      "cell_type": "code",
      "metadata": {
        "id": "mVLIlyByxLlz"
      },
      "source": [
        ""
      ],
      "execution_count": null,
      "outputs": []
    }
  ]
}