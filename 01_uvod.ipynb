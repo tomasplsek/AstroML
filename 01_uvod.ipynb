{
  "nbformat": 4,
  "nbformat_minor": 0,
  "metadata": {
    "colab": {
      "name": "01_uvod.ipynb",
      "provenance": [],
      "collapsed_sections": [],
      "toc_visible": true,
      "authorship_tag": "ABX9TyNpRrij0EAx6VU+kHn+mIG2",
      "include_colab_link": true
    },
    "kernelspec": {
      "name": "python3",
      "display_name": "Python 3"
    },
    "language_info": {
      "name": "python"
    }
  },
  "cells": [
    {
      "cell_type": "markdown",
      "metadata": {
        "id": "view-in-github",
        "colab_type": "text"
      },
      "source": [
        "<a href=\"https://colab.research.google.com/github/tomasplsek/AstroML/blob/main/01_uvod.ipynb\" target=\"_parent\"><img src=\"https://colab.research.google.com/assets/colab-badge.svg\" alt=\"Open In Colab\"/></a>"
      ]
    },
    {
      "cell_type": "markdown",
      "metadata": {
        "id": "uOHZeYnyBsZK"
      },
      "source": [
        "# **Introduction to Machine learning for astronomers in Python**\n",
        "\n",
        "\n"
      ]
    },
    {
      "cell_type": "markdown",
      "metadata": {
        "id": "GGAqtXiTHfxc"
      },
      "source": [
        "> - 6-7 lectures\n",
        "- 6 hands-on sessions\n",
        "- final project\n",
        "\n",
        "\n",
        "<div style=\"\">\n",
        "<img src=\"https://drive.google.com/uc?export=view&id=1PVaglpQVQ8SztKgdBpJhWqNq8Se9SNlq\" height=\"160px\" align=\"right\">\n",
        "\n",
        "<img src=\"https://cdn.muni.cz/media/3289673/matejkosiba.jpg?mode=crop&center=0.53,0.57&rnd=132563180850000000&width=179\" height=\"160px\" align=\"right\">\n",
        "\n",
        "<img src=\"https://cdn.muni.cz/media/3291288/toastm.jpg?mode=crop&center=0.5,0.5&rnd=132569108280000000&width=179\" height=\"160px\" align=\"right\">\n",
        "\n",
        "\\\\\n",
        "### **Timetable**\n",
        ">16.9. - 1st lecture\\\n",
        "23.9. - Tomáš: *Intro to Colab / Jupyter*\\\n",
        "30.9. - Dean's leave\\\n",
        "7.10. - 2nd lecture\\\n",
        "14.10. - \\\n",
        "21.10. - 3rd lecture\\\n",
        "28.10. - \\\n",
        "4.11. - 4th lecture\\\n",
        "11.11. - \\\n",
        "18.11. - 5th lecture\\\n",
        "25.11. - Tomáš: *Intro to neural networks*\\\n",
        "2.12. - 6th lecture\\\n",
        "9.12. - \\\n",
        "16.12. - 7th lecture\\\n",
        "23.12. - ???"
      ]
    },
    {
      "cell_type": "markdown",
      "metadata": {
        "id": "MzfUv0CzSM8U"
      },
      "source": [
        "</div>\n",
        "\n",
        "> **Tomáš Plšek**\n",
        "> <br><br>\n",
        "> email: <a href=\"mailto:plsek@physics.muni.cz\">plsek@physics.muni.cz</a>\\\n",
        "> github: [tomasplsek](https://github.com/tomasplsek)\\\n",
        "> web: [physics.muni.cz/~plsek](https://www.physics.muni.cz/~plsek/)\\\n",
        "> office: [building 8 (math), 4th floor, last door to the left](https://is.muni.cz/auth/kontakty/mistnost?id=10454)"
      ]
    },
    {
      "cell_type": "markdown",
      "metadata": {
        "id": "wRhLdSG9XF83"
      },
      "source": [
        "# 1. hands-on session: **Intro to Colab / Jupyter**"
      ]
    },
    {
      "cell_type": "markdown",
      "metadata": {
        "id": "Mog5i70hzAXg"
      },
      "source": [
        "## **Contents**\n",
        "\n",
        "\n",
        "\n",
        "1.   What is machine learning?\n",
        "2.   Hardware / software\n",
        "3.   Google Colab / Conda + Jupyter\n",
        "4.   Basics of Python\n",
        "5.   \"Hello world\" of ML\n",
        "6.   What can I do with ML?\n",
        "7.   CADET\n",
        "8.   OpenAI Codex"
      ]
    },
    {
      "cell_type": "markdown",
      "metadata": {
        "id": "pJ6uaY6Czzm4"
      },
      "source": [
        "## **What is Machine learning?**\n",
        "\n",
        "Machine Learning is a set of algorithms with tunable parameters that can learn and adjust the values of these parameters from previously seen data and generalising for prediction of new yet unseen data.\n",
        "\n",
        "<img src=\"https://drive.google.com/uc?export=view&id=1iCTWs8F4-fxZgqOi3opWPg_PRB3Xgd92\" height=\"340px\" align=\"left\">\n",
        "\n",
        "<img src=\"https://drive.google.com/uc?export=view&id=11faQQUfu0XGwcpItsXronTO9Bs1B4SRg\" height=\"340px\" align=\"right\">"
      ]
    },
    {
      "cell_type": "markdown",
      "metadata": {
        "id": "KxAysN8s6-Tu"
      },
      "source": [
        "### **Why now?**\n",
        "1943 - Neural networks\\\n",
        "1957 - **Perceptron** (Frank Rosenblatt)\\\n",
        "1967 -  **Nearest neighbor algorithm**\\\n",
        "...\\\n",
        "2006 - Deep Learning\\\n",
        "2016 - Alpha Go\\\n",
        "2021 - selfdriving cars"
      ]
    },
    {
      "cell_type": "markdown",
      "metadata": {
        "id": "nubcLWsQBsWK"
      },
      "source": [
        "<img src=\"https://drive.google.com/uc?export=view&id=19rLShDospF7mDvaWn9aJtVPePeNV0SQx\" width=\"460px\" align=\"right\">\n",
        "\n",
        "## **Hardware**\n",
        "\n",
        "*   **CPU** = *central processing unit*\\\n",
        "    \\- in every computer / mobile phone\\\n",
        "    \\- scalar operations\\\n",
        "    \\- integrated GPUs\\\n",
        "    \\- multiple cores / threads (parallelizable)\\\n",
        "    \\- Intel, AMD\n",
        "\n",
        "<br>\n",
        "\n",
        "<img src=\"https://drive.google.com/uc?export=view&id=1m5eUCkodoLlHpW6JsABUOVOVm_nn2Gtr\" width=\"460px\" align=\"right\">\n",
        "\n",
        "\n",
        "*   **GPU** = *graphical processing unit*\\\n",
        "    \\- vector operations\\\n",
        "    \\- graphics and games\\\n",
        "    \\- dedicated: NVIDIA, AMD\n",
        "\n",
        "<br>\n",
        "\n",
        "*   **TPU** = *tensor processing unit*\\\n",
        "    \\- tensor operations\\\n",
        "    \\- developed by Google for Tensorflow\\\n",
        "    \\- narrow utilization field\n",
        "\n",
        "<br>\n",
        "\n",
        "\n"
      ]
    },
    {
      "cell_type": "markdown",
      "metadata": {
        "id": "56ZXgZNCBsO4"
      },
      "source": [
        "## **Software**\n",
        "\n",
        "Libraries for comunication with GPU:\n",
        "\n",
        "<img src=\"https://www.nvidia.com/etc/designs/nvidiaGDC/clientlibs_base/images/NVIDIA-Logo.svg\" height=\"50px\" align=\"right\">\n",
        "\n",
        "*   CUDA = NVIDIA libraries ([toolkit](https://developer.nvidia.com/cuda-toolkit-archive), [cuDNN](https://developer.nvidia.com/rdp/cudnn-download))\\\n",
        "    \\- GPU acceleration (Win & Linux)\\\n",
        "    \\- lower level\n",
        "\n",
        "<br>\n",
        "\n",
        "Higher level libraries are being developed mostly for Python:\n",
        "\n",
        "<img src=\"https://scikit-learn.org/stable/_static/scikit-learn-logo-small.png\" height=\"50px\" align=\"right\">\n",
        "\n",
        "*   [scikit-learn](https://scikit-learn.org/stable/)\\\n",
        "    \\- set of general ML tools\n",
        "\n",
        "<img src=\"https://www.gstatic.com/devrel-devsite/prod/v509a5f4800978e3ce5a1a5f2c1483bd166c25f20fdb759fe97f6131b7e9f1f00/tensorflow/images/lockup.svg\" height=\"50px\" align=\"right\">\n",
        "\n",
        "*   [tensorflow](https://www.tensorflow.org/)\\\n",
        "    \\- matrix and tensor computations\\\n",
        "    \\- using CUDA and GPU ([install](https://www.tensorflow.org/install/gpu), [setup](https://www.tensorflow.org/guide/gpu))\n",
        "\n",
        "<img src=\"https://keras.io/img/logo.png\" height=\"50px\" align=\"right\">\n",
        "\n",
        "*   [keras](https://keras.io/)\\\n",
        "    \\- on top of tensorflow\\\n",
        "    \\- neural networks (dense & convolutional layers)\n",
        "\n",
        "*   others: [pyTorch](https://pytorch.org/), Theano\n",
        "\n",
        "<br>\n",
        "\n",
        "Programing environments:\n",
        "\n",
        "<div style=\"display:table\">\n",
        "\n",
        "<img src=\"https://colab.research.google.com/img/colab_favicon_256px.png\" height=\"90px\" align=\"right\">\n",
        "\n",
        "<img src=\"https://jupyter.org/assets/main-logo.svg\" height=\"90px\" align=\"right\" style=\"margin-right:100px\">\n",
        "\n",
        "</div>\n",
        "\n",
        "\n",
        "*   [Conda](https://www.anaconda.com/products/individual) + [Jupyter](https://jupyter.org/) notebook/lab\n",
        "\n",
        "*   Google Colab"
      ]
    },
    {
      "cell_type": "markdown",
      "metadata": {
        "id": "ORuaA4ZQOhO3"
      },
      "source": [
        "## **Conda + Jupyterlab**\n",
        "\n",
        "Win10: [WSL](https://docs.microsoft.com/en-us/windows/wsl/install) + Ubuntu\\\n",
        "Linux: terminal\n",
        "\n",
        "[Conda](https://www.anaconda.com/products/individual)"
      ]
    },
    {
      "cell_type": "markdown",
      "metadata": {
        "id": "eLclsAQTVO5H"
      },
      "source": [
        "## **Google Colab**\n",
        "\n",
        "- access to notebooks and files from **Google drive** and **GitHub**\n",
        "- share notebooks\n",
        "- GPU / TPU acceleration\n",
        "- plenty of preinstalled packages (```numpy```, ```scipy```, ```matplotlib```, ```keras```, ```tensorflow```...)\n",
        "- bash shell commands ```!```\n",
        "- new packages are easy to install: ```!pip install corner```\n",
        "- [magical commands](https://ipython.readthedocs.io/en/stable/interactive/magics.html) ```%```\n",
        "- include markdown or HTML blocks\n",
        "- get help"
      ]
    },
    {
      "cell_type": "code",
      "metadata": {
        "id": "7-4pg3boVDZa"
      },
      "source": [
        "from google.colab import drive\n",
        "drive.mount('/content/drive', force_remount=True)"
      ],
      "execution_count": null,
      "outputs": []
    },
    {
      "cell_type": "code",
      "metadata": {
        "id": "Ch8c25Amzwnv",
        "colab": {
          "base_uri": "https://localhost:8080/"
        },
        "outputId": "1adbe0b5-425e-49dc-9a0b-6b6ef376e7c4"
      },
      "source": [
        "import tensorflow as tf\n",
        "print(\"Num GPUs Available: \", len(tf.config.list_physical_devices('GPU')))"
      ],
      "execution_count": 1,
      "outputs": [
        {
          "output_type": "stream",
          "name": "stdout",
          "text": [
            "Num GPUs Available:  0\n"
          ]
        }
      ]
    },
    {
      "cell_type": "code",
      "metadata": {
        "id": "EHWQwYG91RUS"
      },
      "source": [
        ""
      ],
      "execution_count": null,
      "outputs": []
    },
    {
      "cell_type": "code",
      "metadata": {
        "id": "AuSU4S-3VBTD"
      },
      "source": [
        ""
      ],
      "execution_count": null,
      "outputs": []
    },
    {
      "cell_type": "code",
      "metadata": {
        "id": "mD257_HmBbT-"
      },
      "source": [
        ""
      ],
      "execution_count": null,
      "outputs": []
    },
    {
      "cell_type": "code",
      "metadata": {
        "id": "fGsYe8UxFGgT"
      },
      "source": [
        ""
      ],
      "execution_count": null,
      "outputs": []
    },
    {
      "cell_type": "code",
      "metadata": {
        "id": "3vGSQAVJa1k3"
      },
      "source": [
        ""
      ],
      "execution_count": null,
      "outputs": []
    },
    {
      "cell_type": "code",
      "metadata": {
        "id": "5NCXZeOAElv5"
      },
      "source": [
        ""
      ],
      "execution_count": null,
      "outputs": []
    },
    {
      "cell_type": "code",
      "metadata": {
        "id": "_7DCE1HH3FA1"
      },
      "source": [
        ""
      ],
      "execution_count": null,
      "outputs": []
    },
    {
      "cell_type": "code",
      "metadata": {
        "id": "XYiDm2zCGaOo"
      },
      "source": [
        ""
      ],
      "execution_count": null,
      "outputs": []
    },
    {
      "cell_type": "code",
      "metadata": {
        "id": "0bYb4aKd_oRD"
      },
      "source": [
        ""
      ],
      "execution_count": null,
      "outputs": []
    },
    {
      "cell_type": "code",
      "metadata": {
        "id": "7f7s7fIa1PTp"
      },
      "source": [
        ""
      ],
      "execution_count": null,
      "outputs": []
    },
    {
      "cell_type": "code",
      "metadata": {
        "id": "ki0THCp7G2Fb"
      },
      "source": [
        ""
      ],
      "execution_count": null,
      "outputs": []
    },
    {
      "cell_type": "code",
      "metadata": {
        "id": "n4B78gbM_q-S"
      },
      "source": [
        ""
      ],
      "execution_count": null,
      "outputs": []
    },
    {
      "cell_type": "code",
      "metadata": {
        "id": "o7g1WVCUfJYx",
        "colab": {
          "base_uri": "https://localhost:8080/",
          "height": 321
        },
        "outputId": "b1960a2d-b58b-482f-ddf8-4977c5f6f1e7"
      },
      "source": [
        "from IPython.display import YouTubeVideo\n",
        "YouTubeVideo('aDmtKp8Avw4')"
      ],
      "execution_count": 4,
      "outputs": [
        {
          "output_type": "execute_result",
          "data": {
            "text/html": [
              "\n",
              "        <iframe\n",
              "            width=\"400\"\n",
              "            height=\"300\"\n",
              "            src=\"https://www.youtube.com/embed/aDmtKp8Avw4\"\n",
              "            frameborder=\"0\"\n",
              "            allowfullscreen\n",
              "        ></iframe>\n",
              "        "
            ],
            "text/plain": [
              "<IPython.lib.display.YouTubeVideo at 0x7fee98d71ed0>"
            ],
            "image/jpeg": "[encoded data removed]"
          },
          "metadata": {},
          "execution_count": 4
        }
      ]
    },
    {
      "cell_type": "markdown",
      "metadata": {
        "id": "arYFWel9AeWm"
      },
      "source": [
        ""
      ]
    },
    {
      "cell_type": "markdown",
      "metadata": {
        "id": "QKTnkxLbV1pv"
      },
      "source": [
        ""
      ]
    },
    {
      "cell_type": "markdown",
      "metadata": {
        "id": "5xLIHRDdc29-"
      },
      "source": [
        "## **Basics of Python**\n",
        "\n",
        "- object oriented programming language\n",
        "- high level language (implemented using C)\n",
        "- interpreted\n",
        "- open sourced / free to use\n",
        "- plenty of modules (`scipy`, `astropy`, `keras`, `Qt`...)\n",
        "- Python2, **Python3**\n",
        "- NOT ONLY scripting language\n",
        "- computations, programs, graphical interface, webs..."
      ]
    },
    {
      "cell_type": "code",
      "metadata": {
        "id": "Sc7DJB68hZ83",
        "colab": {
          "base_uri": "https://localhost:8080/"
        },
        "outputId": "60d8ce2a-7c55-4244-dc57-25346d986121"
      },
      "source": [
        "import sys\n",
        "print(sys.version)"
      ],
      "execution_count": 5,
      "outputs": [
        {
          "output_type": "stream",
          "name": "stdout",
          "text": [
            "3.7.12 (default, Sep 10 2021, 00:21:48) \n",
            "[GCC 7.5.0]\n"
          ]
        }
      ]
    },
    {
      "cell_type": "markdown",
      "metadata": {
        "id": "BUJGSuJlp8xN"
      },
      "source": [
        "### **Variables**"
      ]
    },
    {
      "cell_type": "code",
      "metadata": {
        "id": "cIdGP4eRv3Es",
        "colab": {
          "base_uri": "https://localhost:8080/"
        },
        "outputId": "6a2c327c-41d9-40db-cfe3-57b9eda2bcec"
      },
      "source": [
        "a = 1\n",
        "b = 4.2\n",
        "c = \"word\"\n",
        "d = [1, 2, 3]\n",
        "e = (1, 2, 3)\n",
        "f = {\"Tomas\" : 1, \"Toast\" : 2, \"Matěj\" : 3}\n",
        "def fun(): pass\n",
        "import numpy\n",
        "from numpy import array\n",
        "g = array([1,2,3])\n",
        "from pandas import DataFrame\n",
        "\n",
        "for i in [a, b, c, d, e, f, fun, numpy, g, DataFrame()]:\n",
        "    print(type(i))"
      ],
      "execution_count": 17,
      "outputs": [
        {
          "output_type": "stream",
          "name": "stdout",
          "text": [
            "<class 'int'>\n",
            "<class 'float'>\n",
            "<class 'str'>\n",
            "<class 'list'>\n",
            "<class 'tuple'>\n",
            "<class 'dict'>\n",
            "<class 'function'>\n",
            "<class 'module'>\n",
            "<class 'numpy.ndarray'>\n",
            "<class 'pandas.core.frame.DataFrame'>\n"
          ]
        }
      ]
    },
    {
      "cell_type": "code",
      "metadata": {
        "id": "2fJcFoLuiFyQ"
      },
      "source": [
        ""
      ],
      "execution_count": 6,
      "outputs": []
    },
    {
      "cell_type": "code",
      "metadata": {
        "id": "G5p0NWLliF68"
      },
      "source": [
        ""
      ],
      "execution_count": 7,
      "outputs": []
    },
    {
      "cell_type": "code",
      "metadata": {
        "id": "4JYjQU6r9Z_x"
      },
      "source": [
        ""
      ],
      "execution_count": 8,
      "outputs": []
    },
    {
      "cell_type": "code",
      "metadata": {
        "id": "tTUkfP1Or0be"
      },
      "source": [
        ""
      ],
      "execution_count": 17,
      "outputs": []
    },
    {
      "cell_type": "code",
      "metadata": {
        "id": "4pwFxkUFr03F"
      },
      "source": [
        ""
      ],
      "execution_count": 17,
      "outputs": []
    },
    {
      "cell_type": "code",
      "metadata": {
        "id": "kzYrujdyr8YC"
      },
      "source": [
        ""
      ],
      "execution_count": 17,
      "outputs": []
    },
    {
      "cell_type": "code",
      "metadata": {
        "id": "dEglHnpgsA9k"
      },
      "source": [
        ""
      ],
      "execution_count": 17,
      "outputs": []
    },
    {
      "cell_type": "markdown",
      "metadata": {
        "id": "_FUsvJWkqBSP"
      },
      "source": [
        "### **Methods**"
      ]
    },
    {
      "cell_type": "code",
      "metadata": {
        "id": "c-GfWFkQqKY0"
      },
      "source": [
        ""
      ],
      "execution_count": null,
      "outputs": []
    },
    {
      "cell_type": "code",
      "metadata": {
        "id": "-EomYUkTqOF4"
      },
      "source": [
        ""
      ],
      "execution_count": null,
      "outputs": []
    },
    {
      "cell_type": "code",
      "metadata": {
        "id": "PqdxGzlfR0Hd"
      },
      "source": [
        ""
      ],
      "execution_count": null,
      "outputs": []
    },
    {
      "cell_type": "code",
      "metadata": {
        "id": "qG0Tuk3nnF9I"
      },
      "source": [
        ""
      ],
      "execution_count": null,
      "outputs": []
    },
    {
      "cell_type": "code",
      "metadata": {
        "id": "lR_JqpkEnGHB"
      },
      "source": [
        ""
      ],
      "execution_count": null,
      "outputs": []
    },
    {
      "cell_type": "code",
      "metadata": {
        "id": "k_fFUe2NnMZT"
      },
      "source": [
        ""
      ],
      "execution_count": null,
      "outputs": []
    },
    {
      "cell_type": "code",
      "metadata": {
        "id": "r_7GyElMcOxu"
      },
      "source": [
        ""
      ],
      "execution_count": null,
      "outputs": []
    },
    {
      "cell_type": "code",
      "metadata": {
        "id": "jXizXTtDcRNO"
      },
      "source": [
        ""
      ],
      "execution_count": null,
      "outputs": []
    },
    {
      "cell_type": "code",
      "metadata": {
        "id": "_39ZngUDcTnB"
      },
      "source": [
        ""
      ],
      "execution_count": null,
      "outputs": []
    },
    {
      "cell_type": "code",
      "metadata": {
        "id": "7Kt87mF2cWH2"
      },
      "source": [
        ""
      ],
      "execution_count": null,
      "outputs": []
    },
    {
      "cell_type": "code",
      "metadata": {
        "id": "Uf1t0w_CAcKp"
      },
      "source": [
        ""
      ],
      "execution_count": null,
      "outputs": []
    },
    {
      "cell_type": "code",
      "metadata": {
        "id": "bCYFowg7AgPk"
      },
      "source": [
        ""
      ],
      "execution_count": null,
      "outputs": []
    },
    {
      "cell_type": "code",
      "metadata": {
        "id": "Tkd2F-ZaAhqY"
      },
      "source": [
        ""
      ],
      "execution_count": null,
      "outputs": []
    },
    {
      "cell_type": "code",
      "metadata": {
        "id": "OEsliTN9v3IM"
      },
      "source": [
        ""
      ],
      "execution_count": null,
      "outputs": []
    },
    {
      "cell_type": "code",
      "metadata": {
        "id": "PUGZ9S1Ypgk3"
      },
      "source": [
        ""
      ],
      "execution_count": null,
      "outputs": []
    },
    {
      "cell_type": "code",
      "metadata": {
        "id": "L-FJel2Lpj-I"
      },
      "source": [
        ""
      ],
      "execution_count": null,
      "outputs": []
    },
    {
      "cell_type": "code",
      "metadata": {
        "id": "G7sRbLRXpnCO"
      },
      "source": [
        ""
      ],
      "execution_count": null,
      "outputs": []
    },
    {
      "cell_type": "code",
      "metadata": {
        "id": "WE7zZlajpogD"
      },
      "source": [
        ""
      ],
      "execution_count": null,
      "outputs": []
    },
    {
      "cell_type": "markdown",
      "metadata": {
        "id": "0zEiL1ySdeQ4"
      },
      "source": [
        "### Arrays"
      ]
    },
    {
      "cell_type": "code",
      "metadata": {
        "id": "CZvqgPH_pqTk"
      },
      "source": [
        ""
      ],
      "execution_count": null,
      "outputs": []
    },
    {
      "cell_type": "code",
      "metadata": {
        "id": "tYpeELvKo9po"
      },
      "source": [
        ""
      ],
      "execution_count": null,
      "outputs": []
    },
    {
      "cell_type": "code",
      "metadata": {
        "id": "ih37QjczpEYa"
      },
      "source": [
        ""
      ],
      "execution_count": null,
      "outputs": []
    },
    {
      "cell_type": "markdown",
      "metadata": {
        "id": "r5S3jCQzYRQw"
      },
      "source": [
        "### **task 1:** compute sum of list and %timeit\n",
        "\n",
        "a = [1, 2, 3, ...., 1000]"
      ]
    },
    {
      "cell_type": "code",
      "metadata": {
        "id": "Se8xfZNjYeL9"
      },
      "source": [
        ""
      ],
      "execution_count": null,
      "outputs": []
    },
    {
      "cell_type": "code",
      "metadata": {
        "id": "MyDTVGWVYeO2"
      },
      "source": [
        ""
      ],
      "execution_count": null,
      "outputs": []
    },
    {
      "cell_type": "code",
      "metadata": {
        "id": "AA8hyhJtYeSx"
      },
      "source": [
        ""
      ],
      "execution_count": null,
      "outputs": []
    },
    {
      "cell_type": "code",
      "metadata": {
        "id": "brgCI-hkjf9d"
      },
      "source": [
        ""
      ],
      "execution_count": null,
      "outputs": []
    },
    {
      "cell_type": "code",
      "metadata": {
        "id": "gc1AFpJxUqsQ"
      },
      "source": [
        ""
      ],
      "execution_count": null,
      "outputs": []
    },
    {
      "cell_type": "code",
      "metadata": {
        "id": "DrLRiWCCUuLC"
      },
      "source": [
        ""
      ],
      "execution_count": null,
      "outputs": []
    },
    {
      "cell_type": "code",
      "metadata": {
        "id": "fLSx18h-Yziy"
      },
      "source": [
        ""
      ],
      "execution_count": null,
      "outputs": []
    },
    {
      "cell_type": "code",
      "metadata": {
        "id": "1KMgzsowUw_l"
      },
      "source": [
        ""
      ],
      "execution_count": null,
      "outputs": []
    },
    {
      "cell_type": "code",
      "metadata": {
        "id": "_2OKzAXCU74w"
      },
      "source": [
        ""
      ],
      "execution_count": null,
      "outputs": []
    },
    {
      "cell_type": "code",
      "metadata": {
        "id": "Aqss2_2UU8zr"
      },
      "source": [
        ""
      ],
      "execution_count": null,
      "outputs": []
    },
    {
      "cell_type": "markdown",
      "metadata": {
        "id": "vWSMgFZXvm3b"
      },
      "source": [
        "### **task 2**: multiply two lists and %timeit"
      ]
    },
    {
      "cell_type": "code",
      "metadata": {
        "id": "F6B5Tpu5VV7H"
      },
      "source": [
        ""
      ],
      "execution_count": null,
      "outputs": []
    },
    {
      "cell_type": "code",
      "metadata": {
        "id": "_pplp-rhVuec"
      },
      "source": [
        ""
      ],
      "execution_count": null,
      "outputs": []
    },
    {
      "cell_type": "code",
      "metadata": {
        "id": "witZx777VyCK"
      },
      "source": [
        ""
      ],
      "execution_count": null,
      "outputs": []
    },
    {
      "cell_type": "code",
      "metadata": {
        "id": "HtDRm2V8V3IY"
      },
      "source": [
        ""
      ],
      "execution_count": null,
      "outputs": []
    },
    {
      "cell_type": "code",
      "metadata": {
        "id": "e65Pkl_iWaN9"
      },
      "source": [
        ""
      ],
      "execution_count": null,
      "outputs": []
    },
    {
      "cell_type": "code",
      "metadata": {
        "id": "RuUWFzLzV5EI"
      },
      "source": [
        ""
      ],
      "execution_count": null,
      "outputs": []
    },
    {
      "cell_type": "code",
      "metadata": {
        "id": "9wG_1635WLwS"
      },
      "source": [
        ""
      ],
      "execution_count": null,
      "outputs": []
    },
    {
      "cell_type": "code",
      "metadata": {
        "id": "pMSEDRopcJ9b"
      },
      "source": [
        ""
      ],
      "execution_count": null,
      "outputs": []
    },
    {
      "cell_type": "code",
      "metadata": {
        "id": "VQXXFb1ie8Yh"
      },
      "source": [
        ""
      ],
      "execution_count": null,
      "outputs": []
    },
    {
      "cell_type": "code",
      "metadata": {
        "id": "n9Ut9DpXeNI7"
      },
      "source": [
        ""
      ],
      "execution_count": null,
      "outputs": []
    },
    {
      "cell_type": "code",
      "metadata": {
        "id": "7kB8Jc0ZcUsX"
      },
      "source": [
        ""
      ],
      "execution_count": null,
      "outputs": []
    },
    {
      "cell_type": "code",
      "metadata": {
        "id": "NkA30HcJeR7U"
      },
      "source": [
        ""
      ],
      "execution_count": null,
      "outputs": []
    },
    {
      "cell_type": "code",
      "metadata": {
        "id": "FoGpy83tcZMh"
      },
      "source": [
        ""
      ],
      "execution_count": null,
      "outputs": []
    },
    {
      "cell_type": "markdown",
      "metadata": {
        "id": "z1DRbATkT0FO"
      },
      "source": [
        "## **\"Hello world\" of ML**"
      ]
    },
    {
      "cell_type": "markdown",
      "metadata": {
        "id": "4ah0tcn4iWnr"
      },
      "source": [
        "### **Clustering**\n",
        "\n",
        "Generate 2 randomly distributed groups of points and cluster them using a clustering algorithm."
      ]
    },
    {
      "cell_type": "code",
      "metadata": {
        "id": "Fo1-OG8cnruq"
      },
      "source": [
        ""
      ],
      "execution_count": null,
      "outputs": []
    },
    {
      "cell_type": "code",
      "metadata": {
        "id": "p3_Mp-hfnuWS"
      },
      "source": [
        ""
      ],
      "execution_count": null,
      "outputs": []
    },
    {
      "cell_type": "code",
      "metadata": {
        "id": "o3gEIn8jnxzt"
      },
      "source": [
        ""
      ],
      "execution_count": null,
      "outputs": []
    },
    {
      "cell_type": "code",
      "metadata": {
        "id": "q8674Zuwn2Nx"
      },
      "source": [
        ""
      ],
      "execution_count": null,
      "outputs": []
    },
    {
      "cell_type": "code",
      "metadata": {
        "id": "omioKGXjoB6x"
      },
      "source": [
        ""
      ],
      "execution_count": null,
      "outputs": []
    },
    {
      "cell_type": "code",
      "metadata": {
        "id": "DMUDW9MmoOpH"
      },
      "source": [
        ""
      ],
      "execution_count": null,
      "outputs": []
    },
    {
      "cell_type": "markdown",
      "metadata": {
        "id": "vWybOyo9uIej"
      },
      "source": [
        "### **task 3:** calculate the score"
      ]
    },
    {
      "cell_type": "code",
      "metadata": {
        "id": "WgcZfjH5oY-B"
      },
      "source": [
        ""
      ],
      "execution_count": null,
      "outputs": []
    },
    {
      "cell_type": "code",
      "metadata": {
        "id": "2Yg9-LbPqHmm"
      },
      "source": [
        ""
      ],
      "execution_count": null,
      "outputs": []
    },
    {
      "cell_type": "code",
      "metadata": {
        "id": "XNLAqC3Anohi"
      },
      "source": [
        ""
      ],
      "execution_count": null,
      "outputs": []
    },
    {
      "cell_type": "code",
      "metadata": {
        "id": "1wWbLhwLofW4"
      },
      "source": [
        ""
      ],
      "execution_count": null,
      "outputs": []
    },
    {
      "cell_type": "code",
      "metadata": {
        "id": "D6XvH8q1o6YI"
      },
      "source": [
        ""
      ],
      "execution_count": null,
      "outputs": []
    },
    {
      "cell_type": "markdown",
      "metadata": {
        "id": "BvzWR0QFqYZM"
      },
      "source": [
        "### **Classification**\n",
        "\n",
        "Generate 2 randomly distributed groups of points, train a SVC classifier to distinguish between the groups and test it."
      ]
    },
    {
      "cell_type": "code",
      "metadata": {
        "id": "iAp6MH8HsIVZ"
      },
      "source": [
        ""
      ],
      "execution_count": null,
      "outputs": []
    },
    {
      "cell_type": "code",
      "metadata": {
        "id": "93iKyI1hsNtl"
      },
      "source": [
        ""
      ],
      "execution_count": null,
      "outputs": []
    },
    {
      "cell_type": "code",
      "metadata": {
        "id": "bljvhzU_sZWq"
      },
      "source": [
        ""
      ],
      "execution_count": null,
      "outputs": []
    },
    {
      "cell_type": "code",
      "metadata": {
        "id": "_mjYwh-XspEb"
      },
      "source": [
        ""
      ],
      "execution_count": null,
      "outputs": []
    },
    {
      "cell_type": "code",
      "metadata": {
        "id": "CGiDXuVqsyi2"
      },
      "source": [
        ""
      ],
      "execution_count": null,
      "outputs": []
    },
    {
      "cell_type": "code",
      "metadata": {
        "id": "g0AngodNtj9q"
      },
      "source": [
        ""
      ],
      "execution_count": null,
      "outputs": []
    },
    {
      "cell_type": "markdown",
      "metadata": {
        "id": "toQClvY_tKXa"
      },
      "source": [
        "### **task 4:** compute score and plot which of them were wrong "
      ]
    },
    {
      "cell_type": "code",
      "metadata": {
        "id": "u9GuxDm0s5yC"
      },
      "source": [
        ""
      ],
      "execution_count": null,
      "outputs": []
    },
    {
      "cell_type": "code",
      "metadata": {
        "id": "xAJqBqKst4Vc"
      },
      "source": [
        ""
      ],
      "execution_count": null,
      "outputs": []
    },
    {
      "cell_type": "code",
      "metadata": {
        "id": "fue-cqQgt3cp"
      },
      "source": [
        ""
      ],
      "execution_count": null,
      "outputs": []
    },
    {
      "cell_type": "code",
      "metadata": {
        "id": "NUd63H23ja2U"
      },
      "source": [
        ""
      ],
      "execution_count": null,
      "outputs": []
    },
    {
      "cell_type": "markdown",
      "metadata": {
        "id": "PsGym9jY-WnT"
      },
      "source": [
        "## **What can I do with ML?**\n",
        "\n",
        "Cases when I shouldn't use ML:\n",
        "- simple problems / algorithms\n",
        "- simply codable problems\n",
        "- problems that need to be deterministic\n",
        "- basic mathematics, precise computations\n",
        "\n",
        "\n",
        "Cases when I can use ML:\n",
        "- problems that require human abilities (vision, speech recognition, pattern recognition...)\n",
        "- complex image / video operations\n",
        "- high dimensional problems\n",
        "- big data problems"
      ]
    },
    {
      "cell_type": "markdown",
      "metadata": {
        "id": "A1OoRN2M-WyY"
      },
      "source": [
        "## **CADET**\n",
        "\n",
        "https://github.com/tomasplsek/CADET"
      ]
    },
    {
      "cell_type": "markdown",
      "metadata": {
        "id": "yn2c1YOP-W2z"
      },
      "source": [
        "## **OpenAI Codex**\n",
        "\n",
        "- [beta version](https://beta.openai.com/playground?model=davinci-codex)"
      ]
    },
    {
      "cell_type": "code",
      "metadata": {
        "id": "DSIQoT1JfuJC"
      },
      "source": [
        ""
      ],
      "execution_count": null,
      "outputs": []
    },
    {
      "cell_type": "code",
      "metadata": {
        "id": "V5bFuM79UNXw"
      },
      "source": [
        ""
      ],
      "execution_count": null,
      "outputs": []
    },
    {
      "cell_type": "code",
      "metadata": {
        "id": "hbnW2C7wfanU"
      },
      "source": [
        ""
      ],
      "execution_count": null,
      "outputs": []
    },
    {
      "cell_type": "code",
      "metadata": {
        "id": "DFiEczuEwtvw"
      },
      "source": [
        ""
      ],
      "execution_count": null,
      "outputs": []
    }
  ]
}