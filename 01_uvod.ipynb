{
 "cells": [
  {
   "cell_type": "markdown",
   "metadata": {
    "id": "uOHZeYnyBsZK"
   },
   "source": [
    "# **Introduction to Machine learning for astronomers in Python**\n",
    "\n",
    "\n",
    "<img src=\"https://www.physics.muni.cz/~plsek/img.jpeg\" width=120 align=\"right\" style=\"padding-left:15px\">\n",
    "\n",
    "<img src=\"https://cdn.muni.cz/media/3289673/matejkosiba.jpg?mode=crop&center=0.53,0.57&rnd=132563180850000000&width=179\" width=120 align=\"right\" style=\"padding-left:15px\">\n",
    "\n",
    "<img src=\"https://cdn.muni.cz/media/3291288/toastm.jpg?mode=crop&center=0.5,0.5&rnd=132569108280000000&width=179\" width=161 align=\"right\" style=\"padding:5px\">\n",
    "\n",
    "- taught online, in English?\n",
    "- 50% lectures, 50% practical exercise\n",
    "- taught by Martin Topinka, Matej Kosiba, and Tomáš Plšek\n",
    "- 6 lectures & 7 hands-on sessions\n",
    "- zápočet (final project)\n",
    "\n",
    "\n",
    "### **Contents**\n",
    "\n",
    "- Introduction to Machine Learning, the idea of supervised, non-supervised learning, semi-supervised learning, Classification vs Regression\n",
    "- General concept of Machine Learning, loss function\n",
    "- Popular algorithms such as Support Vector Machine, Bayesian Regression, K-Nearest neighbours\n",
    "- Data (feature) reduction such as Principal Component Analysis\n",
    "- Practical use of scikit-learn Python library\n",
    "- Model validation techniques. Fine-tuning model parameters.\n",
    "- Principles of Deep Learning\n",
    "- Practical use of Keras Deep Learning Python library\n",
    "- Student's own project\n",
    "\n",
    "### **Timetable**\n",
    ">26.9. - **Tomáš Plšek:** Hands-on: *Intro to Colab, Jupyter & Python* \\\n",
    "3.10. - **Martin Topinka:** Lecture: *Basic principles* \\\n",
    "10.10. - **Martin Topinka:** Lecture: *Advanced non-NN algorithms* \\\n",
    "17.10. - **Tomáš Plšek:** Hands-on: *Intro to ML: Star or Quasar?* \\\n",
    "24.10. - **Tomáš Plšek:** Hands-on: *Scikit learn - From Data to Prediction* \\\n",
    "31.10. - **Matej Kosiba:** Lecture: *Intro to neural networks* \\\n",
    "7.11. - **Matej Kosiba:** Hands-on: *Intro to neural networks* \\\n",
    "14.11. - **Matej Kosiba:** Lecture: *Intro to convolutional neural networks* \\\n",
    "21.11. - **Matej Kosiba:** Hands-on: *Intro to convolutional neural networks* \\\n",
    "28.11. - **Martin Topinka:** Lecture: *Upconv & regularization* \\\n",
    "5.12. - **Tomáš Plšek:** Hands-on: *Keras3* \\\n",
    "12.12. - **Tomáš Plšek:** Hands-on: *Tensorboard* \\"
   ]
  },
  {
   "cell_type": "markdown",
   "metadata": {
    "id": "bonPrlisXOGY"
   },
   "source": [
    "## **Introduce yourselves :)**\n",
    "\n",
    "> **Tomáš Plšek**\\\n",
    "> email: <a href=\"mailto:plsek@physics.muni.cz\">plsek@physics.muni.cz</a> \\\n",
    "> github: [tomasplsek](https://github.com/tomasplsek) \\\n",
    "> web: [physics.muni.cz/~plsek](https://www.physics.muni.cz/~plsek/) \\\n",
    "> office: [building 8 (Mathematics), 4th floor, last door to the left](https://is.muni.cz/auth/kontakty/mistnost?id=10454)"
   ]
  },
  {
   "cell_type": "markdown",
   "metadata": {
    "id": "wRhLdSG9XF83"
   },
   "source": [
    "# 1. hands-on session: **Intro to Colab, Jupyter & Python**"
   ]
  },
  {
   "cell_type": "markdown",
   "metadata": {
    "id": "Mog5i70hzAXg"
   },
   "source": [
    "## **Content**\n",
    "\n",
    "1.   What is machine learning?\n",
    "2.   Examples\n",
    "3.   Hardware / software / data\n",
    "4.   Google colab / Conda + Jupyter\n",
    "5.   Basics of Python\n",
    "6.   \"Hello world\" of ML"
   ]
  },
  {
   "cell_type": "markdown",
   "metadata": {
    "id": "pJ6uaY6Czzm4"
   },
   "source": [
    "## **What is Machine learning?**\n",
    "\n",
    "<p style=\"padding-top:10px\">\n",
    "\n",
    "Machine Learning is a set of algorithms with tunable parameters that can learn and adjust the values of these parameters from previously seen data and generalise for prediction of new yet unseen data.\n",
    "        \n",
    "\"Machine learning is a field of study that gives computers the ability to learn without being explicitly programmed.\"\n",
    "\n",
    "- Arthur Samuel, 1959\n",
    "\n",
    "<br>\n",
    "\n",
    "<img src=\"https://datafloq.com/wp-content/uploads/2021/12/machine-learning-1.png\" align=left width=550 style=\"padding-left:300px\">\n",
    "\n",
    "<br><br><br><br><br><br><br><br><br><br><br>\n",
    "    \n",
    "\"A computer is said to learn from experience E with respect to some task T and some performance measure P, if its performance on T, as measured by P, improves with experience E.\"\n",
    "\n",
    "- Tom Mitchell, 1997\n",
    "</p>\n",
    "\n",
    "<br>\n",
    "\n",
    "<img src=\"https://miro.medium.com/max/1000/1*z9q7feVcb_Gy4EpUWq-yzQ.png\" align=left width=450 style=\"padding-bottom:80px\">\n",
    "\n",
    "<br><br><br><br><br><br><br><br><br><br><br><br><br><br><br><br><br><br><br>\n",
    "\n",
    "<img src=\"https://lawtomated.com/wp-content/uploads/2019/04/MLvsDL.png\" align=left width=700 style=\"padding-right:80px\">\n",
    "\n",
    "<br><br><br><br><br><br><br><br><br><br><br><br><br><br><br>"
   ]
  },
  {
   "cell_type": "markdown",
   "metadata": {
    "id": "BV0u4w8zjaci"
   },
   "source": [
    "### **Branches of Machine Learning**\n",
    "\n",
    "<br>\n",
    "\n",
    "<img src=\"https://scikit-learn.org/1.3/_static/ml_map.png\" align=left width=1000 style=\"padding-bottom:50px\">\n",
    "\n",
    "<br><br><br><br><br><br><br><br><br><br><br><br><br><br><br><br><br><br><br><br><br><br><br><br>"
   ]
  },
  {
   "cell_type": "markdown",
   "metadata": {
    "id": "jF7ZmP8Yjacj"
   },
   "source": [
    "## **Use cases**\n",
    "\n",
    "- Spam filter, Medical diagnostics (1990s)\n",
    "\n",
    "<img src=\"figures/Astronaut_Riding_a_Horse.jpg\" width=\"380px\" align=\"right\" style=\"padding-right:180px;padding-top:20px\">\n",
    "\n",
    "- Translation ([Google Překladač](https://translate.google.cz/?sl=cs&tl=en&op=translate), [DeepL](https://www.deepl.com/translator))\n",
    "\n",
    "- Image classification ([Google images](https://photos.google.com/), [Google Lens](https://lens.google/intl/cs/))\n",
    "\n",
    "- Image segmentation ([Segment Anything](https://segment-anything.com/demo))\n",
    "\n",
    "- Speech recognition (Apple, Google, Microsoft, [Whisper](https://github.com/openai/whisper), [BirdNET](https://play.google.com/store/apps/details?id=de.tu_chemnitz.mi.kahst.birdnet&hl=cs&gl=US))\n",
    "\n",
    "- Image generation ([DALL-E](https://labs.openai.com/), [Stable Diffusion](https://stablediffusionweb.com/#demo), [Midjourney](https://www.midjourney.com/showcase/top/))\n",
    "\n",
    "    \"astronaut riding a horse on the Moon\"\n",
    "\n",
    "<!-- <br><br><br><br><br><br><br><br><br><br><br><br><br><br><br><br><br> -->\n",
    "\n",
    "- DeepFake videos ([Donald Trump speaking spanish](https://www.youtube.com/watch?v=Uf9Zon613cQ))\n",
    "\n",
    "- Large Language Models ([ChatGPT](https://chat.openai.com/), [Claude](claude.ai/), [Gemini](https://gemini.google.com), OpenAI API)\n",
    "\n",
    "- Search Engine ([Perplexity](https://www.perplexity.ai/), [Bing](https://www.bing.com/search?q=Bing+AI&showconv=1&FORM=hpcodx))\n",
    "\n",
    "- Coding assistants ([Github Copilot](https://github.com/features/copilot))\n",
    "\n",
    "- Self-driving cars (Tesla, [Waymo](https://waymo.com/), [Selfdriving taxi](https://www.youtube.com/watch?v=hA_-MkU0Nfw))\n",
    "\n",
    "[How to Chat with GPT](https://github.com/High-Energy-Astrophysics/How-to-chat-with-GPT) (ÚTFA seminar 21.4.2023, [recording](https://www.youtube.com/watch?v=2NSZrhCenPk) - starts at 11:30)\n",
    "\n",
    "<br>"
   ]
  },
  {
   "cell_type": "markdown",
   "metadata": {
    "id": "ZjYJO4GLjacj"
   },
   "source": [
    "## **Use cases in Astrophysics / Physics**\n",
    "\n",
    "<img src=\"https://galaxyzooblog.files.wordpress.com/2018/03/finalfaves.jpg\" width=\"400px\" align=\"right\" style=\"padding-right:30px;padding-top:50px\">\n",
    "\n",
    "#### **Classification**\n",
    "\n",
    "<!-- <img src=\"https://drive.google.com/uc?export=view&id=14Yb8UE33BUSf6dEc8TFhJOUVYYG85FvC\" width=\"430px\" align=\"right\" style=\"padding-right:20px;\"> -->\n",
    "\n",
    "<br>\n",
    "\n",
    "- Image Classification ([Galaxy Zoo](https://www.zooniverse.org/projects/zookeeper/galaxy-zoo/), [Kosiba 2020](https://arxiv.org/abs/2006.05998))\n",
    "\n",
    "<br><br>\n",
    "\n",
    "- Spectra classification ([Ichinohe 2019](https://academic.oup.com/mnras/article/487/2/2874/5510444), [Baťková 2023](https://is.muni.cz/auth/th/jjzd6/))\n",
    "\n",
    "<br><br>\n",
    "\n",
    "- Lightcurve classification ([Mahabal 2017](https://arxiv.org/abs/1709.06257), [Bassi 2022](https://www.frontiersin.org/articles/10.3389/fspas.2021.718139/full))\n",
    "\n",
    "<br><br>\n",
    "\n",
    "- Image segmentation ([Morpheus](https://www.youtube.com/watch?v=hEL1h_dODkU), [CADET](https://github.com/tomasplsek/CADET))\n",
    "\n",
    "<br><br>\n",
    "\n",
    "#### **Regression**\n",
    "\n",
    "- Spectral pre-fitting ([Ichinohe 2018](https://arxiv.org/abs/1801.06015))\n",
    "\n",
    "\n",
    "<img src=\"https://raw.githubusercontent.com/tomasplsek/CADET/main/docs/figures/architecture.png\" width=\"550px\" align=\"right\" style=\"padding-top:40px\">\n",
    "\n",
    "<!-- <img src=\"https://drive.google.com/uc?export=view&id=1F5Oy9m-3CqjweQxUm6d-M64YckChO3hV\" width=\"530px\" align=\"right\" style=\"padding-right:10px;margin-top:-100px\"> -->\n",
    "\n",
    "\n",
    "#### **Complex tasks**\n",
    "\n",
    "<br><br>\n",
    "\n",
    "- 2D data denoising ([Vojteková 2020](https://arxiv.org/abs/2011.07002), [Sweere 2022](https://arxiv.org/abs/2205.01152))\n",
    "\n",
    "<br><br>\n",
    "\n",
    "- Complex data (big data, multi-dimensional problems)\n",
    "\n",
    "<br><br>\n",
    "\n",
    "- Fluid dynamics (partial differential equations)\n",
    "\n",
    "<!-- <img src=\"https://drive.google.com/uc?export=view&id=1wlHjbHQ3CyBUoh8u_pHP-raFLXLCfe_Q\" width=\"930px\" align=\"right\" style=\"padding-right:10px;\"> -->\n",
    "\n",
    "<br><br><br><br><br><br><br><br>"
   ]
  },
  {
   "cell_type": "markdown",
   "metadata": {
    "id": "hhkejRyKHA2s"
   },
   "source": [
    "## **What is ML useful for?**\n",
    "\n",
    "- natural language (translation, chatbots, speech recognition)\n",
    "- computer vision (object / pattern recognition)\n",
    "- complex image / video operations (deepfake videos)\n",
    "- high dimensional problems (regression/classification in N-dimensions)\n",
    "- big data problems (e.g. big all sky surveys)\n",
    "\n",
    "Cases when you shouldn't use ML:\n",
    "- simple problems / algorithms\n",
    "- problems that need to be solved deterministically\n",
    "- basic mathematics, precise computations"
   ]
  },
  {
   "cell_type": "markdown",
   "metadata": {
    "id": "KxAysN8s6-Tu"
   },
   "source": [
    "## **Why now?**\n",
    "1957 - **Perceptron** (Frank Rosenblatt)\\\n",
    "1967 -  **Nearest neighbor algorithm**\\\n",
    "...\\\n",
    "1997 - Deep Blue beats G. Kasparov\\\n",
    "2006 - Training neural network using backpropagation\\\n",
    "2016 - AlphaGo beats Lee Sedol\\\n",
    "2018 - Protein Structure Prediction (AlphaFold 1)\\\n",
    "2022 - Augmented reality, Selfdriving cars\\\n",
    "2023 - Large Lanuguage Models, Personal Assistants\\\n",
    "2050 - AGI?\n",
    "\n",
    "**Because of the hardware, software and data!**"
   ]
  },
  {
   "cell_type": "markdown",
   "metadata": {
    "id": "nubcLWsQBsWK"
   },
   "source": [
    "### **Hardware**\n",
    "\n",
    "<img src=\"figures/cpu_gpu_tpu.png\" width=\"460px\" align=\"right\" style=\"padding-top:10px;padding-right:90px\">\n",
    "\n",
    "\n",
    "*   **CPU** = *central processing unit*\\\n",
    "    \\- in every computer / mobile phone\\\n",
    "    \\- scalar operations\\\n",
    "    \\- multiple cores / threads (parallelizable)\\\n",
    "    \\-\n",
    "    \\- Intel, AMD\n",
    "\n",
    "*   **GPU** = *graphical processing unit*\\\n",
    "    \\- graphics and games, vector operations\\\n",
    "    \\- thousands of cores running simultaneously\\\n",
    "    \\- integrated on CPU (Intel, AMD)\\\n",
    "    \\- or dedicated (**NVIDIA**, AMD)\n",
    "\n",
    "<img src=\"figures/cpu_gpu_tpu.jpg\" width=\"460px\" align=\"right\" style=\"padding-right:90px\">\n",
    "\n",
    "*   **TPU** = *tensor processing unit*\\\n",
    "    \\- tensor operations\\\n",
    "    \\- developed by Google for Tensorflow\\\n",
    "    \\- narrow utilization field"
   ]
  },
  {
   "cell_type": "markdown",
   "metadata": {
    "id": "56ZXgZNCBsO4"
   },
   "source": [
    "### **Software**\n",
    "\n",
    "#### Higher level libraries are being developed mostly for Python:\n",
    "\n",
    "<img src=\"https://scikit-learn.org/stable/_static/scikit-learn-logo-small.png\" width=50 align=\"right\">\n",
    "\n",
    "*   [scikit-learn](https://scikit-learn.org/stable/)\\\n",
    "    \\- developed in 2013\\\n",
    "    \\- set of general ML tools (K-means, SVC, RF, regression)\n",
    "\n",
    "<img src=\"https://upload.wikimedia.org/wikipedia/commons/thumb/2/2d/Tensorflow_logo.svg/1200px-Tensorflow_logo.svg.png\" width=75 align=\"right\">\n",
    "\n",
    "*   [tensorflow](https://www.tensorflow.org/)\\\n",
    "    \\- matrix and tensor computations\\\n",
    "    \\- can use GPU through CUDA ([install](https://www.tensorflow.org/install/gpu), [setup](https://www.tensorflow.org/guide/gpu))\n",
    "\n",
    "<img src=\"https://keras.io/img/logo.png\" width=50 align=\"right\">\n",
    "\n",
    "*   other: [pyTorch](https://pytorch.org/), [JAX](https://github.com/google/jax)\n",
    "\n",
    "*   [keras](https://keras.io/)\\\n",
    "    \\- high-level framework\\\n",
    "    \\- build on Tensorflow (3.0 also JAX, pytorch)\\\n",
    "    \\- for building neural networks (dense, conv, LSTM layers)\n",
    "\n",
    "<br>\n",
    "\n",
    "#### Libraries for comunication with GPU:\n",
    "\n",
    "<img src=\"https://www.nvidia.com/etc/designs/nvidiaGDC/clientlibs_base/images/NVIDIA-Logo.svg\" width=250 align=\"right\">\n",
    "\n",
    "*   CUDA = NVIDIA libraries ([toolkit](https://developer.nvidia.com/cuda-toolkit-archive), [cuDNN](https://developer.nvidia.com/rdp/cudnn-download))\\\n",
    "    \\- GPU acceleration (Win & Linux)\\\n",
    "    \\- low level programming interface\\\n",
    "    \\- only necessary for dedicated GPUs\n"
   ]
  },
  {
   "cell_type": "markdown",
   "metadata": {
    "id": "qjgMrykWf_RA"
   },
   "source": [
    "### **Data**\n",
    "\n",
    "<img src=\"https://www.sap.com/dam/application/shared/graphics/what-is-big-data-sources.svg\" width=\"430px\" align=\"right\" style=\"padding-right:90px\">\n",
    "\n",
    "* recording devices\\\n",
    "    \\- mobile phones\\\n",
    "    \\- cameras\\\n",
    "    \\- CCTVs\\\n",
    "    * dashcams\n",
    "\n",
    "- smart devices\n",
    "    - smart watch\n",
    "    - washing machine\n",
    "    - smart home\n",
    "    - ...\n",
    "    - IoT = internet of things\n",
    "\n",
    "<img src=\"figures/washing_machine.png\" width=\"430px\" align=\"right\" style=\"padding-right:90px\">\n",
    "\n",
    "* internet & digitalization\n",
    "    * social media (Facebook, Instagram, ...)\n",
    "    - cloud services (Yes, they train on your private images.)\n",
    "    - Github (Yes, they train on your private code.)\n",
    "    - public databases ([Kaggle](https://www.kaggle.com/), [HuggingFace](https://huggingface.co/datasets))\n",
    "\n",
    "\n",
    "<br>"
   ]
  },
  {
   "cell_type": "markdown",
   "metadata": {
    "id": "ORuaA4ZQOhO3"
   },
   "source": [
    "## **Programing environments**\n",
    "\n",
    "<img src=\"https://colab.research.google.com/img/colab_favicon_256px.png\" width=140 align=\"right\" style=\"padding-right:130px\">\n",
    "\n",
    "<img src=\"https://upload.wikimedia.org/wikipedia/commons/thumb/3/38/Jupyter_logo.svg/800px-Jupyter_logo.svg.png\" width=105 align=\"right\" style=\"margin-right:30px;margin-top:10px\">\n",
    "\n",
    "<!-- <div style=\"display:table\"> -->\n",
    "\n",
    "*   Google colab (cloud-based Jupyter notebook)\n",
    "\n",
    "*   [Anaconda](https://docs.conda.io/en/latest/) + [Jupyter](https://jupyter.org/) notebook / lab (tutorial in Study materials - in CZ only, sorry!)\n",
    "\n",
    "*   [Anaconda](https://docs.conda.io/en/latest/) + [VS Code](https://code.visualstudio.com/)"
   ]
  },
  {
   "cell_type": "markdown",
   "metadata": {
    "id": "eLclsAQTVO5H"
   },
   "source": [
    "### **Google Colab**\n",
    "\n",
    "- access notebooks and files from **Google drive** and **GitHub**\n",
    "- share notebooks\n",
    "- preinstalled packages (```numpy```, ```scipy```, ```matplotlib```, ```keras```, ```tensorflow```...)\n",
    "- GPU / TPU acceleration\n",
    "- [bash shell commands](https://files.fosswire.com/2007/08/fwunixref.pdf) ```!```\n",
    "- non-traditional packages are easy to install: ```!pip install corner```\n",
    "- [magical commands](https://ipython.readthedocs.io/en/stable/interactive/magics.html) ```%```\n",
    "- include markdown or HTML blocks\n",
    "- display images & videos\n",
    "- get help"
   ]
  },
  {
   "cell_type": "markdown",
   "metadata": {
    "id": "MMKqVFJPOWTh"
   },
   "source": [
    "#### **Access google drive**"
   ]
  },
  {
   "cell_type": "code",
   "execution_count": 1,
   "metadata": {
    "colab": {
     "base_uri": "https://localhost:8080/"
    },
    "id": "7-4pg3boVDZa",
    "outputId": "e449a234-f539-4152-dacc-ddc953e8b800"
   },
   "outputs": [
    {
     "ename": "ModuleNotFoundError",
     "evalue": "No module named 'google'",
     "output_type": "error",
     "traceback": [
      "\u001b[0;31m---------------------------------------------------------------------------\u001b[0m",
      "\u001b[0;31mModuleNotFoundError\u001b[0m                       Traceback (most recent call last)",
      "Cell \u001b[0;32mIn[1], line 1\u001b[0m\n\u001b[0;32m----> 1\u001b[0m \u001b[38;5;28;01mfrom\u001b[39;00m \u001b[38;5;21;01mgoogle\u001b[39;00m\u001b[38;5;21;01m.\u001b[39;00m\u001b[38;5;21;01mcolab\u001b[39;00m \u001b[38;5;28;01mimport\u001b[39;00m drive\n\u001b[1;32m      2\u001b[0m drive\u001b[38;5;241m.\u001b[39mmount(\u001b[38;5;124m'\u001b[39m\u001b[38;5;124m/content/drive\u001b[39m\u001b[38;5;124m'\u001b[39m, force_remount\u001b[38;5;241m=\u001b[39m\u001b[38;5;28;01mTrue\u001b[39;00m)\n",
      "\u001b[0;31mModuleNotFoundError\u001b[0m: No module named 'google'"
     ]
    }
   ],
   "source": [
    "from google.colab import drive\n",
    "drive.mount('/content/drive', force_remount=True)"
   ]
  },
  {
   "cell_type": "markdown",
   "metadata": {
    "id": "XlolcEBP2l2Y"
   },
   "source": [
    "#### **Preinstalled packages**"
   ]
  },
  {
   "cell_type": "code",
   "execution_count": null,
   "metadata": {
    "id": "EHWQwYG91RUS"
   },
   "outputs": [],
   "source": [
    "import tensorflow\n",
    "import keras\n",
    "import sklearn"
   ]
  },
  {
   "cell_type": "code",
   "execution_count": null,
   "metadata": {
    "colab": {
     "base_uri": "https://localhost:8080/",
     "height": 35
    },
    "id": "-upuj3MsEljl",
    "outputId": "151cf7f3-219d-4754-8b07-3f5639ffda78"
   },
   "outputs": [],
   "source": [
    "tensorflow.__version__"
   ]
  },
  {
   "cell_type": "markdown",
   "metadata": {
    "id": "3N24zF6J2iO7"
   },
   "source": [
    "#### **GPU acceleration**"
   ]
  },
  {
   "cell_type": "code",
   "execution_count": null,
   "metadata": {
    "colab": {
     "base_uri": "https://localhost:8080/"
    },
    "id": "Ch8c25Amzwnv",
    "outputId": "1b0c2f6e-51ab-4cfb-ef9f-3675f79a8256"
   },
   "outputs": [],
   "source": [
    "print(\"Num GPUs Available: \", len(tensorflow.config.list_physical_devices('GPU')))"
   ]
  },
  {
   "cell_type": "markdown",
   "metadata": {
    "id": "RW7-XwPj2gJN"
   },
   "source": [
    "#### **Bash commands**"
   ]
  },
  {
   "cell_type": "code",
   "execution_count": null,
   "metadata": {
    "colab": {
     "base_uri": "https://localhost:8080/"
    },
    "id": "AuSU4S-3VBTD",
    "outputId": "bc7583ff-766c-41b6-956f-6494588d5169"
   },
   "outputs": [],
   "source": [
    "!ls"
   ]
  },
  {
   "cell_type": "code",
   "execution_count": null,
   "metadata": {
    "id": "mD257_HmBbT-"
   },
   "outputs": [],
   "source": [
    "!echo \"nothing\" > file.txt"
   ]
  },
  {
   "cell_type": "code",
   "execution_count": null,
   "metadata": {
    "colab": {
     "base_uri": "https://localhost:8080/"
    },
    "id": "fGsYe8UxFGgT",
    "outputId": "9345c301-a807-4e02-9dc9-7c21d0ac5d74"
   },
   "outputs": [],
   "source": [
    "!cat file.txt"
   ]
  },
  {
   "cell_type": "markdown",
   "metadata": {
    "id": "JStVKSBC2qtU"
   },
   "source": [
    "#### **Install packages**"
   ]
  },
  {
   "cell_type": "code",
   "execution_count": null,
   "metadata": {
    "colab": {
     "base_uri": "https://localhost:8080/"
    },
    "id": "3vGSQAVJa1k3",
    "outputId": "1762b622-0c2f-4213-8741-97de5789358a"
   },
   "outputs": [],
   "source": [
    "!pip install corner"
   ]
  },
  {
   "cell_type": "code",
   "execution_count": null,
   "metadata": {
    "colab": {
     "base_uri": "https://localhost:8080/"
    },
    "id": "5NCXZeOAElv5",
    "outputId": "904adc90-770f-4997-c9d2-5e92490f878c"
   },
   "outputs": [],
   "source": [
    "!git clone https://github.com/dfm/corner.py.git\n",
    "!cd corner.py ; python -m pip install ."
   ]
  },
  {
   "cell_type": "code",
   "execution_count": null,
   "metadata": {
    "id": "nMjiPzyiDhgL"
   },
   "outputs": [],
   "source": [
    "import corner"
   ]
  },
  {
   "cell_type": "markdown",
   "metadata": {
    "id": "5yRe6Kd52tXV"
   },
   "source": [
    "#### **Magical commands**"
   ]
  },
  {
   "cell_type": "code",
   "execution_count": null,
   "metadata": {
    "id": "_7DCE1HH3FA1"
   },
   "outputs": [],
   "source": [
    "%matplotlib inline"
   ]
  },
  {
   "cell_type": "code",
   "execution_count": null,
   "metadata": {
    "colab": {
     "base_uri": "https://localhost:8080/"
    },
    "id": "XYiDm2zCGaOo",
    "outputId": "b883541b-5bfd-4719-9eea-0583e49aec7e"
   },
   "outputs": [],
   "source": [
    "%time print(\"Hello world\")"
   ]
  },
  {
   "cell_type": "code",
   "execution_count": null,
   "metadata": {
    "colab": {
     "base_uri": "https://localhost:8080/"
    },
    "id": "0bYb4aKd_oRD",
    "outputId": "eca9605e-7cf2-44fa-ed65-34194c886e7b"
   },
   "outputs": [],
   "source": [
    "import time\n",
    "\n",
    "%time time.sleep(1)"
   ]
  },
  {
   "cell_type": "code",
   "execution_count": null,
   "metadata": {
    "colab": {
     "base_uri": "https://localhost:8080/"
    },
    "id": "7f7s7fIa1PTp",
    "outputId": "e3eb3af9-faec-4afe-8e0b-0403cfee6ca2"
   },
   "outputs": [],
   "source": [
    "time.sleep(1)\n",
    "\n",
    "%time time.sleep(1)"
   ]
  },
  {
   "cell_type": "code",
   "execution_count": null,
   "metadata": {
    "colab": {
     "base_uri": "https://localhost:8080/"
    },
    "id": "l3XPg6DDdfx4",
    "outputId": "fe745c41-e35e-4212-ddbc-b3b47ce3d757"
   },
   "outputs": [],
   "source": [
    "def fun():\n",
    "    time.sleep(1)\n",
    "    time.sleep(1)\n",
    "\n",
    "%time fun()"
   ]
  },
  {
   "cell_type": "code",
   "execution_count": null,
   "metadata": {
    "colab": {
     "base_uri": "https://localhost:8080/"
    },
    "id": "ki0THCp7G2Fb",
    "outputId": "146be9e0-5571-42c9-e523-54973310e1c4"
   },
   "outputs": [],
   "source": [
    "%timeit time.sleep(1)"
   ]
  },
  {
   "cell_type": "code",
   "execution_count": null,
   "metadata": {
    "colab": {
     "base_uri": "https://localhost:8080/"
    },
    "id": "n4B78gbM_q-S",
    "outputId": "1c4680c2-7b33-4588-ae12-2d8874c2501c"
   },
   "outputs": [],
   "source": [
    "%timeit -r 10 time.sleep(1)"
   ]
  },
  {
   "cell_type": "markdown",
   "metadata": {
    "id": "uZQX32o82v8c"
   },
   "source": [
    "#### **Markdown cells**\n",
    "\n",
    "### Heading\n",
    "#### Heading 2\n",
    "\n",
    "**bold**\n",
    "\n",
    "*italic*\n",
    "\n",
    "`code`\n",
    "\n",
    "```\n",
    "from numpy import sin\n",
    "```\n",
    "\n",
    "```python\n",
    "from numpy import sin\n",
    "```\n",
    "\n",
    "[link](https://scikit-learn.org/)\n",
    "\n",
    "![](https://scikit-learn.org/stable/_static/scikit-learn-logo-small.png)\n",
    "\n",
    "\n",
    "> block\\\n",
    "> text v bloku\n",
    "\n",
    "\n",
    "1.   ordered list\n",
    "2.   ...\n",
    "\n",
    "\n",
    "*   unordered list\n",
    "*   ...\n",
    "\n",
    "---"
   ]
  },
  {
   "cell_type": "markdown",
   "metadata": {
    "id": "QKTnkxLbV1pv"
   },
   "source": [
    "```html\n",
    "<img src=\"https://scikit-learn.org/stable/_static/scikit-learn-logo-small.png\" height=\"150px\" align=\"right\">\n",
    "```\n",
    "\n",
    "<img src=\"https://scikit-learn.org/stable/_static/scikit-learn-logo-small.png\" height=\"100px\" align=\"right\">"
   ]
  },
  {
   "cell_type": "code",
   "execution_count": null,
   "metadata": {
    "id": "oD5HzRlA2LT1"
   },
   "outputs": [],
   "source": [
    "from IPython.display import YouTubeVideo\n",
    "YouTubeVideo('cQ54GDm1eL0')"
   ]
  },
  {
   "cell_type": "markdown",
   "metadata": {
    "id": "QTbu0ktp23si"
   },
   "source": [
    "#### **Get help**"
   ]
  },
  {
   "cell_type": "code",
   "execution_count": null,
   "metadata": {
    "id": "o7g1WVCUfJYx"
   },
   "outputs": [],
   "source": [
    "import matplotlib.pyplot as plt\n",
    "plt.plot?"
   ]
  },
  {
   "cell_type": "markdown",
   "metadata": {
    "id": "5xLIHRDdc29-"
   },
   "source": [
    "## **Basics of Python**\n",
    "\n",
    "- object oriented programming language\n",
    "- Python2, **Python3**\n",
    "- high level language - implemented in C (\"Python is just a C wrapper.\")\n",
    "- interpreted (slower)\n",
    "- open source & free to use\n",
    "- NOT ONLY scripting language\n",
    "- plenty of modules (`scipy`, `astropy`, `keras`, `Qt`...)\n",
    "- computations, programs, graphical interface, web backend..."
   ]
  },
  {
   "cell_type": "code",
   "execution_count": null,
   "metadata": {
    "colab": {
     "base_uri": "https://localhost:8080/"
    },
    "id": "Sc7DJB68hZ83",
    "outputId": "d274e5f9-ee00-4df9-8225-38dc888f056b"
   },
   "outputs": [],
   "source": [
    "import sys\n",
    "print(sys.version)"
   ]
  },
  {
   "cell_type": "markdown",
   "metadata": {
    "id": "BUJGSuJlp8xN"
   },
   "source": [
    "### **Classes**"
   ]
  },
  {
   "cell_type": "code",
   "execution_count": null,
   "metadata": {
    "id": "cIdGP4eRv3Es"
   },
   "outputs": [],
   "source": [
    "a = 1\n",
    "b = 4.2\n",
    "c = \"word\"\n",
    "d = [1, 2, 3]\n",
    "e = [1, 4.2, \"word\"]\n",
    "f = (1, 2, 3)\n",
    "g = {\"Tomas\" : 1, \"Toast\" : 2, \"Matěj\" : 3}\n",
    "\n",
    "def function(parameter):\n",
    "    return parameter"
   ]
  },
  {
   "cell_type": "code",
   "execution_count": null,
   "metadata": {
    "colab": {
     "base_uri": "https://localhost:8080/"
    },
    "id": "7s6poqhtLlzz",
    "outputId": "e2d5c282-917f-4c74-eb4b-66cbb273e213"
   },
   "outputs": [],
   "source": [
    "for i in [a, b, c, d, e, f, g, function]:\n",
    "    print(type(i))"
   ]
  },
  {
   "cell_type": "code",
   "execution_count": null,
   "metadata": {
    "colab": {
     "base_uri": "https://localhost:8080/"
    },
    "id": "TxuKfH-9jacq",
    "outputId": "6e303dd2-4858-4cff-b1cc-a94c7a083772"
   },
   "outputs": [],
   "source": [
    "import numpy as np\n",
    "h = np.array([1,2,3])\n",
    "\n",
    "import pandas as pd\n",
    "df = pd.DataFrame()\n",
    "\n",
    "print(type(h))\n",
    "print(type(df))"
   ]
  },
  {
   "cell_type": "code",
   "execution_count": null,
   "metadata": {
    "colab": {
     "base_uri": "https://localhost:8080/"
    },
    "id": "2fJcFoLuiFyQ",
    "outputId": "ce15884c-253d-4646-bdf8-834d33330175"
   },
   "outputs": [],
   "source": [
    "a = 1\n",
    "b = 2\n",
    "print(a + b)"
   ]
  },
  {
   "cell_type": "code",
   "execution_count": null,
   "metadata": {
    "colab": {
     "base_uri": "https://localhost:8080/"
    },
    "id": "G5p0NWLliF68",
    "outputId": "e2578e46-0e8f-47ca-9305-8c78d84ca481"
   },
   "outputs": [],
   "source": [
    "a + b"
   ]
  },
  {
   "cell_type": "code",
   "execution_count": null,
   "metadata": {
    "colab": {
     "base_uri": "https://localhost:8080/"
    },
    "id": "4JYjQU6r9Z_x",
    "outputId": "015531ea-faa0-4347-80a6-553b16ad5145"
   },
   "outputs": [],
   "source": [
    "a = b\n",
    "a"
   ]
  },
  {
   "cell_type": "code",
   "execution_count": null,
   "metadata": {
    "id": "YHXU0ugrLrlx"
   },
   "outputs": [],
   "source": [
    "a = [1,2,3,4]"
   ]
  },
  {
   "cell_type": "code",
   "execution_count": null,
   "metadata": {
    "colab": {
     "base_uri": "https://localhost:8080/"
    },
    "id": "8KnrRbsoLtc8",
    "outputId": "ef97e7d2-976f-4ec4-b9f2-aa0615057171"
   },
   "outputs": [],
   "source": [
    "a[0]"
   ]
  },
  {
   "cell_type": "code",
   "execution_count": null,
   "metadata": {
    "colab": {
     "base_uri": "https://localhost:8080/"
    },
    "id": "HaxvnjUYLuv5",
    "outputId": "94828888-0351-4ffc-a7d1-a983c0ca724b"
   },
   "outputs": [],
   "source": [
    "a[::2]"
   ]
  },
  {
   "cell_type": "code",
   "execution_count": null,
   "metadata": {
    "id": "Dy3WVK9vLxnZ"
   },
   "outputs": [],
   "source": [
    "a[0] = 0"
   ]
  },
  {
   "cell_type": "code",
   "execution_count": null,
   "metadata": {
    "colab": {
     "base_uri": "https://localhost:8080/"
    },
    "id": "aRalFiaELzND",
    "outputId": "b20a9ea5-9a56-4948-d864-f97b2453bcaf"
   },
   "outputs": [],
   "source": [
    "a"
   ]
  },
  {
   "cell_type": "code",
   "execution_count": null,
   "metadata": {
    "colab": {
     "base_uri": "https://localhost:8080/"
    },
    "id": "E9bXXlSgvnB1",
    "outputId": "72108679-2e85-4c33-e7b5-53d9bbdbd832"
   },
   "outputs": [],
   "source": [
    "A = np.array([[1,2,3],[4,5,6]])\n",
    "A"
   ]
  },
  {
   "cell_type": "code",
   "execution_count": null,
   "metadata": {
    "colab": {
     "base_uri": "https://localhost:8080/"
    },
    "id": "hQc-IqMP3x4z",
    "outputId": "1bf42544-bee6-41de-8248-a6352c4357d9"
   },
   "outputs": [],
   "source": [
    "A[0]"
   ]
  },
  {
   "cell_type": "code",
   "execution_count": null,
   "metadata": {
    "colab": {
     "base_uri": "https://localhost:8080/"
    },
    "id": "QAWAOtK_3v0V",
    "outputId": "38a3de63-93d6-4b6b-e3d1-33bbcaf9a921"
   },
   "outputs": [],
   "source": [
    "A[0,0]"
   ]
  },
  {
   "cell_type": "code",
   "execution_count": null,
   "metadata": {
    "colab": {
     "base_uri": "https://localhost:8080/"
    },
    "id": "HTNJobQ536tB",
    "outputId": "d57d46b3-5b23-4cdf-de84-09d2f927cbb2"
   },
   "outputs": [],
   "source": [
    "A[:,0], A.T[0]"
   ]
  },
  {
   "cell_type": "code",
   "execution_count": null,
   "metadata": {
    "id": "iPYuqnQvsDjx"
   },
   "outputs": [],
   "source": [
    "from numpy import sin, pi, exp"
   ]
  },
  {
   "cell_type": "code",
   "execution_count": null,
   "metadata": {
    "colab": {
     "base_uri": "https://localhost:8080/"
    },
    "id": "Te8eU90OsGaC",
    "outputId": "07442748-30af-4e62-a7cd-883636ce57d0"
   },
   "outputs": [],
   "source": [
    "sin(pi/2)"
   ]
  },
  {
   "cell_type": "code",
   "execution_count": null,
   "metadata": {
    "colab": {
     "base_uri": "https://localhost:8080/"
    },
    "id": "70FUi4wssHzn",
    "outputId": "e82cd386-2b1d-413e-e5f6-82dc8d260a0f"
   },
   "outputs": [],
   "source": [
    "exp(0)"
   ]
  },
  {
   "cell_type": "code",
   "execution_count": null,
   "metadata": {
    "colab": {
     "base_uri": "https://localhost:8080/"
    },
    "id": "jrPMg8G14Muj",
    "outputId": "11061c35-0e59-4bff-a9fd-fa84108ec8fc"
   },
   "outputs": [],
   "source": [
    "exp(A)"
   ]
  },
  {
   "cell_type": "markdown",
   "metadata": {
    "id": "-o4lVIBBRjjk"
   },
   "source": [
    "### **Atributes**"
   ]
  },
  {
   "cell_type": "code",
   "execution_count": null,
   "metadata": {
    "id": "MESPo7sWRm9h"
   },
   "outputs": [],
   "source": [
    "a = np.array([1.1,2,3])"
   ]
  },
  {
   "cell_type": "code",
   "execution_count": null,
   "metadata": {
    "colab": {
     "base_uri": "https://localhost:8080/"
    },
    "id": "ML0ukmWVIh1X",
    "outputId": "4d284e12-5cf6-4524-ca8c-9df5ec97480c"
   },
   "outputs": [],
   "source": [
    "a.shape"
   ]
  },
  {
   "cell_type": "code",
   "execution_count": null,
   "metadata": {
    "colab": {
     "base_uri": "https://localhost:8080/"
    },
    "id": "s-eY3vnRRm_4",
    "outputId": "d3becde4-48dd-4bcb-a4a0-15c992893e6f"
   },
   "outputs": [],
   "source": [
    "a.size"
   ]
  },
  {
   "cell_type": "code",
   "execution_count": null,
   "metadata": {
    "colab": {
     "base_uri": "https://localhost:8080/"
    },
    "id": "9m9Rpmi3RnFC",
    "outputId": "d0ce476a-d7e9-4131-b468-0a8763e61df3"
   },
   "outputs": [],
   "source": [
    "a.dtype"
   ]
  },
  {
   "cell_type": "code",
   "execution_count": null,
   "metadata": {
    "colab": {
     "base_uri": "https://localhost:8080/",
     "height": 195
    },
    "id": "0QzGAR4ROAoj",
    "outputId": "907e1043-a6ff-40fe-f253-cb214754d0a3"
   },
   "outputs": [],
   "source": [
    "a = [1,2,3]\n",
    "a.size"
   ]
  },
  {
   "cell_type": "markdown",
   "metadata": {
    "id": "_FUsvJWkqBSP"
   },
   "source": [
    "### **Methods**"
   ]
  },
  {
   "cell_type": "markdown",
   "metadata": {
    "id": "E6tnZlHfSlj4"
   },
   "source": [
    "##### **Built-in methods**"
   ]
  },
  {
   "cell_type": "code",
   "execution_count": null,
   "metadata": {
    "colab": {
     "base_uri": "https://localhost:8080/"
    },
    "id": "08M4WGhUSOW3",
    "outputId": "35e69d88-0fe8-480d-ff5c-9096e1f2be6b"
   },
   "outputs": [],
   "source": [
    "a.__len__()"
   ]
  },
  {
   "cell_type": "code",
   "execution_count": null,
   "metadata": {
    "colab": {
     "base_uri": "https://localhost:8080/"
    },
    "id": "6FXvszwPOCnT",
    "outputId": "8f00312b-250d-4d97-b93d-c860e3ed7b6d"
   },
   "outputs": [],
   "source": [
    "len(a)"
   ]
  },
  {
   "cell_type": "code",
   "execution_count": null,
   "metadata": {
    "colab": {
     "base_uri": "https://localhost:8080/"
    },
    "id": "X4xSueAkT_NT",
    "outputId": "bce6d912-c665-48f1-ff90-313c506d1bb4"
   },
   "outputs": [],
   "source": [
    "a = 2.1\n",
    "\n",
    "round(a)"
   ]
  },
  {
   "cell_type": "code",
   "execution_count": null,
   "metadata": {
    "colab": {
     "base_uri": "https://localhost:8080/"
    },
    "id": "1VoUSuusUDQh",
    "outputId": "4ba4d324-2d63-4787-ac1c-d0fefcfd15a2"
   },
   "outputs": [],
   "source": [
    "a.__round__()"
   ]
  },
  {
   "cell_type": "code",
   "execution_count": null,
   "metadata": {
    "colab": {
     "base_uri": "https://localhost:8080/"
    },
    "id": "VMlE8ulRO1mu",
    "outputId": "a8ec0139-f3a4-4c7a-90d7-7700e6f68c19"
   },
   "outputs": [],
   "source": [
    "2.1.__round__()"
   ]
  },
  {
   "cell_type": "markdown",
   "metadata": {
    "id": "j-toN9gXSpbs"
   },
   "source": [
    "##### **String methods**"
   ]
  },
  {
   "cell_type": "code",
   "execution_count": null,
   "metadata": {
    "colab": {
     "base_uri": "https://localhost:8080/",
     "height": 35
    },
    "id": "c-GfWFkQqKY0",
    "outputId": "65492d50-13b3-4857-dcd3-6b55d1f1ff41"
   },
   "outputs": [],
   "source": [
    "a = \"string\"\n",
    "a"
   ]
  },
  {
   "cell_type": "code",
   "execution_count": null,
   "metadata": {
    "colab": {
     "base_uri": "https://localhost:8080/",
     "height": 35
    },
    "id": "PqdxGzlfR0Hd",
    "outputId": "d95f4a54-2804-4e31-d861-00363a957342"
   },
   "outputs": [],
   "source": [
    "a.capitalize()"
   ]
  },
  {
   "cell_type": "code",
   "execution_count": null,
   "metadata": {
    "colab": {
     "base_uri": "https://localhost:8080/"
    },
    "id": "-EomYUkTqOF4",
    "outputId": "09b20013-5fac-4f10-e389-b9fedca33755"
   },
   "outputs": [],
   "source": [
    "a.find(\"s\")"
   ]
  },
  {
   "cell_type": "code",
   "execution_count": null,
   "metadata": {
    "colab": {
     "base_uri": "https://localhost:8080/",
     "height": 35
    },
    "id": "wUmIeYEsUNNT",
    "outputId": "2466b4ef-2a24-434b-c12d-6988541c77eb"
   },
   "outputs": [],
   "source": [
    "a.replace(\"t\",\"p\")"
   ]
  },
  {
   "cell_type": "markdown",
   "metadata": {
    "id": "gZU6I7_zSsX7"
   },
   "source": [
    "##### **List methods**"
   ]
  },
  {
   "cell_type": "code",
   "execution_count": null,
   "metadata": {
    "colab": {
     "base_uri": "https://localhost:8080/"
    },
    "id": "qG0Tuk3nnF9I",
    "outputId": "16843eca-6988-4117-803f-585180d2aaf3"
   },
   "outputs": [],
   "source": [
    "a = [1,2,3]\n",
    "a"
   ]
  },
  {
   "cell_type": "code",
   "execution_count": null,
   "metadata": {
    "colab": {
     "base_uri": "https://localhost:8080/"
    },
    "id": "lR_JqpkEnGHB",
    "outputId": "ef0d8420-b9c7-4b7d-98bd-bac1dfa8227d"
   },
   "outputs": [],
   "source": [
    "a.append(4)\n",
    "a"
   ]
  },
  {
   "cell_type": "code",
   "execution_count": null,
   "metadata": {
    "id": "1Ap81trBjacw",
    "outputId": "7f7ef517-f1e3-4090-bdad-4cac9a15081c"
   },
   "outputs": [],
   "source": [
    "a.index(2)"
   ]
  },
  {
   "cell_type": "code",
   "execution_count": null,
   "metadata": {
    "colab": {
     "base_uri": "https://localhost:8080/"
    },
    "id": "rqrdkU3ZMaQz",
    "outputId": "2f1641be-9f2a-42eb-d035-a30a41ee2f32"
   },
   "outputs": [],
   "source": [
    "a.pop(3)"
   ]
  },
  {
   "cell_type": "markdown",
   "metadata": {
    "id": "zQIVqiLaSu1F"
   },
   "source": [
    "##### **Array methods**"
   ]
  },
  {
   "cell_type": "code",
   "execution_count": null,
   "metadata": {
    "id": "F8aWDFOWKoft"
   },
   "outputs": [],
   "source": [
    "a = np.array([1,2,3])"
   ]
  },
  {
   "cell_type": "code",
   "execution_count": null,
   "metadata": {
    "colab": {
     "base_uri": "https://localhost:8080/"
    },
    "id": "GHopNidBKrL_",
    "outputId": "c1cebd03-3f5b-40c7-fdde-24fa65870d4d"
   },
   "outputs": [],
   "source": [
    "a.sum()"
   ]
  },
  {
   "cell_type": "code",
   "execution_count": null,
   "metadata": {
    "colab": {
     "base_uri": "https://localhost:8080/"
    },
    "id": "8t8MSy1gKukW",
    "outputId": "8c0bb892-e15c-4974-f8d1-b27f2054c0fd"
   },
   "outputs": [],
   "source": [
    "a.mean(), a.std()"
   ]
  },
  {
   "cell_type": "markdown",
   "metadata": {
    "id": "lo9sQwt1MxSO"
   },
   "source": [
    "### **Cycles**"
   ]
  },
  {
   "cell_type": "code",
   "execution_count": null,
   "metadata": {
    "colab": {
     "base_uri": "https://localhost:8080/"
    },
    "id": "gw2kfBO5MwlM",
    "outputId": "03aa3a84-9cae-45a9-c6e9-e1433f72d1b4"
   },
   "outputs": [],
   "source": [
    "a = [1,2,3]\n",
    "for i in a:\n",
    "    print(i)"
   ]
  },
  {
   "cell_type": "code",
   "execution_count": null,
   "metadata": {
    "colab": {
     "base_uri": "https://localhost:8080/"
    },
    "id": "C1BexGe_M1g_",
    "outputId": "44f21bf8-afaa-4c47-e049-188b7a6658eb"
   },
   "outputs": [],
   "source": [
    "x = 0\n",
    "while x < 10:\n",
    "    print(x)\n",
    "    x += 1"
   ]
  },
  {
   "cell_type": "markdown",
   "metadata": {
    "id": "6a3DW69s7J_L"
   },
   "source": [
    "### **Vizualization (Matplotlib)**"
   ]
  },
  {
   "cell_type": "code",
   "execution_count": null,
   "metadata": {
    "colab": {
     "base_uri": "https://localhost:8080/",
     "height": 517
    },
    "id": "HBb790Nm7Jph",
    "outputId": "a1500bb2-1cc1-4558-8946-9e9508785d78"
   },
   "outputs": [],
   "source": [
    "X = np.random.normal(0, 1, size=100)\n",
    "\n",
    "plt.hist(X)"
   ]
  },
  {
   "cell_type": "code",
   "execution_count": null,
   "metadata": {
    "colab": {
     "base_uri": "https://localhost:8080/",
     "height": 447
    },
    "id": "BUUH4hCS7Ixq",
    "outputId": "a11fedcc-f155-43e3-8ae7-264273d8f04b"
   },
   "outputs": [],
   "source": [
    "a = np.array([1,2,3,4,5])\n",
    "b = a**2\n",
    "\n",
    "plt.plot(a, b)"
   ]
  },
  {
   "cell_type": "code",
   "execution_count": null,
   "metadata": {
    "colab": {
     "base_uri": "https://localhost:8080/",
     "height": 447
    },
    "id": "_rb7iQx37JbC",
    "outputId": "4d5f53c5-64b9-4be5-a588-f1fa933db071"
   },
   "outputs": [],
   "source": [
    "plt.plot(a, b, marker=\"o\", linewidth=0)"
   ]
  },
  {
   "cell_type": "code",
   "execution_count": null,
   "metadata": {
    "colab": {
     "base_uri": "https://localhost:8080/",
     "height": 447
    },
    "id": "qL88SCmp8JAA",
    "outputId": "14fa5b00-3743-4c39-8783-b2157b61011b"
   },
   "outputs": [],
   "source": [
    "x = np.arange(10)\n",
    "err = np.random.uniform(0.1, 0.2,size=10)\n",
    "y = x**2\n",
    "\n",
    "plt.errorbar(x, y, yerr=y*err, marker=\"o\", lw=0, capsize=3, elinewidth=1)"
   ]
  },
  {
   "cell_type": "code",
   "execution_count": null,
   "metadata": {
    "colab": {
     "base_uri": "https://localhost:8080/",
     "height": 447
    },
    "id": "xNpfsmIl8JLy",
    "outputId": "bb25d90d-9e1a-4dd8-a6bd-fa64bc18d982"
   },
   "outputs": [],
   "source": [
    "plt.fill_between(x, y-y*err, y+y*err)\n",
    "plt.plot(x, y, color=\"black\")"
   ]
  },
  {
   "cell_type": "code",
   "execution_count": null,
   "metadata": {
    "colab": {
     "base_uri": "https://localhost:8080/",
     "height": 388
    },
    "id": "6GLaymRw7fv9",
    "outputId": "30006094-4960-4696-d198-efc74730e4b6"
   },
   "outputs": [],
   "source": [
    "x = np.array([[1,2,3],[4,5,6]])\n",
    "\n",
    "plt.imshow(x)\n",
    "plt.colorbar(fraction=0.031)"
   ]
  },
  {
   "cell_type": "code",
   "execution_count": null,
   "metadata": {
    "colab": {
     "base_uri": "https://localhost:8080/",
     "height": 371
    },
    "id": "VT1pSd5d7naC",
    "outputId": "cb3b8dfc-71b6-4a5d-e293-99571d64136c"
   },
   "outputs": [],
   "source": [
    "plt.imshow(x)\n",
    "plt.colorbar(fraction=0.031)\n",
    "\n",
    "for i in range(x.shape[0]):\n",
    "    for j in range(x.shape[1]):\n",
    "        plt.text(j,i,x[i,j], size=20, ha=\"center\", va=\"center\")"
   ]
  },
  {
   "cell_type": "markdown",
   "metadata": {
    "id": "Z7Au40cWtrOb"
   },
   "source": [
    "### **Vectorization (Numpy)**"
   ]
  },
  {
   "cell_type": "markdown",
   "metadata": {
    "id": "r5S3jCQzYRQw"
   },
   "source": [
    "#### **Summing a list**"
   ]
  },
  {
   "cell_type": "code",
   "execution_count": null,
   "metadata": {
    "colab": {
     "base_uri": "https://localhost:8080/"
    },
    "id": "gc1AFpJxUqsQ",
    "outputId": "81112721-d188-42cb-91a8-03c37508eedb"
   },
   "outputs": [],
   "source": [
    "a = [i for i in range(1000)]\n",
    "print(a)"
   ]
  },
  {
   "cell_type": "code",
   "execution_count": null,
   "metadata": {
    "id": "brgCI-hkjf9d"
   },
   "outputs": [],
   "source": [
    "def calc_sum(a):\n",
    "    x = 0\n",
    "    for i in a:\n",
    "        x += i\n",
    "    return x"
   ]
  },
  {
   "cell_type": "code",
   "execution_count": null,
   "metadata": {
    "colab": {
     "base_uri": "https://localhost:8080/"
    },
    "id": "fLSx18h-Yziy",
    "outputId": "81e0a6aa-72aa-41b4-c45f-45a0505d9d2d"
   },
   "outputs": [],
   "source": [
    "%timeit calc_sum(a)"
   ]
  },
  {
   "cell_type": "code",
   "execution_count": null,
   "metadata": {
    "colab": {
     "base_uri": "https://localhost:8080/"
    },
    "id": "1KMgzsowUw_l",
    "outputId": "da556458-8d2b-48e9-9c56-7ef1c76954a6"
   },
   "outputs": [],
   "source": [
    "%timeit sum(a)"
   ]
  },
  {
   "cell_type": "code",
   "execution_count": null,
   "metadata": {
    "id": "_2OKzAXCU74w"
   },
   "outputs": [],
   "source": [
    "A = np.array(a)"
   ]
  },
  {
   "cell_type": "code",
   "execution_count": null,
   "metadata": {
    "colab": {
     "base_uri": "https://localhost:8080/"
    },
    "id": "Aqss2_2UU8zr",
    "outputId": "b6854084-5532-42be-8485-eff4d53b41f4"
   },
   "outputs": [],
   "source": [
    "%timeit A.sum()"
   ]
  },
  {
   "cell_type": "markdown",
   "metadata": {
    "id": "mIplODQhNDLF"
   },
   "source": [
    "#### **Array multiplication**\n",
    "\n",
    "a = [1, 2, 3, ...., 1000]\\\n",
    "b = [1, 2, 3, ...., 1000]"
   ]
  },
  {
   "cell_type": "code",
   "execution_count": null,
   "metadata": {
    "id": "l5Jm1DsrNxRx"
   },
   "outputs": [],
   "source": [
    "a = [i for i in range(1000)]\n",
    "b = [i for i in range(1000)]"
   ]
  },
  {
   "cell_type": "code",
   "execution_count": null,
   "metadata": {
    "id": "F6B5Tpu5VV7H"
   },
   "outputs": [],
   "source": [
    "def multiply_lists(a,b):\n",
    "    c = []\n",
    "    for i in range(len(a)):\n",
    "        c.append(a[i] * b[i])\n",
    "    return c"
   ]
  },
  {
   "cell_type": "code",
   "execution_count": null,
   "metadata": {
    "colab": {
     "base_uri": "https://localhost:8080/"
    },
    "id": "_pplp-rhVuec",
    "outputId": "52631446-d97c-4ba9-e9ce-7d7776f302b4"
   },
   "outputs": [],
   "source": [
    "%timeit multiply_lists(a,b)"
   ]
  },
  {
   "cell_type": "code",
   "execution_count": null,
   "metadata": {
    "id": "witZx777VyCK"
   },
   "outputs": [],
   "source": [
    "A = np.array(a)\n",
    "B = np.array(b)"
   ]
  },
  {
   "cell_type": "code",
   "execution_count": null,
   "metadata": {
    "colab": {
     "base_uri": "https://localhost:8080/"
    },
    "id": "HtDRm2V8V3IY",
    "outputId": "0b9c2416-ae2b-42b7-8ea7-8a2d18b655c7"
   },
   "outputs": [],
   "source": [
    "%timeit A * B"
   ]
  },
  {
   "cell_type": "markdown",
   "metadata": {
    "id": "dqNfZqtZ4QiL"
   },
   "source": [
    "#### **Tensor multiplication**"
   ]
  },
  {
   "cell_type": "code",
   "execution_count": null,
   "metadata": {
    "id": "m0cjb_AD4eSr"
   },
   "outputs": [],
   "source": [
    "a = np.random.randint(100, size=(100,100,100))\n",
    "b = np.random.randint(100, size=(100,100,100))"
   ]
  },
  {
   "cell_type": "code",
   "execution_count": null,
   "metadata": {
    "colab": {
     "base_uri": "https://localhost:8080/"
    },
    "id": "jFVZOko54jcY",
    "outputId": "cc7d9ffd-7228-437c-bb2b-5d18991ca096"
   },
   "outputs": [],
   "source": [
    "a.shape"
   ]
  },
  {
   "cell_type": "code",
   "execution_count": null,
   "metadata": {
    "colab": {
     "base_uri": "https://localhost:8080/"
    },
    "id": "HFwIFxKy4nBD",
    "outputId": "87145b9d-2985-4a8f-a47d-654c13320896"
   },
   "outputs": [],
   "source": [
    "%timeit a * b"
   ]
  },
  {
   "cell_type": "code",
   "execution_count": null,
   "metadata": {
    "id": "RuUWFzLzV5EI"
   },
   "outputs": [],
   "source": [
    "import tensorflow as tf"
   ]
  },
  {
   "cell_type": "code",
   "execution_count": null,
   "metadata": {
    "id": "LP53DZLr5A3B"
   },
   "outputs": [],
   "source": [
    "A = tf.convert_to_tensor(a)\n",
    "B = tf.convert_to_tensor(b)"
   ]
  },
  {
   "cell_type": "code",
   "execution_count": null,
   "metadata": {
    "colab": {
     "base_uri": "https://localhost:8080/"
    },
    "id": "6bIkxTQp6eQJ",
    "outputId": "7f83d32e-9aa2-4dbe-ed99-bb0dfa05fc10"
   },
   "outputs": [],
   "source": [
    "%timeit A * B"
   ]
  },
  {
   "cell_type": "code",
   "execution_count": null,
   "metadata": {
    "id": "p9Wy31jk6kkx"
   },
   "outputs": [],
   "source": [
    "import jax.numpy as jnp"
   ]
  },
  {
   "cell_type": "code",
   "execution_count": null,
   "metadata": {
    "id": "OUf3eK9U6zoU"
   },
   "outputs": [],
   "source": [
    "A = jnp.array(a)\n",
    "B = jnp.array(b)"
   ]
  },
  {
   "cell_type": "code",
   "execution_count": null,
   "metadata": {
    "colab": {
     "base_uri": "https://localhost:8080/"
    },
    "id": "r2rA22LTzVAW",
    "outputId": "8fb64046-d2ce-4a5e-df9f-4c32e7102f6e"
   },
   "outputs": [],
   "source": [
    "%timeit A * B"
   ]
  },
  {
   "cell_type": "code",
   "execution_count": null,
   "metadata": {
    "id": "mXMZuasrsiG1"
   },
   "outputs": [],
   "source": [
    "from jax import device_put"
   ]
  },
  {
   "cell_type": "code",
   "execution_count": null,
   "metadata": {
    "id": "cKTc8PLYslUy"
   },
   "outputs": [],
   "source": [
    "aj = device_put(A)\n",
    "bj = device_put(B)"
   ]
  },
  {
   "cell_type": "code",
   "execution_count": null,
   "metadata": {
    "colab": {
     "base_uri": "https://localhost:8080/"
    },
    "id": "QXGgR7_Wsr0A",
    "outputId": "36b462c1-2e6d-4867-ca1f-eb0b2a113ab7"
   },
   "outputs": [],
   "source": [
    "%timeit aj * bj"
   ]
  },
  {
   "cell_type": "markdown",
   "metadata": {
    "id": "bw8ZEgEFt7Fi"
   },
   "source": [
    "#### **Shape compatibility**"
   ]
  },
  {
   "cell_type": "code",
   "execution_count": null,
   "metadata": {
    "id": "45rj3f9Yt6jy"
   },
   "outputs": [],
   "source": [
    "a = np.random.randint(100, size=(3,10))\n",
    "b = np.random.randint(100, size=(3,6))"
   ]
  },
  {
   "cell_type": "code",
   "execution_count": null,
   "metadata": {
    "colab": {
     "base_uri": "https://localhost:8080/",
     "height": 178
    },
    "id": "ujcUeTvPuBkb",
    "outputId": "d90f8638-0339-404b-d864-d90dd3011126"
   },
   "outputs": [],
   "source": [
    "a * b"
   ]
  },
  {
   "cell_type": "code",
   "execution_count": null,
   "metadata": {
    "colab": {
     "base_uri": "https://localhost:8080/",
     "height": 178
    },
    "id": "TpVoqVbuuKAu",
    "outputId": "d7bd42c8-3be0-4f82-a901-525f26868a70"
   },
   "outputs": [],
   "source": [
    "a.T * b"
   ]
  },
  {
   "cell_type": "code",
   "execution_count": null,
   "metadata": {
    "colab": {
     "base_uri": "https://localhost:8080/"
    },
    "id": "FQVgP-mNuOX9",
    "outputId": "d06941f8-c4ef-4d48-af4f-a6732218d268"
   },
   "outputs": [],
   "source": [
    "np.matmul(a.T,b)"
   ]
  },
  {
   "cell_type": "code",
   "execution_count": null,
   "metadata": {
    "colab": {
     "base_uri": "https://localhost:8080/"
    },
    "id": "oKc-kVrUupOt",
    "outputId": "d50c0b7d-8e5a-4f1e-bf38-5b13fad186cc"
   },
   "outputs": [],
   "source": [
    "a = np.random.randint(100, size=(3,10))\n",
    "b = np.random.randint(100, size=(3,10))\n",
    "\n",
    "a * b"
   ]
  },
  {
   "cell_type": "markdown",
   "metadata": {
    "id": "DIS-oOLGtTTj"
   },
   "source": [
    "### **Pandas DataFrames**"
   ]
  },
  {
   "cell_type": "code",
   "execution_count": null,
   "metadata": {
    "colab": {
     "base_uri": "https://localhost:8080/",
     "height": 300
    },
    "id": "k7L5r6mStSuq",
    "outputId": "af5f3477-f191-4a04-842a-366d6a47287a"
   },
   "outputs": [],
   "source": [
    "widths = [10, 13, 11, 14, 12, 10, 9, 13]\n",
    "heights = [20, 23, 21, 24, 22, 20, 29, 23]\n",
    "names = [\"Buddy\",\"Max\",\"Charlie\",\"Cooper\",\"Rocky\",\"Bear\",\"Duke\",\"Toby\"]\n",
    "\n",
    "data = np.array([widths, heights])\n",
    "\n",
    "df = pd.DataFrame(data=data.T, columns=[\"width\",\"height\"], index=names)\n",
    "df"
   ]
  },
  {
   "cell_type": "code",
   "execution_count": null,
   "metadata": {
    "colab": {
     "base_uri": "https://localhost:8080/"
    },
    "id": "PeWE3vmqu4hz",
    "outputId": "d2258dd4-e273-4551-8aa3-a49f23f5c7a2"
   },
   "outputs": [],
   "source": [
    "df[\"width\"]"
   ]
  },
  {
   "cell_type": "code",
   "execution_count": null,
   "metadata": {
    "colab": {
     "base_uri": "https://localhost:8080/"
    },
    "id": "xl81Kl96u4mt",
    "outputId": "9dce4889-6d4b-4c83-8d4b-21f47bc39e44"
   },
   "outputs": [],
   "source": [
    "df.loc[\"Cooper\"]"
   ]
  },
  {
   "cell_type": "code",
   "execution_count": null,
   "metadata": {
    "colab": {
     "base_uri": "https://localhost:8080/"
    },
    "id": "gLsu16Gpu4sm",
    "outputId": "be316a56-5704-47eb-bc39-dfd9331cce11"
   },
   "outputs": [],
   "source": [
    "df.loc[\"Cooper\",\"width\"]"
   ]
  },
  {
   "cell_type": "code",
   "execution_count": null,
   "metadata": {
    "colab": {
     "base_uri": "https://localhost:8080/",
     "height": 175
    },
    "id": "icrKrwbrcKqa",
    "outputId": "c28b49cc-7a42-4c03-aa31-aab7fb3bd5f7"
   },
   "outputs": [],
   "source": [
    "df[df[\"width\"] > 11]"
   ]
  },
  {
   "cell_type": "code",
   "execution_count": null,
   "metadata": {
    "colab": {
     "base_uri": "https://localhost:8080/",
     "height": 300
    },
    "id": "MtrkkPeaYtQK",
    "outputId": "5e1dcaa3-c5dd-40ec-d1ad-5a86351cb41b"
   },
   "outputs": [],
   "source": [
    "df[\"area\"] = df[\"width\"] * df[\"height\"]\n",
    "df"
   ]
  },
  {
   "cell_type": "code",
   "execution_count": null,
   "metadata": {
    "colab": {
     "base_uri": "https://localhost:8080/",
     "height": 300
    },
    "id": "OYfs7pLKZUyY",
    "outputId": "b6f125cd-645d-4c9e-e392-3a5c7be7e7f6"
   },
   "outputs": [],
   "source": [
    "df[\"area_cm\"] = df[\"area\"].astype(str) + \" cm^2\"\n",
    "df"
   ]
  },
  {
   "cell_type": "code",
   "execution_count": null,
   "metadata": {
    "colab": {
     "base_uri": "https://localhost:8080/",
     "height": 300
    },
    "id": "Zd2JP9vWY3cy",
    "outputId": "d61723b9-97aa-485e-b795-7954fa77fbcd"
   },
   "outputs": [],
   "source": [
    "df[\"area_cm\"] = df[\"area\"].apply(lambda x: str(x) + \" cm^2\")\n",
    "df"
   ]
  },
  {
   "cell_type": "code",
   "execution_count": null,
   "metadata": {
    "colab": {
     "base_uri": "https://localhost:8080/"
    },
    "id": "tNZlmC7uZ5K0",
    "outputId": "4cc8c19d-ec36-4498-94ba-eeba380b58fc"
   },
   "outputs": [],
   "source": [
    "df.to_numpy()"
   ]
  },
  {
   "cell_type": "code",
   "execution_count": null,
   "metadata": {
    "colab": {
     "base_uri": "https://localhost:8080/",
     "height": 300
    },
    "id": "JdZmHU0PZ5RJ",
    "outputId": "629e081f-ee48-40b4-ffbe-57c9bb12665a"
   },
   "outputs": [],
   "source": [
    "df.describe()"
   ]
  },
  {
   "cell_type": "code",
   "execution_count": null,
   "metadata": {
    "colab": {
     "base_uri": "https://localhost:8080/",
     "height": 300
    },
    "id": "bLTYIkAnaSbW",
    "outputId": "16ddd861-935a-4b20-cc40-6cb36d82245b"
   },
   "outputs": [],
   "source": [
    "df.sort_index()"
   ]
  },
  {
   "cell_type": "code",
   "execution_count": null,
   "metadata": {
    "colab": {
     "base_uri": "https://localhost:8080/",
     "height": 300
    },
    "id": "ZaS-ghD9aVuY",
    "outputId": "9f139f15-40a5-4b8b-ae84-12a81d57a163"
   },
   "outputs": [],
   "source": [
    "df.sort_values(by=\"width\")"
   ]
  },
  {
   "cell_type": "code",
   "execution_count": null,
   "metadata": {
    "id": "z1phzNaBZ_Ts"
   },
   "outputs": [],
   "source": [
    "df.to_csv(\"file.csv\")"
   ]
  },
  {
   "cell_type": "code",
   "execution_count": null,
   "metadata": {
    "colab": {
     "base_uri": "https://localhost:8080/",
     "height": 300
    },
    "id": "zDm5zdEVaC9J",
    "outputId": "b4023146-fe51-4c5a-e522-d36feb9538c3"
   },
   "outputs": [],
   "source": [
    "new_df = pd.read_csv(\"file.csv\")\n",
    "\n",
    "new_df"
   ]
  },
  {
   "cell_type": "code",
   "execution_count": null,
   "metadata": {
    "colab": {
     "base_uri": "https://localhost:8080/",
     "height": 300
    },
    "id": "BRX5-BsLaH2w",
    "outputId": "f01076fd-fd63-400f-9c2c-3c097c5d1be2"
   },
   "outputs": [],
   "source": [
    "new_df = pd.read_csv(\"file.csv\", index_col=0)\n",
    "\n",
    "new_df"
   ]
  },
  {
   "cell_type": "markdown",
   "metadata": {
    "id": "z1DRbATkT0FO"
   },
   "source": [
    "## **\"Hello world\" of ML**"
   ]
  },
  {
   "cell_type": "markdown",
   "metadata": {
    "id": "4ah0tcn4iWnr"
   },
   "source": [
    "### **task 1:** generate 2 distinct datagroups each with 100 datapoints using a 2D normal distribution and plot them"
   ]
  },
  {
   "cell_type": "code",
   "execution_count": null,
   "metadata": {
    "id": "rPzBBQnl-_bd"
   },
   "outputs": [],
   "source": []
  },
  {
   "cell_type": "code",
   "execution_count": null,
   "metadata": {
    "id": "YrPjIYbC_dr2"
   },
   "outputs": [],
   "source": []
  },
  {
   "cell_type": "markdown",
   "metadata": {
    "id": "rG_bGE928Luu"
   },
   "source": [
    "### **task 2:** stack the data into single array and use K-means clustering algorithm to divide them\n",
    "\n",
    "hint: `from sklearn.cluster import KMeans`"
   ]
  },
  {
   "cell_type": "code",
   "execution_count": null,
   "metadata": {
    "id": "kZXzPAmF8GH9"
   },
   "outputs": [],
   "source": []
  },
  {
   "cell_type": "code",
   "execution_count": null,
   "metadata": {
    "id": "ciJ-TLph2JTO"
   },
   "outputs": [],
   "source": []
  },
  {
   "cell_type": "code",
   "execution_count": null,
   "metadata": {
    "id": "fXz3HjCS1QMu"
   },
   "outputs": [],
   "source": []
  },
  {
   "cell_type": "code",
   "execution_count": null,
   "metadata": {
    "id": "WBGNATfh8d_Y"
   },
   "outputs": [],
   "source": []
  },
  {
   "cell_type": "code",
   "execution_count": null,
   "metadata": {
    "id": "omioKGXjoB6x"
   },
   "outputs": [],
   "source": []
  },
  {
   "cell_type": "code",
   "execution_count": null,
   "metadata": {
    "id": "DMUDW9MmoOpH"
   },
   "outputs": [],
   "source": []
  },
  {
   "cell_type": "code",
   "execution_count": null,
   "metadata": {
    "id": "WgcZfjH5oY-B"
   },
   "outputs": [],
   "source": []
  },
  {
   "cell_type": "markdown",
   "metadata": {
    "id": "CUn4UJsKPxcw"
   },
   "source": [
    "### **task 3:** estimate how many datapoints were clustered incorrectly and plot them"
   ]
  },
  {
   "cell_type": "code",
   "execution_count": null,
   "metadata": {
    "id": "1wWbLhwLofW4"
   },
   "outputs": [],
   "source": []
  },
  {
   "cell_type": "code",
   "execution_count": null,
   "metadata": {
    "id": "hyHawDnO3Ajp"
   },
   "outputs": [],
   "source": []
  },
  {
   "cell_type": "code",
   "execution_count": null,
   "metadata": {
    "id": "ygdHsJBK3AnW"
   },
   "outputs": [],
   "source": []
  },
  {
   "cell_type": "code",
   "execution_count": null,
   "metadata": {
    "id": "EZXfuGzB3Ari"
   },
   "outputs": [],
   "source": []
  },
  {
   "cell_type": "markdown",
   "metadata": {
    "id": "yn2c1YOP-W2z"
   },
   "source": [
    "## **ChatGPT**"
   ]
  },
  {
   "cell_type": "code",
   "execution_count": null,
   "metadata": {
    "id": "-sHf69q64cQz"
   },
   "outputs": [],
   "source": []
  },
  {
   "cell_type": "code",
   "execution_count": null,
   "metadata": {
    "id": "fLiernuDAOuQ"
   },
   "outputs": [],
   "source": []
  }
 ],
 "metadata": {
  "accelerator": "GPU",
  "colab": {
   "gpuType": "T4",
   "name": "Kopie sešitu 01_uvod.ipynb",
   "provenance": [],
   "toc_visible": true
  },
  "kernelspec": {
   "display_name": "Python 3 (ipykernel)",
   "language": "python",
   "name": "python3"
  },
  "language_info": {
   "codemirror_mode": {
    "name": "ipython",
    "version": 3
   },
   "file_extension": ".py",
   "mimetype": "text/x-python",
   "name": "python",
   "nbconvert_exporter": "python",
   "pygments_lexer": "ipython3",
   "version": "3.11.9"
  }
 },
 "nbformat": 4,
 "nbformat_minor": 4
}
