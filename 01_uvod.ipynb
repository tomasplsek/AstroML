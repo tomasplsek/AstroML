{
  "nbformat": 4,
  "nbformat_minor": 0,
  "metadata": {
    "colab": {
      "name": "01_uvod.ipynb",
      "provenance": [],
      "collapsed_sections": [],
      "toc_visible": true,
      "mount_file_id": "https://github.com/tomasplsek/AstroML/blob/main/01_uvod.ipynb",
      "authorship_tag": "ABX9TyMARH4TU9wl9LYtbPNDKf/2",
      "include_colab_link": true
    },
    "kernelspec": {
      "name": "python3",
      "display_name": "Python 3"
    },
    "language_info": {
      "name": "python"
    },
    "accelerator": "GPU"
  },
  "cells": [
    {
      "cell_type": "markdown",
      "metadata": {
        "id": "view-in-github",
        "colab_type": "text"
      },
      "source": [
        "<a href=\"https://colab.research.google.com/github/tomasplsek/AstroML/blob/main/01_uvod.ipynb\" target=\"_parent\"><img src=\"https://colab.research.google.com/assets/colab-badge.svg\" alt=\"Open In Colab\"/></a>"
      ]
    },
    {
      "cell_type": "markdown",
      "metadata": {
        "id": "uOHZeYnyBsZK"
      },
      "source": [
        "# **Introduction to Machine learning for astronomers in Python**\n",
        "\n",
        "\n"
      ]
    },
    {
      "cell_type": "markdown",
      "metadata": {
        "id": "GGAqtXiTHfxc"
      },
      "source": [
        "> - 6-7 lectures\n",
        "- 6 hands-on sessions\n",
        "- final project\n",
        "\n",
        "\n",
        "<div style=\"\">\n",
        "<img src=\"https://drive.google.com/uc?export=view&id=1PVaglpQVQ8SztKgdBpJhWqNq8Se9SNlq\" height=\"160px\" align=\"right\">\n",
        "\n",
        "<img src=\"https://cdn.muni.cz/media/3289673/matejkosiba.jpg?mode=crop&center=0.53,0.57&rnd=132563180850000000&width=179\" height=\"160px\" align=\"right\">\n",
        "\n",
        "<img src=\"https://cdn.muni.cz/media/3291288/toastm.jpg?mode=crop&center=0.5,0.5&rnd=132569108280000000&width=179\" height=\"160px\" align=\"right\">\n",
        "\n",
        "\\\\\n",
        "### **Timetable**\n",
        ">16.9. - 1st lecture\\\n",
        "23.9. - Tomáš: *Intro to Colab / Jupyter*\\\n",
        "30.9. - Dean's leave\\\n",
        "7.10. - 2nd lecture\\\n",
        "14.10. - \\\n",
        "21.10. - 3rd lecture\\\n",
        "28.10. - \\\n",
        "4.11. - 4th lecture\\\n",
        "11.11. - \\\n",
        "18.11. - 5th lecture\\\n",
        "25.11. - Tomáš: *Intro to neural networks*\\\n",
        "2.12. - 6th lecture\\\n",
        "9.12. - \\\n",
        "16.12. - 7th lecture\\\n",
        "23.12. - ???"
      ]
    },
    {
      "cell_type": "markdown",
      "metadata": {
        "id": "MzfUv0CzSM8U"
      },
      "source": [
        "</div>\n",
        "\n",
        "> **Tomáš Plšek**\n",
        "> <br><br>\n",
        "> email: <a href=\"mailto:plsek@physics.muni.cz\">plsek@physics.muni.cz</a>\\\n",
        "> github: [tomasplsek](https://github.com/tomasplsek)\\\n",
        "> web: [physics.muni.cz/~plsek](https://www.physics.muni.cz/~plsek/)\\\n",
        "> office: [building 8 (math), 4th floor, last door to the left](https://is.muni.cz/auth/kontakty/mistnost?id=10454)"
      ]
    },
    {
      "cell_type": "markdown",
      "metadata": {
        "id": "wRhLdSG9XF83"
      },
      "source": [
        "# 1. hands-on session: **Intro to Colab / Jupyter**"
      ]
    },
    {
      "cell_type": "markdown",
      "metadata": {
        "id": "Mog5i70hzAXg"
      },
      "source": [
        "## **Contents**\n",
        "\n",
        "\n",
        "\n",
        "1.   What is machine learning?\n",
        "2.   Hardware / software\n",
        "3.   Google Colab / Conda + Jupyter\n",
        "4.   Basics of Python\n",
        "5.   \"Hello world\" of ML\n",
        "6.   What can I do with ML?\n",
        "7.   CADET\n",
        "8.   OpenAI Codex"
      ]
    },
    {
      "cell_type": "markdown",
      "metadata": {
        "id": "pJ6uaY6Czzm4"
      },
      "source": [
        "## **What is Machine learning?**\n",
        "\n",
        "Machine Learning is a set of algorithms with tunable parameters that can learn and adjust the values of these parameters from previously seen data and generalising for prediction of new yet unseen data.\n",
        "\n",
        "<img src=\"https://drive.google.com/uc?export=view&id=1iCTWs8F4-fxZgqOi3opWPg_PRB3Xgd92\" height=\"340px\" align=\"left\">\n",
        "\n",
        "<img src=\"https://drive.google.com/uc?export=view&id=11faQQUfu0XGwcpItsXronTO9Bs1B4SRg\" height=\"340px\" align=\"right\">"
      ]
    },
    {
      "cell_type": "markdown",
      "metadata": {
        "id": "KxAysN8s6-Tu"
      },
      "source": [
        "### **Why now?**\n",
        "1943 - Neural networks\\\n",
        "1957 - **Perceptron** (Frank Rosenblatt)\\\n",
        "1967 -  **Nearest neighbor algorithm**\\\n",
        "...\\\n",
        "2006 - Deep Learning\\\n",
        "2016 - Alpha Go\\\n",
        "2021 - selfdriving cars"
      ]
    },
    {
      "cell_type": "markdown",
      "metadata": {
        "id": "nubcLWsQBsWK"
      },
      "source": [
        "<img src=\"https://drive.google.com/uc?export=view&id=19rLShDospF7mDvaWn9aJtVPePeNV0SQx\" width=\"460px\" align=\"right\">\n",
        "\n",
        "## **Hardware**\n",
        "\n",
        "*   **CPU** = *central processing unit*\\\n",
        "    \\- in every computer / mobile phone\\\n",
        "    \\- scalar operations\\\n",
        "    \\- integrated GPUs\\\n",
        "    \\- multiple cores / threads (parallelizable)\\\n",
        "    \\- Intel, AMD\n",
        "\n",
        "<br>\n",
        "\n",
        "<img src=\"https://drive.google.com/uc?export=view&id=1m5eUCkodoLlHpW6JsABUOVOVm_nn2Gtr\" width=\"460px\" align=\"right\">\n",
        "\n",
        "\n",
        "*   **GPU** = *graphical processing unit*\\\n",
        "    \\- vector operations\\\n",
        "    \\- graphics and games\\\n",
        "    \\- dedicated: NVIDIA, AMD\n",
        "\n",
        "<br>\n",
        "\n",
        "*   **TPU** = *tensor processing unit*\\\n",
        "    \\- tensor operations\\\n",
        "    \\- developed by Google for Tensorflow\\\n",
        "    \\- narrow utilization field\n",
        "\n",
        "<br>\n",
        "\n",
        "\n"
      ]
    },
    {
      "cell_type": "markdown",
      "metadata": {
        "id": "56ZXgZNCBsO4"
      },
      "source": [
        "## **Software**\n",
        "\n",
        "Libraries for comunication with GPU:\n",
        "\n",
        "<img src=\"https://www.nvidia.com/etc/designs/nvidiaGDC/clientlibs_base/images/NVIDIA-Logo.svg\" height=\"50px\" align=\"right\">\n",
        "\n",
        "*   CUDA = NVIDIA libraries ([toolkit](https://developer.nvidia.com/cuda-toolkit-archive), [cuDNN](https://developer.nvidia.com/rdp/cudnn-download))\\\n",
        "    \\- GPU acceleration (Win & Linux)\\\n",
        "    \\- lower level\n",
        "\n",
        "<br>\n",
        "\n",
        "Higher level libraries are being developed mostly for Python:\n",
        "\n",
        "<img src=\"https://scikit-learn.org/stable/_static/scikit-learn-logo-small.png\" height=\"50px\" align=\"right\">\n",
        "\n",
        "*   [scikit-learn](https://scikit-learn.org/stable/)\\\n",
        "    \\- set of general ML tools\n",
        "\n",
        "<img src=\"https://www.gstatic.com/devrel-devsite/prod/v509a5f4800978e3ce5a1a5f2c1483bd166c25f20fdb759fe97f6131b7e9f1f00/tensorflow/images/lockup.svg\" height=\"50px\" align=\"right\">\n",
        "\n",
        "*   [tensorflow](https://www.tensorflow.org/)\\\n",
        "    \\- matrix and tensor computations\\\n",
        "    \\- using CUDA and GPU ([install](https://www.tensorflow.org/install/gpu), [setup](https://www.tensorflow.org/guide/gpu))\n",
        "\n",
        "<img src=\"https://keras.io/img/logo.png\" height=\"50px\" align=\"right\">\n",
        "\n",
        "*   [keras](https://keras.io/)\\\n",
        "    \\- on top of tensorflow\\\n",
        "    \\- neural networks (dense & convolutional layers)\n",
        "\n",
        "*   others: [pyTorch](https://pytorch.org/), Theano\n",
        "\n",
        "<br>\n",
        "\n",
        "Programing environments:\n",
        "\n",
        "<div style=\"display:table\">\n",
        "\n",
        "<img src=\"https://colab.research.google.com/img/colab_favicon_256px.png\" height=\"90px\" align=\"right\">\n",
        "\n",
        "<img src=\"https://jupyter.org/assets/main-logo.svg\" height=\"90px\" align=\"right\" style=\"margin-right:100px\">\n",
        "\n",
        "</div>\n",
        "\n",
        "\n",
        "*   [Conda](https://www.anaconda.com/products/individual) + [Jupyter](https://jupyter.org/) notebook/lab\n",
        "\n",
        "*   Google Colab"
      ]
    },
    {
      "cell_type": "markdown",
      "metadata": {
        "id": "ORuaA4ZQOhO3"
      },
      "source": [
        "## **Conda + Jupyterlab**\n",
        "\n",
        "Win10: [WSL](https://docs.microsoft.com/en-us/windows/wsl/install) + Ubuntu\\\n",
        "Linux: terminal\n",
        "\n",
        "[Conda](https://www.anaconda.com/products/individual)"
      ]
    },
    {
      "cell_type": "markdown",
      "metadata": {
        "id": "eLclsAQTVO5H"
      },
      "source": [
        "## **Google Colab**\n",
        "\n",
        "- access to notebooks and files from **Google drive** and **GitHub**\n",
        "- share notebooks\n",
        "- GPU / TPU acceleration\n",
        "- plenty of preinstalled packages (```numpy```, ```scipy```, ```matplotlib```, ```keras```, ```tensorflow```...)\n",
        "- bash shell commands ```!```\n",
        "- new packages are easy to install: ```!pip install corner```\n",
        "- [magical commands](https://ipython.readthedocs.io/en/stable/interactive/magics.html) ```%```\n",
        "- include markdown or HTML blocks\n",
        "- get help"
      ]
    },
    {
      "cell_type": "code",
      "metadata": {
        "id": "7-4pg3boVDZa",
        "colab": {
          "base_uri": "https://localhost:8080/"
        },
        "outputId": "d4df8c7f-c58c-4760-9b88-1ad54bb3d55e"
      },
      "source": [
        "from google.colab import drive\n",
        "drive.mount('/content/drive', force_remount=True)"
      ],
      "execution_count": 18,
      "outputs": [
        {
          "output_type": "stream",
          "name": "stdout",
          "text": [
            "Mounted at /content/drive\n"
          ]
        }
      ]
    },
    {
      "cell_type": "code",
      "metadata": {
        "id": "Ch8c25Amzwnv",
        "colab": {
          "base_uri": "https://localhost:8080/"
        },
        "outputId": "31c57b24-2012-48f2-d42d-1a8844d854cb"
      },
      "source": [
        "import tensorflow as tf\n",
        "print(\"Num GPUs Available: \", len(tf.config.list_physical_devices('GPU')))"
      ],
      "execution_count": 1,
      "outputs": [
        {
          "output_type": "stream",
          "name": "stdout",
          "text": [
            "Num GPUs Available:  1\n"
          ]
        }
      ]
    },
    {
      "cell_type": "code",
      "metadata": {
        "id": "EHWQwYG91RUS"
      },
      "source": [
        "import keras\n",
        "import tensorflow"
      ],
      "execution_count": 2,
      "outputs": []
    },
    {
      "cell_type": "code",
      "metadata": {
        "id": "AuSU4S-3VBTD"
      },
      "source": [
        "import matplotlib.pyplot as plt"
      ],
      "execution_count": 3,
      "outputs": []
    },
    {
      "cell_type": "code",
      "metadata": {
        "id": "mD257_HmBbT-",
        "colab": {
          "base_uri": "https://localhost:8080/"
        },
        "outputId": "c9e73525-0b68-4fd4-f290-483578095b7f"
      },
      "source": [
        "!ls"
      ],
      "execution_count": 4,
      "outputs": [
        {
          "output_type": "stream",
          "name": "stdout",
          "text": [
            "drive  sample_data\n"
          ]
        }
      ]
    },
    {
      "cell_type": "code",
      "metadata": {
        "id": "fGsYe8UxFGgT",
        "colab": {
          "base_uri": "https://localhost:8080/"
        },
        "outputId": "1710257a-702f-44d8-acd0-c7af2527a032"
      },
      "source": [
        "!pwd"
      ],
      "execution_count": 5,
      "outputs": [
        {
          "output_type": "stream",
          "name": "stdout",
          "text": [
            "/content\n"
          ]
        }
      ]
    },
    {
      "cell_type": "code",
      "metadata": {
        "id": "3vGSQAVJa1k3",
        "colab": {
          "base_uri": "https://localhost:8080/"
        },
        "outputId": "2faf68ef-d70d-40fd-a6ec-efee2fb7b1b6"
      },
      "source": [
        "!echo a"
      ],
      "execution_count": 6,
      "outputs": [
        {
          "output_type": "stream",
          "name": "stdout",
          "text": [
            "a\n"
          ]
        }
      ]
    },
    {
      "cell_type": "code",
      "metadata": {
        "id": "5NCXZeOAElv5"
      },
      "source": [
        "!echo \"nic\" > file.txt"
      ],
      "execution_count": 7,
      "outputs": []
    },
    {
      "cell_type": "code",
      "metadata": {
        "id": "_7DCE1HH3FA1",
        "colab": {
          "base_uri": "https://localhost:8080/"
        },
        "outputId": "4a0bf8aa-53bb-412f-ac97-672e3288c00f"
      },
      "source": [
        "!pip install corner"
      ],
      "execution_count": 8,
      "outputs": [
        {
          "output_type": "stream",
          "name": "stdout",
          "text": [
            "Collecting corner\n",
            "  Downloading corner-2.2.1-py3-none-any.whl (15 kB)\n",
            "Requirement already satisfied: matplotlib>=2.1 in /usr/local/lib/python3.7/dist-packages (from corner) (3.2.2)\n",
            "Requirement already satisfied: numpy>=1.11 in /usr/local/lib/python3.7/dist-packages (from matplotlib>=2.1->corner) (1.19.5)\n",
            "Requirement already satisfied: cycler>=0.10 in /usr/local/lib/python3.7/dist-packages (from matplotlib>=2.1->corner) (0.10.0)\n",
            "Requirement already satisfied: pyparsing!=2.0.4,!=2.1.2,!=2.1.6,>=2.0.1 in /usr/local/lib/python3.7/dist-packages (from matplotlib>=2.1->corner) (2.4.7)\n",
            "Requirement already satisfied: python-dateutil>=2.1 in /usr/local/lib/python3.7/dist-packages (from matplotlib>=2.1->corner) (2.8.2)\n",
            "Requirement already satisfied: kiwisolver>=1.0.1 in /usr/local/lib/python3.7/dist-packages (from matplotlib>=2.1->corner) (1.3.2)\n",
            "Requirement already satisfied: six in /usr/local/lib/python3.7/dist-packages (from cycler>=0.10->matplotlib>=2.1->corner) (1.15.0)\n",
            "Installing collected packages: corner\n",
            "Successfully installed corner-2.2.1\n"
          ]
        }
      ]
    },
    {
      "cell_type": "code",
      "metadata": {
        "id": "XYiDm2zCGaOo"
      },
      "source": [
        "import corner"
      ],
      "execution_count": 9,
      "outputs": []
    },
    {
      "cell_type": "code",
      "metadata": {
        "id": "0bYb4aKd_oRD"
      },
      "source": [
        "%matplotlib inline"
      ],
      "execution_count": null,
      "outputs": []
    },
    {
      "cell_type": "code",
      "metadata": {
        "id": "7f7s7fIa1PTp",
        "colab": {
          "base_uri": "https://localhost:8080/"
        },
        "outputId": "1d286078-eada-4c41-f1b2-c203fb5be67e"
      },
      "source": [
        "%pylab"
      ],
      "execution_count": 10,
      "outputs": [
        {
          "output_type": "stream",
          "name": "stdout",
          "text": [
            "Using matplotlib backend: agg\n",
            "Populating the interactive namespace from numpy and matplotlib\n"
          ]
        }
      ]
    },
    {
      "cell_type": "code",
      "metadata": {
        "id": "ki0THCp7G2Fb",
        "colab": {
          "base_uri": "https://localhost:8080/"
        },
        "outputId": "8708eadc-480d-40bf-b522-078922177c4e"
      },
      "source": [
        "%time print(\"nazdar\")"
      ],
      "execution_count": 17,
      "outputs": [
        {
          "output_type": "stream",
          "name": "stdout",
          "text": [
            "nazdar\n",
            "CPU times: user 79 µs, sys: 13 µs, total: 92 µs\n",
            "Wall time: 98.7 µs\n"
          ]
        }
      ]
    },
    {
      "cell_type": "code",
      "metadata": {
        "id": "n4B78gbM_q-S",
        "colab": {
          "base_uri": "https://localhost:8080/"
        },
        "outputId": "2d44aea5-405f-4e35-b4f7-6deee444a179"
      },
      "source": [
        "import time\n",
        "\n",
        "def fun():\n",
        "    time.sleep(1)\n",
        "    time.sleep(1)\n",
        "\n",
        "%time fun()"
      ],
      "execution_count": 14,
      "outputs": [
        {
          "output_type": "stream",
          "name": "stdout",
          "text": [
            "CPU times: user 10.5 ms, sys: 0 ns, total: 10.5 ms\n",
            "Wall time: 2 s\n"
          ]
        }
      ]
    },
    {
      "cell_type": "code",
      "metadata": {
        "colab": {
          "base_uri": "https://localhost:8080/"
        },
        "id": "4oX8iIIoC5Ib",
        "outputId": "ba6a16e9-b29c-4f5f-b10c-d7a9c3864927"
      },
      "source": [
        "%timeit -r 10 time.sleep(1)"
      ],
      "execution_count": 18,
      "outputs": [
        {
          "output_type": "stream",
          "name": "stdout",
          "text": [
            "1 loop, best of 10: 1 s per loop\n"
          ]
        }
      ]
    },
    {
      "cell_type": "markdown",
      "metadata": {
        "id": "AHctq1jYDb5F"
      },
      "source": [
        "# Nadpis\n",
        "\n",
        "## Nadpis\n",
        "\n",
        "### Nadpis\n",
        "\n",
        "**bold**\n",
        "\n",
        "*italic*\n",
        "\n",
        "\n",
        "\n",
        "```python\n",
        "import numpy\n",
        "```\n",
        "\n",
        "\n",
        "[text odkazu](https://scikit-learn.org/stable/)\n",
        "\n",
        "\n",
        "![](https://scikit-learn.org/stable/_static/scikit-learn-logo-small.png)\n",
        "\n",
        "<img src=\"https://scikit-learn.org/stable/_static/scikit-learn-logo-small.png\">"
      ]
    },
    {
      "cell_type": "markdown",
      "metadata": {
        "id": "Ag9DQQvEDcjk"
      },
      "source": [
        ""
      ]
    },
    {
      "cell_type": "code",
      "metadata": {
        "id": "o7g1WVCUfJYx",
        "colab": {
          "base_uri": "https://localhost:8080/",
          "height": 321
        },
        "outputId": "508246e4-fa65-422b-e34c-ee2743aca27c"
      },
      "source": [
        "from IPython.display import YouTubeVideo\n",
        "YouTubeVideo('aDmtKp8Avw4')"
      ],
      "execution_count": 19,
      "outputs": [
        {
          "output_type": "execute_result",
          "data": {
            "text/html": [
              "\n",
              "        <iframe\n",
              "            width=\"400\"\n",
              "            height=\"300\"\n",
              "            src=\"https://www.youtube.com/embed/aDmtKp8Avw4\"\n",
              "            frameborder=\"0\"\n",
              "            allowfullscreen\n",
              "        ></iframe>\n",
              "        "
            ],
            "text/plain": [
              "<IPython.lib.display.YouTubeVideo at 0x7f28e09ffa50>"
            ],
            "image/jpeg": "[encoded data removed]"
          },
          "metadata": {},
          "execution_count": 19
        }
      ]
    },
    {
      "cell_type": "markdown",
      "metadata": {
        "id": "arYFWel9AeWm"
      },
      "source": [
        ""
      ]
    },
    {
      "cell_type": "markdown",
      "metadata": {
        "id": "QKTnkxLbV1pv"
      },
      "source": [
        ""
      ]
    },
    {
      "cell_type": "markdown",
      "metadata": {
        "id": "5xLIHRDdc29-"
      },
      "source": [
        "## **Basics of Python**\n",
        "\n",
        "- object oriented programming language\n",
        "- high level language (implemented using C)\n",
        "- interpreted\n",
        "- open sourced / free to use\n",
        "- plenty of modules (`scipy`, `astropy`, `keras`, `Qt`...)\n",
        "- Python2, **Python3**\n",
        "- NOT ONLY scripting language\n",
        "- computations, programs, graphical interface, webs..."
      ]
    },
    {
      "cell_type": "code",
      "metadata": {
        "id": "Sc7DJB68hZ83",
        "colab": {
          "base_uri": "https://localhost:8080/"
        },
        "outputId": "3695f7aa-f05e-4f9e-93b5-2508283f84ae"
      },
      "source": [
        "import sys\n",
        "print(sys.version)"
      ],
      "execution_count": 20,
      "outputs": [
        {
          "output_type": "stream",
          "name": "stdout",
          "text": [
            "3.7.12 (default, Sep 10 2021, 00:21:48) \n",
            "[GCC 7.5.0]\n"
          ]
        }
      ]
    },
    {
      "cell_type": "markdown",
      "metadata": {
        "id": "BUJGSuJlp8xN"
      },
      "source": [
        "### **Variables**"
      ]
    },
    {
      "cell_type": "code",
      "metadata": {
        "id": "cIdGP4eRv3Es",
        "colab": {
          "base_uri": "https://localhost:8080/"
        },
        "outputId": "6a2c327c-41d9-40db-cfe3-57b9eda2bcec"
      },
      "source": [
        "a = 1\n",
        "b = 4.2\n",
        "c = \"word\"\n",
        "d = [1, 2, 3]\n",
        "e = (1, 2, 3)\n",
        "f = {\"Tomas\" : 1, \"Toast\" : 2, \"Matěj\" : 3}\n",
        "def fun(): pass\n",
        "import numpy\n",
        "from numpy import array\n",
        "g = array([1,2,3])\n",
        "from pandas import DataFrame\n",
        "\n",
        "for i in [a, b, c, d, e, f, fun, numpy, g, DataFrame()]:\n",
        "    print(type(i))"
      ],
      "execution_count": 17,
      "outputs": [
        {
          "output_type": "stream",
          "name": "stdout",
          "text": [
            "<class 'int'>\n",
            "<class 'float'>\n",
            "<class 'str'>\n",
            "<class 'list'>\n",
            "<class 'tuple'>\n",
            "<class 'dict'>\n",
            "<class 'function'>\n",
            "<class 'module'>\n",
            "<class 'numpy.ndarray'>\n",
            "<class 'pandas.core.frame.DataFrame'>\n"
          ]
        }
      ]
    },
    {
      "cell_type": "code",
      "metadata": {
        "id": "2fJcFoLuiFyQ"
      },
      "source": [
        "a = 1"
      ],
      "execution_count": 21,
      "outputs": []
    },
    {
      "cell_type": "code",
      "metadata": {
        "id": "G5p0NWLliF68"
      },
      "source": [
        "a = 1.5"
      ],
      "execution_count": 23,
      "outputs": []
    },
    {
      "cell_type": "code",
      "metadata": {
        "id": "4JYjQU6r9Z_x",
        "colab": {
          "base_uri": "https://localhost:8080/"
        },
        "outputId": "ba70c74b-33a4-44ce-b30d-0bb4effc22f2"
      },
      "source": [
        "a"
      ],
      "execution_count": 24,
      "outputs": [
        {
          "output_type": "execute_result",
          "data": {
            "text/plain": [
              "1.5"
            ]
          },
          "metadata": {},
          "execution_count": 24
        }
      ]
    },
    {
      "cell_type": "code",
      "metadata": {
        "id": "tTUkfP1Or0be"
      },
      "source": [
        "a = \"slovo\""
      ],
      "execution_count": 25,
      "outputs": []
    },
    {
      "cell_type": "code",
      "metadata": {
        "id": "4pwFxkUFr03F"
      },
      "source": [
        "a = (1,2,3)"
      ],
      "execution_count": 30,
      "outputs": []
    },
    {
      "cell_type": "code",
      "metadata": {
        "colab": {
          "base_uri": "https://localhost:8080/"
        },
        "id": "kzYrujdyr8YC",
        "outputId": "f081164b-5477-4851-c56f-5b03774d040b"
      },
      "source": [
        "a"
      ],
      "execution_count": 31,
      "outputs": [
        {
          "output_type": "execute_result",
          "data": {
            "text/plain": [
              "(1, 2, 3)"
            ]
          },
          "metadata": {},
          "execution_count": 31
        }
      ]
    },
    {
      "cell_type": "code",
      "metadata": {
        "colab": {
          "base_uri": "https://localhost:8080/",
          "height": 175
        },
        "id": "dEglHnpgsA9k",
        "outputId": "2339ac39-8402-4d46-82eb-8b2c56ee8d90"
      },
      "source": [
        "a.append(4)"
      ],
      "execution_count": 32,
      "outputs": [
        {
          "output_type": "error",
          "ename": "AttributeError",
          "evalue": "ignored",
          "traceback": [
            "\u001b[0;31m---------------------------------------------------------------------------\u001b[0m",
            "\u001b[0;31mAttributeError\u001b[0m                            Traceback (most recent call last)",
            "\u001b[0;32m<ipython-input-32-a39724ffcd65>\u001b[0m in \u001b[0;36m<module>\u001b[0;34m()\u001b[0m\n\u001b[0;32m----> 1\u001b[0;31m \u001b[0ma\u001b[0m\u001b[0;34m.\u001b[0m\u001b[0mappend\u001b[0m\u001b[0;34m(\u001b[0m\u001b[0;36m4\u001b[0m\u001b[0;34m)\u001b[0m\u001b[0;34m\u001b[0m\u001b[0;34m\u001b[0m\u001b[0m\n\u001b[0m",
            "\u001b[0;31mAttributeError\u001b[0m: 'tuple' object has no attribute 'append'"
          ]
        }
      ]
    },
    {
      "cell_type": "code",
      "metadata": {
        "id": "nRrMhXuaFKuB",
        "outputId": "a8eb9272-4176-46ed-989a-e0726c1c004d",
        "colab": {
          "base_uri": "https://localhost:8080/"
        }
      },
      "source": [
        "a"
      ],
      "execution_count": 29,
      "outputs": [
        {
          "output_type": "execute_result",
          "data": {
            "text/plain": [
              "[1, 2, 3, 4]"
            ]
          },
          "metadata": {},
          "execution_count": 29
        }
      ]
    },
    {
      "cell_type": "markdown",
      "metadata": {
        "id": "_FUsvJWkqBSP"
      },
      "source": [
        "### **Methods**"
      ]
    },
    {
      "cell_type": "code",
      "metadata": {
        "id": "c-GfWFkQqKY0"
      },
      "source": [
        ""
      ],
      "execution_count": null,
      "outputs": []
    },
    {
      "cell_type": "code",
      "metadata": {
        "id": "-EomYUkTqOF4"
      },
      "source": [
        ""
      ],
      "execution_count": null,
      "outputs": []
    },
    {
      "cell_type": "code",
      "metadata": {
        "id": "PqdxGzlfR0Hd"
      },
      "source": [
        ""
      ],
      "execution_count": null,
      "outputs": []
    },
    {
      "cell_type": "code",
      "metadata": {
        "id": "qG0Tuk3nnF9I"
      },
      "source": [
        ""
      ],
      "execution_count": null,
      "outputs": []
    },
    {
      "cell_type": "code",
      "metadata": {
        "id": "lR_JqpkEnGHB"
      },
      "source": [
        ""
      ],
      "execution_count": null,
      "outputs": []
    },
    {
      "cell_type": "code",
      "metadata": {
        "id": "k_fFUe2NnMZT"
      },
      "source": [
        ""
      ],
      "execution_count": null,
      "outputs": []
    },
    {
      "cell_type": "code",
      "metadata": {
        "id": "r_7GyElMcOxu"
      },
      "source": [
        ""
      ],
      "execution_count": null,
      "outputs": []
    },
    {
      "cell_type": "code",
      "metadata": {
        "id": "jXizXTtDcRNO"
      },
      "source": [
        ""
      ],
      "execution_count": null,
      "outputs": []
    },
    {
      "cell_type": "code",
      "metadata": {
        "id": "_39ZngUDcTnB"
      },
      "source": [
        ""
      ],
      "execution_count": null,
      "outputs": []
    },
    {
      "cell_type": "code",
      "metadata": {
        "id": "7Kt87mF2cWH2"
      },
      "source": [
        ""
      ],
      "execution_count": null,
      "outputs": []
    },
    {
      "cell_type": "code",
      "metadata": {
        "id": "Uf1t0w_CAcKp"
      },
      "source": [
        ""
      ],
      "execution_count": null,
      "outputs": []
    },
    {
      "cell_type": "code",
      "metadata": {
        "id": "bCYFowg7AgPk"
      },
      "source": [
        ""
      ],
      "execution_count": null,
      "outputs": []
    },
    {
      "cell_type": "code",
      "metadata": {
        "id": "Tkd2F-ZaAhqY"
      },
      "source": [
        ""
      ],
      "execution_count": null,
      "outputs": []
    },
    {
      "cell_type": "code",
      "metadata": {
        "id": "OEsliTN9v3IM"
      },
      "source": [
        ""
      ],
      "execution_count": null,
      "outputs": []
    },
    {
      "cell_type": "code",
      "metadata": {
        "id": "PUGZ9S1Ypgk3"
      },
      "source": [
        ""
      ],
      "execution_count": null,
      "outputs": []
    },
    {
      "cell_type": "code",
      "metadata": {
        "id": "L-FJel2Lpj-I"
      },
      "source": [
        ""
      ],
      "execution_count": null,
      "outputs": []
    },
    {
      "cell_type": "code",
      "metadata": {
        "id": "G7sRbLRXpnCO"
      },
      "source": [
        ""
      ],
      "execution_count": null,
      "outputs": []
    },
    {
      "cell_type": "code",
      "metadata": {
        "id": "WE7zZlajpogD"
      },
      "source": [
        ""
      ],
      "execution_count": null,
      "outputs": []
    },
    {
      "cell_type": "markdown",
      "metadata": {
        "id": "0zEiL1ySdeQ4"
      },
      "source": [
        "### Arrays"
      ]
    },
    {
      "cell_type": "code",
      "metadata": {
        "id": "CZvqgPH_pqTk"
      },
      "source": [
        ""
      ],
      "execution_count": null,
      "outputs": []
    },
    {
      "cell_type": "code",
      "metadata": {
        "id": "tYpeELvKo9po"
      },
      "source": [
        ""
      ],
      "execution_count": null,
      "outputs": []
    },
    {
      "cell_type": "code",
      "metadata": {
        "id": "ih37QjczpEYa"
      },
      "source": [
        ""
      ],
      "execution_count": null,
      "outputs": []
    },
    {
      "cell_type": "markdown",
      "metadata": {
        "id": "r5S3jCQzYRQw"
      },
      "source": [
        "### **task 1:** compute sum of list and %timeit\n",
        "\n",
        "a = [1, 2, 3, ...., 1000]"
      ]
    },
    {
      "cell_type": "code",
      "metadata": {
        "id": "Se8xfZNjYeL9"
      },
      "source": [
        ""
      ],
      "execution_count": null,
      "outputs": []
    },
    {
      "cell_type": "code",
      "metadata": {
        "id": "MyDTVGWVYeO2"
      },
      "source": [
        ""
      ],
      "execution_count": null,
      "outputs": []
    },
    {
      "cell_type": "code",
      "metadata": {
        "id": "AA8hyhJtYeSx"
      },
      "source": [
        ""
      ],
      "execution_count": null,
      "outputs": []
    },
    {
      "cell_type": "code",
      "metadata": {
        "id": "brgCI-hkjf9d"
      },
      "source": [
        ""
      ],
      "execution_count": null,
      "outputs": []
    },
    {
      "cell_type": "code",
      "metadata": {
        "id": "gc1AFpJxUqsQ"
      },
      "source": [
        ""
      ],
      "execution_count": null,
      "outputs": []
    },
    {
      "cell_type": "code",
      "metadata": {
        "id": "DrLRiWCCUuLC"
      },
      "source": [
        ""
      ],
      "execution_count": null,
      "outputs": []
    },
    {
      "cell_type": "code",
      "metadata": {
        "id": "fLSx18h-Yziy"
      },
      "source": [
        ""
      ],
      "execution_count": null,
      "outputs": []
    },
    {
      "cell_type": "code",
      "metadata": {
        "id": "1KMgzsowUw_l"
      },
      "source": [
        ""
      ],
      "execution_count": null,
      "outputs": []
    },
    {
      "cell_type": "code",
      "metadata": {
        "id": "_2OKzAXCU74w"
      },
      "source": [
        ""
      ],
      "execution_count": null,
      "outputs": []
    },
    {
      "cell_type": "code",
      "metadata": {
        "id": "Aqss2_2UU8zr"
      },
      "source": [
        ""
      ],
      "execution_count": null,
      "outputs": []
    },
    {
      "cell_type": "markdown",
      "metadata": {
        "id": "vWSMgFZXvm3b"
      },
      "source": [
        "### **task 2**: multiply two lists and %timeit"
      ]
    },
    {
      "cell_type": "code",
      "metadata": {
        "id": "F6B5Tpu5VV7H"
      },
      "source": [
        ""
      ],
      "execution_count": null,
      "outputs": []
    },
    {
      "cell_type": "code",
      "metadata": {
        "id": "_pplp-rhVuec"
      },
      "source": [
        ""
      ],
      "execution_count": null,
      "outputs": []
    },
    {
      "cell_type": "code",
      "metadata": {
        "id": "witZx777VyCK"
      },
      "source": [
        ""
      ],
      "execution_count": null,
      "outputs": []
    },
    {
      "cell_type": "code",
      "metadata": {
        "id": "HtDRm2V8V3IY"
      },
      "source": [
        ""
      ],
      "execution_count": null,
      "outputs": []
    },
    {
      "cell_type": "code",
      "metadata": {
        "id": "e65Pkl_iWaN9"
      },
      "source": [
        ""
      ],
      "execution_count": null,
      "outputs": []
    },
    {
      "cell_type": "code",
      "metadata": {
        "id": "RuUWFzLzV5EI"
      },
      "source": [
        ""
      ],
      "execution_count": null,
      "outputs": []
    },
    {
      "cell_type": "code",
      "metadata": {
        "id": "9wG_1635WLwS"
      },
      "source": [
        ""
      ],
      "execution_count": null,
      "outputs": []
    },
    {
      "cell_type": "code",
      "metadata": {
        "id": "pMSEDRopcJ9b"
      },
      "source": [
        ""
      ],
      "execution_count": null,
      "outputs": []
    },
    {
      "cell_type": "code",
      "metadata": {
        "id": "VQXXFb1ie8Yh"
      },
      "source": [
        ""
      ],
      "execution_count": null,
      "outputs": []
    },
    {
      "cell_type": "code",
      "metadata": {
        "id": "n9Ut9DpXeNI7"
      },
      "source": [
        ""
      ],
      "execution_count": null,
      "outputs": []
    },
    {
      "cell_type": "code",
      "metadata": {
        "id": "7kB8Jc0ZcUsX"
      },
      "source": [
        ""
      ],
      "execution_count": null,
      "outputs": []
    },
    {
      "cell_type": "code",
      "metadata": {
        "id": "NkA30HcJeR7U"
      },
      "source": [
        ""
      ],
      "execution_count": null,
      "outputs": []
    },
    {
      "cell_type": "code",
      "metadata": {
        "id": "FoGpy83tcZMh"
      },
      "source": [
        ""
      ],
      "execution_count": null,
      "outputs": []
    },
    {
      "cell_type": "markdown",
      "metadata": {
        "id": "z1DRbATkT0FO"
      },
      "source": [
        "## **\"Hello world\" of ML**"
      ]
    },
    {
      "cell_type": "markdown",
      "metadata": {
        "id": "4ah0tcn4iWnr"
      },
      "source": [
        "### **Clustering**\n",
        "\n",
        "Generate 2 randomly distributed groups of points and cluster them using a clustering algorithm."
      ]
    },
    {
      "cell_type": "code",
      "metadata": {
        "id": "Fo1-OG8cnruq"
      },
      "source": [
        "import numpy as np\n",
        "import matplotlib.pyplot as plt\n",
        "from sklearn.cluster import KMeans"
      ],
      "execution_count": 1,
      "outputs": []
    },
    {
      "cell_type": "code",
      "metadata": {
        "id": "p3_Mp-hfnuWS"
      },
      "source": [
        "data1 = np.random.normal(0, 1, (100,2))\n",
        "data2 = np.random.normal(2, 1, (100,2))"
      ],
      "execution_count": 2,
      "outputs": []
    },
    {
      "cell_type": "code",
      "metadata": {
        "id": "o3gEIn8jnxzt",
        "colab": {
          "base_uri": "https://localhost:8080/",
          "height": 284
        },
        "outputId": "6421bde8-1af4-4923-d069-75c9de18243f"
      },
      "source": [
        "plt.scatter(data1[:,0], data1[:,1])\n",
        "plt.scatter(data2[:,0], data2[:,1])"
      ],
      "execution_count": 3,
      "outputs": [
        {
          "output_type": "execute_result",
          "data": {
            "text/plain": [
              "<matplotlib.collections.PathCollection at 0x7fed7a225e90>"
            ]
          },
          "metadata": {},
          "execution_count": 3
        },
        {
          "output_type": "display_data",
          "data": {
            "image/png": "[encoded data removed]",
            "text/plain": [
              "<Figure size 432x288 with 1 Axes>"
            ]
          },
          "metadata": {
            "needs_background": "light"
          }
        }
      ]
    },
    {
      "cell_type": "code",
      "metadata": {
        "id": "q8674Zuwn2Nx"
      },
      "source": [
        "data = np.concatenate((data1, data2), axis=0)"
      ],
      "execution_count": 4,
      "outputs": []
    },
    {
      "cell_type": "code",
      "metadata": {
        "id": "omioKGXjoB6x",
        "colab": {
          "base_uri": "https://localhost:8080/",
          "height": 284
        },
        "outputId": "539faa72-90c9-4150-900f-913fb5cc74b3"
      },
      "source": [
        "plt.scatter(data[:,0], data[:,1])"
      ],
      "execution_count": 5,
      "outputs": [
        {
          "output_type": "execute_result",
          "data": {
            "text/plain": [
              "<matplotlib.collections.PathCollection at 0x7fed79afb250>"
            ]
          },
          "metadata": {},
          "execution_count": 5
        },
        {
          "output_type": "display_data",
          "data": {
            "image/png": "[encoded data removed]",
            "text/plain": [
              "<Figure size 432x288 with 1 Axes>"
            ]
          },
          "metadata": {
            "needs_background": "light"
          }
        }
      ]
    },
    {
      "cell_type": "code",
      "metadata": {
        "id": "DMUDW9MmoOpH"
      },
      "source": [
        "kmeans = KMeans(n_clusters=2).fit(data)"
      ],
      "execution_count": 6,
      "outputs": []
    },
    {
      "cell_type": "code",
      "metadata": {
        "id": "Q0JcSIDQGemo",
        "outputId": "4b785e0e-22a8-4af6-acf1-63484551f890",
        "colab": {
          "base_uri": "https://localhost:8080/"
        }
      },
      "source": [
        "kmeans"
      ],
      "execution_count": 7,
      "outputs": [
        {
          "output_type": "execute_result",
          "data": {
            "text/plain": [
              "KMeans(algorithm='auto', copy_x=True, init='k-means++', max_iter=300,\n",
              "       n_clusters=2, n_init=10, n_jobs=None, precompute_distances='auto',\n",
              "       random_state=None, tol=0.0001, verbose=0)"
            ]
          },
          "metadata": {},
          "execution_count": 7
        }
      ]
    },
    {
      "cell_type": "code",
      "metadata": {
        "id": "TOrVVceGGf7m",
        "outputId": "3619e88e-0966-4825-cb72-69ed10b14a24",
        "colab": {
          "base_uri": "https://localhost:8080/"
        }
      },
      "source": [
        "kmeans.labels_"
      ],
      "execution_count": 8,
      "outputs": [
        {
          "output_type": "execute_result",
          "data": {
            "text/plain": [
              "array([1, 1, 1, 1, 1, 1, 1, 1, 1, 0, 1, 1, 1, 1, 1, 1, 0, 1, 1, 1, 1, 1,\n",
              "       1, 1, 1, 1, 0, 1, 1, 0, 1, 1, 1, 1, 1, 1, 1, 1, 1, 1, 1, 1, 1, 1,\n",
              "       1, 1, 1, 1, 1, 1, 1, 1, 1, 1, 1, 1, 1, 1, 1, 1, 1, 1, 1, 1, 1, 1,\n",
              "       0, 1, 1, 1, 0, 1, 1, 1, 1, 1, 1, 0, 0, 1, 1, 1, 1, 0, 1, 1, 0, 1,\n",
              "       1, 1, 0, 1, 1, 1, 1, 1, 1, 1, 1, 1, 0, 0, 0, 0, 0, 0, 0, 0, 0, 1,\n",
              "       0, 0, 0, 0, 0, 0, 0, 0, 0, 0, 0, 0, 0, 0, 0, 0, 0, 0, 0, 0, 0, 1,\n",
              "       0, 0, 0, 0, 0, 0, 0, 0, 0, 0, 0, 0, 0, 0, 0, 0, 0, 0, 0, 0, 0, 0,\n",
              "       0, 0, 1, 0, 0, 0, 0, 0, 0, 0, 0, 0, 0, 0, 0, 0, 1, 0, 0, 0, 0, 0,\n",
              "       1, 1, 1, 0, 0, 1, 0, 0, 0, 0, 0, 1, 0, 0, 0, 0, 0, 1, 0, 0, 0, 0,\n",
              "       0, 0], dtype=int32)"
            ]
          },
          "metadata": {},
          "execution_count": 8
        }
      ]
    },
    {
      "cell_type": "code",
      "metadata": {
        "id": "qHrovX5HGudS",
        "outputId": "96cfb34b-ce61-4ac0-9037-13afecf3b2c5",
        "colab": {
          "base_uri": "https://localhost:8080/",
          "height": 284
        }
      },
      "source": [
        "plt.scatter(data[:, 0], data[:, 1], c=kmeans.labels_)"
      ],
      "execution_count": 10,
      "outputs": [
        {
          "output_type": "execute_result",
          "data": {
            "text/plain": [
              "<matplotlib.collections.PathCollection at 0x7fed79a0a890>"
            ]
          },
          "metadata": {},
          "execution_count": 10
        },
        {
          "output_type": "display_data",
          "data": {
            "image/png": "[encoded data removed]",
            "text/plain": [
              "<Figure size 432x288 with 1 Axes>"
            ]
          },
          "metadata": {
            "needs_background": "light"
          }
        }
      ]
    },
    {
      "cell_type": "code",
      "metadata": {
        "id": "GN6hRTYEG9Ar"
      },
      "source": [
        "labels = np.zeros(200)\n",
        "labels[:100] = 1"
      ],
      "execution_count": 13,
      "outputs": []
    },
    {
      "cell_type": "code",
      "metadata": {
        "id": "8KWCp63oHJNv",
        "outputId": "5913e739-d704-4729-96f3-5c8d4a2c608d",
        "colab": {
          "base_uri": "https://localhost:8080/"
        }
      },
      "source": [
        "labels"
      ],
      "execution_count": 14,
      "outputs": [
        {
          "output_type": "execute_result",
          "data": {
            "text/plain": [
              "array([1., 1., 1., 1., 1., 1., 1., 1., 1., 1., 1., 1., 1., 1., 1., 1., 1.,\n",
              "       1., 1., 1., 1., 1., 1., 1., 1., 1., 1., 1., 1., 1., 1., 1., 1., 1.,\n",
              "       1., 1., 1., 1., 1., 1., 1., 1., 1., 1., 1., 1., 1., 1., 1., 1., 1.,\n",
              "       1., 1., 1., 1., 1., 1., 1., 1., 1., 1., 1., 1., 1., 1., 1., 1., 1.,\n",
              "       1., 1., 1., 1., 1., 1., 1., 1., 1., 1., 1., 1., 1., 1., 1., 1., 1.,\n",
              "       1., 1., 1., 1., 1., 1., 1., 1., 1., 1., 1., 1., 1., 1., 1., 0., 0.,\n",
              "       0., 0., 0., 0., 0., 0., 0., 0., 0., 0., 0., 0., 0., 0., 0., 0., 0.,\n",
              "       0., 0., 0., 0., 0., 0., 0., 0., 0., 0., 0., 0., 0., 0., 0., 0., 0.,\n",
              "       0., 0., 0., 0., 0., 0., 0., 0., 0., 0., 0., 0., 0., 0., 0., 0., 0.,\n",
              "       0., 0., 0., 0., 0., 0., 0., 0., 0., 0., 0., 0., 0., 0., 0., 0., 0.,\n",
              "       0., 0., 0., 0., 0., 0., 0., 0., 0., 0., 0., 0., 0., 0., 0., 0., 0.,\n",
              "       0., 0., 0., 0., 0., 0., 0., 0., 0., 0., 0., 0., 0.])"
            ]
          },
          "metadata": {},
          "execution_count": 14
        }
      ]
    },
    {
      "cell_type": "code",
      "metadata": {
        "id": "et-Px8z9HMmr",
        "outputId": "8f5f3025-1363-4b33-e8a3-28772cdd526b",
        "colab": {
          "base_uri": "https://localhost:8080/"
        }
      },
      "source": [
        "sum(kmeans.labels_ == labels) / 200 * 100"
      ],
      "execution_count": 16,
      "outputs": [
        {
          "output_type": "execute_result",
          "data": {
            "text/plain": [
              "89.5"
            ]
          },
          "metadata": {},
          "execution_count": 16
        }
      ]
    },
    {
      "cell_type": "code",
      "metadata": {
        "id": "zaG1fGNeG6re",
        "outputId": "f83c1632-49b1-4b96-db31-810ca46770a7",
        "colab": {
          "base_uri": "https://localhost:8080/",
          "height": 265
        }
      },
      "source": [
        "plt.scatter(data1[:, 0], data1[:, 1])\n",
        "plt.scatter(data2[:, 0], data2[:, 1])\n",
        "plt.scatter(data[:, 0], data[:, 1], marker=\"+\", c=\"black\", s=np.logical_not(kmeans.labels_==labels)*70);"
      ],
      "execution_count": 17,
      "outputs": [
        {
          "output_type": "display_data",
          "data": {
            "image/png": "[encoded data removed]",
            "text/plain": [
              "<Figure size 432x288 with 1 Axes>"
            ]
          },
          "metadata": {
            "needs_background": "light"
          }
        }
      ]
    },
    {
      "cell_type": "markdown",
      "metadata": {
        "id": "vWybOyo9uIej"
      },
      "source": [
        "### **task 3:** calculate the score"
      ]
    },
    {
      "cell_type": "code",
      "metadata": {
        "id": "WgcZfjH5oY-B",
        "colab": {
          "base_uri": "https://localhost:8080/"
        },
        "outputId": "b96e2622-0d72-4e7a-802b-0d7c0878dade"
      },
      "source": [
        "import numpy as np\n",
        "\n",
        "def main():\n",
        "    a = np.random.rand(10)\n",
        "    print(a)\n",
        "\n",
        "if __name__ == \"__main__\":\n",
        "    main()"
      ],
      "execution_count": 18,
      "outputs": [
        {
          "output_type": "stream",
          "name": "stdout",
          "text": [
            "[0.99342533 0.47610993 0.10460424 0.21964194 0.09504168 0.61185947\n",
            " 0.71617509 0.08449444 0.20778942 0.65815817]\n"
          ]
        }
      ]
    },
    {
      "cell_type": "code",
      "metadata": {
        "id": "2Yg9-LbPqHmm",
        "colab": {
          "base_uri": "https://localhost:8080/",
          "height": 513
        },
        "outputId": "d2c1bea2-0da9-4771-cad4-5dad4fb7b868"
      },
      "source": [
        "import numpy as np\n",
        "import matplotlib.pyplot as plt\n",
        "from sklearn.cluster import KMeans\n",
        "\n",
        "# Generate data\n",
        "data1 = np.random.normal(0, 1, (100, 2))\n",
        "data2 = np.random.normal(2, 1, (100, 2))\n",
        "data = np.concatenate((data1, data2), axis=0)\n",
        "\n",
        "# Plot data\n",
        "plt.scatter(data[:, 0], data[:, 1])\n",
        "plt.show()\n",
        "\n",
        "# Cluster data\n",
        "kmeans = KMeans(n_clusters=2, random_state=0).fit(data)\n",
        "\n",
        "# Plot clusters\n",
        "plt.scatter(data[:, 0], data[:, 1], c=kmeans.labels_)\n",
        "plt.show()"
      ],
      "execution_count": 19,
      "outputs": [
        {
          "output_type": "display_data",
          "data": {
            "image/png": "[encoded data removed]",
            "text/plain": [
              "<Figure size 432x288 with 1 Axes>"
            ]
          },
          "metadata": {
            "needs_background": "light"
          }
        },
        {
          "output_type": "display_data",
          "data": {
            "image/png": "[encoded data removed]",
            "text/plain": [
              "<Figure size 432x288 with 1 Axes>"
            ]
          },
          "metadata": {
            "needs_background": "light"
          }
        }
      ]
    },
    {
      "cell_type": "code",
      "metadata": {
        "id": "XNLAqC3Anohi"
      },
      "source": [
        ""
      ],
      "execution_count": null,
      "outputs": []
    },
    {
      "cell_type": "code",
      "metadata": {
        "id": "1wWbLhwLofW4"
      },
      "source": [
        ""
      ],
      "execution_count": null,
      "outputs": []
    },
    {
      "cell_type": "code",
      "metadata": {
        "id": "D6XvH8q1o6YI"
      },
      "source": [
        ""
      ],
      "execution_count": null,
      "outputs": []
    },
    {
      "cell_type": "markdown",
      "metadata": {
        "id": "BvzWR0QFqYZM"
      },
      "source": [
        "### **Classification**\n",
        "\n",
        "Generate 2 randomly distributed groups of points, train a SVC classifier to distinguish between the groups and test it."
      ]
    },
    {
      "cell_type": "code",
      "metadata": {
        "id": "iAp6MH8HsIVZ"
      },
      "source": [
        ""
      ],
      "execution_count": null,
      "outputs": []
    },
    {
      "cell_type": "code",
      "metadata": {
        "id": "93iKyI1hsNtl"
      },
      "source": [
        ""
      ],
      "execution_count": null,
      "outputs": []
    },
    {
      "cell_type": "code",
      "metadata": {
        "id": "bljvhzU_sZWq"
      },
      "source": [
        ""
      ],
      "execution_count": null,
      "outputs": []
    },
    {
      "cell_type": "code",
      "metadata": {
        "id": "_mjYwh-XspEb"
      },
      "source": [
        ""
      ],
      "execution_count": null,
      "outputs": []
    },
    {
      "cell_type": "code",
      "metadata": {
        "id": "CGiDXuVqsyi2"
      },
      "source": [
        ""
      ],
      "execution_count": null,
      "outputs": []
    },
    {
      "cell_type": "code",
      "metadata": {
        "id": "g0AngodNtj9q"
      },
      "source": [
        ""
      ],
      "execution_count": null,
      "outputs": []
    },
    {
      "cell_type": "markdown",
      "metadata": {
        "id": "toQClvY_tKXa"
      },
      "source": [
        "### **task 4:** compute score and plot which of them were wrong "
      ]
    },
    {
      "cell_type": "code",
      "metadata": {
        "id": "u9GuxDm0s5yC"
      },
      "source": [
        ""
      ],
      "execution_count": null,
      "outputs": []
    },
    {
      "cell_type": "code",
      "metadata": {
        "id": "xAJqBqKst4Vc"
      },
      "source": [
        ""
      ],
      "execution_count": null,
      "outputs": []
    },
    {
      "cell_type": "code",
      "metadata": {
        "id": "fue-cqQgt3cp"
      },
      "source": [
        ""
      ],
      "execution_count": null,
      "outputs": []
    },
    {
      "cell_type": "code",
      "metadata": {
        "id": "NUd63H23ja2U"
      },
      "source": [
        ""
      ],
      "execution_count": null,
      "outputs": []
    },
    {
      "cell_type": "markdown",
      "metadata": {
        "id": "PsGym9jY-WnT"
      },
      "source": [
        "## **What can I do with ML?**\n",
        "\n",
        "Cases when I shouldn't use ML:\n",
        "- simple problems / algorithms\n",
        "- simply codable problems\n",
        "- problems that need to be deterministic\n",
        "- basic mathematics, precise computations\n",
        "\n",
        "\n",
        "Cases when I can use ML:\n",
        "- problems that require human abilities (vision, speech recognition, pattern recognition...)\n",
        "- complex image / video operations\n",
        "- high dimensional problems\n",
        "- big data problems"
      ]
    },
    {
      "cell_type": "markdown",
      "metadata": {
        "id": "A1OoRN2M-WyY"
      },
      "source": [
        "## **CADET**\n",
        "\n",
        "https://github.com/tomasplsek/CADET"
      ]
    },
    {
      "cell_type": "markdown",
      "metadata": {
        "id": "yn2c1YOP-W2z"
      },
      "source": [
        "## **OpenAI Codex**\n",
        "\n",
        "- [beta version](https://beta.openai.com/playground?model=davinci-codex)"
      ]
    },
    {
      "cell_type": "code",
      "metadata": {
        "id": "DSIQoT1JfuJC"
      },
      "source": [
        ""
      ],
      "execution_count": null,
      "outputs": []
    },
    {
      "cell_type": "code",
      "metadata": {
        "id": "V5bFuM79UNXw"
      },
      "source": [
        ""
      ],
      "execution_count": null,
      "outputs": []
    },
    {
      "cell_type": "code",
      "metadata": {
        "id": "hbnW2C7wfanU"
      },
      "source": [
        ""
      ],
      "execution_count": null,
      "outputs": []
    },
    {
      "cell_type": "code",
      "metadata": {
        "id": "DFiEczuEwtvw"
      },
      "source": [
        ""
      ],
      "execution_count": null,
      "outputs": []
    }
  ]
}