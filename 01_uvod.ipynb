{
  "nbformat": 4,
  "nbformat_minor": 0,
  "metadata": {
    "colab": {
      "name": "Kopie sešitu 01_uvod.ipynb",
      "provenance": [],
      "collapsed_sections": [],
      "toc_visible": true,
      "mount_file_id": "https://github.com/tomasplsek/AstroML/blob/main/01_uvod.ipynb",
      "authorship_tag": "ABX9TyNNV9hai6d08qCk04wLgfhS"
    },
    "kernelspec": {
      "name": "python3",
      "display_name": "Python 3"
    },
    "language_info": {
      "name": "python"
    }
  },
  "cells": [
    {
      "cell_type": "markdown",
      "metadata": {
        "id": "uOHZeYnyBsZK"
      },
      "source": [
        "# **Introduction to Machine learning for astronomers in Python**\n",
        "- taught online, in English\n",
        "- 50% lectures, 50% practical exercise\n",
        "- 6 lectures & 7 hands-on sessions\n",
        "- zápočet (final project)\n",
        "\n",
        "### **Contents**\n",
        "\n",
        "- Introduction to Machine Learning, the idea of supervised, non-supervised learning, semi-supervised learning, Classification vs Regression\n",
        "- General concept of Machine Learning, loss function\n",
        "- Popular algorithms such as Support Vector Machine, Bayesian Regression, K-Nearest neighbours\n",
        "- Data (feature) reduction such as Principal Component Analysis\n",
        "- Practical use of scikit-learn Python library\n",
        "- Model validation techniques. Fine-tuning model parameters.\n",
        "- Principles of Deep Learning\n",
        "- Practical use of Keras Deep Learning Python library\n",
        "- Student's own project\n"
      ]
    },
    {
      "cell_type": "markdown",
      "metadata": {
        "id": "GGAqtXiTHfxc"
      },
      "source": [
        "<div style=\"\">\n",
        "<img src=\"https://www.physics.muni.cz/~plsek/img.jpeg\" height=\"160px\" align=\"right\">\n",
        "\n",
        "<img src=\"https://cdn.muni.cz/media/3289673/matejkosiba.jpg?mode=crop&center=0.53,0.57&rnd=132563180850000000&width=179\" height=\"160px\" align=\"right\">\n",
        "\n",
        "<img src=\"https://cdn.muni.cz/media/3291288/toastm.jpg?mode=crop&center=0.5,0.5&rnd=132569108280000000&width=179\" height=\"160px\" align=\"right\">\n",
        "\n",
        "### **Timetable**\n",
        ">12.9. - Dean's leave\\\n",
        "19.9. - **Tomáš:** *Intro to Colab, Jupyter & Python*\\\n",
        "26.9. - 1st lecture\\\n",
        "3.10. - **Tomáš:** *Star or Quasar? (Decision trees)*\\\n",
        "10.10. - 2nd lecture\\\n",
        "17.10. - **Tomáš:** *Scikit learn: From Data to Prediction*\\\n",
        "24.10. - 3rd lecture\\\n",
        "31.10. - **Matěj:** *Intro to neural networks* \\\n",
        "7.11. - 4th lecture\\\n",
        "14.11. - **Matěj:** ?\\\n",
        "21.11. - 5th lecture\\\n",
        "28.11. - **Matěj:** ?\\\n",
        "5.12. - 6th lecture\\\n",
        "12.12. - **Tomáš:** *Tensorboard*\\\n",
        "19.12 -?"
      ]
    },
    {
      "cell_type": "markdown",
      "source": [
        "## **Introduce yourselves :)** \n",
        "\n",
        "</div>\n",
        "\n",
        "> **Tomáš Plšek**\n",
        "> <br><br>\n",
        "> email: <a href=\"mailto:plsek@physics.muni.cz\">plsek@physics.muni.cz</a>\\\n",
        "> github: [tomasplsek](https://github.com/tomasplsek)\\\n",
        "> web: [physics.muni.cz/~plsek](https://www.physics.muni.cz/~plsek/)\\\n",
        "> office: [building 8 (Mathematics), 4th floor, last door to the left](https://is.muni.cz/auth/kontakty/mistnost?id=10454)"
      ],
      "metadata": {
        "id": "bonPrlisXOGY"
      }
    },
    {
      "cell_type": "markdown",
      "metadata": {
        "id": "wRhLdSG9XF83"
      },
      "source": [
        "# 1. hands-on session: **Intro to Colab, Jupyter & Python**"
      ]
    },
    {
      "cell_type": "markdown",
      "metadata": {
        "id": "Mog5i70hzAXg"
      },
      "source": [
        "## **Contents**\n",
        "\n",
        "\n",
        "\n",
        "1.   What is machine learning?\n",
        "2.   Examples\n",
        "3.   Hardware / software\n",
        "4.   Google colab / Conda + Jupyter\n",
        "5.   Basics of Python\n",
        "6.   \"Hello world\" of ML"
      ]
    },
    {
      "cell_type": "markdown",
      "metadata": {
        "id": "pJ6uaY6Czzm4"
      },
      "source": [
        "## **What is Machine learning?**\n",
        "\n",
        "Machine Learning is a set of algorithms with tunable parameters that can learn and adjust the values of these parameters from previously seen data and generalising for prediction of new yet unseen data.\n",
        "\n",
        "<br>\n",
        "\n",
        "\"Machine learning is a field of study that gives computers the ability to learn without being explicitly programmed\"\n",
        " - Arthur Samuel, 1959\n",
        "\n",
        "<br>\n",
        "\n",
        "\"A computer is said to learn from experience E with respect to some task T and some performance measure P, if its performance on T, as measured by P, improves with experience E.\"\n",
        " - Tom Mitchell, 1997\n",
        "\n",
        "<br>\n",
        "\n",
        "<img src=\"https://drive.google.com/uc?export=view&id=1iCTWs8F4-fxZgqOi3opWPg_PRB3Xgd92\" height=\"340px\" align=\"left\">\n",
        "\n",
        "<img src=\"https://drive.google.com/uc?export=view&id=11faQQUfu0XGwcpItsXronTO9Bs1B4SRg\" height=\"340px\" align=\"right\">\n",
        "\n",
        "<!-- <img src=\"https://lawtomated.com/wp-content/uploads/2019/04/MLvsDL.png\" align=left width=550> -->"
      ]
    },
    {
      "cell_type": "markdown",
      "source": [],
      "metadata": {
        "id": "n1fm7_WybSjF"
      }
    },
    {
      "cell_type": "markdown",
      "source": [
        "## **Examples**\n",
        "\n",
        "\n",
        "- Spam Filter (date ?)\n",
        "\n",
        "<br>\n",
        "\n",
        "<img src=\"https://upload.wikimedia.org/wikipedia/commons/e/ed/DeepL_logo.svg\" align=\"right\" width=150>\n",
        "\n",
        "- Překlad textu ([DeepL](https://www.deepl.com/translator))\n",
        "\n",
        "<br>\n",
        "<br>\n",
        "\n",
        "<img src=\"https://upload.wikimedia.org/wikipedia/commons/thumb/1/12/Google_Photos_icon_%282020%29.svg/2048px-Google_Photos_icon_%282020%29.svg.png\" align=right width=80>\n",
        "\n",
        "- Rozpoznávání obrázků ([Google fotky](https://photos.google.com/))\n",
        "\n",
        "<br>\n",
        "<br>\n",
        "<br>\n",
        "\n",
        "<img src=\"https://play-lh.googleusercontent.com/m1xvI9w2cRNDESdNpw3vYsQmyDUpaUCIwolZ4Yg-Ie_c6Ka3LJho8cU1oACpAjPbrhM=s180\" align=right width=120>\n",
        "\n",
        "\n",
        "<br>\n",
        "<br>\n",
        "\n",
        "- Speech recognition (Google, Windows, [BirdNET](https://play.google.com/store/apps/details?id=de.tu_chemnitz.mi.kahst.birdnet&hl=cs&gl=US))\n",
        "\n",
        "<br>\n",
        "<br>\n",
        "\n",
        "<img src=\"https://drive.google.com/uc?export=view&id=1JcjFUplM22NwID97VoA2kpowh5I0Dy3v\" width=\"350px\" align=\"right\">\n",
        "\n",
        "<br>\n",
        "<br>\n",
        "<br>\n",
        "<br>\n",
        "<br>\n",
        "<br>\n",
        "<br>\n",
        "<br>\n",
        "<br>\n",
        "<br>\n",
        "<br>\n",
        "<br>\n",
        "<br>\n",
        "<br>\n",
        "<br>\n",
        "<br>\n",
        "<br>\n",
        "<br>\n",
        "<br>\n",
        "<br>\n",
        "<br>\n",
        "<br>\n",
        "\n",
        "\n",
        " <video width=\"320\" height=\"240\" controls>\n",
        "  <source src=\"https://www.youtube.com/watch?v=cQ54GDm1eL0\" type=\"video/mp4\">\n",
        "Your browser does not support the video tag.\n",
        "</video> \n",
        "\n",
        "- DeepFake videos\n",
        "\n",
        "\n",
        "<img src=\"https://drive.google.com/uc?export=view&id=1FtvxgNhnOyuaPp8pD1TWqIUYREbZ2UHu\" width=\"350px\" align=\"right\" alt=\"An astronaut playing basketball with cats in a watercolor style.\">\n",
        "\n",
        "\n",
        "- [DALL-E](https://openai.com/dall-e-2/)\n",
        "\n",
        "   Example: An astronaut playing basketball with cats in a watercolor style.\n",
        "\n",
        "<br>\n",
        "<br>\n",
        "<br>\n",
        "<br>\n",
        "<br>\n",
        "<br>\n",
        "<br>\n",
        "<br>\n",
        "<br>\n",
        "<br>\n",
        "<br>\n",
        "<br>\n",
        "<br>\n",
        "<br>\n",
        "\n",
        "- Github Copilot, OpenAI\n",
        "\n",
        "<br>\n",
        "<br>\n",
        "<br>\n",
        "<br>\n",
        "\n",
        "## **What is ML useful for?**\n",
        "\n",
        "- computer vision (image / pattern recognition)\n",
        "- natural language (speech recognition, translation, ...)\n",
        "- high dimensional problems\n",
        "- big data problems\n",
        "\n",
        "Cases when I shouldn't use ML:\n",
        "- simple problems / algorithms\n",
        "- simply codable problems\n",
        "- problems that need to be deterministic\n",
        "- basic mathematics, precise computations"
      ],
      "metadata": {
        "id": "-xt4wC4EkJJG"
      }
    },
    {
      "cell_type": "markdown",
      "metadata": {
        "id": "KxAysN8s6-Tu"
      },
      "source": [
        "## **Why now?**\n",
        "1943 - Artificial neuron\\\n",
        "1957 - **Perceptron** (Frank Rosenblatt)\\\n",
        "1967 -  **Nearest neighbor algorithm**\\\n",
        "...\\\n",
        "1997 - Deep Blue beats Kasparov\\\n",
        "2016 - AlphaGo beats Lee Sedol\\\n",
        "2018 - Protein Structure Prediction (AlphaFold 1)\\\n",
        "2021 - Augmented reality, Selfdriving cars"
      ]
    },
    {
      "cell_type": "markdown",
      "metadata": {
        "id": "nubcLWsQBsWK"
      },
      "source": [
        "<img src=\"https://drive.google.com/uc?export=view&id=19rLShDospF7mDvaWn9aJtVPePeNV0SQx\" width=\"460px\" align=\"right\">\n",
        "\n",
        "## **Hardware**\n",
        "\n",
        "*   **CPU** = *central processing unit*\\\n",
        "    \\- in every computer / mobile phone\\\n",
        "    \\- scalar operations\\\n",
        "    \\- multiple cores / threads (parallelizable)\\\n",
        "    \\- Intel, AMD\n",
        "\n",
        "<br>\n",
        "\n",
        "<img src=\"https://drive.google.com/uc?export=view&id=1m5eUCkodoLlHpW6JsABUOVOVm_nn2Gtr\" width=\"460px\" align=\"right\">\n",
        "\n",
        "\n",
        "*   **GPU** = *graphical processing unit*\\\n",
        "    \\- vector operations\\\n",
        "    \\- dedicated or integrated on CPU\\\n",
        "    \\- graphics and games (DirectX)\\\n",
        "    \\- NVIDIA, AMD\n",
        "\n",
        "<br>\n",
        "\n",
        "*   **TPU** = *tensor processing unit*\\\n",
        "    \\- tensor operations\\\n",
        "    \\- developed by Google for Tensorflow\\\n",
        "    \\- narrow utilization field\n",
        "\n",
        "<br>\n",
        "\n",
        "\n"
      ]
    },
    {
      "cell_type": "markdown",
      "metadata": {
        "id": "56ZXgZNCBsO4"
      },
      "source": [
        "## **Software**\n",
        "\n",
        "#### Higher level libraries are being developed mostly for Python:\n",
        "\n",
        "<img src=\"https://scikit-learn.org/stable/_static/scikit-learn-logo-small.png\" height=\"50px\" align=\"right\">\n",
        "\n",
        "*   [scikit-learn](https://scikit-learn.org/stable/)\\\n",
        "    \\- set of general ML tools\n",
        "\n",
        "<img src=\"https://upload.wikimedia.org/wikipedia/commons/thumb/2/2d/Tensorflow_logo.svg/1200px-Tensorflow_logo.svg.png\" height=\"75px\" align=\"right\">\n",
        "\n",
        "*   [tensorflow](https://www.tensorflow.org/)\\\n",
        "    \\- matrix and tensor computations\\\n",
        "    \\- using CUDA and GPU ([install](https://www.tensorflow.org/install/gpu), [setup](https://www.tensorflow.org/guide/gpu))\n",
        "\n",
        "<img src=\"https://keras.io/img/logo.png\" height=\"50px\" align=\"right\">\n",
        "\n",
        "*   [keras](https://keras.io/)\\\n",
        "    \\- on top of tensorflow\\\n",
        "    \\- neural networks (dense & convolutional layers)\n",
        "\n",
        "*   others: [pyTorch](https://pytorch.org/), Theano, [JAX](https://github.com/google/jax)\n",
        "\n",
        "<br>\n",
        "\n",
        "#### Libraries for comunication with GPU:\n",
        "\n",
        "<img src=\"https://www.nvidia.com/etc/designs/nvidiaGDC/clientlibs_base/images/NVIDIA-Logo.svg\" height=\"50px\" align=\"right\">\n",
        "\n",
        "*   CUDA = NVIDIA libraries ([toolkit](https://developer.nvidia.com/cuda-toolkit-archive), [cuDNN](https://developer.nvidia.com/rdp/cudnn-download))\\\n",
        "    \\- GPU acceleration (Win & Linux)\\\n",
        "    \\- low level programming interface\\\n",
        "    \\- only necessary for dedicated GPUs\n"
      ]
    },
    {
      "cell_type": "markdown",
      "source": [
        "## **Data**\n",
        "\n",
        "<img src=\"https://drive.google.com/uc?export=view&id=178QHIX-BBYgByXC54wzdcL7pISKmQI_l\" width=\"550px\" align=\"right\">\n",
        "\n",
        "<br>\n",
        "\n",
        "- internet & digitalization\n",
        "\n",
        "<br>\n",
        "\n",
        "- social media (Facebook, Instagram, ...)\n",
        "\n",
        "<br>\n",
        "\n",
        "- cloud services (Yes, they train on your private images.)\n",
        "\n",
        "<br>\n",
        "\n",
        "- github (Yes, they train on your code.)\n",
        "\n",
        "<br>\n",
        "<br>"
      ],
      "metadata": {
        "id": "qjgMrykWf_RA"
      }
    },
    {
      "cell_type": "markdown",
      "metadata": {
        "id": "ORuaA4ZQOhO3"
      },
      "source": [
        "## **Programing environments**\n",
        "\n",
        "<img src=\"https://colab.research.google.com/img/colab_favicon_256px.png\" height=\"90px\" align=\"right\">\n",
        "\n",
        "<img src=\"https://upload.wikimedia.org/wikipedia/commons/thumb/3/38/Jupyter_logo.svg/800px-Jupyter_logo.svg.png\" height=\"105px\" align=\"right\" style=\"margin-right:100px\">\n",
        "\n",
        "<!-- <div style=\"display:table\"> -->\n",
        "\n",
        "\n",
        "*   [Conda](https://docs.conda.io/en/latest/) + [Jupyter](https://jupyter.org/) notebook/lab (tutorial in Study materials)\n",
        "\n",
        "*   Google colab\n",
        "\n",
        "*   [VS Code](https://code.visualstudio.com/)"
      ]
    },
    {
      "cell_type": "markdown",
      "metadata": {
        "id": "eLclsAQTVO5H"
      },
      "source": [
        "## **Google Colab**\n",
        "\n",
        "- access to notebooks and files from **Google drive** and **GitHub**\n",
        "- share notebooks\n",
        "- GPU / TPU acceleration\n",
        "- preinstalled packages (```numpy```, ```scipy```, ```matplotlib```, ```keras```, ```tensorflow```...)\n",
        "- bash shell commands ```!```\n",
        "- non-traditional packages are easy to install: ```!pip install corner```\n",
        "- [magical commands](https://ipython.readthedocs.io/en/stable/interactive/magics.html) ```%```\n",
        "- include markdown or HTML blocks\n",
        "- get help"
      ]
    },
    {
      "cell_type": "code",
      "metadata": {
        "id": "7-4pg3boVDZa",
        "colab": {
          "base_uri": "https://localhost:8080/"
        },
        "outputId": "fcfdd44c-f513-48eb-df74-ebb2126ef9bd"
      },
      "source": [
        "from google.colab import drive\n",
        "drive.mount('/content/drive', force_remount=True)"
      ],
      "execution_count": 1,
      "outputs": [
        {
          "output_type": "stream",
          "name": "stdout",
          "text": [
            "Mounted at /content/drive\n"
          ]
        }
      ]
    },
    {
      "cell_type": "code",
      "metadata": {
        "id": "Ch8c25Amzwnv",
        "colab": {
          "base_uri": "https://localhost:8080/"
        },
        "outputId": "fb10d427-3bd0-4b80-dedb-bf2ab2929c62"
      },
      "source": [
        "import tensorflow as tf\n",
        "print(\"Num GPUs Available: \", len(tf.config.list_physical_devices('GPU')))"
      ],
      "execution_count": 2,
      "outputs": [
        {
          "output_type": "stream",
          "name": "stdout",
          "text": [
            "Num GPUs Available:  0\n"
          ]
        }
      ]
    },
    {
      "cell_type": "code",
      "metadata": {
        "id": "EHWQwYG91RUS"
      },
      "source": [
        "import tensorflow\n",
        "import keras\n",
        "import sklearn"
      ],
      "execution_count": null,
      "outputs": []
    },
    {
      "cell_type": "code",
      "metadata": {
        "id": "AuSU4S-3VBTD",
        "colab": {
          "base_uri": "https://localhost:8080/"
        },
        "outputId": "a2fa1a1c-e242-4624-e904-35e857ab5d88"
      },
      "source": [
        "!ls"
      ],
      "execution_count": null,
      "outputs": [
        {
          "output_type": "stream",
          "name": "stdout",
          "text": [
            "drive  sample_data\n"
          ]
        }
      ]
    },
    {
      "cell_type": "code",
      "metadata": {
        "id": "mD257_HmBbT-"
      },
      "source": [
        "!echo \"nothing\" > file.txt"
      ],
      "execution_count": null,
      "outputs": []
    },
    {
      "cell_type": "code",
      "metadata": {
        "id": "fGsYe8UxFGgT",
        "colab": {
          "base_uri": "https://localhost:8080/"
        },
        "outputId": "0c630d7f-5df8-4461-e0c3-ac2e9f8d3590"
      },
      "source": [
        "!cat file.txt"
      ],
      "execution_count": null,
      "outputs": [
        {
          "output_type": "stream",
          "name": "stdout",
          "text": [
            "nic\n"
          ]
        }
      ]
    },
    {
      "cell_type": "code",
      "metadata": {
        "id": "3vGSQAVJa1k3",
        "colab": {
          "base_uri": "https://localhost:8080/"
        },
        "outputId": "03972d06-6b19-48d7-ed16-24bfd96dbe6b"
      },
      "source": [
        "!pip install corner"
      ],
      "execution_count": null,
      "outputs": [
        {
          "output_type": "stream",
          "name": "stdout",
          "text": [
            "Collecting corner\n",
            "  Downloading corner-2.2.1-py3-none-any.whl (15 kB)\n",
            "Requirement already satisfied: matplotlib>=2.1 in /usr/local/lib/python3.7/dist-packages (from corner) (3.2.2)\n",
            "Requirement already satisfied: numpy>=1.11 in /usr/local/lib/python3.7/dist-packages (from matplotlib>=2.1->corner) (1.19.5)\n",
            "Requirement already satisfied: cycler>=0.10 in /usr/local/lib/python3.7/dist-packages (from matplotlib>=2.1->corner) (0.10.0)\n",
            "Requirement already satisfied: python-dateutil>=2.1 in /usr/local/lib/python3.7/dist-packages (from matplotlib>=2.1->corner) (2.8.2)\n",
            "Requirement already satisfied: pyparsing!=2.0.4,!=2.1.2,!=2.1.6,>=2.0.1 in /usr/local/lib/python3.7/dist-packages (from matplotlib>=2.1->corner) (2.4.7)\n",
            "Requirement already satisfied: kiwisolver>=1.0.1 in /usr/local/lib/python3.7/dist-packages (from matplotlib>=2.1->corner) (1.3.2)\n",
            "Requirement already satisfied: six in /usr/local/lib/python3.7/dist-packages (from cycler>=0.10->matplotlib>=2.1->corner) (1.15.0)\n",
            "Installing collected packages: corner\n",
            "Successfully installed corner-2.2.1\n"
          ]
        }
      ]
    },
    {
      "cell_type": "code",
      "metadata": {
        "id": "5NCXZeOAElv5",
        "colab": {
          "base_uri": "https://localhost:8080/"
        },
        "outputId": "42b95d11-d419-4d8c-95c3-9c85c3a6a846"
      },
      "source": [
        "!git clone https://github.com/dfm/corner.py.git\n",
        "!cd corner.py ; python -m pip install ."
      ],
      "execution_count": null,
      "outputs": [
        {
          "output_type": "stream",
          "name": "stdout",
          "text": [
            "fatal: destination path 'corner.py' already exists and is not an empty directory.\n",
            "Processing /content/corner.py\n",
            "\u001b[33m  DEPRECATION: A future pip version will change local packages to be built in-place without first copying to a temporary directory. We recommend you use --use-feature=in-tree-build to test your packages with this new behavior before it becomes the default.\n",
            "   pip 21.3 will remove support for this functionality. You can find discussion regarding this at https://github.com/pypa/pip/issues/7555.\u001b[0m\n",
            "  Installing build dependencies ... \u001b[?25l\u001b[?25hdone\n",
            "  Getting requirements to build wheel ... \u001b[?25l\u001b[?25hdone\n",
            "    Preparing wheel metadata ... \u001b[?25l\u001b[?25hdone\n",
            "Requirement already satisfied: matplotlib>=2.1 in /usr/local/lib/python3.7/dist-packages (from corner==2.2.2.dev18+g2dce1a6) (3.2.2)\n",
            "Requirement already satisfied: numpy>=1.11 in /usr/local/lib/python3.7/dist-packages (from matplotlib>=2.1->corner==2.2.2.dev18+g2dce1a6) (1.19.5)\n",
            "Requirement already satisfied: cycler>=0.10 in /usr/local/lib/python3.7/dist-packages (from matplotlib>=2.1->corner==2.2.2.dev18+g2dce1a6) (0.10.0)\n",
            "Requirement already satisfied: python-dateutil>=2.1 in /usr/local/lib/python3.7/dist-packages (from matplotlib>=2.1->corner==2.2.2.dev18+g2dce1a6) (2.8.2)\n",
            "Requirement already satisfied: pyparsing!=2.0.4,!=2.1.2,!=2.1.6,>=2.0.1 in /usr/local/lib/python3.7/dist-packages (from matplotlib>=2.1->corner==2.2.2.dev18+g2dce1a6) (2.4.7)\n",
            "Requirement already satisfied: kiwisolver>=1.0.1 in /usr/local/lib/python3.7/dist-packages (from matplotlib>=2.1->corner==2.2.2.dev18+g2dce1a6) (1.3.2)\n",
            "Requirement already satisfied: six in /usr/local/lib/python3.7/dist-packages (from cycler>=0.10->matplotlib>=2.1->corner==2.2.2.dev18+g2dce1a6) (1.15.0)\n",
            "Building wheels for collected packages: corner\n",
            "  Building wheel for corner (PEP 517) ... \u001b[?25l\u001b[?25hdone\n",
            "  Created wheel for corner: filename=corner-2.2.2.dev18+g2dce1a6-py3-none-any.whl size=15754 sha256=6c3c630ad5617dcc388e137ed092f6084d328c3953295132a99c03a45a176752\n",
            "  Stored in directory: /tmp/pip-ephem-wheel-cache-0tir5qtr/wheels/36/82/c5/449fba3ea769f91715347bcea75053a107e2f2330ec6188e02\n",
            "Successfully built corner\n",
            "Installing collected packages: corner\n",
            "Successfully installed corner-2.2.2.dev18+g2dce1a6\n"
          ]
        }
      ]
    },
    {
      "cell_type": "code",
      "metadata": {
        "id": "_7DCE1HH3FA1"
      },
      "source": [
        "%matplotlib inline"
      ],
      "execution_count": null,
      "outputs": []
    },
    {
      "cell_type": "code",
      "metadata": {
        "colab": {
          "base_uri": "https://localhost:8080/"
        },
        "id": "tvKVWbPC_eO7",
        "outputId": "69551072-c8f5-44f4-ff6f-7d7317802787"
      },
      "source": [
        "%pylab"
      ],
      "execution_count": null,
      "outputs": [
        {
          "output_type": "stream",
          "name": "stdout",
          "text": [
            "Using matplotlib backend: agg\n",
            "Populating the interactive namespace from numpy and matplotlib\n"
          ]
        }
      ]
    },
    {
      "cell_type": "code",
      "metadata": {
        "id": "XYiDm2zCGaOo",
        "colab": {
          "base_uri": "https://localhost:8080/"
        },
        "outputId": "2d98d7dc-6d02-4eda-d308-d43043da38f1"
      },
      "source": [
        "%time print(\"Hello world\")"
      ],
      "execution_count": null,
      "outputs": [
        {
          "output_type": "stream",
          "name": "stdout",
          "text": [
            "Hello world\n",
            "CPU times: user 1.12 ms, sys: 9 µs, total: 1.13 ms\n",
            "Wall time: 930 µs\n"
          ]
        }
      ]
    },
    {
      "cell_type": "code",
      "metadata": {
        "colab": {
          "base_uri": "https://localhost:8080/"
        },
        "id": "0bYb4aKd_oRD",
        "outputId": "18d65607-8fee-4c47-e72a-ebce0531c391"
      },
      "source": [
        "import time\n",
        "\n",
        "%time time.sleep(1)"
      ],
      "execution_count": null,
      "outputs": [
        {
          "output_type": "stream",
          "name": "stdout",
          "text": [
            "CPU times: user 5.99 ms, sys: 125 µs, total: 6.11 ms\n",
            "Wall time: 1 s\n"
          ]
        }
      ]
    },
    {
      "cell_type": "code",
      "metadata": {
        "id": "7f7s7fIa1PTp",
        "colab": {
          "base_uri": "https://localhost:8080/"
        },
        "outputId": "b604ef61-5227-4c09-98a3-d1263f3be8f6"
      },
      "source": [
        "def fun():\n",
        "    time.sleep(1)\n",
        "    time.sleep(1)\n",
        "\n",
        "%time fun()"
      ],
      "execution_count": null,
      "outputs": [
        {
          "output_type": "stream",
          "name": "stdout",
          "text": [
            "CPU times: user 8.31 ms, sys: 3.36 ms, total: 11.7 ms\n",
            "Wall time: 2 s\n"
          ]
        }
      ]
    },
    {
      "cell_type": "code",
      "metadata": {
        "id": "ki0THCp7G2Fb",
        "colab": {
          "base_uri": "https://localhost:8080/"
        },
        "outputId": "5370a894-fab6-4ac3-8437-8cb4cfdc4b7e"
      },
      "source": [
        "%timeit time.sleep(1)"
      ],
      "execution_count": null,
      "outputs": [
        {
          "output_type": "stream",
          "name": "stdout",
          "text": [
            "1 loop, best of 5: 1 s per loop\n"
          ]
        }
      ]
    },
    {
      "cell_type": "code",
      "metadata": {
        "colab": {
          "base_uri": "https://localhost:8080/"
        },
        "id": "n4B78gbM_q-S",
        "outputId": "2a1edc93-3b47-4add-bad2-3da8a814bf9a"
      },
      "source": [
        "%timeit -r 10 time.sleep(1)"
      ],
      "execution_count": null,
      "outputs": [
        {
          "output_type": "stream",
          "name": "stdout",
          "text": [
            "1 loop, best of 10: 1 s per loop\n"
          ]
        }
      ]
    },
    {
      "cell_type": "markdown",
      "metadata": {
        "id": "arYFWel9AeWm"
      },
      "source": [
        "### Heading\n",
        "#### Heading 2\n",
        "\n",
        "**bold**\n",
        "\n",
        "*italic*\n",
        "\n",
        "`code`\n",
        "\n",
        "```\n",
        "from numpy import sin\n",
        "```\n",
        "\n",
        "```python\n",
        "from numpy import sin\n",
        "```\n",
        "\n",
        "[odkaz](https://scikit-learn.org/stable/)\n",
        "\n",
        "[link](https://scikit-learn.org/)\n",
        "\n",
        "![](https://scikit-learn.org/stable/_static/scikit-learn-logo-small.png)\n",
        "\n",
        "\n",
        "> block\\\n",
        "> text v bloku\n",
        "\n",
        "\n",
        "1.   ordered list\n",
        "2.   ...\n",
        "\n",
        "\n",
        "*   unordered list\n",
        "*   ...\n",
        "\n",
        "---"
      ]
    },
    {
      "cell_type": "markdown",
      "metadata": {
        "id": "QKTnkxLbV1pv"
      },
      "source": [
        "```html\n",
        "<img src=\"https://scikit-learn.org/stable/_static/scikit-learn-logo-small.png\" height=\"150px\" align=\"right\">\n",
        "```\n",
        "\n",
        "<img src=\"https://scikit-learn.org/stable/_static/scikit-learn-logo-small.png\" height=\"100px\" align=\"right\">"
      ]
    },
    {
      "cell_type": "code",
      "metadata": {
        "id": "o7g1WVCUfJYx"
      },
      "source": [
        "import numpy as np\n",
        "np.array?"
      ],
      "execution_count": null,
      "outputs": []
    },
    {
      "cell_type": "markdown",
      "metadata": {
        "id": "5xLIHRDdc29-"
      },
      "source": [
        "## **Basics of Python**\n",
        "\n",
        "- object oriented programming language\n",
        "- Python2, Python3\n",
        "- high level language - implemented in C (\"Python is just a C wrapper.\")\n",
        "- interpreted (slower)\n",
        "- open source & free to use\n",
        "- NOT ONLY scripting language\n",
        "- plenty of modules (`scipy`, `astropy`, `keras`, `Qt`...)\n",
        "- computations, programs, graphical interface, web backend..."
      ]
    },
    {
      "cell_type": "code",
      "metadata": {
        "id": "Sc7DJB68hZ83",
        "colab": {
          "base_uri": "https://localhost:8080/"
        },
        "outputId": "80ac2d8c-5df7-425b-836a-8d6716245dd0"
      },
      "source": [
        "import sys\n",
        "print(sys.version)"
      ],
      "execution_count": null,
      "outputs": [
        {
          "output_type": "stream",
          "name": "stdout",
          "text": [
            "3.7.12 (default, Sep 10 2021, 00:21:48) \n",
            "[GCC 7.5.0]\n"
          ]
        }
      ]
    },
    {
      "cell_type": "markdown",
      "metadata": {
        "id": "BUJGSuJlp8xN"
      },
      "source": [
        "### **Variables**"
      ]
    },
    {
      "cell_type": "code",
      "metadata": {
        "id": "cIdGP4eRv3Es",
        "colab": {
          "base_uri": "https://localhost:8080/"
        },
        "outputId": "a8915fb9-2d18-4761-9b27-9a4f6f50aa4d"
      },
      "source": [
        "a = 1\n",
        "b = 4.2\n",
        "c = \"word\"\n",
        "d = [1, 2, 3]\n",
        "e = (1, 2, 3)\n",
        "f = {\"Tomas\" : 1, \"Toast\" : 2, \"Matěj\" : 3}\n",
        "def fun(): pass\n",
        "import numpy\n",
        "from numpy import array\n",
        "g = array([1,2,3])\n",
        "from pandas import DataFrame\n",
        "\n",
        "for i in [a, b, c, d, e, f, fun, numpy, g, DataFrame()]:\n",
        "    print(type(i))"
      ],
      "execution_count": null,
      "outputs": [
        {
          "output_type": "stream",
          "name": "stdout",
          "text": [
            "<class 'int'>\n",
            "<class 'float'>\n",
            "<class 'str'>\n",
            "<class 'list'>\n",
            "<class 'tuple'>\n",
            "<class 'dict'>\n",
            "<class 'function'>\n",
            "<class 'module'>\n",
            "<class 'numpy.ndarray'>\n",
            "<class 'pandas.core.frame.DataFrame'>\n"
          ]
        }
      ]
    },
    {
      "cell_type": "code",
      "metadata": {
        "id": "2fJcFoLuiFyQ",
        "colab": {
          "base_uri": "https://localhost:8080/"
        },
        "outputId": "89c1e0c2-3563-44e6-999a-634cac956115"
      },
      "source": [
        "a = 1\n",
        "b = 2\n",
        "print(a + b)"
      ],
      "execution_count": null,
      "outputs": [
        {
          "output_type": "stream",
          "name": "stdout",
          "text": [
            "3\n"
          ]
        }
      ]
    },
    {
      "cell_type": "code",
      "metadata": {
        "id": "G5p0NWLliF68",
        "colab": {
          "base_uri": "https://localhost:8080/"
        },
        "outputId": "a1f99a6c-e9d8-47ba-d605-4f5f4abc46e5"
      },
      "source": [
        "a + b"
      ],
      "execution_count": null,
      "outputs": [
        {
          "output_type": "execute_result",
          "data": {
            "text/plain": [
              "3"
            ]
          },
          "metadata": {},
          "execution_count": 43
        }
      ]
    },
    {
      "cell_type": "code",
      "metadata": {
        "id": "4JYjQU6r9Z_x"
      },
      "source": [
        "a = b\n",
        "a"
      ],
      "execution_count": null,
      "outputs": []
    },
    {
      "cell_type": "code",
      "metadata": {
        "id": "iPYuqnQvsDjx"
      },
      "source": [
        "from math import sin, pi, exp"
      ],
      "execution_count": null,
      "outputs": []
    },
    {
      "cell_type": "code",
      "metadata": {
        "id": "Te8eU90OsGaC"
      },
      "source": [
        "sin(pi/2)"
      ],
      "execution_count": null,
      "outputs": []
    },
    {
      "cell_type": "code",
      "metadata": {
        "id": "70FUi4wssHzn"
      },
      "source": [
        "exp(0)"
      ],
      "execution_count": null,
      "outputs": []
    },
    {
      "cell_type": "markdown",
      "source": [
        "### **Atributes**"
      ],
      "metadata": {
        "id": "-o4lVIBBRjjk"
      }
    },
    {
      "cell_type": "code",
      "source": [],
      "metadata": {
        "id": "MESPo7sWRm9h"
      },
      "execution_count": null,
      "outputs": []
    },
    {
      "cell_type": "code",
      "source": [],
      "metadata": {
        "id": "s-eY3vnRRm_4"
      },
      "execution_count": null,
      "outputs": []
    },
    {
      "cell_type": "code",
      "source": [],
      "metadata": {
        "id": "9m9Rpmi3RnFC"
      },
      "execution_count": null,
      "outputs": []
    },
    {
      "cell_type": "markdown",
      "metadata": {
        "id": "_FUsvJWkqBSP"
      },
      "source": [
        "### **Methods**"
      ]
    },
    {
      "cell_type": "code",
      "metadata": {
        "id": "c-GfWFkQqKY0",
        "colab": {
          "base_uri": "https://localhost:8080/",
          "height": 35
        },
        "outputId": "e6cb9237-99dd-492a-f253-2a722a3a41e8"
      },
      "source": [
        "a = \"slovo\"\n",
        "a"
      ],
      "execution_count": null,
      "outputs": [
        {
          "output_type": "execute_result",
          "data": {
            "application/vnd.google.colaboratory.intrinsic+json": {
              "type": "string"
            },
            "text/plain": [
              "'slovo'"
            ]
          },
          "metadata": {},
          "execution_count": 2
        }
      ]
    },
    {
      "cell_type": "code",
      "metadata": {
        "id": "-EomYUkTqOF4",
        "colab": {
          "base_uri": "https://localhost:8080/"
        },
        "outputId": "f63866cc-7953-42f9-8ab4-6bde5bd5f14e"
      },
      "source": [
        "a.find(\"s\")"
      ],
      "execution_count": null,
      "outputs": [
        {
          "output_type": "execute_result",
          "data": {
            "text/plain": [
              "0"
            ]
          },
          "metadata": {},
          "execution_count": 3
        }
      ]
    },
    {
      "cell_type": "code",
      "metadata": {
        "id": "PqdxGzlfR0Hd",
        "colab": {
          "base_uri": "https://localhost:8080/",
          "height": 35
        },
        "outputId": "a7b66bfd-ec27-4d43-cc3f-9732d064e1cf"
      },
      "source": [
        "a.capitalize()"
      ],
      "execution_count": null,
      "outputs": [
        {
          "output_type": "execute_result",
          "data": {
            "application/vnd.google.colaboratory.intrinsic+json": {
              "type": "string"
            },
            "text/plain": [
              "'Slovo'"
            ]
          },
          "metadata": {},
          "execution_count": 4
        }
      ]
    },
    {
      "cell_type": "code",
      "metadata": {
        "id": "qG0Tuk3nnF9I",
        "colab": {
          "base_uri": "https://localhost:8080/"
        },
        "outputId": "ee90764f-f653-47c0-860f-0aa493fcecf6"
      },
      "source": [
        "a = [1,2,3]\n",
        "a"
      ],
      "execution_count": null,
      "outputs": [
        {
          "output_type": "execute_result",
          "data": {
            "text/plain": [
              "[1, 2, 3]"
            ]
          },
          "metadata": {},
          "execution_count": 54
        }
      ]
    },
    {
      "cell_type": "code",
      "metadata": {
        "id": "lR_JqpkEnGHB",
        "colab": {
          "base_uri": "https://localhost:8080/"
        },
        "outputId": "b8df3eff-02bf-457d-cd80-04e79f42d4bd"
      },
      "source": [
        "a.append(4)\n",
        "a"
      ],
      "execution_count": null,
      "outputs": [
        {
          "output_type": "execute_result",
          "data": {
            "text/plain": [
              "[1, 2, 3, 4]"
            ]
          },
          "metadata": {},
          "execution_count": 55
        }
      ]
    },
    {
      "cell_type": "code",
      "metadata": {
        "id": "k_fFUe2NnMZT",
        "colab": {
          "base_uri": "https://localhost:8080/"
        },
        "outputId": "34d9ba48-bd6f-422b-ae3c-c8ab06324086"
      },
      "source": [
        "a.count(1)"
      ],
      "execution_count": null,
      "outputs": [
        {
          "output_type": "execute_result",
          "data": {
            "text/plain": [
              "1"
            ]
          },
          "metadata": {},
          "execution_count": 57
        }
      ]
    },
    {
      "cell_type": "code",
      "metadata": {
        "id": "r_7GyElMcOxu"
      },
      "source": [
        "a[0]"
      ],
      "execution_count": null,
      "outputs": []
    },
    {
      "cell_type": "code",
      "metadata": {
        "id": "jXizXTtDcRNO"
      },
      "source": [
        "a[1:]"
      ],
      "execution_count": null,
      "outputs": []
    },
    {
      "cell_type": "code",
      "metadata": {
        "id": "_39ZngUDcTnB"
      },
      "source": [
        "a[::2]"
      ],
      "execution_count": null,
      "outputs": []
    },
    {
      "cell_type": "code",
      "metadata": {
        "id": "7Kt87mF2cWH2"
      },
      "source": [
        "a[::2] = 1"
      ],
      "execution_count": null,
      "outputs": []
    },
    {
      "cell_type": "code",
      "metadata": {
        "id": "Uf1t0w_CAcKp"
      },
      "source": [
        "b = (1, 2, 3)"
      ],
      "execution_count": null,
      "outputs": []
    },
    {
      "cell_type": "code",
      "metadata": {
        "colab": {
          "base_uri": "https://localhost:8080/"
        },
        "id": "bCYFowg7AgPk",
        "outputId": "937071cf-5bbd-4944-ff45-4ca74a6da557"
      },
      "source": [
        "b[0]"
      ],
      "execution_count": null,
      "outputs": [
        {
          "output_type": "execute_result",
          "data": {
            "text/plain": [
              "1"
            ]
          },
          "metadata": {},
          "execution_count": 6
        }
      ]
    },
    {
      "cell_type": "code",
      "metadata": {
        "colab": {
          "base_uri": "https://localhost:8080/",
          "height": 168
        },
        "id": "Tkd2F-ZaAhqY",
        "outputId": "3fddeaaa-8a05-4a2c-9dc4-9aa7e4e8bbc8"
      },
      "source": [
        "b[0] = 1"
      ],
      "execution_count": null,
      "outputs": [
        {
          "output_type": "error",
          "ename": "TypeError",
          "evalue": "ignored",
          "traceback": [
            "\u001b[0;31m---------------------------------------------------------------------------\u001b[0m",
            "\u001b[0;31mTypeError\u001b[0m                                 Traceback (most recent call last)",
            "\u001b[0;32m<ipython-input-7-2f36a6f9a69f>\u001b[0m in \u001b[0;36m<module>\u001b[0;34m()\u001b[0m\n\u001b[0;32m----> 1\u001b[0;31m \u001b[0mb\u001b[0m\u001b[0;34m[\u001b[0m\u001b[0;36m0\u001b[0m\u001b[0;34m]\u001b[0m \u001b[0;34m=\u001b[0m \u001b[0;36m1\u001b[0m\u001b[0;34m\u001b[0m\u001b[0;34m\u001b[0m\u001b[0m\n\u001b[0m",
            "\u001b[0;31mTypeError\u001b[0m: 'tuple' object does not support item assignment"
          ]
        }
      ]
    },
    {
      "cell_type": "code",
      "metadata": {
        "id": "OEsliTN9v3IM"
      },
      "source": [
        "import numpy as np"
      ],
      "execution_count": null,
      "outputs": []
    },
    {
      "cell_type": "code",
      "metadata": {
        "id": "PUGZ9S1Ypgk3"
      },
      "source": [
        "b = np.array([1,2,3])"
      ],
      "execution_count": null,
      "outputs": []
    },
    {
      "cell_type": "code",
      "metadata": {
        "id": "L-FJel2Lpj-I",
        "colab": {
          "base_uri": "https://localhost:8080/"
        },
        "outputId": "acbea0cd-df7b-4ae7-d40d-2ce0dbc58cea"
      },
      "source": [
        "type(a), type(b)"
      ],
      "execution_count": null,
      "outputs": [
        {
          "output_type": "execute_result",
          "data": {
            "text/plain": [
              "(numpy.ndarray, numpy.ndarray)"
            ]
          },
          "metadata": {},
          "execution_count": 5
        }
      ]
    },
    {
      "cell_type": "code",
      "metadata": {
        "id": "G7sRbLRXpnCO",
        "colab": {
          "base_uri": "https://localhost:8080/"
        },
        "outputId": "a8aa3cec-661a-4c06-d2dc-11135e4baa92"
      },
      "source": [
        "b.sum()"
      ],
      "execution_count": null,
      "outputs": [
        {
          "output_type": "execute_result",
          "data": {
            "text/plain": [
              "6"
            ]
          },
          "metadata": {},
          "execution_count": 6
        }
      ]
    },
    {
      "cell_type": "code",
      "metadata": {
        "id": "WE7zZlajpogD",
        "colab": {
          "base_uri": "https://localhost:8080/"
        },
        "outputId": "7349a720-1c7b-42b3-a4cc-da0f45037363"
      },
      "source": [
        "b.mean()"
      ],
      "execution_count": null,
      "outputs": [
        {
          "output_type": "execute_result",
          "data": {
            "text/plain": [
              "2.0"
            ]
          },
          "metadata": {},
          "execution_count": 7
        }
      ]
    },
    {
      "cell_type": "code",
      "metadata": {
        "id": "CZvqgPH_pqTk",
        "colab": {
          "base_uri": "https://localhost:8080/"
        },
        "outputId": "0e6f00e6-a1a0-44dc-94f6-52e9819716bd"
      },
      "source": [
        "b.std()"
      ],
      "execution_count": null,
      "outputs": [
        {
          "output_type": "execute_result",
          "data": {
            "text/plain": [
              "0.816496580927726"
            ]
          },
          "metadata": {},
          "execution_count": 8
        }
      ]
    },
    {
      "cell_type": "code",
      "metadata": {
        "id": "tYpeELvKo9po"
      },
      "source": [
        "a = np.random.randint(10, size=(1000000000))"
      ],
      "execution_count": null,
      "outputs": []
    },
    {
      "cell_type": "code",
      "metadata": {
        "id": "ih37QjczpEYa",
        "colab": {
          "base_uri": "https://localhost:8080/"
        },
        "outputId": "d34d72e7-1c5a-4611-cae6-2387c223a1b6"
      },
      "source": [
        "a**2"
      ],
      "execution_count": null,
      "outputs": [
        {
          "output_type": "execute_result",
          "data": {
            "text/plain": [
              "array([[49, 49, 36, ...,  0,  1, 16],\n",
              "       [64, 36,  1, ...,  0, 25,  0],\n",
              "       [16, 49, 49, ..., 25,  9,  4],\n",
              "       ...,\n",
              "       [ 4, 25,  4, ..., 36, 49,  0],\n",
              "       [ 9, 81,  9, ..., 25, 49, 81],\n",
              "       [49,  4, 25, ...,  9, 64, 36]])"
            ]
          },
          "metadata": {},
          "execution_count": 65
        }
      ]
    },
    {
      "cell_type": "markdown",
      "metadata": {
        "id": "r5S3jCQzYRQw"
      },
      "source": [
        "### **task 1:** compute sum of list\n",
        "\n",
        "a = [1, 2, 3, ...., 1000]\\\n",
        "%timeit sum(a)"
      ]
    },
    {
      "cell_type": "code",
      "metadata": {
        "id": "brgCI-hkjf9d"
      },
      "source": [
        "def sum_list(a):\n",
        "    x = 0\n",
        "    for i in a:\n",
        "        x += i\n",
        "    return x"
      ],
      "execution_count": null,
      "outputs": []
    },
    {
      "cell_type": "code",
      "metadata": {
        "id": "gc1AFpJxUqsQ"
      },
      "source": [
        "a = [i for i in range(1000)]"
      ],
      "execution_count": null,
      "outputs": []
    },
    {
      "cell_type": "code",
      "metadata": {
        "colab": {
          "base_uri": "https://localhost:8080/"
        },
        "id": "DrLRiWCCUuLC",
        "outputId": "9c5a9db4-3c4e-4139-de08-bfacdd94b6bd"
      },
      "source": [
        "%timeit sum_list(a)"
      ],
      "execution_count": null,
      "outputs": [
        {
          "output_type": "stream",
          "name": "stdout",
          "text": [
            "10000 loops, best of 5: 42.9 µs per loop\n"
          ]
        }
      ]
    },
    {
      "cell_type": "code",
      "metadata": {
        "colab": {
          "base_uri": "https://localhost:8080/"
        },
        "id": "fLSx18h-Yziy",
        "outputId": "4e7aa686-a3cf-4832-a720-35b86d0a6c59"
      },
      "source": [
        "%timeit sum(a)"
      ],
      "execution_count": null,
      "outputs": [
        {
          "output_type": "stream",
          "name": "stdout",
          "text": [
            "100000 loops, best of 5: 6.52 µs per loop\n"
          ]
        }
      ]
    },
    {
      "cell_type": "code",
      "metadata": {
        "id": "1KMgzsowUw_l"
      },
      "source": [
        "b = np.array(a)"
      ],
      "execution_count": null,
      "outputs": []
    },
    {
      "cell_type": "code",
      "metadata": {
        "colab": {
          "base_uri": "https://localhost:8080/"
        },
        "id": "_2OKzAXCU74w",
        "outputId": "5814c07b-81c4-4c64-d8a3-cdbb21041a77"
      },
      "source": [
        "type(a), type(b)"
      ],
      "execution_count": null,
      "outputs": [
        {
          "output_type": "execute_result",
          "data": {
            "text/plain": [
              "(int, numpy.ndarray)"
            ]
          },
          "metadata": {},
          "execution_count": 17
        }
      ]
    },
    {
      "cell_type": "code",
      "metadata": {
        "colab": {
          "base_uri": "https://localhost:8080/"
        },
        "id": "Aqss2_2UU8zr",
        "outputId": "1db78310-e3a8-4496-b567-681f10709d2e"
      },
      "source": [
        "%timeit b.sum()"
      ],
      "execution_count": null,
      "outputs": [
        {
          "output_type": "stream",
          "name": "stdout",
          "text": [
            "The slowest run took 2981.21 times longer than the fastest. This could mean that an intermediate result is being cached.\n",
            "100000 loops, best of 5: 2.01 µs per loop\n"
          ]
        }
      ]
    },
    {
      "cell_type": "code",
      "metadata": {
        "id": "F6B5Tpu5VV7H"
      },
      "source": [
        "a = [i for i in range(1000)]\n",
        "b = [i for i in range(1000)]\n",
        "\n",
        "def multiply_lists(a,b):\n",
        "    c = []\n",
        "    for i,j in zip(a,b):\n",
        "        c.append(i * j)\n",
        "    return c"
      ],
      "execution_count": null,
      "outputs": []
    },
    {
      "cell_type": "code",
      "metadata": {
        "colab": {
          "base_uri": "https://localhost:8080/"
        },
        "id": "_pplp-rhVuec",
        "outputId": "59ce303e-e25d-4db7-f40c-72b2cc4fd9d1"
      },
      "source": [
        "%timeit multiply_lists(a,b)"
      ],
      "execution_count": null,
      "outputs": [
        {
          "output_type": "stream",
          "name": "stdout",
          "text": [
            "10000 loops, best of 5: 131 µs per loop\n"
          ]
        }
      ]
    },
    {
      "cell_type": "code",
      "metadata": {
        "id": "witZx777VyCK"
      },
      "source": [
        "A = np.array(a)\n",
        "B = np.array(b)"
      ],
      "execution_count": null,
      "outputs": []
    },
    {
      "cell_type": "code",
      "metadata": {
        "colab": {
          "base_uri": "https://localhost:8080/"
        },
        "id": "HtDRm2V8V3IY",
        "outputId": "b8724f1b-20b5-4f51-afc2-ecacbb5c9fa5"
      },
      "source": [
        "%timeit A * B"
      ],
      "execution_count": null,
      "outputs": [
        {
          "output_type": "stream",
          "name": "stdout",
          "text": [
            "The slowest run took 23.03 times longer than the fastest. This could mean that an intermediate result is being cached.\n",
            "1000000 loops, best of 5: 1.39 µs per loop\n"
          ]
        }
      ]
    },
    {
      "cell_type": "code",
      "metadata": {
        "id": "RuUWFzLzV5EI"
      },
      "source": [
        "import tensorflow as tf"
      ],
      "execution_count": null,
      "outputs": []
    },
    {
      "cell_type": "code",
      "metadata": {
        "id": "h3I5hCfItpUo"
      },
      "source": [
        "import numpy as np"
      ],
      "execution_count": null,
      "outputs": []
    },
    {
      "cell_type": "code",
      "metadata": {
        "colab": {
          "base_uri": "https://localhost:8080/"
        },
        "id": "pMSEDRopcJ9b",
        "outputId": "185fd5a5-8794-4a56-fcf8-4f0706393ca2"
      },
      "source": [
        "a = np.random.randint(10, size=(3,3,3))\n",
        "b = np.random.randint(10, size=(3,3,3))\n",
        "a.shape"
      ],
      "execution_count": null,
      "outputs": [
        {
          "output_type": "execute_result",
          "data": {
            "text/plain": [
              "(3, 3, 3)"
            ]
          },
          "metadata": {},
          "execution_count": 5
        }
      ]
    },
    {
      "cell_type": "code",
      "metadata": {
        "colab": {
          "base_uri": "https://localhost:8080/"
        },
        "id": "VQXXFb1ie8Yh",
        "outputId": "89feb9fd-37ec-4ab0-a26a-b6c6c50ccd38"
      },
      "source": [
        "a"
      ],
      "execution_count": null,
      "outputs": [
        {
          "output_type": "execute_result",
          "data": {
            "text/plain": [
              "array([[[2, 7, 9],\n",
              "        [7, 2, 0],\n",
              "        [0, 7, 6]],\n",
              "\n",
              "       [[2, 3, 9],\n",
              "        [6, 6, 9],\n",
              "        [4, 2, 2]],\n",
              "\n",
              "       [[1, 2, 3],\n",
              "        [6, 4, 6],\n",
              "        [0, 6, 9]]])"
            ]
          },
          "metadata": {},
          "execution_count": 7
        }
      ]
    },
    {
      "cell_type": "code",
      "metadata": {
        "colab": {
          "base_uri": "https://localhost:8080/"
        },
        "id": "n9Ut9DpXeNI7",
        "outputId": "645d6c1d-658f-479e-ef85-cefda6a537b7"
      },
      "source": [
        "np.dot(a,b)"
      ],
      "execution_count": null,
      "outputs": [
        {
          "output_type": "execute_result",
          "data": {
            "text/plain": [
              "array([[[[103,  87,  76],\n",
              "         [  0,  76,  82],\n",
              "         [ 92,  34,  79]],\n",
              "\n",
              "        [[ 14,  39,  59],\n",
              "         [  0,  77,  53],\n",
              "         [ 79,  56,  11]],\n",
              "\n",
              "        [[ 85,  75,  53],\n",
              "         [  0,  55,  50],\n",
              "         [ 68,  12,  56]]],\n",
              "\n",
              "\n",
              "       [[[ 75,  51,  56],\n",
              "         [  0,  48,  74],\n",
              "         [ 60,  34,  71]],\n",
              "\n",
              "        [[ 96,  90,  99],\n",
              "         [  0, 105, 108],\n",
              "         [120,  66,  81]],\n",
              "\n",
              "        [[ 26,  34,  44],\n",
              "         [  0,  52,  44],\n",
              "         [ 56,  36,  22]]],\n",
              "\n",
              "\n",
              "       [[[ 32,  27,  26],\n",
              "         [  0,  26,  29],\n",
              "         [ 31,  14,  26]],\n",
              "\n",
              "        [[ 64,  66,  80],\n",
              "         [  0,  88,  86],\n",
              "         [ 98,  60,  56]],\n",
              "\n",
              "        [[ 96,  72,  57],\n",
              "         [  0,  51,  66],\n",
              "         [ 66,  18,  75]]]])"
            ]
          },
          "metadata": {},
          "execution_count": 8
        }
      ]
    },
    {
      "cell_type": "code",
      "metadata": {
        "colab": {
          "base_uri": "https://localhost:8080/"
        },
        "id": "7kB8Jc0ZcUsX",
        "outputId": "c981ec48-9e32-4373-bb80-d16574601abe"
      },
      "source": [
        "%timeit np.dot(a,b)"
      ],
      "execution_count": null,
      "outputs": [
        {
          "output_type": "stream",
          "name": "stdout",
          "text": [
            "The slowest run took 561.29 times longer than the fastest. This could mean that an intermediate result is being cached.\n",
            "100000 loops, best of 5: 2.2 µs per loop\n"
          ]
        }
      ]
    },
    {
      "cell_type": "code",
      "metadata": {
        "colab": {
          "base_uri": "https://localhost:8080/"
        },
        "id": "NkA30HcJeR7U",
        "outputId": "3db825fa-94e3-4736-9706-5f08c5a53a09"
      },
      "source": [
        "tf.matmul(a,b)"
      ],
      "execution_count": null,
      "outputs": [
        {
          "output_type": "execute_result",
          "data": {
            "text/plain": [
              "<tf.Tensor: shape=(3, 3, 3), dtype=int64, numpy=\n",
              "array([[[103,  87,  76],\n",
              "        [ 14,  39,  59],\n",
              "        [ 85,  75,  53]],\n",
              "\n",
              "       [[  0,  48,  74],\n",
              "        [  0, 105, 108],\n",
              "        [  0,  52,  44]],\n",
              "\n",
              "       [[ 31,  14,  26],\n",
              "        [ 98,  60,  56],\n",
              "        [ 66,  18,  75]]])>"
            ]
          },
          "metadata": {},
          "execution_count": 10
        }
      ]
    },
    {
      "cell_type": "code",
      "metadata": {
        "colab": {
          "base_uri": "https://localhost:8080/"
        },
        "id": "FoGpy83tcZMh",
        "outputId": "be7f748d-5a26-4691-837a-343287c6516f"
      },
      "source": [
        "%timeit tf.matmul(a,b)"
      ],
      "execution_count": null,
      "outputs": [
        {
          "output_type": "stream",
          "name": "stdout",
          "text": [
            "The slowest run took 12.78 times longer than the fastest. This could mean that an intermediate result is being cached.\n",
            "10000 loops, best of 5: 101 µs per loop\n"
          ]
        }
      ]
    },
    {
      "cell_type": "markdown",
      "metadata": {
        "id": "z1DRbATkT0FO"
      },
      "source": [
        "## **\"Hello world\" of ML**"
      ]
    },
    {
      "cell_type": "markdown",
      "metadata": {
        "id": "4ah0tcn4iWnr"
      },
      "source": [
        "### **Clustering**\n",
        "\n",
        "Generate 2 randomly distributed groups of points and cluster them using a clustering algorithm."
      ]
    },
    {
      "cell_type": "code",
      "metadata": {
        "id": "Fo1-OG8cnruq"
      },
      "source": [
        "import numpy as np\n",
        "import matplotlib.pyplot as plt\n",
        "from sklearn.cluster import KMeans"
      ],
      "execution_count": null,
      "outputs": []
    },
    {
      "cell_type": "code",
      "metadata": {
        "id": "p3_Mp-hfnuWS"
      },
      "source": [
        "# Generate random data\n",
        "data1 = np.random.normal(0, 1, (100, 2))\n",
        "data2 = np.random.normal(2, 1, (100, 2))"
      ],
      "execution_count": null,
      "outputs": []
    },
    {
      "cell_type": "code",
      "metadata": {
        "id": "o3gEIn8jnxzt"
      },
      "source": [
        "data = np.concatenate((data1, data2), axis=0)"
      ],
      "execution_count": null,
      "outputs": []
    },
    {
      "cell_type": "code",
      "metadata": {
        "id": "q8674Zuwn2Nx",
        "colab": {
          "base_uri": "https://localhost:8080/",
          "height": 265
        },
        "outputId": "4ad5fa79-dd7c-4d08-941f-c6ed09bdafa1"
      },
      "source": [
        "plt.scatter(data1[:, 0], data1[:, 1])\n",
        "plt.scatter(data2[:, 0], data2[:, 1]);"
      ],
      "execution_count": null,
      "outputs": [
        {
          "output_type": "display_data",
          "data": {
            "image/png": "[encoded data removed]",
            "text/plain": [
              "<Figure size 432x288 with 1 Axes>"
            ]
          },
          "metadata": {
            "needs_background": "light"
          }
        }
      ]
    },
    {
      "cell_type": "code",
      "metadata": {
        "id": "omioKGXjoB6x"
      },
      "source": [
        "kmeans = KMeans(n_clusters=2).fit(data)"
      ],
      "execution_count": null,
      "outputs": []
    },
    {
      "cell_type": "code",
      "metadata": {
        "id": "DMUDW9MmoOpH",
        "colab": {
          "base_uri": "https://localhost:8080/"
        },
        "outputId": "c48df5bc-15d1-4182-816c-30bc4de607f1"
      },
      "source": [
        "kmeans"
      ],
      "execution_count": null,
      "outputs": [
        {
          "output_type": "execute_result",
          "data": {
            "text/plain": [
              "KMeans(algorithm='auto', copy_x=True, init='k-means++', max_iter=300,\n",
              "       n_clusters=2, n_init=10, n_jobs=None, precompute_distances='auto',\n",
              "       random_state=None, tol=0.0001, verbose=0)"
            ]
          },
          "metadata": {},
          "execution_count": 38
        }
      ]
    },
    {
      "cell_type": "code",
      "metadata": {
        "id": "WgcZfjH5oY-B",
        "colab": {
          "base_uri": "https://localhost:8080/"
        },
        "outputId": "812c65ab-aecb-4034-f126-883287a86416"
      },
      "source": [
        "kmeans.labels_"
      ],
      "execution_count": null,
      "outputs": [
        {
          "output_type": "execute_result",
          "data": {
            "text/plain": [
              "array([0, 1, 0, 0, 0, 0, 0, 0, 0, 0, 0, 0, 0, 1, 0, 0, 0, 0, 0, 1, 0, 0,\n",
              "       0, 0, 0, 0, 0, 0, 0, 0, 0, 0, 0, 0, 0, 1, 0, 0, 0, 0, 0, 0, 0, 0,\n",
              "       0, 0, 0, 0, 1, 0, 1, 0, 0, 0, 0, 0, 0, 0, 0, 0, 1, 0, 1, 1, 1, 0,\n",
              "       0, 0, 0, 0, 0, 0, 0, 0, 0, 0, 0, 1, 0, 0, 0, 0, 0, 0, 0, 0, 0, 0,\n",
              "       0, 0, 0, 0, 0, 0, 0, 0, 0, 0, 0, 1, 1, 1, 0, 1, 1, 1, 1, 1, 1, 1,\n",
              "       0, 1, 0, 1, 1, 1, 1, 1, 1, 1, 1, 1, 1, 1, 1, 0, 1, 1, 1, 1, 1, 1,\n",
              "       1, 1, 1, 1, 0, 1, 1, 1, 1, 1, 1, 1, 1, 1, 0, 1, 1, 0, 1, 1, 1, 0,\n",
              "       1, 1, 1, 1, 1, 1, 1, 1, 1, 1, 1, 1, 1, 0, 1, 1, 1, 0, 1, 1, 1, 1,\n",
              "       1, 1, 1, 1, 1, 1, 1, 1, 1, 1, 1, 1, 1, 1, 1, 1, 1, 1, 1, 1, 1, 0,\n",
              "       1, 1], dtype=int32)"
            ]
          },
          "metadata": {},
          "execution_count": 39
        }
      ]
    },
    {
      "cell_type": "code",
      "metadata": {
        "id": "2Yg9-LbPqHmm",
        "colab": {
          "base_uri": "https://localhost:8080/"
        },
        "outputId": "ba90d365-bc8e-4e3f-eebc-a8adb916f989"
      },
      "source": [
        "kmeans.n_clusters"
      ],
      "execution_count": null,
      "outputs": [
        {
          "output_type": "execute_result",
          "data": {
            "text/plain": [
              "2"
            ]
          },
          "metadata": {},
          "execution_count": 40
        }
      ]
    },
    {
      "cell_type": "code",
      "metadata": {
        "id": "XNLAqC3Anohi",
        "colab": {
          "base_uri": "https://localhost:8080/",
          "height": 282
        },
        "outputId": "f72ecd4a-82ac-48b5-dda5-f064e4c674ac"
      },
      "source": [
        "plt.scatter(data[:, 0], data[:, 1], c=kmeans.labels_)"
      ],
      "execution_count": null,
      "outputs": [
        {
          "output_type": "execute_result",
          "data": {
            "text/plain": [
              "<matplotlib.collections.PathCollection at 0x7f7ee8d61690>"
            ]
          },
          "metadata": {},
          "execution_count": 41
        },
        {
          "output_type": "display_data",
          "data": {
            "image/png": "[encoded data removed]",
            "text/plain": [
              "<Figure size 432x288 with 1 Axes>"
            ]
          },
          "metadata": {
            "needs_background": "light"
          }
        }
      ]
    },
    {
      "cell_type": "code",
      "metadata": {
        "id": "1wWbLhwLofW4",
        "colab": {
          "base_uri": "https://localhost:8080/"
        },
        "outputId": "70fa0056-3455-44aa-9cb9-8a4ddd311cab"
      },
      "source": [
        "labels = np.zeros(200)\n",
        "labels[100:] = 1\n",
        "\n",
        "sum(kmeans.labels_ == labels) / 200 * 100"
      ],
      "execution_count": null,
      "outputs": [
        {
          "output_type": "execute_result",
          "data": {
            "text/plain": [
              "88.5"
            ]
          },
          "metadata": {},
          "execution_count": 42
        }
      ]
    },
    {
      "cell_type": "code",
      "metadata": {
        "id": "D6XvH8q1o6YI",
        "colab": {
          "base_uri": "https://localhost:8080/",
          "height": 265
        },
        "outputId": "6674e6ba-585c-4387-a712-9e83d4150228"
      },
      "source": [
        "plt.scatter(data1[:, 0], data1[:, 1])\n",
        "plt.scatter(data2[:, 0], data2[:, 1])\n",
        "plt.scatter(data[:, 0], data[:, 1], marker=\"+\", c=\"black\", s=np.logical_not(kmeans.labels_==labels)*70);"
      ],
      "execution_count": null,
      "outputs": [
        {
          "output_type": "display_data",
          "data": {
            "image/png": "[encoded data removed]",
            "text/plain": [
              "<Figure size 432x288 with 1 Axes>"
            ]
          },
          "metadata": {
            "needs_background": "light"
          }
        }
      ]
    },
    {
      "cell_type": "markdown",
      "metadata": {
        "id": "BvzWR0QFqYZM"
      },
      "source": [
        "### **Classification**\n",
        "\n",
        "Generate 2 randomly distributed groups of points, train a SVC classifier to distinguish between the groups and test it."
      ]
    },
    {
      "cell_type": "code",
      "metadata": {
        "id": "iAp6MH8HsIVZ"
      },
      "source": [
        "from sklearn.svm import SVC"
      ],
      "execution_count": null,
      "outputs": []
    },
    {
      "cell_type": "code",
      "metadata": {
        "id": "93iKyI1hsNtl",
        "colab": {
          "base_uri": "https://localhost:8080/",
          "height": 265
        },
        "outputId": "38bca303-67de-4733-afcc-9996864e4f25"
      },
      "source": [
        "data1 = np.random.normal(0, 1, (100, 2))\n",
        "data2 = np.random.normal(2, 1, (100, 2))\n",
        "\n",
        "data = np.concatenate((data1, data2), axis=0)\n",
        "\n",
        "plt.scatter(data1[:, 0], data1[:, 1])\n",
        "plt.scatter(data2[:, 0], data2[:, 1]);"
      ],
      "execution_count": null,
      "outputs": [
        {
          "output_type": "display_data",
          "data": {
            "image/png": "[encoded data removed]",
            "text/plain": [
              "<Figure size 432x288 with 1 Axes>"
            ]
          },
          "metadata": {
            "needs_background": "light"
          }
        }
      ]
    },
    {
      "cell_type": "code",
      "metadata": {
        "id": "bljvhzU_sZWq",
        "colab": {
          "base_uri": "https://localhost:8080/"
        },
        "outputId": "3c1d2704-fce3-4082-ecf1-c049f57a0d84"
      },
      "source": [
        "labels = np.zeros(200)\n",
        "labels[100:] = 1\n",
        "labels"
      ],
      "execution_count": null,
      "outputs": [
        {
          "output_type": "execute_result",
          "data": {
            "text/plain": [
              "array([0., 0., 0., 0., 0., 0., 0., 0., 0., 0., 0., 0., 0., 0., 0., 0., 0.,\n",
              "       0., 0., 0., 0., 0., 0., 0., 0., 0., 0., 0., 0., 0., 0., 0., 0., 0.,\n",
              "       0., 0., 0., 0., 0., 0., 0., 0., 0., 0., 0., 0., 0., 0., 0., 0., 0.,\n",
              "       0., 0., 0., 0., 0., 0., 0., 0., 0., 0., 0., 0., 0., 0., 0., 0., 0.,\n",
              "       0., 0., 0., 0., 0., 0., 0., 0., 0., 0., 0., 0., 0., 0., 0., 0., 0.,\n",
              "       0., 0., 0., 0., 0., 0., 0., 0., 0., 0., 0., 0., 0., 0., 0., 1., 1.,\n",
              "       1., 1., 1., 1., 1., 1., 1., 1., 1., 1., 1., 1., 1., 1., 1., 1., 1.,\n",
              "       1., 1., 1., 1., 1., 1., 1., 1., 1., 1., 1., 1., 1., 1., 1., 1., 1.,\n",
              "       1., 1., 1., 1., 1., 1., 1., 1., 1., 1., 1., 1., 1., 1., 1., 1., 1.,\n",
              "       1., 1., 1., 1., 1., 1., 1., 1., 1., 1., 1., 1., 1., 1., 1., 1., 1.,\n",
              "       1., 1., 1., 1., 1., 1., 1., 1., 1., 1., 1., 1., 1., 1., 1., 1., 1.,\n",
              "       1., 1., 1., 1., 1., 1., 1., 1., 1., 1., 1., 1., 1.])"
            ]
          },
          "metadata": {},
          "execution_count": 50
        }
      ]
    },
    {
      "cell_type": "code",
      "metadata": {
        "id": "_mjYwh-XspEb"
      },
      "source": [
        "from sklearn.model_selection import train_test_split\n",
        "\n",
        "x_train, x_test, y_train, y_test = train_test_split(data, labels, test_size=0.2, random_state=42)"
      ],
      "execution_count": null,
      "outputs": []
    },
    {
      "cell_type": "code",
      "metadata": {
        "id": "CGiDXuVqsyi2",
        "colab": {
          "base_uri": "https://localhost:8080/"
        },
        "outputId": "06bf8f2b-438f-4fd5-f383-f4e6bc161289"
      },
      "source": [
        "model = SVC(kernel='linear')\n",
        "\n",
        "model.fit(x_train, y_train)"
      ],
      "execution_count": null,
      "outputs": [
        {
          "output_type": "execute_result",
          "data": {
            "text/plain": [
              "SVC(C=1.0, break_ties=False, cache_size=200, class_weight=None, coef0=0.0,\n",
              "    decision_function_shape='ovr', degree=3, gamma='scale', kernel='linear',\n",
              "    max_iter=-1, probability=False, random_state=None, shrinking=True,\n",
              "    tol=0.001, verbose=False)"
            ]
          },
          "metadata": {},
          "execution_count": 70
        }
      ]
    },
    {
      "cell_type": "code",
      "metadata": {
        "id": "g0AngodNtj9q"
      },
      "source": [
        "SVC?"
      ],
      "execution_count": null,
      "outputs": []
    },
    {
      "cell_type": "code",
      "metadata": {
        "id": "u9GuxDm0s5yC",
        "colab": {
          "base_uri": "https://localhost:8080/"
        },
        "outputId": "33343d2b-af7d-4b85-bbfd-f19f062334fe"
      },
      "source": [
        "sum(model.predict(x_test) == y_test) / len(y_test) * 100"
      ],
      "execution_count": null,
      "outputs": [
        {
          "output_type": "execute_result",
          "data": {
            "text/plain": [
              "85.0"
            ]
          },
          "metadata": {},
          "execution_count": 67
        }
      ]
    },
    {
      "cell_type": "code",
      "metadata": {
        "id": "xAJqBqKst4Vc",
        "colab": {
          "base_uri": "https://localhost:8080/"
        },
        "outputId": "0ce9350e-9d2a-45b8-b086-b4e517c34263"
      },
      "source": [
        "model.coef_"
      ],
      "execution_count": null,
      "outputs": [
        {
          "output_type": "execute_result",
          "data": {
            "text/plain": [
              "array([[1.37153664, 1.19506351]])"
            ]
          },
          "metadata": {},
          "execution_count": 71
        }
      ]
    },
    {
      "cell_type": "code",
      "metadata": {
        "id": "fue-cqQgt3cp"
      },
      "source": [
        "w = model.coef_[0]\n",
        "a = -w[0] / w[1]\n",
        "X = np.linspace(-3.5, 5)\n",
        "Y = a * X - (model.intercept_[0]) / w[1]"
      ],
      "execution_count": null,
      "outputs": []
    },
    {
      "cell_type": "code",
      "metadata": {
        "id": "NUd63H23ja2U",
        "colab": {
          "base_uri": "https://localhost:8080/",
          "height": 265
        },
        "outputId": "e1d907aa-cc7e-4f3f-acc9-f9548814deeb"
      },
      "source": [
        "plt.scatter(data1[:, 0], data1[:, 1], color='blue')\n",
        "plt.scatter(data2[:, 0], data2[:, 1], color='red')\n",
        "plt.plot(X, Y, 'k-')\n",
        "plt.show()"
      ],
      "execution_count": null,
      "outputs": [
        {
          "output_type": "display_data",
          "data": {
            "image/png": "[encoded data removed]",
            "text/plain": [
              "<Figure size 432x288 with 1 Axes>"
            ]
          },
          "metadata": {
            "needs_background": "light"
          }
        }
      ]
    },
    {
      "cell_type": "markdown",
      "metadata": {
        "id": "PsGym9jY-WnT"
      },
      "source": [
        "## **What can I do with ML?**\n",
        "\n",
        "Cases when I shouldn't use ML:\n",
        "- simple problems / algorithms\n",
        "- simply codable problems\n",
        "- problems that need to be deterministic\n",
        "- basic mathematics, precise computations\n",
        "\n",
        "\n",
        "Cases when I can use ML:\n",
        "- problems that require human abilities (vision, speech recognition, pattern recognition...)\n",
        "- complex image / video operations\n",
        "- high dimensional problems\n",
        "- big data problems"
      ]
    },
    {
      "cell_type": "markdown",
      "metadata": {
        "id": "yn2c1YOP-W2z"
      },
      "source": [
        "## **OpenAI Codex**\n",
        "\n",
        "- [beta version](https://beta.openai.com/playground?model=davinci-codex)"
      ]
    },
    {
      "cell_type": "markdown",
      "metadata": {
        "id": "Q_skSSeAPnI3"
      },
      "source": [
        "'''\n",
        "Create array with 10 random numbers.\n",
        "'''\n",
        "\n",
        "'''\n",
        "Create a 10 word long string with lorem ipsum.\n",
        "Do a for loop and print each word separately.\n",
        "'''\n",
        "\n",
        "'''\n",
        "What is the weather today?\n",
        "'''\n",
        "\n",
        "'''\n",
        "Download weather forecast for New York.\n",
        "'''\n",
        "\n",
        "'''\n",
        "Create array of 10 values ranging from 0 to 9.\n",
        "Create new array from the previous one but mutliply the numbers by two.\n",
        "Plot the two arrays.\n",
        "Shuffle the first array and plot that again.\n",
        "'''\n",
        "\n",
        "'''\n",
        "Generate two groups of 2D random datapoints with normal distribution, one shifted by 2 points.\n",
        "Plot the datasets.\n",
        "Cluster the data.\n",
        "'''\n",
        "\n",
        "'''\n",
        "Download the picture of Barrack Obama and plot it.\n",
        "'''\n",
        "\n",
        "'''\n",
        "Download image of puppy and plot it.\n",
        "'''"
      ]
    },
    {
      "cell_type": "code",
      "metadata": {
        "id": "DSIQoT1JfuJC",
        "colab": {
          "base_uri": "https://localhost:8080/",
          "height": 513
        },
        "outputId": "a7abfd11-fdf7-4b7c-d025-0f599b0c6c1f"
      },
      "source": [
        "import numpy as np\n",
        "import matplotlib.pyplot as plt\n",
        "from sklearn.cluster import KMeans\n",
        "\n",
        "# Generate random data\n",
        "data1 = np.random.normal(0, 1, (100, 2))\n",
        "data2 = np.random.normal(2, 1, (100, 2))\n",
        "data = np.concatenate((data1, data2), axis=0)\n",
        "\n",
        "# Plot the data\n",
        "plt.scatter(data[:, 0], data[:, 1])\n",
        "plt.show()\n",
        "\n",
        "# Cluster the data\n",
        "kmeans = KMeans(n_clusters=2, random_state=0).fit(data)\n",
        "\n",
        "# Plot the clusters\n",
        "plt.scatter(data[:, 0], data[:, 1], c=kmeans.labels_)\n",
        "plt.show()"
      ],
      "execution_count": null,
      "outputs": [
        {
          "output_type": "display_data",
          "data": {
            "image/png": "[encoded data removed]",
            "text/plain": [
              "<Figure size 432x288 with 1 Axes>"
            ]
          },
          "metadata": {
            "needs_background": "light"
          }
        },
        {
          "output_type": "display_data",
          "data": {
            "image/png": "[encoded data removed]",
            "text/plain": [
              "<Figure size 432x288 with 1 Axes>"
            ]
          },
          "metadata": {
            "needs_background": "light"
          }
        }
      ]
    },
    {
      "cell_type": "code",
      "metadata": {
        "id": "V5bFuM79UNXw",
        "colab": {
          "base_uri": "https://localhost:8080/",
          "height": 585
        },
        "outputId": "4203456b-28d2-4060-b188-fa444033a4b6"
      },
      "source": [
        "import numpy as np\n",
        "import matplotlib.pyplot as plt\n",
        "\n",
        "# Generate random data\n",
        "x1 = np.random.normal(0, 1, (100, 2))\n",
        "x2 = np.random.normal(2, 1, (100, 2))\n",
        "\n",
        "# Plot the data\n",
        "plt.scatter(x1[:, 0], x1[:, 1], color='blue')\n",
        "plt.scatter(x2[:, 0], x2[:, 1], color='red')\n",
        "plt.show()\n",
        "\n",
        "# Concatenate the data\n",
        "x = np.concatenate((x1, x2), axis=0)\n",
        "\n",
        "# Create labels\n",
        "y = np.zeros((200, 1))\n",
        "y[100:] = 1\n",
        "\n",
        "# Split the data into training and testing sets\n",
        "from sklearn.model_selection import train_test_split\n",
        "x_train, x_test, y_train, y_test = train_test_split(x, y, test_size=0.2, random_state=42)\n",
        "\n",
        "# Import the SVM model\n",
        "from sklearn.svm import SVC\n",
        "\n",
        "# Create the model\n",
        "model = SVC(kernel='linear')\n",
        "\n",
        "# Train the model\n",
        "model.fit(x_train, y_train)\n",
        "\n",
        "# Evaluate the model\n",
        "print(model.score(x_test, y_test))\n",
        "\n",
        "# Plot the data and the decision boundary\n",
        "plt.scatter(x1[:, 0], x1[:, 1], color='blue')\n",
        "plt.scatter(x2[:, 0], x2[:, 1], color='red')\n",
        "\n",
        "# Get the separating hyperplane\n",
        "w = model.coef_[0]\n",
        "a = -w[0] / w[1]\n",
        "xx = np.linspace(-5, 5)\n",
        "yy = a * xx - (model.intercept_[0]) / w[1]\n",
        "\n",
        "# Plot the line\n",
        "plt.plot(xx, yy, 'k-')\n",
        "plt.show()"
      ],
      "execution_count": null,
      "outputs": [
        {
          "output_type": "display_data",
          "data": {
            "image/png": "[encoded data removed]",
            "text/plain": [
              "<Figure size 432x288 with 1 Axes>"
            ]
          },
          "metadata": {
            "needs_background": "light"
          }
        },
        {
          "output_type": "stream",
          "name": "stdout",
          "text": [
            "0.9\n"
          ]
        },
        {
          "output_type": "stream",
          "name": "stderr",
          "text": [
            "/usr/local/lib/python3.7/dist-packages/sklearn/utils/validation.py:760: DataConversionWarning: A column-vector y was passed when a 1d array was expected. Please change the shape of y to (n_samples, ), for example using ravel().\n",
            "  y = column_or_1d(y, warn=True)\n"
          ]
        },
        {
          "output_type": "display_data",
          "data": {
            "image/png": "[encoded data removed]",
            "text/plain": [
              "<Figure size 432x288 with 1 Axes>"
            ]
          },
          "metadata": {
            "needs_background": "light"
          }
        }
      ]
    },
    {
      "cell_type": "code",
      "metadata": {
        "id": "hbnW2C7wfanU"
      },
      "source": [],
      "execution_count": null,
      "outputs": []
    },
    {
      "cell_type": "markdown",
      "source": [
        "# **KvIS**"
      ],
      "metadata": {
        "id": "WeXK-s1Dgx9Y"
      }
    },
    {
      "cell_type": "code",
      "source": [],
      "metadata": {
        "id": "riNG9YKpgzWH"
      },
      "execution_count": null,
      "outputs": []
    }
  ]
}