{
  "cells": [
    {
      "cell_type": "markdown",
      "metadata": {
        "id": "uOHZeYnyBsZK"
      },
      "source": [
        "# **Introduction to Machine learning for astronomers in Python**\n",
        "\n",
        "\n",
        "<img src=\"https://www.physics.muni.cz/~plsek/img.jpeg\" width=120 align=\"right\" style=\"padding:5px\">\n",
        "\n",
        "<img src=\"https://cdn.muni.cz/media/3289673/matejkosiba.jpg?mode=crop&center=0.53,0.57&rnd=132563180850000000&width=179\" width=120 align=\"right\" style=\"padding:5px\">\n",
        "\n",
        "<img src=\"https://cdn.muni.cz/media/3291288/toastm.jpg?mode=crop&center=0.5,0.5&rnd=132569108280000000&width=179\" width=161 align=\"right\" style=\"padding:5px\">\n",
        "\n",
        "- taught online, in English?\n",
        "- 50% lectures, 50% practical exercise\n",
        "- taught by Martin Topinka, Matej Kosiba, and Tomáš Plšek\n",
        "- 6 lectures & 7 hands-on sessions\n",
        "- zápočet (final project)\n",
        "\n",
        "\n",
        "### **Contents**\n",
        "\n",
        "- Introduction to Machine Learning, the idea of supervised, non-supervised learning, semi-supervised learning, Classification vs Regression\n",
        "- General concept of Machine Learning, loss function\n",
        "- Popular algorithms such as Support Vector Machine, Bayesian Regression, K-Nearest neighbours\n",
        "- Data (feature) reduction such as Principal Component Analysis\n",
        "- Practical use of scikit-learn Python library\n",
        "- Model validation techniques. Fine-tuning model parameters.\n",
        "- Principles of Deep Learning\n",
        "- Practical use of Keras Deep Learning Python library\n",
        "- Student's own project\n",
        "\n",
        "### **Timetable**\n",
        ">20.9. - **Tomáš Plšek:** Hands-on: *Intro to Colab, Jupyter & Python* \\\n",
        "27.9. - **Martin Topinka:** Lecture: *Basic principles* \\\n",
        "4.10. - **Tomáš Plšek:** Hands-on: *Star or Quasar?* \\\n",
        "11.10. - **Martin Topinka:** Lecture: *Advanced non-NN algorithms* \\\n",
        "18.10. - **Tomáš Plšek:** Hands-on: *Scikit learn - From Data to Prediction* \\\n",
        "25.10. - **Matej Kosiba:** Lecture: *Intro to neural networks* \\\n",
        "1.11. - **Matej Kosiba:** Hands-on: *Intro to neural networks* \\\n",
        "8.11. - **Matej Kosiba:** Lecture: *Intro to convolutional neural networks* \\\n",
        "15.11. - **Matej Kosiba:** Hands-on: *Intro to convolutional neural networks* \\\n",
        "22.11. - **Martin Topinka:** Lecture: *Upconv & regularization* \\\n",
        "29.11. - **Martin Topinka:** Lecture: guest lecture? \\\n",
        "6.12. - **Tomáš Plšek:** Hands-on: *Tensorboard* \\\n",
        "13.12. - **Tomáš Plšek:** Hands-on: *Last session*"
      ]
    },
    {
      "cell_type": "markdown",
      "metadata": {
        "id": "bonPrlisXOGY"
      },
      "source": [
        "## **Introduce yourselves :)**\n",
        "\n",
        "> **Tomáš Plšek**\\\n",
        "> email: <a href=\"mailto:plsek@physics.muni.cz\">plsek@physics.muni.cz</a> \\\n",
        "> github: [tomasplsek](https://github.com/tomasplsek) \\\n",
        "> web: [physics.muni.cz/~plsek](https://www.physics.muni.cz/~plsek/) \\\n",
        "> office: [building 8 (Mathematics), 4th floor, last door to the left](https://is.muni.cz/auth/kontakty/mistnost?id=10454)"
      ]
    },
    {
      "cell_type": "markdown",
      "metadata": {
        "id": "wRhLdSG9XF83"
      },
      "source": [
        "# 1. hands-on session: **Intro to Colab, Jupyter & Python**"
      ]
    },
    {
      "cell_type": "markdown",
      "metadata": {
        "id": "Mog5i70hzAXg"
      },
      "source": [
        "## **Content**\n",
        "\n",
        "1.   What is machine learning?\n",
        "2.   Examples\n",
        "3.   Hardware / software / data\n",
        "4.   Google colab / Conda + Jupyter\n",
        "5.   Basics of Python\n",
        "6.   \"Hello world\" of ML"
      ]
    },
    {
      "cell_type": "markdown",
      "metadata": {
        "id": "pJ6uaY6Czzm4"
      },
      "source": [
        "## **What is Machine learning?**\n",
        "\n",
        "<p style=\"padding-top:10px\">\n",
        "\n",
        "Machine Learning is a set of algorithms with tunable parameters that can learn and adjust the values of these parameters from previously seen data and generalise for prediction of new yet unseen data.\n",
        "        \n",
        "\"Machine learning is a field of study that gives computers the ability to learn without being explicitly programmed.\"\n",
        "\n",
        "- Arthur Samuel, 1959\n",
        "\n",
        "<br>\n",
        "\n",
        "<img src=\"https://datafloq.com/wp-content/uploads/2021/12/machine-learning-1.png\" align=left width=550 style=\"padding-left:300px\">\n",
        "\n",
        "<br><br><br><br><br><br><br><br><br><br>\n",
        "    \n",
        "\"A computer is said to learn from experience E with respect to some task T and some performance measure P, if its performance on T, as measured by P, improves with experience E.\"\n",
        "\n",
        "- Tom Mitchell, 1997\n",
        "</p>\n",
        "\n",
        "<br>\n",
        "\n",
        "<img src=\"https://miro.medium.com/max/1000/1*z9q7feVcb_Gy4EpUWq-yzQ.png\" align=left width=450 style=\"padding-bottom:80px\">\n",
        "\n",
        "<br><br><br><br><br><br><br><br><br><br><br><br><br><br><br><br><br><br><br>\n",
        "\n",
        "<img src=\"https://lawtomated.com/wp-content/uploads/2019/04/MLvsDL.png\" align=left width=700 style=\"padding-right:80px\">\n",
        "\n",
        "<br><br><br><br><br><br><br><br><br><br><br><br><br><br><br>"
      ]
    },
    {
      "cell_type": "markdown",
      "metadata": {
        "id": "BV0u4w8zjaci"
      },
      "source": [
        "### **Branches of Machine Learning**\n",
        "\n",
        "<br>\n",
        "\n",
        "<img src=\"https://scikit-learn.org/stable/_static/ml_map.png\" align=left width=1000 style=\"padding-bottom:50px\">\n",
        "\n",
        "<br><br><br><br><br><br><br><br><br><br><br><br><br><br><br><br><br><br><br><br><br><br><br><br><br>"
      ]
    },
    {
      "cell_type": "markdown",
      "metadata": {
        "id": "jF7ZmP8Yjacj"
      },
      "source": [
        "## **Use cases**\n",
        "\n",
        "- Spam filter, Medical diagnostics (1990s)\n",
        "\n",
        "<img src=\"https://drive.google.com/uc?export=view&id=1K2hiUGzx_UQjolo0lteImtXz4cvQkA7S\" width=\"350px\" align=\"right\" style=\"padding-right:180px;padding-top:20px\">\n",
        "\n",
        "- Translation ([Google Překladač](https://translate.google.cz/?sl=cs&tl=en&op=translate), [DeepL](https://www.deepl.com/translator))\n",
        "\n",
        "- Image classification ([Google images](https://photos.google.com/), [Google Lens](https://lens.google/intl/cs/))\n",
        "\n",
        "- Image segmentation ([Segment Anything](https://segment-anything.com/demo))\n",
        "\n",
        "- Speech recognition (Apple, Google, Microsoft, [Whisper](https://huggingface.co/spaces/openai/whisper), [BirdNET](https://play.google.com/store/apps/details?id=de.tu_chemnitz.mi.kahst.birdnet&hl=cs&gl=US))\n",
        "\n",
        "- Image generation ([DALL-E](https://labs.openai.com/), [Stable Diffusion](https://stablediffusionweb.com/#demo), [Midjourney](https://www.midjourney.com/showcase/top/))\n",
        "\n",
        "    \"chinchilla eating a banana, impresionistic paintning\"\n",
        "\n",
        "<!-- <br><br><br><br><br><br><br><br><br><br><br><br><br><br><br><br><br> -->\n",
        "\n",
        "- DeepFake videos ([There is no Linux, there is only balenciaga](https://www.youtube.com/watch?v=zpVD24fBI7g))\n",
        "\n",
        "- Self-driving cars (Tesla, [Selfdriving taxi](https://www.youtube.com/shorts/zODlfR4HVzQ))\n",
        "\n",
        "- Large Language Models ([ChatGPT](https://chat.openai.com/), OpenAI API, [Claude](claude.ai/))\n",
        "\n",
        "- Search Engine ([Perplexity](https://www.perplexity.ai/), [Bing](https://www.bing.com/search?q=Bing+AI&showconv=1&FORM=hpcodx))\n",
        "\n",
        "- Coding assistants ([Github Copilot](https://github.com/features/copilot))\n",
        "\n",
        "\n",
        "[How to Chat with GPT](https://github.com/High-Energy-Astrophysics/How-to-chat-with-GPT) (ÚTFA seminar 21.4.2023, [recording](https://www.youtube.com/watch?v=2NSZrhCenPk) - starts at 11:30)\n",
        "\n",
        "<br>"
      ]
    },
    {
      "cell_type": "markdown",
      "metadata": {
        "id": "ZjYJO4GLjacj"
      },
      "source": [
        "## **Use cases in Astrophysics / Physics**\n",
        "\n",
        "<img src=\"https://galaxyzooblog.files.wordpress.com/2018/03/finalfaves.jpg\" width=\"400px\" align=\"right\" style=\"padding-right:30px;padding-top:50px\">\n",
        "\n",
        "\n",
        "<!-- <img src=\"https://drive.google.com/uc?export=view&id=14Yb8UE33BUSf6dEc8TFhJOUVYYG85FvC\" width=\"430px\" align=\"right\" style=\"padding-right:20px;\"> -->\n",
        "\n",
        "<br>\n",
        "\n",
        "- Image Classification ([Galaxy Zoo](https://www.zooniverse.org/projects/zookeeper/galaxy-zoo/), [Kosiba 2020](https://arxiv.org/abs/2006.05998))\n",
        "\n",
        "<br><br>\n",
        "\n",
        "- Image segmentation ([Morpheus](https://www.youtube.com/watch?v=hEL1h_dODkU), [CADET](https://github.com/tomasplsek/CADET))\n",
        "\n",
        "<br><br>\n",
        "\n",
        "- Spectral pre-fitting ([Ichinohe 2018](https://arxiv.org/abs/1801.06015))\n",
        "\n",
        "\n",
        "<br><br>\n",
        "\n",
        "<img src=\"https://raw.githubusercontent.com/tomasplsek/CADET/main/docs/figures/architecture.png\" width=\"550px\" align=\"right\" style=\"padding-top:40px\">\n",
        "\n",
        "<img src=\"https://drive.google.com/uc?export=view&id=1F5Oy9m-3CqjweQxUm6d-M64YckChO3hV\" width=\"530px\" align=\"right\" style=\"padding-right:10px;margin-top:-100px\">\n",
        "\n",
        "\n",
        "- Spectra classification ([Ichinohe 2019](https://academic.oup.com/mnras/article/487/2/2874/5510444), [Baťková 2023](https://is.muni.cz/auth/th/jjzd6/))\n",
        "\n",
        "<br><br>\n",
        "\n",
        "- Lightcurve classification ([Mahabal 2017](https://arxiv.org/abs/1709.06257), [Bassi 2022](https://www.frontiersin.org/articles/10.3389/fspas.2021.718139/full))\n",
        "\n",
        "\n",
        "<br><br>\n",
        "\n",
        "- 2D data denoising ([Vojteková 2020](https://arxiv.org/abs/2011.07002), [Sweere 2022](https://arxiv.org/abs/2205.01152))\n",
        "\n",
        "<br><br>\n",
        "\n",
        "- Complex data (big data, multi-dimensional problems)\n",
        "\n",
        "<br><br>\n",
        "\n",
        "- Fluid dynamics (partial differential equations)\n",
        "\n",
        "<img src=\"https://drive.google.com/uc?export=view&id=1wlHjbHQ3CyBUoh8u_pHP-raFLXLCfe_Q\" width=\"930px\" align=\"right\" style=\"padding-right:10px;\">\n",
        "\n",
        "<br><br><br><br><br><br><br><br>"
      ]
    },
    {
      "cell_type": "markdown",
      "metadata": {
        "id": "hhkejRyKHA2s"
      },
      "source": [
        "## **What is ML useful for?**\n",
        "\n",
        "- natural language (translation, chatbots, speech recognition)\n",
        "- computer vision (object / pattern recognition)\n",
        "- complex image / video operations (deepfake videos)\n",
        "- high dimensional problems\n",
        "- big data problems\n",
        "\n",
        "Cases when you shouldn't use ML:\n",
        "- simple problems / algorithms\n",
        "- problems that need to be solved deterministically\n",
        "- basic mathematics, precise computations"
      ]
    },
    {
      "cell_type": "markdown",
      "metadata": {
        "id": "KxAysN8s6-Tu"
      },
      "source": [
        "## **Why now?**\n",
        "1943 - Artificial neuron\\\n",
        "1957 - **Perceptron** (Frank Rosenblatt)\\\n",
        "1967 -  **Nearest neighbor algorithm**\\\n",
        "...\\\n",
        "1997 - Deep Blue beats Kasparov\\\n",
        "2006 - Training neural network using backpropagation\\\n",
        "2016 - AlphaGo beats Lee Sedol\\\n",
        "2018 - Protein Structure Prediction (AlphaFold 1)\\\n",
        "2022 - Augmented reality, Selfdriving cars\\\n",
        "2023 - Large Lanuguage Models, Personal Assistants\\\n",
        "2050 - AGI?\n",
        "\n",
        "**Because of the hardware, software and data!**"
      ]
    },
    {
      "cell_type": "markdown",
      "metadata": {
        "id": "nubcLWsQBsWK"
      },
      "source": [
        "## **Hardware**\n",
        "\n",
        "<img src=\"https://drive.google.com/uc?export=view&id=19rLShDospF7mDvaWn9aJtVPePeNV0SQx\" width=\"460px\" align=\"right\" style=\"padding-top:10px\">\n",
        "\n",
        "\n",
        "*   **CPU** = *central processing unit*\\\n",
        "    \\- in every computer / mobile phone\\\n",
        "    \\- scalar operations\\\n",
        "    \\- multiple cores / threads (parallelizable)\\\n",
        "    \\-\n",
        "    \\- Intel, AMD\n",
        "\n",
        "*   **GPU** = *graphical processing unit*\\\n",
        "    \\- graphics and games, vector operations\\\n",
        "    \\- thousands of cores running simultaneously\\\n",
        "    \\- integrated on CPU (Intel, AMD)\\\n",
        "    \\- or dedicated (**NVIDIA**, AMD)\n",
        "\n",
        "<img src=\"https://drive.google.com/uc?export=view&id=1m5eUCkodoLlHpW6JsABUOVOVm_nn2Gtr\" width=\"460px\" align=\"right\">\n",
        "\n",
        "*   **TPU** = *tensor processing unit*\\\n",
        "    \\- tensor operations\\\n",
        "    \\- developed by Google for Tensorflow\\\n",
        "    \\- narrow utilization field"
      ]
    },
    {
      "cell_type": "markdown",
      "metadata": {
        "id": "56ZXgZNCBsO4"
      },
      "source": [
        "## **Software**\n",
        "\n",
        "#### Higher level libraries are being developed mostly for Python:\n",
        "\n",
        "<!-- <img src=\"https://scikit-learn.org/stable/_static/scikit-learn-logo-small.png\" height=\"50px\" align=\"right\"> -->\n",
        "\n",
        "*   [scikit-learn](https://scikit-learn.org/stable/)\\\n",
        "    \\- developed in 2013\\\n",
        "    \\- set of general ML tools\n",
        "\n",
        "<!-- <img src=\"https://upload.wikimedia.org/wikipedia/commons/thumb/2/2d/Tensorflow_logo.svg/1200px-Tensorflow_logo.svg.png\" height=\"75px\" align=\"right\"> -->\n",
        "\n",
        "*   [tensorflow](https://www.tensorflow.org/)\\\n",
        "    \\- matrix and tensor computations\\\n",
        "    \\- can use GPU through CUDA ([install](https://www.tensorflow.org/install/gpu), [setup](https://www.tensorflow.org/guide/gpu))\n",
        "\n",
        "<!-- <img src=\"https://keras.io/img/logo.png\" height=\"50px\" align=\"right\"> -->\n",
        "\n",
        "*   [keras](https://keras.io/)\\\n",
        "    \\- on top of tensorflow\\\n",
        "    \\- neural networks (dense & convolutional layers)\n",
        "\n",
        "<!-- <img src=\"https://drive.google.com/uc?export=view&id=1zVaUJ3Zvrw4GE-doH3m99TODfmPok7U7\" width=\"550px\" align=\"right\"> -->\n",
        "\n",
        "*   [pycaret](https://pycaret.gitbook.io/docs/)\\\n",
        "    \\- low code library\n",
        "\n",
        "*   others: [pyTorch](https://pytorch.org/), Theano, [JAX](https://github.com/google/jax)\n",
        "\n",
        "<br>\n",
        "\n",
        "#### Libraries for comunication with GPU:\n",
        "\n",
        "<!-- <img src=\"https://www.nvidia.com/etc/designs/nvidiaGDC/clientlibs_base/images/NVIDIA-Logo.svg\" height=\"50px\" align=\"right\"> -->\n",
        "\n",
        "*   CUDA = NVIDIA libraries ([toolkit](https://developer.nvidia.com/cuda-toolkit-archive), [cuDNN](https://developer.nvidia.com/rdp/cudnn-download))\\\n",
        "    \\- GPU acceleration (Win & Linux)\\\n",
        "    \\- low level programming interface\\\n",
        "    \\- only necessary for dedicated GPUs\n"
      ]
    },
    {
      "cell_type": "markdown",
      "metadata": {
        "id": "qjgMrykWf_RA"
      },
      "source": [
        "## **Data**\n",
        "\n",
        "<img src=\"https://drive.google.com/uc?export=view&id=178QHIX-BBYgByXC54wzdcL7pISKmQI_l\" width=\"520px\" align=\"right\">\n",
        "\n",
        "<br>\n",
        "\n",
        "- internet & digitalization\n",
        "\n",
        "<br>\n",
        "\n",
        "- social media (Facebook, Instagram, ...)\n",
        "\n",
        "<br>\n",
        "\n",
        "- cloud services (Yes, they train on your private images.)\n",
        "\n",
        "<br>\n",
        "\n",
        "- github (Yes, they train on your code.)\n",
        "\n",
        "<br>\n",
        "\n",
        "- public databases (https://www.kaggle.com/)\n",
        "\n",
        "<br>"
      ]
    },
    {
      "cell_type": "markdown",
      "metadata": {
        "id": "ORuaA4ZQOhO3"
      },
      "source": [
        "## **Programing environments**\n",
        "\n",
        "<img src=\"https://colab.research.google.com/img/colab_favicon_256px.png\" height=\"90px\" align=\"right\">\n",
        "\n",
        "<img src=\"https://upload.wikimedia.org/wikipedia/commons/thumb/3/38/Jupyter_logo.svg/800px-Jupyter_logo.svg.png\" height=\"105px\" align=\"right\" style=\"margin-right:100px\">\n",
        "\n",
        "<!-- <div style=\"display:table\"> -->\n",
        "\n",
        "*   Google colab (cloud Jupyter notebook)\n",
        "\n",
        "*   [Conda](https://docs.conda.io/en/latest/) + [Jupyter](https://jupyter.org/) notebook/lab (tutorial in Study materials)\n",
        "\n",
        "*   [VS Code](https://code.visualstudio.com/)"
      ]
    },
    {
      "cell_type": "markdown",
      "metadata": {
        "id": "eLclsAQTVO5H"
      },
      "source": [
        "## **Google Colab**\n",
        "\n",
        "- share notebooks\n",
        "- access notebooks and files from **Google drive** and **GitHub**\n",
        "- GPU / TPU acceleration\n",
        "- preinstalled packages (```numpy```, ```scipy```, ```matplotlib```, ```keras```, ```tensorflow```...)\n",
        "- [bash shell commands](https://files.fosswire.com/2007/08/fwunixref.pdf) ```!```\n",
        "- non-traditional packages are easy to install: ```!pip install corner```\n",
        "- [magical commands](https://ipython.readthedocs.io/en/stable/interactive/magics.html) ```%```\n",
        "- include markdown or HTML blocks\n",
        "- get help"
      ]
    },
    {
      "cell_type": "code",
      "execution_count": null,
      "metadata": {
        "id": "64sHepzTjacl"
      },
      "outputs": [],
      "source": [
        "from IPython.display import YouTubeVideo\n",
        "YouTubeVideo('cQ54GDm1eL0')"
      ]
    },
    {
      "cell_type": "code",
      "execution_count": null,
      "metadata": {
        "colab": {
          "base_uri": "https://localhost:8080/"
        },
        "id": "7-4pg3boVDZa",
        "outputId": "e449a234-f539-4152-dacc-ddc953e8b800"
      },
      "outputs": [
        {
          "name": "stdout",
          "output_type": "stream",
          "text": [
            "Mounted at /content/drive\n"
          ]
        }
      ],
      "source": [
        "from google.colab import drive\n",
        "drive.mount('/content/drive', force_remount=True)"
      ]
    },
    {
      "cell_type": "code",
      "execution_count": null,
      "metadata": {
        "colab": {
          "base_uri": "https://localhost:8080/"
        },
        "id": "Ch8c25Amzwnv",
        "outputId": "1b0c2f6e-51ab-4cfb-ef9f-3675f79a8256"
      },
      "outputs": [
        {
          "name": "stdout",
          "output_type": "stream",
          "text": [
            "Num GPUs Available:  1\n"
          ]
        }
      ],
      "source": [
        "import tensorflow as tf\n",
        "print(\"Num GPUs Available: \", len(tf.config.list_physical_devices('GPU')))"
      ]
    },
    {
      "cell_type": "code",
      "execution_count": null,
      "metadata": {
        "id": "EHWQwYG91RUS"
      },
      "outputs": [],
      "source": [
        "import tensorflow\n",
        "import keras\n",
        "import sklearn"
      ]
    },
    {
      "cell_type": "code",
      "execution_count": null,
      "metadata": {
        "colab": {
          "base_uri": "https://localhost:8080/",
          "height": 35
        },
        "id": "-upuj3MsEljl",
        "outputId": "151cf7f3-219d-4754-8b07-3f5639ffda78"
      },
      "outputs": [
        {
          "data": {
            "application/vnd.google.colaboratory.intrinsic+json": {
              "type": "string"
            },
            "text/plain": [
              "'2.8.2'"
            ]
          },
          "execution_count": 3,
          "metadata": {},
          "output_type": "execute_result"
        }
      ],
      "source": [
        "tensorflow.__version__"
      ]
    },
    {
      "cell_type": "code",
      "execution_count": null,
      "metadata": {
        "colab": {
          "base_uri": "https://localhost:8080/"
        },
        "id": "AuSU4S-3VBTD",
        "outputId": "bc7583ff-766c-41b6-956f-6494588d5169"
      },
      "outputs": [
        {
          "name": "stdout",
          "output_type": "stream",
          "text": [
            "drive  sample_data\n"
          ]
        }
      ],
      "source": [
        "!ls"
      ]
    },
    {
      "cell_type": "code",
      "execution_count": null,
      "metadata": {
        "id": "mD257_HmBbT-"
      },
      "outputs": [],
      "source": [
        "!echo \"nothing\" > file.txt"
      ]
    },
    {
      "cell_type": "code",
      "execution_count": null,
      "metadata": {
        "colab": {
          "base_uri": "https://localhost:8080/"
        },
        "id": "fGsYe8UxFGgT",
        "outputId": "9345c301-a807-4e02-9dc9-7c21d0ac5d74"
      },
      "outputs": [
        {
          "name": "stdout",
          "output_type": "stream",
          "text": [
            "nothing\n"
          ]
        }
      ],
      "source": [
        "!cat file.txt"
      ]
    },
    {
      "cell_type": "code",
      "execution_count": null,
      "metadata": {
        "colab": {
          "base_uri": "https://localhost:8080/"
        },
        "id": "3vGSQAVJa1k3",
        "outputId": "1762b622-0c2f-4213-8741-97de5789358a"
      },
      "outputs": [
        {
          "name": "stdout",
          "output_type": "stream",
          "text": [
            "Looking in indexes: https://pypi.org/simple, https://us-python.pkg.dev/colab-wheels/public/simple/\n",
            "Collecting corner\n",
            "  Downloading corner-2.2.1-py3-none-any.whl (15 kB)\n",
            "Requirement already satisfied: matplotlib>=2.1 in /usr/local/lib/python3.7/dist-packages (from corner) (3.2.2)\n",
            "Requirement already satisfied: numpy>=1.11 in /usr/local/lib/python3.7/dist-packages (from matplotlib>=2.1->corner) (1.21.6)\n",
            "Requirement already satisfied: python-dateutil>=2.1 in /usr/local/lib/python3.7/dist-packages (from matplotlib>=2.1->corner) (2.8.2)\n",
            "Requirement already satisfied: cycler>=0.10 in /usr/local/lib/python3.7/dist-packages (from matplotlib>=2.1->corner) (0.11.0)\n",
            "Requirement already satisfied: kiwisolver>=1.0.1 in /usr/local/lib/python3.7/dist-packages (from matplotlib>=2.1->corner) (1.4.4)\n",
            "Requirement already satisfied: pyparsing!=2.0.4,!=2.1.2,!=2.1.6,>=2.0.1 in /usr/local/lib/python3.7/dist-packages (from matplotlib>=2.1->corner) (3.0.9)\n",
            "Requirement already satisfied: typing-extensions in /usr/local/lib/python3.7/dist-packages (from kiwisolver>=1.0.1->matplotlib>=2.1->corner) (4.1.1)\n",
            "Requirement already satisfied: six>=1.5 in /usr/local/lib/python3.7/dist-packages (from python-dateutil>=2.1->matplotlib>=2.1->corner) (1.15.0)\n",
            "Installing collected packages: corner\n",
            "Successfully installed corner-2.2.1\n"
          ]
        }
      ],
      "source": [
        "!pip install corner"
      ]
    },
    {
      "cell_type": "code",
      "execution_count": null,
      "metadata": {
        "colab": {
          "base_uri": "https://localhost:8080/"
        },
        "id": "5NCXZeOAElv5",
        "outputId": "904adc90-770f-4997-c9d2-5e92490f878c"
      },
      "outputs": [
        {
          "name": "stdout",
          "output_type": "stream",
          "text": [
            "Cloning into 'corner.py'...\n",
            "remote: Enumerating objects: 1314, done.\u001b[K\n",
            "remote: Counting objects: 100% (429/429), done.\u001b[K\n",
            "remote: Compressing objects: 100% (256/256), done.\u001b[K\n",
            "remote: Total 1314 (delta 203), reused 352 (delta 148), pack-reused 885\u001b[K\n",
            "Receiving objects: 100% (1314/1314), 14.73 MiB | 7.96 MiB/s, done.\n",
            "Resolving deltas: 100% (632/632), done.\n",
            "Looking in indexes: https://pypi.org/simple, https://us-python.pkg.dev/colab-wheels/public/simple/\n",
            "Processing /content/corner.py\n",
            "\u001b[33m  DEPRECATION: A future pip version will change local packages to be built in-place without first copying to a temporary directory. We recommend you use --use-feature=in-tree-build to test your packages with this new behavior before it becomes the default.\n",
            "   pip 21.3 will remove support for this functionality. You can find discussion regarding this at https://github.com/pypa/pip/issues/7555.\u001b[0m\n",
            "  Installing build dependencies ... \u001b[?25l\u001b[?25hdone\n",
            "  Getting requirements to build wheel ... \u001b[?25l\u001b[?25hdone\n",
            "    Preparing wheel metadata ... \u001b[?25l\u001b[?25hdone\n",
            "Building wheels for collected packages: corner\n",
            "  Building wheel for corner (PEP 517) ... \u001b[?25l\u001b[?25hdone\n",
            "  Created wheel for corner: filename=corner-2.2.2.dev37+ga0b8ecf-py3-none-any.whl size=14487 sha256=6e5635aa0835c5c01282628f05c8b5994ad0ae0dfb17daaa48a4e4d14369589a\n",
            "  Stored in directory: /tmp/pip-ephem-wheel-cache-_t0txpe8/wheels/36/82/c5/449fba3ea769f91715347bcea75053a107e2f2330ec6188e02\n",
            "Successfully built corner\n",
            "Installing collected packages: corner\n",
            "  Attempting uninstall: corner\n",
            "    Found existing installation: corner 2.2.1\n",
            "    Uninstalling corner-2.2.1:\n",
            "      Successfully uninstalled corner-2.2.1\n",
            "Successfully installed corner-2.2.2.dev37+ga0b8ecf\n"
          ]
        }
      ],
      "source": [
        "!git clone https://github.com/dfm/corner.py.git\n",
        "!cd corner.py ; python -m pip install ."
      ]
    },
    {
      "cell_type": "code",
      "execution_count": null,
      "metadata": {
        "id": "nMjiPzyiDhgL"
      },
      "outputs": [],
      "source": [
        "import corner"
      ]
    },
    {
      "cell_type": "code",
      "execution_count": null,
      "metadata": {
        "id": "_7DCE1HH3FA1"
      },
      "outputs": [],
      "source": [
        "%matplotlib inline"
      ]
    },
    {
      "cell_type": "code",
      "execution_count": null,
      "metadata": {
        "colab": {
          "base_uri": "https://localhost:8080/"
        },
        "id": "XYiDm2zCGaOo",
        "outputId": "b883541b-5bfd-4719-9eea-0583e49aec7e"
      },
      "outputs": [
        {
          "name": "stdout",
          "output_type": "stream",
          "text": [
            "Hello world\n",
            "CPU times: user 108 µs, sys: 0 ns, total: 108 µs\n",
            "Wall time: 75.3 µs\n"
          ]
        }
      ],
      "source": [
        "%time print(\"Hello world\")"
      ]
    },
    {
      "cell_type": "code",
      "execution_count": null,
      "metadata": {
        "colab": {
          "base_uri": "https://localhost:8080/"
        },
        "id": "0bYb4aKd_oRD",
        "outputId": "eca9605e-7cf2-44fa-ed65-34194c886e7b"
      },
      "outputs": [
        {
          "name": "stdout",
          "output_type": "stream",
          "text": [
            "CPU times: user 4.39 ms, sys: 40 µs, total: 4.43 ms\n",
            "Wall time: 1 s\n"
          ]
        }
      ],
      "source": [
        "import time\n",
        "\n",
        "%time time.sleep(1)"
      ]
    },
    {
      "cell_type": "code",
      "execution_count": null,
      "metadata": {
        "colab": {
          "base_uri": "https://localhost:8080/"
        },
        "id": "7f7s7fIa1PTp",
        "outputId": "e3eb3af9-faec-4afe-8e0b-0403cfee6ca2"
      },
      "outputs": [
        {
          "name": "stdout",
          "output_type": "stream",
          "text": [
            "CPU times: user 3.41 ms, sys: 216 µs, total: 3.63 ms\n",
            "Wall time: 1 s\n"
          ]
        }
      ],
      "source": [
        "time.sleep(1)\n",
        "\n",
        "%time time.sleep(1)"
      ]
    },
    {
      "cell_type": "code",
      "execution_count": null,
      "metadata": {
        "colab": {
          "base_uri": "https://localhost:8080/"
        },
        "id": "l3XPg6DDdfx4",
        "outputId": "fe745c41-e35e-4212-ddbc-b3b47ce3d757"
      },
      "outputs": [
        {
          "name": "stdout",
          "output_type": "stream",
          "text": [
            "CPU times: user 7.66 ms, sys: 0 ns, total: 7.66 ms\n",
            "Wall time: 2 s\n"
          ]
        }
      ],
      "source": [
        "def fun():\n",
        "    time.sleep(1)\n",
        "    time.sleep(1)\n",
        "\n",
        "%time fun()"
      ]
    },
    {
      "cell_type": "code",
      "execution_count": null,
      "metadata": {
        "colab": {
          "base_uri": "https://localhost:8080/"
        },
        "id": "ki0THCp7G2Fb",
        "outputId": "146be9e0-5571-42c9-e523-54973310e1c4"
      },
      "outputs": [
        {
          "name": "stdout",
          "output_type": "stream",
          "text": [
            "1 s ± 4.27 µs per loop (mean ± std. dev. of 7 runs, 1 loop each)\n"
          ]
        }
      ],
      "source": [
        "%timeit time.sleep(1)"
      ]
    },
    {
      "cell_type": "code",
      "execution_count": null,
      "metadata": {
        "colab": {
          "base_uri": "https://localhost:8080/"
        },
        "id": "n4B78gbM_q-S",
        "outputId": "1c4680c2-7b33-4588-ae12-2d8874c2501c"
      },
      "outputs": [
        {
          "name": "stdout",
          "output_type": "stream",
          "text": [
            "1 s ± 60.5 µs per loop (mean ± std. dev. of 10 runs, 1 loop each)\n"
          ]
        }
      ],
      "source": [
        "%timeit -r 10 time.sleep(1)"
      ]
    },
    {
      "cell_type": "markdown",
      "metadata": {
        "id": "arYFWel9AeWm"
      },
      "source": [
        "### Heading\n",
        "#### Heading 2\n",
        "\n",
        "**bold**\n",
        "\n",
        "*italic*\n",
        "\n",
        "`code`\n",
        "\n",
        "```\n",
        "from numpy import sin\n",
        "from numpy import cos\n",
        "```\n",
        "\n",
        "```python\n",
        "from numpy import sin\n",
        "from numpy import cos\n",
        "```\n",
        "\n",
        "[link](https://scikit-learn.org/)\n",
        "\n",
        "![](https://scikit-learn.org/stable/_static/scikit-learn-logo-small.png)\n",
        "\n",
        "\n",
        "> block\\\n",
        "> text v bloku\n",
        "\n",
        "\n",
        "1.   ordered list\n",
        "2.   ...\n",
        "\n",
        "\n",
        "*   unordered list\n",
        "*   ...\n",
        "\n",
        "---"
      ]
    },
    {
      "cell_type": "markdown",
      "metadata": {
        "id": "QKTnkxLbV1pv"
      },
      "source": [
        "```html\n",
        "<img src=\"https://scikit-learn.org/stable/_static/scikit-learn-logo-small.png\" height=\"150px\" align=\"right\">\n",
        "```\n",
        "\n",
        "<img src=\"https://scikit-learn.org/stable/_static/scikit-learn-logo-small.png\" height=\"100px\" align=\"right\">"
      ]
    },
    {
      "cell_type": "code",
      "execution_count": null,
      "metadata": {
        "id": "o7g1WVCUfJYx"
      },
      "outputs": [],
      "source": [
        "import matplotlib.pyplot as plt\n",
        "plt.plot?"
      ]
    },
    {
      "cell_type": "markdown",
      "metadata": {
        "id": "5xLIHRDdc29-"
      },
      "source": [
        "## **Basics of Python**\n",
        "\n",
        "- object oriented programming language\n",
        "- Python2, Python3\n",
        "- high level language - implemented in C (\"Python is just a C wrapper.\")\n",
        "- interpreted (slower)\n",
        "- open source & free to use\n",
        "- NOT ONLY scripting language\n",
        "- plenty of modules (`scipy`, `astropy`, `keras`, `Qt`...)\n",
        "- computations, programs, graphical interface, web backend..."
      ]
    },
    {
      "cell_type": "code",
      "execution_count": null,
      "metadata": {
        "colab": {
          "base_uri": "https://localhost:8080/"
        },
        "id": "Sc7DJB68hZ83",
        "outputId": "c773ded4-6b47-4f71-f1e1-22fd582226c2"
      },
      "outputs": [
        {
          "name": "stdout",
          "output_type": "stream",
          "text": [
            "3.7.14 (default, Sep  8 2022, 00:06:44) \n",
            "[GCC 7.5.0]\n"
          ]
        }
      ],
      "source": [
        "import sys\n",
        "print(sys.version)"
      ]
    },
    {
      "cell_type": "markdown",
      "metadata": {
        "id": "BUJGSuJlp8xN"
      },
      "source": [
        "### **Classes**"
      ]
    },
    {
      "cell_type": "code",
      "execution_count": null,
      "metadata": {
        "id": "cIdGP4eRv3Es"
      },
      "outputs": [],
      "source": [
        "a = 1\n",
        "b = 4.2\n",
        "c = \"word\"\n",
        "d = [1, 2, 3]\n",
        "e = (1, 2, 3)\n",
        "f = {\"Tomas\" : 1, \"Toast\" : 2, \"Matěj\" : 3}\n",
        "\n",
        "def function(parameter):\n",
        "    return parameter"
      ]
    },
    {
      "cell_type": "code",
      "execution_count": null,
      "metadata": {
        "colab": {
          "base_uri": "https://localhost:8080/"
        },
        "id": "7s6poqhtLlzz",
        "outputId": "4635744a-5fb3-41a1-f748-7dc6b43b80b0"
      },
      "outputs": [
        {
          "name": "stdout",
          "output_type": "stream",
          "text": [
            "<class 'int'>\n",
            "<class 'float'>\n",
            "<class 'str'>\n",
            "<class 'list'>\n",
            "<class 'tuple'>\n",
            "<class 'dict'>\n",
            "<class 'function'>\n"
          ]
        }
      ],
      "source": [
        "for i in [a, b, c, d, e, f, function]:\n",
        "    print(type(i))"
      ]
    },
    {
      "cell_type": "code",
      "execution_count": null,
      "metadata": {
        "id": "TxuKfH-9jacq",
        "outputId": "ca4d1948-b063-4f72-c463-e1826213f6a1"
      },
      "outputs": [
        {
          "name": "stdout",
          "output_type": "stream",
          "text": [
            "<class 'numpy.ndarray'>\n",
            "<class 'pandas.core.frame.DataFrame'>\n"
          ]
        }
      ],
      "source": [
        "import numpy as np\n",
        "g = np.array([1,2,3])\n",
        "\n",
        "import pandas as pd\n",
        "df = pd.DataFrame()\n",
        "\n",
        "print(type(g))\n",
        "print(type(df))"
      ]
    },
    {
      "cell_type": "code",
      "execution_count": null,
      "metadata": {
        "colab": {
          "base_uri": "https://localhost:8080/"
        },
        "id": "2fJcFoLuiFyQ",
        "outputId": "3c5d7828-48ab-4961-f130-bbaa1a31f112"
      },
      "outputs": [
        {
          "name": "stdout",
          "output_type": "stream",
          "text": [
            "3\n"
          ]
        }
      ],
      "source": [
        "a = 1\n",
        "b = 2\n",
        "print(a + b)"
      ]
    },
    {
      "cell_type": "code",
      "execution_count": null,
      "metadata": {
        "colab": {
          "base_uri": "https://localhost:8080/"
        },
        "id": "G5p0NWLliF68",
        "outputId": "f3200b5d-d228-4d6f-c1fb-bfe047a09496"
      },
      "outputs": [
        {
          "data": {
            "text/plain": [
              "3"
            ]
          },
          "execution_count": 24,
          "metadata": {},
          "output_type": "execute_result"
        }
      ],
      "source": [
        "a + b"
      ]
    },
    {
      "cell_type": "code",
      "execution_count": null,
      "metadata": {
        "colab": {
          "base_uri": "https://localhost:8080/"
        },
        "id": "4JYjQU6r9Z_x",
        "outputId": "d484f701-4f49-452d-ee33-d551d9d2592b"
      },
      "outputs": [
        {
          "data": {
            "text/plain": [
              "2"
            ]
          },
          "execution_count": 25,
          "metadata": {},
          "output_type": "execute_result"
        }
      ],
      "source": [
        "a = b\n",
        "a"
      ]
    },
    {
      "cell_type": "code",
      "execution_count": null,
      "metadata": {
        "id": "YHXU0ugrLrlx"
      },
      "outputs": [],
      "source": [
        "a = [1,2,3,4]"
      ]
    },
    {
      "cell_type": "code",
      "execution_count": null,
      "metadata": {
        "colab": {
          "base_uri": "https://localhost:8080/"
        },
        "id": "8KnrRbsoLtc8",
        "outputId": "4206c65d-ad07-4e95-b4b8-39bb5b7e1078"
      },
      "outputs": [
        {
          "data": {
            "text/plain": [
              "1"
            ]
          },
          "execution_count": 27,
          "metadata": {},
          "output_type": "execute_result"
        }
      ],
      "source": [
        "a[0]"
      ]
    },
    {
      "cell_type": "code",
      "execution_count": null,
      "metadata": {
        "colab": {
          "base_uri": "https://localhost:8080/"
        },
        "id": "HaxvnjUYLuv5",
        "outputId": "ba14d762-46b6-4cd2-b260-18c4208c311e"
      },
      "outputs": [
        {
          "data": {
            "text/plain": [
              "[1, 3]"
            ]
          },
          "execution_count": 28,
          "metadata": {},
          "output_type": "execute_result"
        }
      ],
      "source": [
        "a[::2]"
      ]
    },
    {
      "cell_type": "code",
      "execution_count": null,
      "metadata": {
        "id": "Dy3WVK9vLxnZ"
      },
      "outputs": [],
      "source": [
        "a[0] = 0"
      ]
    },
    {
      "cell_type": "code",
      "execution_count": null,
      "metadata": {
        "colab": {
          "base_uri": "https://localhost:8080/"
        },
        "id": "aRalFiaELzND",
        "outputId": "b20a9ea5-9a56-4948-d864-f97b2453bcaf"
      },
      "outputs": [
        {
          "data": {
            "text/plain": [
              "[0, 2, 3, 4]"
            ]
          },
          "execution_count": 30,
          "metadata": {},
          "output_type": "execute_result"
        }
      ],
      "source": [
        "a"
      ]
    },
    {
      "cell_type": "code",
      "execution_count": null,
      "metadata": {
        "id": "iPYuqnQvsDjx"
      },
      "outputs": [],
      "source": [
        "from math import sin, pi, exp"
      ]
    },
    {
      "cell_type": "code",
      "execution_count": null,
      "metadata": {
        "colab": {
          "base_uri": "https://localhost:8080/"
        },
        "id": "Te8eU90OsGaC",
        "outputId": "5eb97912-efc8-4541-c0bb-f274704f7623"
      },
      "outputs": [
        {
          "data": {
            "text/plain": [
              "1.0"
            ]
          },
          "execution_count": 32,
          "metadata": {},
          "output_type": "execute_result"
        }
      ],
      "source": [
        "sin(pi/2)"
      ]
    },
    {
      "cell_type": "code",
      "execution_count": null,
      "metadata": {
        "colab": {
          "base_uri": "https://localhost:8080/"
        },
        "id": "70FUi4wssHzn",
        "outputId": "e6428706-6dd5-49ca-9fe0-154d2d61d37d"
      },
      "outputs": [
        {
          "data": {
            "text/plain": [
              "1.0"
            ]
          },
          "execution_count": 33,
          "metadata": {},
          "output_type": "execute_result"
        }
      ],
      "source": [
        "exp(0)"
      ]
    },
    {
      "cell_type": "markdown",
      "metadata": {
        "id": "-o4lVIBBRjjk"
      },
      "source": [
        "### **Atributes**"
      ]
    },
    {
      "cell_type": "code",
      "execution_count": null,
      "metadata": {
        "id": "MESPo7sWRm9h"
      },
      "outputs": [],
      "source": [
        "a = np.array([1.1,2,3])"
      ]
    },
    {
      "cell_type": "code",
      "execution_count": null,
      "metadata": {
        "colab": {
          "base_uri": "https://localhost:8080/"
        },
        "id": "ML0ukmWVIh1X",
        "outputId": "eba43fc6-eec0-4152-d3e7-6ae7b2e6321f"
      },
      "outputs": [
        {
          "data": {
            "text/plain": [
              "(3,)"
            ]
          },
          "execution_count": 35,
          "metadata": {},
          "output_type": "execute_result"
        }
      ],
      "source": [
        "a.shape"
      ]
    },
    {
      "cell_type": "code",
      "execution_count": null,
      "metadata": {
        "colab": {
          "base_uri": "https://localhost:8080/"
        },
        "id": "s-eY3vnRRm_4",
        "outputId": "31387f1b-3259-4567-cffe-23f0c39cd516"
      },
      "outputs": [
        {
          "data": {
            "text/plain": [
              "3"
            ]
          },
          "execution_count": 36,
          "metadata": {},
          "output_type": "execute_result"
        }
      ],
      "source": [
        "a.size"
      ]
    },
    {
      "cell_type": "code",
      "execution_count": null,
      "metadata": {
        "colab": {
          "base_uri": "https://localhost:8080/"
        },
        "id": "9m9Rpmi3RnFC",
        "outputId": "cdc0316e-bb48-4a42-e8cf-2987d7a27200"
      },
      "outputs": [
        {
          "data": {
            "text/plain": [
              "dtype('float64')"
            ]
          },
          "execution_count": 39,
          "metadata": {},
          "output_type": "execute_result"
        }
      ],
      "source": [
        "a.dtype"
      ]
    },
    {
      "cell_type": "code",
      "execution_count": null,
      "metadata": {
        "colab": {
          "base_uri": "https://localhost:8080/",
          "height": 185
        },
        "id": "0QzGAR4ROAoj",
        "outputId": "7da1a892-c40e-4319-94a4-5316de008fc6"
      },
      "outputs": [
        {
          "ename": "AttributeError",
          "evalue": "ignored",
          "output_type": "error",
          "traceback": [
            "\u001b[0;31m---------------------------------------------------------------------------\u001b[0m",
            "\u001b[0;31mAttributeError\u001b[0m                            Traceback (most recent call last)",
            "\u001b[0;32m<ipython-input-40-4f0a115bd770>\u001b[0m in \u001b[0;36m<module>\u001b[0;34m\u001b[0m\n\u001b[1;32m      1\u001b[0m \u001b[0ma\u001b[0m \u001b[0;34m=\u001b[0m \u001b[0;34m[\u001b[0m\u001b[0;36m1\u001b[0m\u001b[0;34m,\u001b[0m\u001b[0;36m2\u001b[0m\u001b[0;34m,\u001b[0m\u001b[0;36m3\u001b[0m\u001b[0;34m]\u001b[0m\u001b[0;34m\u001b[0m\u001b[0;34m\u001b[0m\u001b[0m\n\u001b[0;32m----> 2\u001b[0;31m \u001b[0ma\u001b[0m\u001b[0;34m.\u001b[0m\u001b[0msize\u001b[0m\u001b[0;34m\u001b[0m\u001b[0;34m\u001b[0m\u001b[0m\n\u001b[0m",
            "\u001b[0;31mAttributeError\u001b[0m: 'list' object has no attribute 'size'"
          ]
        }
      ],
      "source": [
        "a = [1,2,3]\n",
        "a.size"
      ]
    },
    {
      "cell_type": "code",
      "execution_count": null,
      "metadata": {
        "colab": {
          "base_uri": "https://localhost:8080/"
        },
        "id": "phOcExlZMAiO",
        "outputId": "7dc64298-913b-4e93-bd29-e18a3aea57a5"
      },
      "outputs": [
        {
          "data": {
            "text/plain": [
              "3"
            ]
          },
          "execution_count": 41,
          "metadata": {},
          "output_type": "execute_result"
        }
      ],
      "source": [
        "a.__len__()"
      ]
    },
    {
      "cell_type": "code",
      "execution_count": null,
      "metadata": {
        "colab": {
          "base_uri": "https://localhost:8080/"
        },
        "id": "6FXvszwPOCnT",
        "outputId": "c29c15ca-776a-4568-c84d-d1b88284d9c9"
      },
      "outputs": [
        {
          "data": {
            "text/plain": [
              "3"
            ]
          },
          "execution_count": 42,
          "metadata": {},
          "output_type": "execute_result"
        }
      ],
      "source": [
        "len(a)"
      ]
    },
    {
      "cell_type": "markdown",
      "metadata": {
        "id": "_FUsvJWkqBSP"
      },
      "source": [
        "### **Methods**"
      ]
    },
    {
      "cell_type": "code",
      "execution_count": null,
      "metadata": {
        "colab": {
          "base_uri": "https://localhost:8080/",
          "height": 35
        },
        "id": "c-GfWFkQqKY0",
        "outputId": "abdafb67-4937-40c2-a1b1-f629884c912b"
      },
      "outputs": [
        {
          "data": {
            "application/vnd.google.colaboratory.intrinsic+json": {
              "type": "string"
            },
            "text/plain": [
              "'string'"
            ]
          },
          "execution_count": 43,
          "metadata": {},
          "output_type": "execute_result"
        }
      ],
      "source": [
        "a = \"string\"\n",
        "a"
      ]
    },
    {
      "cell_type": "code",
      "execution_count": null,
      "metadata": {
        "colab": {
          "base_uri": "https://localhost:8080/"
        },
        "id": "-EomYUkTqOF4",
        "outputId": "e77838de-fdef-4731-8c0f-c02783a924ea"
      },
      "outputs": [
        {
          "data": {
            "text/plain": [
              "0"
            ]
          },
          "execution_count": 44,
          "metadata": {},
          "output_type": "execute_result"
        }
      ],
      "source": [
        "a.find(\"s\")"
      ]
    },
    {
      "cell_type": "code",
      "execution_count": null,
      "metadata": {
        "colab": {
          "base_uri": "https://localhost:8080/",
          "height": 35
        },
        "id": "PqdxGzlfR0Hd",
        "outputId": "477758e7-3605-4807-b77a-ca8e2d45de95"
      },
      "outputs": [
        {
          "data": {
            "application/vnd.google.colaboratory.intrinsic+json": {
              "type": "string"
            },
            "text/plain": [
              "'String'"
            ]
          },
          "execution_count": 45,
          "metadata": {},
          "output_type": "execute_result"
        }
      ],
      "source": [
        "a.capitalize()"
      ]
    },
    {
      "cell_type": "code",
      "execution_count": null,
      "metadata": {
        "colab": {
          "base_uri": "https://localhost:8080/"
        },
        "id": "qG0Tuk3nnF9I",
        "outputId": "16843eca-6988-4117-803f-585180d2aaf3"
      },
      "outputs": [
        {
          "data": {
            "text/plain": [
              "[1, 2, 3]"
            ]
          },
          "execution_count": 5,
          "metadata": {},
          "output_type": "execute_result"
        }
      ],
      "source": [
        "a = [1,2,3]\n",
        "a"
      ]
    },
    {
      "cell_type": "code",
      "execution_count": null,
      "metadata": {
        "colab": {
          "base_uri": "https://localhost:8080/"
        },
        "id": "lR_JqpkEnGHB",
        "outputId": "ef0d8420-b9c7-4b7d-98bd-bac1dfa8227d"
      },
      "outputs": [
        {
          "data": {
            "text/plain": [
              "[1, 2, 3, 4]"
            ]
          },
          "execution_count": 6,
          "metadata": {},
          "output_type": "execute_result"
        }
      ],
      "source": [
        "a.append(4)\n",
        "a"
      ]
    },
    {
      "cell_type": "code",
      "execution_count": null,
      "metadata": {
        "id": "1Ap81trBjacw",
        "outputId": "7f7ef517-f1e3-4090-bdad-4cac9a15081c"
      },
      "outputs": [
        {
          "data": {
            "text/plain": [
              "1"
            ]
          },
          "execution_count": 10,
          "metadata": {},
          "output_type": "execute_result"
        }
      ],
      "source": [
        "a.index(2)"
      ]
    },
    {
      "cell_type": "code",
      "execution_count": null,
      "metadata": {
        "colab": {
          "base_uri": "https://localhost:8080/"
        },
        "id": "rqrdkU3ZMaQz",
        "outputId": "2f1641be-9f2a-42eb-d035-a30a41ee2f32"
      },
      "outputs": [
        {
          "data": {
            "text/plain": [
              "4"
            ]
          },
          "execution_count": 8,
          "metadata": {},
          "output_type": "execute_result"
        }
      ],
      "source": [
        "a.pop(3)"
      ]
    },
    {
      "cell_type": "code",
      "execution_count": null,
      "metadata": {
        "id": "F8aWDFOWKoft"
      },
      "outputs": [],
      "source": [
        "a = np.array([1,2,3])"
      ]
    },
    {
      "cell_type": "code",
      "execution_count": null,
      "metadata": {
        "colab": {
          "base_uri": "https://localhost:8080/"
        },
        "id": "GHopNidBKrL_",
        "outputId": "c1cebd03-3f5b-40c7-fdde-24fa65870d4d"
      },
      "outputs": [
        {
          "data": {
            "text/plain": [
              "6"
            ]
          },
          "execution_count": 50,
          "metadata": {},
          "output_type": "execute_result"
        }
      ],
      "source": [
        "a.sum()"
      ]
    },
    {
      "cell_type": "code",
      "execution_count": null,
      "metadata": {
        "colab": {
          "base_uri": "https://localhost:8080/"
        },
        "id": "8t8MSy1gKukW",
        "outputId": "8c0bb892-e15c-4974-f8d1-b27f2054c0fd"
      },
      "outputs": [
        {
          "data": {
            "text/plain": [
              "(2.0, 0.816496580927726)"
            ]
          },
          "execution_count": 51,
          "metadata": {},
          "output_type": "execute_result"
        }
      ],
      "source": [
        "a.mean(), a.std()"
      ]
    },
    {
      "cell_type": "markdown",
      "metadata": {
        "id": "lo9sQwt1MxSO"
      },
      "source": [
        "### **Cycles**"
      ]
    },
    {
      "cell_type": "code",
      "execution_count": null,
      "metadata": {
        "colab": {
          "base_uri": "https://localhost:8080/"
        },
        "id": "gw2kfBO5MwlM",
        "outputId": "03aa3a84-9cae-45a9-c6e9-e1433f72d1b4"
      },
      "outputs": [
        {
          "name": "stdout",
          "output_type": "stream",
          "text": [
            "1\n",
            "2\n",
            "3\n"
          ]
        }
      ],
      "source": [
        "a = [1,2,3]\n",
        "for i in a:\n",
        "    print(i)"
      ]
    },
    {
      "cell_type": "code",
      "execution_count": null,
      "metadata": {
        "colab": {
          "base_uri": "https://localhost:8080/"
        },
        "id": "C1BexGe_M1g_",
        "outputId": "44f21bf8-afaa-4c47-e049-188b7a6658eb"
      },
      "outputs": [
        {
          "name": "stdout",
          "output_type": "stream",
          "text": [
            "0\n",
            "1\n",
            "2\n",
            "3\n",
            "4\n",
            "5\n",
            "6\n",
            "7\n",
            "8\n",
            "9\n"
          ]
        }
      ],
      "source": [
        "x = 0\n",
        "while x < 10:\n",
        "    print(x)\n",
        "    x += 1"
      ]
    },
    {
      "cell_type": "markdown",
      "source": [
        "## **Vectorization**"
      ],
      "metadata": {
        "id": "Z7Au40cWtrOb"
      }
    },
    {
      "cell_type": "markdown",
      "metadata": {
        "id": "r5S3jCQzYRQw"
      },
      "source": [
        "### **Summing a list**"
      ]
    },
    {
      "cell_type": "code",
      "source": [
        "import numpy as np"
      ],
      "metadata": {
        "id": "HOTiVe_fqzc2"
      },
      "execution_count": 2,
      "outputs": []
    },
    {
      "cell_type": "code",
      "execution_count": 3,
      "metadata": {
        "id": "gc1AFpJxUqsQ",
        "colab": {
          "base_uri": "https://localhost:8080/"
        },
        "outputId": "81112721-d188-42cb-91a8-03c37508eedb"
      },
      "outputs": [
        {
          "output_type": "stream",
          "name": "stdout",
          "text": [
            "[0, 1, 2, 3, 4, 5, 6, 7, 8, 9, 10, 11, 12, 13, 14, 15, 16, 17, 18, 19, 20, 21, 22, 23, 24, 25, 26, 27, 28, 29, 30, 31, 32, 33, 34, 35, 36, 37, 38, 39, 40, 41, 42, 43, 44, 45, 46, 47, 48, 49, 50, 51, 52, 53, 54, 55, 56, 57, 58, 59, 60, 61, 62, 63, 64, 65, 66, 67, 68, 69, 70, 71, 72, 73, 74, 75, 76, 77, 78, 79, 80, 81, 82, 83, 84, 85, 86, 87, 88, 89, 90, 91, 92, 93, 94, 95, 96, 97, 98, 99, 100, 101, 102, 103, 104, 105, 106, 107, 108, 109, 110, 111, 112, 113, 114, 115, 116, 117, 118, 119, 120, 121, 122, 123, 124, 125, 126, 127, 128, 129, 130, 131, 132, 133, 134, 135, 136, 137, 138, 139, 140, 141, 142, 143, 144, 145, 146, 147, 148, 149, 150, 151, 152, 153, 154, 155, 156, 157, 158, 159, 160, 161, 162, 163, 164, 165, 166, 167, 168, 169, 170, 171, 172, 173, 174, 175, 176, 177, 178, 179, 180, 181, 182, 183, 184, 185, 186, 187, 188, 189, 190, 191, 192, 193, 194, 195, 196, 197, 198, 199, 200, 201, 202, 203, 204, 205, 206, 207, 208, 209, 210, 211, 212, 213, 214, 215, 216, 217, 218, 219, 220, 221, 222, 223, 224, 225, 226, 227, 228, 229, 230, 231, 232, 233, 234, 235, 236, 237, 238, 239, 240, 241, 242, 243, 244, 245, 246, 247, 248, 249, 250, 251, 252, 253, 254, 255, 256, 257, 258, 259, 260, 261, 262, 263, 264, 265, 266, 267, 268, 269, 270, 271, 272, 273, 274, 275, 276, 277, 278, 279, 280, 281, 282, 283, 284, 285, 286, 287, 288, 289, 290, 291, 292, 293, 294, 295, 296, 297, 298, 299, 300, 301, 302, 303, 304, 305, 306, 307, 308, 309, 310, 311, 312, 313, 314, 315, 316, 317, 318, 319, 320, 321, 322, 323, 324, 325, 326, 327, 328, 329, 330, 331, 332, 333, 334, 335, 336, 337, 338, 339, 340, 341, 342, 343, 344, 345, 346, 347, 348, 349, 350, 351, 352, 353, 354, 355, 356, 357, 358, 359, 360, 361, 362, 363, 364, 365, 366, 367, 368, 369, 370, 371, 372, 373, 374, 375, 376, 377, 378, 379, 380, 381, 382, 383, 384, 385, 386, 387, 388, 389, 390, 391, 392, 393, 394, 395, 396, 397, 398, 399, 400, 401, 402, 403, 404, 405, 406, 407, 408, 409, 410, 411, 412, 413, 414, 415, 416, 417, 418, 419, 420, 421, 422, 423, 424, 425, 426, 427, 428, 429, 430, 431, 432, 433, 434, 435, 436, 437, 438, 439, 440, 441, 442, 443, 444, 445, 446, 447, 448, 449, 450, 451, 452, 453, 454, 455, 456, 457, 458, 459, 460, 461, 462, 463, 464, 465, 466, 467, 468, 469, 470, 471, 472, 473, 474, 475, 476, 477, 478, 479, 480, 481, 482, 483, 484, 485, 486, 487, 488, 489, 490, 491, 492, 493, 494, 495, 496, 497, 498, 499, 500, 501, 502, 503, 504, 505, 506, 507, 508, 509, 510, 511, 512, 513, 514, 515, 516, 517, 518, 519, 520, 521, 522, 523, 524, 525, 526, 527, 528, 529, 530, 531, 532, 533, 534, 535, 536, 537, 538, 539, 540, 541, 542, 543, 544, 545, 546, 547, 548, 549, 550, 551, 552, 553, 554, 555, 556, 557, 558, 559, 560, 561, 562, 563, 564, 565, 566, 567, 568, 569, 570, 571, 572, 573, 574, 575, 576, 577, 578, 579, 580, 581, 582, 583, 584, 585, 586, 587, 588, 589, 590, 591, 592, 593, 594, 595, 596, 597, 598, 599, 600, 601, 602, 603, 604, 605, 606, 607, 608, 609, 610, 611, 612, 613, 614, 615, 616, 617, 618, 619, 620, 621, 622, 623, 624, 625, 626, 627, 628, 629, 630, 631, 632, 633, 634, 635, 636, 637, 638, 639, 640, 641, 642, 643, 644, 645, 646, 647, 648, 649, 650, 651, 652, 653, 654, 655, 656, 657, 658, 659, 660, 661, 662, 663, 664, 665, 666, 667, 668, 669, 670, 671, 672, 673, 674, 675, 676, 677, 678, 679, 680, 681, 682, 683, 684, 685, 686, 687, 688, 689, 690, 691, 692, 693, 694, 695, 696, 697, 698, 699, 700, 701, 702, 703, 704, 705, 706, 707, 708, 709, 710, 711, 712, 713, 714, 715, 716, 717, 718, 719, 720, 721, 722, 723, 724, 725, 726, 727, 728, 729, 730, 731, 732, 733, 734, 735, 736, 737, 738, 739, 740, 741, 742, 743, 744, 745, 746, 747, 748, 749, 750, 751, 752, 753, 754, 755, 756, 757, 758, 759, 760, 761, 762, 763, 764, 765, 766, 767, 768, 769, 770, 771, 772, 773, 774, 775, 776, 777, 778, 779, 780, 781, 782, 783, 784, 785, 786, 787, 788, 789, 790, 791, 792, 793, 794, 795, 796, 797, 798, 799, 800, 801, 802, 803, 804, 805, 806, 807, 808, 809, 810, 811, 812, 813, 814, 815, 816, 817, 818, 819, 820, 821, 822, 823, 824, 825, 826, 827, 828, 829, 830, 831, 832, 833, 834, 835, 836, 837, 838, 839, 840, 841, 842, 843, 844, 845, 846, 847, 848, 849, 850, 851, 852, 853, 854, 855, 856, 857, 858, 859, 860, 861, 862, 863, 864, 865, 866, 867, 868, 869, 870, 871, 872, 873, 874, 875, 876, 877, 878, 879, 880, 881, 882, 883, 884, 885, 886, 887, 888, 889, 890, 891, 892, 893, 894, 895, 896, 897, 898, 899, 900, 901, 902, 903, 904, 905, 906, 907, 908, 909, 910, 911, 912, 913, 914, 915, 916, 917, 918, 919, 920, 921, 922, 923, 924, 925, 926, 927, 928, 929, 930, 931, 932, 933, 934, 935, 936, 937, 938, 939, 940, 941, 942, 943, 944, 945, 946, 947, 948, 949, 950, 951, 952, 953, 954, 955, 956, 957, 958, 959, 960, 961, 962, 963, 964, 965, 966, 967, 968, 969, 970, 971, 972, 973, 974, 975, 976, 977, 978, 979, 980, 981, 982, 983, 984, 985, 986, 987, 988, 989, 990, 991, 992, 993, 994, 995, 996, 997, 998, 999]\n"
          ]
        }
      ],
      "source": [
        "a = [i for i in range(1000)]\n",
        "print(a)"
      ]
    },
    {
      "cell_type": "code",
      "execution_count": 15,
      "metadata": {
        "id": "brgCI-hkjf9d"
      },
      "outputs": [],
      "source": [
        "def calc_sum(a):\n",
        "    x = 0\n",
        "    for i in a:\n",
        "        x += i\n",
        "    return x"
      ]
    },
    {
      "cell_type": "code",
      "execution_count": 16,
      "metadata": {
        "colab": {
          "base_uri": "https://localhost:8080/"
        },
        "id": "fLSx18h-Yziy",
        "outputId": "81e0a6aa-72aa-41b4-c45f-45a0505d9d2d"
      },
      "outputs": [
        {
          "output_type": "stream",
          "name": "stdout",
          "text": [
            "87.9 µs ± 25.9 µs per loop (mean ± std. dev. of 7 runs, 10000 loops each)\n"
          ]
        }
      ],
      "source": [
        "%timeit calc_sum(a)"
      ]
    },
    {
      "cell_type": "code",
      "execution_count": 17,
      "metadata": {
        "colab": {
          "base_uri": "https://localhost:8080/"
        },
        "id": "1KMgzsowUw_l",
        "outputId": "da556458-8d2b-48e9-9c56-7ef1c76954a6"
      },
      "outputs": [
        {
          "output_type": "stream",
          "name": "stdout",
          "text": [
            "5.81 µs ± 1.49 µs per loop (mean ± std. dev. of 7 runs, 100000 loops each)\n"
          ]
        }
      ],
      "source": [
        "%timeit sum(a)"
      ]
    },
    {
      "cell_type": "code",
      "execution_count": 11,
      "metadata": {
        "id": "_2OKzAXCU74w"
      },
      "outputs": [],
      "source": [
        "A = np.array(a)"
      ]
    },
    {
      "cell_type": "code",
      "execution_count": 18,
      "metadata": {
        "colab": {
          "base_uri": "https://localhost:8080/"
        },
        "id": "Aqss2_2UU8zr",
        "outputId": "b6854084-5532-42be-8485-eff4d53b41f4"
      },
      "outputs": [
        {
          "output_type": "stream",
          "name": "stdout",
          "text": [
            "1.92 µs ± 238 ns per loop (mean ± std. dev. of 7 runs, 1000000 loops each)\n"
          ]
        }
      ],
      "source": [
        "%timeit A.sum()"
      ]
    },
    {
      "cell_type": "markdown",
      "metadata": {
        "id": "mIplODQhNDLF"
      },
      "source": [
        "### **Array multiplication**\n",
        "\n",
        "a = [1, 2, 3, ...., 1000]\\\n",
        "b = [1, 2, 3, ...., 1000]"
      ]
    },
    {
      "cell_type": "code",
      "execution_count": 19,
      "metadata": {
        "id": "l5Jm1DsrNxRx"
      },
      "outputs": [],
      "source": [
        "a = [i for i in range(1000)]\n",
        "b = [i for i in range(1000)]"
      ]
    },
    {
      "cell_type": "code",
      "execution_count": 20,
      "metadata": {
        "id": "F6B5Tpu5VV7H"
      },
      "outputs": [],
      "source": [
        "def multiply_lists(a,b):\n",
        "    c = []\n",
        "    for i in range(len(a)):\n",
        "        c.append(a[i] * b[i])\n",
        "    return c"
      ]
    },
    {
      "cell_type": "code",
      "execution_count": 21,
      "metadata": {
        "colab": {
          "base_uri": "https://localhost:8080/"
        },
        "id": "_pplp-rhVuec",
        "outputId": "52631446-d97c-4ba9-e9ce-7d7776f302b4"
      },
      "outputs": [
        {
          "output_type": "stream",
          "name": "stdout",
          "text": [
            "136 µs ± 38.7 µs per loop (mean ± std. dev. of 7 runs, 10000 loops each)\n"
          ]
        }
      ],
      "source": [
        "%timeit multiply_lists(a,b)"
      ]
    },
    {
      "cell_type": "code",
      "execution_count": 22,
      "metadata": {
        "id": "witZx777VyCK"
      },
      "outputs": [],
      "source": [
        "A = np.array(a)\n",
        "B = np.array(b)"
      ]
    },
    {
      "cell_type": "code",
      "execution_count": 23,
      "metadata": {
        "colab": {
          "base_uri": "https://localhost:8080/"
        },
        "id": "HtDRm2V8V3IY",
        "outputId": "0b9c2416-ae2b-42b7-8ea7-8a2d18b655c7"
      },
      "outputs": [
        {
          "output_type": "stream",
          "name": "stdout",
          "text": [
            "1.42 µs ± 350 ns per loop (mean ± std. dev. of 7 runs, 1000000 loops each)\n"
          ]
        }
      ],
      "source": [
        "%timeit A * B"
      ]
    },
    {
      "cell_type": "markdown",
      "metadata": {
        "id": "dqNfZqtZ4QiL"
      },
      "source": [
        "### **Matrix multiplication**"
      ]
    },
    {
      "cell_type": "code",
      "execution_count": 25,
      "metadata": {
        "id": "m0cjb_AD4eSr"
      },
      "outputs": [],
      "source": [
        "a = np.random.randint(100, size=(100,100,100))\n",
        "b = np.random.randint(100, size=(100,100,100))"
      ]
    },
    {
      "cell_type": "code",
      "execution_count": 26,
      "metadata": {
        "colab": {
          "base_uri": "https://localhost:8080/"
        },
        "id": "jFVZOko54jcY",
        "outputId": "cc7d9ffd-7228-437c-bb2b-5d18991ca096"
      },
      "outputs": [
        {
          "output_type": "execute_result",
          "data": {
            "text/plain": [
              "(100, 100, 100)"
            ]
          },
          "metadata": {},
          "execution_count": 26
        }
      ],
      "source": [
        "a.shape"
      ]
    },
    {
      "cell_type": "code",
      "execution_count": 27,
      "metadata": {
        "colab": {
          "base_uri": "https://localhost:8080/"
        },
        "id": "HFwIFxKy4nBD",
        "outputId": "87145b9d-2985-4a8f-a47d-654c13320896"
      },
      "outputs": [
        {
          "output_type": "stream",
          "name": "stdout",
          "text": [
            "1.15 ms ± 127 µs per loop (mean ± std. dev. of 7 runs, 1000 loops each)\n"
          ]
        }
      ],
      "source": [
        "%timeit a * b"
      ]
    },
    {
      "cell_type": "code",
      "execution_count": 28,
      "metadata": {
        "id": "RuUWFzLzV5EI"
      },
      "outputs": [],
      "source": [
        "import tensorflow as tf"
      ]
    },
    {
      "cell_type": "code",
      "execution_count": 29,
      "metadata": {
        "id": "LP53DZLr5A3B"
      },
      "outputs": [],
      "source": [
        "A = tf.convert_to_tensor(a)\n",
        "B = tf.convert_to_tensor(b)"
      ]
    },
    {
      "cell_type": "code",
      "execution_count": 31,
      "metadata": {
        "colab": {
          "base_uri": "https://localhost:8080/"
        },
        "id": "6bIkxTQp6eQJ",
        "outputId": "7f83d32e-9aa2-4dbe-ed99-bb0dfa05fc10"
      },
      "outputs": [
        {
          "output_type": "stream",
          "name": "stdout",
          "text": [
            "97.8 µs ± 17 ns per loop (mean ± std. dev. of 7 runs, 10000 loops each)\n"
          ]
        }
      ],
      "source": [
        "%timeit A * B"
      ]
    },
    {
      "cell_type": "code",
      "execution_count": 32,
      "metadata": {
        "id": "p9Wy31jk6kkx"
      },
      "outputs": [],
      "source": [
        "import jax.numpy as jnp"
      ]
    },
    {
      "cell_type": "code",
      "execution_count": 33,
      "metadata": {
        "id": "OUf3eK9U6zoU"
      },
      "outputs": [],
      "source": [
        "A = jnp.array(a)\n",
        "B = jnp.array(b)"
      ]
    },
    {
      "cell_type": "code",
      "execution_count": 36,
      "metadata": {
        "colab": {
          "base_uri": "https://localhost:8080/"
        },
        "id": "r2rA22LTzVAW",
        "outputId": "8fb64046-d2ce-4a5e-df9f-4c32e7102f6e"
      },
      "outputs": [
        {
          "output_type": "stream",
          "name": "stdout",
          "text": [
            "160 µs ± 83.7 µs per loop (mean ± std. dev. of 7 runs, 10000 loops each)\n"
          ]
        }
      ],
      "source": [
        "%timeit A * B"
      ]
    },
    {
      "cell_type": "code",
      "source": [
        "from jax import device_put"
      ],
      "metadata": {
        "id": "mXMZuasrsiG1"
      },
      "execution_count": 37,
      "outputs": []
    },
    {
      "cell_type": "code",
      "source": [
        "aj = device_put(A)\n",
        "bj = device_put(B)"
      ],
      "metadata": {
        "id": "cKTc8PLYslUy"
      },
      "execution_count": 38,
      "outputs": []
    },
    {
      "cell_type": "code",
      "source": [
        "%timeit aj * bj"
      ],
      "metadata": {
        "id": "QXGgR7_Wsr0A",
        "outputId": "36b462c1-2e6d-4867-ca1f-eb0b2a113ab7",
        "colab": {
          "base_uri": "https://localhost:8080/"
        }
      },
      "execution_count": 40,
      "outputs": [
        {
          "output_type": "stream",
          "name": "stdout",
          "text": [
            "87.5 µs ± 23.9 µs per loop (mean ± std. dev. of 7 runs, 10000 loops each)\n"
          ]
        }
      ]
    },
    {
      "cell_type": "markdown",
      "source": [
        "### **Shape compatibility**"
      ],
      "metadata": {
        "id": "bw8ZEgEFt7Fi"
      }
    },
    {
      "cell_type": "code",
      "source": [
        "a = np.random.randint(100, size=(3,10))\n",
        "b = np.random.randint(100, size=(3,6))"
      ],
      "metadata": {
        "id": "45rj3f9Yt6jy"
      },
      "execution_count": 52,
      "outputs": []
    },
    {
      "cell_type": "code",
      "source": [
        "a * b"
      ],
      "metadata": {
        "id": "ujcUeTvPuBkb",
        "outputId": "d90f8638-0339-404b-d864-d90dd3011126",
        "colab": {
          "base_uri": "https://localhost:8080/",
          "height": 178
        }
      },
      "execution_count": 53,
      "outputs": [
        {
          "output_type": "error",
          "ename": "ValueError",
          "evalue": "ignored",
          "traceback": [
            "\u001b[0;31m---------------------------------------------------------------------------\u001b[0m",
            "\u001b[0;31mValueError\u001b[0m                                Traceback (most recent call last)",
            "\u001b[0;32m<ipython-input-53-9bc1a869709f>\u001b[0m in \u001b[0;36m<cell line: 1>\u001b[0;34m()\u001b[0m\n\u001b[0;32m----> 1\u001b[0;31m \u001b[0ma\u001b[0m \u001b[0;34m*\u001b[0m \u001b[0mb\u001b[0m\u001b[0;34m\u001b[0m\u001b[0;34m\u001b[0m\u001b[0m\n\u001b[0m",
            "\u001b[0;31mValueError\u001b[0m: operands could not be broadcast together with shapes (3,10) (3,6) "
          ]
        }
      ]
    },
    {
      "cell_type": "code",
      "source": [
        "a.T * b"
      ],
      "metadata": {
        "id": "TpVoqVbuuKAu",
        "outputId": "d7bd42c8-3be0-4f82-a901-525f26868a70",
        "colab": {
          "base_uri": "https://localhost:8080/",
          "height": 178
        }
      },
      "execution_count": 55,
      "outputs": [
        {
          "output_type": "error",
          "ename": "ValueError",
          "evalue": "ignored",
          "traceback": [
            "\u001b[0;31m---------------------------------------------------------------------------\u001b[0m",
            "\u001b[0;31mValueError\u001b[0m                                Traceback (most recent call last)",
            "\u001b[0;32m<ipython-input-55-b54b92ab483b>\u001b[0m in \u001b[0;36m<cell line: 1>\u001b[0;34m()\u001b[0m\n\u001b[0;32m----> 1\u001b[0;31m \u001b[0ma\u001b[0m\u001b[0;34m.\u001b[0m\u001b[0mT\u001b[0m \u001b[0;34m*\u001b[0m \u001b[0mb\u001b[0m\u001b[0;34m\u001b[0m\u001b[0;34m\u001b[0m\u001b[0m\n\u001b[0m",
            "\u001b[0;31mValueError\u001b[0m: operands could not be broadcast together with shapes (10,3) (3,6) "
          ]
        }
      ]
    },
    {
      "cell_type": "code",
      "source": [
        "np.matmul(a.T,b)"
      ],
      "metadata": {
        "id": "FQVgP-mNuOX9",
        "outputId": "d06941f8-c4ef-4d48-af4f-a6732218d268",
        "colab": {
          "base_uri": "https://localhost:8080/"
        }
      },
      "execution_count": 58,
      "outputs": [
        {
          "output_type": "execute_result",
          "data": {
            "text/plain": [
              "array([[ 4069,  9380,  3819,  2988,  5955,  6543],\n",
              "       [ 4931,  7196,  6002,  4641,  5345,  7490],\n",
              "       [ 7922, 12138,  7987,  7066,  8550, 11592],\n",
              "       [ 5739,  9128,  7165,  5290,  6645,  8943],\n",
              "       [ 6460, 10472,  8157,  5933,  7600, 10141],\n",
              "       [ 5555,  9058,  8016,  5262,  6765,  9075],\n",
              "       [ 5173,  8610, 11549,  5561,  7215,  9888],\n",
              "       [ 6083,  7924,  7416,  5907,  6105,  9036],\n",
              "       [ 4819,  9016,  7546,  4447,  6585,  8328],\n",
              "       [ 4740,  8876,  8902,  4624,  6780,  8700]])"
            ]
          },
          "metadata": {},
          "execution_count": 58
        }
      ]
    },
    {
      "cell_type": "code",
      "source": [
        "a = np.random.randint(100, size=(3,10))\n",
        "b = np.random.randint(100, size=(3,10))\n",
        "\n",
        "a * b"
      ],
      "metadata": {
        "id": "oKc-kVrUupOt",
        "outputId": "d50c0b7d-8e5a-4f1e-bf38-5b13fad186cc",
        "colab": {
          "base_uri": "https://localhost:8080/"
        }
      },
      "execution_count": 59,
      "outputs": [
        {
          "output_type": "execute_result",
          "data": {
            "text/plain": [
              "array([[2944, 1650,  130, 3599, 4263, 2014,   86, 1200, 8084, 2970],\n",
              "       [ 416, 7728, 2100, 1298, 1160, 1131,  342, 4888, 2275, 3588],\n",
              "       [3572, 1748, 7372,  387,  520, 2880, 2448,  854, 2464,  806]])"
            ]
          },
          "metadata": {},
          "execution_count": 59
        }
      ]
    },
    {
      "cell_type": "markdown",
      "source": [
        "## **Pandas DataFrames**"
      ],
      "metadata": {
        "id": "DIS-oOLGtTTj"
      }
    },
    {
      "cell_type": "code",
      "source": [],
      "metadata": {
        "id": "k7L5r6mStSuq"
      },
      "execution_count": null,
      "outputs": []
    },
    {
      "cell_type": "code",
      "source": [],
      "metadata": {
        "id": "PeWE3vmqu4hz"
      },
      "execution_count": null,
      "outputs": []
    },
    {
      "cell_type": "code",
      "source": [],
      "metadata": {
        "id": "xl81Kl96u4mt"
      },
      "execution_count": null,
      "outputs": []
    },
    {
      "cell_type": "code",
      "source": [],
      "metadata": {
        "id": "gLsu16Gpu4sm"
      },
      "execution_count": null,
      "outputs": []
    },
    {
      "cell_type": "markdown",
      "metadata": {
        "id": "z1DRbATkT0FO"
      },
      "source": [
        "## **\"Hello world\" of ML**"
      ]
    },
    {
      "cell_type": "markdown",
      "metadata": {
        "id": "4ah0tcn4iWnr"
      },
      "source": [
        "### **task 4:** generate 2 distinct datagroups each with 100 datapoints using a 2D normal distribution and plot them\n",
        "\n",
        "hint: use `np.random.normal(mean, std, shape)`"
      ]
    },
    {
      "cell_type": "code",
      "execution_count": null,
      "metadata": {
        "id": "Fo1-OG8cnruq"
      },
      "outputs": [],
      "source": [
        "shape = (100,2)"
      ]
    },
    {
      "cell_type": "code",
      "execution_count": null,
      "metadata": {
        "id": "p3_Mp-hfnuWS"
      },
      "outputs": [],
      "source": [
        "# A = np.random.normal([2,5.5], 1, shape)\n",
        "# B = np.random.normal(5, 1, shape)\n",
        "\n",
        "A = np.random.normal(28, 5, (100,2))\n",
        "B = np.random.poisson(42, (100,2))"
      ]
    },
    {
      "cell_type": "code",
      "execution_count": null,
      "metadata": {
        "colab": {
          "base_uri": "https://localhost:8080/",
          "height": 282
        },
        "id": "q8674Zuwn2Nx",
        "outputId": "f455297a-9265-4d5f-9123-afd00c08359c"
      },
      "outputs": [
        {
          "data": {
            "text/plain": [
              "<matplotlib.collections.PathCollection at 0x7f1116158990>"
            ]
          },
          "execution_count": 120,
          "metadata": {},
          "output_type": "execute_result"
        },
        {
          "data": {
            "image/png": "[encoded data removed]",
            "text/plain": [
              "<Figure size 432x288 with 1 Axes>"
            ]
          },
          "metadata": {
            "needs_background": "light"
          },
          "output_type": "display_data"
        }
      ],
      "source": [
        "plt.scatter(A[:,0], A[:,1])\n",
        "plt.scatter(B[:,0], B[:,1])"
      ]
    },
    {
      "cell_type": "markdown",
      "metadata": {
        "id": "rG_bGE928Luu"
      },
      "source": [
        "### **task 5:** stack the data into single array and use K-means clustering algorithm to divide them\n",
        "\n",
        "hint: `from sklearn.cluster import KMeans`"
      ]
    },
    {
      "cell_type": "code",
      "execution_count": null,
      "metadata": {
        "id": "kZXzPAmF8GH9"
      },
      "outputs": [],
      "source": [
        "X = np.concatenate((A, B))"
      ]
    },
    {
      "cell_type": "code",
      "execution_count": null,
      "metadata": {
        "colab": {
          "base_uri": "https://localhost:8080/",
          "height": 282
        },
        "id": "ciJ-TLph2JTO",
        "outputId": "b67bbab3-e098-404b-d87b-3630a83ebd6b"
      },
      "outputs": [
        {
          "data": {
            "text/plain": [
              "<matplotlib.collections.PathCollection at 0x7f11160cb350>"
            ]
          },
          "execution_count": 122,
          "metadata": {},
          "output_type": "execute_result"
        },
        {
          "data": {
            "image/png": "[encoded data removed]",
            "text/plain": [
              "<Figure size 432x288 with 1 Axes>"
            ]
          },
          "metadata": {
            "needs_background": "light"
          },
          "output_type": "display_data"
        }
      ],
      "source": [
        "plt.scatter(X[:,0], X[:,1])"
      ]
    },
    {
      "cell_type": "code",
      "execution_count": null,
      "metadata": {
        "id": "fXz3HjCS1QMu"
      },
      "outputs": [],
      "source": [
        "from sklearn.cluster import KMeans"
      ]
    },
    {
      "cell_type": "code",
      "execution_count": null,
      "metadata": {
        "id": "WBGNATfh8d_Y"
      },
      "outputs": [],
      "source": [
        "kmeans = KMeans(n_clusters=2).fit(X)"
      ]
    },
    {
      "cell_type": "code",
      "execution_count": null,
      "metadata": {
        "colab": {
          "base_uri": "https://localhost:8080/"
        },
        "id": "omioKGXjoB6x",
        "outputId": "e4753f41-a4a9-4c86-b6d0-c8ee2af36334"
      },
      "outputs": [
        {
          "data": {
            "text/plain": [
              "KMeans(n_clusters=2)"
            ]
          },
          "execution_count": 125,
          "metadata": {},
          "output_type": "execute_result"
        }
      ],
      "source": [
        "kmeans"
      ]
    },
    {
      "cell_type": "code",
      "execution_count": null,
      "metadata": {
        "colab": {
          "base_uri": "https://localhost:8080/"
        },
        "id": "DMUDW9MmoOpH",
        "outputId": "b2d7b64a-e0fc-4e15-9150-ab269ef08e66"
      },
      "outputs": [
        {
          "data": {
            "text/plain": [
              "array([1, 1, 1, 1, 1, 1, 1, 1, 1, 1, 1, 1, 1, 1, 1, 1, 1, 1, 1, 1, 1, 1,\n",
              "       1, 1, 1, 1, 1, 1, 1, 1, 1, 1, 1, 1, 1, 1, 1, 1, 1, 1, 1, 1, 1, 1,\n",
              "       1, 1, 1, 1, 1, 1, 1, 1, 1, 1, 1, 1, 1, 1, 1, 1, 1, 1, 1, 1, 1, 1,\n",
              "       1, 1, 1, 1, 1, 1, 1, 1, 1, 1, 1, 1, 1, 1, 1, 1, 1, 1, 1, 1, 1, 1,\n",
              "       1, 1, 1, 1, 1, 1, 1, 1, 1, 1, 1, 1, 0, 0, 0, 0, 1, 0, 0, 0, 0, 0,\n",
              "       0, 0, 0, 0, 0, 0, 0, 1, 0, 0, 0, 1, 0, 0, 0, 0, 0, 0, 0, 0, 0, 0,\n",
              "       0, 0, 0, 0, 0, 0, 0, 0, 0, 0, 0, 1, 0, 0, 0, 0, 0, 0, 0, 0, 0, 0,\n",
              "       0, 0, 0, 1, 0, 0, 0, 0, 0, 0, 0, 0, 0, 0, 0, 0, 0, 0, 0, 1, 0, 0,\n",
              "       0, 0, 1, 0, 0, 0, 0, 0, 0, 0, 0, 0, 1, 0, 0, 0, 0, 0, 0, 0, 0, 0,\n",
              "       0, 0], dtype=int32)"
            ]
          },
          "execution_count": 126,
          "metadata": {},
          "output_type": "execute_result"
        }
      ],
      "source": [
        "kmeans.labels_"
      ]
    },
    {
      "cell_type": "code",
      "execution_count": null,
      "metadata": {
        "colab": {
          "base_uri": "https://localhost:8080/",
          "height": 282
        },
        "id": "WgcZfjH5oY-B",
        "outputId": "a0020991-fe94-4c19-8db6-9e48b90eedd2"
      },
      "outputs": [
        {
          "data": {
            "text/plain": [
              "<matplotlib.collections.PathCollection at 0x7f111603a610>"
            ]
          },
          "execution_count": 127,
          "metadata": {},
          "output_type": "execute_result"
        },
        {
          "data": {
            "image/png": "[encoded data removed]",
            "text/plain": [
              "<Figure size 432x288 with 1 Axes>"
            ]
          },
          "metadata": {
            "needs_background": "light"
          },
          "output_type": "display_data"
        }
      ],
      "source": [
        "plt.scatter(X[:,0], X[:,1], c=kmeans.labels_)"
      ]
    },
    {
      "cell_type": "markdown",
      "metadata": {
        "id": "CUn4UJsKPxcw"
      },
      "source": [
        "### **task 6:** estimate how many datapoints were clustered incorrectly and plot them"
      ]
    },
    {
      "cell_type": "code",
      "execution_count": null,
      "metadata": {
        "id": "1wWbLhwLofW4"
      },
      "outputs": [],
      "source": [
        "labels = np.zeros(200)\n",
        "labels[:100] = 1"
      ]
    },
    {
      "cell_type": "code",
      "execution_count": null,
      "metadata": {
        "colab": {
          "base_uri": "https://localhost:8080/"
        },
        "id": "hyHawDnO3Ajp",
        "outputId": "ffb72e29-d432-4450-ddd3-047de7c1c5a9"
      },
      "outputs": [
        {
          "data": {
            "text/plain": [
              "96.0"
            ]
          },
          "execution_count": 131,
          "metadata": {},
          "output_type": "execute_result"
        }
      ],
      "source": [
        "sum((labels == kmeans.labels_).astype(int)) / len(labels) * 100"
      ]
    },
    {
      "cell_type": "code",
      "execution_count": null,
      "metadata": {
        "colab": {
          "base_uri": "https://localhost:8080/"
        },
        "id": "ygdHsJBK3AnW",
        "outputId": "a9436942-b2ed-4760-ba25-fd043d6bea59"
      },
      "outputs": [
        {
          "data": {
            "text/plain": [
              "4.0"
            ]
          },
          "execution_count": 132,
          "metadata": {},
          "output_type": "execute_result"
        }
      ],
      "source": [
        "sum((labels != kmeans.labels_).astype(int)) / len(labels) * 100"
      ]
    },
    {
      "cell_type": "code",
      "execution_count": null,
      "metadata": {
        "colab": {
          "base_uri": "https://localhost:8080/",
          "height": 265
        },
        "id": "EZXfuGzB3Ari",
        "outputId": "b207eeb6-6954-4915-bd4d-0e9dbb46eaec"
      },
      "outputs": [
        {
          "data": {
            "image/png": "[encoded data removed]",
            "text/plain": [
              "<Figure size 432x288 with 1 Axes>"
            ]
          },
          "metadata": {
            "needs_background": "light"
          },
          "output_type": "display_data"
        }
      ],
      "source": [
        "plt.scatter(A[:, 0], A[:, 1])\n",
        "plt.scatter(B[:, 0], B[:, 1])\n",
        "plt.scatter(X[:, 0], X[:, 1], marker=\"+\", c=\"black\", s=np.logical_not(kmeans.labels_==labels)*70);"
      ]
    },
    {
      "cell_type": "code",
      "execution_count": null,
      "metadata": {
        "id": "l22qPr9T3Bek"
      },
      "outputs": [],
      "source": []
    },
    {
      "cell_type": "code",
      "execution_count": null,
      "metadata": {
        "id": "D6XvH8q1o6YI"
      },
      "outputs": [],
      "source": []
    },
    {
      "cell_type": "markdown",
      "metadata": {
        "id": "yn2c1YOP-W2z"
      },
      "source": [
        "## **[OpenAI Codex](https://beta.openai.com/playground)**\n",
        "\n",
        "'''\\\n",
        "Generate 2 distinct datagroups each with 100 datapoints using a 2D normal distribution and plot them.\\\n",
        "Stack the data into single array and use K-means clustering algorithm to divide them.\\\n",
        "Estimate how many datapoints were clustered incorrectly and plot them.\\\n",
        "'''"
      ]
    },
    {
      "cell_type": "code",
      "execution_count": null,
      "metadata": {
        "id": "-sHf69q64cQz"
      },
      "outputs": [],
      "source": []
    }
  ],
  "metadata": {
    "accelerator": "GPU",
    "colab": {
      "name": "Kopie sešitu 01_uvod.ipynb",
      "provenance": [],
      "toc_visible": true,
      "gpuType": "T4"
    },
    "kernelspec": {
      "display_name": "Python 3",
      "name": "python3"
    },
    "language_info": {
      "codemirror_mode": {
        "name": "ipython",
        "version": 3
      },
      "file_extension": ".py",
      "mimetype": "text/x-python",
      "name": "python",
      "nbconvert_exporter": "python",
      "pygments_lexer": "ipython3",
      "version": "3.10.12"
    }
  },
  "nbformat": 4,
  "nbformat_minor": 0
}