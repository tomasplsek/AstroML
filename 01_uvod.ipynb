{
  "nbformat": 4,
  "nbformat_minor": 0,
  "metadata": {
    "colab": {
      "name": "01_uvod.ipynb",
      "provenance": [],
      "collapsed_sections": [],
      "mount_file_id": "https://github.com/tomasplsek/Intro_to_ML/blob/main/01_uvod.ipynb",
      "authorship_tag": "ABX9TyNaubz32WcBqMWtR28wwkQV",
      "include_colab_link": true
    },
    "kernelspec": {
      "name": "python3",
      "display_name": "Python 3"
    },
    "language_info": {
      "name": "python"
    }
  },
  "cells": [
    {
      "cell_type": "markdown",
      "metadata": {
        "id": "view-in-github",
        "colab_type": "text"
      },
      "source": [
        "<a href=\"https://colab.research.google.com/github/tomasplsek/AstroML/blob/main/01_uvod.ipynb\" target=\"_parent\"><img src=\"https://colab.research.google.com/assets/colab-badge.svg\" alt=\"Open In Colab\"/></a>"
      ]
    },
    {
      "cell_type": "markdown",
      "metadata": {
        "id": "uOHZeYnyBsZK"
      },
      "source": [
        "# **Introduction to Machine learning for astronomers in Python**\n",
        "\n",
        "\n"
      ]
    },
    {
      "cell_type": "markdown",
      "metadata": {
        "id": "GGAqtXiTHfxc"
      },
      "source": [
        "- 6-7 lectures\n",
        "- 6 hands-on sessions\n",
        "- final project\n",
        "\n",
        "<div style=\"\">\n",
        "<img src=\"https://www.physics.muni.cz/~plsek/img.jpeg\" height=\"160px\" align=\"right\">\n",
        "\n",
        "<img src=\"https://cdn.muni.cz/media/3289673/matejkosiba.jpg?mode=crop&center=0.53,0.57&rnd=132563180850000000&width=179\" height=\"160px\" align=\"right\">\n",
        "\n",
        "<img src=\"https://cdn.muni.cz/media/3291288/toastm.jpg?mode=crop&center=0.5,0.5&rnd=132569108280000000&width=179\" height=\"160px\" align=\"right\">\n",
        "\n",
        "\\\\\n",
        "### **Timetable**\n",
        "16.9. - 1st lecture\\\n",
        "23.9. - Tomáš: *Intro to Colab / Jupyter*\\\n",
        "30.9. - Dean's leave\\\n",
        "7.10. - 2nd lecture\\\n",
        "14.10. - \\\n",
        "21.10. - 3rd lecture\\\n",
        "28.10. - \\\n",
        "4.11. - 4th lecture\\\n",
        "11.11. - \\\n",
        "18.11. - 5th lecture\\\n",
        "25.11. - Tomáš: *Into to neural networks*\\\n",
        "2.12. - 6th lecture\\\n",
        "9.12. - \\\n",
        "16.12. - 7th lecture\\\n",
        "23.12. - ???\n"
      ]
    },
    {
      "cell_type": "markdown",
      "metadata": {
        "id": "MzfUv0CzSM8U"
      },
      "source": [
        "</div>\n",
        "\n",
        "> **Tomáš Plšek**\n",
        "> <br><br>\n",
        "> email: <a href=\"mailto:plsek@physics.muni.cz\">plsek@physics.muni.cz</a>\\\n",
        "> github: [tomasplsek](https://github.com/tomasplsek)\\\n",
        "> web: [physics.muni.cz/~plsek](https://www.physics.muni.cz/~plsek/)\\\n",
        "> office: [building 8 (math), 4th floor, last door to the left](https://is.muni.cz/auth/kontakty/mistnost?id=10454)\n",
        "\n",
        "<br>"
      ]
    },
    {
      "cell_type": "markdown",
      "metadata": {
        "id": "wRhLdSG9XF83"
      },
      "source": [
        "# 1. hands-on session: **Intro to Colab / Jupyter**"
      ]
    },
    {
      "cell_type": "markdown",
      "metadata": {
        "id": "Mog5i70hzAXg"
      },
      "source": [
        "## **Contents**\n",
        "\n",
        "\n",
        "\n",
        "1.   What is machine learning?\n",
        "2.   Hardware / software\n",
        "3.   Google colab / Conda + Jupyter\n",
        "4.   \"Hello world\" of ML\n",
        "5.   What can I do with ML?\n",
        "\n"
      ]
    },
    {
      "cell_type": "markdown",
      "metadata": {
        "id": "pJ6uaY6Czzm4"
      },
      "source": [
        "## **What is Machine learning?**\n",
        "\n",
        "\n",
        "\n",
        "\n",
        "### **Why now?**\n",
        "1957 - **Perceptron** (Frank Rosenblatt)\\\n",
        "1967 -  **Nearest neightbor algorithm**\\\n",
        "...\\\n",
        "1997 - Deep Blue (Chess)\\\n",
        "2016 - Alpha Go\n"
      ]
    },
    {
      "cell_type": "markdown",
      "metadata": {
        "id": "nubcLWsQBsWK"
      },
      "source": [
        "<img src=\"https://raw.githubusercontent.com/tomasplsek/AstroML/main/figures/cpu_gpu_tpu.png?token=AIISSC6E4L5CFEO6GYOF3OLBITH6E\" width=\"460px\" align=\"right\">\n",
        "\n",
        "## **Hardware**\n",
        "\n",
        "*   **CPU** = *central processing unit*\\\n",
        "    \\- in every computer / mobile phone\\\n",
        "    \\- scalar operations\\\n",
        "    \\- multiple cores / threads (parallelizable)\\\n",
        "    \\- Intel, AMD\n",
        "\n",
        "<br>\n",
        "\n",
        "<img src=\"https://raw.githubusercontent.com/tomasplsek/AstroML/main/figures/cpu_gpu_tpu.jpg?token=AIISSC3T67EOSR7OIN7BTQDBITH2C\" width=\"460px\" align=\"right\">\n",
        "\n",
        "\n",
        "*   **GPU** = *graphical processing unit*\\\n",
        "    \\- vector operations\\\n",
        "    \\- dedicated or integrated on CPU\\\n",
        "    \\- graphics and games (DirectX)\\\n",
        "    \\- NVIDIA, AMD\n",
        "\n",
        "<br>\n",
        "\n",
        "*   **TPU** = *tensor processing unit*\\\n",
        "    \\- tensor operations\\\n",
        "    \\- developed by Google for Tensorflow\\\n",
        "    \\- narrow utilization field\n",
        "\n",
        "<br>\n",
        "\n",
        "\n"
      ]
    },
    {
      "cell_type": "markdown",
      "metadata": {
        "id": "56ZXgZNCBsO4"
      },
      "source": [
        "## **Software**\n",
        "\n",
        "Libraries for comunication with GPU:\n",
        "\n",
        "<img src=\"https://www.nvidia.com/etc/designs/nvidiaGDC/clientlibs_base/images/NVIDIA-Logo.svg\" height=\"50px\" align=\"right\">\n",
        "\n",
        "*   CUDA = NVIDIA libraries ([toolkit](https://developer.nvidia.com/cuda-toolkit-archive), [cuDNN](https://developer.nvidia.com/rdp/cudnn-download))\\\n",
        "    \\- GPU acceleration (Win & Linux)\\\n",
        "    \\- lower level\n",
        "\n",
        "<br>\n",
        "\n",
        "Higher level libraries are being developed mostly for Python:\n",
        "\n",
        "<img src=\"https://scikit-learn.org/stable/_static/scikit-learn-logo-small.png\" height=\"50px\" align=\"right\">\n",
        "\n",
        "*   [scikit-learn](https://scikit-learn.org/stable/)\\\n",
        "    \\- set of general ML tools\n",
        "\n",
        "<img src=\"https://www.gstatic.com/devrel-devsite/prod/v509a5f4800978e3ce5a1a5f2c1483bd166c25f20fdb759fe97f6131b7e9f1f00/tensorflow/images/lockup.svg\" height=\"50px\" align=\"right\">\n",
        "\n",
        "*   [tensorflow](https://www.tensorflow.org/)\\\n",
        "    \\- matrix and tensor computations\\\n",
        "    \\- using CUDA and GPU ([install](https://www.tensorflow.org/install/gpu), [setup](https://www.tensorflow.org/guide/gpu))\n",
        "\n",
        "<img src=\"https://keras.io/img/logo.png\" height=\"50px\" align=\"right\">\n",
        "\n",
        "*   [keras](https://keras.io/)\\\n",
        "    \\- on top of tensorflow\\\n",
        "    \\- neural networks (dense & convolutional layers)\n",
        "\n",
        "*   others: [pyTorch](https://pytorch.org/), Theano\n",
        "\n",
        "<br>\n",
        "\n",
        "Programing environments:\n",
        "\n",
        "<div style=\"display:table\">\n",
        "\n",
        "<img src=\"https://colab.research.google.com/img/colab_favicon_256px.png\" height=\"90px\" align=\"right\">\n",
        "\n",
        "<img src=\"https://jupyter.org/assets/main-logo.svg\" height=\"90px\" align=\"right\" style=\"margin-right:100px\">\n",
        "\n",
        "</div>\n",
        "\n",
        "\n",
        "*   [Conda](https://docs.conda.io/en/latest/) + [Jupyter](https://jupyter.org/) notebook/lab\n",
        "\n",
        "*   Google colab"
      ]
    },
    {
      "cell_type": "markdown",
      "metadata": {
        "id": "eLclsAQTVO5H"
      },
      "source": [
        "## **Google Colab**\n",
        "\n",
        "- plenty of preinstalled packages (```numpy```, ```scipy```, ```matplotlib```, ```keras```, ```tensorflow```...)\n",
        "- new packages are easy to install: ```!pip install corner```\n",
        "- shell commands ```!```\n",
        "- [magical commands](https://ipython.readthedocs.io/en/stable/interactive/magics.html) ```%```\n",
        "- include markdown or HTML blocks\n",
        "- GPU / TPU acceleration\n",
        "- access to notebooks and files from **Google drive** and **GitHub**\n",
        "- share notebooks"
      ]
    },
    {
      "cell_type": "code",
      "metadata": {
        "id": "EHWQwYG91RUS"
      },
      "source": [
        "import tensorflow as tf\n",
        "from keras.layers import Dense"
      ],
      "execution_count": 1,
      "outputs": []
    },
    {
      "cell_type": "code",
      "metadata": {
        "id": "3vGSQAVJa1k3",
        "colab": {
          "base_uri": "https://localhost:8080/"
        },
        "outputId": "6193fd1e-f668-4a18-9f3d-eb4b87e23df3"
      },
      "source": [
        "!pip install corner"
      ],
      "execution_count": 2,
      "outputs": [
        {
          "output_type": "stream",
          "name": "stdout",
          "text": [
            "Collecting corner\n",
            "  Downloading corner-2.2.1-py3-none-any.whl (15 kB)\n",
            "Requirement already satisfied: matplotlib>=2.1 in /usr/local/lib/python3.7/dist-packages (from corner) (3.2.2)\n",
            "Requirement already satisfied: kiwisolver>=1.0.1 in /usr/local/lib/python3.7/dist-packages (from matplotlib>=2.1->corner) (1.3.1)\n",
            "Requirement already satisfied: numpy>=1.11 in /usr/local/lib/python3.7/dist-packages (from matplotlib>=2.1->corner) (1.19.5)\n",
            "Requirement already satisfied: cycler>=0.10 in /usr/local/lib/python3.7/dist-packages (from matplotlib>=2.1->corner) (0.10.0)\n",
            "Requirement already satisfied: python-dateutil>=2.1 in /usr/local/lib/python3.7/dist-packages (from matplotlib>=2.1->corner) (2.8.2)\n",
            "Requirement already satisfied: pyparsing!=2.0.4,!=2.1.2,!=2.1.6,>=2.0.1 in /usr/local/lib/python3.7/dist-packages (from matplotlib>=2.1->corner) (2.4.7)\n",
            "Requirement already satisfied: six in /usr/local/lib/python3.7/dist-packages (from cycler>=0.10->matplotlib>=2.1->corner) (1.15.0)\n",
            "Installing collected packages: corner\n",
            "Successfully installed corner-2.2.1\n"
          ]
        }
      ]
    },
    {
      "cell_type": "code",
      "metadata": {
        "id": "AuSU4S-3VBTD",
        "colab": {
          "base_uri": "https://localhost:8080/"
        },
        "outputId": "3ca72491-267f-4d5b-ed20-60d4bedf4299"
      },
      "source": [
        "!ls"
      ],
      "execution_count": 16,
      "outputs": [
        {
          "output_type": "stream",
          "name": "stdout",
          "text": [
            "drive  file.txt  sample_data\n"
          ]
        }
      ]
    },
    {
      "cell_type": "code",
      "metadata": {
        "id": "mD257_HmBbT-"
      },
      "source": [
        "!echo \"nic\" > file.txt"
      ],
      "execution_count": 13,
      "outputs": []
    },
    {
      "cell_type": "code",
      "metadata": {
        "id": "_7DCE1HH3FA1"
      },
      "source": [
        "%matplotlib inline"
      ],
      "execution_count": null,
      "outputs": []
    },
    {
      "cell_type": "code",
      "metadata": {
        "colab": {
          "base_uri": "https://localhost:8080/"
        },
        "id": "tvKVWbPC_eO7",
        "outputId": "7873a163-563c-4799-83b0-060cf35f13ac"
      },
      "source": [
        "%pylab"
      ],
      "execution_count": 3,
      "outputs": [
        {
          "output_type": "stream",
          "name": "stdout",
          "text": [
            "Using matplotlib backend: agg\n",
            "Populating the interactive namespace from numpy and matplotlib\n"
          ]
        }
      ]
    },
    {
      "cell_type": "code",
      "metadata": {
        "id": "X61LmtuV_gdy"
      },
      "source": [
        "import time"
      ],
      "execution_count": 5,
      "outputs": []
    },
    {
      "cell_type": "code",
      "metadata": {
        "colab": {
          "base_uri": "https://localhost:8080/"
        },
        "id": "0bYb4aKd_oRD",
        "outputId": "b810aa81-fc50-4be5-d577-e55e0ce4e844"
      },
      "source": [
        "def fun():\n",
        "    time.sleep(3)\n",
        "    print(\"a\")\n",
        "    time.sleep(3)\n",
        "\n",
        "%time fun()"
      ],
      "execution_count": 20,
      "outputs": [
        {
          "output_type": "stream",
          "name": "stdout",
          "text": [
            "a\n",
            "CPU times: user 27.9 ms, sys: 3.67 ms, total: 31.6 ms\n",
            "Wall time: 6.01 s\n"
          ]
        }
      ]
    },
    {
      "cell_type": "code",
      "metadata": {
        "colab": {
          "base_uri": "https://localhost:8080/"
        },
        "id": "n4B78gbM_q-S",
        "outputId": "2d56f743-001b-4a23-ce07-0140f7562522"
      },
      "source": [
        "%timeit -r 10 time.sleep(1)"
      ],
      "execution_count": 21,
      "outputs": [
        {
          "output_type": "stream",
          "name": "stdout",
          "text": [
            "1 loop, best of 10: 1 s per loop\n"
          ]
        }
      ]
    },
    {
      "cell_type": "markdown",
      "metadata": {
        "id": "arYFWel9AeWm"
      },
      "source": [
        "### Heading\n",
        "#### Heading 2\n",
        "\n",
        "**bold**\n",
        "\n",
        "*italic*\n",
        "\n",
        "```\n",
        "code\n",
        "```\n",
        "\n",
        "```python\n",
        "from numpy import sin\n",
        "```\n",
        "\n",
        "[link](https://scikit-learn.org/)\n",
        "\n",
        "![](https://scikit-learn.org/stable/_static/scikit-learn-logo-small.png)\n",
        "\n",
        "\n",
        "> block\n",
        "\n",
        "\n",
        "\n",
        "1.   ordered list\n",
        "2.   ...\n",
        "\n",
        "\n",
        "\n",
        "*   unordered list\n",
        "*   ...\n",
        "\n",
        "---"
      ]
    },
    {
      "cell_type": "markdown",
      "metadata": {
        "id": "QKTnkxLbV1pv"
      },
      "source": [
        "```html\n",
        "<img src=\"https://scikit-learn.org/stable/_static/scikit-learn-logo-small.png\" height=\"150px\" align=\"right\">\n",
        "```\n",
        "\n",
        "<img src=\"https://scikit-learn.org/stable/_static/scikit-learn-logo-small.png\" height=\"100px\" align=\"right\">"
      ]
    },
    {
      "cell_type": "code",
      "metadata": {
        "id": "7-4pg3boVDZa",
        "colab": {
          "base_uri": "https://localhost:8080/"
        },
        "outputId": "5ec95b4d-e109-46cf-dbdd-499cc13e3c23"
      },
      "source": [
        "from google.colab import drive\n",
        "drive.mount('/content/drive')"
      ],
      "execution_count": 11,
      "outputs": [
        {
          "output_type": "stream",
          "name": "stdout",
          "text": [
            "Mounted at /content/drive\n"
          ]
        }
      ]
    },
    {
      "cell_type": "markdown",
      "metadata": {
        "id": "ArsFY3XpBsD6"
      },
      "source": [
        "## **Conda + Jupyterlab**"
      ]
    },
    {
      "cell_type": "code",
      "metadata": {
        "id": "KvQ6lmT-a569"
      },
      "source": [
        ""
      ],
      "execution_count": null,
      "outputs": []
    },
    {
      "cell_type": "code",
      "metadata": {
        "id": "cIdGP4eRv3Es"
      },
      "source": [
        ""
      ],
      "execution_count": null,
      "outputs": []
    },
    {
      "cell_type": "code",
      "metadata": {
        "id": "OEsliTN9v3IM"
      },
      "source": [
        ""
      ],
      "execution_count": null,
      "outputs": []
    },
    {
      "cell_type": "code",
      "metadata": {
        "id": "nQWMmgUMv3LP"
      },
      "source": [
        ""
      ],
      "execution_count": null,
      "outputs": []
    },
    {
      "cell_type": "code",
      "metadata": {
        "id": "rMOM9Skev3OD"
      },
      "source": [
        ""
      ],
      "execution_count": null,
      "outputs": []
    },
    {
      "cell_type": "code",
      "metadata": {
        "id": "brgCI-hkjf9d"
      },
      "source": [
        ""
      ],
      "execution_count": null,
      "outputs": []
    }
  ]
}