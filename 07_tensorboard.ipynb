{
 "cells": [
  {
   "cell_type": "markdown",
   "id": "b5fcf582-fa58-4ecb-88a6-b0df06d0b8e8",
   "metadata": {
    "id": "b5fcf582-fa58-4ecb-88a6-b0df06d0b8e8"
   },
   "source": [
    "# **Tensorboard and other callbacks**\n",
    "\n",
    "## **Callbacks**\n",
    "\n",
    "A callback is an object that can perform actions at various stages of training (end of epoch, start of batch, etc.).\n",
    "\n",
    "Callbacks can be used for:\n",
    "- periodically save model checkpoints to disk\n",
    "- do early stopping (e.g. when the model stops improving)\n",
    "- schedule the learning rate\n",
    "- get a view on internal states and statistics of a model during training\n",
    "- write logs after every batch of training to monitor your metrics\n",
    "- custom callbacks"
   ]
  },
  {
   "cell_type": "markdown",
   "id": "34b432ac-80f6-4f0b-adaa-452ffa72ae66",
   "metadata": {},
   "source": [
    "## **Tensorboard**\n",
    "![](https://drive.google.com/uc?export=view&id=1h2G9AD5IHXMj08ey16L8AUKiagXhW6nH)\n",
    "\n",
    "### **Tensorboard alternatives**\n",
    "\n",
    "- Weights & biases ([wandb](https://wandb.ai/site))\n",
    "- Neptune AI ([neptune](https://neptune.ai/))"
   ]
  },
  {
   "cell_type": "markdown",
   "id": "323250f9-fedc-4ba3-868a-3346cf8c681b",
   "metadata": {
    "id": "323250f9-fedc-4ba3-868a-3346cf8c681b"
   },
   "source": [
    "## **Library import**"
   ]
  },
  {
   "cell_type": "code",
   "execution_count": null,
   "id": "89cf3ce7-21d9-4f0f-b2b5-3ffe8a10e934",
   "metadata": {
    "id": "89cf3ce7-21d9-4f0f-b2b5-3ffe8a10e934",
    "tags": []
   },
   "outputs": [],
   "source": [
    "import numpy as np\n",
    "import matplotlib.pyplot as plt\n",
    "\n",
    "import tensorflow as tf\n",
    "from tensorflow.keras.models import Sequential\n",
    "from tensorflow.keras.layers import Dense, Flatten, Input, Dropout, Conv2D\n",
    "from tensorflow.keras.optimizers import Adam\n",
    "from tensorflow.keras.utils import plot_model\n",
    "from tensorflow.config.experimental import list_physical_devices"
   ]
  },
  {
   "cell_type": "code",
   "execution_count": null,
   "id": "3ebaaaec-e810-4b1d-b36e-7d529ea1814c",
   "metadata": {},
   "outputs": [],
   "source": [
    "gpus = list_physical_devices('GPU')\n",
    "print(len(gpus), \"Physical GPUs\")"
   ]
  },
  {
   "cell_type": "markdown",
   "id": "764ff2f3-ff54-4575-a15e-e0f6f727928b",
   "metadata": {
    "id": "764ff2f3-ff54-4575-a15e-e0f6f727928b"
   },
   "source": [
    "## **Data**"
   ]
  },
  {
   "cell_type": "code",
   "execution_count": null,
   "id": "e6c67645-d6de-4e8f-936b-af923abc7c59",
   "metadata": {
    "colab": {
     "base_uri": "https://localhost:8080/",
     "height": 463
    },
    "id": "e6c67645-d6de-4e8f-936b-af923abc7c59",
    "outputId": "21b38fcf-07dc-4b25-9f4b-0d1a3dbf5605",
    "tags": []
   },
   "outputs": [],
   "source": [
    "(X_train, y_train), (X_test, y_test) = tf.keras.datasets.mnist.load_data()\n",
    "\n",
    "X_val, X_test, y_val, y_test = X_test[:9000], X_test[9000:], y_test[:9000], y_test[9000:]\n",
    "\n",
    "# Image normalization\n",
    "X_train = X_train / 255\n",
    "X_val = X_val / 255\n",
    "X_test = X_test / 255\n",
    "\n",
    "plt.figure(figsize=(9,9))\n",
    "x = 1\n",
    "for i in range(5):\n",
    "    for j in range(5):\n",
    "        plt.subplot(5,5,x)\n",
    "        plt.title(f\"Label : {y_train[x]}\")\n",
    "        plt.imshow(X_train[x], cmap=\"gray\");\n",
    "        plt.axis(\"off\")\n",
    "        x += 1\n",
    "        \n",
    "X_train.shape"
   ]
  },
  {
   "cell_type": "markdown",
   "id": "bab04527-750f-422f-8200-ad0715ab08b2",
   "metadata": {
    "id": "bab04527-750f-422f-8200-ad0715ab08b2"
   },
   "source": [
    "## **Compile & Fit Model**"
   ]
  },
  {
   "cell_type": "markdown",
   "id": "f30735e4-0a03-4243-b715-045946a8f9bd",
   "metadata": {
    "id": "f30735e4-0a03-4243-b715-045946a8f9bd"
   },
   "source": [
    "### **No activation function**"
   ]
  },
  {
   "cell_type": "code",
   "execution_count": null,
   "id": "91b2c08f-75ba-4ffc-b561-0999be97bfe0",
   "metadata": {
    "colab": {
     "base_uri": "https://localhost:8080/",
     "height": 683
    },
    "id": "91b2c08f-75ba-4ffc-b561-0999be97bfe0",
    "outputId": "c990e3a0-4142-4ed7-9d9d-1991d5eaf176",
    "tags": []
   },
   "outputs": [],
   "source": [
    "model = Sequential()\n",
    "model.add(Input((28,28)))\n",
    "model.add(Flatten())\n",
    "model.add(Dense(32, activation=None))\n",
    "model.add(Dense(10, activation='softmax'))\n",
    "\n",
    "model.compile(optimizer=Adam(learning_rate=0.0005),\n",
    "              loss='sparse_categorical_crossentropy',\n",
    "              metrics=['sparse_categorical_accuracy'])\n",
    "\n",
    "model.summary()\n",
    "plot_model(model, show_shapes=True)"
   ]
  },
  {
   "cell_type": "code",
   "execution_count": null,
   "id": "a80f2758-a9f3-4b64-bbe9-a096c39903e2",
   "metadata": {
    "colab": {
     "base_uri": "https://localhost:8080/"
    },
    "id": "a80f2758-a9f3-4b64-bbe9-a096c39903e2",
    "outputId": "ab17ede9-d5f6-4a15-9355-c58734d0985c",
    "tags": []
   },
   "outputs": [],
   "source": [
    "history = model.fit(X_train, y_train,\n",
    "                    validation_data=(X_val, y_val),\n",
    "                    batch_size=32, epochs=10)"
   ]
  },
  {
   "cell_type": "code",
   "execution_count": null,
   "id": "9d67d4a5-f81d-4fbf-8123-189a1e477a57",
   "metadata": {
    "colab": {
     "base_uri": "https://localhost:8080/",
     "height": 265
    },
    "id": "9d67d4a5-f81d-4fbf-8123-189a1e477a57",
    "outputId": "c8f0797b-c69d-4610-e8ed-58a34d9acd7c",
    "tags": []
   },
   "outputs": [],
   "source": [
    "plt.figure(figsize=(11,4))\n",
    "\n",
    "plt.subplot(121)\n",
    "plt.plot(history.history['sparse_categorical_accuracy'])\n",
    "plt.plot(history.history['val_sparse_categorical_accuracy'])\n",
    "N = len(history.history['sparse_categorical_accuracy'])\n",
    "xticks, labels = np.arange(N), np.arange(1, N+1)\n",
    "plt.xticks(xticks, labels)\n",
    "plt.xlabel(\"Ecoch\")\n",
    "plt.ylabel(\"Accuracy [%]\")\n",
    "\n",
    "plt.subplot(122)\n",
    "plt.plot(history.history['loss'])\n",
    "plt.plot(history.history['val_loss'])\n",
    "plt.yscale(\"log\")\n",
    "plt.xticks(xticks, labels)\n",
    "plt.xlabel(\"Ecoch\")\n",
    "plt.ylabel(\"Loss function\");\n",
    "\n",
    "plt.subplots_adjust(wspace=0.3);"
   ]
  },
  {
   "cell_type": "markdown",
   "id": "80e333a7-6701-4749-bd69-b2a449f9ab7b",
   "metadata": {
    "id": "80e333a7-6701-4749-bd69-b2a449f9ab7b"
   },
   "source": [
    "### **Sigmoid activation**"
   ]
  },
  {
   "cell_type": "code",
   "execution_count": null,
   "id": "106291f8-c664-48fd-bf98-ba7230b4f153",
   "metadata": {
    "colab": {
     "base_uri": "https://localhost:8080/",
     "height": 683
    },
    "id": "106291f8-c664-48fd-bf98-ba7230b4f153",
    "outputId": "e52bb64c-67a6-497f-8eaa-048c611af7c0",
    "tags": []
   },
   "outputs": [],
   "source": [
    "model = Sequential()\n",
    "model.add(Input((28,28)))\n",
    "model.add(Flatten())\n",
    "model.add(Dense(32, activation='sigmoid'))\n",
    "model.add(Dense(10, activation='softmax'))\n",
    "\n",
    "model.compile(optimizer=Adam(learning_rate=0.0005),\n",
    "              loss='sparse_categorical_crossentropy',\n",
    "              metrics=['sparse_categorical_accuracy'])"
   ]
  },
  {
   "cell_type": "code",
   "execution_count": null,
   "id": "d0eb1d62-7190-44e9-9822-84d9e35b823a",
   "metadata": {
    "colab": {
     "base_uri": "https://localhost:8080/"
    },
    "id": "d0eb1d62-7190-44e9-9822-84d9e35b823a",
    "outputId": "77a72edd-7782-40a2-d993-96a278b064d3",
    "tags": []
   },
   "outputs": [],
   "source": [
    "history2 = model.fit(X_train, y_train, \n",
    "                    validation_data=(X_val, y_val),\n",
    "                    batch_size=32, epochs=10)"
   ]
  },
  {
   "cell_type": "code",
   "execution_count": null,
   "id": "982dd2b1-ac8e-4617-bbb2-f2d16484eb5a",
   "metadata": {
    "colab": {
     "base_uri": "https://localhost:8080/",
     "height": 265
    },
    "id": "982dd2b1-ac8e-4617-bbb2-f2d16484eb5a",
    "outputId": "d2e3a2c5-84ff-4364-ab6f-db00dcf32119",
    "tags": []
   },
   "outputs": [],
   "source": [
    "plt.figure(figsize=(11,4))\n",
    "\n",
    "plt.subplot(121)\n",
    "plt.plot(history2.history['sparse_categorical_accuracy'])\n",
    "plt.plot(history2.history['val_sparse_categorical_accuracy'])\n",
    "N = len(history2.history['sparse_categorical_accuracy'])\n",
    "xticks, labels = np.arange(N), np.arange(1, N+1)\n",
    "plt.xticks(xticks, labels)\n",
    "plt.xlabel(\"Ecoch\")\n",
    "plt.ylabel(\"Accuracy [%]\")\n",
    "\n",
    "plt.subplot(122)\n",
    "plt.plot(history2.history['loss'])\n",
    "plt.plot(history2.history['val_loss'])\n",
    "plt.yscale(\"log\")\n",
    "plt.xticks(xticks, labels)\n",
    "plt.xlabel(\"Ecoch\")\n",
    "plt.ylabel(\"Loss function\");\n",
    "\n",
    "plt.subplots_adjust(wspace=0.3);"
   ]
  },
  {
   "cell_type": "markdown",
   "id": "c93d5a5b-9d8a-482f-a33e-da30d756f360",
   "metadata": {},
   "source": [
    "### **ReLU activation**"
   ]
  },
  {
   "cell_type": "code",
   "execution_count": null,
   "id": "305da72e-f510-4ca1-b77c-8192cbf0405e",
   "metadata": {
    "tags": []
   },
   "outputs": [],
   "source": [
    "model = Sequential()\n",
    "model.add(Input((28,28)))\n",
    "model.add(Flatten())\n",
    "model.add(Dense(32, activation='relu'))\n",
    "model.add(Dense(10, activation='softmax'))\n",
    "\n",
    "model.compile(optimizer=Adam(learning_rate=0.0005),\n",
    "              loss='sparse_categorical_crossentropy',\n",
    "              metrics=['sparse_categorical_accuracy'])"
   ]
  },
  {
   "cell_type": "code",
   "execution_count": null,
   "id": "16259d16-ea73-4266-9cfe-2e9668235eae",
   "metadata": {
    "tags": []
   },
   "outputs": [],
   "source": [
    "history3 = model.fit(X_train, y_train, \n",
    "                    validation_data=(X_val, y_val),\n",
    "                    batch_size=32, epochs=10)"
   ]
  },
  {
   "cell_type": "code",
   "execution_count": null,
   "id": "5876e789-e4eb-418c-bdfd-7847da536f46",
   "metadata": {},
   "outputs": [],
   "source": [
    "plt.figure(figsize=(11,4))\n",
    "\n",
    "plt.subplot(121)\n",
    "plt.plot(history3.history['sparse_categorical_accuracy'])\n",
    "plt.plot(history3.history['val_sparse_categorical_accuracy'])\n",
    "N = len(history3.history['sparse_categorical_accuracy'])\n",
    "xticks, labels = np.arange(N), np.arange(1, N+1)\n",
    "plt.xticks(xticks, labels)\n",
    "plt.xlabel(\"Ecoch\")\n",
    "plt.ylabel(\"Accuracy [%]\")\n",
    "\n",
    "plt.subplot(122)\n",
    "plt.plot(history3.history['loss'])\n",
    "plt.plot(history3.history['val_loss'])\n",
    "plt.yscale(\"log\")\n",
    "plt.xticks(xticks, labels)\n",
    "plt.xlabel(\"Ecoch\")\n",
    "plt.ylabel(\"Loss function\");\n",
    "\n",
    "plt.subplots_adjust(wspace=0.3);"
   ]
  },
  {
   "cell_type": "markdown",
   "id": "1148f590-4f5a-4d6e-8338-b143e47d9aeb",
   "metadata": {
    "tags": []
   },
   "source": [
    "### **Custom activation function**\n",
    "\n",
    "Mish - Misra 2019 (https://arxiv.org/abs/1908.08681)\n",
    "\n",
    "Motivation: Activation function brings **non-linerity** into the network. Currently, **ReLU** is the most widely used activation function in hidden dense and convolutional layers. But it also has some caveats: derivative is a step function, and zero values can cause **dying ReLU problem**."
   ]
  },
  {
   "cell_type": "code",
   "execution_count": null,
   "id": "2d7899f7-1284-4098-8f84-1b05911913b1",
   "metadata": {
    "tags": []
   },
   "outputs": [],
   "source": [
    "from tensorflow.keras.layers import Activation\n",
    "from tensorflow.keras.utils import get_custom_objects\n",
    "\n",
    "# class Mish(Activation):\n",
    "#     def __init__(self, **kwargs):\n",
    "#         super().__init__(self.mish, **kwargs)\n",
    "#         self.__name__ = 'Mish'\n",
    "\n",
    "#     def mish(self, inputs):\n",
    "#         return inputs * tf.math.tanh(tf.math.softplus(inputs))\n",
    "\n",
    "# get_custom_objects().update({'Mish': Mish})\n",
    "\n",
    "def mish(inputs):\n",
    "    return inputs * tf.math.tanh(tf.math.softplus(inputs))\n",
    "\n",
    "get_custom_objects().update({'Mish': mish})"
   ]
  },
  {
   "cell_type": "code",
   "execution_count": null,
   "id": "e0ff9230-3ae6-4e28-a7b9-b6427f1417b1",
   "metadata": {
    "tags": []
   },
   "outputs": [],
   "source": [
    "x = np.linspace(-5, 5, 1000)\n",
    "\n",
    "plt.plot(x, x, label='Identity')\n",
    "\n",
    "y_sigmoid = 1 / (1 + np.exp(-x))\n",
    "plt.plot(x, y_sigmoid, label='Sigmoid')\n",
    "\n",
    "y_relu = np.maximum(0, x)\n",
    "plt.plot(x, y_relu, label='ReLU')\n",
    "\n",
    "y_mish = x * np.tanh(np.log(1 + np.exp(x)))\n",
    "plt.plot(x, y_mish, label='Mish')\n",
    "\n",
    "plt.legend()\n",
    "plt.xlabel('x')\n",
    "plt.ylabel('Activation')\n",
    "plt.title('Activation Functions')\n",
    "plt.grid()\n",
    "plt.show()"
   ]
  },
  {
   "cell_type": "code",
   "execution_count": null,
   "id": "ebdd4e22-54f8-40b4-9d8c-b494b4dc38e3",
   "metadata": {
    "tags": []
   },
   "outputs": [],
   "source": [
    "model = Sequential()\n",
    "model.add(Input((28,28)))\n",
    "model.add(Flatten())\n",
    "model.add(Dense(32, activation='Mish'))\n",
    "model.add(Dense(10, activation='softmax'))\n",
    "\n",
    "model.compile(optimizer=Adam(learning_rate=0.0005),\n",
    "              loss='sparse_categorical_crossentropy',\n",
    "              metrics=['sparse_categorical_accuracy'])"
   ]
  },
  {
   "cell_type": "code",
   "execution_count": null,
   "id": "f7ffe12a-ad13-42a5-801b-96e9306abb62",
   "metadata": {
    "tags": []
   },
   "outputs": [],
   "source": [
    "history4 = model.fit(X_train, y_train, \n",
    "                    validation_data=(X_val, y_val),\n",
    "                    batch_size=32, epochs=10)"
   ]
  },
  {
   "cell_type": "code",
   "execution_count": null,
   "id": "aac5ae02-d41f-4ed0-b63c-9904f8c3ee3c",
   "metadata": {
    "tags": []
   },
   "outputs": [],
   "source": [
    "plt.figure(figsize=(11,4))\n",
    "\n",
    "plt.subplot(121)\n",
    "plt.plot(history.history['val_sparse_categorical_accuracy'], label=\"none\")\n",
    "plt.plot(history2.history['val_sparse_categorical_accuracy'], label=\"Sigmoid\")\n",
    "plt.plot(history3.history['val_sparse_categorical_accuracy'], label=\"ReLU\")\n",
    "plt.plot(history4.history['val_sparse_categorical_accuracy'], label=\"Mish\")\n",
    "xticks, labels = np.arange(N), np.arange(1, N+1)\n",
    "plt.xticks(xticks, labels)\n",
    "plt.xlabel(\"Ecoch\")\n",
    "plt.ylabel(\"Accuracy [%]\")\n",
    "plt.legend()\n",
    "\n",
    "plt.subplot(122)\n",
    "plt.plot(history.history['val_loss'])\n",
    "plt.plot(history2.history['val_loss'])\n",
    "plt.plot(history3.history['val_loss'])\n",
    "plt.plot(history4.history['val_loss'])\n",
    "plt.yscale(\"log\")\n",
    "plt.xticks(xticks, labels)\n",
    "plt.xlabel(\"Ecoch\")\n",
    "plt.ylabel(\"Loss function\");\n",
    "\n",
    "plt.subplots_adjust(wspace=0.3);"
   ]
  },
  {
   "cell_type": "markdown",
   "id": "97a6cd18-67f9-457c-8d97-94be62afd8b4",
   "metadata": {
    "id": "97a6cd18-67f9-457c-8d97-94be62afd8b4"
   },
   "source": [
    "## **Tensorboard**"
   ]
  },
  {
   "cell_type": "markdown",
   "id": "ee2c1800-f5a7-4643-96d1-6f6df1ece996",
   "metadata": {
    "id": "ee2c1800-f5a7-4643-96d1-6f6df1ece996"
   },
   "source": [
    "https://www.tensorflow.org/tensorboard \\\n",
    "https://keras.io/api/callbacks/tensorboard/\n",
    "\n",
    "Inside Python code:\n",
    "```python\n",
    "callbacks = [TensorBoard(log_dir=\"logs/name\", update_freq=\"epoch\")]\n",
    "\n",
    "model.fit(X_train, y_train,\n",
    "          ...\n",
    "          callbacks=callbacks)\n",
    "```\n",
    "\n",
    "Command line:\n",
    "```\n",
    "tensorboard --logdir \"logs/\"\n",
    "```\n",
    "\n",
    "\n",
    "Tensorboard inline:\n",
    "```\n",
    "%load_ext tensorboard\n",
    "%tensorboard --logdir logs/\n",
    "```"
   ]
  },
  {
   "cell_type": "code",
   "execution_count": null,
   "id": "f45ce4c8-0cac-48a0-9e10-23dedc3bc85d",
   "metadata": {
    "id": "f45ce4c8-0cac-48a0-9e10-23dedc3bc85d",
    "tags": []
   },
   "outputs": [],
   "source": [
    "from tensorflow.keras.callbacks import TensorBoard"
   ]
  },
  {
   "cell_type": "code",
   "execution_count": null,
   "id": "b205f13a-d75a-42ef-bb40-fc38e1649bde",
   "metadata": {
    "scrolled": true,
    "tags": []
   },
   "outputs": [],
   "source": [
    "for activation in [None, \"sigmoid\", \"relu\", \"Mish\"]:\n",
    "    logdir = f\"logs/dense_32_{activation}\"\n",
    "    callbacks = [TensorBoard(log_dir=logdir, update_freq=\"epoch\")]\n",
    "    \n",
    "    model = Sequential()\n",
    "    model.add(Input((28,28)))\n",
    "    model.add(Flatten())\n",
    "    model.add(Dense(32, activation=activation))\n",
    "    model.add(Dense(10, activation='softmax'))\n",
    "    \n",
    "    model.compile(optimizer=Adam(learning_rate=0.0005),\n",
    "                  loss='sparse_categorical_crossentropy',\n",
    "                  metrics=['sparse_categorical_accuracy'])\n",
    "    \n",
    "    model.fit(X_train, y_train,\n",
    "              validation_data=(X_val, y_val),\n",
    "              batch_size=32, epochs=10,\n",
    "              callbacks=callbacks)\n",
    "    \n",
    "    _, score = model.evaluate(X_test, y_test)\n",
    "    \n",
    "    with tf.summary.create_file_writer(logdir+\"/test\").as_default():\n",
    "        tf.summary.scalar(\"epoch_sparse_categorical_accuracy\", score, step=10)"
   ]
  },
  {
   "cell_type": "markdown",
   "id": "fa1bea58-818d-4c2d-b310-93c127d248e0",
   "metadata": {},
   "source": [
    "## **Images**\n",
    "\n",
    "https://www.tensorflow.org/tensorboard/image_summaries"
   ]
  },
  {
   "cell_type": "code",
   "execution_count": null,
   "id": "f7a3107c-4e28-475c-9193-71568fc15c92",
   "metadata": {
    "tags": []
   },
   "outputs": [],
   "source": [
    "import io\n",
    "\n",
    "def plot(img, true, pred):\n",
    "    fig = plt.figure(figsize=(5,5))\n",
    "    plt.title(f\"true:{true} pred:{pred}\")\n",
    "    plt.axis(\"off\")\n",
    "    plt.imshow(img, cmap=plt.cm.binary)\n",
    "    return fig\n",
    "\n",
    "def plot_to_image(figure):\n",
    "    buf = io.BytesIO()\n",
    "    plt.savefig(buf, format='png')\n",
    "    plt.close(figure)\n",
    "    buf.seek(0)\n",
    "    image = tf.image.decode_png(buf.getvalue(), channels=4)\n",
    "    image = tf.expand_dims(image, 0)\n",
    "    return image"
   ]
  },
  {
   "cell_type": "code",
   "execution_count": null,
   "id": "b207faf4-711c-4652-866d-2016b0ba0942",
   "metadata": {
    "tags": []
   },
   "outputs": [],
   "source": [
    "logdir = \"logs/dense_32_relu/validation\"\n",
    "with tf.summary.create_file_writer(logdir).as_default():\n",
    "    for i in range(10):\n",
    "        img = X_test[i]\n",
    "        y_pred = model.predict(img.reshape(-1,28,28,1))\n",
    "        y_pred = np.argmax(y_pred)\n",
    "        \n",
    "        tf.summary.image(\"10 testing data examples\", \n",
    "                         plot_to_image(plot(img, y_test[i], y_pred)), max_outputs=25, step=i)"
   ]
  },
  {
   "cell_type": "markdown",
   "id": "5666f86c-0dcd-4f05-82b4-decb0ef57a6c",
   "metadata": {},
   "source": [
    "### **only wrong images**"
   ]
  },
  {
   "cell_type": "code",
   "execution_count": null,
   "id": "6cf618ec-ce73-4b60-81d8-aa51050282bb",
   "metadata": {
    "tags": []
   },
   "outputs": [],
   "source": [
    "y_pred = model.predict(X_test)\n",
    "y_pred = np.argmax(y_pred, axis=1)\n",
    "wrong = (y_pred == y_test) == False\n",
    "\n",
    "with tf.summary.create_file_writer(logdir).as_default():\n",
    "    for i in range(10):\n",
    "        img = X_test[wrong][i]\n",
    "        true = y_test[wrong][i]\n",
    "        pred = y_pred[wrong][i]\n",
    "        tf.summary.image(\"10 mistakenly classified images\", \n",
    "                         plot_to_image(plot(img, true, pred)), max_outputs=25, step=i)"
   ]
  },
  {
   "cell_type": "markdown",
   "id": "9364c4a8-2695-4eb8-9613-fe51a35af0cc",
   "metadata": {},
   "source": [
    "### **Confusion matrix**"
   ]
  },
  {
   "cell_type": "code",
   "execution_count": null,
   "id": "7e3d9c1c-7b39-47fc-867d-640bcfc87500",
   "metadata": {
    "tags": []
   },
   "outputs": [],
   "source": [
    "from matplotlib.colors import LogNorm\n",
    "from sklearn.metrics import confusion_matrix\n",
    "\n",
    "def plot_confusion_matrix(y_pred, y_test):\n",
    "    fig = plt.figure(figsize=(6,6))\n",
    "    cm = confusion_matrix(y_test, y_pred)\n",
    "    plt.imshow(cm+1, norm=LogNorm())\n",
    "\n",
    "    for i in range(10):\n",
    "        for j in range(10):\n",
    "            plt.text(j,i,cm[i,j], ha=\"center\", va=\"center\")\n",
    "\n",
    "    plt.xlabel(\"True label\")\n",
    "    plt.ylabel(\"Predicted label\")\n",
    "    plt.xticks(np.arange(10))\n",
    "    plt.yticks(np.arange(10))\n",
    "\n",
    "    return fig"
   ]
  },
  {
   "cell_type": "code",
   "execution_count": null,
   "id": "402986c2-cebd-42be-a59c-85f4545eddec",
   "metadata": {
    "tags": []
   },
   "outputs": [],
   "source": [
    "y_pred = model.predict(X_val)\n",
    "y_pred = np.argmax(y_pred, axis=1)\n",
    "\n",
    "plot_confusion_matrix(y_pred, y_val);"
   ]
  },
  {
   "cell_type": "code",
   "execution_count": null,
   "id": "3921da1b-5cbf-45cd-9680-61c295c0869c",
   "metadata": {
    "tags": []
   },
   "outputs": [],
   "source": [
    "with tf.summary.create_file_writer(logdir).as_default():\n",
    "    tf.summary.image(\"Confusion matrix\", plot_to_image(plot_confusion_matrix(y_pred, y_val)), step=0)"
   ]
  },
  {
   "cell_type": "markdown",
   "id": "fcb285eb-9dc3-4a66-a070-c37c2e925a0d",
   "metadata": {
    "id": "JZNY1x5uJ3W2",
    "tags": []
   },
   "source": [
    "## **LambdaCallback**"
   ]
  },
  {
   "cell_type": "code",
   "execution_count": null,
   "id": "330366b6-4642-4a07-abf5-d6ad11ecf6a7",
   "metadata": {
    "tags": []
   },
   "outputs": [],
   "source": [
    "from tensorflow.keras.callbacks import LambdaCallback"
   ]
  },
  {
   "cell_type": "code",
   "execution_count": null,
   "id": "a1364a43-bb6a-4773-9607-e0fdc8569425",
   "metadata": {
    "id": "a1364a43-bb6a-4773-9607-e0fdc8569425",
    "tags": []
   },
   "outputs": [],
   "source": [
    "def batchOutput(batch, logs):\n",
    "    tf.summary.scalar('batch_accuracy', data=logs['sparse_categorical_accuracy'], step=batch)\n",
    "    return batch\n",
    "\n",
    "callbacks = [TensorBoard(log_dir=\"logs/write_per_batch\", update_freq=\"batch\"),\n",
    "             LambdaCallback(on_batch_end=batchOutput,)]\n",
    "\n",
    "model = Sequential()\n",
    "model.add(Input((28,28)))\n",
    "model.add(Flatten())\n",
    "model.add(Dense(32, activation='relu'))\n",
    "model.add(Dense(10, activation='softmax'))\n",
    "\n",
    "model.compile(optimizer=Adam(learning_rate=0.001),\n",
    "              loss='sparse_categorical_crossentropy',\n",
    "              metrics=['sparse_categorical_accuracy'])\n",
    "\n",
    "model.fit(X_train, y_train,\n",
    "          validation_data=(X_val, y_val),\n",
    "          batch_size=32, epochs=1,\n",
    "          callbacks=callbacks)"
   ]
  },
  {
   "cell_type": "markdown",
   "id": "bd86ac4c-fc83-4fcd-a462-b0661763cb80",
   "metadata": {
    "id": "bd86ac4c-fc83-4fcd-a462-b0661763cb80",
    "tags": []
   },
   "source": [
    "## **Reduce learning rate**"
   ]
  },
  {
   "cell_type": "markdown",
   "id": "c4191537-2bf9-4f10-865b-26251aab6be2",
   "metadata": {
    "id": "c4191537-2bf9-4f10-865b-26251aab6be2"
   },
   "source": [
    "https://keras.io/api/callbacks/reduce_lr_on_plateau/\n",
    "\n",
    "https://www.tensorflow.org/api_docs/python/tf/keras/callbacks/ReduceLROnPlateau"
   ]
  },
  {
   "cell_type": "code",
   "execution_count": null,
   "id": "5dcf2801-39de-44b6-8722-11c3fe732d68",
   "metadata": {
    "id": "5dcf2801-39de-44b6-8722-11c3fe732d68",
    "tags": []
   },
   "outputs": [],
   "source": [
    "from tensorflow.keras.callbacks import ReduceLROnPlateau"
   ]
  },
  {
   "cell_type": "code",
   "execution_count": null,
   "id": "8974224b-c95d-40ae-9ffd-3ee3ea45f197",
   "metadata": {
    "id": "8974224b-c95d-40ae-9ffd-3ee3ea45f197",
    "outputId": "c76c442c-0d79-46e5-b971-985869b34ec2",
    "tags": []
   },
   "outputs": [],
   "source": [
    "callbacks = [TensorBoard(log_dir=\"logs/dense_128_relu\", update_freq=\"epoch\"),\n",
    "             ReduceLROnPlateau(monitor='val_loss', factor=0.2, patience=2,\n",
    "                               min_lr=0.0, verbose=1)]\n",
    "\n",
    "model = Sequential()\n",
    "model.add(Input((28,28)))\n",
    "model.add(Flatten())\n",
    "model.add(Dense(128, activation='relu'))\n",
    "model.add(Dense(10, activation='softmax'))\n",
    "\n",
    "model.compile(optimizer=Adam(learning_rate=0.0005),\n",
    "              loss='sparse_categorical_crossentropy',\n",
    "              metrics=['sparse_categorical_accuracy'])\n",
    "\n",
    "history = model.fit(X_train, y_train, \n",
    "                    validation_data=(X_val, y_val),\n",
    "                    batch_size=32, epochs=20,\n",
    "                    callbacks=callbacks)"
   ]
  },
  {
   "cell_type": "markdown",
   "id": "46b3fb4f-4e41-4e60-b60d-adde1e70954c",
   "metadata": {
    "id": "46b3fb4f-4e41-4e60-b60d-adde1e70954c"
   },
   "source": [
    "## **Tuning HyperParams**\n",
    "\n",
    "https://www.tensorflow.org/tensorboard/hyperparameter_tuning_with_hparams"
   ]
  },
  {
   "cell_type": "code",
   "execution_count": null,
   "id": "de1b2e9e-81b0-448e-bf3a-00f37bd3b1eb",
   "metadata": {
    "id": "de1b2e9e-81b0-448e-bf3a-00f37bd3b1eb",
    "tags": []
   },
   "outputs": [],
   "source": [
    "from tensorboard.plugins.hparams import api as hp\n",
    "\n",
    "neurons = hp.HParam('neurons', hp.Discrete([32, 64, 128]))\n",
    "activation = hp.HParam('activation', hp.Discrete([\"relu\", \"Mish\"]))\n",
    "learning_rate = hp.HParam('learning_rate', hp.Discrete([1e-3, 1e-4]))"
   ]
  },
  {
   "cell_type": "code",
   "execution_count": null,
   "id": "313d75aa-6cd2-4903-a4a3-68a738639d41",
   "metadata": {
    "id": "313d75aa-6cd2-4903-a4a3-68a738639d41",
    "tags": []
   },
   "outputs": [],
   "source": [
    "def get_model(neurons, activation, learning_rate):\n",
    "    model = Sequential()\n",
    "    model.add(Input((28,28)))\n",
    "    model.add(Flatten())\n",
    "    model.add(Dense(neurons, activation=activation))\n",
    "    model.add(Dense(10, activation='softmax'))\n",
    "    \n",
    "    model.compile(optimizer=Adam(learning_rate=learning_rate),\n",
    "                  loss='sparse_categorical_crossentropy',\n",
    "                  metrics=['sparse_categorical_accuracy'])\n",
    "    \n",
    "    return model\n",
    "\n",
    "def train_test_model(hparams):\n",
    "    model = get_model(hparams[neurons], hparams[activation], hparams[learning_rate])\n",
    "\n",
    "    name = \"hp_{0}_{1}_{2}\".format(hparams[neurons], hparams[activation], hparams[learning_rate])\n",
    "    logdir = \"logs/hparam_tuning/\" + name\n",
    "\n",
    "    callbacks = [TensorBoard(log_dir=logdir, update_freq=\"epoch\"),\n",
    "                 hp.KerasCallback(logdir, hparams)]\n",
    "    \n",
    "    model.fit(X_train, y_train,\n",
    "              validation_data=(X_val, y_val),\n",
    "              batch_size=64, epochs=10, \n",
    "              callbacks=callbacks)\n",
    "\n",
    "    _, accuracy = model.evaluate(X_test, y_test)\n",
    "    \n",
    "    with tf.summary.create_file_writer(logdir).as_default():\n",
    "        tf.summary.scalar(\"epoch_sparse_categorical_accuracy\", accuracy, step=10)"
   ]
  },
  {
   "cell_type": "code",
   "execution_count": null,
   "id": "9a487fad-bd6a-46b4-a51c-810e10fb2c08",
   "metadata": {
    "id": "9a487fad-bd6a-46b4-a51c-810e10fb2c08",
    "outputId": "0d89d000-12a0-4105-91e0-94e607e125bc",
    "scrolled": true,
    "tags": []
   },
   "outputs": [],
   "source": [
    "for N in neurons.domain.values:\n",
    "    for A in activation.domain.values:\n",
    "        for LR in learning_rate.domain.values:\n",
    "            hparams = {neurons : N,\n",
    "                       activation : A,\n",
    "                       learning_rate : LR}\n",
    "\n",
    "            print({h.name: hparams[h] for h in hparams})\n",
    "            train_test_model(hparams)"
   ]
  },
  {
   "cell_type": "markdown",
   "id": "uaEHJKejKEmq",
   "metadata": {
    "id": "uaEHJKejKEmq"
   },
   "source": [
    "### **Keras tuner**\n",
    "\n",
    "https://keras.io/keras_tuner/"
   ]
  },
  {
   "cell_type": "code",
   "execution_count": null,
   "id": "b0474312-8dfe-48af-abb7-923608ac605f",
   "metadata": {},
   "outputs": [],
   "source": [
    "#!pip install keras_tuner"
   ]
  },
  {
   "cell_type": "code",
   "execution_count": null,
   "id": "9347ad76-5309-456a-9d43-41f89516e02e",
   "metadata": {},
   "outputs": [],
   "source": [
    "import keras_tuner as kt"
   ]
  },
  {
   "cell_type": "code",
   "execution_count": null,
   "id": "acc32951-94d8-4edd-a757-f9291d806042",
   "metadata": {},
   "outputs": [],
   "source": [
    "def build_model(hp):\n",
    "    neurons = hp.Int('neurons', min_value=64, max_value=256, sampling=\"linear\")\n",
    "    lr = hp.Float('learning_rate', min_value=1e-4, max_value=1e-3, sampling=\"log\")\n",
    "    activation = hp.Choice('activation', [\"relu\", \"Mish\"])\n",
    "    \n",
    "    model = Sequential()\n",
    "    model.add(Input((28,28)))\n",
    "    model.add(Flatten())\n",
    "    model.add(Dense(neurons, activation=activation))\n",
    "    model.add(Dense(10, activation='softmax'))\n",
    "    \n",
    "    model.compile(optimizer=Adam(learning_rate=lr),\n",
    "                  loss='sparse_categorical_crossentropy',\n",
    "                  metrics=['sparse_categorical_accuracy'])\n",
    "\n",
    "    return model"
   ]
  },
  {
   "cell_type": "code",
   "execution_count": null,
   "id": "5128a95b-d55c-428d-956c-e3796a4a003c",
   "metadata": {},
   "outputs": [],
   "source": [
    "logdir = \"logs/keras_tuner\"\n",
    "callbacks = [TensorBoard(log_dir=logdir, update_freq=\"epoch\")]\n",
    "\n",
    "tuner = kt.BayesianOptimization(build_model, \n",
    "                                objective=kt.Objective(\"val_sparse_categorical_accuracy\", direction=\"max\"), \n",
    "                                max_trials=12,\n",
    "                                directory=logdir,\n",
    "                                overwrite=True)\n",
    "\n",
    "tuner.search(X_train, y_train, \n",
    "             validation_data=(X_val, y_val),\n",
    "             batch_size=64, epochs=10,\n",
    "             callbacks=callbacks)"
   ]
  },
  {
   "cell_type": "code",
   "execution_count": null,
   "id": "0601317a-4c39-420a-b46c-cad45c15472b",
   "metadata": {},
   "outputs": [],
   "source": [
    "best_model = tuner.get_best_models()[0]\n",
    "\n",
    "tuner.get_best_hyperparameters()[0].values"
   ]
  },
  {
   "cell_type": "code",
   "execution_count": null,
   "id": "e82455d7-17f9-4fba-87ea-9ce48c5bcbcf",
   "metadata": {},
   "outputs": [],
   "source": [
    "best_model.summary()"
   ]
  },
  {
   "cell_type": "markdown",
   "id": "60052cba-6618-4afa-a3f4-05c969444b2f",
   "metadata": {
    "id": "6e2441f6-df67-4746-9122-459f6ce280d7"
   },
   "source": [
    "## **Summary**\n",
    "\n",
    "- Custom activation function\n",
    "- Keras callbacks\n",
    "- Tensorboard\n",
    "- Custom callbacks\n",
    "- Tune hyperparameters\n",
    "- Autotuning"
   ]
  },
  {
   "cell_type": "code",
   "execution_count": null,
   "id": "aeb042b0-efab-4574-b1de-b00b0d45a6ba",
   "metadata": {},
   "outputs": [],
   "source": []
  },
  {
   "cell_type": "markdown",
   "id": "38eda590-c8f3-4a7a-8818-4e2e7e833ec5",
   "metadata": {},
   "source": [
    "## **Assignments**\n",
    "\n",
    "1) Try some convolutional neural network and tune its parameters\n",
    "```python\n",
    "model = Sequential()\n",
    "model.add(Input((28,28,1)))\n",
    "model.add(Conv2D(32, (2,2), padding=\"same\", activation='relu'))\n",
    "model.add(Flatten())\n",
    "model.add(Dense(10, activation='softmax'))\n",
    "```\n",
    "\n",
    "2) Try to implement a learning rate scheduler \n",
    "- https://keras.io/api/callbacks/learning_rate_scheduler/\n",
    "- try: linear decay, exponential decay"
   ]
  },
  {
   "cell_type": "code",
   "execution_count": null,
   "id": "91d247cc-9c68-49a1-8cb1-34ae2b0b20be",
   "metadata": {},
   "outputs": [],
   "source": []
  }
 ],
 "metadata": {
  "accelerator": "GPU",
  "colab": {
   "provenance": []
  },
  "gpuClass": "standard",
  "kernelspec": {
   "display_name": "Python 3 (ipykernel)",
   "language": "python",
   "name": "python3"
  },
  "language_info": {
   "codemirror_mode": {
    "name": "ipython",
    "version": 3
   },
   "file_extension": ".py",
   "mimetype": "text/x-python",
   "name": "python",
   "nbconvert_exporter": "python",
   "pygments_lexer": "ipython3",
   "version": "3.11.6"
  }
 },
 "nbformat": 4,
 "nbformat_minor": 5
}
