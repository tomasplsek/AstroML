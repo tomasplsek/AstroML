{
  "nbformat": 4,
  "nbformat_minor": 0,
  "metadata": {
    "colab": {
      "name": "Kopie sešitu 03_classification.ipynb",
      "provenance": [],
      "collapsed_sections": [],
      "toc_visible": true
    },
    "kernelspec": {
      "display_name": "Python 3",
      "language": "python",
      "name": "python3"
    },
    "language_info": {
      "codemirror_mode": {
        "name": "ipython",
        "version": 3
      },
      "file_extension": ".py",
      "mimetype": "text/x-python",
      "name": "python",
      "nbconvert_exporter": "python",
      "pygments_lexer": "ipython3",
      "version": "3.8.10"
    },
    "toc-autonumbering": false
  },
  "cells": [
    {
      "cell_type": "markdown",
      "metadata": {
        "id": "w5pcm7J6fqxK"
      },
      "source": [
        "# 3. hands-on session: **Classification problem: from *Data* to *Inference***"
      ]
    },
    {
      "cell_type": "markdown",
      "metadata": {
        "id": "qXE0gT_O3l-l"
      },
      "source": [
        "## **Contents**\n",
        "\n",
        "1. Preprocess the data\n",
        "1. Select features & reduce dimensions\n",
        "1. Closs-validate\n",
        "1. Find best hyperparameters\n",
        "1. Compare classifiers\n",
        "1. Combine classifiers\n",
        "1. Evaluate performance\n",
        "1. Predict"
      ]
    },
    {
      "cell_type": "code",
      "metadata": {
        "id": "ZCF_HPrGAIMK",
        "colab": {
          "base_uri": "https://localhost:8080/",
          "height": 349
        },
        "outputId": "5f898003-15b4-4856-9cc6-66f8d74017a0"
      },
      "source": [
        "import numpy as np\n",
        "import pandas as pd\n",
        "import matplotlib.pyplot as plt"
      ],
      "execution_count": 1,
      "outputs": [
        {
          "output_type": "error",
          "ename": "KeyboardInterrupt",
          "evalue": "ignored",
          "traceback": [
            "\u001b[0;31m---------------------------------------------------------------------------\u001b[0m",
            "\u001b[0;31mKeyboardInterrupt\u001b[0m                         Traceback (most recent call last)",
            "\u001b[0;32m<ipython-input-1-fa18575525b6>\u001b[0m in \u001b[0;36m<module>\u001b[0;34m\u001b[0m\n\u001b[1;32m      1\u001b[0m \u001b[0;32mimport\u001b[0m \u001b[0mnumpy\u001b[0m \u001b[0;32mas\u001b[0m \u001b[0mnp\u001b[0m\u001b[0;34m\u001b[0m\u001b[0;34m\u001b[0m\u001b[0m\n\u001b[0;32m----> 2\u001b[0;31m \u001b[0;32mimport\u001b[0m \u001b[0mpandas\u001b[0m \u001b[0;32mas\u001b[0m \u001b[0mpd\u001b[0m\u001b[0;34m\u001b[0m\u001b[0;34m\u001b[0m\u001b[0m\n\u001b[0m\u001b[1;32m      3\u001b[0m \u001b[0;32mimport\u001b[0m \u001b[0mmatplotlib\u001b[0m\u001b[0;34m.\u001b[0m\u001b[0mpyplot\u001b[0m \u001b[0;32mas\u001b[0m \u001b[0mplt\u001b[0m\u001b[0;34m\u001b[0m\u001b[0;34m\u001b[0m\u001b[0m\n",
            "\u001b[0;32m/usr/local/lib/python3.7/dist-packages/pandas/__init__.py\u001b[0m in \u001b[0;36m<module>\u001b[0;34m\u001b[0m\n\u001b[1;32m     20\u001b[0m \u001b[0;34m\u001b[0m\u001b[0m\n\u001b[1;32m     21\u001b[0m \u001b[0;31m# numpy compat\u001b[0m\u001b[0;34m\u001b[0m\u001b[0;34m\u001b[0m\u001b[0;34m\u001b[0m\u001b[0m\n\u001b[0;32m---> 22\u001b[0;31m from pandas.compat import (\n\u001b[0m\u001b[1;32m     23\u001b[0m     \u001b[0mnp_version_under1p18\u001b[0m \u001b[0;32mas\u001b[0m \u001b[0m_np_version_under1p18\u001b[0m\u001b[0;34m,\u001b[0m\u001b[0;34m\u001b[0m\u001b[0;34m\u001b[0m\u001b[0m\n\u001b[1;32m     24\u001b[0m     \u001b[0mis_numpy_dev\u001b[0m \u001b[0;32mas\u001b[0m \u001b[0m_is_numpy_dev\u001b[0m\u001b[0;34m,\u001b[0m\u001b[0;34m\u001b[0m\u001b[0;34m\u001b[0m\u001b[0m\n",
            "\u001b[0;32m/usr/local/lib/python3.7/dist-packages/pandas/compat/__init__.py\u001b[0m in \u001b[0;36m<module>\u001b[0;34m\u001b[0m\n\u001b[1;32m     21\u001b[0m     \u001b[0mnp_version_under1p20\u001b[0m\u001b[0;34m,\u001b[0m\u001b[0;34m\u001b[0m\u001b[0;34m\u001b[0m\u001b[0m\n\u001b[1;32m     22\u001b[0m )\n\u001b[0;32m---> 23\u001b[0;31m from pandas.compat.pyarrow import (\n\u001b[0m\u001b[1;32m     24\u001b[0m     \u001b[0mpa_version_under1p0\u001b[0m\u001b[0;34m,\u001b[0m\u001b[0;34m\u001b[0m\u001b[0;34m\u001b[0m\u001b[0m\n\u001b[1;32m     25\u001b[0m     \u001b[0mpa_version_under2p0\u001b[0m\u001b[0;34m,\u001b[0m\u001b[0;34m\u001b[0m\u001b[0;34m\u001b[0m\u001b[0m\n",
            "\u001b[0;32m/usr/local/lib/python3.7/dist-packages/pandas/compat/pyarrow.py\u001b[0m in \u001b[0;36m<module>\u001b[0;34m\u001b[0m\n\u001b[1;32m      4\u001b[0m \u001b[0;34m\u001b[0m\u001b[0m\n\u001b[1;32m      5\u001b[0m \u001b[0;32mtry\u001b[0m\u001b[0;34m:\u001b[0m\u001b[0;34m\u001b[0m\u001b[0;34m\u001b[0m\u001b[0m\n\u001b[0;32m----> 6\u001b[0;31m     \u001b[0;32mimport\u001b[0m \u001b[0mpyarrow\u001b[0m \u001b[0;32mas\u001b[0m \u001b[0mpa\u001b[0m\u001b[0;34m\u001b[0m\u001b[0;34m\u001b[0m\u001b[0m\n\u001b[0m\u001b[1;32m      7\u001b[0m \u001b[0;34m\u001b[0m\u001b[0m\n\u001b[1;32m      8\u001b[0m     \u001b[0m_pa_version\u001b[0m \u001b[0;34m=\u001b[0m \u001b[0mpa\u001b[0m\u001b[0;34m.\u001b[0m\u001b[0m__version__\u001b[0m\u001b[0;34m\u001b[0m\u001b[0;34m\u001b[0m\u001b[0m\n",
            "\u001b[0;32m/usr/local/lib/python3.7/dist-packages/pyarrow/__init__.py\u001b[0m in \u001b[0;36m<module>\u001b[0;34m\u001b[0m\n\u001b[1;32m     61\u001b[0m \u001b[0m_gc_enabled\u001b[0m \u001b[0;34m=\u001b[0m \u001b[0m_gc\u001b[0m\u001b[0;34m.\u001b[0m\u001b[0misenabled\u001b[0m\u001b[0;34m(\u001b[0m\u001b[0;34m)\u001b[0m\u001b[0;34m\u001b[0m\u001b[0;34m\u001b[0m\u001b[0m\n\u001b[1;32m     62\u001b[0m \u001b[0m_gc\u001b[0m\u001b[0;34m.\u001b[0m\u001b[0mdisable\u001b[0m\u001b[0;34m(\u001b[0m\u001b[0;34m)\u001b[0m\u001b[0;34m\u001b[0m\u001b[0;34m\u001b[0m\u001b[0m\n\u001b[0;32m---> 63\u001b[0;31m \u001b[0;32mimport\u001b[0m \u001b[0mpyarrow\u001b[0m\u001b[0;34m.\u001b[0m\u001b[0mlib\u001b[0m \u001b[0;32mas\u001b[0m \u001b[0m_lib\u001b[0m\u001b[0;34m\u001b[0m\u001b[0;34m\u001b[0m\u001b[0m\n\u001b[0m\u001b[1;32m     64\u001b[0m \u001b[0;32mif\u001b[0m \u001b[0m_gc_enabled\u001b[0m\u001b[0;34m:\u001b[0m\u001b[0;34m\u001b[0m\u001b[0;34m\u001b[0m\u001b[0m\n\u001b[1;32m     65\u001b[0m     \u001b[0m_gc\u001b[0m\u001b[0;34m.\u001b[0m\u001b[0menable\u001b[0m\u001b[0;34m(\u001b[0m\u001b[0;34m)\u001b[0m\u001b[0;34m\u001b[0m\u001b[0;34m\u001b[0m\u001b[0m\n",
            "\u001b[0;32m/usr/local/lib/python3.7/dist-packages/pyarrow/compat.pxi\u001b[0m in \u001b[0;36minit pyarrow.lib\u001b[0;34m()\u001b[0m\n",
            "\u001b[0;32m/usr/local/lib/python3.7/dist-packages/cloudpickle/__init__.py\u001b[0m in \u001b[0;36m<module>\u001b[0;34m\u001b[0m\n\u001b[1;32m      3\u001b[0m \u001b[0;34m\u001b[0m\u001b[0m\n\u001b[1;32m      4\u001b[0m \u001b[0;32mfrom\u001b[0m \u001b[0mcloudpickle\u001b[0m\u001b[0;34m.\u001b[0m\u001b[0mcloudpickle\u001b[0m \u001b[0;32mimport\u001b[0m \u001b[0;34m*\u001b[0m  \u001b[0;31m# noqa\u001b[0m\u001b[0;34m\u001b[0m\u001b[0;34m\u001b[0m\u001b[0m\n\u001b[0;32m----> 5\u001b[0;31m \u001b[0;32mfrom\u001b[0m \u001b[0mcloudpickle\u001b[0m\u001b[0;34m.\u001b[0m\u001b[0mcloudpickle_fast\u001b[0m \u001b[0;32mimport\u001b[0m \u001b[0mCloudPickler\u001b[0m\u001b[0;34m,\u001b[0m \u001b[0mdumps\u001b[0m\u001b[0;34m,\u001b[0m \u001b[0mdump\u001b[0m  \u001b[0;31m# noqa\u001b[0m\u001b[0;34m\u001b[0m\u001b[0;34m\u001b[0m\u001b[0m\n\u001b[0m\u001b[1;32m      6\u001b[0m \u001b[0;34m\u001b[0m\u001b[0m\n\u001b[1;32m      7\u001b[0m \u001b[0m__version__\u001b[0m \u001b[0;34m=\u001b[0m \u001b[0;34m'1.5.0'\u001b[0m\u001b[0;34m\u001b[0m\u001b[0;34m\u001b[0m\u001b[0m\n",
            "\u001b[0;32m/usr/local/lib/python3.7/dist-packages/cloudpickle/cloudpickle_fast.py\u001b[0m in \u001b[0;36m<module>\u001b[0;34m\u001b[0m\n\u001b[1;32m    456\u001b[0m \u001b[0;34m\u001b[0m\u001b[0m\n\u001b[1;32m    457\u001b[0m \u001b[0;34m\u001b[0m\u001b[0m\n\u001b[0;32m--> 458\u001b[0;31m \u001b[0;32mclass\u001b[0m \u001b[0mCloudPickler\u001b[0m\u001b[0;34m(\u001b[0m\u001b[0mPickler\u001b[0m\u001b[0;34m)\u001b[0m\u001b[0;34m:\u001b[0m\u001b[0;34m\u001b[0m\u001b[0;34m\u001b[0m\u001b[0m\n\u001b[0m\u001b[1;32m    459\u001b[0m     \u001b[0;31m# set of reducers defined and used by cloudpickle (private)\u001b[0m\u001b[0;34m\u001b[0m\u001b[0;34m\u001b[0m\u001b[0;34m\u001b[0m\u001b[0m\n\u001b[1;32m    460\u001b[0m     \u001b[0m_dispatch_table\u001b[0m \u001b[0;34m=\u001b[0m \u001b[0;34m{\u001b[0m\u001b[0;34m}\u001b[0m\u001b[0;34m\u001b[0m\u001b[0;34m\u001b[0m\u001b[0m\n",
            "\u001b[0;32m/usr/local/lib/python3.7/dist-packages/cloudpickle/cloudpickle_fast.py\u001b[0m in \u001b[0;36mCloudPickler\u001b[0;34m()\u001b[0m\n\u001b[1;32m    472\u001b[0m     \u001b[0m_dispatch_table\u001b[0m\u001b[0;34m[\u001b[0m\u001b[0mtypes\u001b[0m\u001b[0;34m.\u001b[0m\u001b[0mMethodType\u001b[0m\u001b[0;34m]\u001b[0m \u001b[0;34m=\u001b[0m \u001b[0m_method_reduce\u001b[0m\u001b[0;34m\u001b[0m\u001b[0;34m\u001b[0m\u001b[0m\n\u001b[1;32m    473\u001b[0m     \u001b[0m_dispatch_table\u001b[0m\u001b[0;34m[\u001b[0m\u001b[0mtypes\u001b[0m\u001b[0;34m.\u001b[0m\u001b[0mMappingProxyType\u001b[0m\u001b[0;34m]\u001b[0m \u001b[0;34m=\u001b[0m \u001b[0m_mappingproxy_reduce\u001b[0m\u001b[0;34m\u001b[0m\u001b[0;34m\u001b[0m\u001b[0m\n\u001b[0;32m--> 474\u001b[0;31m     \u001b[0m_dispatch_table\u001b[0m\u001b[0;34m[\u001b[0m\u001b[0mweakref\u001b[0m\u001b[0;34m.\u001b[0m\u001b[0mWeakSet\u001b[0m\u001b[0;34m]\u001b[0m \u001b[0;34m=\u001b[0m \u001b[0m_weakset_reduce\u001b[0m\u001b[0;34m\u001b[0m\u001b[0;34m\u001b[0m\u001b[0m\n\u001b[0m\u001b[1;32m    475\u001b[0m     \u001b[0m_dispatch_table\u001b[0m\u001b[0;34m[\u001b[0m\u001b[0mtyping\u001b[0m\u001b[0;34m.\u001b[0m\u001b[0mTypeVar\u001b[0m\u001b[0;34m]\u001b[0m \u001b[0;34m=\u001b[0m \u001b[0m_typevar_reduce\u001b[0m\u001b[0;34m\u001b[0m\u001b[0;34m\u001b[0m\u001b[0m\n\u001b[1;32m    476\u001b[0m \u001b[0;34m\u001b[0m\u001b[0m\n",
            "\u001b[0;31mKeyboardInterrupt\u001b[0m: "
          ]
        }
      ]
    },
    {
      "cell_type": "code",
      "metadata": {
        "id": "FBEQmIMCTq06"
      },
      "source": [
        "!pip install corner\n",
        "import corner"
      ],
      "execution_count": null,
      "outputs": []
    },
    {
      "cell_type": "markdown",
      "metadata": {
        "id": "nIMmT6-DCEYC"
      },
      "source": [
        "## **Our dataset**\n",
        "\n",
        "SDSS data of point sources: stars vs Quasi-stellar objects"
      ]
    },
    {
      "cell_type": "markdown",
      "metadata": {
        "id": "Hc23Ez28VGGe"
      },
      "source": [
        "<img src=\"https://cdn.mos.cms.futurecdn.net/HgaCHZDNppE6e52yeDACo6-970-80.jpg.webp\" height=200>\n",
        "\n",
        "<img src=\"https://earthsky.org/upl/2021/01/supermassive-black-hole-artist-e1610556964639.jpg\" height=200 align=right>\n",
        "\n"
      ]
    },
    {
      "cell_type": "code",
      "metadata": {
        "id": "kjK_BVs1CDh9"
      },
      "source": [
        "!wget -c \"https://drive.google.com/uc?id=1IoQfGFo13ZP2wTyp-xvzQvguPYhE8TWB\" -O \"sdss_photo.csv\""
      ],
      "execution_count": null,
      "outputs": []
    },
    {
      "cell_type": "code",
      "metadata": {
        "id": "Pqhbn1Ht58EC"
      },
      "source": [
        "data = pd.read_csv(\"sdss_photo.csv\")"
      ],
      "execution_count": null,
      "outputs": []
    },
    {
      "cell_type": "markdown",
      "metadata": {
        "id": "jWeG6dFa0x77"
      },
      "source": [
        "## **Data preprocessing**"
      ]
    },
    {
      "cell_type": "code",
      "metadata": {
        "id": "DyEbvboDoe02"
      },
      "source": [
        "data"
      ],
      "execution_count": null,
      "outputs": []
    },
    {
      "cell_type": "code",
      "metadata": {
        "id": "1Xj0KTG6oe5c"
      },
      "source": [
        "data.describe().round(2)"
      ],
      "execution_count": null,
      "outputs": []
    },
    {
      "cell_type": "code",
      "metadata": {
        "id": "ZVLpF-z3hmxk"
      },
      "source": [
        "sum(data.target== \"star\"), sum(data.target == \"QSO\")"
      ],
      "execution_count": null,
      "outputs": []
    },
    {
      "cell_type": "code",
      "source": [
        "cols = data.columns\n",
        "fig = corner.corner(data[cols[0:5]][data.target == \"star\"], color=\"C0\")\n",
        "corner.corner(data[cols[0:5]][data.target == \"QSO\"], fig=fig, color=\"C1\");"
      ],
      "metadata": {
        "id": "yJCKq-V3Xqv5"
      },
      "execution_count": null,
      "outputs": []
    },
    {
      "cell_type": "markdown",
      "metadata": {
        "id": "6iO4-7kC79Kz"
      },
      "source": [
        "### task 1: **create `X` and `y`**\n",
        "\n",
        "```python\n",
        "data[[\"u\",\"g\",\"r\",\"i\",\"z\"]] -> X\n",
        "data.target -> y\n",
        "\"QSO\" -> 0\n",
        "\"star\" -> 1\n",
        "```\n",
        "\n",
        "hint: you can use [LabelEncoder()](https://scikit-learn.org/stable/modules/generated/sklearn.preprocessing.LabelEncoder.html)\n"
      ]
    },
    {
      "cell_type": "code",
      "metadata": {
        "id": "mTSxvZPF77kZ"
      },
      "source": [
        "X = data[[\"u\",\"g\",\"r\",\"i\",\"z\"]]\n",
        "X"
      ],
      "execution_count": null,
      "outputs": []
    },
    {
      "cell_type": "code",
      "metadata": {
        "id": "wdjrBi_U8ilA"
      },
      "source": [
        "y = np.array(data.target == \"star\").astype(int)\n",
        "y"
      ],
      "execution_count": null,
      "outputs": []
    },
    {
      "cell_type": "code",
      "metadata": {
        "id": "3shTgaecWYO5"
      },
      "source": [
        "from sklearn.preprocessing import LabelEncoder\n",
        "\n",
        "le = LabelEncoder()\n",
        "# le.fit(data.target)\n",
        "# y = le.transform(data.target)\n",
        "y = le.fit_transform(data.target)\n",
        "y"
      ],
      "execution_count": null,
      "outputs": []
    },
    {
      "cell_type": "code",
      "source": [
        "le.inverse_transform([0,1])"
      ],
      "metadata": {
        "id": "-HZSY2BqRFLI"
      },
      "execution_count": null,
      "outputs": []
    },
    {
      "cell_type": "markdown",
      "metadata": {
        "id": "seZZJbZ0A7dk"
      },
      "source": [
        "### task 2: **classify with Decision tree & test accuracy**"
      ]
    },
    {
      "cell_type": "code",
      "metadata": {
        "id": "1TLjQ7rHWeRM"
      },
      "source": [
        "# from sklearn.tree import DecisionTreeClassifier\n",
        "from sklearn.svm import SVC\n",
        "from sklearn.model_selection import train_test_split"
      ],
      "execution_count": null,
      "outputs": []
    },
    {
      "cell_type": "code",
      "metadata": {
        "id": "3R9OArBLAefy"
      },
      "source": [
        "# model = DecisionTreeClassifier(random_state=420)\n",
        "model = SVC(kernel=\"linear\")\n",
        "\n",
        "X_train, X_test, y_train, y_test = train_test_split(X, y, stratify=y, random_state=420)"
      ],
      "execution_count": null,
      "outputs": []
    },
    {
      "cell_type": "code",
      "metadata": {
        "id": "-6b4RklvAsmm"
      },
      "source": [
        "model.fit(X_train, y_train)"
      ],
      "execution_count": null,
      "outputs": []
    },
    {
      "cell_type": "code",
      "metadata": {
        "id": "RLPt5jOwB2eQ"
      },
      "source": [
        "y_pred = model.predict(X_test)\n",
        "sum(y_pred == y_test) / len(y_pred)"
      ],
      "execution_count": null,
      "outputs": []
    },
    {
      "cell_type": "code",
      "metadata": {
        "id": "nfBlkYhcBKAK"
      },
      "source": [
        "model.score(X_test, y_test)"
      ],
      "execution_count": null,
      "outputs": []
    },
    {
      "cell_type": "markdown",
      "metadata": {
        "id": "l3wPRpSa-0S0"
      },
      "source": [
        "### task 3: **rescale the data -> `X_scaled` & test score**\n",
        "\n",
        "hint:\\\n",
        "you can use [`StandardScaler()`](https://scikit-learn.org/stable/modules/generated/sklearn.preprocessing.StandardScaler.html)\\\n",
        "`X_scaled = X.copy()`"
      ]
    },
    {
      "cell_type": "code",
      "metadata": {
        "id": "GCbc-uPr--Y7"
      },
      "source": [
        "X_scaled = X.copy()\n",
        "for col in X.columns:\n",
        "    X_scaled[col] = (X[col] - np.mean(X[col])) / np.std(X[col])"
      ],
      "execution_count": null,
      "outputs": []
    },
    {
      "cell_type": "code",
      "metadata": {
        "id": "A_k473pY_S-t"
      },
      "source": [
        "X_scaled.describe().round(2)"
      ],
      "execution_count": null,
      "outputs": []
    },
    {
      "cell_type": "code",
      "metadata": {
        "id": "CWBDavYmVNdp"
      },
      "source": [
        "from sklearn.preprocessing import StandardScaler\n",
        "\n",
        "X_scaled = StandardScaler().fit_transform(X)\n",
        "X_scaled = pd.DataFrame(data=X_scaled, columns=X.columns)\n",
        "X_scaled.describe().round(2)"
      ],
      "execution_count": null,
      "outputs": []
    },
    {
      "cell_type": "code",
      "source": [
        "X_train, X_test, y_train, y_test = train_test_split(X_scaled, y, stratify=y, random_state=420)\n",
        "\n",
        "model.fit(X_train, y_train)\n",
        "\n",
        "model.score(X_test, y_test)"
      ],
      "metadata": {
        "id": "wj0TDjj21qqA"
      },
      "execution_count": null,
      "outputs": []
    },
    {
      "cell_type": "code",
      "metadata": {
        "id": "sR86rx_BVNgT"
      },
      "source": [
        "from sklearn.pipeline import make_pipeline\n",
        "\n",
        "X_train, X_test, y_train, y_test = train_test_split(X, y, stratify=y, random_state=420)\n",
        "\n",
        "model = make_pipeline(StandardScaler(),\n",
        "                      SVC(kernel=\"linear\"))\n",
        "                      #DecisionTreeClassifier(random_state=420))\n",
        "\n",
        "model.fit(X_train, y_train)\n",
        "\n",
        "model.score(X_test, y_test)"
      ],
      "execution_count": null,
      "outputs": []
    },
    {
      "cell_type": "markdown",
      "metadata": {
        "id": "4uNyaEwaTLas"
      },
      "source": [
        "## **Feature selection & dimensionality reduction**"
      ]
    },
    {
      "cell_type": "code",
      "metadata": {
        "id": "r5MWCPJSq0vE"
      },
      "source": [
        "from sklearn.ensemble import ExtraTreesClassifier"
      ],
      "execution_count": null,
      "outputs": []
    },
    {
      "cell_type": "code",
      "metadata": {
        "id": "o3r_-qzCq03O"
      },
      "source": [
        "clf = ExtraTreesClassifier(random_state=420).fit(X,y)\n",
        "clf.feature_importances_"
      ],
      "execution_count": null,
      "outputs": []
    },
    {
      "cell_type": "code",
      "metadata": {
        "id": "SLpvL6JS43Ls"
      },
      "source": [
        "plt.bar(np.arange(5), clf.feature_importances_, 0.5)\n",
        "plt.xticks(np.arange(5), X.columns);"
      ],
      "execution_count": null,
      "outputs": []
    },
    {
      "cell_type": "markdown",
      "metadata": {
        "id": "9E7QvHcTbYcm"
      },
      "source": [
        "#### task 4: **calculate spectral indices & test importance**\n",
        "\n",
        "hint:\n",
        "`X_new = X.copy()`\n",
        "\n"
      ]
    },
    {
      "cell_type": "code",
      "metadata": {
        "id": "MZfoAJA1rmRz"
      },
      "source": [
        "X_new = X.copy()\n",
        "X_new[\"u-g\"] = X.u - X.g\n",
        "X_new[\"u-r\"] = X.u - X.r\n",
        "X_new[\"u-z\"] = X.u - X.z\n",
        "X_new[\"i-z\"] = X.i - X.z\n",
        "\n",
        "X_new"
      ],
      "execution_count": null,
      "outputs": []
    },
    {
      "cell_type": "code",
      "metadata": {
        "id": "Nj0_n3aJrmUs"
      },
      "source": [
        "clf = ExtraTreesClassifier(random_state=42).fit(X_new,y)\n",
        "plt.bar(np.arange(9), clf.feature_importances_, 0.5)\n",
        "plt.xticks(np.arange(9), X_new.columns);"
      ],
      "execution_count": null,
      "outputs": []
    },
    {
      "cell_type": "markdown",
      "metadata": {
        "id": "7Vsu9gRdl8ba"
      },
      "source": [
        "#### task 5: **test score if only *u-r* or *i-z* spectral indices are used**\n",
        "\n",
        "hint: for single columns use `X_new[[\"u-r\"]]`"
      ]
    },
    {
      "cell_type": "code",
      "metadata": {
        "id": "-Z3PTCanGYKf"
      },
      "source": [
        "X_train, X_test, y_train, y_test = train_test_split(X_new[[\"u-r\"]], y, stratify=y, random_state=420)\n",
        "\n",
        "model.fit(X_train, y_train)\n",
        "\n",
        "model.score(X_test, y_test)"
      ],
      "execution_count": null,
      "outputs": []
    },
    {
      "cell_type": "code",
      "source": [
        "X_train, X_test, y_train, y_test = train_test_split(X_new[[\"i-z\"]], y, stratify=y, random_state=420)\n",
        "\n",
        "model.fit(X_train, y_train)\n",
        "\n",
        "model.score(X_test, y_test)"
      ],
      "metadata": {
        "id": "DZN5ZHDB2lda"
      },
      "execution_count": null,
      "outputs": []
    },
    {
      "cell_type": "markdown",
      "metadata": {
        "id": "1ud7hKL_GYKe"
      },
      "source": [
        "#### task 6: **create dummy column & test importance**\n",
        "\n",
        "hint:\n",
        "```\n",
        "X_new2 = X.copy()\n",
        "X_new2[\"dummy\"] = np.random.randint(10, size=X.r.size)\n",
        "```"
      ]
    },
    {
      "cell_type": "code",
      "metadata": {
        "id": "yjkNN6d4SuYn"
      },
      "source": [
        "X_new2 = X.copy()\n",
        "\n",
        "X_new2[\"dummy\"] = np.random.normal(0, 1, size=X.r.size)\n",
        "X_new2[\"dummy2\"] = np.ones_like(X.r)"
      ],
      "execution_count": null,
      "outputs": []
    },
    {
      "cell_type": "code",
      "metadata": {
        "id": "zXukq-8HGYKe"
      },
      "source": [
        "clf = ExtraTreesClassifier().fit(X_new2,y)\n",
        "plt.bar(np.arange(7), clf.feature_importances_, 0.5)\n",
        "plt.xticks(np.arange(7), X_new2.columns);"
      ],
      "execution_count": null,
      "outputs": []
    },
    {
      "cell_type": "code",
      "metadata": {
        "id": "twqvduOy1E63"
      },
      "source": [
        "X_train, X_test, y_train, y_test = train_test_split(X_new2[[\"dummy\"]], y, stratify=y, random_state=420)\n",
        "\n",
        "model.fit(X_train, y_train)\n",
        "\n",
        "model.score(X_test, y_test)"
      ],
      "execution_count": null,
      "outputs": []
    },
    {
      "cell_type": "markdown",
      "metadata": {
        "id": "kNQwj_5FmPYF"
      },
      "source": [
        "### [**Principal component analysis**](https://scikit-learn.org/stable/modules/generated/sklearn.decomposition.PCA.html)\n",
        "\n",
        "<img src=\"https://programmathically.com/wp-content/uploads/2021/08/pca-2-dimensions-1024x644.png\" width=600pt></img>"
      ]
    },
    {
      "cell_type": "code",
      "metadata": {
        "id": "InxyTPHuGYKa"
      },
      "source": [
        "from sklearn.decomposition import PCA\n",
        "\n",
        "pca = PCA(n_components=2)\n",
        "X_PCA = pca.fit_transform(X)"
      ],
      "execution_count": null,
      "outputs": []
    },
    {
      "cell_type": "code",
      "metadata": {
        "id": "dFrr051pGYKb"
      },
      "source": [
        "plt.scatter(X_PCA[:,0], X_PCA[:,1], c=y)"
      ],
      "execution_count": null,
      "outputs": []
    },
    {
      "cell_type": "code",
      "source": [
        "plt.scatter(X.g, X.u-X.g, c=y)"
      ],
      "metadata": {
        "id": "-xBWlyBZ7iUX"
      },
      "execution_count": null,
      "outputs": []
    },
    {
      "cell_type": "code",
      "metadata": {
        "id": "BuDSwwTDmTSC"
      },
      "source": [
        "X_train, X_test, y_train, y_test = train_test_split(X_PCA, y, stratify=y, random_state=420)\n",
        "\n",
        "model.fit(X_train, y_train)\n",
        "\n",
        "model.score(X_test, y_test)"
      ],
      "execution_count": null,
      "outputs": []
    },
    {
      "cell_type": "markdown",
      "source": [
        "### task 7: **integrate `PCA(n_components=2)` into our pipeline**"
      ],
      "metadata": {
        "id": "nt4XlOsZ924l"
      }
    },
    {
      "cell_type": "code",
      "source": [
        "X_train, X_test, y_train, y_test = train_test_split(X, y, stratify=y, random_state=420)\n",
        "\n",
        "model = make_pipeline(PCA(n_components=3),\n",
        "                      StandardScaler(),\n",
        "                      SVC(kernel=\"linear\"))\n",
        "                      #DecisionTreeClassifier(random_state=420))\n",
        "\n",
        "model.fit(X_train, y_train)\n",
        "\n",
        "model.score(X_test, y_test)"
      ],
      "metadata": {
        "id": "IAyivdwI-FJt"
      },
      "execution_count": null,
      "outputs": []
    },
    {
      "cell_type": "markdown",
      "metadata": {
        "id": "teq3fSl7GYKk"
      },
      "source": [
        "## [**Cross-validation**](https://scikit-learn.org/stable/modules/cross_validation.html)\n",
        "\n",
        "<img src=\"https://miro.medium.com/max/1400/1*AAwIlHM8TpAVe4l2FihNUQ.png\" width=800pt></img>"
      ]
    },
    {
      "cell_type": "code",
      "source": [
        "X_train, X_test, y_train, y_test = train_test_split(X_PCA, y, stratify=y, random_state=420)\n",
        "\n",
        "model.fit(X_train, y_train)\n",
        "\n",
        "model.score(X_test, y_test)"
      ],
      "metadata": {
        "id": "jJHUCVn78tC5"
      },
      "execution_count": null,
      "outputs": []
    },
    {
      "cell_type": "markdown",
      "source": [
        "### task 8: **use several different random states when splitting data & get average score**"
      ],
      "metadata": {
        "id": "7v74ZKEd_iC5"
      }
    },
    {
      "cell_type": "code",
      "source": [
        "scores = []\n",
        "for i in range(10):\n",
        "    X_train, X_test, y_train, y_test = train_test_split(X_PCA, y, stratify=y, random_state=i)\n",
        "\n",
        "    model.fit(X_train, y_train)\n",
        "\n",
        "    scores.append(model.score(X_test, y_test))\n",
        "\n",
        "scores"
      ],
      "metadata": {
        "id": "Ue01LJEAASTt"
      },
      "execution_count": null,
      "outputs": []
    },
    {
      "cell_type": "code",
      "source": [
        "np.mean(scores), np.std(scores)"
      ],
      "metadata": {
        "id": "FibejIjIAdEO"
      },
      "execution_count": null,
      "outputs": []
    },
    {
      "cell_type": "code",
      "metadata": {
        "id": "J5dKswVZGYKl"
      },
      "source": [
        "from sklearn.model_selection import cross_validate\n",
        "\n",
        "res = cross_validate(model, X, y, cv=10)\n",
        "\n",
        "print(res)"
      ],
      "execution_count": null,
      "outputs": []
    },
    {
      "cell_type": "code",
      "source": [
        "np.mean(res[\"test_score\"]), np.std(res[\"test_score\"])"
      ],
      "metadata": {
        "id": "WdHg0z9o-d-S"
      },
      "execution_count": null,
      "outputs": []
    },
    {
      "cell_type": "code",
      "source": [
        "def score(model, X, y, cv=10):\n",
        "    res = cross_validate(model, X, y, cv=cv)\n",
        "    return np.mean(res[\"test_score\"])"
      ],
      "metadata": {
        "id": "v0FNq1uf_G_-"
      },
      "execution_count": null,
      "outputs": []
    },
    {
      "cell_type": "code",
      "source": [
        "score(model, X, y)"
      ],
      "metadata": {
        "id": "DSBWPG749MH0"
      },
      "execution_count": null,
      "outputs": []
    },
    {
      "cell_type": "markdown",
      "metadata": {
        "id": "hfzrKed1GYKf"
      },
      "source": [
        "## **Tuning hyperparameters**"
      ]
    },
    {
      "cell_type": "code",
      "metadata": {
        "scrolled": true,
        "id": "y8XOCnR-GYKg"
      },
      "source": [
        "SVC?"
      ],
      "execution_count": null,
      "outputs": []
    },
    {
      "cell_type": "markdown",
      "metadata": {
        "id": "0PYW9nkuGYKh"
      },
      "source": [
        "#### task 8: **find SVC hyperparameters with best test score**"
      ]
    },
    {
      "cell_type": "code",
      "metadata": {
        "id": "Xvaxj20ZGYKh"
      },
      "source": [
        "def classify(X, y, classifier):\n",
        "    model = make_pipeline(PCA(n_components=3),\n",
        "                          StandardScaler(),\n",
        "                          classifier)\n",
        "\n",
        "    res = cross_validate(model, X, y, cv=10)\n",
        "    print(np.mean(res[\"test_score\"]))"
      ],
      "execution_count": null,
      "outputs": []
    },
    {
      "cell_type": "code",
      "metadata": {
        "id": "F-6ACW9fGYKi"
      },
      "source": [
        "classify(X, y, SVC(kernel=\"linear\"))"
      ],
      "execution_count": null,
      "outputs": []
    },
    {
      "cell_type": "code",
      "metadata": {
        "id": "GfPZIkZYGYKi"
      },
      "source": [
        "classify(X, y, SVC(kernel=\"linear\", C=10))"
      ],
      "execution_count": null,
      "outputs": []
    },
    {
      "cell_type": "code",
      "metadata": {
        "id": "gG1kpotXGYKj"
      },
      "source": [
        "classify(X, y, SVC(kernel=\"linear\", C=0.1))"
      ],
      "execution_count": null,
      "outputs": []
    },
    {
      "cell_type": "code",
      "metadata": {
        "id": "lLb81etQGYKj"
      },
      "source": [
        "classify(X, y, SVC(kernel=\"poly\", degree=1))"
      ],
      "execution_count": null,
      "outputs": []
    },
    {
      "cell_type": "code",
      "metadata": {
        "id": "-5WE1CLyGYKj"
      },
      "source": [
        "classify(X, y, SVC(kernel=\"rbf\", C=1))"
      ],
      "execution_count": null,
      "outputs": []
    },
    {
      "cell_type": "markdown",
      "metadata": {
        "id": "a5rX00qbGYKl"
      },
      "source": [
        "### **Grid-search + crossvalidation**"
      ]
    },
    {
      "cell_type": "code",
      "metadata": {
        "id": "xKRbmlGLGYKl"
      },
      "source": [
        "from sklearn.model_selection import GridSearchCV"
      ],
      "execution_count": null,
      "outputs": []
    },
    {
      "cell_type": "code",
      "metadata": {
        "id": "jyeQmN-9GYKl"
      },
      "source": [
        "C = [0.01, 0.1, 1, 10]\n",
        "kernel = [\"linear\", \"poly\", \"rbf\"]\n",
        "\n",
        "params = {\"C\" : C,\n",
        "          \"kernel\" : kernel}\n",
        "\n",
        "model = GridSearchCV(SVC(), params, cv=3, n_jobs=8)\n",
        "model.fit(X, y)"
      ],
      "execution_count": null,
      "outputs": []
    },
    {
      "cell_type": "code",
      "source": [
        "model.cv_results_"
      ],
      "metadata": {
        "id": "dPJjayx2Dm2p"
      },
      "execution_count": null,
      "outputs": []
    },
    {
      "cell_type": "code",
      "metadata": {
        "id": "xFNq5dL4GYKm"
      },
      "source": [
        "params, score = model.cv_results_[\"params\"], model.cv_results_[\"mean_test_score\"]\n",
        "\n",
        "indices = np.argsort(score)\n",
        "\n",
        "for i in indices:\n",
        "    print(params[i], score[i].round(3))"
      ],
      "execution_count": null,
      "outputs": []
    },
    {
      "cell_type": "code",
      "source": [
        "res = model.cv_results_\n",
        "plt.imshow(res[\"mean_test_score\"].reshape(4,3))\n",
        "n = 0\n",
        "for i,k in enumerate(kernel):\n",
        "    for j,c in enumerate(C):\n",
        "        plt.text(i,j,\"{0:.2f}\".format(res[\"mean_test_score\"][n]), ha=\"center\")\n",
        "        n += 1\n",
        "\n",
        "plt.xticks(np.arange(len(params[\"kernel\"])), params[\"kernel\"]);\n",
        "plt.yticks(np.arange(len(params[\"C\"])), params[\"C\"]);"
      ],
      "metadata": {
        "id": "oAQdV6ctDFpj"
      },
      "execution_count": null,
      "outputs": []
    },
    {
      "cell_type": "code",
      "metadata": {
        "id": "VvcN0sn0GYKm"
      },
      "source": [
        "model.best_estimator_"
      ],
      "execution_count": null,
      "outputs": []
    },
    {
      "cell_type": "markdown",
      "metadata": {
        "id": "jMH5qPGMAeB4"
      },
      "source": [
        "## **Classifier comparison**"
      ]
    },
    {
      "cell_type": "code",
      "metadata": {
        "id": "93lNl7rt3ftZ"
      },
      "source": [
        "from sklearn.neural_network import MLPClassifier # multi-layer perceptron classifier\n",
        "from sklearn.naive_bayes import GaussianNB\n",
        "from sklearn.tree import DecisionTreeClassifier\n",
        "from sklearn.neighbors import KNeighborsClassifier"
      ],
      "execution_count": null,
      "outputs": []
    },
    {
      "cell_type": "code",
      "metadata": {
        "id": "jRSP0nxqGYKn"
      },
      "source": [
        "classifiers = [MLPClassifier(max_iter=1000),\n",
        "               GaussianNB(),\n",
        "               DecisionTreeClassifier(),\n",
        "               KNeighborsClassifier(),\n",
        "               SVC(kernel=\"rbf\", C=10)]\n",
        "\n",
        "for classifier in classifiers:\n",
        "    classify(X, y, classifier)"
      ],
      "execution_count": null,
      "outputs": []
    },
    {
      "cell_type": "code",
      "metadata": {
        "id": "kjMNwSVEGYKo"
      },
      "source": [
        "clf = MLPClassifier(max_iter=1000)\n",
        "params = {\"hidden_layer_sizes\" : [5, 10, 50, 100],\n",
        "          \"activation\" : [\"identity\", \"logistic\", \"tanh\", \"relu\"],\n",
        "          \"solver\" : [\"sgd\", \"adam\"]}\n",
        "model = GridSearchCV(clf, params, cv=5, n_jobs=8)\n",
        "model.fit(X, y)"
      ],
      "execution_count": null,
      "outputs": []
    },
    {
      "cell_type": "code",
      "metadata": {
        "id": "1fPwnj2EGYKp"
      },
      "source": [
        "model.best_estimator_, model.best_score_"
      ],
      "execution_count": null,
      "outputs": []
    },
    {
      "cell_type": "code",
      "metadata": {
        "id": "Y5mz5zviGYKq"
      },
      "source": [
        "%time MLPClassifier(activation=\"tanh\", hidden_layer_sizes=10, max_iter=1000).fit(X_train, y_train)"
      ],
      "execution_count": null,
      "outputs": []
    },
    {
      "cell_type": "code",
      "metadata": {
        "scrolled": true,
        "id": "4JWnkM5WGYKq"
      },
      "source": [
        "%time SVC(C=10).fit(X_train, y_train)"
      ],
      "execution_count": null,
      "outputs": []
    },
    {
      "cell_type": "markdown",
      "metadata": {
        "id": "D_pSaCWM3gec"
      },
      "source": [
        "## **Ensemble methods**"
      ]
    },
    {
      "cell_type": "code",
      "metadata": {
        "id": "JMDa_nxxGYKr"
      },
      "source": [
        "from sklearn.ensemble import RandomForestClassifier"
      ],
      "execution_count": null,
      "outputs": []
    },
    {
      "cell_type": "code",
      "metadata": {
        "id": "gdqWpK1iGYK0"
      },
      "source": [
        "model = RandomForestClassifier()\n",
        "\n",
        "res = cross_validate(model, X, y, cv=10)\n",
        "np.mean(res[\"test_score\"]), np.std(res[\"test_score\"])"
      ],
      "execution_count": null,
      "outputs": []
    },
    {
      "cell_type": "code",
      "metadata": {
        "id": "9Uvk2gjj3f1n"
      },
      "source": [
        "from sklearn.ensemble import StackingClassifier"
      ],
      "execution_count": null,
      "outputs": []
    },
    {
      "cell_type": "code",
      "metadata": {
        "id": "hbnW2C7wfanU"
      },
      "source": [
        "classifiers = [(\"MLP\", MLPClassifier(max_iter=1000, random_state=42)),\n",
        "               (\"Bayes\", GaussianNB()),\n",
        "               (\"RFC\", RandomForestClassifier()),\n",
        "               (\"KNN\", KNeighborsClassifier()),\n",
        "               (\"SVC\", SVC(C=10))]\n",
        "\n",
        "model = StackingClassifier(classifiers)\n",
        "\n",
        "res = cross_validate(model, X, y, cv=10)\n",
        "np.mean(res[\"test_score\"]), np.std(res[\"test_score\"])"
      ],
      "execution_count": null,
      "outputs": []
    },
    {
      "cell_type": "code",
      "metadata": {
        "id": "ccqwzF_tGYK1"
      },
      "source": [
        "classifiers = [(\"MLP\", MLPClassifier(max_iter=1000, random_state=42)),\n",
        "               (\"Bayes\", GaussianNB()),\n",
        "               (\"DTC\", DecisionTreeClassifier()),\n",
        "               (\"KNN\", KNeighborsClassifier()),\n",
        "               (\"SVC\", SVC(C=10))]\n",
        "\n",
        "# train the model\n",
        "clf = StackingClassifier(classifiers)\n",
        "\n",
        "model = make_pipeline(StandardScaler(),\n",
        "                      clf)\n",
        "\n",
        "res = cross_validate(model, X, y, cv=10)\n",
        "np.mean(res[\"test_score\"]), np.std(res[\"test_score\"])"
      ],
      "execution_count": null,
      "outputs": []
    },
    {
      "cell_type": "markdown",
      "source": [
        "### task 3: **try [`classification_report`](https://scikit-learn.org/stable/modules/generated/sklearn.metrics.classification_report.html) and [`ConfusionMatrixDisplay`](https://scikit-learn.org/stable/modules/generated/sklearn.metrics.ConfusionMatrixDisplay.html)**"
      ],
      "metadata": {
        "id": "OEuCneVx0Ep9"
      }
    },
    {
      "cell_type": "code",
      "source": [
        "from sklearn.metrics import classification_report, ConfusionMatrixDisplay"
      ],
      "metadata": {
        "id": "am_qy-DK0FLu"
      },
      "execution_count": null,
      "outputs": []
    },
    {
      "cell_type": "code",
      "source": [
        "print(classification_report(y_test, y_pred, digits=3))"
      ],
      "metadata": {
        "id": "XIdS0Y3P0FOn"
      },
      "execution_count": null,
      "outputs": []
    },
    {
      "cell_type": "code",
      "source": [
        "ConfusionMatrixDisplay.from_estimator(model, X_test, y_test, display_labels=[\"QSO\", \"star\"]);"
      ],
      "metadata": {
        "id": "FoWrqWNF0FR5"
      },
      "execution_count": null,
      "outputs": []
    },
    {
      "cell_type": "code",
      "source": [],
      "metadata": {
        "id": "6lswf4JR0FlF"
      },
      "execution_count": null,
      "outputs": []
    },
    {
      "cell_type": "markdown",
      "metadata": {
        "id": "mUhmTJO3GYK1"
      },
      "source": [
        "## **Conclusion**"
      ]
    },
    {
      "cell_type": "code",
      "metadata": {
        "id": "R3tjj2vcGYK1"
      },
      "source": [
        "classifiers = [(\"MLP\", MLPClassifier(max_iter=1000, random_state=42)),\n",
        "               (\"Bayes\", GaussianNB()),\n",
        "               (\"DTC\", DecisionTreeClassifier()),\n",
        "               (\"KNN\", KNeighborsClassifier()),\n",
        "               (\"SVC\", SVC(C=10))]\n",
        "\n",
        "# train the model\n",
        "clf = StackingClassifier(classifiers)\n",
        "\n",
        "model = make_pipeline(StandardScaler(),\n",
        "                      clf)\n",
        "\n",
        "model.fit(X_new[[\"u-g\"]], y)"
      ],
      "execution_count": null,
      "outputs": []
    },
    {
      "cell_type": "markdown",
      "source": [
        "## **Model inference**"
      ],
      "metadata": {
        "id": "piZXL3PN0Grh"
      }
    },
    {
      "cell_type": "markdown",
      "source": [
        "### task 13: **pick an object from SDSS and classify it**"
      ],
      "metadata": {
        "id": "ngmliPGF0KYg"
      }
    },
    {
      "cell_type": "code",
      "metadata": {
        "id": "f3SeWR9NNlmE"
      },
      "source": [
        "u = 15.914\n",
        "g = 15.500\n",
        "r = 16.2\n",
        "i = 16.5\n",
        "z = 17.1\n",
        "\n",
        "X_real = pd.DataFrame(np.array([[u,g,r,i,z]]), columns=[\"u\",\"g\",\"r\",\"i\",\"z\"])\n",
        "\n",
        "X_real"
      ],
      "execution_count": null,
      "outputs": []
    },
    {
      "cell_type": "code",
      "source": [],
      "metadata": {
        "id": "ifRgQ67bI6e7"
      },
      "execution_count": null,
      "outputs": []
    },
    {
      "cell_type": "code",
      "metadata": {
        "id": "ZNg6aU3TE0Ba"
      },
      "source": [
        "pred = model.predict(X_real)\n",
        "\n",
        "le.inverse_transform(pred)"
      ],
      "execution_count": null,
      "outputs": []
    },
    {
      "cell_type": "code",
      "source": [],
      "metadata": {
        "id": "wGCeUSOY0gX2"
      },
      "execution_count": null,
      "outputs": []
    }
  ]
}