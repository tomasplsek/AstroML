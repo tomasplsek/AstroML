{
 "cells": [
  {
   "cell_type": "markdown",
   "metadata": {
    "colab_type": "text",
    "id": "view-in-github"
   },
   "source": [
    "<a href=\"https://colab.research.google.com/github/tomasplsek/AstroML/blob/main/03_sklearn.ipynb\" target=\"_parent\"><img src=\"https://colab.research.google.com/assets/colab-badge.svg\" alt=\"Open In Colab\"/></a>"
   ]
  },
  {
   "cell_type": "markdown",
   "metadata": {
    "id": "w5pcm7J6fqxK"
   },
   "source": [
    "# 3. hands-on session: **From *Data* to *Prediction***"
   ]
  },
  {
   "cell_type": "markdown",
   "metadata": {
    "id": "qXE0gT_O3l-l"
   },
   "source": [
    "## **Contents**\n",
    "\n",
    "1. Preprocess the data\n",
    "1. Select features & reduce dimensions\n",
    "1. Cross-validate\n",
    "1. Find best hyperparameters\n",
    "1. Compare classifiers\n",
    "1. Combine classifiers\n",
    "1. Evaluate performance\n",
    "1. Predict"
   ]
  },
  {
   "cell_type": "code",
   "execution_count": null,
   "metadata": {
    "id": "ZCF_HPrGAIMK"
   },
   "outputs": [],
   "source": [
    "import numpy as np\n",
    "import pandas as pd\n",
    "import matplotlib.pyplot as plt"
   ]
  },
  {
   "cell_type": "markdown",
   "metadata": {
    "id": "nIMmT6-DCEYC"
   },
   "source": [
    "# **Our dataset**\n",
    "\n",
    "SDSS photometry of points sources: Star vs QSO"
   ]
  },
  {
   "cell_type": "markdown",
   "metadata": {
    "id": "Hc23Ez28VGGe"
   },
   "source": [
    "<img src=\"https://cdn.mos.cms.futurecdn.net/HgaCHZDNppE6e52yeDACo6-970-80.jpg.webp\" width=500 align=left>\n",
    "\n",
    "<img src=\"https://earthsky.org/upl/2021/01/supermassive-black-hole-artist-e1610556964639.jpg\" width=500 align=right>\n",
    "\n"
   ]
  },
  {
   "cell_type": "markdown",
   "metadata": {
    "id": "vFSwlRFZ-Z6T"
   },
   "source": [
    "### **Sloan Digital Sky Survey (SDSS)**\n",
    "\n",
    "- photometry & spectroscopy\n",
    "\n",
    "- fotometry 1 billion objects\n",
    "\n",
    "- spectroscopy 6 million objects\n",
    "\n",
    "- **stars** from our Galaxy  &  **quasars** up to $z \\approx 6$\n",
    "\n",
    "- color system `u g r i z`\n",
    "\n",
    "<img src=\"https://www.astroml.org/_images/fig_sdss_filters_1.png\" align=left width=500>"
   ]
  },
  {
   "cell_type": "code",
   "execution_count": null,
   "metadata": {
    "colab": {
     "base_uri": "https://localhost:8080/"
    },
    "id": "kjK_BVs1CDh9",
    "outputId": "20a8c6e0-5373-41e3-9476-3a6be4160d96"
   },
   "outputs": [],
   "source": [
    "!wget -c \"https://drive.google.com/uc?id=1IoQfGFo13ZP2wTyp-xvzQvguPYhE8TWB\" -O \"sdss_photo.csv\""
   ]
  },
  {
   "cell_type": "markdown",
   "metadata": {
    "id": "jWeG6dFa0x77"
   },
   "source": [
    "## **Data preprocessing**"
   ]
  },
  {
   "cell_type": "code",
   "execution_count": null,
   "metadata": {
    "id": "Pqhbn1Ht58EC"
   },
   "outputs": [],
   "source": [
    "data = pd.read_csv(\"sdss_photo.csv\")"
   ]
  },
  {
   "cell_type": "code",
   "execution_count": null,
   "metadata": {
    "colab": {
     "base_uri": "https://localhost:8080/",
     "height": 424
    },
    "id": "DyEbvboDoe02",
    "outputId": "67251962-de2a-4e04-f410-c1f6f52adad2"
   },
   "outputs": [],
   "source": [
    "data"
   ]
  },
  {
   "cell_type": "code",
   "execution_count": null,
   "metadata": {
    "colab": {
     "base_uri": "https://localhost:8080/",
     "height": 300
    },
    "id": "1Xj0KTG6oe5c",
    "outputId": "8fc97af2-181f-4be1-915c-6ae86280cff9"
   },
   "outputs": [],
   "source": [
    "data.describe().round(2)"
   ]
  },
  {
   "cell_type": "code",
   "execution_count": null,
   "metadata": {
    "colab": {
     "base_uri": "https://localhost:8080/"
    },
    "id": "ZVLpF-z3hmxk",
    "outputId": "2754d569-db20-4240-b170-6f4deee60764"
   },
   "outputs": [],
   "source": [
    "star = data.target == \"star\"\n",
    "qso = data.target == \"QSO\"\n",
    "\n",
    "sum(star), sum(qso)"
   ]
  },
  {
   "cell_type": "code",
   "execution_count": null,
   "metadata": {},
   "outputs": [],
   "source": [
    "filters = [\"u\", \"g\", \"r\", \"i\", \"z\"]\n",
    "\n",
    "plt.figure(figsize=(12,12))\n",
    "\n",
    "x = 0\n",
    "for i in range(5):\n",
    "    for j in range(5):\n",
    "        x += 1\n",
    "        if i == j: continue\n",
    "        elif i < j: continue\n",
    "\n",
    "        f1 = filters[i]\n",
    "        f2 = filters[j]\n",
    "\n",
    "        plt.subplot(5,5,x)\n",
    "        plt.plot(data.loc[qso, f2], data.loc[qso, f1], \".\", label=\"QSOs\")\n",
    "        plt.plot(data.loc[star, f2], data.loc[star, f1], \".\", label=\"stars\")\n",
    "\n",
    "        if i == 4: plt.xlabel(f2 + \" [mag]\")\n",
    "        if j == 0: plt.ylabel(f1 + \" [mag]\")\n",
    "        if x == 6: plt.legend()"
   ]
  },
  {
   "cell_type": "markdown",
   "metadata": {
    "id": "6iO4-7kC79Kz"
   },
   "source": [
    "### task 1: **create `X` and `y`**\n",
    "\n",
    "```python\n",
    "data[[\"u\",\"g\",\"r\",\"i\",\"z\"]] -> X\n",
    "data[\"target\"] -> y\n",
    "\"QSO\" -> 0\n",
    "\"star\" -> 1\n",
    "```\n",
    "\n",
    "hint: you can use [LabelEncoder()](https://scikit-learn.org/stable/modules/generated/sklearn.preprocessing.LabelEncoder.html)\n"
   ]
  },
  {
   "cell_type": "code",
   "execution_count": null,
   "metadata": {
    "id": "k-2znzpEurJs"
   },
   "outputs": [],
   "source": []
  },
  {
   "cell_type": "code",
   "execution_count": null,
   "metadata": {
    "colab": {
     "base_uri": "https://localhost:8080/",
     "height": 424
    },
    "id": "mTSxvZPF77kZ",
    "outputId": "14be23a0-a744-4679-e5b5-d498cbff14e9"
   },
   "outputs": [],
   "source": []
  },
  {
   "cell_type": "code",
   "execution_count": null,
   "metadata": {
    "colab": {
     "base_uri": "https://localhost:8080/"
    },
    "id": "wdjrBi_U8ilA",
    "outputId": "1d132edd-3795-4415-869e-c52f0f3bca66"
   },
   "outputs": [],
   "source": []
  },
  {
   "cell_type": "code",
   "execution_count": null,
   "metadata": {
    "colab": {
     "base_uri": "https://localhost:8080/"
    },
    "id": "3shTgaecWYO5",
    "outputId": "204db7e3-a023-41d1-ef88-347703fed61e"
   },
   "outputs": [],
   "source": []
  },
  {
   "cell_type": "code",
   "execution_count": null,
   "metadata": {
    "colab": {
     "base_uri": "https://localhost:8080/"
    },
    "id": "-HZSY2BqRFLI",
    "outputId": "283d3e09-9982-4674-ac9f-f83dc6979637"
   },
   "outputs": [],
   "source": []
  },
  {
   "cell_type": "markdown",
   "metadata": {
    "id": "seZZJbZ0A7dk"
   },
   "source": [
    "### task 2: **split the data (9:1), train a linear [Support Vector Classifier (SVC)](https://scikit-learn.org/stable/modules/generated/sklearn.svm.SVC.html) & test its accuracy**\n",
    "\n",
    "```python\n",
    "from sklearn.svm import SVC\n",
    "\n",
    "model = SVC(kernel=\"linear\")\n",
    "```\n",
    "\n",
    "<img src=\"https://drive.google.com/uc?id=1ZyN7sykZBm0Q8xDKjMcHrezV_G91ErWH\" align=left width=350>"
   ]
  },
  {
   "cell_type": "code",
   "execution_count": null,
   "metadata": {
    "id": "3R9OArBLAefy"
   },
   "outputs": [],
   "source": []
  },
  {
   "cell_type": "code",
   "execution_count": null,
   "metadata": {
    "id": "1TLjQ7rHWeRM"
   },
   "outputs": [],
   "source": []
  },
  {
   "cell_type": "code",
   "execution_count": null,
   "metadata": {
    "colab": {
     "base_uri": "https://localhost:8080/"
    },
    "id": "-6b4RklvAsmm",
    "outputId": "7f6255c7-858e-4c55-8e05-25cc84a17d15"
   },
   "outputs": [],
   "source": []
  },
  {
   "cell_type": "code",
   "execution_count": null,
   "metadata": {
    "colab": {
     "base_uri": "https://localhost:8080/"
    },
    "id": "RLPt5jOwB2eQ",
    "outputId": "dc3b1f8d-659e-481d-c5f0-0c45fa718e1f"
   },
   "outputs": [],
   "source": []
  },
  {
   "cell_type": "code",
   "execution_count": null,
   "metadata": {
    "colab": {
     "base_uri": "https://localhost:8080/"
    },
    "id": "nfBlkYhcBKAK",
    "outputId": "e742d040-2bba-469b-c399-c0e3e3a9d531"
   },
   "outputs": [],
   "source": []
  },
  {
   "cell_type": "markdown",
   "metadata": {
    "id": "l3wPRpSa-0S0"
   },
   "source": [
    "### task 3: **rescale the data & split the data & train & test score**\n",
    "\n",
    "note: the data were already transformed from fluxes to magnitudes `m = -log10(F/F0)`\n",
    "\n",
    "```python\n",
    "X_scaled = (X - μ) / σ\n",
    "```\n",
    "\n",
    "hint: you can use [`StandardScaler()`](https://scikit-learn.org/stable/modules/generated/sklearn.preprocessing.StandardScaler.html)"
   ]
  },
  {
   "cell_type": "code",
   "execution_count": null,
   "metadata": {},
   "outputs": [],
   "source": []
  },
  {
   "cell_type": "code",
   "execution_count": null,
   "metadata": {
    "id": "ruGTy4vh_0IH"
   },
   "outputs": [],
   "source": []
  },
  {
   "cell_type": "code",
   "execution_count": null,
   "metadata": {
    "colab": {
     "base_uri": "https://localhost:8080/"
    },
    "id": "CWBDavYmVNdp",
    "outputId": "22b64446-01d1-4d46-9309-a14932f1ae1e"
   },
   "outputs": [],
   "source": []
  },
  {
   "cell_type": "code",
   "execution_count": null,
   "metadata": {
    "colab": {
     "base_uri": "https://localhost:8080/",
     "height": 300
    },
    "id": "qI3Pj4uXhQlY",
    "outputId": "78d5a608-a3b9-46d7-c733-e0e35b6f8129"
   },
   "outputs": [],
   "source": []
  },
  {
   "cell_type": "code",
   "execution_count": null,
   "metadata": {
    "colab": {
     "base_uri": "https://localhost:8080/"
    },
    "id": "wj0TDjj21qqA",
    "outputId": "76f51851-a95a-4544-eaea-f6da0cb1c054"
   },
   "outputs": [],
   "source": []
  },
  {
   "cell_type": "markdown",
   "metadata": {
    "id": "d0Uj8Q-o_oxS"
   },
   "source": [
    "### **Pipeline**"
   ]
  },
  {
   "cell_type": "code",
   "execution_count": null,
   "metadata": {
    "colab": {
     "base_uri": "https://localhost:8080/"
    },
    "id": "sR86rx_BVNgT",
    "outputId": "9c427220-7ca0-48eb-970a-bc63ac11f7d4"
   },
   "outputs": [],
   "source": [
    "from sklearn.pipeline import make_pipeline\n",
    "\n",
    "X_train, X_test, y_train, y_test = train_test_split(X, y, test_size=0.1, random_state=120, stratify=y)\n",
    "\n",
    "model = make_pipeline(StandardScaler(),\n",
    "                      SVC(kernel=\"linear\"))\n",
    "\n",
    "model.fit(X_train, y_train)\n",
    "\n",
    "model.score(X_test, y_test)"
   ]
  },
  {
   "cell_type": "code",
   "execution_count": null,
   "metadata": {},
   "outputs": [],
   "source": [
    "model"
   ]
  },
  {
   "cell_type": "markdown",
   "metadata": {
    "id": "4uNyaEwaTLas"
   },
   "source": [
    "## **Feature selection & dimensionality reduction**"
   ]
  },
  {
   "cell_type": "code",
   "execution_count": null,
   "metadata": {
    "id": "r5MWCPJSq0vE"
   },
   "outputs": [],
   "source": [
    "from sklearn.ensemble import ExtraTreesClassifier"
   ]
  },
  {
   "cell_type": "code",
   "execution_count": null,
   "metadata": {
    "colab": {
     "base_uri": "https://localhost:8080/"
    },
    "id": "o3r_-qzCq03O",
    "outputId": "c5d6da7c-f853-4d85-b1e4-b46bf8e1dbf8"
   },
   "outputs": [],
   "source": [
    "etc = ExtraTreesClassifier(random_state=42)\n",
    "etc.fit(X,y)\n",
    "etc.feature_importances_"
   ]
  },
  {
   "cell_type": "code",
   "execution_count": null,
   "metadata": {
    "colab": {
     "base_uri": "https://localhost:8080/",
     "height": 265
    },
    "id": "SLpvL6JS43Ls",
    "outputId": "0587134e-5128-4a3f-a997-02bba244747d"
   },
   "outputs": [],
   "source": [
    "plt.bar(np.arange(5), etc.feature_importances_, 0.5)\n",
    "plt.xticks(np.arange(5), X.columns);"
   ]
  },
  {
   "cell_type": "markdown",
   "metadata": {
    "id": "9E7QvHcTbYcm"
   },
   "source": [
    "#### task 4: **calculate spectral indices & test importance**\n"
   ]
  },
  {
   "cell_type": "code",
   "execution_count": null,
   "metadata": {
    "colab": {
     "base_uri": "https://localhost:8080/",
     "height": 424
    },
    "id": "MZfoAJA1rmRz",
    "outputId": "1a40647d-9b50-4a6e-d33e-fb7f5a67139e"
   },
   "outputs": [],
   "source": []
  },
  {
   "cell_type": "code",
   "execution_count": null,
   "metadata": {
    "colab": {
     "base_uri": "https://localhost:8080/",
     "height": 265
    },
    "id": "Nj0_n3aJrmUs",
    "outputId": "b0c250c2-8f47-41c4-d3a2-ffa7766ec18c"
   },
   "outputs": [],
   "source": []
  },
  {
   "cell_type": "markdown",
   "metadata": {
    "id": "7Vsu9gRdl8ba"
   },
   "source": [
    "#### task 5: **test score if only *u-g* or *i-z* spectral indices are used**\n",
    "\n",
    "hint: for single columns use `X[[\"u-g\"]]`"
   ]
  },
  {
   "cell_type": "code",
   "execution_count": null,
   "metadata": {
    "colab": {
     "base_uri": "https://localhost:8080/"
    },
    "id": "-Z3PTCanGYKf",
    "outputId": "48a6122e-0cec-425c-e418-dc365d72e991"
   },
   "outputs": [],
   "source": []
  },
  {
   "cell_type": "code",
   "execution_count": null,
   "metadata": {
    "colab": {
     "base_uri": "https://localhost:8080/"
    },
    "id": "DZN5ZHDB2lda",
    "outputId": "eebf231a-8228-4c08-b5f1-fdce7b859a6e"
   },
   "outputs": [],
   "source": []
  },
  {
   "cell_type": "code",
   "execution_count": null,
   "metadata": {
    "colab": {
     "base_uri": "https://localhost:8080/"
    },
    "id": "Uar9JVzhAVlZ",
    "outputId": "fb285443-b116-43bb-cc95-21b00b66946a"
   },
   "outputs": [],
   "source": []
  },
  {
   "cell_type": "markdown",
   "metadata": {
    "id": "1ud7hKL_GYKe"
   },
   "source": [
    "#### task 6: **create dummy column & test importance**\n",
    "\n",
    "hint:\n",
    "```\n",
    "X_new = X.copy()\n",
    "X_new[\"dummy\"] = np.random.randint(10, size=X.r.size)\n",
    "```"
   ]
  },
  {
   "cell_type": "code",
   "execution_count": null,
   "metadata": {
    "id": "yjkNN6d4SuYn"
   },
   "outputs": [],
   "source": []
  },
  {
   "cell_type": "code",
   "execution_count": null,
   "metadata": {
    "colab": {
     "base_uri": "https://localhost:8080/",
     "height": 265
    },
    "id": "zXukq-8HGYKe",
    "outputId": "98322f1d-cba9-4dac-8e86-b7042073cf15"
   },
   "outputs": [],
   "source": []
  },
  {
   "cell_type": "code",
   "execution_count": null,
   "metadata": {
    "colab": {
     "base_uri": "https://localhost:8080/"
    },
    "id": "twqvduOy1E63",
    "outputId": "dc53e960-28da-4c70-f4af-35cf44da73a1"
   },
   "outputs": [],
   "source": []
  },
  {
   "cell_type": "code",
   "execution_count": null,
   "metadata": {},
   "outputs": [],
   "source": []
  },
  {
   "cell_type": "markdown",
   "metadata": {
    "id": "kNQwj_5FmPYF"
   },
   "source": [
    "## **Principal component analysis ([PCA](https://scikit-learn.org/stable/modules/generated/sklearn.decomposition.PCA.html))**\n",
    "\n",
    "<img src=\"https://programmathically.com/wp-content/uploads/2021/08/pca-2-dimensions-1024x644.png\" align=left width=500pt></img>\n",
    "\n",
    "<img src=\"https://dimensionless.in/wp-content/uploads/2019/07/pca2.png\" align=left width=750pt></img>"
   ]
  },
  {
   "cell_type": "code",
   "execution_count": null,
   "metadata": {
    "colab": {
     "base_uri": "https://localhost:8080/"
    },
    "id": "InxyTPHuGYKa",
    "outputId": "16eddba2-7dc0-4c70-e517-282ef9d6c5e0"
   },
   "outputs": [],
   "source": [
    "from sklearn.decomposition import PCA\n",
    "\n",
    "pca = PCA(n_components=2)\n",
    "X_PCA = pca.fit_transform(X)\n",
    "X_PCA"
   ]
  },
  {
   "cell_type": "code",
   "execution_count": null,
   "metadata": {
    "colab": {
     "base_uri": "https://localhost:8080/",
     "height": 265
    },
    "id": "dFrr051pGYKb",
    "outputId": "84c812ff-41fd-478b-e6fb-73fad5c007b7"
   },
   "outputs": [],
   "source": [
    "plt.scatter(X_PCA[:,0], X_PCA[:,1], c=y);"
   ]
  },
  {
   "cell_type": "code",
   "execution_count": null,
   "metadata": {
    "colab": {
     "base_uri": "https://localhost:8080/",
     "height": 265
    },
    "id": "-xBWlyBZ7iUX",
    "outputId": "483e0596-11ec-49cd-a7ec-31d0c2c07ac3"
   },
   "outputs": [],
   "source": [
    "plt.scatter(X[\"u\"], X[\"u-g\"], c=y);"
   ]
  },
  {
   "cell_type": "code",
   "execution_count": null,
   "metadata": {
    "colab": {
     "base_uri": "https://localhost:8080/"
    },
    "id": "BuDSwwTDmTSC",
    "outputId": "7090d1ab-d2df-4dc9-cebc-b5b511154fe2"
   },
   "outputs": [],
   "source": [
    "X_train, X_test, y_train, y_test = train_test_split(X_PCA, y, test_size=0.1, random_state=120, stratify=y)\n",
    "\n",
    "model.fit(X_train, y_train)\n",
    "\n",
    "model.score(X_test, y_test)"
   ]
  },
  {
   "cell_type": "markdown",
   "metadata": {
    "id": "nt4XlOsZ924l"
   },
   "source": [
    "### task 7: **integrate `PCA()` into our pipeline**\n",
    "\n",
    "Should scaling be performed before or after PCA?"
   ]
  },
  {
   "cell_type": "code",
   "execution_count": null,
   "metadata": {
    "colab": {
     "base_uri": "https://localhost:8080/"
    },
    "id": "IAyivdwI-FJt",
    "outputId": "4dc993f3-8f6e-4b3d-8b9d-9a9269952896"
   },
   "outputs": [],
   "source": []
  },
  {
   "cell_type": "code",
   "execution_count": null,
   "metadata": {},
   "outputs": [],
   "source": []
  },
  {
   "cell_type": "code",
   "execution_count": null,
   "metadata": {},
   "outputs": [],
   "source": []
  },
  {
   "cell_type": "markdown",
   "metadata": {
    "id": "teq3fSl7GYKk"
   },
   "source": [
    "## **Cross-validation ([CV](https://scikit-learn.org/stable/modules/cross_validation.html))**\n",
    "\n",
    "<img src=\"https://miro.medium.com/max/1400/1*AAwIlHM8TpAVe4l2FihNUQ.png\" width=800pt></img>"
   ]
  },
  {
   "cell_type": "markdown",
   "metadata": {
    "id": "7v74ZKEd_iC5"
   },
   "source": [
    "### task 8: **use several random states when splitting data & get average score**"
   ]
  },
  {
   "cell_type": "code",
   "execution_count": null,
   "metadata": {
    "colab": {
     "base_uri": "https://localhost:8080/"
    },
    "id": "Ue01LJEAASTt",
    "outputId": "0a5307c6-c35e-4ba3-828e-c513f4376393"
   },
   "outputs": [],
   "source": []
  },
  {
   "cell_type": "code",
   "execution_count": null,
   "metadata": {
    "colab": {
     "base_uri": "https://localhost:8080/"
    },
    "id": "FibejIjIAdEO",
    "outputId": "62c340c8-6240-4ea5-e1fc-f362f989f883"
   },
   "outputs": [],
   "source": []
  },
  {
   "cell_type": "markdown",
   "metadata": {
    "id": "ymsY_Fd1oLWF"
   },
   "source": [
    "### task 9: **use [`cross_val_score`](https://scikit-learn.org/stable/modules/generated/sklearn.model_selection.cross_val_score.html)**"
   ]
  },
  {
   "cell_type": "code",
   "execution_count": null,
   "metadata": {
    "id": "brpWmP54oUxo"
   },
   "outputs": [],
   "source": []
  },
  {
   "cell_type": "code",
   "execution_count": null,
   "metadata": {
    "colab": {
     "base_uri": "https://localhost:8080/"
    },
    "id": "J5dKswVZGYKl",
    "outputId": "e8c9ed44-df46-4ea8-e20b-7e10a235507a"
   },
   "outputs": [],
   "source": []
  },
  {
   "cell_type": "code",
   "execution_count": null,
   "metadata": {
    "colab": {
     "base_uri": "https://localhost:8080/"
    },
    "id": "WdHg0z9o-d-S",
    "outputId": "7e68b699-ae6e-4cfc-c895-c8567c39e396"
   },
   "outputs": [],
   "source": []
  },
  {
   "cell_type": "markdown",
   "metadata": {
    "id": "hfzrKed1GYKf"
   },
   "source": [
    "## **Tuning hyperparameters**"
   ]
  },
  {
   "cell_type": "code",
   "execution_count": null,
   "metadata": {
    "id": "AdLKvspW7-IO"
   },
   "outputs": [],
   "source": [
    "def decision_surface(X, y, classifier):\n",
    "    size = 100\n",
    "\n",
    "    X_n = PCA(n_components=2).fit_transform(X)\n",
    "\n",
    "    range_U = np.linspace(min(X_n[:,0]), max(X_n[:,0]), size)\n",
    "    range_G = np.linspace(min(X_n[:,1]), max(X_n[:,1]), size)\n",
    "    U, G = np.meshgrid(range_U, range_G)\n",
    "\n",
    "    grid = np.vstack((U.flatten(), G.flatten())).T\n",
    "\n",
    "    classifier.fit(X_n, y)\n",
    "\n",
    "    predicted = classifier.predict_proba(grid)[:,0]\n",
    "\n",
    "    predicted = predicted.reshape(size,size)\n",
    "\n",
    "    plt.contourf(U, G, predicted, cmap=\"coolwarm\", alpha=0.5)\n",
    "\n",
    "    plt.plot(X_n[:,0][data.target == \"star\"], X_n[:,1][data.target == \"star\"], \"o\")\n",
    "    plt.plot(X_n[:,0][data.target == \"QSO\"], X_n[:,1][data.target == \"QSO\"], \"o\");\n",
    "\n",
    "    plt.xlabel(\"PCA1\")\n",
    "    plt.ylabel(\"PCA2\");\n",
    "\n",
    "\n",
    "def classify(X, y, classifier, n_components=3):\n",
    "    model = make_pipeline(StandardScaler(),\n",
    "                          PCA(n_components=n_components),\n",
    "                          classifier)\n",
    "\n",
    "    score = cross_val_score(model, X, y, cv=10)\n",
    "    print(np.mean(score))"
   ]
  },
  {
   "cell_type": "code",
   "execution_count": null,
   "metadata": {
    "id": "y8XOCnR-GYKg",
    "scrolled": true
   },
   "outputs": [],
   "source": [
    "SVC?"
   ]
  },
  {
   "cell_type": "code",
   "execution_count": null,
   "metadata": {
    "colab": {
     "base_uri": "https://localhost:8080/",
     "height": 281
    },
    "id": "jDSuCKR1TO3f",
    "outputId": "976938df-7c97-4b0b-bff8-40ea99336a91"
   },
   "outputs": [],
   "source": [
    "clf = SVC(kernel=\"linear\", probability=True)\n",
    "decision_surface(X, y, clf)\n",
    "classify(X, y, clf)"
   ]
  },
  {
   "cell_type": "code",
   "execution_count": null,
   "metadata": {
    "colab": {
     "base_uri": "https://localhost:8080/",
     "height": 281
    },
    "id": "5rX27SR95GZy",
    "outputId": "6508474c-f484-43e8-9539-028609d86b3f"
   },
   "outputs": [],
   "source": [
    "clf = SVC(kernel=\"poly\", probability=True)\n",
    "decision_surface(X, y, clf)\n",
    "classify(X, y, clf)"
   ]
  },
  {
   "cell_type": "code",
   "execution_count": null,
   "metadata": {
    "colab": {
     "base_uri": "https://localhost:8080/",
     "height": 281
    },
    "id": "2Wb-mru1TSA6",
    "outputId": "8fb0fa80-8c7f-4282-94b7-e3601741776e"
   },
   "outputs": [],
   "source": [
    "clf = SVC(kernel=\"rbf\", probability=True)\n",
    "decision_surface(X, y, clf)\n",
    "classify(X, y, clf)"
   ]
  },
  {
   "cell_type": "code",
   "execution_count": null,
   "metadata": {
    "colab": {
     "base_uri": "https://localhost:8080/",
     "height": 281
    },
    "id": "6lj-OinJU8NU",
    "outputId": "d971aa05-0f00-4dc5-c7c4-62f4f07c2426"
   },
   "outputs": [],
   "source": [
    "clf = SVC(kernel=\"rbf\", C=1000, probability=True)\n",
    "decision_surface(X, y, clf)\n",
    "classify(X, y, clf)"
   ]
  },
  {
   "cell_type": "markdown",
   "metadata": {
    "id": "0PYW9nkuGYKh"
   },
   "source": [
    "#### task 10: **find SVC hyperparameters with best test score**\n",
    "\n",
    "change: n_components, kernel, C"
   ]
  },
  {
   "cell_type": "code",
   "execution_count": null,
   "metadata": {
    "colab": {
     "base_uri": "https://localhost:8080/"
    },
    "id": "F-6ACW9fGYKi",
    "outputId": "c60b11db-c479-481a-8eab-74a73383de80"
   },
   "outputs": [],
   "source": []
  },
  {
   "cell_type": "code",
   "execution_count": null,
   "metadata": {},
   "outputs": [],
   "source": []
  },
  {
   "cell_type": "code",
   "execution_count": null,
   "metadata": {},
   "outputs": [],
   "source": []
  },
  {
   "cell_type": "code",
   "execution_count": null,
   "metadata": {
    "colab": {
     "base_uri": "https://localhost:8080/"
    },
    "id": "gG1kpotXGYKj",
    "outputId": "23dc794f-fafd-42bd-bbe7-3851b467d2df"
   },
   "outputs": [],
   "source": []
  },
  {
   "cell_type": "code",
   "execution_count": null,
   "metadata": {},
   "outputs": [],
   "source": []
  },
  {
   "cell_type": "code",
   "execution_count": null,
   "metadata": {
    "colab": {
     "base_uri": "https://localhost:8080/"
    },
    "id": "rzIooBzk4cPc",
    "outputId": "bb0ef7e6-dea9-492a-9dcf-7a2b264b6c3f"
   },
   "outputs": [],
   "source": []
  },
  {
   "cell_type": "code",
   "execution_count": null,
   "metadata": {
    "colab": {
     "base_uri": "https://localhost:8080/"
    },
    "id": "-5WE1CLyGYKj",
    "outputId": "3b7b1c03-ea50-4bfb-e22d-2f15cc4290b6"
   },
   "outputs": [],
   "source": []
  },
  {
   "cell_type": "code",
   "execution_count": null,
   "metadata": {},
   "outputs": [],
   "source": []
  },
  {
   "cell_type": "markdown",
   "metadata": {
    "id": "a5rX00qbGYKl"
   },
   "source": [
    "### **Grid-search + crossvalidation**"
   ]
  },
  {
   "cell_type": "code",
   "execution_count": null,
   "metadata": {
    "id": "xKRbmlGLGYKl"
   },
   "outputs": [],
   "source": [
    "from sklearn.model_selection import GridSearchCV"
   ]
  },
  {
   "cell_type": "code",
   "execution_count": null,
   "metadata": {
    "colab": {
     "base_uri": "https://localhost:8080/"
    },
    "id": "jyeQmN-9GYKl",
    "outputId": "21c313c3-1083-48e8-b7ae-a81e9999863e"
   },
   "outputs": [],
   "source": [
    "components = [2, 3, 4]\n",
    "C = [0.01, 0.1, 1, 10, 100]\n",
    "\n",
    "params = {\"pca__n_components\" : components,\n",
    "          \"svc__C\" : C}\n",
    "\n",
    "model = make_pipeline(StandardScaler(),\n",
    "                      PCA(n_components=3),\n",
    "                      SVC(kernel=\"rbf\"))\n",
    "\n",
    "gs = GridSearchCV(model, params, cv=20, n_jobs=4)\n",
    "gs.fit(X, y)"
   ]
  },
  {
   "cell_type": "code",
   "execution_count": null,
   "metadata": {
    "scrolled": true
   },
   "outputs": [],
   "source": [
    "gs.cv_results_"
   ]
  },
  {
   "cell_type": "code",
   "execution_count": null,
   "metadata": {
    "colab": {
     "base_uri": "https://localhost:8080/"
    },
    "id": "xFNq5dL4GYKm",
    "outputId": "dd6d3d5e-405b-4ea7-e43b-c39af852042e"
   },
   "outputs": [],
   "source": [
    "pars, score = gs.cv_results_[\"params\"], gs.cv_results_[\"mean_test_score\"]\n",
    "\n",
    "indices = np.argsort(score)\n",
    "\n",
    "for i in indices:\n",
    "    print(pars[i], score[i].round(3))"
   ]
  },
  {
   "cell_type": "code",
   "execution_count": null,
   "metadata": {
    "colab": {
     "base_uri": "https://localhost:8080/",
     "height": 388
    },
    "id": "N1oAaCZrqCR4",
    "outputId": "2d1af307-6737-4f89-c427-f2fb42386b82"
   },
   "outputs": [],
   "source": [
    "res = gs.cv_results_\n",
    "\n",
    "plt.figure(figsize=(len(C)*1.5,len(components)*1.5))\n",
    "plt.imshow(res[\"mean_test_score\"].reshape(len(C), len(components)), origin=\"lower\")\n",
    "n = 0\n",
    "for i in range(len(C)):\n",
    "    for j in range(len(components)):\n",
    "        plt.text(j,i,\"{0:.3f}\".format(res[\"mean_test_score\"][n]), ha=\"center\")\n",
    "        n += 1\n",
    "\n",
    "plt.ylabel(\"C\")\n",
    "plt.xlabel(\"n_components\")\n",
    "plt.yticks(np.arange(len(params[\"svc__C\"])), params[\"svc__C\"]);\n",
    "plt.xticks(np.arange(len(params[\"pca__n_components\"])), params[\"pca__n_components\"]);"
   ]
  },
  {
   "cell_type": "code",
   "execution_count": null,
   "metadata": {
    "colab": {
     "base_uri": "https://localhost:8080/"
    },
    "id": "dPJjayx2Dm2p",
    "outputId": "3fd7f477-c9bd-4afa-d6ad-83622aa8325a"
   },
   "outputs": [],
   "source": [
    "gs.best_estimator_"
   ]
  },
  {
   "cell_type": "code",
   "execution_count": null,
   "metadata": {},
   "outputs": [],
   "source": [
    "gs.best_score_"
   ]
  },
  {
   "cell_type": "code",
   "execution_count": null,
   "metadata": {},
   "outputs": [],
   "source": [
    "gs.best_params_"
   ]
  },
  {
   "cell_type": "code",
   "execution_count": null,
   "metadata": {
    "colab": {
     "base_uri": "https://localhost:8080/",
     "height": 281
    },
    "id": "jOIRblw16VDI",
    "outputId": "5367c04c-5db5-401e-bfb0-87cfbe974043"
   },
   "outputs": [],
   "source": [
    "decision_surface(X, y, SVC(kernel=\"rbf\", C=10, gamma=1, probability=True))"
   ]
  },
  {
   "cell_type": "markdown",
   "metadata": {
    "id": "D_pSaCWM3gec"
   },
   "source": [
    "## **Ensemble methods**"
   ]
  },
  {
   "cell_type": "markdown",
   "metadata": {
    "id": "r8g4xFXRGFne"
   },
   "source": [
    "### **Various hyper-parameters**"
   ]
  },
  {
   "cell_type": "code",
   "execution_count": null,
   "metadata": {
    "id": "9Uvk2gjj3f1n"
   },
   "outputs": [],
   "source": [
    "from sklearn.ensemble import StackingClassifier"
   ]
  },
  {
   "cell_type": "code",
   "execution_count": null,
   "metadata": {
    "colab": {
     "base_uri": "https://localhost:8080/"
    },
    "id": "eTQkxAZCFjw4",
    "outputId": "b17bd3cd-ca56-49f3-c44d-7cf70d5805cc"
   },
   "outputs": [],
   "source": [
    "classifiers = [(\"Linear\", SVC(kernel=\"linear\")),\n",
    "               (\"Quadratic\", SVC(kernel=\"poly\", degree=2))]\n",
    "\n",
    "model = make_pipeline(StandardScaler(),\n",
    "                      PCA(n_components=3),\n",
    "                      StackingClassifier(classifiers))\n",
    "\n",
    "score = cross_val_score(model, X, y, cv=10)\n",
    "np.mean(score), np.std(score)"
   ]
  },
  {
   "cell_type": "code",
   "execution_count": null,
   "metadata": {
    "colab": {
     "base_uri": "https://localhost:8080/",
     "height": 281
    },
    "id": "v48Iqa1NF0iI",
    "outputId": "11fc3634-8b19-40d9-d844-0a1fa6c5f242"
   },
   "outputs": [],
   "source": [
    "decision_surface(X, y, StackingClassifier(classifiers))"
   ]
  },
  {
   "cell_type": "markdown",
   "metadata": {
    "id": "j4VUjY3TGP3w"
   },
   "source": [
    "### **Random forest**"
   ]
  },
  {
   "cell_type": "code",
   "execution_count": null,
   "metadata": {},
   "outputs": [],
   "source": [
    "from sklearn.tree import DecisionTreeClassifier"
   ]
  },
  {
   "cell_type": "code",
   "execution_count": null,
   "metadata": {
    "colab": {
     "base_uri": "https://localhost:8080/"
    },
    "id": "5Hltix9NWsmo",
    "outputId": "7c2cf7e1-7a68-422a-c511-402f2eca44d8"
   },
   "outputs": [],
   "source": [
    "classifiers = [(\"One\", DecisionTreeClassifier(random_state=1)),\n",
    "               (\"Two\", DecisionTreeClassifier(random_state=2)),\n",
    "               (\"Three\", DecisionTreeClassifier(random_state=3)),\n",
    "               (\"Four\", DecisionTreeClassifier(random_state=4))]\n",
    "\n",
    "model = make_pipeline(StandardScaler(),\n",
    "                      PCA(n_components=3),\n",
    "                      StackingClassifier(classifiers))\n",
    "\n",
    "score = cross_val_score(model, X, y, cv=10)\n",
    "np.mean(score), np.std(score)"
   ]
  },
  {
   "cell_type": "code",
   "execution_count": null,
   "metadata": {},
   "outputs": [],
   "source": [
    "model"
   ]
  },
  {
   "cell_type": "code",
   "execution_count": null,
   "metadata": {},
   "outputs": [],
   "source": [
    "decision_surface(X, y, StackingClassifier(classifiers))"
   ]
  },
  {
   "cell_type": "code",
   "execution_count": null,
   "metadata": {
    "id": "JMDa_nxxGYKr"
   },
   "outputs": [],
   "source": [
    "from sklearn.ensemble import RandomForestClassifier"
   ]
  },
  {
   "cell_type": "code",
   "execution_count": null,
   "metadata": {
    "colab": {
     "base_uri": "https://localhost:8080/"
    },
    "id": "gdqWpK1iGYK0",
    "outputId": "fc84c648-1090-4fd0-a1b6-633c041b1849"
   },
   "outputs": [],
   "source": [
    "model = make_pipeline(StandardScaler(),\n",
    "                      PCA(n_components=3),\n",
    "                      RandomForestClassifier(n_estimators=4))\n",
    "\n",
    "score = cross_val_score(model, X, y, cv=10)\n",
    "np.mean(score), np.std(score)"
   ]
  },
  {
   "cell_type": "code",
   "execution_count": null,
   "metadata": {},
   "outputs": [],
   "source": [
    "model"
   ]
  },
  {
   "cell_type": "code",
   "execution_count": null,
   "metadata": {
    "colab": {
     "base_uri": "https://localhost:8080/",
     "height": 281
    },
    "id": "7HTAt_pjD6_Q",
    "outputId": "e1f9c9f4-3091-4bf5-9650-86ef9ccd34db"
   },
   "outputs": [],
   "source": [
    "decision_surface(X, y, RandomForestClassifier(n_estimators=100))"
   ]
  },
  {
   "cell_type": "markdown",
   "metadata": {
    "id": "jMH5qPGMAeB4"
   },
   "source": [
    "### **Stacking multiple methods**"
   ]
  },
  {
   "cell_type": "code",
   "execution_count": null,
   "metadata": {
    "id": "93lNl7rt3ftZ"
   },
   "outputs": [],
   "source": [
    "from sklearn.neural_network import MLPClassifier # multi-layer perceptron classifier\n",
    "from sklearn.naive_bayes import GaussianNB\n",
    "from sklearn.tree import DecisionTreeClassifier\n",
    "from sklearn.neighbors import KNeighborsClassifier"
   ]
  },
  {
   "cell_type": "code",
   "execution_count": null,
   "metadata": {
    "colab": {
     "base_uri": "https://localhost:8080/"
    },
    "id": "jRSP0nxqGYKn",
    "outputId": "7e773d6a-f273-4707-9ced-2830d9ba49c4"
   },
   "outputs": [],
   "source": [
    "classifiers = [(\"SVC\", SVC(kernel=\"rbf\", C=10, gamma=1)),\n",
    "               (\"RFC\", RandomForestClassifier()),\n",
    "               (\"MLP\", MLPClassifier(max_iter=1000)),\n",
    "               (\"Bayes\", GaussianNB()),\n",
    "               (\"KNN\", KNeighborsClassifier())]\n",
    "\n",
    "for classifier in classifiers:\n",
    "    print(classifier[0], classifier[1])\n",
    "    classify(X, y, classifier[1])\n",
    "    print()"
   ]
  },
  {
   "cell_type": "code",
   "execution_count": null,
   "metadata": {
    "colab": {
     "base_uri": "https://localhost:8080/"
    },
    "id": "ccqwzF_tGYK1",
    "outputId": "a909d71b-a3ea-4cfd-da17-3aa56adc4f99"
   },
   "outputs": [],
   "source": [
    "model = make_pipeline(StandardScaler(),\n",
    "                      PCA(n_components=3),\n",
    "                      StackingClassifier(classifiers))\n",
    "\n",
    "score = cross_val_score(model, X, y, cv=10)\n",
    "np.mean(score), np.std(score)"
   ]
  },
  {
   "cell_type": "code",
   "execution_count": null,
   "metadata": {},
   "outputs": [],
   "source": [
    "model"
   ]
  },
  {
   "cell_type": "code",
   "execution_count": null,
   "metadata": {
    "colab": {
     "base_uri": "https://localhost:8080/",
     "height": 281
    },
    "id": "Um00cOfpH2cn",
    "outputId": "000978d4-870c-4436-9ac6-50604b099a05"
   },
   "outputs": [],
   "source": [
    "decision_surface(X, y, StackingClassifier(classifiers))"
   ]
  },
  {
   "cell_type": "markdown",
   "metadata": {},
   "source": [
    "### **Stacking classifiers + GridSearchCV**"
   ]
  },
  {
   "cell_type": "code",
   "execution_count": null,
   "metadata": {},
   "outputs": [],
   "source": [
    "classifiers = [(\"SVC\", SVC(kernel=\"rbf\")),\n",
    "               (\"RFC\", RandomForestClassifier()),\n",
    "               (\"MLP\", MLPClassifier(max_iter=1000)),\n",
    "               (\"Bayes\", GaussianNB()),\n",
    "               (\"KNN\", KNeighborsClassifier())]\n",
    "\n",
    "components = [3, 4]\n",
    "C = [0.01, 1, 100]\n",
    "hidden_layer_sizes = [10, 50]\n",
    "\n",
    "params = {\"pca__n_components\" : components,\n",
    "          \"stackingclassifier__SVC__C\" : C,\n",
    "          \"stackingclassifier__MLP__hidden_layer_sizes\" : hidden_layer_sizes}\n",
    "\n",
    "model = make_pipeline(StandardScaler(),\n",
    "                      PCA(n_components=3),\n",
    "                      StackingClassifier(classifiers))\n",
    "\n",
    "gs = GridSearchCV(model, params, cv=20, n_jobs=4)\n",
    "gs.fit(X, y)"
   ]
  },
  {
   "cell_type": "code",
   "execution_count": null,
   "metadata": {},
   "outputs": [],
   "source": [
    "gs.best_estimator_.score(X_train, y_train)"
   ]
  },
  {
   "cell_type": "markdown",
   "metadata": {
    "id": "bnIInEhCXdFP"
   },
   "source": [
    "## **Performance evaluation**"
   ]
  },
  {
   "cell_type": "markdown",
   "metadata": {
    "id": "OEuCneVx0Ep9"
   },
   "source": [
    "### **[`classification_report`](https://scikit-learn.org/stable/modules/generated/sklearn.metrics.classification_report.html) and [`ConfusionMatrixDisplay`](https://scikit-learn.org/stable/modules/generated/sklearn.metrics.ConfusionMatrixDisplay.html)**"
   ]
  },
  {
   "cell_type": "code",
   "execution_count": null,
   "metadata": {},
   "outputs": [],
   "source": [
    "classifiers = [(\"SVC\", SVC(kernel=\"rbf\")),\n",
    "               (\"RFC\", RandomForestClassifier()),\n",
    "               (\"MLP\", MLPClassifier(max_iter=1000)),\n",
    "               (\"Bayes\", GaussianNB()),\n",
    "               (\"KNN\", KNeighborsClassifier())]\n",
    "\n",
    "model = make_pipeline(StandardScaler(),\n",
    "                      PCA(n_components=3),\n",
    "                      StackingClassifier(classifiers))\n",
    "\n",
    "model.fit(X_train, y_train)"
   ]
  },
  {
   "cell_type": "code",
   "execution_count": null,
   "metadata": {
    "id": "am_qy-DK0FLu"
   },
   "outputs": [],
   "source": [
    "from sklearn.metrics import ConfusionMatrixDisplay"
   ]
  },
  {
   "cell_type": "code",
   "execution_count": null,
   "metadata": {
    "colab": {
     "base_uri": "https://localhost:8080/",
     "height": 282
    },
    "id": "FoWrqWNF0FR5",
    "outputId": "e5fc1679-cf16-42d8-ba3b-55c926991fc3"
   },
   "outputs": [],
   "source": [
    "ConfusionMatrixDisplay.from_estimator(model, X_test, y_test, display_labels=[\"QSO\", \"star\"], normalize=\"true\");"
   ]
  },
  {
   "cell_type": "code",
   "execution_count": null,
   "metadata": {},
   "outputs": [],
   "source": [
    "from sklearn.metrics import classification_report"
   ]
  },
  {
   "cell_type": "code",
   "execution_count": null,
   "metadata": {
    "colab": {
     "base_uri": "https://localhost:8080/"
    },
    "id": "XIdS0Y3P0FOn",
    "outputId": "02d716fe-6262-4585-cbf1-8b0cd1683bac"
   },
   "outputs": [],
   "source": [
    "y_pred = model.predict(X_test)\n",
    "\n",
    "print(classification_report(y_test, y_pred, digits=3))"
   ]
  },
  {
   "cell_type": "markdown",
   "metadata": {
    "id": "mUhmTJO3GYK1"
   },
   "source": [
    "## **Conclusion**"
   ]
  },
  {
   "cell_type": "code",
   "execution_count": null,
   "metadata": {
    "colab": {
     "base_uri": "https://localhost:8080/",
     "height": 296
    },
    "id": "R3tjj2vcGYK1",
    "outputId": "1035630e-d086-49ca-cc13-3436fce86481"
   },
   "outputs": [],
   "source": [
    "# Data preparation\n",
    "X = data[[\"u\",\"g\",\"r\",\"i\",\"z\"]]\n",
    "le = LabelEncoder()\n",
    "y = le.fit_transform(data[\"target\"])\n",
    "\n",
    "# Train-test split\n",
    "X_train, X_test, y_train, y_test = train_test_split(X, y, test_size=0.1, stratify=y, random_state=420)\n",
    "\n",
    "# Stacking classifiers\n",
    "classifiers = [(\"SVC\", SVC(kernel=\"rbf\", C=10, gamma=1)),\n",
    "               (\"RFC\", RandomForestClassifier()),\n",
    "               (\"MLP\", MLPClassifier(max_iter=1000)),\n",
    "               (\"Bayes\", GaussianNB()),\n",
    "               (\"KNN\", KNeighborsClassifier())]\n",
    "\n",
    "# Making a pipeline\n",
    "model = make_pipeline(StandardScaler(),\n",
    "                      PCA(n_components=3),\n",
    "                      StackingClassifier(classifiers))\n",
    "\n",
    "# Fitting a model for train data\n",
    "model.fit(X_train, y_train)\n",
    "\n",
    "# Testing a model on test data\n",
    "score = model.score(X_test, y_test)\n",
    "\n",
    "ConfusionMatrixDisplay.from_estimator(model, X_test, y_test, display_labels=[\"QSO\", \"star\"], normalize=\"true\");\n",
    "\n",
    "# Cross-validation\n",
    "score = cross_val_score(model, X, y, cv=10)\n",
    "print(np.mean(score), np.std(score))"
   ]
  },
  {
   "cell_type": "markdown",
   "metadata": {
    "id": "piZXL3PN0Grh"
   },
   "source": [
    "## **Model inference**"
   ]
  },
  {
   "cell_type": "code",
   "execution_count": null,
   "metadata": {
    "colab": {
     "base_uri": "https://localhost:8080/"
    },
    "id": "ouEW5qescwo8",
    "outputId": "ad32e1f0-cee9-4043-f961-e53b43d5d762"
   },
   "outputs": [],
   "source": [
    "classifiers = [(\"SVC\", SVC(kernel=\"rbf\", C=10, gamma=1)),\n",
    "               (\"RFC\", RandomForestClassifier()),\n",
    "               (\"MLP\", MLPClassifier(max_iter=1000)),\n",
    "               (\"Bayes\", GaussianNB()),\n",
    "               (\"KNN\", KNeighborsClassifier())]\n",
    "\n",
    "model = make_pipeline(StandardScaler(),\n",
    "                      PCA(n_components=2),\n",
    "                      StackingClassifier(classifiers))\n",
    "\n",
    "model.fit(X, y)"
   ]
  },
  {
   "cell_type": "markdown",
   "metadata": {
    "id": "ngmliPGF0KYg"
   },
   "source": [
    "### task 11: **pick an object from SDSS and classify it**\n",
    "\n",
    "http://skyserver.sdss.org/dr7/en/tools/search/radial.asp"
   ]
  },
  {
   "cell_type": "code",
   "execution_count": null,
   "metadata": {
    "colab": {
     "base_uri": "https://localhost:8080/",
     "height": 81
    },
    "id": "f3SeWR9NNlmE",
    "outputId": "8aa07cb0-17a9-45b1-ea28-1e337f4247fd"
   },
   "outputs": [],
   "source": [
    "u = \n",
    "g = \n",
    "r = \n",
    "i = \n",
    "z = \n",
    "\n",
    "X_real = pd.DataFrame(np.array([[u,g,r,i,z]]), columns=[\"u\",\"g\",\"r\",\"i\",\"z\"])\n",
    "\n",
    "X_real"
   ]
  },
  {
   "cell_type": "code",
   "execution_count": null,
   "metadata": {
    "colab": {
     "base_uri": "https://localhost:8080/"
    },
    "id": "ZNg6aU3TE0Ba",
    "outputId": "fb45c772-5367-4616-8068-89d4b25b8a84"
   },
   "outputs": [],
   "source": []
  },
  {
   "cell_type": "code",
   "execution_count": null,
   "metadata": {
    "id": "ddBspnOkPVZ6"
   },
   "outputs": [],
   "source": []
  }
 ],
 "metadata": {
  "colab": {
   "collapsed_sections": [],
   "include_colab_link": true,
   "provenance": [],
   "toc_visible": true
  },
  "kernelspec": {
   "display_name": "Python 3 (ipykernel)",
   "language": "python",
   "name": "python3"
  },
  "language_info": {
   "codemirror_mode": {
    "name": "ipython",
    "version": 3
   },
   "file_extension": ".py",
   "mimetype": "text/x-python",
   "name": "python",
   "nbconvert_exporter": "python",
   "pygments_lexer": "ipython3",
   "version": "3.11.5"
  },
  "toc-autonumbering": false
 },
 "nbformat": 4,
 "nbformat_minor": 4
}
