{
  "nbformat": 4,
  "nbformat_minor": 0,
  "metadata": {
    "colab": {
      "provenance": [],
      "collapsed_sections": [],
      "toc_visible": true,
      "include_colab_link": true
    },
    "kernelspec": {
      "display_name": "Python 3",
      "language": "python",
      "name": "python3"
    },
    "language_info": {
      "codemirror_mode": {
        "name": "ipython",
        "version": 3
      },
      "file_extension": ".py",
      "mimetype": "text/x-python",
      "name": "python",
      "nbconvert_exporter": "python",
      "pygments_lexer": "ipython3",
      "version": "3.8.10"
    },
    "toc-autonumbering": false
  },
  "cells": [
    {
      "cell_type": "markdown",
      "metadata": {
        "id": "view-in-github",
        "colab_type": "text"
      },
      "source": [
        "<a href=\"https://colab.research.google.com/github/tomasplsek/AstroML/blob/main/03_sklearn.ipynb\" target=\"_parent\"><img src=\"https://colab.research.google.com/assets/colab-badge.svg\" alt=\"Open In Colab\"/></a>"
      ]
    },
    {
      "cell_type": "markdown",
      "metadata": {
        "id": "w5pcm7J6fqxK"
      },
      "source": [
        "# 3. hands-on session: **From *Data* to *Prediction***"
      ]
    },
    {
      "cell_type": "markdown",
      "metadata": {
        "id": "qXE0gT_O3l-l"
      },
      "source": [
        "## **Contents**\n",
        "\n",
        "1. Preprocess the data\n",
        "1. Select features & reduce dimensions\n",
        "1. Cross-validate\n",
        "1. Find best hyperparameters\n",
        "1. Compare classifiers\n",
        "1. Combine classifiers\n",
        "1. Evaluate performance\n",
        "1. Predict"
      ]
    },
    {
      "cell_type": "code",
      "metadata": {
        "id": "ZCF_HPrGAIMK"
      },
      "source": [
        "import numpy as np\n",
        "import pandas as pd\n",
        "import matplotlib.pyplot as plt"
      ],
      "execution_count": 1,
      "outputs": []
    },
    {
      "cell_type": "markdown",
      "metadata": {
        "id": "nIMmT6-DCEYC"
      },
      "source": [
        "## **Our dataset**\n",
        "\n",
        "SDSS photometry of points sources: Star vs QSO"
      ]
    },
    {
      "cell_type": "markdown",
      "metadata": {
        "id": "Hc23Ez28VGGe"
      },
      "source": [
        "<img src=\"https://cdn.mos.cms.futurecdn.net/HgaCHZDNppE6e52yeDACo6-970-80.jpg.webp\" height=200>\n",
        "\n",
        "<img src=\"https://earthsky.org/upl/2021/01/supermassive-black-hole-artist-e1610556964639.jpg\" height=200 align=right>\n",
        "\n"
      ]
    },
    {
      "cell_type": "markdown",
      "source": [
        "# **Sloan Digital Sky Survey (SDSS)**\n",
        "\n",
        "- photometry & spectroscopy\n",
        "\n",
        "- fotometry 1 billion objects\n",
        "\n",
        "- spectroscopy 6 million objects\n",
        "\n",
        "- stars from our galaxy\n",
        "\n",
        "- galaxies up to $z \\approx 0.7$\n",
        "\n",
        "- quasars up to $z \\approx 6$\n",
        "\n",
        "- color system `u g r i z`\n",
        "\n",
        "<img src=\"https://www.astroml.org/_images/fig_sdss_filters_1.png\" align=left width=500>"
      ],
      "metadata": {
        "id": "vFSwlRFZ-Z6T"
      }
    },
    {
      "cell_type": "code",
      "metadata": {
        "colab": {
          "base_uri": "https://localhost:8080/"
        },
        "id": "kjK_BVs1CDh9",
        "outputId": "52503aac-b311-4a9a-92a9-838bc2b68a20"
      },
      "source": [
        "!wget -c \"https://drive.google.com/uc?id=1IoQfGFo13ZP2wTyp-xvzQvguPYhE8TWB\" -O \"sdss_photo.csv\""
      ],
      "execution_count": 2,
      "outputs": [
        {
          "output_type": "stream",
          "name": "stdout",
          "text": [
            "--2022-10-16 19:27:57--  https://drive.google.com/uc?id=1IoQfGFo13ZP2wTyp-xvzQvguPYhE8TWB\n",
            "Resolving drive.google.com (drive.google.com)... 142.250.148.100, 142.250.148.138, 142.250.148.139, ...\n",
            "Connecting to drive.google.com (drive.google.com)|142.250.148.100|:443... connected.\n",
            "HTTP request sent, awaiting response... 416 Requested range not satisfiable\n",
            "\n",
            "    The file is already fully retrieved; nothing to do.\n",
            "\n"
          ]
        }
      ]
    },
    {
      "cell_type": "markdown",
      "metadata": {
        "id": "jWeG6dFa0x77"
      },
      "source": [
        "## **Data preprocessing**"
      ]
    },
    {
      "cell_type": "code",
      "metadata": {
        "id": "Pqhbn1Ht58EC"
      },
      "source": [
        "data = pd.read_csv(\"sdss_photo.csv\")"
      ],
      "execution_count": 3,
      "outputs": []
    },
    {
      "cell_type": "code",
      "metadata": {
        "colab": {
          "base_uri": "https://localhost:8080/",
          "height": 424
        },
        "id": "DyEbvboDoe02",
        "outputId": "998f8ff4-8f82-4b4a-e246-c688e749268f"
      },
      "source": [
        "data"
      ],
      "execution_count": 5,
      "outputs": [
        {
          "output_type": "execute_result",
          "data": {
            "text/plain": [
              "             u          g          r          i          z target\n",
              "0    19.240999  17.525999  16.840000  16.613001  16.492001   star\n",
              "1    19.732000  18.339001  17.767000  17.580000  17.481001   star\n",
              "2    16.120001  15.232000  14.933000  14.845000  14.827000   star\n",
              "3    18.995001  18.150999  17.877001  17.747000  17.766001   star\n",
              "4    19.032000  18.112000  17.848000  17.709999  17.712000   star\n",
              "..         ...        ...        ...        ...        ...    ...\n",
              "862  19.247000  19.047001  18.663000  18.627001  18.671000    QSO\n",
              "863  26.433001  21.429001  20.261000  20.108000  20.073000    QSO\n",
              "864  20.535999  20.200001  20.292999  19.910000  19.726000    QSO\n",
              "865  20.627001  20.583000  20.270000  20.229000  20.190001    QSO\n",
              "866  19.431000  19.228001  18.794001  18.791000  18.923000    QSO\n",
              "\n",
              "[867 rows x 6 columns]"
            ],
            "text/html": [
              "\n",
              "  <div id=\"df-2225df05-6bfb-4b76-aac6-5313df602b1d\">\n",
              "    <div class=\"colab-df-container\">\n",
              "      <div>\n",
              "<style scoped>\n",
              "    .dataframe tbody tr th:only-of-type {\n",
              "        vertical-align: middle;\n",
              "    }\n",
              "\n",
              "    .dataframe tbody tr th {\n",
              "        vertical-align: top;\n",
              "    }\n",
              "\n",
              "    .dataframe thead th {\n",
              "        text-align: right;\n",
              "    }\n",
              "</style>\n",
              "<table border=\"1\" class=\"dataframe\">\n",
              "  <thead>\n",
              "    <tr style=\"text-align: right;\">\n",
              "      <th></th>\n",
              "      <th>u</th>\n",
              "      <th>g</th>\n",
              "      <th>r</th>\n",
              "      <th>i</th>\n",
              "      <th>z</th>\n",
              "      <th>target</th>\n",
              "    </tr>\n",
              "  </thead>\n",
              "  <tbody>\n",
              "    <tr>\n",
              "      <th>0</th>\n",
              "      <td>19.240999</td>\n",
              "      <td>17.525999</td>\n",
              "      <td>16.840000</td>\n",
              "      <td>16.613001</td>\n",
              "      <td>16.492001</td>\n",
              "      <td>star</td>\n",
              "    </tr>\n",
              "    <tr>\n",
              "      <th>1</th>\n",
              "      <td>19.732000</td>\n",
              "      <td>18.339001</td>\n",
              "      <td>17.767000</td>\n",
              "      <td>17.580000</td>\n",
              "      <td>17.481001</td>\n",
              "      <td>star</td>\n",
              "    </tr>\n",
              "    <tr>\n",
              "      <th>2</th>\n",
              "      <td>16.120001</td>\n",
              "      <td>15.232000</td>\n",
              "      <td>14.933000</td>\n",
              "      <td>14.845000</td>\n",
              "      <td>14.827000</td>\n",
              "      <td>star</td>\n",
              "    </tr>\n",
              "    <tr>\n",
              "      <th>3</th>\n",
              "      <td>18.995001</td>\n",
              "      <td>18.150999</td>\n",
              "      <td>17.877001</td>\n",
              "      <td>17.747000</td>\n",
              "      <td>17.766001</td>\n",
              "      <td>star</td>\n",
              "    </tr>\n",
              "    <tr>\n",
              "      <th>4</th>\n",
              "      <td>19.032000</td>\n",
              "      <td>18.112000</td>\n",
              "      <td>17.848000</td>\n",
              "      <td>17.709999</td>\n",
              "      <td>17.712000</td>\n",
              "      <td>star</td>\n",
              "    </tr>\n",
              "    <tr>\n",
              "      <th>...</th>\n",
              "      <td>...</td>\n",
              "      <td>...</td>\n",
              "      <td>...</td>\n",
              "      <td>...</td>\n",
              "      <td>...</td>\n",
              "      <td>...</td>\n",
              "    </tr>\n",
              "    <tr>\n",
              "      <th>862</th>\n",
              "      <td>19.247000</td>\n",
              "      <td>19.047001</td>\n",
              "      <td>18.663000</td>\n",
              "      <td>18.627001</td>\n",
              "      <td>18.671000</td>\n",
              "      <td>QSO</td>\n",
              "    </tr>\n",
              "    <tr>\n",
              "      <th>863</th>\n",
              "      <td>26.433001</td>\n",
              "      <td>21.429001</td>\n",
              "      <td>20.261000</td>\n",
              "      <td>20.108000</td>\n",
              "      <td>20.073000</td>\n",
              "      <td>QSO</td>\n",
              "    </tr>\n",
              "    <tr>\n",
              "      <th>864</th>\n",
              "      <td>20.535999</td>\n",
              "      <td>20.200001</td>\n",
              "      <td>20.292999</td>\n",
              "      <td>19.910000</td>\n",
              "      <td>19.726000</td>\n",
              "      <td>QSO</td>\n",
              "    </tr>\n",
              "    <tr>\n",
              "      <th>865</th>\n",
              "      <td>20.627001</td>\n",
              "      <td>20.583000</td>\n",
              "      <td>20.270000</td>\n",
              "      <td>20.229000</td>\n",
              "      <td>20.190001</td>\n",
              "      <td>QSO</td>\n",
              "    </tr>\n",
              "    <tr>\n",
              "      <th>866</th>\n",
              "      <td>19.431000</td>\n",
              "      <td>19.228001</td>\n",
              "      <td>18.794001</td>\n",
              "      <td>18.791000</td>\n",
              "      <td>18.923000</td>\n",
              "      <td>QSO</td>\n",
              "    </tr>\n",
              "  </tbody>\n",
              "</table>\n",
              "<p>867 rows × 6 columns</p>\n",
              "</div>\n",
              "      <button class=\"colab-df-convert\" onclick=\"convertToInteractive('df-2225df05-6bfb-4b76-aac6-5313df602b1d')\"\n",
              "              title=\"Convert this dataframe to an interactive table.\"\n",
              "              style=\"display:none;\">\n",
              "        \n",
              "  <svg xmlns=\"http://www.w3.org/2000/svg\" height=\"24px\"viewBox=\"0 0 24 24\"\n",
              "       width=\"24px\">\n",
              "    <path d=\"M0 0h24v24H0V0z\" fill=\"none\"/>\n",
              "    <path d=\"M18.56 5.44l.94 2.06.94-2.06 2.06-.94-2.06-.94-.94-2.06-.94 2.06-2.06.94zm-11 1L8.5 8.5l.94-2.06 2.06-.94-2.06-.94L8.5 2.5l-.94 2.06-2.06.94zm10 10l.94 2.06.94-2.06 2.06-.94-2.06-.94-.94-2.06-.94 2.06-2.06.94z\"/><path d=\"M17.41 7.96l-1.37-1.37c-.4-.4-.92-.59-1.43-.59-.52 0-1.04.2-1.43.59L10.3 9.45l-7.72 7.72c-.78.78-.78 2.05 0 2.83L4 21.41c.39.39.9.59 1.41.59.51 0 1.02-.2 1.41-.59l7.78-7.78 2.81-2.81c.8-.78.8-2.07 0-2.86zM5.41 20L4 18.59l7.72-7.72 1.47 1.35L5.41 20z\"/>\n",
              "  </svg>\n",
              "      </button>\n",
              "      \n",
              "  <style>\n",
              "    .colab-df-container {\n",
              "      display:flex;\n",
              "      flex-wrap:wrap;\n",
              "      gap: 12px;\n",
              "    }\n",
              "\n",
              "    .colab-df-convert {\n",
              "      background-color: #E8F0FE;\n",
              "      border: none;\n",
              "      border-radius: 50%;\n",
              "      cursor: pointer;\n",
              "      display: none;\n",
              "      fill: #1967D2;\n",
              "      height: 32px;\n",
              "      padding: 0 0 0 0;\n",
              "      width: 32px;\n",
              "    }\n",
              "\n",
              "    .colab-df-convert:hover {\n",
              "      background-color: #E2EBFA;\n",
              "      box-shadow: 0px 1px 2px rgba(60, 64, 67, 0.3), 0px 1px 3px 1px rgba(60, 64, 67, 0.15);\n",
              "      fill: #174EA6;\n",
              "    }\n",
              "\n",
              "    [theme=dark] .colab-df-convert {\n",
              "      background-color: #3B4455;\n",
              "      fill: #D2E3FC;\n",
              "    }\n",
              "\n",
              "    [theme=dark] .colab-df-convert:hover {\n",
              "      background-color: #434B5C;\n",
              "      box-shadow: 0px 1px 3px 1px rgba(0, 0, 0, 0.15);\n",
              "      filter: drop-shadow(0px 1px 2px rgba(0, 0, 0, 0.3));\n",
              "      fill: #FFFFFF;\n",
              "    }\n",
              "  </style>\n",
              "\n",
              "      <script>\n",
              "        const buttonEl =\n",
              "          document.querySelector('#df-2225df05-6bfb-4b76-aac6-5313df602b1d button.colab-df-convert');\n",
              "        buttonEl.style.display =\n",
              "          google.colab.kernel.accessAllowed ? 'block' : 'none';\n",
              "\n",
              "        async function convertToInteractive(key) {\n",
              "          const element = document.querySelector('#df-2225df05-6bfb-4b76-aac6-5313df602b1d');\n",
              "          const dataTable =\n",
              "            await google.colab.kernel.invokeFunction('convertToInteractive',\n",
              "                                                     [key], {});\n",
              "          if (!dataTable) return;\n",
              "\n",
              "          const docLinkHtml = 'Like what you see? Visit the ' +\n",
              "            '<a target=\"_blank\" href=https://colab.research.google.com/notebooks/data_table.ipynb>data table notebook</a>'\n",
              "            + ' to learn more about interactive tables.';\n",
              "          element.innerHTML = '';\n",
              "          dataTable['output_type'] = 'display_data';\n",
              "          await google.colab.output.renderOutput(dataTable, element);\n",
              "          const docLink = document.createElement('div');\n",
              "          docLink.innerHTML = docLinkHtml;\n",
              "          element.appendChild(docLink);\n",
              "        }\n",
              "      </script>\n",
              "    </div>\n",
              "  </div>\n",
              "  "
            ]
          },
          "metadata": {},
          "execution_count": 5
        }
      ]
    },
    {
      "cell_type": "code",
      "metadata": {
        "colab": {
          "base_uri": "https://localhost:8080/",
          "height": 300
        },
        "id": "1Xj0KTG6oe5c",
        "outputId": "4c79fc70-6f4d-44cf-9014-798e038cbe91"
      },
      "source": [
        "data.describe().round(2)"
      ],
      "execution_count": 4,
      "outputs": [
        {
          "output_type": "execute_result",
          "data": {
            "text/plain": [
              "            u       g       r       i       z\n",
              "count  867.00  867.00  867.00  867.00  867.00\n",
              "mean    19.29   18.17   17.72   17.54   17.45\n",
              "std      1.39    1.33    1.35    1.37    1.38\n",
              "min     15.67   14.36   14.12   13.95   13.89\n",
              "25%     18.50   17.29   16.74   16.54   16.45\n",
              "50%     19.33   18.33   17.88   17.69   17.62\n",
              "75%     20.02   19.09   18.76   18.61   18.52\n",
              "max     26.43   25.17   21.14   20.72   20.91"
            ],
            "text/html": [
              "\n",
              "  <div id=\"df-9376e3a2-4b72-43d7-b816-d0c9291d9048\">\n",
              "    <div class=\"colab-df-container\">\n",
              "      <div>\n",
              "<style scoped>\n",
              "    .dataframe tbody tr th:only-of-type {\n",
              "        vertical-align: middle;\n",
              "    }\n",
              "\n",
              "    .dataframe tbody tr th {\n",
              "        vertical-align: top;\n",
              "    }\n",
              "\n",
              "    .dataframe thead th {\n",
              "        text-align: right;\n",
              "    }\n",
              "</style>\n",
              "<table border=\"1\" class=\"dataframe\">\n",
              "  <thead>\n",
              "    <tr style=\"text-align: right;\">\n",
              "      <th></th>\n",
              "      <th>u</th>\n",
              "      <th>g</th>\n",
              "      <th>r</th>\n",
              "      <th>i</th>\n",
              "      <th>z</th>\n",
              "    </tr>\n",
              "  </thead>\n",
              "  <tbody>\n",
              "    <tr>\n",
              "      <th>count</th>\n",
              "      <td>867.00</td>\n",
              "      <td>867.00</td>\n",
              "      <td>867.00</td>\n",
              "      <td>867.00</td>\n",
              "      <td>867.00</td>\n",
              "    </tr>\n",
              "    <tr>\n",
              "      <th>mean</th>\n",
              "      <td>19.29</td>\n",
              "      <td>18.17</td>\n",
              "      <td>17.72</td>\n",
              "      <td>17.54</td>\n",
              "      <td>17.45</td>\n",
              "    </tr>\n",
              "    <tr>\n",
              "      <th>std</th>\n",
              "      <td>1.39</td>\n",
              "      <td>1.33</td>\n",
              "      <td>1.35</td>\n",
              "      <td>1.37</td>\n",
              "      <td>1.38</td>\n",
              "    </tr>\n",
              "    <tr>\n",
              "      <th>min</th>\n",
              "      <td>15.67</td>\n",
              "      <td>14.36</td>\n",
              "      <td>14.12</td>\n",
              "      <td>13.95</td>\n",
              "      <td>13.89</td>\n",
              "    </tr>\n",
              "    <tr>\n",
              "      <th>25%</th>\n",
              "      <td>18.50</td>\n",
              "      <td>17.29</td>\n",
              "      <td>16.74</td>\n",
              "      <td>16.54</td>\n",
              "      <td>16.45</td>\n",
              "    </tr>\n",
              "    <tr>\n",
              "      <th>50%</th>\n",
              "      <td>19.33</td>\n",
              "      <td>18.33</td>\n",
              "      <td>17.88</td>\n",
              "      <td>17.69</td>\n",
              "      <td>17.62</td>\n",
              "    </tr>\n",
              "    <tr>\n",
              "      <th>75%</th>\n",
              "      <td>20.02</td>\n",
              "      <td>19.09</td>\n",
              "      <td>18.76</td>\n",
              "      <td>18.61</td>\n",
              "      <td>18.52</td>\n",
              "    </tr>\n",
              "    <tr>\n",
              "      <th>max</th>\n",
              "      <td>26.43</td>\n",
              "      <td>25.17</td>\n",
              "      <td>21.14</td>\n",
              "      <td>20.72</td>\n",
              "      <td>20.91</td>\n",
              "    </tr>\n",
              "  </tbody>\n",
              "</table>\n",
              "</div>\n",
              "      <button class=\"colab-df-convert\" onclick=\"convertToInteractive('df-9376e3a2-4b72-43d7-b816-d0c9291d9048')\"\n",
              "              title=\"Convert this dataframe to an interactive table.\"\n",
              "              style=\"display:none;\">\n",
              "        \n",
              "  <svg xmlns=\"http://www.w3.org/2000/svg\" height=\"24px\"viewBox=\"0 0 24 24\"\n",
              "       width=\"24px\">\n",
              "    <path d=\"M0 0h24v24H0V0z\" fill=\"none\"/>\n",
              "    <path d=\"M18.56 5.44l.94 2.06.94-2.06 2.06-.94-2.06-.94-.94-2.06-.94 2.06-2.06.94zm-11 1L8.5 8.5l.94-2.06 2.06-.94-2.06-.94L8.5 2.5l-.94 2.06-2.06.94zm10 10l.94 2.06.94-2.06 2.06-.94-2.06-.94-.94-2.06-.94 2.06-2.06.94z\"/><path d=\"M17.41 7.96l-1.37-1.37c-.4-.4-.92-.59-1.43-.59-.52 0-1.04.2-1.43.59L10.3 9.45l-7.72 7.72c-.78.78-.78 2.05 0 2.83L4 21.41c.39.39.9.59 1.41.59.51 0 1.02-.2 1.41-.59l7.78-7.78 2.81-2.81c.8-.78.8-2.07 0-2.86zM5.41 20L4 18.59l7.72-7.72 1.47 1.35L5.41 20z\"/>\n",
              "  </svg>\n",
              "      </button>\n",
              "      \n",
              "  <style>\n",
              "    .colab-df-container {\n",
              "      display:flex;\n",
              "      flex-wrap:wrap;\n",
              "      gap: 12px;\n",
              "    }\n",
              "\n",
              "    .colab-df-convert {\n",
              "      background-color: #E8F0FE;\n",
              "      border: none;\n",
              "      border-radius: 50%;\n",
              "      cursor: pointer;\n",
              "      display: none;\n",
              "      fill: #1967D2;\n",
              "      height: 32px;\n",
              "      padding: 0 0 0 0;\n",
              "      width: 32px;\n",
              "    }\n",
              "\n",
              "    .colab-df-convert:hover {\n",
              "      background-color: #E2EBFA;\n",
              "      box-shadow: 0px 1px 2px rgba(60, 64, 67, 0.3), 0px 1px 3px 1px rgba(60, 64, 67, 0.15);\n",
              "      fill: #174EA6;\n",
              "    }\n",
              "\n",
              "    [theme=dark] .colab-df-convert {\n",
              "      background-color: #3B4455;\n",
              "      fill: #D2E3FC;\n",
              "    }\n",
              "\n",
              "    [theme=dark] .colab-df-convert:hover {\n",
              "      background-color: #434B5C;\n",
              "      box-shadow: 0px 1px 3px 1px rgba(0, 0, 0, 0.15);\n",
              "      filter: drop-shadow(0px 1px 2px rgba(0, 0, 0, 0.3));\n",
              "      fill: #FFFFFF;\n",
              "    }\n",
              "  </style>\n",
              "\n",
              "      <script>\n",
              "        const buttonEl =\n",
              "          document.querySelector('#df-9376e3a2-4b72-43d7-b816-d0c9291d9048 button.colab-df-convert');\n",
              "        buttonEl.style.display =\n",
              "          google.colab.kernel.accessAllowed ? 'block' : 'none';\n",
              "\n",
              "        async function convertToInteractive(key) {\n",
              "          const element = document.querySelector('#df-9376e3a2-4b72-43d7-b816-d0c9291d9048');\n",
              "          const dataTable =\n",
              "            await google.colab.kernel.invokeFunction('convertToInteractive',\n",
              "                                                     [key], {});\n",
              "          if (!dataTable) return;\n",
              "\n",
              "          const docLinkHtml = 'Like what you see? Visit the ' +\n",
              "            '<a target=\"_blank\" href=https://colab.research.google.com/notebooks/data_table.ipynb>data table notebook</a>'\n",
              "            + ' to learn more about interactive tables.';\n",
              "          element.innerHTML = '';\n",
              "          dataTable['output_type'] = 'display_data';\n",
              "          await google.colab.output.renderOutput(dataTable, element);\n",
              "          const docLink = document.createElement('div');\n",
              "          docLink.innerHTML = docLinkHtml;\n",
              "          element.appendChild(docLink);\n",
              "        }\n",
              "      </script>\n",
              "    </div>\n",
              "  </div>\n",
              "  "
            ]
          },
          "metadata": {},
          "execution_count": 4
        }
      ]
    },
    {
      "cell_type": "code",
      "metadata": {
        "id": "ZVLpF-z3hmxk",
        "colab": {
          "base_uri": "https://localhost:8080/"
        },
        "outputId": "dfdb87dc-3b87-4f58-c4bc-fcdc77310391"
      },
      "source": [
        "sum(data.target== \"star\"), sum(data.target == \"QSO\")"
      ],
      "execution_count": 5,
      "outputs": [
        {
          "output_type": "execute_result",
          "data": {
            "text/plain": [
              "(655, 212)"
            ]
          },
          "metadata": {},
          "execution_count": 5
        }
      ]
    },
    {
      "cell_type": "markdown",
      "source": [
        "<img src=\"https://drive.google.com/uc?id=1gFQWdyFW_TRVtlR4PZLAShDvdF9HGgpp\" width=\"850px\" align=\"left\">"
      ],
      "metadata": {
        "id": "A-YaeLoEQAfP"
      }
    },
    {
      "cell_type": "markdown",
      "metadata": {
        "id": "6iO4-7kC79Kz"
      },
      "source": [
        "### task 1: **create `X` and `y`**\n",
        "\n",
        "```python\n",
        "data[[\"u\",\"g\",\"r\",\"i\",\"z\"]] -> X\n",
        "data.target -> y\n",
        "\"QSO\" -> 0\n",
        "\"star\" -> 1\n",
        "```\n",
        "\n",
        "hint: you can use [LabelEncoder()](https://scikit-learn.org/stable/modules/generated/sklearn.preprocessing.LabelEncoder.html)\n"
      ]
    },
    {
      "cell_type": "code",
      "metadata": {
        "id": "mTSxvZPF77kZ"
      },
      "source": [
        "from sklearn.preprocessing import LabelEncoder"
      ],
      "execution_count": 102,
      "outputs": []
    },
    {
      "cell_type": "code",
      "source": [],
      "metadata": {
        "id": "8_U9Wpauen3D"
      },
      "execution_count": null,
      "outputs": []
    },
    {
      "cell_type": "code",
      "metadata": {
        "id": "wdjrBi_U8ilA"
      },
      "source": [],
      "execution_count": 102,
      "outputs": []
    },
    {
      "cell_type": "code",
      "metadata": {
        "id": "3shTgaecWYO5"
      },
      "source": [],
      "execution_count": 102,
      "outputs": []
    },
    {
      "cell_type": "code",
      "source": [],
      "metadata": {
        "id": "-HZSY2BqRFLI"
      },
      "execution_count": 102,
      "outputs": []
    },
    {
      "cell_type": "markdown",
      "metadata": {
        "id": "seZZJbZ0A7dk"
      },
      "source": [
        "### task 2: **split the data (9:1), train a [Support Vector Classifier (SVC)](https://scikit-learn.org/stable/modules/generated/sklearn.svm.SVC.html) & test its accuracy**\n",
        "\n",
        "![](https://scikit-learn.org/stable/_images/sphx_glr_plot_svm_margin_002.png)"
      ]
    },
    {
      "cell_type": "code",
      "metadata": {
        "id": "1TLjQ7rHWeRM"
      },
      "source": [
        "from sklearn.svm import SVC\n",
        "from sklearn.model_selection import train_test_split"
      ],
      "execution_count": 103,
      "outputs": []
    },
    {
      "cell_type": "code",
      "metadata": {
        "id": "3R9OArBLAefy"
      },
      "source": [],
      "execution_count": 103,
      "outputs": []
    },
    {
      "cell_type": "code",
      "metadata": {
        "id": "-6b4RklvAsmm"
      },
      "source": [],
      "execution_count": 103,
      "outputs": []
    },
    {
      "cell_type": "code",
      "metadata": {
        "id": "RLPt5jOwB2eQ"
      },
      "source": [],
      "execution_count": 103,
      "outputs": []
    },
    {
      "cell_type": "code",
      "metadata": {
        "id": "nfBlkYhcBKAK"
      },
      "source": [],
      "execution_count": 103,
      "outputs": []
    },
    {
      "cell_type": "markdown",
      "metadata": {
        "id": "l3wPRpSa-0S0"
      },
      "source": [
        "### task 3: **rescale the data -> `X_scaled` & test score**\n",
        "\n",
        "hint:\\\n",
        "you can use [`StandardScaler()`](https://scikit-learn.org/stable/modules/generated/sklearn.preprocessing.StandardScaler.html)\\\n",
        "`X_scaled = X.copy()`"
      ]
    },
    {
      "cell_type": "code",
      "source": [
        "from sklearn.preprocessing import StandardScaler"
      ],
      "metadata": {
        "id": "XoXrnmj-evUA"
      },
      "execution_count": 104,
      "outputs": []
    },
    {
      "cell_type": "code",
      "metadata": {
        "id": "GCbc-uPr--Y7"
      },
      "source": [],
      "execution_count": 103,
      "outputs": []
    },
    {
      "cell_type": "code",
      "metadata": {
        "id": "A_k473pY_S-t"
      },
      "source": [],
      "execution_count": 103,
      "outputs": []
    },
    {
      "cell_type": "code",
      "metadata": {
        "id": "CWBDavYmVNdp"
      },
      "source": [],
      "execution_count": 104,
      "outputs": []
    },
    {
      "cell_type": "code",
      "source": [],
      "metadata": {
        "id": "qI3Pj4uXhQlY"
      },
      "execution_count": 104,
      "outputs": []
    },
    {
      "cell_type": "code",
      "source": [],
      "metadata": {
        "id": "wj0TDjj21qqA"
      },
      "execution_count": 104,
      "outputs": []
    },
    {
      "cell_type": "markdown",
      "source": [
        "### **Create a pipeline**"
      ],
      "metadata": {
        "id": "d0Uj8Q-o_oxS"
      }
    },
    {
      "cell_type": "code",
      "metadata": {
        "colab": {
          "base_uri": "https://localhost:8080/"
        },
        "id": "sR86rx_BVNgT",
        "outputId": "34dbc77e-3aa8-4f74-97a1-24f80ad42346"
      },
      "source": [
        "from sklearn.pipeline import make_pipeline\n",
        "\n",
        "X_train, X_test, y_train, y_test = train_test_split(X, y, test_size=0.1, stratify=y, random_state=420)\n",
        "\n",
        "model = make_pipeline(StandardScaler(),\n",
        "                      SVC(kernel=\"linear\"))\n",
        "\n",
        "model.fit(X_train, y_train)\n",
        "\n",
        "model.score(X_test, y_test)"
      ],
      "execution_count": 28,
      "outputs": [
        {
          "output_type": "execute_result",
          "data": {
            "text/plain": [
              "0.9310344827586207"
            ]
          },
          "metadata": {},
          "execution_count": 28
        }
      ]
    },
    {
      "cell_type": "markdown",
      "metadata": {
        "id": "4uNyaEwaTLas"
      },
      "source": [
        "## **Feature selection & dimensionality reduction**"
      ]
    },
    {
      "cell_type": "code",
      "metadata": {
        "id": "r5MWCPJSq0vE"
      },
      "source": [
        "from sklearn.ensemble import ExtraTreesClassifier"
      ],
      "execution_count": 29,
      "outputs": []
    },
    {
      "cell_type": "code",
      "metadata": {
        "colab": {
          "base_uri": "https://localhost:8080/"
        },
        "id": "o3r_-qzCq03O",
        "outputId": "45a40422-e051-4864-8a49-9eaed83ea962"
      },
      "source": [
        "etc = ExtraTreesClassifier(random_state=42).fit(X,y)\n",
        "etc.feature_importances_"
      ],
      "execution_count": 34,
      "outputs": [
        {
          "output_type": "execute_result",
          "data": {
            "text/plain": [
              "array([0.29715325, 0.11687197, 0.21442021, 0.19203806, 0.17951651])"
            ]
          },
          "metadata": {},
          "execution_count": 34
        }
      ]
    },
    {
      "cell_type": "code",
      "metadata": {
        "id": "SLpvL6JS43Ls",
        "colab": {
          "base_uri": "https://localhost:8080/",
          "height": 265
        },
        "outputId": "cd313427-5c04-4661-d37a-400a2bb18e1c"
      },
      "source": [
        "plt.bar(np.arange(5), etc.feature_importances_, 0.5)\n",
        "plt.xticks(np.arange(5), X.columns);"
      ],
      "execution_count": 35,
      "outputs": [
        {
          "output_type": "display_data",
          "data": {
            "text/plain": [
              "<Figure size 432x288 with 1 Axes>"
            ],
            "image/png": "[encoded data removed]"
          },
          "metadata": {
            "needs_background": "light"
          }
        }
      ]
    },
    {
      "cell_type": "markdown",
      "metadata": {
        "id": "9E7QvHcTbYcm"
      },
      "source": [
        "#### task 4: **calculate spectral indices & test importance**\n",
        "\n",
        "hint:\n",
        "`X_new = X.copy()`\n",
        "\n"
      ]
    },
    {
      "cell_type": "code",
      "metadata": {
        "id": "MZfoAJA1rmRz"
      },
      "source": [],
      "execution_count": 104,
      "outputs": []
    },
    {
      "cell_type": "code",
      "metadata": {
        "id": "Nj0_n3aJrmUs"
      },
      "source": [],
      "execution_count": 104,
      "outputs": []
    },
    {
      "cell_type": "markdown",
      "metadata": {
        "id": "7Vsu9gRdl8ba"
      },
      "source": [
        "#### task 5: **test score if only *u-r* or *i-z* spectral indices are used**\n",
        "\n",
        "hint: for single columns use `X_new[[\"u-r\"]]`"
      ]
    },
    {
      "cell_type": "code",
      "metadata": {
        "id": "-Z3PTCanGYKf"
      },
      "source": [],
      "execution_count": 104,
      "outputs": []
    },
    {
      "cell_type": "code",
      "source": [],
      "metadata": {
        "id": "DZN5ZHDB2lda"
      },
      "execution_count": 104,
      "outputs": []
    },
    {
      "cell_type": "code",
      "source": [],
      "metadata": {
        "id": "Uar9JVzhAVlZ"
      },
      "execution_count": 104,
      "outputs": []
    },
    {
      "cell_type": "markdown",
      "metadata": {
        "id": "1ud7hKL_GYKe"
      },
      "source": [
        "#### task 6: **create dummy column & test importance**\n",
        "\n",
        "hint:\n",
        "```\n",
        "X_new2 = X.copy()\n",
        "X_new2[\"dummy\"] = np.random.randint(10, size=X.r.size)\n",
        "```"
      ]
    },
    {
      "cell_type": "code",
      "metadata": {
        "id": "yjkNN6d4SuYn"
      },
      "source": [],
      "execution_count": 104,
      "outputs": []
    },
    {
      "cell_type": "code",
      "metadata": {
        "id": "zXukq-8HGYKe"
      },
      "source": [],
      "execution_count": 104,
      "outputs": []
    },
    {
      "cell_type": "code",
      "metadata": {
        "id": "twqvduOy1E63"
      },
      "source": [],
      "execution_count": 104,
      "outputs": []
    },
    {
      "cell_type": "markdown",
      "metadata": {
        "id": "kNQwj_5FmPYF"
      },
      "source": [
        "### [**Principal component analysis**](https://scikit-learn.org/stable/modules/generated/sklearn.decomposition.PCA.html)\n",
        "\n",
        "<img src=\"https://programmathically.com/wp-content/uploads/2021/08/pca-2-dimensions-1024x644.png\" width=600pt></img>"
      ]
    },
    {
      "cell_type": "code",
      "source": [
        "from IPython.display import Image\n",
        "Image(url='https://upload.wikimedia.org/wikipedia/commons/9/9c/PCA_Projection_Illustration.gif')"
      ],
      "metadata": {
        "colab": {
          "base_uri": "https://localhost:8080/",
          "height": 501
        },
        "id": "U6FJRlzviCsd",
        "outputId": "6086b126-7fed-43b1-f3d7-c85d659dbcff"
      },
      "execution_count": 105,
      "outputs": [
        {
          "output_type": "execute_result",
          "data": {
            "text/html": [
              "<img src=\"https://upload.wikimedia.org/wikipedia/commons/9/9c/PCA_Projection_Illustration.gif\"/>"
            ],
            "text/plain": [
              "<IPython.core.display.Image object>"
            ]
          },
          "metadata": {},
          "execution_count": 105
        }
      ]
    },
    {
      "cell_type": "code",
      "metadata": {
        "id": "InxyTPHuGYKa"
      },
      "source": [
        "from sklearn.decomposition import PCA\n",
        "\n",
        "pca = PCA(n_components=3)\n",
        "X_PCA = pca.fit_transform(X)"
      ],
      "execution_count": 45,
      "outputs": []
    },
    {
      "cell_type": "code",
      "metadata": {
        "id": "dFrr051pGYKb",
        "colab": {
          "base_uri": "https://localhost:8080/",
          "height": 282
        },
        "outputId": "56c9bde1-3dbe-42ea-fc2c-b12ebab37f7c"
      },
      "source": [
        "plt.scatter(X_PCA[:,0], X_PCA[:,1], c=y)"
      ],
      "execution_count": 46,
      "outputs": [
        {
          "output_type": "execute_result",
          "data": {
            "text/plain": [
              "<matplotlib.collections.PathCollection at 0x7fb088358410>"
            ]
          },
          "metadata": {},
          "execution_count": 46
        },
        {
          "output_type": "display_data",
          "data": {
            "text/plain": [
              "<Figure size 432x288 with 1 Axes>"
            ],
            "image/png": "[encoded data removed]"
          },
          "metadata": {
            "needs_background": "light"
          }
        }
      ]
    },
    {
      "cell_type": "code",
      "source": [
        "plt.scatter(X.g, X.u-X.g, c=y)"
      ],
      "metadata": {
        "colab": {
          "base_uri": "https://localhost:8080/",
          "height": 282
        },
        "id": "-xBWlyBZ7iUX",
        "outputId": "90dd4000-fcf5-470d-c1fa-9054382e3ff5"
      },
      "execution_count": 47,
      "outputs": [
        {
          "output_type": "execute_result",
          "data": {
            "text/plain": [
              "<matplotlib.collections.PathCollection at 0x7fb0882d4410>"
            ]
          },
          "metadata": {},
          "execution_count": 47
        },
        {
          "output_type": "display_data",
          "data": {
            "text/plain": [
              "<Figure size 432x288 with 1 Axes>"
            ],
            "image/png": "[encoded data removed]"
          },
          "metadata": {
            "needs_background": "light"
          }
        }
      ]
    },
    {
      "cell_type": "code",
      "metadata": {
        "id": "BuDSwwTDmTSC",
        "colab": {
          "base_uri": "https://localhost:8080/"
        },
        "outputId": "abc8c254-70e1-4112-e1b3-3f45dfeb21b3"
      },
      "source": [
        "X_train, X_test, y_train, y_test = train_test_split(X_PCA, y, test_size=0.1, stratify=y, random_state=420)\n",
        "\n",
        "model.fit(X_train, y_train)\n",
        "\n",
        "model.score(X_test, y_test)"
      ],
      "execution_count": 48,
      "outputs": [
        {
          "output_type": "execute_result",
          "data": {
            "text/plain": [
              "0.9425287356321839"
            ]
          },
          "metadata": {},
          "execution_count": 48
        }
      ]
    },
    {
      "cell_type": "markdown",
      "source": [
        "### task 7: **integrate `PCA()` into our pipeline**"
      ],
      "metadata": {
        "id": "nt4XlOsZ924l"
      }
    },
    {
      "cell_type": "code",
      "source": [],
      "metadata": {
        "id": "IAyivdwI-FJt"
      },
      "execution_count": 105,
      "outputs": []
    },
    {
      "cell_type": "markdown",
      "metadata": {
        "id": "teq3fSl7GYKk"
      },
      "source": [
        "## [**Cross-validation**](https://scikit-learn.org/stable/modules/cross_validation.html)\n",
        "\n",
        "<img src=\"https://miro.medium.com/max/1400/1*AAwIlHM8TpAVe4l2FihNUQ.png\" width=800pt></img>"
      ]
    },
    {
      "cell_type": "code",
      "source": [
        "X_train, X_test, y_train, y_test = train_test_split(X, y, test_size=0.1, stratify=y, random_state=420)\n",
        "\n",
        "model = make_pipeline(PCA(n_components=3),\n",
        "                      StandardScaler(),\n",
        "                      SVC(kernel=\"linear\"))\n",
        "\n",
        "model.fit(X_train, y_train)\n",
        "\n",
        "model.score(X_test, y_test)"
      ],
      "metadata": {
        "colab": {
          "base_uri": "https://localhost:8080/"
        },
        "id": "jJHUCVn78tC5",
        "outputId": "55c80a84-0d91-4351-f4da-30f03386eca2"
      },
      "execution_count": 50,
      "outputs": [
        {
          "output_type": "execute_result",
          "data": {
            "text/plain": [
              "0.9540229885057471"
            ]
          },
          "metadata": {},
          "execution_count": 50
        }
      ]
    },
    {
      "cell_type": "markdown",
      "source": [
        "### task 8: **use several different random states when splitting data & get average score**"
      ],
      "metadata": {
        "id": "7v74ZKEd_iC5"
      }
    },
    {
      "cell_type": "code",
      "source": [],
      "metadata": {
        "id": "Ue01LJEAASTt"
      },
      "execution_count": 105,
      "outputs": []
    },
    {
      "cell_type": "code",
      "source": [],
      "metadata": {
        "id": "FibejIjIAdEO"
      },
      "execution_count": 105,
      "outputs": []
    },
    {
      "cell_type": "markdown",
      "source": [
        "### task 9: **use [`cross_validate`](https://scikit-learn.org/stable/modules/generated/sklearn.model_selection.cross_validate.html)**"
      ],
      "metadata": {
        "id": "ymsY_Fd1oLWF"
      }
    },
    {
      "cell_type": "code",
      "source": [
        "from sklearn.model_selection import cross_validate"
      ],
      "metadata": {
        "id": "brpWmP54oUxo"
      },
      "execution_count": 106,
      "outputs": []
    },
    {
      "cell_type": "code",
      "metadata": {
        "id": "J5dKswVZGYKl"
      },
      "source": [],
      "execution_count": 105,
      "outputs": []
    },
    {
      "cell_type": "code",
      "source": [],
      "metadata": {
        "id": "WdHg0z9o-d-S"
      },
      "execution_count": 105,
      "outputs": []
    },
    {
      "cell_type": "markdown",
      "metadata": {
        "id": "hfzrKed1GYKf"
      },
      "source": [
        "## **Tuning hyperparameters**"
      ]
    },
    {
      "cell_type": "code",
      "metadata": {
        "scrolled": true,
        "id": "y8XOCnR-GYKg"
      },
      "source": [
        "SVC?"
      ],
      "execution_count": 56,
      "outputs": []
    },
    {
      "cell_type": "code",
      "source": [
        "def decision_surface(model):\n",
        "    size = 100\n",
        "\n",
        "    X_n = PCA(n_components=2).fit_transform(X)\n",
        "    X_n = StandardScaler().fit_transform(X_n)\n",
        "\n",
        "    range_U = np.linspace(min(X_n[:,0]), max(X_n[:,0]), size)\n",
        "    range_G = np.linspace(min(X_n[:,1]), max(X_n[:,1]), size)\n",
        "    U, G = np.meshgrid(range_U, range_G)\n",
        "\n",
        "    grid = np.vstack((U.flatten(), G.flatten())).T\n",
        "\n",
        "    model.fit(X_n, y)\n",
        "\n",
        "    predicted = model.predict_proba(grid)[:,0]\n",
        "\n",
        "    predicted = predicted.reshape(size,size)\n",
        "\n",
        "    plt.contourf(U, G, predicted, cmap=\"coolwarm\", alpha=0.5)\n",
        "\n",
        "    plt.plot(X_n[:,0][data.target == \"star\"], X_n[:,1][data.target == \"star\"], \"o\")\n",
        "    plt.plot(X_n[:,0][data.target == \"QSO\"], X_n[:,1][data.target == \"QSO\"], \"o\");\n",
        "\n",
        "    plt.xlabel(\"U [mag]\")\n",
        "    plt.ylabel(\"G [mag]\");\n",
        "\n",
        "def classify(X, y, classifier):\n",
        "    model = make_pipeline(PCA(n_components=3),\n",
        "                          StandardScaler(),\n",
        "                          classifier)\n",
        "\n",
        "    res = cross_validate(model, X, y, cv=10)\n",
        "    print(np.mean(res[\"test_score\"]))"
      ],
      "metadata": {
        "id": "AdLKvspW7-IO"
      },
      "execution_count": 57,
      "outputs": []
    },
    {
      "cell_type": "code",
      "source": [
        "decision_surface(SVC(kernel=\"linear\", probability=True))"
      ],
      "metadata": {
        "colab": {
          "base_uri": "https://localhost:8080/",
          "height": 281
        },
        "id": "jDSuCKR1TO3f",
        "outputId": "bc177767-90d9-4459-903d-40716e5e9aa5"
      },
      "execution_count": 58,
      "outputs": [
        {
          "output_type": "display_data",
          "data": {
            "text/plain": [
              "<Figure size 432x288 with 1 Axes>"
            ],
            "image/png": "[encoded data removed]"
          },
          "metadata": {
            "needs_background": "light"
          }
        }
      ]
    },
    {
      "cell_type": "code",
      "source": [
        "decision_surface(SVC(kernel=\"poly\", probability=True))"
      ],
      "metadata": {
        "colab": {
          "base_uri": "https://localhost:8080/",
          "height": 281
        },
        "id": "rEo26rB2TQbn",
        "outputId": "e573bf5a-c714-415b-a772-cc4aedc14d47"
      },
      "execution_count": 59,
      "outputs": [
        {
          "output_type": "display_data",
          "data": {
            "text/plain": [
              "<Figure size 432x288 with 1 Axes>"
            ],
            "image/png": "[encoded data removed]"
          },
          "metadata": {
            "needs_background": "light"
          }
        }
      ]
    },
    {
      "cell_type": "code",
      "source": [
        "decision_surface(SVC(kernel=\"rbf\", C=1, probability=True))"
      ],
      "metadata": {
        "colab": {
          "base_uri": "https://localhost:8080/",
          "height": 281
        },
        "id": "2Wb-mru1TSA6",
        "outputId": "14592e32-e957-4376-bd4e-025d1912a6b4"
      },
      "execution_count": 60,
      "outputs": [
        {
          "output_type": "display_data",
          "data": {
            "text/plain": [
              "<Figure size 432x288 with 1 Axes>"
            ],
            "image/png": "[encoded data removed]"
          },
          "metadata": {
            "needs_background": "light"
          }
        }
      ]
    },
    {
      "cell_type": "code",
      "source": [
        "decision_surface(SVC(kernel=\"rbf\", C=1000, probability=True))"
      ],
      "metadata": {
        "colab": {
          "base_uri": "https://localhost:8080/",
          "height": 281
        },
        "id": "6lj-OinJU8NU",
        "outputId": "ddfa3304-ff84-40d8-cdb0-01cfe90189be"
      },
      "execution_count": 61,
      "outputs": [
        {
          "output_type": "display_data",
          "data": {
            "text/plain": [
              "<Figure size 432x288 with 1 Axes>"
            ],
            "image/png": "[encoded data removed]"
          },
          "metadata": {
            "needs_background": "light"
          }
        }
      ]
    },
    {
      "cell_type": "markdown",
      "metadata": {
        "id": "0PYW9nkuGYKh"
      },
      "source": [
        "#### task 9: **find SVC hyperparameters with best test score**"
      ]
    },
    {
      "cell_type": "code",
      "metadata": {
        "id": "F-6ACW9fGYKi",
        "colab": {
          "base_uri": "https://localhost:8080/"
        },
        "outputId": "7421e09d-05e3-4e2e-e2ff-213e79e64360"
      },
      "source": [
        "classify(X, y, SVC(kernel=\"linear\"))"
      ],
      "execution_count": 62,
      "outputs": [
        {
          "output_type": "stream",
          "name": "stdout",
          "text": [
            "0.9527265437048917\n"
          ]
        }
      ]
    },
    {
      "cell_type": "code",
      "metadata": {
        "id": "GfPZIkZYGYKi"
      },
      "source": [],
      "execution_count": 105,
      "outputs": []
    },
    {
      "cell_type": "code",
      "metadata": {
        "id": "gG1kpotXGYKj"
      },
      "source": [],
      "execution_count": 105,
      "outputs": []
    },
    {
      "cell_type": "code",
      "source": [],
      "metadata": {
        "id": "rzIooBzk4cPc"
      },
      "execution_count": 105,
      "outputs": []
    },
    {
      "cell_type": "code",
      "metadata": {
        "id": "lLb81etQGYKj"
      },
      "source": [],
      "execution_count": 105,
      "outputs": []
    },
    {
      "cell_type": "code",
      "metadata": {
        "id": "-5WE1CLyGYKj"
      },
      "source": [],
      "execution_count": 105,
      "outputs": []
    },
    {
      "cell_type": "markdown",
      "metadata": {
        "id": "a5rX00qbGYKl"
      },
      "source": [
        "### **Grid-search + crossvalidation**"
      ]
    },
    {
      "cell_type": "code",
      "metadata": {
        "id": "xKRbmlGLGYKl"
      },
      "source": [
        "from sklearn.model_selection import GridSearchCV"
      ],
      "execution_count": 68,
      "outputs": []
    },
    {
      "cell_type": "code",
      "metadata": {
        "id": "jyeQmN-9GYKl",
        "colab": {
          "base_uri": "https://localhost:8080/"
        },
        "outputId": "13acb0b8-f360-47aa-efe8-739bbd404025"
      },
      "source": [
        "C = [0.01, 0.1, 1, 10, 100]\n",
        "gamma = [0.1, 1, 10, 100]\n",
        "\n",
        "params = {\"C\" : C,\n",
        "          \"gamma\" : gamma}\n",
        "\n",
        "model = GridSearchCV(SVC(kernel=\"rbf\"), params, cv=10, n_jobs=4)\n",
        "model.fit(X, y)"
      ],
      "execution_count": 69,
      "outputs": [
        {
          "output_type": "execute_result",
          "data": {
            "text/plain": [
              "GridSearchCV(cv=10, estimator=SVC(), n_jobs=4,\n",
              "             param_grid={'C': [0.01, 0.1, 1, 10, 100],\n",
              "                         'gamma': [0.1, 1, 10, 100]})"
            ]
          },
          "metadata": {},
          "execution_count": 69
        }
      ]
    },
    {
      "cell_type": "code",
      "source": [
        "model.cv_results_"
      ],
      "metadata": {
        "colab": {
          "base_uri": "https://localhost:8080/"
        },
        "id": "dPJjayx2Dm2p",
        "outputId": "ef9bef69-5549-4072-b5b0-c7242eb7d7bc"
      },
      "execution_count": 70,
      "outputs": [
        {
          "output_type": "execute_result",
          "data": {
            "text/plain": [
              "{'mean_fit_time': array([0.06893444, 0.07573154, 0.08907871, 0.13075988, 0.0541235 ,\n",
              "        0.05710695, 0.09724422, 0.16113174, 0.03284476, 0.03428144,\n",
              "        0.09239283, 0.15179398, 0.02747681, 0.03900223, 0.11598451,\n",
              "        0.15040574, 0.0320451 , 0.03713272, 0.11703601, 0.10006886]),\n",
              " 'std_fit_time': array([0.00640481, 0.02234714, 0.00683259, 0.00447289, 0.01353474,\n",
              "        0.0195849 , 0.01119984, 0.02452281, 0.00363594, 0.0163702 ,\n",
              "        0.0153001 , 0.0195663 , 0.00656152, 0.01341787, 0.02398776,\n",
              "        0.01008823, 0.00294623, 0.01485675, 0.030144  , 0.04165293]),\n",
              " 'mean_score_time': array([0.01329465, 0.0154021 , 0.01870861, 0.02149081, 0.01389658,\n",
              "        0.01354077, 0.01647456, 0.02332294, 0.01057961, 0.00900116,\n",
              "        0.01560597, 0.02086296, 0.00903494, 0.00952611, 0.01356213,\n",
              "        0.02284963, 0.00890596, 0.0089906 , 0.01713941, 0.01598206]),\n",
              " 'std_score_time': array([0.00148264, 0.00593214, 0.00469869, 0.00359375, 0.00347926,\n",
              "        0.00560859, 0.00384827, 0.0060788 , 0.00276319, 0.00540496,\n",
              "        0.00538704, 0.00620093, 0.00490182, 0.00491655, 0.00271835,\n",
              "        0.00623956, 0.00481128, 0.00447102, 0.00682238, 0.00785342]),\n",
              " 'param_C': masked_array(data=[0.01, 0.01, 0.01, 0.01, 0.1, 0.1, 0.1, 0.1, 1, 1, 1, 1,\n",
              "                    10, 10, 10, 10, 100, 100, 100, 100],\n",
              "              mask=[False, False, False, False, False, False, False, False,\n",
              "                    False, False, False, False, False, False, False, False,\n",
              "                    False, False, False, False],\n",
              "        fill_value='?',\n",
              "             dtype=object),\n",
              " 'param_gamma': masked_array(data=[0.1, 1, 10, 100, 0.1, 1, 10, 100, 0.1, 1, 10, 100, 0.1,\n",
              "                    1, 10, 100, 0.1, 1, 10, 100],\n",
              "              mask=[False, False, False, False, False, False, False, False,\n",
              "                    False, False, False, False, False, False, False, False,\n",
              "                    False, False, False, False],\n",
              "        fill_value='?',\n",
              "             dtype=object),\n",
              " 'params': [{'C': 0.01, 'gamma': 0.1},\n",
              "  {'C': 0.01, 'gamma': 1},\n",
              "  {'C': 0.01, 'gamma': 10},\n",
              "  {'C': 0.01, 'gamma': 100},\n",
              "  {'C': 0.1, 'gamma': 0.1},\n",
              "  {'C': 0.1, 'gamma': 1},\n",
              "  {'C': 0.1, 'gamma': 10},\n",
              "  {'C': 0.1, 'gamma': 100},\n",
              "  {'C': 1, 'gamma': 0.1},\n",
              "  {'C': 1, 'gamma': 1},\n",
              "  {'C': 1, 'gamma': 10},\n",
              "  {'C': 1, 'gamma': 100},\n",
              "  {'C': 10, 'gamma': 0.1},\n",
              "  {'C': 10, 'gamma': 1},\n",
              "  {'C': 10, 'gamma': 10},\n",
              "  {'C': 10, 'gamma': 100},\n",
              "  {'C': 100, 'gamma': 0.1},\n",
              "  {'C': 100, 'gamma': 1},\n",
              "  {'C': 100, 'gamma': 10},\n",
              "  {'C': 100, 'gamma': 100}],\n",
              " 'split0_test_score': array([0.75862069, 0.75862069, 0.75862069, 0.75862069, 0.93103448,\n",
              "        0.93103448, 0.7816092 , 0.75862069, 0.96551724, 0.98850575,\n",
              "        0.91954023, 0.75862069, 0.97701149, 0.98850575, 0.91954023,\n",
              "        0.75862069, 0.97701149, 0.98850575, 0.91954023, 0.75862069]),\n",
              " 'split1_test_score': array([0.75862069, 0.75862069, 0.75862069, 0.75862069, 0.93103448,\n",
              "        0.91954023, 0.8045977 , 0.75862069, 0.95402299, 0.95402299,\n",
              "        0.93103448, 0.75862069, 0.96551724, 0.97701149, 0.93103448,\n",
              "        0.79310345, 0.97701149, 0.95402299, 0.93103448, 0.79310345]),\n",
              " 'split2_test_score': array([0.75862069, 0.75862069, 0.75862069, 0.75862069, 0.96551724,\n",
              "        0.96551724, 0.8045977 , 0.75862069, 0.98850575, 1.        ,\n",
              "        0.95402299, 0.77011494, 1.        , 0.98850575, 0.95402299,\n",
              "        0.7816092 , 0.97701149, 0.98850575, 0.95402299, 0.7816092 ]),\n",
              " 'split3_test_score': array([0.75862069, 0.75862069, 0.75862069, 0.75862069, 0.94252874,\n",
              "        0.94252874, 0.81609195, 0.75862069, 0.96551724, 0.97701149,\n",
              "        0.94252874, 0.77011494, 0.98850575, 1.        , 0.94252874,\n",
              "        0.8045977 , 0.98850575, 1.        , 0.94252874, 0.8045977 ]),\n",
              " 'split4_test_score': array([0.75862069, 0.75862069, 0.75862069, 0.75862069, 0.95402299,\n",
              "        0.95402299, 0.8045977 , 0.75862069, 0.98850575, 0.97701149,\n",
              "        0.96551724, 0.7816092 , 0.97701149, 0.97701149, 0.96551724,\n",
              "        0.7816092 , 0.96551724, 0.97701149, 0.96551724, 0.7816092 ]),\n",
              " 'split5_test_score': array([0.74712644, 0.74712644, 0.74712644, 0.74712644, 0.98850575,\n",
              "        0.95402299, 0.83908046, 0.74712644, 0.98850575, 0.97701149,\n",
              "        0.96551724, 0.74712644, 0.98850575, 0.97701149, 0.96551724,\n",
              "        0.77011494, 0.97701149, 0.97701149, 0.96551724, 0.77011494]),\n",
              " 'split6_test_score': array([0.74712644, 0.74712644, 0.74712644, 0.74712644, 0.97701149,\n",
              "        0.96551724, 0.8045977 , 0.74712644, 0.97701149, 0.98850575,\n",
              "        0.96551724, 0.75862069, 0.97701149, 0.98850575, 0.96551724,\n",
              "        0.81609195, 0.97701149, 0.98850575, 0.96551724, 0.81609195]),\n",
              " 'split7_test_score': array([0.75581395, 0.75581395, 0.75581395, 0.75581395, 0.94186047,\n",
              "        0.93023256, 0.77906977, 0.75581395, 0.94186047, 0.95348837,\n",
              "        0.93023256, 0.75581395, 0.96511628, 0.96511628, 0.93023256,\n",
              "        0.76744186, 0.96511628, 0.96511628, 0.93023256, 0.76744186]),\n",
              " 'split8_test_score': array([0.75581395, 0.75581395, 0.75581395, 0.75581395, 0.96511628,\n",
              "        0.95348837, 0.81395349, 0.75581395, 0.96511628, 0.95348837,\n",
              "        0.94186047, 0.76744186, 1.        , 0.98837209, 0.94186047,\n",
              "        0.77906977, 0.98837209, 0.98837209, 0.94186047, 0.77906977]),\n",
              " 'split9_test_score': array([0.75581395, 0.75581395, 0.75581395, 0.75581395, 0.91860465,\n",
              "        0.94186047, 0.79069767, 0.75581395, 0.97674419, 0.97674419,\n",
              "        0.94186047, 0.75581395, 0.97674419, 0.97674419, 0.94186047,\n",
              "        0.76744186, 0.98837209, 0.97674419, 0.94186047, 0.76744186]),\n",
              " 'mean_test_score': array([0.75547982, 0.75547982, 0.75547982, 0.75547982, 0.95152366,\n",
              "        0.94577653, 0.80388933, 0.75547982, 0.97113071, 0.97457899,\n",
              "        0.94576316, 0.76238974, 0.98154237, 0.98267843, 0.94576316,\n",
              "        0.78197006, 0.97809409, 0.98037958, 0.94576316, 0.78197006]),\n",
              " 'std_test_score': array([0.00434992, 0.00434992, 0.00434992, 0.00434992, 0.02121719,\n",
              "        0.0146562 , 0.01666448, 0.00434992, 0.01490096, 0.01539076,\n",
              "        0.01557432, 0.00936128, 0.01178803, 0.00935048, 0.01557432,\n",
              "        0.01707868, 0.00807551, 0.0126905 , 0.01557432, 0.01707868]),\n",
              " 'rank_test_score': array([16, 16, 16, 16,  7,  8, 12, 16,  6,  5,  9, 15,  2,  1,  9, 13,  4,\n",
              "         3,  9, 13], dtype=int32)}"
            ]
          },
          "metadata": {},
          "execution_count": 70
        }
      ]
    },
    {
      "cell_type": "code",
      "metadata": {
        "id": "xFNq5dL4GYKm",
        "colab": {
          "base_uri": "https://localhost:8080/"
        },
        "outputId": "46101bef-2404-46e4-cded-ca78abdc9a72"
      },
      "source": [
        "pars, score = model.cv_results_[\"params\"], model.cv_results_[\"mean_test_score\"]\n",
        "\n",
        "indices = np.argsort(score)\n",
        "\n",
        "for i in indices:\n",
        "    print(pars[i], score[i].round(3))"
      ],
      "execution_count": 71,
      "outputs": [
        {
          "output_type": "stream",
          "name": "stdout",
          "text": [
            "{'C': 0.01, 'gamma': 0.1} 0.755\n",
            "{'C': 0.01, 'gamma': 1} 0.755\n",
            "{'C': 0.01, 'gamma': 10} 0.755\n",
            "{'C': 0.01, 'gamma': 100} 0.755\n",
            "{'C': 0.1, 'gamma': 100} 0.755\n",
            "{'C': 1, 'gamma': 100} 0.762\n",
            "{'C': 10, 'gamma': 100} 0.782\n",
            "{'C': 100, 'gamma': 100} 0.782\n",
            "{'C': 0.1, 'gamma': 10} 0.804\n",
            "{'C': 100, 'gamma': 10} 0.946\n",
            "{'C': 1, 'gamma': 10} 0.946\n",
            "{'C': 10, 'gamma': 10} 0.946\n",
            "{'C': 0.1, 'gamma': 1} 0.946\n",
            "{'C': 0.1, 'gamma': 0.1} 0.952\n",
            "{'C': 1, 'gamma': 0.1} 0.971\n",
            "{'C': 1, 'gamma': 1} 0.975\n",
            "{'C': 100, 'gamma': 0.1} 0.978\n",
            "{'C': 100, 'gamma': 1} 0.98\n",
            "{'C': 10, 'gamma': 0.1} 0.982\n",
            "{'C': 10, 'gamma': 1} 0.983\n"
          ]
        }
      ]
    },
    {
      "cell_type": "code",
      "source": [
        "res = model.cv_results_\n",
        "\n",
        "plt.figure(figsize=(len(C)*1.5,len(gamma)*1.5))\n",
        "plt.imshow(res[\"mean_test_score\"].reshape(len(C), len(gamma)), origin=\"lower\")\n",
        "n = 0\n",
        "for i in range(len(C)):\n",
        "    for j in range(len(gamma)):\n",
        "        plt.text(j,i,\"{0:.3f}\".format(res[\"mean_test_score\"][n]), ha=\"center\")\n",
        "        n += 1\n",
        "\n",
        "plt.ylabel(\"C\")\n",
        "plt.xlabel(\"gamma\")\n",
        "plt.yticks(np.arange(len(params[\"C\"])), params[\"C\"]);\n",
        "plt.xticks(np.arange(len(params[\"gamma\"])), params[\"gamma\"]);"
      ],
      "metadata": {
        "colab": {
          "base_uri": "https://localhost:8080/",
          "height": 388
        },
        "id": "N1oAaCZrqCR4",
        "outputId": "4f4aa806-2e7e-474a-bb87-75126c69c5a0"
      },
      "execution_count": 75,
      "outputs": [
        {
          "output_type": "display_data",
          "data": {
            "text/plain": [
              "<Figure size 540x432 with 1 Axes>"
            ],
            "image/png": "[encoded data removed]"
          },
          "metadata": {
            "needs_background": "light"
          }
        }
      ]
    },
    {
      "cell_type": "code",
      "metadata": {
        "id": "VvcN0sn0GYKm",
        "colab": {
          "base_uri": "https://localhost:8080/"
        },
        "outputId": "7bd0dd39-debe-42fc-f7f3-1d8c5cb88e76"
      },
      "source": [
        "model.best_estimator_, model.best_score_"
      ],
      "execution_count": 76,
      "outputs": [
        {
          "output_type": "execute_result",
          "data": {
            "text/plain": [
              "(SVC(C=10, gamma=1), 0.9826784282277468)"
            ]
          },
          "metadata": {},
          "execution_count": 76
        }
      ]
    },
    {
      "cell_type": "code",
      "source": [
        "decision_surface(SVC(kernel=\"rbf\", C=10, gamma=1, probability=True))"
      ],
      "metadata": {
        "colab": {
          "base_uri": "https://localhost:8080/",
          "height": 281
        },
        "id": "jOIRblw16VDI",
        "outputId": "6209622e-138b-4f99-b834-2b6828a17a5c"
      },
      "execution_count": 77,
      "outputs": [
        {
          "output_type": "display_data",
          "data": {
            "text/plain": [
              "<Figure size 432x288 with 1 Axes>"
            ],
            "image/png": "[encoded data removed]"
          },
          "metadata": {
            "needs_background": "light"
          }
        }
      ]
    },
    {
      "cell_type": "markdown",
      "metadata": {
        "id": "jMH5qPGMAeB4"
      },
      "source": [
        "## **Classifier comparison**"
      ]
    },
    {
      "cell_type": "code",
      "metadata": {
        "id": "93lNl7rt3ftZ"
      },
      "source": [
        "from sklearn.neural_network import MLPClassifier # multi-layer perceptron classifier\n",
        "from sklearn.naive_bayes import GaussianNB\n",
        "from sklearn.tree import DecisionTreeClassifier\n",
        "from sklearn.neighbors import KNeighborsClassifier"
      ],
      "execution_count": 78,
      "outputs": []
    },
    {
      "cell_type": "code",
      "metadata": {
        "id": "jRSP0nxqGYKn",
        "colab": {
          "base_uri": "https://localhost:8080/"
        },
        "outputId": "503a9d5a-94f8-40a6-a81a-9b9f6db75086"
      },
      "source": [
        "classifiers = [MLPClassifier(max_iter=1000),\n",
        "               GaussianNB(),\n",
        "               DecisionTreeClassifier(),\n",
        "               KNeighborsClassifier(),\n",
        "               SVC(kernel=\"rbf\", C=10, gamma=1)]\n",
        "\n",
        "for classifier in classifiers:\n",
        "    print(classifier)\n",
        "    classify(X, y, classifier)\n",
        "    print()"
      ],
      "execution_count": 86,
      "outputs": [
        {
          "output_type": "stream",
          "name": "stdout",
          "text": [
            "MLPClassifier(max_iter=1000)\n",
            "0.9850173750334136\n",
            "\n",
            "GaussianNB()\n",
            "0.8950013365410319\n",
            "\n",
            "DecisionTreeClassifier()\n",
            "0.9619085805934242\n",
            "\n",
            "KNeighborsClassifier()\n",
            "0.9850173750334136\n",
            "\n",
            "SVC(C=10, gamma=1)\n",
            "0.9896017107725207\n",
            "\n"
          ]
        }
      ]
    },
    {
      "cell_type": "code",
      "source": [
        "clf = MLPClassifier(max_iter=1000)\n",
        "\n",
        "params = {\"hidden_layer_sizes\" : [10, 100, 1000],\n",
        "          \"activation\" : [\"identity\", \"tanh\", \"relu\"]}\n",
        "\n",
        "X_new = PCA(n_components=3).fit_transform(X)\n",
        "X_new = StandardScaler().fit_transform(X_new)\n",
        "\n",
        "model = GridSearchCV(clf, params, cv=5, n_jobs=4)\n",
        "\n",
        "model.fit(X_new, y)"
      ],
      "metadata": {
        "colab": {
          "base_uri": "https://localhost:8080/"
        },
        "id": "kKgI9kGLBKvf",
        "outputId": "b0443a26-831b-4d3b-eae8-c77a13d4ae90"
      },
      "execution_count": 88,
      "outputs": [
        {
          "output_type": "execute_result",
          "data": {
            "text/plain": [
              "GridSearchCV(cv=5, estimator=MLPClassifier(max_iter=1000), n_jobs=4,\n",
              "             param_grid={'activation': ['identity', 'tanh', 'relu'],\n",
              "                         'hidden_layer_sizes': [10, 100, 1000]})"
            ]
          },
          "metadata": {},
          "execution_count": 88
        }
      ]
    },
    {
      "cell_type": "code",
      "metadata": {
        "id": "1fPwnj2EGYKp",
        "colab": {
          "base_uri": "https://localhost:8080/"
        },
        "outputId": "70dff4f9-38f1-45e4-c458-0f8f602e97e4"
      },
      "source": [
        "model.best_estimator_, model.best_score_"
      ],
      "execution_count": 89,
      "outputs": [
        {
          "output_type": "execute_result",
          "data": {
            "text/plain": [
              "(MLPClassifier(hidden_layer_sizes=1000, max_iter=1000), 0.9884725267424092)"
            ]
          },
          "metadata": {},
          "execution_count": 89
        }
      ]
    },
    {
      "cell_type": "code",
      "source": [
        "decision_surface(MLPClassifier(hidden_layer_sizes=100))"
      ],
      "metadata": {
        "colab": {
          "base_uri": "https://localhost:8080/",
          "height": 336
        },
        "id": "zBaBwDSc9v6d",
        "outputId": "6bcd574f-ebf2-479f-8c58-3d26b466bf03"
      },
      "execution_count": 90,
      "outputs": [
        {
          "output_type": "stream",
          "name": "stderr",
          "text": [
            "/usr/local/lib/python3.7/dist-packages/sklearn/neural_network/_multilayer_perceptron.py:696: ConvergenceWarning: Stochastic Optimizer: Maximum iterations (200) reached and the optimization hasn't converged yet.\n",
            "  ConvergenceWarning,\n"
          ]
        },
        {
          "output_type": "display_data",
          "data": {
            "text/plain": [
              "<Figure size 432x288 with 1 Axes>"
            ],
            "image/png": "[encoded data removed]"
          },
          "metadata": {
            "needs_background": "light"
          }
        }
      ]
    },
    {
      "cell_type": "markdown",
      "metadata": {
        "id": "D_pSaCWM3gec"
      },
      "source": [
        "## **Ensemble methods**"
      ]
    },
    {
      "cell_type": "markdown",
      "source": [
        "### **Various hyper-parameters**"
      ],
      "metadata": {
        "id": "r8g4xFXRGFne"
      }
    },
    {
      "cell_type": "code",
      "metadata": {
        "id": "9Uvk2gjj3f1n"
      },
      "source": [
        "from sklearn.ensemble import StackingClassifier"
      ],
      "execution_count": 91,
      "outputs": []
    },
    {
      "cell_type": "code",
      "source": [
        "classifiers = [(\"Linear\", SVC(kernel=\"linear\")),\n",
        "               (\"Quadratic\", SVC(kernel=\"poly\", degree=2))]\n",
        "\n",
        "model = make_pipeline(PCA(n_components=3),\n",
        "                      StandardScaler(),\n",
        "                      StackingClassifier(classifiers))\n",
        "\n",
        "res = cross_validate(model, X, y, cv=10)\n",
        "np.mean(res[\"test_score\"]), np.std(res[\"test_score\"])"
      ],
      "metadata": {
        "colab": {
          "base_uri": "https://localhost:8080/"
        },
        "id": "eTQkxAZCFjw4",
        "outputId": "b03904c2-d7b7-49a6-feae-6e07b5c1eb30"
      },
      "execution_count": 92,
      "outputs": [
        {
          "output_type": "execute_result",
          "data": {
            "text/plain": [
              "(0.9653702218658115, 0.015581850256831519)"
            ]
          },
          "metadata": {},
          "execution_count": 92
        }
      ]
    },
    {
      "cell_type": "code",
      "source": [
        "decision_surface(StackingClassifier(classifiers))"
      ],
      "metadata": {
        "colab": {
          "base_uri": "https://localhost:8080/",
          "height": 281
        },
        "id": "v48Iqa1NF0iI",
        "outputId": "3262baf6-ed64-48f8-a3cf-b9a5668ac6f8"
      },
      "execution_count": 93,
      "outputs": [
        {
          "output_type": "display_data",
          "data": {
            "text/plain": [
              "<Figure size 432x288 with 1 Axes>"
            ],
            "image/png": "[encoded data removed]"
          },
          "metadata": {
            "needs_background": "light"
          }
        }
      ]
    },
    {
      "cell_type": "markdown",
      "source": [
        "### **Random forest**"
      ],
      "metadata": {
        "id": "j4VUjY3TGP3w"
      }
    },
    {
      "cell_type": "code",
      "source": [
        "classifiers = [(\"One\", DecisionTreeClassifier(random_state=1)),\n",
        "               (\"Two\", DecisionTreeClassifier(random_state=2)),\n",
        "               (\"Three\", DecisionTreeClassifier(random_state=3)),\n",
        "               (\"Four\", DecisionTreeClassifier(random_state=4))]\n",
        "\n",
        "model = make_pipeline(PCA(n_components=3),\n",
        "                      StandardScaler(),\n",
        "                      StackingClassifier(classifiers))\n",
        "\n",
        "res = cross_validate(model, X, y, cv=10)\n",
        "np.mean(res[\"test_score\"]), np.std(res[\"test_score\"])"
      ],
      "metadata": {
        "colab": {
          "base_uri": "https://localhost:8080/"
        },
        "id": "5Hltix9NWsmo",
        "outputId": "e5cdf90a-01ed-47d3-b507-bc787d276cad"
      },
      "execution_count": 94,
      "outputs": [
        {
          "output_type": "execute_result",
          "data": {
            "text/plain": [
              "(0.9618952151831062, 0.02008269760839265)"
            ]
          },
          "metadata": {},
          "execution_count": 94
        }
      ]
    },
    {
      "cell_type": "code",
      "metadata": {
        "id": "JMDa_nxxGYKr"
      },
      "source": [
        "from sklearn.ensemble import RandomForestClassifier"
      ],
      "execution_count": 95,
      "outputs": []
    },
    {
      "cell_type": "code",
      "metadata": {
        "id": "gdqWpK1iGYK0",
        "colab": {
          "base_uri": "https://localhost:8080/"
        },
        "outputId": "b454de26-0e1a-4e56-81fc-132311064e2e"
      },
      "source": [
        "model = make_pipeline(PCA(n_components=3),\n",
        "                      StandardScaler(),\n",
        "                      RandomForestClassifier(n_estimators=100))\n",
        "\n",
        "res = cross_validate(model, X, y, cv=10)\n",
        "np.mean(res[\"test_score\"]), np.std(res[\"test_score\"])"
      ],
      "execution_count": 96,
      "outputs": [
        {
          "output_type": "execute_result",
          "data": {
            "text/plain": [
              "(0.9769313017909649, 0.02001736927746048)"
            ]
          },
          "metadata": {},
          "execution_count": 96
        }
      ]
    },
    {
      "cell_type": "code",
      "source": [
        "decision_surface(RandomForestClassifier(n_estimators=100))"
      ],
      "metadata": {
        "colab": {
          "base_uri": "https://localhost:8080/",
          "height": 281
        },
        "id": "7HTAt_pjD6_Q",
        "outputId": "ade44e51-fc77-402f-cddb-b09d4892e874"
      },
      "execution_count": 97,
      "outputs": [
        {
          "output_type": "display_data",
          "data": {
            "text/plain": [
              "<Figure size 432x288 with 1 Axes>"
            ],
            "image/png": "[encoded data removed]"
          },
          "metadata": {
            "needs_background": "light"
          }
        }
      ]
    },
    {
      "cell_type": "markdown",
      "source": [
        "### **Stacking multiple methods**"
      ],
      "metadata": {
        "id": "h6a8h3qkFAkd"
      }
    },
    {
      "cell_type": "code",
      "metadata": {
        "id": "ccqwzF_tGYK1",
        "colab": {
          "base_uri": "https://localhost:8080/"
        },
        "outputId": "ee1be418-d30e-432c-9460-eb09191d1817"
      },
      "source": [
        "classifiers = [(\"SVC\", SVC(kernel=\"rbf\", C=10, gamma=1)),\n",
        "               (\"RFC\", RandomForestClassifier()),\n",
        "               (\"MLP\", MLPClassifier(max_iter=1000)),\n",
        "               (\"Bayes\", GaussianNB()),\n",
        "               (\"KNN\", KNeighborsClassifier())]\n",
        "\n",
        "model = make_pipeline(PCA(n_components=3),\n",
        "                      StandardScaler(),\n",
        "                      StackingClassifier(classifiers))\n",
        "\n",
        "res = cross_validate(model, X, y, cv=10)\n",
        "np.mean(res[\"test_score\"]), np.std(res[\"test_score\"])"
      ],
      "execution_count": 98,
      "outputs": [
        {
          "output_type": "execute_result",
          "data": {
            "text/plain": [
              "(0.9896284415931568, 0.006195037090662189)"
            ]
          },
          "metadata": {},
          "execution_count": 98
        }
      ]
    },
    {
      "cell_type": "code",
      "source": [
        "decision_surface(StackingClassifier(classifiers))"
      ],
      "metadata": {
        "colab": {
          "base_uri": "https://localhost:8080/",
          "height": 281
        },
        "id": "Um00cOfpH2cn",
        "outputId": "e06b522d-cf8d-4094-b138-732bb0638863"
      },
      "execution_count": 99,
      "outputs": [
        {
          "output_type": "display_data",
          "data": {
            "text/plain": [
              "<Figure size 432x288 with 1 Axes>"
            ],
            "image/png": "[encoded data removed]"
          },
          "metadata": {
            "needs_background": "light"
          }
        }
      ]
    },
    {
      "cell_type": "markdown",
      "source": [
        "## **Performance evaluation**"
      ],
      "metadata": {
        "id": "bnIInEhCXdFP"
      }
    },
    {
      "cell_type": "markdown",
      "source": [
        "### task 10: **try [`classification_report`](https://scikit-learn.org/stable/modules/generated/sklearn.metrics.classification_report.html) and [`ConfusionMatrixDisplay`](https://scikit-learn.org/stable/modules/generated/sklearn.metrics.ConfusionMatrixDisplay.html)**"
      ],
      "metadata": {
        "id": "OEuCneVx0Ep9"
      }
    },
    {
      "cell_type": "code",
      "source": [
        "from sklearn.metrics import classification_report, ConfusionMatrixDisplay"
      ],
      "metadata": {
        "id": "am_qy-DK0FLu"
      },
      "execution_count": 100,
      "outputs": []
    },
    {
      "cell_type": "code",
      "source": [],
      "metadata": {
        "id": "XIdS0Y3P0FOn"
      },
      "execution_count": 106,
      "outputs": []
    },
    {
      "cell_type": "code",
      "source": [],
      "metadata": {
        "id": "FoWrqWNF0FR5"
      },
      "execution_count": 106,
      "outputs": []
    },
    {
      "cell_type": "markdown",
      "metadata": {
        "id": "mUhmTJO3GYK1"
      },
      "source": [
        "## **Conclusion**"
      ]
    },
    {
      "cell_type": "code",
      "metadata": {
        "id": "R3tjj2vcGYK1",
        "colab": {
          "base_uri": "https://localhost:8080/",
          "height": 296
        },
        "outputId": "321eb315-e1ee-4739-91f4-0dd03e9c0aaa"
      },
      "source": [
        "# Data preparation\n",
        "X = data[[\"u\",\"g\",\"r\",\"i\",\"z\"]]\n",
        "le = LabelEncoder()\n",
        "y = le.fit_transform(data[\"target\"])\n",
        "\n",
        "# Train-test split\n",
        "X_train, X_test, y_train, y_test = train_test_split(X, y, test_size=0.1, stratify=y, random_state=420)\n",
        "\n",
        "# Stacking classifiers\n",
        "classifiers = [(\"SVC\", SVC(kernel=\"rbf\", C=10, gamma=1)),\n",
        "               (\"RFC\", RandomForestClassifier()),\n",
        "               (\"MLP\", MLPClassifier(max_iter=1000)),\n",
        "               (\"Bayes\", GaussianNB()),\n",
        "               (\"KNN\", KNeighborsClassifier())]\n",
        "\n",
        "# Making a pipeline\n",
        "model = make_pipeline(PCA(n_components=3),\n",
        "                      StandardScaler(),\n",
        "                      StackingClassifier(classifiers))\n",
        "\n",
        "# Fitting a model for train data\n",
        "model.fit(X_train, y_train)\n",
        "\n",
        "# Testing a model on test data\n",
        "score = model.score(X_test, y_test)\n",
        "ConfusionMatrixDisplay.from_estimator(model, X_test, y_test, display_labels=[\"QSO\", \"star\"]);\n",
        "\n",
        "# Cross-validation\n",
        "res = cross_validate(model, X, y, cv=10)\n",
        "print(np.mean(res[\"test_score\"]), np.std(res[\"test_score\"]))"
      ],
      "execution_count": 195,
      "outputs": [
        {
          "output_type": "stream",
          "name": "stdout",
          "text": [
            "0.9896284415931568 0.006195037090662189\n"
          ]
        },
        {
          "output_type": "display_data",
          "data": {
            "text/plain": [
              "<Figure size 432x288 with 2 Axes>"
            ],
            "image/png": "[encoded data removed]"
          },
          "metadata": {
            "needs_background": "light"
          }
        }
      ]
    },
    {
      "cell_type": "markdown",
      "source": [
        "## **Model inference**"
      ],
      "metadata": {
        "id": "piZXL3PN0Grh"
      }
    },
    {
      "cell_type": "code",
      "source": [
        "classifiers = [(\"SVC\", SVC(kernel=\"rbf\", C=10, gamma=1)),\n",
        "               (\"RFC\", RandomForestClassifier()),\n",
        "               (\"MLP\", MLPClassifier(max_iter=1000)),\n",
        "               (\"Bayes\", GaussianNB()),\n",
        "               (\"KNN\", KNeighborsClassifier())]\n",
        "\n",
        "model = make_pipeline(PCA(n_components=3),\n",
        "                      StandardScaler(),\n",
        "                      StackingClassifier(classifiers))\n",
        "\n",
        "model.fit(X, y)"
      ],
      "metadata": {
        "id": "ouEW5qescwo8",
        "outputId": "a24fb56b-027c-4432-ef19-47a9a29021e0",
        "colab": {
          "base_uri": "https://localhost:8080/"
        }
      },
      "execution_count": 196,
      "outputs": [
        {
          "output_type": "execute_result",
          "data": {
            "text/plain": [
              "Pipeline(steps=[('pca', PCA(n_components=3)),\n",
              "                ('standardscaler', StandardScaler()),\n",
              "                ('stackingclassifier',\n",
              "                 StackingClassifier(estimators=[('SVC', SVC(C=10, gamma=1)),\n",
              "                                                ('RFC',\n",
              "                                                 RandomForestClassifier()),\n",
              "                                                ('MLP',\n",
              "                                                 MLPClassifier(max_iter=1000)),\n",
              "                                                ('Bayes', GaussianNB()),\n",
              "                                                ('KNN',\n",
              "                                                 KNeighborsClassifier())]))])"
            ]
          },
          "metadata": {},
          "execution_count": 196
        }
      ]
    },
    {
      "cell_type": "markdown",
      "source": [
        "### task 11: **pick an object from SDSS and classify it**"
      ],
      "metadata": {
        "id": "ngmliPGF0KYg"
      }
    },
    {
      "cell_type": "code",
      "metadata": {
        "id": "f3SeWR9NNlmE",
        "colab": {
          "base_uri": "https://localhost:8080/",
          "height": 81
        },
        "outputId": "d31fdfe8-d452-4ea4-f7c0-47e6873fb91e"
      },
      "source": [
        "u = 15.914\n",
        "g = 15.500\n",
        "r = 16.2\n",
        "i = 16.5\n",
        "z = 17.1\n",
        "\n",
        "X_real = pd.DataFrame(np.array([[u,g,r,i,z]]), columns=[\"u\",\"g\",\"r\",\"i\",\"z\"])\n",
        "\n",
        "X_real"
      ],
      "execution_count": 197,
      "outputs": [
        {
          "output_type": "execute_result",
          "data": {
            "text/plain": [
              "        u     g     r     i     z\n",
              "0  15.914  15.5  16.2  16.5  17.1"
            ],
            "text/html": [
              "\n",
              "  <div id=\"df-22a18c20-742e-4452-8f72-7a155b41b80b\">\n",
              "    <div class=\"colab-df-container\">\n",
              "      <div>\n",
              "<style scoped>\n",
              "    .dataframe tbody tr th:only-of-type {\n",
              "        vertical-align: middle;\n",
              "    }\n",
              "\n",
              "    .dataframe tbody tr th {\n",
              "        vertical-align: top;\n",
              "    }\n",
              "\n",
              "    .dataframe thead th {\n",
              "        text-align: right;\n",
              "    }\n",
              "</style>\n",
              "<table border=\"1\" class=\"dataframe\">\n",
              "  <thead>\n",
              "    <tr style=\"text-align: right;\">\n",
              "      <th></th>\n",
              "      <th>u</th>\n",
              "      <th>g</th>\n",
              "      <th>r</th>\n",
              "      <th>i</th>\n",
              "      <th>z</th>\n",
              "    </tr>\n",
              "  </thead>\n",
              "  <tbody>\n",
              "    <tr>\n",
              "      <th>0</th>\n",
              "      <td>15.914</td>\n",
              "      <td>15.5</td>\n",
              "      <td>16.2</td>\n",
              "      <td>16.5</td>\n",
              "      <td>17.1</td>\n",
              "    </tr>\n",
              "  </tbody>\n",
              "</table>\n",
              "</div>\n",
              "      <button class=\"colab-df-convert\" onclick=\"convertToInteractive('df-22a18c20-742e-4452-8f72-7a155b41b80b')\"\n",
              "              title=\"Convert this dataframe to an interactive table.\"\n",
              "              style=\"display:none;\">\n",
              "        \n",
              "  <svg xmlns=\"http://www.w3.org/2000/svg\" height=\"24px\"viewBox=\"0 0 24 24\"\n",
              "       width=\"24px\">\n",
              "    <path d=\"M0 0h24v24H0V0z\" fill=\"none\"/>\n",
              "    <path d=\"M18.56 5.44l.94 2.06.94-2.06 2.06-.94-2.06-.94-.94-2.06-.94 2.06-2.06.94zm-11 1L8.5 8.5l.94-2.06 2.06-.94-2.06-.94L8.5 2.5l-.94 2.06-2.06.94zm10 10l.94 2.06.94-2.06 2.06-.94-2.06-.94-.94-2.06-.94 2.06-2.06.94z\"/><path d=\"M17.41 7.96l-1.37-1.37c-.4-.4-.92-.59-1.43-.59-.52 0-1.04.2-1.43.59L10.3 9.45l-7.72 7.72c-.78.78-.78 2.05 0 2.83L4 21.41c.39.39.9.59 1.41.59.51 0 1.02-.2 1.41-.59l7.78-7.78 2.81-2.81c.8-.78.8-2.07 0-2.86zM5.41 20L4 18.59l7.72-7.72 1.47 1.35L5.41 20z\"/>\n",
              "  </svg>\n",
              "      </button>\n",
              "      \n",
              "  <style>\n",
              "    .colab-df-container {\n",
              "      display:flex;\n",
              "      flex-wrap:wrap;\n",
              "      gap: 12px;\n",
              "    }\n",
              "\n",
              "    .colab-df-convert {\n",
              "      background-color: #E8F0FE;\n",
              "      border: none;\n",
              "      border-radius: 50%;\n",
              "      cursor: pointer;\n",
              "      display: none;\n",
              "      fill: #1967D2;\n",
              "      height: 32px;\n",
              "      padding: 0 0 0 0;\n",
              "      width: 32px;\n",
              "    }\n",
              "\n",
              "    .colab-df-convert:hover {\n",
              "      background-color: #E2EBFA;\n",
              "      box-shadow: 0px 1px 2px rgba(60, 64, 67, 0.3), 0px 1px 3px 1px rgba(60, 64, 67, 0.15);\n",
              "      fill: #174EA6;\n",
              "    }\n",
              "\n",
              "    [theme=dark] .colab-df-convert {\n",
              "      background-color: #3B4455;\n",
              "      fill: #D2E3FC;\n",
              "    }\n",
              "\n",
              "    [theme=dark] .colab-df-convert:hover {\n",
              "      background-color: #434B5C;\n",
              "      box-shadow: 0px 1px 3px 1px rgba(0, 0, 0, 0.15);\n",
              "      filter: drop-shadow(0px 1px 2px rgba(0, 0, 0, 0.3));\n",
              "      fill: #FFFFFF;\n",
              "    }\n",
              "  </style>\n",
              "\n",
              "      <script>\n",
              "        const buttonEl =\n",
              "          document.querySelector('#df-22a18c20-742e-4452-8f72-7a155b41b80b button.colab-df-convert');\n",
              "        buttonEl.style.display =\n",
              "          google.colab.kernel.accessAllowed ? 'block' : 'none';\n",
              "\n",
              "        async function convertToInteractive(key) {\n",
              "          const element = document.querySelector('#df-22a18c20-742e-4452-8f72-7a155b41b80b');\n",
              "          const dataTable =\n",
              "            await google.colab.kernel.invokeFunction('convertToInteractive',\n",
              "                                                     [key], {});\n",
              "          if (!dataTable) return;\n",
              "\n",
              "          const docLinkHtml = 'Like what you see? Visit the ' +\n",
              "            '<a target=\"_blank\" href=https://colab.research.google.com/notebooks/data_table.ipynb>data table notebook</a>'\n",
              "            + ' to learn more about interactive tables.';\n",
              "          element.innerHTML = '';\n",
              "          dataTable['output_type'] = 'display_data';\n",
              "          await google.colab.output.renderOutput(dataTable, element);\n",
              "          const docLink = document.createElement('div');\n",
              "          docLink.innerHTML = docLinkHtml;\n",
              "          element.appendChild(docLink);\n",
              "        }\n",
              "      </script>\n",
              "    </div>\n",
              "  </div>\n",
              "  "
            ]
          },
          "metadata": {},
          "execution_count": 197
        }
      ]
    },
    {
      "cell_type": "code",
      "metadata": {
        "id": "ZNg6aU3TE0Ba"
      },
      "source": [],
      "execution_count": 106,
      "outputs": []
    },
    {
      "cell_type": "code",
      "source": [],
      "metadata": {
        "id": "wGCeUSOY0gX2"
      },
      "execution_count": null,
      "outputs": []
    }
  ]
}