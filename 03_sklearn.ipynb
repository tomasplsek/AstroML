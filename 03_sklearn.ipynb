{
  "nbformat": 4,
  "nbformat_minor": 0,
  "metadata": {
    "colab": {
      "name": "Kopie sešitu 03_classification.ipynb",
      "provenance": [],
      "collapsed_sections": [],
      "toc_visible": true
    },
    "kernelspec": {
      "display_name": "Python 3",
      "language": "python",
      "name": "python3"
    },
    "language_info": {
      "codemirror_mode": {
        "name": "ipython",
        "version": 3
      },
      "file_extension": ".py",
      "mimetype": "text/x-python",
      "name": "python",
      "nbconvert_exporter": "python",
      "pygments_lexer": "ipython3",
      "version": "3.8.10"
    },
    "toc-autonumbering": false
  },
  "cells": [
    {
      "cell_type": "markdown",
      "metadata": {
        "id": "w5pcm7J6fqxK"
      },
      "source": [
        "# 3. hands-on session: **Classification problem: from *Data* to *Inference***"
      ]
    },
    {
      "cell_type": "markdown",
      "metadata": {
        "id": "qXE0gT_O3l-l"
      },
      "source": [
        "## **Contents**\n",
        "\n",
        "1. Preprocess the data\n",
        "1. Select features & reduce dimensions\n",
        "1. Find best hyperparameters\n",
        "1. Closs-validate\n",
        "1. Compare classifiers\n",
        "1. Combine classifiers\n",
        "1. Predict"
      ]
    },
    {
      "cell_type": "code",
      "metadata": {
        "id": "ZCF_HPrGAIMK"
      },
      "source": [
        "import numpy as np\n",
        "import pandas as pd\n",
        "import matplotlib.pyplot as plt"
      ],
      "execution_count": 17,
      "outputs": []
    },
    {
      "cell_type": "code",
      "metadata": {
        "colab": {
          "base_uri": "https://localhost:8080/"
        },
        "id": "FBEQmIMCTq06",
        "outputId": "55bfa628-83be-4246-b11d-d053bdae1cb4"
      },
      "source": [
        "!pip install corner\n",
        "import corner"
      ],
      "execution_count": 18,
      "outputs": [
        {
          "output_type": "stream",
          "name": "stdout",
          "text": [
            "Looking in indexes: https://pypi.org/simple, https://us-python.pkg.dev/colab-wheels/public/simple/\n",
            "Requirement already satisfied: corner in /usr/local/lib/python3.7/dist-packages (2.2.1)\n",
            "Requirement already satisfied: matplotlib>=2.1 in /usr/local/lib/python3.7/dist-packages (from corner) (3.2.2)\n",
            "Requirement already satisfied: kiwisolver>=1.0.1 in /usr/local/lib/python3.7/dist-packages (from matplotlib>=2.1->corner) (1.4.4)\n",
            "Requirement already satisfied: numpy>=1.11 in /usr/local/lib/python3.7/dist-packages (from matplotlib>=2.1->corner) (1.21.6)\n",
            "Requirement already satisfied: pyparsing!=2.0.4,!=2.1.2,!=2.1.6,>=2.0.1 in /usr/local/lib/python3.7/dist-packages (from matplotlib>=2.1->corner) (3.0.9)\n",
            "Requirement already satisfied: cycler>=0.10 in /usr/local/lib/python3.7/dist-packages (from matplotlib>=2.1->corner) (0.11.0)\n",
            "Requirement already satisfied: python-dateutil>=2.1 in /usr/local/lib/python3.7/dist-packages (from matplotlib>=2.1->corner) (2.8.2)\n",
            "Requirement already satisfied: typing-extensions in /usr/local/lib/python3.7/dist-packages (from kiwisolver>=1.0.1->matplotlib>=2.1->corner) (4.1.1)\n",
            "Requirement already satisfied: six>=1.5 in /usr/local/lib/python3.7/dist-packages (from python-dateutil>=2.1->matplotlib>=2.1->corner) (1.15.0)\n"
          ]
        }
      ]
    },
    {
      "cell_type": "markdown",
      "metadata": {
        "id": "nIMmT6-DCEYC"
      },
      "source": [
        "## **Our dataset**\n",
        "\n",
        "SDSS data of point sources: stars vs Quasi-stellar objects"
      ]
    },
    {
      "cell_type": "markdown",
      "metadata": {
        "id": "Hc23Ez28VGGe"
      },
      "source": [
        "<img src=\"https://cdn.mos.cms.futurecdn.net/HgaCHZDNppE6e52yeDACo6-970-80.jpg.webp\" height=200>\n",
        "\n",
        "<img src=\"https://earthsky.org/upl/2021/01/supermassive-black-hole-artist-e1610556964639.jpg\" height=200 align=right>\n",
        "\n"
      ]
    },
    {
      "cell_type": "code",
      "metadata": {
        "colab": {
          "base_uri": "https://localhost:8080/"
        },
        "id": "kjK_BVs1CDh9",
        "outputId": "5814fae9-40b7-40fd-c184-e05080220a5b"
      },
      "source": [
        "!wget -c \"https://drive.google.com/uc?id=1IoQfGFo13ZP2wTyp-xvzQvguPYhE8TWB\" -O \"sdss_photo.csv\""
      ],
      "execution_count": 19,
      "outputs": [
        {
          "output_type": "stream",
          "name": "stdout",
          "text": [
            "--2022-10-11 18:04:49--  https://drive.google.com/uc?id=1IoQfGFo13ZP2wTyp-xvzQvguPYhE8TWB\n",
            "Resolving drive.google.com (drive.google.com)... 173.194.218.102, 173.194.218.113, 173.194.218.139, ...\n",
            "Connecting to drive.google.com (drive.google.com)|173.194.218.102|:443... connected.\n",
            "HTTP request sent, awaiting response... 416 Requested range not satisfiable\n",
            "\n",
            "    The file is already fully retrieved; nothing to do.\n",
            "\n"
          ]
        }
      ]
    },
    {
      "cell_type": "code",
      "metadata": {
        "id": "Pqhbn1Ht58EC"
      },
      "source": [
        "data = pd.read_csv(\"sdss_photo.csv\")"
      ],
      "execution_count": 20,
      "outputs": []
    },
    {
      "cell_type": "markdown",
      "metadata": {
        "id": "jWeG6dFa0x77"
      },
      "source": [
        "## **Data preprocessing**"
      ]
    },
    {
      "cell_type": "markdown",
      "metadata": {
        "id": "-yc3mKYsWYcl"
      },
      "source": [
        "### What to do with the data:\n",
        "- look at the data\n",
        "- check data quality\n",
        "- understand the data\n",
        "- think of selection biases"
      ]
    },
    {
      "cell_type": "code",
      "metadata": {
        "colab": {
          "base_uri": "https://localhost:8080/",
          "height": 424
        },
        "id": "DyEbvboDoe02",
        "outputId": "db37b561-b0fa-43f5-f2e7-7cace5c44a4a"
      },
      "source": [
        "data"
      ],
      "execution_count": 21,
      "outputs": [
        {
          "output_type": "execute_result",
          "data": {
            "text/plain": [
              "             u          g          r          i          z target\n",
              "0    19.240999  17.525999  16.840000  16.613001  16.492001   star\n",
              "1    19.732000  18.339001  17.767000  17.580000  17.481001   star\n",
              "2    16.120001  15.232000  14.933000  14.845000  14.827000   star\n",
              "3    18.995001  18.150999  17.877001  17.747000  17.766001   star\n",
              "4    19.032000  18.112000  17.848000  17.709999  17.712000   star\n",
              "..         ...        ...        ...        ...        ...    ...\n",
              "862  19.247000  19.047001  18.663000  18.627001  18.671000    QSO\n",
              "863  26.433001  21.429001  20.261000  20.108000  20.073000    QSO\n",
              "864  20.535999  20.200001  20.292999  19.910000  19.726000    QSO\n",
              "865  20.627001  20.583000  20.270000  20.229000  20.190001    QSO\n",
              "866  19.431000  19.228001  18.794001  18.791000  18.923000    QSO\n",
              "\n",
              "[867 rows x 6 columns]"
            ],
            "text/html": [
              "\n",
              "  <div id=\"df-e074ec1e-f0bf-436f-aec6-49b38ea2dd3e\">\n",
              "    <div class=\"colab-df-container\">\n",
              "      <div>\n",
              "<style scoped>\n",
              "    .dataframe tbody tr th:only-of-type {\n",
              "        vertical-align: middle;\n",
              "    }\n",
              "\n",
              "    .dataframe tbody tr th {\n",
              "        vertical-align: top;\n",
              "    }\n",
              "\n",
              "    .dataframe thead th {\n",
              "        text-align: right;\n",
              "    }\n",
              "</style>\n",
              "<table border=\"1\" class=\"dataframe\">\n",
              "  <thead>\n",
              "    <tr style=\"text-align: right;\">\n",
              "      <th></th>\n",
              "      <th>u</th>\n",
              "      <th>g</th>\n",
              "      <th>r</th>\n",
              "      <th>i</th>\n",
              "      <th>z</th>\n",
              "      <th>target</th>\n",
              "    </tr>\n",
              "  </thead>\n",
              "  <tbody>\n",
              "    <tr>\n",
              "      <th>0</th>\n",
              "      <td>19.240999</td>\n",
              "      <td>17.525999</td>\n",
              "      <td>16.840000</td>\n",
              "      <td>16.613001</td>\n",
              "      <td>16.492001</td>\n",
              "      <td>star</td>\n",
              "    </tr>\n",
              "    <tr>\n",
              "      <th>1</th>\n",
              "      <td>19.732000</td>\n",
              "      <td>18.339001</td>\n",
              "      <td>17.767000</td>\n",
              "      <td>17.580000</td>\n",
              "      <td>17.481001</td>\n",
              "      <td>star</td>\n",
              "    </tr>\n",
              "    <tr>\n",
              "      <th>2</th>\n",
              "      <td>16.120001</td>\n",
              "      <td>15.232000</td>\n",
              "      <td>14.933000</td>\n",
              "      <td>14.845000</td>\n",
              "      <td>14.827000</td>\n",
              "      <td>star</td>\n",
              "    </tr>\n",
              "    <tr>\n",
              "      <th>3</th>\n",
              "      <td>18.995001</td>\n",
              "      <td>18.150999</td>\n",
              "      <td>17.877001</td>\n",
              "      <td>17.747000</td>\n",
              "      <td>17.766001</td>\n",
              "      <td>star</td>\n",
              "    </tr>\n",
              "    <tr>\n",
              "      <th>4</th>\n",
              "      <td>19.032000</td>\n",
              "      <td>18.112000</td>\n",
              "      <td>17.848000</td>\n",
              "      <td>17.709999</td>\n",
              "      <td>17.712000</td>\n",
              "      <td>star</td>\n",
              "    </tr>\n",
              "    <tr>\n",
              "      <th>...</th>\n",
              "      <td>...</td>\n",
              "      <td>...</td>\n",
              "      <td>...</td>\n",
              "      <td>...</td>\n",
              "      <td>...</td>\n",
              "      <td>...</td>\n",
              "    </tr>\n",
              "    <tr>\n",
              "      <th>862</th>\n",
              "      <td>19.247000</td>\n",
              "      <td>19.047001</td>\n",
              "      <td>18.663000</td>\n",
              "      <td>18.627001</td>\n",
              "      <td>18.671000</td>\n",
              "      <td>QSO</td>\n",
              "    </tr>\n",
              "    <tr>\n",
              "      <th>863</th>\n",
              "      <td>26.433001</td>\n",
              "      <td>21.429001</td>\n",
              "      <td>20.261000</td>\n",
              "      <td>20.108000</td>\n",
              "      <td>20.073000</td>\n",
              "      <td>QSO</td>\n",
              "    </tr>\n",
              "    <tr>\n",
              "      <th>864</th>\n",
              "      <td>20.535999</td>\n",
              "      <td>20.200001</td>\n",
              "      <td>20.292999</td>\n",
              "      <td>19.910000</td>\n",
              "      <td>19.726000</td>\n",
              "      <td>QSO</td>\n",
              "    </tr>\n",
              "    <tr>\n",
              "      <th>865</th>\n",
              "      <td>20.627001</td>\n",
              "      <td>20.583000</td>\n",
              "      <td>20.270000</td>\n",
              "      <td>20.229000</td>\n",
              "      <td>20.190001</td>\n",
              "      <td>QSO</td>\n",
              "    </tr>\n",
              "    <tr>\n",
              "      <th>866</th>\n",
              "      <td>19.431000</td>\n",
              "      <td>19.228001</td>\n",
              "      <td>18.794001</td>\n",
              "      <td>18.791000</td>\n",
              "      <td>18.923000</td>\n",
              "      <td>QSO</td>\n",
              "    </tr>\n",
              "  </tbody>\n",
              "</table>\n",
              "<p>867 rows × 6 columns</p>\n",
              "</div>\n",
              "      <button class=\"colab-df-convert\" onclick=\"convertToInteractive('df-e074ec1e-f0bf-436f-aec6-49b38ea2dd3e')\"\n",
              "              title=\"Convert this dataframe to an interactive table.\"\n",
              "              style=\"display:none;\">\n",
              "        \n",
              "  <svg xmlns=\"http://www.w3.org/2000/svg\" height=\"24px\"viewBox=\"0 0 24 24\"\n",
              "       width=\"24px\">\n",
              "    <path d=\"M0 0h24v24H0V0z\" fill=\"none\"/>\n",
              "    <path d=\"M18.56 5.44l.94 2.06.94-2.06 2.06-.94-2.06-.94-.94-2.06-.94 2.06-2.06.94zm-11 1L8.5 8.5l.94-2.06 2.06-.94-2.06-.94L8.5 2.5l-.94 2.06-2.06.94zm10 10l.94 2.06.94-2.06 2.06-.94-2.06-.94-.94-2.06-.94 2.06-2.06.94z\"/><path d=\"M17.41 7.96l-1.37-1.37c-.4-.4-.92-.59-1.43-.59-.52 0-1.04.2-1.43.59L10.3 9.45l-7.72 7.72c-.78.78-.78 2.05 0 2.83L4 21.41c.39.39.9.59 1.41.59.51 0 1.02-.2 1.41-.59l7.78-7.78 2.81-2.81c.8-.78.8-2.07 0-2.86zM5.41 20L4 18.59l7.72-7.72 1.47 1.35L5.41 20z\"/>\n",
              "  </svg>\n",
              "      </button>\n",
              "      \n",
              "  <style>\n",
              "    .colab-df-container {\n",
              "      display:flex;\n",
              "      flex-wrap:wrap;\n",
              "      gap: 12px;\n",
              "    }\n",
              "\n",
              "    .colab-df-convert {\n",
              "      background-color: #E8F0FE;\n",
              "      border: none;\n",
              "      border-radius: 50%;\n",
              "      cursor: pointer;\n",
              "      display: none;\n",
              "      fill: #1967D2;\n",
              "      height: 32px;\n",
              "      padding: 0 0 0 0;\n",
              "      width: 32px;\n",
              "    }\n",
              "\n",
              "    .colab-df-convert:hover {\n",
              "      background-color: #E2EBFA;\n",
              "      box-shadow: 0px 1px 2px rgba(60, 64, 67, 0.3), 0px 1px 3px 1px rgba(60, 64, 67, 0.15);\n",
              "      fill: #174EA6;\n",
              "    }\n",
              "\n",
              "    [theme=dark] .colab-df-convert {\n",
              "      background-color: #3B4455;\n",
              "      fill: #D2E3FC;\n",
              "    }\n",
              "\n",
              "    [theme=dark] .colab-df-convert:hover {\n",
              "      background-color: #434B5C;\n",
              "      box-shadow: 0px 1px 3px 1px rgba(0, 0, 0, 0.15);\n",
              "      filter: drop-shadow(0px 1px 2px rgba(0, 0, 0, 0.3));\n",
              "      fill: #FFFFFF;\n",
              "    }\n",
              "  </style>\n",
              "\n",
              "      <script>\n",
              "        const buttonEl =\n",
              "          document.querySelector('#df-e074ec1e-f0bf-436f-aec6-49b38ea2dd3e button.colab-df-convert');\n",
              "        buttonEl.style.display =\n",
              "          google.colab.kernel.accessAllowed ? 'block' : 'none';\n",
              "\n",
              "        async function convertToInteractive(key) {\n",
              "          const element = document.querySelector('#df-e074ec1e-f0bf-436f-aec6-49b38ea2dd3e');\n",
              "          const dataTable =\n",
              "            await google.colab.kernel.invokeFunction('convertToInteractive',\n",
              "                                                     [key], {});\n",
              "          if (!dataTable) return;\n",
              "\n",
              "          const docLinkHtml = 'Like what you see? Visit the ' +\n",
              "            '<a target=\"_blank\" href=https://colab.research.google.com/notebooks/data_table.ipynb>data table notebook</a>'\n",
              "            + ' to learn more about interactive tables.';\n",
              "          element.innerHTML = '';\n",
              "          dataTable['output_type'] = 'display_data';\n",
              "          await google.colab.output.renderOutput(dataTable, element);\n",
              "          const docLink = document.createElement('div');\n",
              "          docLink.innerHTML = docLinkHtml;\n",
              "          element.appendChild(docLink);\n",
              "        }\n",
              "      </script>\n",
              "    </div>\n",
              "  </div>\n",
              "  "
            ]
          },
          "metadata": {},
          "execution_count": 21
        }
      ]
    },
    {
      "cell_type": "code",
      "metadata": {
        "colab": {
          "base_uri": "https://localhost:8080/",
          "height": 300
        },
        "id": "1Xj0KTG6oe5c",
        "outputId": "e4df98d7-b16c-4699-9d0e-87e697aea4ac"
      },
      "source": [
        "data.describe().round(2)"
      ],
      "execution_count": 22,
      "outputs": [
        {
          "output_type": "execute_result",
          "data": {
            "text/plain": [
              "            u       g       r       i       z\n",
              "count  867.00  867.00  867.00  867.00  867.00\n",
              "mean    19.29   18.17   17.72   17.54   17.45\n",
              "std      1.39    1.33    1.35    1.37    1.38\n",
              "min     15.67   14.36   14.12   13.95   13.89\n",
              "25%     18.50   17.29   16.74   16.54   16.45\n",
              "50%     19.33   18.33   17.88   17.69   17.62\n",
              "75%     20.02   19.09   18.76   18.61   18.52\n",
              "max     26.43   25.17   21.14   20.72   20.91"
            ],
            "text/html": [
              "\n",
              "  <div id=\"df-9a7d34b6-cf4e-4c69-8e89-1a8832aa046c\">\n",
              "    <div class=\"colab-df-container\">\n",
              "      <div>\n",
              "<style scoped>\n",
              "    .dataframe tbody tr th:only-of-type {\n",
              "        vertical-align: middle;\n",
              "    }\n",
              "\n",
              "    .dataframe tbody tr th {\n",
              "        vertical-align: top;\n",
              "    }\n",
              "\n",
              "    .dataframe thead th {\n",
              "        text-align: right;\n",
              "    }\n",
              "</style>\n",
              "<table border=\"1\" class=\"dataframe\">\n",
              "  <thead>\n",
              "    <tr style=\"text-align: right;\">\n",
              "      <th></th>\n",
              "      <th>u</th>\n",
              "      <th>g</th>\n",
              "      <th>r</th>\n",
              "      <th>i</th>\n",
              "      <th>z</th>\n",
              "    </tr>\n",
              "  </thead>\n",
              "  <tbody>\n",
              "    <tr>\n",
              "      <th>count</th>\n",
              "      <td>867.00</td>\n",
              "      <td>867.00</td>\n",
              "      <td>867.00</td>\n",
              "      <td>867.00</td>\n",
              "      <td>867.00</td>\n",
              "    </tr>\n",
              "    <tr>\n",
              "      <th>mean</th>\n",
              "      <td>19.29</td>\n",
              "      <td>18.17</td>\n",
              "      <td>17.72</td>\n",
              "      <td>17.54</td>\n",
              "      <td>17.45</td>\n",
              "    </tr>\n",
              "    <tr>\n",
              "      <th>std</th>\n",
              "      <td>1.39</td>\n",
              "      <td>1.33</td>\n",
              "      <td>1.35</td>\n",
              "      <td>1.37</td>\n",
              "      <td>1.38</td>\n",
              "    </tr>\n",
              "    <tr>\n",
              "      <th>min</th>\n",
              "      <td>15.67</td>\n",
              "      <td>14.36</td>\n",
              "      <td>14.12</td>\n",
              "      <td>13.95</td>\n",
              "      <td>13.89</td>\n",
              "    </tr>\n",
              "    <tr>\n",
              "      <th>25%</th>\n",
              "      <td>18.50</td>\n",
              "      <td>17.29</td>\n",
              "      <td>16.74</td>\n",
              "      <td>16.54</td>\n",
              "      <td>16.45</td>\n",
              "    </tr>\n",
              "    <tr>\n",
              "      <th>50%</th>\n",
              "      <td>19.33</td>\n",
              "      <td>18.33</td>\n",
              "      <td>17.88</td>\n",
              "      <td>17.69</td>\n",
              "      <td>17.62</td>\n",
              "    </tr>\n",
              "    <tr>\n",
              "      <th>75%</th>\n",
              "      <td>20.02</td>\n",
              "      <td>19.09</td>\n",
              "      <td>18.76</td>\n",
              "      <td>18.61</td>\n",
              "      <td>18.52</td>\n",
              "    </tr>\n",
              "    <tr>\n",
              "      <th>max</th>\n",
              "      <td>26.43</td>\n",
              "      <td>25.17</td>\n",
              "      <td>21.14</td>\n",
              "      <td>20.72</td>\n",
              "      <td>20.91</td>\n",
              "    </tr>\n",
              "  </tbody>\n",
              "</table>\n",
              "</div>\n",
              "      <button class=\"colab-df-convert\" onclick=\"convertToInteractive('df-9a7d34b6-cf4e-4c69-8e89-1a8832aa046c')\"\n",
              "              title=\"Convert this dataframe to an interactive table.\"\n",
              "              style=\"display:none;\">\n",
              "        \n",
              "  <svg xmlns=\"http://www.w3.org/2000/svg\" height=\"24px\"viewBox=\"0 0 24 24\"\n",
              "       width=\"24px\">\n",
              "    <path d=\"M0 0h24v24H0V0z\" fill=\"none\"/>\n",
              "    <path d=\"M18.56 5.44l.94 2.06.94-2.06 2.06-.94-2.06-.94-.94-2.06-.94 2.06-2.06.94zm-11 1L8.5 8.5l.94-2.06 2.06-.94-2.06-.94L8.5 2.5l-.94 2.06-2.06.94zm10 10l.94 2.06.94-2.06 2.06-.94-2.06-.94-.94-2.06-.94 2.06-2.06.94z\"/><path d=\"M17.41 7.96l-1.37-1.37c-.4-.4-.92-.59-1.43-.59-.52 0-1.04.2-1.43.59L10.3 9.45l-7.72 7.72c-.78.78-.78 2.05 0 2.83L4 21.41c.39.39.9.59 1.41.59.51 0 1.02-.2 1.41-.59l7.78-7.78 2.81-2.81c.8-.78.8-2.07 0-2.86zM5.41 20L4 18.59l7.72-7.72 1.47 1.35L5.41 20z\"/>\n",
              "  </svg>\n",
              "      </button>\n",
              "      \n",
              "  <style>\n",
              "    .colab-df-container {\n",
              "      display:flex;\n",
              "      flex-wrap:wrap;\n",
              "      gap: 12px;\n",
              "    }\n",
              "\n",
              "    .colab-df-convert {\n",
              "      background-color: #E8F0FE;\n",
              "      border: none;\n",
              "      border-radius: 50%;\n",
              "      cursor: pointer;\n",
              "      display: none;\n",
              "      fill: #1967D2;\n",
              "      height: 32px;\n",
              "      padding: 0 0 0 0;\n",
              "      width: 32px;\n",
              "    }\n",
              "\n",
              "    .colab-df-convert:hover {\n",
              "      background-color: #E2EBFA;\n",
              "      box-shadow: 0px 1px 2px rgba(60, 64, 67, 0.3), 0px 1px 3px 1px rgba(60, 64, 67, 0.15);\n",
              "      fill: #174EA6;\n",
              "    }\n",
              "\n",
              "    [theme=dark] .colab-df-convert {\n",
              "      background-color: #3B4455;\n",
              "      fill: #D2E3FC;\n",
              "    }\n",
              "\n",
              "    [theme=dark] .colab-df-convert:hover {\n",
              "      background-color: #434B5C;\n",
              "      box-shadow: 0px 1px 3px 1px rgba(0, 0, 0, 0.15);\n",
              "      filter: drop-shadow(0px 1px 2px rgba(0, 0, 0, 0.3));\n",
              "      fill: #FFFFFF;\n",
              "    }\n",
              "  </style>\n",
              "\n",
              "      <script>\n",
              "        const buttonEl =\n",
              "          document.querySelector('#df-9a7d34b6-cf4e-4c69-8e89-1a8832aa046c button.colab-df-convert');\n",
              "        buttonEl.style.display =\n",
              "          google.colab.kernel.accessAllowed ? 'block' : 'none';\n",
              "\n",
              "        async function convertToInteractive(key) {\n",
              "          const element = document.querySelector('#df-9a7d34b6-cf4e-4c69-8e89-1a8832aa046c');\n",
              "          const dataTable =\n",
              "            await google.colab.kernel.invokeFunction('convertToInteractive',\n",
              "                                                     [key], {});\n",
              "          if (!dataTable) return;\n",
              "\n",
              "          const docLinkHtml = 'Like what you see? Visit the ' +\n",
              "            '<a target=\"_blank\" href=https://colab.research.google.com/notebooks/data_table.ipynb>data table notebook</a>'\n",
              "            + ' to learn more about interactive tables.';\n",
              "          element.innerHTML = '';\n",
              "          dataTable['output_type'] = 'display_data';\n",
              "          await google.colab.output.renderOutput(dataTable, element);\n",
              "          const docLink = document.createElement('div');\n",
              "          docLink.innerHTML = docLinkHtml;\n",
              "          element.appendChild(docLink);\n",
              "        }\n",
              "      </script>\n",
              "    </div>\n",
              "  </div>\n",
              "  "
            ]
          },
          "metadata": {},
          "execution_count": 22
        }
      ]
    },
    {
      "cell_type": "code",
      "metadata": {
        "id": "ZVLpF-z3hmxk",
        "colab": {
          "base_uri": "https://localhost:8080/"
        },
        "outputId": "ffaa6f66-0400-47fa-e7de-9e8780804d48"
      },
      "source": [
        "sum(data.target== \"star\"), sum(data.target == \"QSO\")"
      ],
      "execution_count": 23,
      "outputs": [
        {
          "output_type": "execute_result",
          "data": {
            "text/plain": [
              "(655, 212)"
            ]
          },
          "metadata": {},
          "execution_count": 23
        }
      ]
    },
    {
      "cell_type": "markdown",
      "metadata": {
        "id": "6iO4-7kC79Kz"
      },
      "source": [
        "#### task 1: **create `X` and `y`**\n",
        "\n",
        "```python\n",
        "data[[\"u\",\"g\",\"r\",\"i\",\"z\"]] -> X\n",
        "data.target -> y\n",
        "\"QSO\" -> 1\n",
        "\"star\" -> 0\n",
        "```\n"
      ]
    },
    {
      "cell_type": "code",
      "metadata": {
        "colab": {
          "base_uri": "https://localhost:8080/",
          "height": 424
        },
        "id": "mTSxvZPF77kZ",
        "outputId": "a1f05cdb-499b-4926-942c-69443557fa30"
      },
      "source": [
        "filters = [\"u\",\"g\",\"r\",\"i\",\"z\"]\n",
        "X = data[filters]\n",
        "X"
      ],
      "execution_count": 25,
      "outputs": [
        {
          "output_type": "execute_result",
          "data": {
            "text/plain": [
              "             u          g          r          i          z\n",
              "0    19.240999  17.525999  16.840000  16.613001  16.492001\n",
              "1    19.732000  18.339001  17.767000  17.580000  17.481001\n",
              "2    16.120001  15.232000  14.933000  14.845000  14.827000\n",
              "3    18.995001  18.150999  17.877001  17.747000  17.766001\n",
              "4    19.032000  18.112000  17.848000  17.709999  17.712000\n",
              "..         ...        ...        ...        ...        ...\n",
              "862  19.247000  19.047001  18.663000  18.627001  18.671000\n",
              "863  26.433001  21.429001  20.261000  20.108000  20.073000\n",
              "864  20.535999  20.200001  20.292999  19.910000  19.726000\n",
              "865  20.627001  20.583000  20.270000  20.229000  20.190001\n",
              "866  19.431000  19.228001  18.794001  18.791000  18.923000\n",
              "\n",
              "[867 rows x 5 columns]"
            ],
            "text/html": [
              "\n",
              "  <div id=\"df-fa7f1ef6-16b5-4a64-9bf3-e3c0a498af09\">\n",
              "    <div class=\"colab-df-container\">\n",
              "      <div>\n",
              "<style scoped>\n",
              "    .dataframe tbody tr th:only-of-type {\n",
              "        vertical-align: middle;\n",
              "    }\n",
              "\n",
              "    .dataframe tbody tr th {\n",
              "        vertical-align: top;\n",
              "    }\n",
              "\n",
              "    .dataframe thead th {\n",
              "        text-align: right;\n",
              "    }\n",
              "</style>\n",
              "<table border=\"1\" class=\"dataframe\">\n",
              "  <thead>\n",
              "    <tr style=\"text-align: right;\">\n",
              "      <th></th>\n",
              "      <th>u</th>\n",
              "      <th>g</th>\n",
              "      <th>r</th>\n",
              "      <th>i</th>\n",
              "      <th>z</th>\n",
              "    </tr>\n",
              "  </thead>\n",
              "  <tbody>\n",
              "    <tr>\n",
              "      <th>0</th>\n",
              "      <td>19.240999</td>\n",
              "      <td>17.525999</td>\n",
              "      <td>16.840000</td>\n",
              "      <td>16.613001</td>\n",
              "      <td>16.492001</td>\n",
              "    </tr>\n",
              "    <tr>\n",
              "      <th>1</th>\n",
              "      <td>19.732000</td>\n",
              "      <td>18.339001</td>\n",
              "      <td>17.767000</td>\n",
              "      <td>17.580000</td>\n",
              "      <td>17.481001</td>\n",
              "    </tr>\n",
              "    <tr>\n",
              "      <th>2</th>\n",
              "      <td>16.120001</td>\n",
              "      <td>15.232000</td>\n",
              "      <td>14.933000</td>\n",
              "      <td>14.845000</td>\n",
              "      <td>14.827000</td>\n",
              "    </tr>\n",
              "    <tr>\n",
              "      <th>3</th>\n",
              "      <td>18.995001</td>\n",
              "      <td>18.150999</td>\n",
              "      <td>17.877001</td>\n",
              "      <td>17.747000</td>\n",
              "      <td>17.766001</td>\n",
              "    </tr>\n",
              "    <tr>\n",
              "      <th>4</th>\n",
              "      <td>19.032000</td>\n",
              "      <td>18.112000</td>\n",
              "      <td>17.848000</td>\n",
              "      <td>17.709999</td>\n",
              "      <td>17.712000</td>\n",
              "    </tr>\n",
              "    <tr>\n",
              "      <th>...</th>\n",
              "      <td>...</td>\n",
              "      <td>...</td>\n",
              "      <td>...</td>\n",
              "      <td>...</td>\n",
              "      <td>...</td>\n",
              "    </tr>\n",
              "    <tr>\n",
              "      <th>862</th>\n",
              "      <td>19.247000</td>\n",
              "      <td>19.047001</td>\n",
              "      <td>18.663000</td>\n",
              "      <td>18.627001</td>\n",
              "      <td>18.671000</td>\n",
              "    </tr>\n",
              "    <tr>\n",
              "      <th>863</th>\n",
              "      <td>26.433001</td>\n",
              "      <td>21.429001</td>\n",
              "      <td>20.261000</td>\n",
              "      <td>20.108000</td>\n",
              "      <td>20.073000</td>\n",
              "    </tr>\n",
              "    <tr>\n",
              "      <th>864</th>\n",
              "      <td>20.535999</td>\n",
              "      <td>20.200001</td>\n",
              "      <td>20.292999</td>\n",
              "      <td>19.910000</td>\n",
              "      <td>19.726000</td>\n",
              "    </tr>\n",
              "    <tr>\n",
              "      <th>865</th>\n",
              "      <td>20.627001</td>\n",
              "      <td>20.583000</td>\n",
              "      <td>20.270000</td>\n",
              "      <td>20.229000</td>\n",
              "      <td>20.190001</td>\n",
              "    </tr>\n",
              "    <tr>\n",
              "      <th>866</th>\n",
              "      <td>19.431000</td>\n",
              "      <td>19.228001</td>\n",
              "      <td>18.794001</td>\n",
              "      <td>18.791000</td>\n",
              "      <td>18.923000</td>\n",
              "    </tr>\n",
              "  </tbody>\n",
              "</table>\n",
              "<p>867 rows × 5 columns</p>\n",
              "</div>\n",
              "      <button class=\"colab-df-convert\" onclick=\"convertToInteractive('df-fa7f1ef6-16b5-4a64-9bf3-e3c0a498af09')\"\n",
              "              title=\"Convert this dataframe to an interactive table.\"\n",
              "              style=\"display:none;\">\n",
              "        \n",
              "  <svg xmlns=\"http://www.w3.org/2000/svg\" height=\"24px\"viewBox=\"0 0 24 24\"\n",
              "       width=\"24px\">\n",
              "    <path d=\"M0 0h24v24H0V0z\" fill=\"none\"/>\n",
              "    <path d=\"M18.56 5.44l.94 2.06.94-2.06 2.06-.94-2.06-.94-.94-2.06-.94 2.06-2.06.94zm-11 1L8.5 8.5l.94-2.06 2.06-.94-2.06-.94L8.5 2.5l-.94 2.06-2.06.94zm10 10l.94 2.06.94-2.06 2.06-.94-2.06-.94-.94-2.06-.94 2.06-2.06.94z\"/><path d=\"M17.41 7.96l-1.37-1.37c-.4-.4-.92-.59-1.43-.59-.52 0-1.04.2-1.43.59L10.3 9.45l-7.72 7.72c-.78.78-.78 2.05 0 2.83L4 21.41c.39.39.9.59 1.41.59.51 0 1.02-.2 1.41-.59l7.78-7.78 2.81-2.81c.8-.78.8-2.07 0-2.86zM5.41 20L4 18.59l7.72-7.72 1.47 1.35L5.41 20z\"/>\n",
              "  </svg>\n",
              "      </button>\n",
              "      \n",
              "  <style>\n",
              "    .colab-df-container {\n",
              "      display:flex;\n",
              "      flex-wrap:wrap;\n",
              "      gap: 12px;\n",
              "    }\n",
              "\n",
              "    .colab-df-convert {\n",
              "      background-color: #E8F0FE;\n",
              "      border: none;\n",
              "      border-radius: 50%;\n",
              "      cursor: pointer;\n",
              "      display: none;\n",
              "      fill: #1967D2;\n",
              "      height: 32px;\n",
              "      padding: 0 0 0 0;\n",
              "      width: 32px;\n",
              "    }\n",
              "\n",
              "    .colab-df-convert:hover {\n",
              "      background-color: #E2EBFA;\n",
              "      box-shadow: 0px 1px 2px rgba(60, 64, 67, 0.3), 0px 1px 3px 1px rgba(60, 64, 67, 0.15);\n",
              "      fill: #174EA6;\n",
              "    }\n",
              "\n",
              "    [theme=dark] .colab-df-convert {\n",
              "      background-color: #3B4455;\n",
              "      fill: #D2E3FC;\n",
              "    }\n",
              "\n",
              "    [theme=dark] .colab-df-convert:hover {\n",
              "      background-color: #434B5C;\n",
              "      box-shadow: 0px 1px 3px 1px rgba(0, 0, 0, 0.15);\n",
              "      filter: drop-shadow(0px 1px 2px rgba(0, 0, 0, 0.3));\n",
              "      fill: #FFFFFF;\n",
              "    }\n",
              "  </style>\n",
              "\n",
              "      <script>\n",
              "        const buttonEl =\n",
              "          document.querySelector('#df-fa7f1ef6-16b5-4a64-9bf3-e3c0a498af09 button.colab-df-convert');\n",
              "        buttonEl.style.display =\n",
              "          google.colab.kernel.accessAllowed ? 'block' : 'none';\n",
              "\n",
              "        async function convertToInteractive(key) {\n",
              "          const element = document.querySelector('#df-fa7f1ef6-16b5-4a64-9bf3-e3c0a498af09');\n",
              "          const dataTable =\n",
              "            await google.colab.kernel.invokeFunction('convertToInteractive',\n",
              "                                                     [key], {});\n",
              "          if (!dataTable) return;\n",
              "\n",
              "          const docLinkHtml = 'Like what you see? Visit the ' +\n",
              "            '<a target=\"_blank\" href=https://colab.research.google.com/notebooks/data_table.ipynb>data table notebook</a>'\n",
              "            + ' to learn more about interactive tables.';\n",
              "          element.innerHTML = '';\n",
              "          dataTable['output_type'] = 'display_data';\n",
              "          await google.colab.output.renderOutput(dataTable, element);\n",
              "          const docLink = document.createElement('div');\n",
              "          docLink.innerHTML = docLinkHtml;\n",
              "          element.appendChild(docLink);\n",
              "        }\n",
              "      </script>\n",
              "    </div>\n",
              "  </div>\n",
              "  "
            ]
          },
          "metadata": {},
          "execution_count": 25
        }
      ]
    },
    {
      "cell_type": "code",
      "metadata": {
        "colab": {
          "base_uri": "https://localhost:8080/"
        },
        "id": "wdjrBi_U8ilA",
        "outputId": "723a4d17-0687-453b-cedd-dca11d3bd11f"
      },
      "source": [
        "y = np.array(data[\"target\"] == \"star\").astype(int)\n",
        "y"
      ],
      "execution_count": 33,
      "outputs": [
        {
          "output_type": "execute_result",
          "data": {
            "text/plain": [
              "array([1, 1, 1, 1, 1, 1, 1, 1, 1, 1, 1, 1, 1, 1, 1, 1, 1, 1, 1, 1, 1, 1,\n",
              "       1, 1, 1, 1, 1, 1, 1, 1, 1, 1, 1, 1, 1, 1, 1, 1, 1, 1, 1, 1, 1, 1,\n",
              "       1, 1, 1, 1, 1, 1, 1, 1, 1, 1, 1, 1, 1, 1, 1, 1, 1, 1, 1, 1, 1, 1,\n",
              "       1, 1, 1, 1, 1, 1, 1, 1, 1, 1, 1, 1, 1, 1, 1, 1, 1, 1, 1, 1, 1, 1,\n",
              "       1, 1, 1, 1, 1, 1, 1, 1, 1, 1, 1, 1, 1, 1, 1, 1, 1, 1, 1, 1, 1, 1,\n",
              "       1, 1, 1, 1, 1, 1, 1, 1, 1, 1, 1, 1, 1, 1, 1, 1, 1, 1, 1, 1, 1, 1,\n",
              "       1, 1, 1, 1, 1, 1, 1, 1, 1, 1, 1, 1, 1, 1, 1, 1, 1, 1, 1, 1, 1, 1,\n",
              "       1, 1, 1, 1, 1, 1, 1, 1, 1, 1, 1, 1, 1, 1, 1, 1, 1, 1, 1, 1, 1, 1,\n",
              "       1, 1, 1, 1, 1, 1, 1, 1, 1, 1, 1, 1, 1, 1, 1, 1, 1, 1, 1, 1, 1, 1,\n",
              "       1, 1, 1, 1, 1, 1, 1, 1, 1, 1, 1, 1, 1, 1, 1, 1, 1, 1, 1, 1, 1, 1,\n",
              "       1, 1, 1, 1, 1, 1, 1, 1, 1, 1, 1, 1, 1, 1, 1, 1, 1, 1, 1, 1, 1, 1,\n",
              "       1, 1, 1, 1, 1, 1, 1, 1, 1, 1, 1, 1, 1, 1, 1, 1, 1, 1, 1, 1, 1, 1,\n",
              "       1, 1, 1, 1, 1, 1, 1, 1, 1, 1, 1, 1, 1, 1, 1, 1, 1, 1, 1, 1, 1, 1,\n",
              "       1, 1, 1, 1, 1, 1, 1, 1, 1, 1, 1, 1, 1, 1, 1, 1, 1, 1, 1, 1, 1, 1,\n",
              "       1, 1, 1, 1, 1, 1, 1, 1, 1, 1, 1, 1, 1, 1, 1, 1, 1, 1, 1, 1, 1, 1,\n",
              "       1, 1, 1, 1, 1, 1, 1, 1, 1, 1, 1, 1, 1, 1, 1, 1, 1, 1, 1, 1, 1, 1,\n",
              "       1, 1, 1, 1, 1, 1, 1, 1, 1, 1, 1, 1, 1, 1, 1, 1, 1, 1, 1, 1, 1, 1,\n",
              "       1, 1, 1, 1, 1, 1, 1, 1, 1, 1, 1, 1, 1, 1, 1, 1, 1, 1, 1, 1, 1, 1,\n",
              "       1, 1, 1, 1, 1, 1, 1, 1, 1, 1, 1, 1, 1, 1, 1, 1, 1, 1, 1, 1, 1, 1,\n",
              "       1, 1, 1, 1, 1, 1, 1, 1, 1, 1, 1, 1, 1, 1, 1, 1, 1, 1, 1, 1, 1, 1,\n",
              "       1, 1, 1, 1, 1, 1, 1, 1, 1, 1, 1, 1, 1, 1, 1, 1, 1, 1, 1, 1, 1, 1,\n",
              "       1, 1, 1, 1, 1, 1, 1, 1, 1, 1, 1, 1, 1, 1, 1, 1, 1, 1, 1, 1, 1, 1,\n",
              "       1, 1, 1, 1, 1, 1, 1, 1, 1, 1, 1, 1, 1, 1, 1, 1, 1, 1, 1, 1, 1, 1,\n",
              "       1, 1, 1, 1, 1, 1, 1, 1, 1, 1, 1, 1, 1, 1, 1, 1, 1, 1, 1, 1, 1, 1,\n",
              "       1, 1, 1, 1, 1, 1, 1, 1, 1, 1, 1, 1, 1, 1, 1, 1, 1, 1, 1, 1, 1, 1,\n",
              "       1, 1, 1, 1, 1, 1, 1, 1, 1, 1, 1, 1, 1, 1, 1, 1, 1, 1, 1, 1, 1, 1,\n",
              "       1, 1, 1, 1, 1, 1, 1, 1, 1, 1, 1, 1, 1, 1, 1, 1, 1, 1, 1, 1, 1, 1,\n",
              "       1, 1, 1, 1, 1, 1, 1, 1, 1, 1, 1, 1, 1, 1, 1, 1, 1, 1, 1, 1, 1, 1,\n",
              "       1, 1, 1, 1, 1, 1, 1, 1, 1, 1, 1, 1, 1, 1, 1, 1, 1, 1, 1, 1, 1, 1,\n",
              "       1, 1, 1, 1, 1, 1, 1, 1, 1, 1, 1, 1, 1, 1, 1, 1, 1, 0, 0, 0, 0, 0,\n",
              "       0, 0, 0, 0, 0, 0, 0, 0, 0, 0, 0, 0, 0, 0, 0, 0, 0, 0, 0, 0, 0, 0,\n",
              "       0, 0, 0, 0, 0, 0, 0, 0, 0, 0, 0, 0, 0, 0, 0, 0, 0, 0, 0, 0, 0, 0,\n",
              "       0, 0, 0, 0, 0, 0, 0, 0, 0, 0, 0, 0, 0, 0, 0, 0, 0, 0, 0, 0, 0, 0,\n",
              "       0, 0, 0, 0, 0, 0, 0, 0, 0, 0, 0, 0, 0, 0, 0, 0, 0, 0, 0, 0, 0, 0,\n",
              "       0, 0, 0, 0, 0, 0, 0, 0, 0, 0, 0, 0, 0, 0, 0, 0, 0, 0, 0, 0, 0, 0,\n",
              "       0, 0, 0, 0, 0, 0, 0, 0, 0, 0, 0, 0, 0, 0, 0, 0, 0, 0, 0, 0, 0, 0,\n",
              "       0, 0, 0, 0, 0, 0, 0, 0, 0, 0, 0, 0, 0, 0, 0, 0, 0, 0, 0, 0, 0, 0,\n",
              "       0, 0, 0, 0, 0, 0, 0, 0, 0, 0, 0, 0, 0, 0, 0, 0, 0, 0, 0, 0, 0, 0,\n",
              "       0, 0, 0, 0, 0, 0, 0, 0, 0, 0, 0, 0, 0, 0, 0, 0, 0, 0, 0, 0, 0, 0,\n",
              "       0, 0, 0, 0, 0, 0, 0, 0, 0])"
            ]
          },
          "metadata": {},
          "execution_count": 33
        }
      ]
    },
    {
      "cell_type": "code",
      "metadata": {
        "colab": {
          "base_uri": "https://localhost:8080/"
        },
        "id": "3shTgaecWYO5",
        "outputId": "4f402b83-41dd-485e-9208-8459dde6085c"
      },
      "source": [
        "from sklearn.preprocessing import LabelEncoder\n",
        "\n",
        "le = LabelEncoder()\n",
        "# le.fit(data.target)\n",
        "# y = le.transform(data.target)\n",
        "y = le.fit_transform(data.target)\n",
        "y"
      ],
      "execution_count": 35,
      "outputs": [
        {
          "output_type": "execute_result",
          "data": {
            "text/plain": [
              "array([1, 1, 1, 1, 1, 1, 1, 1, 1, 1, 1, 1, 1, 1, 1, 1, 1, 1, 1, 1, 1, 1,\n",
              "       1, 1, 1, 1, 1, 1, 1, 1, 1, 1, 1, 1, 1, 1, 1, 1, 1, 1, 1, 1, 1, 1,\n",
              "       1, 1, 1, 1, 1, 1, 1, 1, 1, 1, 1, 1, 1, 1, 1, 1, 1, 1, 1, 1, 1, 1,\n",
              "       1, 1, 1, 1, 1, 1, 1, 1, 1, 1, 1, 1, 1, 1, 1, 1, 1, 1, 1, 1, 1, 1,\n",
              "       1, 1, 1, 1, 1, 1, 1, 1, 1, 1, 1, 1, 1, 1, 1, 1, 1, 1, 1, 1, 1, 1,\n",
              "       1, 1, 1, 1, 1, 1, 1, 1, 1, 1, 1, 1, 1, 1, 1, 1, 1, 1, 1, 1, 1, 1,\n",
              "       1, 1, 1, 1, 1, 1, 1, 1, 1, 1, 1, 1, 1, 1, 1, 1, 1, 1, 1, 1, 1, 1,\n",
              "       1, 1, 1, 1, 1, 1, 1, 1, 1, 1, 1, 1, 1, 1, 1, 1, 1, 1, 1, 1, 1, 1,\n",
              "       1, 1, 1, 1, 1, 1, 1, 1, 1, 1, 1, 1, 1, 1, 1, 1, 1, 1, 1, 1, 1, 1,\n",
              "       1, 1, 1, 1, 1, 1, 1, 1, 1, 1, 1, 1, 1, 1, 1, 1, 1, 1, 1, 1, 1, 1,\n",
              "       1, 1, 1, 1, 1, 1, 1, 1, 1, 1, 1, 1, 1, 1, 1, 1, 1, 1, 1, 1, 1, 1,\n",
              "       1, 1, 1, 1, 1, 1, 1, 1, 1, 1, 1, 1, 1, 1, 1, 1, 1, 1, 1, 1, 1, 1,\n",
              "       1, 1, 1, 1, 1, 1, 1, 1, 1, 1, 1, 1, 1, 1, 1, 1, 1, 1, 1, 1, 1, 1,\n",
              "       1, 1, 1, 1, 1, 1, 1, 1, 1, 1, 1, 1, 1, 1, 1, 1, 1, 1, 1, 1, 1, 1,\n",
              "       1, 1, 1, 1, 1, 1, 1, 1, 1, 1, 1, 1, 1, 1, 1, 1, 1, 1, 1, 1, 1, 1,\n",
              "       1, 1, 1, 1, 1, 1, 1, 1, 1, 1, 1, 1, 1, 1, 1, 1, 1, 1, 1, 1, 1, 1,\n",
              "       1, 1, 1, 1, 1, 1, 1, 1, 1, 1, 1, 1, 1, 1, 1, 1, 1, 1, 1, 1, 1, 1,\n",
              "       1, 1, 1, 1, 1, 1, 1, 1, 1, 1, 1, 1, 1, 1, 1, 1, 1, 1, 1, 1, 1, 1,\n",
              "       1, 1, 1, 1, 1, 1, 1, 1, 1, 1, 1, 1, 1, 1, 1, 1, 1, 1, 1, 1, 1, 1,\n",
              "       1, 1, 1, 1, 1, 1, 1, 1, 1, 1, 1, 1, 1, 1, 1, 1, 1, 1, 1, 1, 1, 1,\n",
              "       1, 1, 1, 1, 1, 1, 1, 1, 1, 1, 1, 1, 1, 1, 1, 1, 1, 1, 1, 1, 1, 1,\n",
              "       1, 1, 1, 1, 1, 1, 1, 1, 1, 1, 1, 1, 1, 1, 1, 1, 1, 1, 1, 1, 1, 1,\n",
              "       1, 1, 1, 1, 1, 1, 1, 1, 1, 1, 1, 1, 1, 1, 1, 1, 1, 1, 1, 1, 1, 1,\n",
              "       1, 1, 1, 1, 1, 1, 1, 1, 1, 1, 1, 1, 1, 1, 1, 1, 1, 1, 1, 1, 1, 1,\n",
              "       1, 1, 1, 1, 1, 1, 1, 1, 1, 1, 1, 1, 1, 1, 1, 1, 1, 1, 1, 1, 1, 1,\n",
              "       1, 1, 1, 1, 1, 1, 1, 1, 1, 1, 1, 1, 1, 1, 1, 1, 1, 1, 1, 1, 1, 1,\n",
              "       1, 1, 1, 1, 1, 1, 1, 1, 1, 1, 1, 1, 1, 1, 1, 1, 1, 1, 1, 1, 1, 1,\n",
              "       1, 1, 1, 1, 1, 1, 1, 1, 1, 1, 1, 1, 1, 1, 1, 1, 1, 1, 1, 1, 1, 1,\n",
              "       1, 1, 1, 1, 1, 1, 1, 1, 1, 1, 1, 1, 1, 1, 1, 1, 1, 1, 1, 1, 1, 1,\n",
              "       1, 1, 1, 1, 1, 1, 1, 1, 1, 1, 1, 1, 1, 1, 1, 1, 1, 0, 0, 0, 0, 0,\n",
              "       0, 0, 0, 0, 0, 0, 0, 0, 0, 0, 0, 0, 0, 0, 0, 0, 0, 0, 0, 0, 0, 0,\n",
              "       0, 0, 0, 0, 0, 0, 0, 0, 0, 0, 0, 0, 0, 0, 0, 0, 0, 0, 0, 0, 0, 0,\n",
              "       0, 0, 0, 0, 0, 0, 0, 0, 0, 0, 0, 0, 0, 0, 0, 0, 0, 0, 0, 0, 0, 0,\n",
              "       0, 0, 0, 0, 0, 0, 0, 0, 0, 0, 0, 0, 0, 0, 0, 0, 0, 0, 0, 0, 0, 0,\n",
              "       0, 0, 0, 0, 0, 0, 0, 0, 0, 0, 0, 0, 0, 0, 0, 0, 0, 0, 0, 0, 0, 0,\n",
              "       0, 0, 0, 0, 0, 0, 0, 0, 0, 0, 0, 0, 0, 0, 0, 0, 0, 0, 0, 0, 0, 0,\n",
              "       0, 0, 0, 0, 0, 0, 0, 0, 0, 0, 0, 0, 0, 0, 0, 0, 0, 0, 0, 0, 0, 0,\n",
              "       0, 0, 0, 0, 0, 0, 0, 0, 0, 0, 0, 0, 0, 0, 0, 0, 0, 0, 0, 0, 0, 0,\n",
              "       0, 0, 0, 0, 0, 0, 0, 0, 0, 0, 0, 0, 0, 0, 0, 0, 0, 0, 0, 0, 0, 0,\n",
              "       0, 0, 0, 0, 0, 0, 0, 0, 0])"
            ]
          },
          "metadata": {},
          "execution_count": 35
        }
      ]
    },
    {
      "cell_type": "code",
      "metadata": {
        "id": "SSYlbEMvgqXc"
      },
      "source": [
        "cols = data.columns\n",
        "cols = cols[[\"mag\" in i for i in cols]]\n",
        "X = data[cols]\n",
        "X.columns = [i.split(\"_\")[1] for i in X.columns]\n",
        "\n",
        "from sklearn.preprocessing import LabelEncoder\n",
        "\n",
        "le = LabelEncoder()\n",
        "le.fit(data[\"target\"])\n",
        "y = le.transform(data[\"target\"])"
      ],
      "execution_count": null,
      "outputs": []
    },
    {
      "cell_type": "code",
      "metadata": {
        "id": "cFjCU0ZOgwCh"
      },
      "source": [
        "X"
      ],
      "execution_count": null,
      "outputs": []
    },
    {
      "cell_type": "markdown",
      "metadata": {
        "id": "jPlMgF-lpnAo"
      },
      "source": [
        "#### task 2: **plot the data**"
      ]
    },
    {
      "cell_type": "code",
      "metadata": {
        "id": "0CD0OiBvhVFX"
      },
      "source": [
        "X_QSO = X[y == 0]\n",
        "X_star = X[y == 1]"
      ],
      "execution_count": null,
      "outputs": []
    },
    {
      "cell_type": "code",
      "metadata": {
        "id": "vcd2YbRQpKjb"
      },
      "source": [
        "fig = corner.corner(X_QSO, color=\"C0\")\n",
        "corner.corner(X_star, fig=fig, color=\"C1\");"
      ],
      "execution_count": null,
      "outputs": []
    },
    {
      "cell_type": "markdown",
      "metadata": {
        "id": "seZZJbZ0A7dk"
      },
      "source": [
        "#### task 3: **classify with SVC & test score**"
      ]
    },
    {
      "cell_type": "code",
      "metadata": {
        "id": "1TLjQ7rHWeRM"
      },
      "source": [
        "from sklearn.svm import SVC\n",
        "from sklearn.model_selection import train_test_split\n",
        "\n",
        "model = SVC(kernel=\"linear\")"
      ],
      "execution_count": null,
      "outputs": []
    },
    {
      "cell_type": "code",
      "metadata": {
        "id": "3R9OArBLAefy"
      },
      "source": [
        "X_train, X_test, y_train, y_test = train_test_split(X, y, stratify=y, random_state=42)"
      ],
      "execution_count": null,
      "outputs": []
    },
    {
      "cell_type": "code",
      "metadata": {
        "id": "-6b4RklvAsmm"
      },
      "source": [
        "model.fit(X_train, y_train)"
      ],
      "execution_count": null,
      "outputs": []
    },
    {
      "cell_type": "code",
      "metadata": {
        "id": "RLPt5jOwB2eQ"
      },
      "source": [
        "y_pred = model.predict(X_test)\n",
        "sum(y_pred == y_test) / len(y_pred)"
      ],
      "execution_count": null,
      "outputs": []
    },
    {
      "cell_type": "code",
      "metadata": {
        "id": "nfBlkYhcBKAK"
      },
      "source": [
        "model.score(X_test, y_test)"
      ],
      "execution_count": null,
      "outputs": []
    },
    {
      "cell_type": "code",
      "metadata": {
        "id": "c57TLC6XBsc-"
      },
      "source": [
        "from sklearn.metrics import classification_report"
      ],
      "execution_count": null,
      "outputs": []
    },
    {
      "cell_type": "code",
      "metadata": {
        "id": "hJre5s3OBvKX"
      },
      "source": [
        "print(classification_report(y_test, y_pred, digits=3))"
      ],
      "execution_count": null,
      "outputs": []
    },
    {
      "cell_type": "code",
      "metadata": {
        "id": "oKvnXTkIiw2p"
      },
      "source": [
        "X_train, X_test, y_train, y_test = train_test_split(X, y, stratify=y, random_state=42)\n",
        "\n",
        "model.fit(X_train, y_train)\n",
        "\n",
        "y_pred = model.predict(X_test)\n",
        "\n",
        "from sklearn.metrics import classification_report\n",
        "\n",
        "print(classification_report(y_test, y_pred, digits=3))"
      ],
      "execution_count": null,
      "outputs": []
    },
    {
      "cell_type": "markdown",
      "metadata": {
        "id": "l3wPRpSa-0S0"
      },
      "source": [
        "#### task 4: **rescale the data -> `X_scaled` & test score**"
      ]
    },
    {
      "cell_type": "code",
      "metadata": {
        "id": "GCbc-uPr--Y7"
      },
      "source": [
        "X_scaled = X.copy()\n",
        "for col in X.columns:\n",
        "    X_scaled[col] = (X[col] - np.mean(X[col])) / np.std(X[col])"
      ],
      "execution_count": null,
      "outputs": []
    },
    {
      "cell_type": "code",
      "metadata": {
        "id": "A_k473pY_S-t"
      },
      "source": [
        "X_scaled.describe().round(2)"
      ],
      "execution_count": null,
      "outputs": []
    },
    {
      "cell_type": "code",
      "metadata": {
        "id": "CWBDavYmVNdp"
      },
      "source": [
        "from sklearn.preprocessing import StandardScaler\n",
        "\n",
        "X_scaled = StandardScaler().fit_transform(X)\n",
        "X_scaled = pd.DataFrame(data=X_scaled, columns=X.columns)\n",
        "X_scaled.describe().round(2)"
      ],
      "execution_count": null,
      "outputs": []
    },
    {
      "cell_type": "code",
      "metadata": {
        "id": "sR86rx_BVNgT"
      },
      "source": [
        "from sklearn.pipeline import make_pipeline\n",
        "\n",
        "model = make_pipeline(StandardScaler(),\n",
        "                      SVC(kernel=\"linear\"))\n",
        "\n",
        "model.fit(X_train, y_train)\n",
        "\n",
        "model.score(X_train, y_train)"
      ],
      "execution_count": null,
      "outputs": []
    },
    {
      "cell_type": "code",
      "metadata": {
        "id": "VjRVZxWsjAUN"
      },
      "source": [
        "from sklearn.preprocessing import StandardScaler\n",
        "from sklearn.pipeline import make_pipeline\n",
        "\n",
        "model = make_pipeline(StandardScaler(),\n",
        "                      SVC(kernel=\"linear\"))\n",
        "\n",
        "model.fit(X_train, y_train)\n",
        "\n",
        "model.score(X_train, y_train)"
      ],
      "execution_count": null,
      "outputs": []
    },
    {
      "cell_type": "markdown",
      "metadata": {
        "id": "4uNyaEwaTLas"
      },
      "source": [
        "## **Feature selection & dimensionality reduction**"
      ]
    },
    {
      "cell_type": "code",
      "metadata": {
        "id": "r5MWCPJSq0vE"
      },
      "source": [
        "from sklearn.ensemble import ExtraTreesClassifier"
      ],
      "execution_count": null,
      "outputs": []
    },
    {
      "cell_type": "code",
      "metadata": {
        "id": "o3r_-qzCq03O"
      },
      "source": [
        "clf = ExtraTreesClassifier(random_state=42).fit(X,y)\n",
        "clf.feature_importances_"
      ],
      "execution_count": null,
      "outputs": []
    },
    {
      "cell_type": "code",
      "metadata": {
        "id": "SLpvL6JS43Ls"
      },
      "source": [
        "plt.bar(np.arange(5), clf.feature_importances_, 0.5)\n",
        "plt.xticks(np.arange(5), X.columns);"
      ],
      "execution_count": null,
      "outputs": []
    },
    {
      "cell_type": "markdown",
      "metadata": {
        "id": "9E7QvHcTbYcm"
      },
      "source": [
        "#### task 5: **calculate spectral indices -> `X_new` & test importance**"
      ]
    },
    {
      "cell_type": "code",
      "metadata": {
        "id": "Is0aCppJ5r1x"
      },
      "source": [
        "X_new = X.copy()\n",
        "X_new[\"new\"] = np.ones(len(X_new.u))\n",
        "X_new"
      ],
      "execution_count": null,
      "outputs": []
    },
    {
      "cell_type": "code",
      "metadata": {
        "id": "MZfoAJA1rmRz"
      },
      "source": [
        "X_new = X.copy()\n",
        "X_new[\"u-g\"] = X.u - X.g\n",
        "X_new[\"u-r\"] = X.u - X.r\n",
        "X_new[\"u-z\"] = X.u - X.z\n",
        "X_new[\"i-z\"] = X.i - X.z\n",
        "\n",
        "X_new"
      ],
      "execution_count": null,
      "outputs": []
    },
    {
      "cell_type": "code",
      "metadata": {
        "id": "Nj0_n3aJrmUs"
      },
      "source": [
        "clf = ExtraTreesClassifier(random_state=42).fit(X_new,y)\n",
        "plt.bar(np.arange(len(X_new.columns)), clf.feature_importances_, 0.5)\n",
        "plt.xticks(np.arange(len(X_new.columns)), X_new.columns);"
      ],
      "execution_count": null,
      "outputs": []
    },
    {
      "cell_type": "code",
      "metadata": {
        "id": "_A3FA-tPl0HR"
      },
      "source": [
        "X_new = X.copy()\n",
        "X_new[\"u-g\"] = X.u - X.g\n",
        "X_new[\"u-r\"] = X.u - X.r\n",
        "X_new[\"u-z\"] = X.u - X.z\n",
        "X_new[\"i-z\"] = X.i - X.z\n",
        "\n",
        "clf = ExtraTreesClassifier(random_state=42).fit(X_new,y)\n",
        "plt.bar(np.arange(len(X_new.columns)), clf.feature_importances_, 0.5)\n",
        "plt.xticks(np.arange(len(X_new.columns)), X_new.columns);"
      ],
      "execution_count": null,
      "outputs": []
    },
    {
      "cell_type": "markdown",
      "metadata": {
        "id": "7Vsu9gRdl8ba"
      },
      "source": [
        "#### task 6: **test score for *u-r* spectral index**"
      ]
    },
    {
      "cell_type": "code",
      "metadata": {
        "id": "-Z3PTCanGYKf"
      },
      "source": [
        "X_train, X_test, y_train, y_test = train_test_split(X_new[[\"u-r\"]], y, \n",
        "                                                    stratify=y, \n",
        "                                                    random_state=42)\n",
        "\n",
        "model.fit(X_train, y_train)\n",
        "\n",
        "model.score(X_test, y_test)"
      ],
      "execution_count": null,
      "outputs": []
    },
    {
      "cell_type": "markdown",
      "metadata": {
        "id": "1ud7hKL_GYKe"
      },
      "source": [
        "#### task 7: **create dummy column & test importance**"
      ]
    },
    {
      "cell_type": "code",
      "metadata": {
        "id": "yjkNN6d4SuYn"
      },
      "source": [
        "X_new3 = X.copy()\n",
        "\n",
        "X_new3[\"dummy\"] = np.random.normal(0, 1, size=len(X.r))\n",
        "X_new3[\"dummy2\"] = np.ones_like(X.r)"
      ],
      "execution_count": null,
      "outputs": []
    },
    {
      "cell_type": "code",
      "metadata": {
        "id": "zXukq-8HGYKe"
      },
      "source": [
        "clf = ExtraTreesClassifier().fit(X_new3,y)\n",
        "plt.bar(np.arange(len(X_new3.columns)), clf.feature_importances_, 0.5)\n",
        "plt.xticks(np.arange(len(X_new3.columns)), X_new3.columns);"
      ],
      "execution_count": null,
      "outputs": []
    },
    {
      "cell_type": "code",
      "metadata": {
        "id": "u7Ou9OCHl2wR"
      },
      "source": [
        "X_new3 = X.copy()\n",
        "\n",
        "X_new3[\"dummy\"] = np.random.normal(0, 1, size=len(X.r))\n",
        "X_new3[\"dummy2\"] = np.ones_like(X.r)\n",
        "\n",
        "clf = ExtraTreesClassifier().fit(X_new3,y)\n",
        "plt.bar(np.arange(len(X_new3.columns)), clf.feature_importances_, 0.5)\n",
        "plt.xticks(np.arange(len(X_new3.columns)), X_new3.columns);"
      ],
      "execution_count": null,
      "outputs": []
    },
    {
      "cell_type": "code",
      "metadata": {
        "id": "twqvduOy1E63"
      },
      "source": [
        "X_train, X_test, y_train, y_test = train_test_split(X_new3[[\"dummy\"]], y, \n",
        "                                                    stratify=y, \n",
        "                                                    random_state=0)\n",
        "\n",
        "model.fit(X_train, y_train)\n",
        "\n",
        "model.score(X_test, y_test)"
      ],
      "execution_count": null,
      "outputs": []
    },
    {
      "cell_type": "code",
      "metadata": {
        "id": "o3GUkeHW_oIw"
      },
      "source": [
        "sum(data[\"target\"] == \"star\") / len(y), sum(data[\"target\"] == \"QSO\") / len(y)"
      ],
      "execution_count": null,
      "outputs": []
    },
    {
      "cell_type": "markdown",
      "metadata": {
        "id": "kNQwj_5FmPYF"
      },
      "source": [
        "### **Principal component analysis**"
      ]
    },
    {
      "cell_type": "code",
      "metadata": {
        "id": "InxyTPHuGYKa"
      },
      "source": [
        "from sklearn.decomposition import PCA\n",
        "\n",
        "pca = PCA(n_components=3)\n",
        "X_n = pca.fit_transform(X)"
      ],
      "execution_count": null,
      "outputs": []
    },
    {
      "cell_type": "code",
      "metadata": {
        "id": "dFrr051pGYKb"
      },
      "source": [
        "plt.plot(X.u, X.g, \".\")\n",
        "plt.plot(X_n[:,0], X_n[:,1], \".\")"
      ],
      "execution_count": null,
      "outputs": []
    },
    {
      "cell_type": "code",
      "metadata": {
        "id": "BuDSwwTDmTSC"
      },
      "source": [
        "X_train, X_test, y_train, y_test = train_test_split(X_n, y, \n",
        "                                                    stratify=y, \n",
        "                                                    random_state=42)\n",
        "\n",
        "model.fit(X_train, y_train)\n",
        "\n",
        "model.score(X_test, y_test)"
      ],
      "execution_count": null,
      "outputs": []
    },
    {
      "cell_type": "markdown",
      "metadata": {
        "id": "hfzrKed1GYKf"
      },
      "source": [
        "## **Tune hyperparameters**"
      ]
    },
    {
      "cell_type": "code",
      "metadata": {
        "scrolled": true,
        "id": "y8XOCnR-GYKg"
      },
      "source": [
        "SVC?"
      ],
      "execution_count": null,
      "outputs": []
    },
    {
      "cell_type": "markdown",
      "metadata": {
        "id": "0PYW9nkuGYKh"
      },
      "source": [
        "#### task 8: **find SVC hyperparameters with best test score**"
      ]
    },
    {
      "cell_type": "code",
      "metadata": {
        "id": "Xvaxj20ZGYKh"
      },
      "source": [
        "def classify(X, y, classifier):\n",
        "    model = make_pipeline(StandardScaler(),\n",
        "                          classifier)\n",
        "\n",
        "    X_train, X_test, y_train, y_test = train_test_split(X, y, stratify=y, random_state=42)\n",
        "\n",
        "    model.fit(X_train, y_train)\n",
        "    y_pred = model.predict(X_test)\n",
        "    print(model.score(X_test, y_test).round(3))"
      ],
      "execution_count": null,
      "outputs": []
    },
    {
      "cell_type": "code",
      "metadata": {
        "id": "F-6ACW9fGYKi"
      },
      "source": [
        "classify(X, y, SVC(kernel=\"linear\"))"
      ],
      "execution_count": null,
      "outputs": []
    },
    {
      "cell_type": "code",
      "metadata": {
        "id": "GfPZIkZYGYKi"
      },
      "source": [
        "classify(X, y, SVC(kernel=\"linear\", C=10))"
      ],
      "execution_count": null,
      "outputs": []
    },
    {
      "cell_type": "code",
      "metadata": {
        "id": "gG1kpotXGYKj"
      },
      "source": [
        "classify(X, y, SVC(kernel=\"linear\", C=0.1))"
      ],
      "execution_count": null,
      "outputs": []
    },
    {
      "cell_type": "code",
      "metadata": {
        "id": "lLb81etQGYKj"
      },
      "source": [
        "classify(X, y, SVC(kernel=\"poly\", degree=1))"
      ],
      "execution_count": null,
      "outputs": []
    },
    {
      "cell_type": "code",
      "metadata": {
        "id": "-5WE1CLyGYKj"
      },
      "source": [
        "classify(X, y, SVC(kernel=\"rbf\", C=100))"
      ],
      "execution_count": null,
      "outputs": []
    },
    {
      "cell_type": "markdown",
      "metadata": {
        "id": "teq3fSl7GYKk"
      },
      "source": [
        "## **Crossvalidate**"
      ]
    },
    {
      "cell_type": "code",
      "metadata": {
        "id": "46i2meaYGYKk"
      },
      "source": [
        "from sklearn.model_selection import cross_validate"
      ],
      "execution_count": null,
      "outputs": []
    },
    {
      "cell_type": "code",
      "metadata": {
        "id": "J5dKswVZGYKl"
      },
      "source": [
        "model = SVC(kernel=\"rbf\", C=1000)\n",
        "\n",
        "res = cross_validate(model, X, y, cv=10)\n",
        "\n",
        "np.mean(res[\"test_score\"]), np.std(res[\"test_score\"])"
      ],
      "execution_count": null,
      "outputs": []
    },
    {
      "cell_type": "markdown",
      "metadata": {
        "id": "a5rX00qbGYKl"
      },
      "source": [
        "### **Grid-search + crossvalidation**"
      ]
    },
    {
      "cell_type": "code",
      "metadata": {
        "id": "xKRbmlGLGYKl"
      },
      "source": [
        "from sklearn.model_selection import GridSearchCV"
      ],
      "execution_count": null,
      "outputs": []
    },
    {
      "cell_type": "code",
      "metadata": {
        "id": "jyeQmN-9GYKl"
      },
      "source": [
        "clf = SVC()\n",
        "params = {\"C\" : [0.01, 0.1, 1, 10, 100],\n",
        "          \"kernel\" : [\"linear\", \"poly\", \"rbf\"]}#,\n",
        "          #\"gamma\" : [\"scale\", \"auto\"]}\n",
        "model = GridSearchCV(clf, params, cv=5, n_jobs=8)\n",
        "model.fit(X, y)"
      ],
      "execution_count": null,
      "outputs": []
    },
    {
      "cell_type": "code",
      "metadata": {
        "id": "0UQbBdAsGYKm"
      },
      "source": [
        "model.cv_results_"
      ],
      "execution_count": null,
      "outputs": []
    },
    {
      "cell_type": "code",
      "metadata": {
        "id": "xFNq5dL4GYKm"
      },
      "source": [
        "params, score = model.cv_results_[\"params\"], model.cv_results_[\"mean_test_score\"]\n",
        "\n",
        "indices = np.argsort(score)\n",
        "\n",
        "for i in indices:\n",
        "    print(params[i], score[i].round(3))"
      ],
      "execution_count": null,
      "outputs": []
    },
    {
      "cell_type": "code",
      "metadata": {
        "id": "VvcN0sn0GYKm"
      },
      "source": [
        "model.best_estimator_"
      ],
      "execution_count": null,
      "outputs": []
    },
    {
      "cell_type": "markdown",
      "metadata": {
        "id": "jMH5qPGMAeB4"
      },
      "source": [
        "## **Compare classifiers**"
      ]
    },
    {
      "cell_type": "code",
      "metadata": {
        "id": "93lNl7rt3ftZ"
      },
      "source": [
        "from sklearn.neural_network import MLPClassifier # multi-layer perceptron classifier\n",
        "from sklearn.naive_bayes import GaussianNB\n",
        "from sklearn.tree import DecisionTreeClassifier\n",
        "from sklearn.neighbors import KNeighborsClassifier"
      ],
      "execution_count": null,
      "outputs": []
    },
    {
      "cell_type": "code",
      "metadata": {
        "id": "jRSP0nxqGYKn"
      },
      "source": [
        "classifiers = [MLPClassifier(max_iter=1000),\n",
        "               GaussianNB(),\n",
        "               DecisionTreeClassifier(),\n",
        "               KNeighborsClassifier(),\n",
        "               SVC(kernel=\"rbf\", C=10)]\n",
        "\n",
        "for classifier in classifiers:\n",
        "    classify(X, y, classifier)"
      ],
      "execution_count": null,
      "outputs": []
    },
    {
      "cell_type": "code",
      "metadata": {
        "id": "kjMNwSVEGYKo"
      },
      "source": [
        "clf = MLPClassifier(max_iter=1000)\n",
        "params = {\"hidden_layer_sizes\" : [5, 10, 50, 100],\n",
        "          \"activation\" : [\"identity\", \"logistic\", \"tanh\", \"relu\"],\n",
        "          \"solver\" : [\"sgd\", \"adam\"]}\n",
        "model = GridSearchCV(clf, params, cv=5, n_jobs=8)\n",
        "model.fit(X, y)"
      ],
      "execution_count": null,
      "outputs": []
    },
    {
      "cell_type": "code",
      "metadata": {
        "id": "1fPwnj2EGYKp"
      },
      "source": [
        "model.best_estimator_, model.best_score_"
      ],
      "execution_count": null,
      "outputs": []
    },
    {
      "cell_type": "code",
      "metadata": {
        "id": "Y5mz5zviGYKq"
      },
      "source": [
        "%time MLPClassifier(hidden_layer_sizes=10, max_iter=1000, solver='sgd').fit(X_train, y_train).score(X_test, y_test)"
      ],
      "execution_count": null,
      "outputs": []
    },
    {
      "cell_type": "code",
      "metadata": {
        "scrolled": true,
        "id": "4JWnkM5WGYKq"
      },
      "source": [
        "%time SVC(C=10).fit(X_train, y_train).score(X_test, y_test)"
      ],
      "execution_count": null,
      "outputs": []
    },
    {
      "cell_type": "markdown",
      "metadata": {
        "id": "D_pSaCWM3gec"
      },
      "source": [
        "## **Ensemble methods**"
      ]
    },
    {
      "cell_type": "code",
      "metadata": {
        "id": "JMDa_nxxGYKr"
      },
      "source": [
        "from sklearn.ensemble import RandomForestClassifier"
      ],
      "execution_count": null,
      "outputs": []
    },
    {
      "cell_type": "code",
      "metadata": {
        "id": "gdqWpK1iGYK0"
      },
      "source": [
        "model = RandomForestClassifier()\n",
        "\n",
        "res = cross_validate(model, X, y, cv=10)\n",
        "np.mean(res[\"test_score\"]), np.std(res[\"test_score\"])"
      ],
      "execution_count": null,
      "outputs": []
    },
    {
      "cell_type": "code",
      "metadata": {
        "id": "9Uvk2gjj3f1n"
      },
      "source": [
        "from sklearn.ensemble import StackingClassifier"
      ],
      "execution_count": null,
      "outputs": []
    },
    {
      "cell_type": "code",
      "metadata": {
        "id": "hbnW2C7wfanU"
      },
      "source": [
        "classifiers = [(\"MLP\", MLPClassifier(max_iter=1000, random_state=42)),\n",
        "               (\"Bayes\", GaussianNB()),\n",
        "               (\"RFC\", RandomForestClassifier()),\n",
        "               (\"KNN\", KNeighborsClassifier()),\n",
        "               (\"SVC\", SVC(C=10))]\n",
        "\n",
        "model = StackingClassifier(classifiers)\n",
        "\n",
        "res = cross_validate(model, X, y, cv=10)\n",
        "np.mean(res[\"test_score\"]), np.std(res[\"test_score\"])"
      ],
      "execution_count": null,
      "outputs": []
    },
    {
      "cell_type": "code",
      "metadata": {
        "id": "ccqwzF_tGYK1"
      },
      "source": [
        "classifiers = [(\"MLP\", MLPClassifier(max_iter=1000, random_state=42)),\n",
        "               (\"Bayes\", GaussianNB()),\n",
        "               (\"DTC\", DecisionTreeClassifier()),\n",
        "               (\"KNN\", KNeighborsClassifier()),\n",
        "               (\"SVC\", SVC(C=10))]\n",
        "\n",
        "# train the model\n",
        "clf = StackingClassifier(classifiers)\n",
        "\n",
        "model = make_pipeline(StandardScaler(),\n",
        "                      clf)\n",
        "\n",
        "res = cross_validate(model, X, y, cv=10)\n",
        "np.mean(res[\"test_score\"]), np.std(res[\"test_score\"])"
      ],
      "execution_count": null,
      "outputs": []
    },
    {
      "cell_type": "markdown",
      "metadata": {
        "id": "mUhmTJO3GYK1"
      },
      "source": [
        "## **Conclusion**"
      ]
    },
    {
      "cell_type": "code",
      "metadata": {
        "id": "R3tjj2vcGYK1"
      },
      "source": [
        "classifiers = [(\"MLP\", MLPClassifier(max_iter=1000, random_state=42)),\n",
        "               (\"Bayes\", GaussianNB()),\n",
        "               (\"DTC\", DecisionTreeClassifier()),\n",
        "               (\"KNN\", KNeighborsClassifier()),\n",
        "               (\"SVC\", SVC(C=10))]\n",
        "\n",
        "# train the model\n",
        "clf = StackingClassifier(classifiers)\n",
        "\n",
        "model = make_pipeline(StandardScaler(),\n",
        "                      clf)\n",
        "\n",
        "model.fit(X_new[[\"u-g\"]], y)"
      ],
      "execution_count": null,
      "outputs": []
    },
    {
      "cell_type": "code",
      "metadata": {
        "id": "f3SeWR9NNlmE"
      },
      "source": [
        "u = 15.914\n",
        "g = 15.500\n",
        "\n",
        "pred = model.predict(np.array([u-g]).reshape(-1,1))\n",
        "\n",
        "le.inverse_transform(pred)"
      ],
      "execution_count": null,
      "outputs": []
    },
    {
      "cell_type": "code",
      "metadata": {
        "id": "ZNg6aU3TE0Ba"
      },
      "source": [],
      "execution_count": null,
      "outputs": []
    }
  ]
}