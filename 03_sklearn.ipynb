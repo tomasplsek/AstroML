{
  "nbformat": 4,
  "nbformat_minor": 0,
  "metadata": {
    "colab": {
      "provenance": [],
      "collapsed_sections": [],
      "toc_visible": true,
      "include_colab_link": true
    },
    "kernelspec": {
      "display_name": "Python 3",
      "language": "python",
      "name": "python3"
    },
    "language_info": {
      "codemirror_mode": {
        "name": "ipython",
        "version": 3
      },
      "file_extension": ".py",
      "mimetype": "text/x-python",
      "name": "python",
      "nbconvert_exporter": "python",
      "pygments_lexer": "ipython3",
      "version": "3.8.10"
    },
    "toc-autonumbering": false
  },
  "cells": [
    {
      "cell_type": "markdown",
      "metadata": {
        "id": "view-in-github",
        "colab_type": "text"
      },
      "source": [
        "<a href=\"https://colab.research.google.com/github/tomasplsek/AstroML/blob/main/03_sklearn.ipynb\" target=\"_parent\"><img src=\"https://colab.research.google.com/assets/colab-badge.svg\" alt=\"Open In Colab\"/></a>"
      ]
    },
    {
      "cell_type": "markdown",
      "metadata": {
        "id": "w5pcm7J6fqxK"
      },
      "source": [
        "# 3. hands-on session: **From *Data* to *Prediction***"
      ]
    },
    {
      "cell_type": "markdown",
      "metadata": {
        "id": "qXE0gT_O3l-l"
      },
      "source": [
        "## **Contents**\n",
        "\n",
        "1. Preprocess the data\n",
        "1. Select features & reduce dimensions\n",
        "1. Cross-validate\n",
        "1. Find best hyperparameters\n",
        "1. Compare classifiers\n",
        "1. Combine classifiers\n",
        "1. Evaluate performance\n",
        "1. Predict"
      ]
    },
    {
      "cell_type": "code",
      "metadata": {
        "id": "ZCF_HPrGAIMK"
      },
      "source": [
        "import numpy as np\n",
        "import pandas as pd\n",
        "import matplotlib.pyplot as plt"
      ],
      "execution_count": 1,
      "outputs": []
    },
    {
      "cell_type": "markdown",
      "metadata": {
        "id": "nIMmT6-DCEYC"
      },
      "source": [
        "# **Our dataset**\n",
        "\n",
        "SDSS photometry of points sources: Star vs QSO"
      ]
    },
    {
      "cell_type": "markdown",
      "metadata": {
        "id": "Hc23Ez28VGGe"
      },
      "source": [
        "<img src=\"https://cdn.mos.cms.futurecdn.net/HgaCHZDNppE6e52yeDACo6-970-80.jpg.webp\" height=200>\n",
        "\n",
        "<img src=\"https://earthsky.org/upl/2021/01/supermassive-black-hole-artist-e1610556964639.jpg\" height=200 align=right>\n",
        "\n"
      ]
    },
    {
      "cell_type": "markdown",
      "source": [
        "### **Sloan Digital Sky Survey (SDSS)**\n",
        "\n",
        "- photometry & spectroscopy\n",
        "\n",
        "- fotometry 1 billion objects\n",
        "\n",
        "- spectroscopy 6 million objects\n",
        "\n",
        "- stars from our galaxy\n",
        "\n",
        "- galaxies up to $z \\approx 0.7$\n",
        "\n",
        "- quasars up to $z \\approx 6$\n",
        "\n",
        "- color system `u g r i z`\n",
        "\n",
        "<img src=\"https://www.astroml.org/_images/fig_sdss_filters_1.png\" align=left width=500>"
      ],
      "metadata": {
        "id": "vFSwlRFZ-Z6T"
      }
    },
    {
      "cell_type": "code",
      "metadata": {
        "colab": {
          "base_uri": "https://localhost:8080/"
        },
        "id": "kjK_BVs1CDh9",
        "outputId": "20a8c6e0-5373-41e3-9476-3a6be4160d96"
      },
      "source": [
        "!wget -c \"https://drive.google.com/uc?id=1IoQfGFo13ZP2wTyp-xvzQvguPYhE8TWB\" -O \"sdss_photo.csv\""
      ],
      "execution_count": 2,
      "outputs": [
        {
          "output_type": "stream",
          "name": "stdout",
          "text": [
            "--2022-10-17 12:44:15--  https://drive.google.com/uc?id=1IoQfGFo13ZP2wTyp-xvzQvguPYhE8TWB\n",
            "Resolving drive.google.com (drive.google.com)... 74.125.143.102, 74.125.143.139, 74.125.143.101, ...\n",
            "Connecting to drive.google.com (drive.google.com)|74.125.143.102|:443... connected.\n",
            "HTTP request sent, awaiting response... 416 Requested range not satisfiable\n",
            "\n",
            "    The file is already fully retrieved; nothing to do.\n",
            "\n"
          ]
        }
      ]
    },
    {
      "cell_type": "markdown",
      "metadata": {
        "id": "jWeG6dFa0x77"
      },
      "source": [
        "## **Data preprocessing**"
      ]
    },
    {
      "cell_type": "code",
      "metadata": {
        "id": "Pqhbn1Ht58EC"
      },
      "source": [
        "data = pd.read_csv(\"sdss_photo.csv\")"
      ],
      "execution_count": 3,
      "outputs": []
    },
    {
      "cell_type": "code",
      "metadata": {
        "colab": {
          "base_uri": "https://localhost:8080/",
          "height": 424
        },
        "id": "DyEbvboDoe02",
        "outputId": "67251962-de2a-4e04-f410-c1f6f52adad2"
      },
      "source": [
        "data"
      ],
      "execution_count": 4,
      "outputs": [
        {
          "output_type": "execute_result",
          "data": {
            "text/plain": [
              "             u          g          r          i          z target\n",
              "0    19.240999  17.525999  16.840000  16.613001  16.492001   star\n",
              "1    19.732000  18.339001  17.767000  17.580000  17.481001   star\n",
              "2    16.120001  15.232000  14.933000  14.845000  14.827000   star\n",
              "3    18.995001  18.150999  17.877001  17.747000  17.766001   star\n",
              "4    19.032000  18.112000  17.848000  17.709999  17.712000   star\n",
              "..         ...        ...        ...        ...        ...    ...\n",
              "862  19.247000  19.047001  18.663000  18.627001  18.671000    QSO\n",
              "863  26.433001  21.429001  20.261000  20.108000  20.073000    QSO\n",
              "864  20.535999  20.200001  20.292999  19.910000  19.726000    QSO\n",
              "865  20.627001  20.583000  20.270000  20.229000  20.190001    QSO\n",
              "866  19.431000  19.228001  18.794001  18.791000  18.923000    QSO\n",
              "\n",
              "[867 rows x 6 columns]"
            ],
            "text/html": [
              "\n",
              "  <div id=\"df-26168823-2cac-47fe-aef8-fbf2382ac80a\">\n",
              "    <div class=\"colab-df-container\">\n",
              "      <div>\n",
              "<style scoped>\n",
              "    .dataframe tbody tr th:only-of-type {\n",
              "        vertical-align: middle;\n",
              "    }\n",
              "\n",
              "    .dataframe tbody tr th {\n",
              "        vertical-align: top;\n",
              "    }\n",
              "\n",
              "    .dataframe thead th {\n",
              "        text-align: right;\n",
              "    }\n",
              "</style>\n",
              "<table border=\"1\" class=\"dataframe\">\n",
              "  <thead>\n",
              "    <tr style=\"text-align: right;\">\n",
              "      <th></th>\n",
              "      <th>u</th>\n",
              "      <th>g</th>\n",
              "      <th>r</th>\n",
              "      <th>i</th>\n",
              "      <th>z</th>\n",
              "      <th>target</th>\n",
              "    </tr>\n",
              "  </thead>\n",
              "  <tbody>\n",
              "    <tr>\n",
              "      <th>0</th>\n",
              "      <td>19.240999</td>\n",
              "      <td>17.525999</td>\n",
              "      <td>16.840000</td>\n",
              "      <td>16.613001</td>\n",
              "      <td>16.492001</td>\n",
              "      <td>star</td>\n",
              "    </tr>\n",
              "    <tr>\n",
              "      <th>1</th>\n",
              "      <td>19.732000</td>\n",
              "      <td>18.339001</td>\n",
              "      <td>17.767000</td>\n",
              "      <td>17.580000</td>\n",
              "      <td>17.481001</td>\n",
              "      <td>star</td>\n",
              "    </tr>\n",
              "    <tr>\n",
              "      <th>2</th>\n",
              "      <td>16.120001</td>\n",
              "      <td>15.232000</td>\n",
              "      <td>14.933000</td>\n",
              "      <td>14.845000</td>\n",
              "      <td>14.827000</td>\n",
              "      <td>star</td>\n",
              "    </tr>\n",
              "    <tr>\n",
              "      <th>3</th>\n",
              "      <td>18.995001</td>\n",
              "      <td>18.150999</td>\n",
              "      <td>17.877001</td>\n",
              "      <td>17.747000</td>\n",
              "      <td>17.766001</td>\n",
              "      <td>star</td>\n",
              "    </tr>\n",
              "    <tr>\n",
              "      <th>4</th>\n",
              "      <td>19.032000</td>\n",
              "      <td>18.112000</td>\n",
              "      <td>17.848000</td>\n",
              "      <td>17.709999</td>\n",
              "      <td>17.712000</td>\n",
              "      <td>star</td>\n",
              "    </tr>\n",
              "    <tr>\n",
              "      <th>...</th>\n",
              "      <td>...</td>\n",
              "      <td>...</td>\n",
              "      <td>...</td>\n",
              "      <td>...</td>\n",
              "      <td>...</td>\n",
              "      <td>...</td>\n",
              "    </tr>\n",
              "    <tr>\n",
              "      <th>862</th>\n",
              "      <td>19.247000</td>\n",
              "      <td>19.047001</td>\n",
              "      <td>18.663000</td>\n",
              "      <td>18.627001</td>\n",
              "      <td>18.671000</td>\n",
              "      <td>QSO</td>\n",
              "    </tr>\n",
              "    <tr>\n",
              "      <th>863</th>\n",
              "      <td>26.433001</td>\n",
              "      <td>21.429001</td>\n",
              "      <td>20.261000</td>\n",
              "      <td>20.108000</td>\n",
              "      <td>20.073000</td>\n",
              "      <td>QSO</td>\n",
              "    </tr>\n",
              "    <tr>\n",
              "      <th>864</th>\n",
              "      <td>20.535999</td>\n",
              "      <td>20.200001</td>\n",
              "      <td>20.292999</td>\n",
              "      <td>19.910000</td>\n",
              "      <td>19.726000</td>\n",
              "      <td>QSO</td>\n",
              "    </tr>\n",
              "    <tr>\n",
              "      <th>865</th>\n",
              "      <td>20.627001</td>\n",
              "      <td>20.583000</td>\n",
              "      <td>20.270000</td>\n",
              "      <td>20.229000</td>\n",
              "      <td>20.190001</td>\n",
              "      <td>QSO</td>\n",
              "    </tr>\n",
              "    <tr>\n",
              "      <th>866</th>\n",
              "      <td>19.431000</td>\n",
              "      <td>19.228001</td>\n",
              "      <td>18.794001</td>\n",
              "      <td>18.791000</td>\n",
              "      <td>18.923000</td>\n",
              "      <td>QSO</td>\n",
              "    </tr>\n",
              "  </tbody>\n",
              "</table>\n",
              "<p>867 rows × 6 columns</p>\n",
              "</div>\n",
              "      <button class=\"colab-df-convert\" onclick=\"convertToInteractive('df-26168823-2cac-47fe-aef8-fbf2382ac80a')\"\n",
              "              title=\"Convert this dataframe to an interactive table.\"\n",
              "              style=\"display:none;\">\n",
              "        \n",
              "  <svg xmlns=\"http://www.w3.org/2000/svg\" height=\"24px\"viewBox=\"0 0 24 24\"\n",
              "       width=\"24px\">\n",
              "    <path d=\"M0 0h24v24H0V0z\" fill=\"none\"/>\n",
              "    <path d=\"M18.56 5.44l.94 2.06.94-2.06 2.06-.94-2.06-.94-.94-2.06-.94 2.06-2.06.94zm-11 1L8.5 8.5l.94-2.06 2.06-.94-2.06-.94L8.5 2.5l-.94 2.06-2.06.94zm10 10l.94 2.06.94-2.06 2.06-.94-2.06-.94-.94-2.06-.94 2.06-2.06.94z\"/><path d=\"M17.41 7.96l-1.37-1.37c-.4-.4-.92-.59-1.43-.59-.52 0-1.04.2-1.43.59L10.3 9.45l-7.72 7.72c-.78.78-.78 2.05 0 2.83L4 21.41c.39.39.9.59 1.41.59.51 0 1.02-.2 1.41-.59l7.78-7.78 2.81-2.81c.8-.78.8-2.07 0-2.86zM5.41 20L4 18.59l7.72-7.72 1.47 1.35L5.41 20z\"/>\n",
              "  </svg>\n",
              "      </button>\n",
              "      \n",
              "  <style>\n",
              "    .colab-df-container {\n",
              "      display:flex;\n",
              "      flex-wrap:wrap;\n",
              "      gap: 12px;\n",
              "    }\n",
              "\n",
              "    .colab-df-convert {\n",
              "      background-color: #E8F0FE;\n",
              "      border: none;\n",
              "      border-radius: 50%;\n",
              "      cursor: pointer;\n",
              "      display: none;\n",
              "      fill: #1967D2;\n",
              "      height: 32px;\n",
              "      padding: 0 0 0 0;\n",
              "      width: 32px;\n",
              "    }\n",
              "\n",
              "    .colab-df-convert:hover {\n",
              "      background-color: #E2EBFA;\n",
              "      box-shadow: 0px 1px 2px rgba(60, 64, 67, 0.3), 0px 1px 3px 1px rgba(60, 64, 67, 0.15);\n",
              "      fill: #174EA6;\n",
              "    }\n",
              "\n",
              "    [theme=dark] .colab-df-convert {\n",
              "      background-color: #3B4455;\n",
              "      fill: #D2E3FC;\n",
              "    }\n",
              "\n",
              "    [theme=dark] .colab-df-convert:hover {\n",
              "      background-color: #434B5C;\n",
              "      box-shadow: 0px 1px 3px 1px rgba(0, 0, 0, 0.15);\n",
              "      filter: drop-shadow(0px 1px 2px rgba(0, 0, 0, 0.3));\n",
              "      fill: #FFFFFF;\n",
              "    }\n",
              "  </style>\n",
              "\n",
              "      <script>\n",
              "        const buttonEl =\n",
              "          document.querySelector('#df-26168823-2cac-47fe-aef8-fbf2382ac80a button.colab-df-convert');\n",
              "        buttonEl.style.display =\n",
              "          google.colab.kernel.accessAllowed ? 'block' : 'none';\n",
              "\n",
              "        async function convertToInteractive(key) {\n",
              "          const element = document.querySelector('#df-26168823-2cac-47fe-aef8-fbf2382ac80a');\n",
              "          const dataTable =\n",
              "            await google.colab.kernel.invokeFunction('convertToInteractive',\n",
              "                                                     [key], {});\n",
              "          if (!dataTable) return;\n",
              "\n",
              "          const docLinkHtml = 'Like what you see? Visit the ' +\n",
              "            '<a target=\"_blank\" href=https://colab.research.google.com/notebooks/data_table.ipynb>data table notebook</a>'\n",
              "            + ' to learn more about interactive tables.';\n",
              "          element.innerHTML = '';\n",
              "          dataTable['output_type'] = 'display_data';\n",
              "          await google.colab.output.renderOutput(dataTable, element);\n",
              "          const docLink = document.createElement('div');\n",
              "          docLink.innerHTML = docLinkHtml;\n",
              "          element.appendChild(docLink);\n",
              "        }\n",
              "      </script>\n",
              "    </div>\n",
              "  </div>\n",
              "  "
            ]
          },
          "metadata": {},
          "execution_count": 4
        }
      ]
    },
    {
      "cell_type": "code",
      "metadata": {
        "colab": {
          "base_uri": "https://localhost:8080/",
          "height": 300
        },
        "id": "1Xj0KTG6oe5c",
        "outputId": "8fc97af2-181f-4be1-915c-6ae86280cff9"
      },
      "source": [
        "data.describe().round(2)"
      ],
      "execution_count": 5,
      "outputs": [
        {
          "output_type": "execute_result",
          "data": {
            "text/plain": [
              "            u       g       r       i       z\n",
              "count  867.00  867.00  867.00  867.00  867.00\n",
              "mean    19.29   18.17   17.72   17.54   17.45\n",
              "std      1.39    1.33    1.35    1.37    1.38\n",
              "min     15.67   14.36   14.12   13.95   13.89\n",
              "25%     18.50   17.29   16.74   16.54   16.45\n",
              "50%     19.33   18.33   17.88   17.69   17.62\n",
              "75%     20.02   19.09   18.76   18.61   18.52\n",
              "max     26.43   25.17   21.14   20.72   20.91"
            ],
            "text/html": [
              "\n",
              "  <div id=\"df-d90cc753-2616-487b-a006-96898a978721\">\n",
              "    <div class=\"colab-df-container\">\n",
              "      <div>\n",
              "<style scoped>\n",
              "    .dataframe tbody tr th:only-of-type {\n",
              "        vertical-align: middle;\n",
              "    }\n",
              "\n",
              "    .dataframe tbody tr th {\n",
              "        vertical-align: top;\n",
              "    }\n",
              "\n",
              "    .dataframe thead th {\n",
              "        text-align: right;\n",
              "    }\n",
              "</style>\n",
              "<table border=\"1\" class=\"dataframe\">\n",
              "  <thead>\n",
              "    <tr style=\"text-align: right;\">\n",
              "      <th></th>\n",
              "      <th>u</th>\n",
              "      <th>g</th>\n",
              "      <th>r</th>\n",
              "      <th>i</th>\n",
              "      <th>z</th>\n",
              "    </tr>\n",
              "  </thead>\n",
              "  <tbody>\n",
              "    <tr>\n",
              "      <th>count</th>\n",
              "      <td>867.00</td>\n",
              "      <td>867.00</td>\n",
              "      <td>867.00</td>\n",
              "      <td>867.00</td>\n",
              "      <td>867.00</td>\n",
              "    </tr>\n",
              "    <tr>\n",
              "      <th>mean</th>\n",
              "      <td>19.29</td>\n",
              "      <td>18.17</td>\n",
              "      <td>17.72</td>\n",
              "      <td>17.54</td>\n",
              "      <td>17.45</td>\n",
              "    </tr>\n",
              "    <tr>\n",
              "      <th>std</th>\n",
              "      <td>1.39</td>\n",
              "      <td>1.33</td>\n",
              "      <td>1.35</td>\n",
              "      <td>1.37</td>\n",
              "      <td>1.38</td>\n",
              "    </tr>\n",
              "    <tr>\n",
              "      <th>min</th>\n",
              "      <td>15.67</td>\n",
              "      <td>14.36</td>\n",
              "      <td>14.12</td>\n",
              "      <td>13.95</td>\n",
              "      <td>13.89</td>\n",
              "    </tr>\n",
              "    <tr>\n",
              "      <th>25%</th>\n",
              "      <td>18.50</td>\n",
              "      <td>17.29</td>\n",
              "      <td>16.74</td>\n",
              "      <td>16.54</td>\n",
              "      <td>16.45</td>\n",
              "    </tr>\n",
              "    <tr>\n",
              "      <th>50%</th>\n",
              "      <td>19.33</td>\n",
              "      <td>18.33</td>\n",
              "      <td>17.88</td>\n",
              "      <td>17.69</td>\n",
              "      <td>17.62</td>\n",
              "    </tr>\n",
              "    <tr>\n",
              "      <th>75%</th>\n",
              "      <td>20.02</td>\n",
              "      <td>19.09</td>\n",
              "      <td>18.76</td>\n",
              "      <td>18.61</td>\n",
              "      <td>18.52</td>\n",
              "    </tr>\n",
              "    <tr>\n",
              "      <th>max</th>\n",
              "      <td>26.43</td>\n",
              "      <td>25.17</td>\n",
              "      <td>21.14</td>\n",
              "      <td>20.72</td>\n",
              "      <td>20.91</td>\n",
              "    </tr>\n",
              "  </tbody>\n",
              "</table>\n",
              "</div>\n",
              "      <button class=\"colab-df-convert\" onclick=\"convertToInteractive('df-d90cc753-2616-487b-a006-96898a978721')\"\n",
              "              title=\"Convert this dataframe to an interactive table.\"\n",
              "              style=\"display:none;\">\n",
              "        \n",
              "  <svg xmlns=\"http://www.w3.org/2000/svg\" height=\"24px\"viewBox=\"0 0 24 24\"\n",
              "       width=\"24px\">\n",
              "    <path d=\"M0 0h24v24H0V0z\" fill=\"none\"/>\n",
              "    <path d=\"M18.56 5.44l.94 2.06.94-2.06 2.06-.94-2.06-.94-.94-2.06-.94 2.06-2.06.94zm-11 1L8.5 8.5l.94-2.06 2.06-.94-2.06-.94L8.5 2.5l-.94 2.06-2.06.94zm10 10l.94 2.06.94-2.06 2.06-.94-2.06-.94-.94-2.06-.94 2.06-2.06.94z\"/><path d=\"M17.41 7.96l-1.37-1.37c-.4-.4-.92-.59-1.43-.59-.52 0-1.04.2-1.43.59L10.3 9.45l-7.72 7.72c-.78.78-.78 2.05 0 2.83L4 21.41c.39.39.9.59 1.41.59.51 0 1.02-.2 1.41-.59l7.78-7.78 2.81-2.81c.8-.78.8-2.07 0-2.86zM5.41 20L4 18.59l7.72-7.72 1.47 1.35L5.41 20z\"/>\n",
              "  </svg>\n",
              "      </button>\n",
              "      \n",
              "  <style>\n",
              "    .colab-df-container {\n",
              "      display:flex;\n",
              "      flex-wrap:wrap;\n",
              "      gap: 12px;\n",
              "    }\n",
              "\n",
              "    .colab-df-convert {\n",
              "      background-color: #E8F0FE;\n",
              "      border: none;\n",
              "      border-radius: 50%;\n",
              "      cursor: pointer;\n",
              "      display: none;\n",
              "      fill: #1967D2;\n",
              "      height: 32px;\n",
              "      padding: 0 0 0 0;\n",
              "      width: 32px;\n",
              "    }\n",
              "\n",
              "    .colab-df-convert:hover {\n",
              "      background-color: #E2EBFA;\n",
              "      box-shadow: 0px 1px 2px rgba(60, 64, 67, 0.3), 0px 1px 3px 1px rgba(60, 64, 67, 0.15);\n",
              "      fill: #174EA6;\n",
              "    }\n",
              "\n",
              "    [theme=dark] .colab-df-convert {\n",
              "      background-color: #3B4455;\n",
              "      fill: #D2E3FC;\n",
              "    }\n",
              "\n",
              "    [theme=dark] .colab-df-convert:hover {\n",
              "      background-color: #434B5C;\n",
              "      box-shadow: 0px 1px 3px 1px rgba(0, 0, 0, 0.15);\n",
              "      filter: drop-shadow(0px 1px 2px rgba(0, 0, 0, 0.3));\n",
              "      fill: #FFFFFF;\n",
              "    }\n",
              "  </style>\n",
              "\n",
              "      <script>\n",
              "        const buttonEl =\n",
              "          document.querySelector('#df-d90cc753-2616-487b-a006-96898a978721 button.colab-df-convert');\n",
              "        buttonEl.style.display =\n",
              "          google.colab.kernel.accessAllowed ? 'block' : 'none';\n",
              "\n",
              "        async function convertToInteractive(key) {\n",
              "          const element = document.querySelector('#df-d90cc753-2616-487b-a006-96898a978721');\n",
              "          const dataTable =\n",
              "            await google.colab.kernel.invokeFunction('convertToInteractive',\n",
              "                                                     [key], {});\n",
              "          if (!dataTable) return;\n",
              "\n",
              "          const docLinkHtml = 'Like what you see? Visit the ' +\n",
              "            '<a target=\"_blank\" href=https://colab.research.google.com/notebooks/data_table.ipynb>data table notebook</a>'\n",
              "            + ' to learn more about interactive tables.';\n",
              "          element.innerHTML = '';\n",
              "          dataTable['output_type'] = 'display_data';\n",
              "          await google.colab.output.renderOutput(dataTable, element);\n",
              "          const docLink = document.createElement('div');\n",
              "          docLink.innerHTML = docLinkHtml;\n",
              "          element.appendChild(docLink);\n",
              "        }\n",
              "      </script>\n",
              "    </div>\n",
              "  </div>\n",
              "  "
            ]
          },
          "metadata": {},
          "execution_count": 5
        }
      ]
    },
    {
      "cell_type": "code",
      "metadata": {
        "id": "ZVLpF-z3hmxk",
        "colab": {
          "base_uri": "https://localhost:8080/"
        },
        "outputId": "2754d569-db20-4240-b170-6f4deee60764"
      },
      "source": [
        "sum(data.target== \"star\"), sum(data.target == \"QSO\")"
      ],
      "execution_count": 6,
      "outputs": [
        {
          "output_type": "execute_result",
          "data": {
            "text/plain": [
              "(655, 212)"
            ]
          },
          "metadata": {},
          "execution_count": 6
        }
      ]
    },
    {
      "cell_type": "markdown",
      "source": [
        "<img src=\"https://drive.google.com/uc?id=1gFQWdyFW_TRVtlR4PZLAShDvdF9HGgpp\" width=\"850px\" align=\"left\">"
      ],
      "metadata": {
        "id": "A-YaeLoEQAfP"
      }
    },
    {
      "cell_type": "markdown",
      "metadata": {
        "id": "6iO4-7kC79Kz"
      },
      "source": [
        "### task 1: **create `X` and `y`**\n",
        "\n",
        "```python\n",
        "data[[\"u\",\"g\",\"r\",\"i\",\"z\"]] -> X\n",
        "data[\"target\"] -> y\n",
        "\"QSO\" -> 0\n",
        "\"star\" -> 1\n",
        "```\n",
        "\n",
        "hint: you can use [LabelEncoder()](https://scikit-learn.org/stable/modules/generated/sklearn.preprocessing.LabelEncoder.html)\n"
      ]
    },
    {
      "cell_type": "code",
      "source": [
        "from sklearn.preprocessing import LabelEncoder"
      ],
      "metadata": {
        "id": "k-2znzpEurJs"
      },
      "execution_count": 7,
      "outputs": []
    },
    {
      "cell_type": "code",
      "metadata": {
        "id": "mTSxvZPF77kZ"
      },
      "source": [],
      "execution_count": 92,
      "outputs": []
    },
    {
      "cell_type": "code",
      "metadata": {
        "id": "wdjrBi_U8ilA"
      },
      "source": [],
      "execution_count": 92,
      "outputs": []
    },
    {
      "cell_type": "code",
      "metadata": {
        "id": "3shTgaecWYO5"
      },
      "source": [],
      "execution_count": 92,
      "outputs": []
    },
    {
      "cell_type": "code",
      "source": [],
      "metadata": {
        "id": "-HZSY2BqRFLI"
      },
      "execution_count": 92,
      "outputs": []
    },
    {
      "cell_type": "markdown",
      "metadata": {
        "id": "seZZJbZ0A7dk"
      },
      "source": [
        "### task 2: **split the data (9:1), train a linear [Support Vector Classifier (SVC)](https://scikit-learn.org/stable/modules/generated/sklearn.svm.SVC.html) & test its accuracy**\n",
        "\n",
        "![](https://scikit-learn.org/stable/_images/sphx_glr_plot_svm_margin_002.png)"
      ]
    },
    {
      "cell_type": "code",
      "metadata": {
        "id": "1TLjQ7rHWeRM"
      },
      "source": [
        "from sklearn.svm import SVC\n",
        "from sklearn.model_selection import train_test_split\n",
        "\n",
        "model = SVC(kernel=\"linear\")"
      ],
      "execution_count": 12,
      "outputs": []
    },
    {
      "cell_type": "code",
      "metadata": {
        "id": "3R9OArBLAefy"
      },
      "source": [],
      "execution_count": 92,
      "outputs": []
    },
    {
      "cell_type": "code",
      "metadata": {
        "id": "-6b4RklvAsmm"
      },
      "source": [],
      "execution_count": 92,
      "outputs": []
    },
    {
      "cell_type": "code",
      "metadata": {
        "id": "RLPt5jOwB2eQ"
      },
      "source": [],
      "execution_count": 92,
      "outputs": []
    },
    {
      "cell_type": "code",
      "metadata": {
        "id": "nfBlkYhcBKAK"
      },
      "source": [],
      "execution_count": 92,
      "outputs": []
    },
    {
      "cell_type": "markdown",
      "metadata": {
        "id": "l3wPRpSa-0S0"
      },
      "source": [
        "### task 3: **rescale the data -> `X_scaled` & test score**\n",
        "\n",
        "note: the data were already transformed from fluxes to magnitudes `m = -2.5 * log10(F/F0)`\n",
        "\n",
        "```python\n",
        "X_scaled = (X - μ) / σ\n",
        "```\n",
        "\n",
        "hint: you can use [`StandardScaler()`](https://scikit-learn.org/stable/modules/generated/sklearn.preprocessing.StandardScaler.html)"
      ]
    },
    {
      "cell_type": "code",
      "source": [
        "from sklearn.preprocessing import StandardScaler"
      ],
      "metadata": {
        "id": "ruGTy4vh_0IH"
      },
      "execution_count": 17,
      "outputs": []
    },
    {
      "cell_type": "code",
      "metadata": {
        "id": "CWBDavYmVNdp"
      },
      "source": [],
      "execution_count": 92,
      "outputs": []
    },
    {
      "cell_type": "code",
      "source": [],
      "metadata": {
        "id": "qI3Pj4uXhQlY"
      },
      "execution_count": 92,
      "outputs": []
    },
    {
      "cell_type": "code",
      "source": [],
      "metadata": {
        "id": "wj0TDjj21qqA"
      },
      "execution_count": 92,
      "outputs": []
    },
    {
      "cell_type": "markdown",
      "source": [
        "### **Create a pipeline**"
      ],
      "metadata": {
        "id": "d0Uj8Q-o_oxS"
      }
    },
    {
      "cell_type": "code",
      "metadata": {
        "colab": {
          "base_uri": "https://localhost:8080/"
        },
        "id": "sR86rx_BVNgT",
        "outputId": "9c427220-7ca0-48eb-970a-bc63ac11f7d4"
      },
      "source": [
        "from sklearn.pipeline import make_pipeline\n",
        "\n",
        "X_train, X_test, y_train, y_test = train_test_split(X, y, test_size=0.1, stratify=y, random_state=420)\n",
        "\n",
        "model = make_pipeline(StandardScaler(),\n",
        "                      SVC(kernel=\"linear\"))\n",
        "\n",
        "model.fit(X_train, y_train)\n",
        "\n",
        "model.score(X_test, y_test)"
      ],
      "execution_count": 21,
      "outputs": [
        {
          "output_type": "execute_result",
          "data": {
            "text/plain": [
              "0.9310344827586207"
            ]
          },
          "metadata": {},
          "execution_count": 21
        }
      ]
    },
    {
      "cell_type": "markdown",
      "metadata": {
        "id": "4uNyaEwaTLas"
      },
      "source": [
        "## **Feature selection & dimensionality reduction**"
      ]
    },
    {
      "cell_type": "code",
      "metadata": {
        "id": "r5MWCPJSq0vE"
      },
      "source": [
        "from sklearn.ensemble import ExtraTreesClassifier"
      ],
      "execution_count": 22,
      "outputs": []
    },
    {
      "cell_type": "code",
      "metadata": {
        "colab": {
          "base_uri": "https://localhost:8080/"
        },
        "id": "o3r_-qzCq03O",
        "outputId": "c5d6da7c-f853-4d85-b1e4-b46bf8e1dbf8"
      },
      "source": [
        "etc = ExtraTreesClassifier(random_state=42).fit(X,y)\n",
        "etc.feature_importances_"
      ],
      "execution_count": 23,
      "outputs": [
        {
          "output_type": "execute_result",
          "data": {
            "text/plain": [
              "array([0.29715325, 0.11687197, 0.21442021, 0.19203806, 0.17951651])"
            ]
          },
          "metadata": {},
          "execution_count": 23
        }
      ]
    },
    {
      "cell_type": "code",
      "metadata": {
        "id": "SLpvL6JS43Ls",
        "colab": {
          "base_uri": "https://localhost:8080/",
          "height": 265
        },
        "outputId": "0587134e-5128-4a3f-a997-02bba244747d"
      },
      "source": [
        "plt.bar(np.arange(5), etc.feature_importances_, 0.5)\n",
        "plt.xticks(np.arange(5), X.columns);"
      ],
      "execution_count": 24,
      "outputs": [
        {
          "output_type": "display_data",
          "data": {
            "text/plain": [
              "<Figure size 432x288 with 1 Axes>"
            ],
            "image/png": "[encoded data removed]"
          },
          "metadata": {
            "needs_background": "light"
          }
        }
      ]
    },
    {
      "cell_type": "markdown",
      "metadata": {
        "id": "9E7QvHcTbYcm"
      },
      "source": [
        "#### task 4: **calculate spectral indices & test importance**\n",
        "\n",
        "hint:\n",
        "`X_new = X.copy()`\n",
        "\n"
      ]
    },
    {
      "cell_type": "code",
      "metadata": {
        "id": "MZfoAJA1rmRz"
      },
      "source": [],
      "execution_count": 92,
      "outputs": []
    },
    {
      "cell_type": "code",
      "metadata": {
        "id": "Nj0_n3aJrmUs"
      },
      "source": [],
      "execution_count": 92,
      "outputs": []
    },
    {
      "cell_type": "markdown",
      "metadata": {
        "id": "7Vsu9gRdl8ba"
      },
      "source": [
        "#### task 5: **test score if only *u-g* or *i-z* spectral indices are used**\n",
        "\n",
        "hint: for single columns use `X_new[[\"u-g\"]]`"
      ]
    },
    {
      "cell_type": "code",
      "metadata": {
        "id": "-Z3PTCanGYKf"
      },
      "source": [],
      "execution_count": 92,
      "outputs": []
    },
    {
      "cell_type": "code",
      "source": [],
      "metadata": {
        "id": "DZN5ZHDB2lda"
      },
      "execution_count": 92,
      "outputs": []
    },
    {
      "cell_type": "code",
      "source": [],
      "metadata": {
        "id": "Uar9JVzhAVlZ"
      },
      "execution_count": 92,
      "outputs": []
    },
    {
      "cell_type": "markdown",
      "metadata": {
        "id": "1ud7hKL_GYKe"
      },
      "source": [
        "#### task 6: **create dummy column & test importance**\n",
        "\n",
        "hint:\n",
        "```\n",
        "X_new2 = X.copy()\n",
        "X_new2[\"dummy\"] = np.random.randint(10, size=X.r.size)\n",
        "```"
      ]
    },
    {
      "cell_type": "code",
      "metadata": {
        "id": "yjkNN6d4SuYn"
      },
      "source": [],
      "execution_count": 92,
      "outputs": []
    },
    {
      "cell_type": "code",
      "metadata": {
        "id": "zXukq-8HGYKe"
      },
      "source": [],
      "execution_count": 92,
      "outputs": []
    },
    {
      "cell_type": "code",
      "metadata": {
        "id": "twqvduOy1E63"
      },
      "source": [],
      "execution_count": 92,
      "outputs": []
    },
    {
      "cell_type": "markdown",
      "metadata": {
        "id": "kNQwj_5FmPYF"
      },
      "source": [
        "### [**Principal component analysis**](https://scikit-learn.org/stable/modules/generated/sklearn.decomposition.PCA.html)\n",
        "\n",
        "<img src=\"https://programmathically.com/wp-content/uploads/2021/08/pca-2-dimensions-1024x644.png\" width=600pt></img>"
      ]
    },
    {
      "cell_type": "code",
      "source": [
        "from IPython.display import Image\n",
        "Image(url='https://upload.wikimedia.org/wikipedia/commons/9/9c/PCA_Projection_Illustration.gif')"
      ],
      "metadata": {
        "colab": {
          "base_uri": "https://localhost:8080/",
          "height": 501
        },
        "id": "U6FJRlzviCsd",
        "outputId": "fc30b338-dce6-4b6b-e851-0d6dfadc2e42"
      },
      "execution_count": 33,
      "outputs": [
        {
          "output_type": "execute_result",
          "data": {
            "text/html": [
              "<img src=\"https://upload.wikimedia.org/wikipedia/commons/9/9c/PCA_Projection_Illustration.gif\"/>"
            ],
            "text/plain": [
              "<IPython.core.display.Image object>"
            ]
          },
          "metadata": {},
          "execution_count": 33
        }
      ]
    },
    {
      "cell_type": "code",
      "metadata": {
        "id": "InxyTPHuGYKa"
      },
      "source": [
        "from sklearn.decomposition import PCA\n",
        "\n",
        "pca = PCA(n_components=2)\n",
        "X_PCA = pca.fit_transform(X)\n",
        "X_PCA"
      ],
      "execution_count": null,
      "outputs": []
    },
    {
      "cell_type": "code",
      "metadata": {
        "id": "dFrr051pGYKb"
      },
      "source": [
        "plt.scatter(X_PCA[:,0], X_PCA[:,1], c=y);"
      ],
      "execution_count": null,
      "outputs": []
    },
    {
      "cell_type": "code",
      "source": [
        "plt.scatter(X.g, X.u-X.g, c=y);"
      ],
      "metadata": {
        "id": "-xBWlyBZ7iUX"
      },
      "execution_count": null,
      "outputs": []
    },
    {
      "cell_type": "code",
      "metadata": {
        "id": "BuDSwwTDmTSC",
        "colab": {
          "base_uri": "https://localhost:8080/"
        },
        "outputId": "7090d1ab-d2df-4dc9-cebc-b5b511154fe2"
      },
      "source": [
        "X_train, X_test, y_train, y_test = train_test_split(X_PCA, y, test_size=0.1, stratify=y, random_state=42)\n",
        "\n",
        "model.fit(X_train, y_train)\n",
        "\n",
        "model.score(X_test, y_test)"
      ],
      "execution_count": 37,
      "outputs": [
        {
          "output_type": "execute_result",
          "data": {
            "text/plain": [
              "0.9195402298850575"
            ]
          },
          "metadata": {},
          "execution_count": 37
        }
      ]
    },
    {
      "cell_type": "markdown",
      "source": [
        "### task 7: **integrate `PCA()` into our pipeline**"
      ],
      "metadata": {
        "id": "nt4XlOsZ924l"
      }
    },
    {
      "cell_type": "code",
      "source": [],
      "metadata": {
        "id": "IAyivdwI-FJt"
      },
      "execution_count": 92,
      "outputs": []
    },
    {
      "cell_type": "markdown",
      "metadata": {
        "id": "teq3fSl7GYKk"
      },
      "source": [
        "## [**Cross-validation**](https://scikit-learn.org/stable/modules/cross_validation.html)\n",
        "\n",
        "<img src=\"https://miro.medium.com/max/1400/1*AAwIlHM8TpAVe4l2FihNUQ.png\" width=800pt></img>"
      ]
    },
    {
      "cell_type": "code",
      "source": [
        "X_train, X_test, y_train, y_test = train_test_split(X, y, test_size=0.1, stratify=y, random_state=420)\n",
        "\n",
        "model = make_pipeline(PCA(n_components=3),\n",
        "                      StandardScaler(),\n",
        "                      SVC(kernel=\"linear\"))\n",
        "\n",
        "model.fit(X_train, y_train)\n",
        "\n",
        "model.score(X_test, y_test)"
      ],
      "metadata": {
        "colab": {
          "base_uri": "https://localhost:8080/"
        },
        "id": "jJHUCVn78tC5",
        "outputId": "b4b14390-2893-42f7-ccd3-8289975c39e4"
      },
      "execution_count": 39,
      "outputs": [
        {
          "output_type": "execute_result",
          "data": {
            "text/plain": [
              "0.9540229885057471"
            ]
          },
          "metadata": {},
          "execution_count": 39
        }
      ]
    },
    {
      "cell_type": "markdown",
      "source": [
        "### task 8: **use several different random states when splitting data & get average score**"
      ],
      "metadata": {
        "id": "7v74ZKEd_iC5"
      }
    },
    {
      "cell_type": "code",
      "source": [],
      "metadata": {
        "id": "Ue01LJEAASTt"
      },
      "execution_count": 92,
      "outputs": []
    },
    {
      "cell_type": "code",
      "source": [],
      "metadata": {
        "id": "FibejIjIAdEO"
      },
      "execution_count": 92,
      "outputs": []
    },
    {
      "cell_type": "markdown",
      "source": [
        "### task 9: **use [`cross_validate`](https://scikit-learn.org/stable/modules/generated/sklearn.model_selection.cross_validate.html)**"
      ],
      "metadata": {
        "id": "ymsY_Fd1oLWF"
      }
    },
    {
      "cell_type": "code",
      "source": [
        "from sklearn.model_selection import cross_validate"
      ],
      "metadata": {
        "id": "brpWmP54oUxo"
      },
      "execution_count": 42,
      "outputs": []
    },
    {
      "cell_type": "code",
      "metadata": {
        "id": "J5dKswVZGYKl"
      },
      "source": [],
      "execution_count": 92,
      "outputs": []
    },
    {
      "cell_type": "code",
      "source": [],
      "metadata": {
        "id": "WdHg0z9o-d-S"
      },
      "execution_count": 92,
      "outputs": []
    },
    {
      "cell_type": "markdown",
      "metadata": {
        "id": "hfzrKed1GYKf"
      },
      "source": [
        "## **Tuning hyperparameters**"
      ]
    },
    {
      "cell_type": "code",
      "metadata": {
        "scrolled": true,
        "id": "y8XOCnR-GYKg"
      },
      "source": [
        "SVC?"
      ],
      "execution_count": 45,
      "outputs": []
    },
    {
      "cell_type": "code",
      "source": [
        "def decision_surface(X, y, classifier):\n",
        "    size = 100\n",
        "\n",
        "    X_n = PCA(n_components=2).fit_transform(X)\n",
        "    X_n = StandardScaler().fit_transform(X_n)\n",
        "\n",
        "    range_U = np.linspace(min(X_n[:,0]), max(X_n[:,0]), size)\n",
        "    range_G = np.linspace(min(X_n[:,1]), max(X_n[:,1]), size)\n",
        "    U, G = np.meshgrid(range_U, range_G)\n",
        "\n",
        "    grid = np.vstack((U.flatten(), G.flatten())).T\n",
        "\n",
        "    classifier.fit(X_n, y)\n",
        "\n",
        "    predicted = classifier.predict_proba(grid)[:,0]\n",
        "\n",
        "    predicted = predicted.reshape(size,size)\n",
        "\n",
        "    plt.contourf(U, G, predicted, cmap=\"coolwarm\", alpha=0.5)\n",
        "\n",
        "    plt.plot(X_n[:,0][data.target == \"star\"], X_n[:,1][data.target == \"star\"], \"o\")\n",
        "    plt.plot(X_n[:,0][data.target == \"QSO\"], X_n[:,1][data.target == \"QSO\"], \"o\");\n",
        "\n",
        "    plt.xlabel(\"U [mag]\")\n",
        "    plt.ylabel(\"G [mag]\");\n",
        "\n",
        "def classify(X, y, classifier):\n",
        "    model = make_pipeline(PCA(n_components=3),\n",
        "                          StandardScaler(),\n",
        "                          classifier)\n",
        "\n",
        "    res = cross_validate(model, X, y, cv=10)\n",
        "    print(np.mean(res[\"test_score\"]))"
      ],
      "metadata": {
        "id": "AdLKvspW7-IO"
      },
      "execution_count": 46,
      "outputs": []
    },
    {
      "cell_type": "code",
      "source": [
        "decision_surface(X, y, SVC(kernel=\"linear\", probability=True))"
      ],
      "metadata": {
        "id": "jDSuCKR1TO3f"
      },
      "execution_count": null,
      "outputs": []
    },
    {
      "cell_type": "code",
      "source": [
        "decision_surface(X, y, SVC(kernel=\"poly\", probability=True))"
      ],
      "metadata": {
        "id": "5rX27SR95GZy"
      },
      "execution_count": null,
      "outputs": []
    },
    {
      "cell_type": "code",
      "source": [
        "decision_surface(X, y, SVC(kernel=\"rbf\", C=1, probability=True))"
      ],
      "metadata": {
        "id": "2Wb-mru1TSA6"
      },
      "execution_count": null,
      "outputs": []
    },
    {
      "cell_type": "code",
      "source": [
        "decision_surface(X, y, SVC(kernel=\"rbf\", C=1000, probability=True))"
      ],
      "metadata": {
        "id": "6lj-OinJU8NU"
      },
      "execution_count": null,
      "outputs": []
    },
    {
      "cell_type": "markdown",
      "metadata": {
        "id": "0PYW9nkuGYKh"
      },
      "source": [
        "#### task 10: **find SVC hyperparameters with best test score**"
      ]
    },
    {
      "cell_type": "code",
      "metadata": {
        "id": "F-6ACW9fGYKi",
        "colab": {
          "base_uri": "https://localhost:8080/"
        },
        "outputId": "c60b11db-c479-481a-8eab-74a73383de80"
      },
      "source": [
        "classify(X, y, SVC(kernel=\"linear\"))"
      ],
      "execution_count": 51,
      "outputs": [
        {
          "output_type": "stream",
          "name": "stdout",
          "text": [
            "0.9527265437048917\n"
          ]
        }
      ]
    },
    {
      "cell_type": "code",
      "metadata": {
        "id": "GfPZIkZYGYKi"
      },
      "source": [],
      "execution_count": 92,
      "outputs": []
    },
    {
      "cell_type": "code",
      "metadata": {
        "id": "gG1kpotXGYKj"
      },
      "source": [],
      "execution_count": 92,
      "outputs": []
    },
    {
      "cell_type": "code",
      "source": [],
      "metadata": {
        "id": "rzIooBzk4cPc"
      },
      "execution_count": 92,
      "outputs": []
    },
    {
      "cell_type": "code",
      "metadata": {
        "id": "lLb81etQGYKj"
      },
      "source": [],
      "execution_count": 92,
      "outputs": []
    },
    {
      "cell_type": "code",
      "metadata": {
        "id": "-5WE1CLyGYKj"
      },
      "source": [],
      "execution_count": 92,
      "outputs": []
    },
    {
      "cell_type": "markdown",
      "metadata": {
        "id": "a5rX00qbGYKl"
      },
      "source": [
        "### **Grid-search + crossvalidation**"
      ]
    },
    {
      "cell_type": "code",
      "metadata": {
        "id": "xKRbmlGLGYKl"
      },
      "source": [
        "from sklearn.model_selection import GridSearchCV"
      ],
      "execution_count": 57,
      "outputs": []
    },
    {
      "cell_type": "code",
      "metadata": {
        "id": "jyeQmN-9GYKl",
        "colab": {
          "base_uri": "https://localhost:8080/"
        },
        "outputId": "21c313c3-1083-48e8-b7ae-a81e9999863e"
      },
      "source": [
        "C = [0.01, 0.1, 1, 10, 100]\n",
        "gamma = [0.1, 1, 10, 100]\n",
        "\n",
        "params = {\"C\" : C,\n",
        "          \"gamma\" : gamma}\n",
        "\n",
        "model = GridSearchCV(SVC(kernel=\"rbf\"), params, cv=10, n_jobs=4)\n",
        "model.fit(X, y)"
      ],
      "execution_count": 58,
      "outputs": [
        {
          "output_type": "execute_result",
          "data": {
            "text/plain": [
              "GridSearchCV(cv=10, estimator=SVC(), n_jobs=4,\n",
              "             param_grid={'C': [0.01, 0.1, 1, 10, 100],\n",
              "                         'gamma': [0.1, 1, 10, 100]})"
            ]
          },
          "metadata": {},
          "execution_count": 58
        }
      ]
    },
    {
      "cell_type": "code",
      "source": [
        "model.cv_results_"
      ],
      "metadata": {
        "id": "dPJjayx2Dm2p"
      },
      "execution_count": null,
      "outputs": []
    },
    {
      "cell_type": "code",
      "metadata": {
        "id": "xFNq5dL4GYKm"
      },
      "source": [
        "pars, score = model.cv_results_[\"params\"], model.cv_results_[\"mean_test_score\"]\n",
        "\n",
        "indices = np.argsort(score)\n",
        "\n",
        "for i in indices:\n",
        "    print(pars[i], score[i].round(3))"
      ],
      "execution_count": null,
      "outputs": []
    },
    {
      "cell_type": "code",
      "source": [
        "res = model.cv_results_\n",
        "\n",
        "plt.figure(figsize=(len(C)*1.5,len(gamma)*1.5))\n",
        "plt.imshow(res[\"mean_test_score\"].reshape(len(C), len(gamma)), origin=\"lower\")\n",
        "n = 0\n",
        "for i in range(len(C)):\n",
        "    for j in range(len(gamma)):\n",
        "        plt.text(j,i,\"{0:.3f}\".format(res[\"mean_test_score\"][n]), ha=\"center\")\n",
        "        n += 1\n",
        "\n",
        "plt.ylabel(\"C\")\n",
        "plt.xlabel(\"gamma\")\n",
        "plt.yticks(np.arange(len(params[\"C\"])), params[\"C\"]);\n",
        "plt.xticks(np.arange(len(params[\"gamma\"])), params[\"gamma\"]);"
      ],
      "metadata": {
        "id": "N1oAaCZrqCR4"
      },
      "execution_count": null,
      "outputs": []
    },
    {
      "cell_type": "code",
      "metadata": {
        "id": "VvcN0sn0GYKm",
        "colab": {
          "base_uri": "https://localhost:8080/"
        },
        "outputId": "422ca042-ab18-4816-b01e-c959515c0d31"
      },
      "source": [
        "model.best_estimator_, model.best_score_"
      ],
      "execution_count": 62,
      "outputs": [
        {
          "output_type": "execute_result",
          "data": {
            "text/plain": [
              "(SVC(C=10, gamma=1), 0.9826784282277468)"
            ]
          },
          "metadata": {},
          "execution_count": 62
        }
      ]
    },
    {
      "cell_type": "code",
      "source": [
        "decision_surface(X, y, SVC(kernel=\"rbf\", C=10, gamma=1, probability=True))"
      ],
      "metadata": {
        "id": "jOIRblw16VDI"
      },
      "execution_count": null,
      "outputs": []
    },
    {
      "cell_type": "markdown",
      "metadata": {
        "id": "jMH5qPGMAeB4"
      },
      "source": [
        "## **Classifier comparison**"
      ]
    },
    {
      "cell_type": "code",
      "metadata": {
        "id": "93lNl7rt3ftZ"
      },
      "source": [
        "from sklearn.neural_network import MLPClassifier # multi-layer perceptron classifier\n",
        "from sklearn.naive_bayes import GaussianNB\n",
        "from sklearn.tree import DecisionTreeClassifier\n",
        "from sklearn.neighbors import KNeighborsClassifier"
      ],
      "execution_count": 64,
      "outputs": []
    },
    {
      "cell_type": "code",
      "metadata": {
        "id": "jRSP0nxqGYKn"
      },
      "source": [
        "classifiers = [SVC(kernel=\"rbf\", C=10, gamma=1),\n",
        "               DecisionTreeClassifier(),\n",
        "               MLPClassifier(max_iter=1000),\n",
        "               GaussianNB(),\n",
        "               KNeighborsClassifier()]\n",
        "\n",
        "for classifier in classifiers:\n",
        "    print(classifier)\n",
        "    classify(X, y, classifier)\n",
        "    print()"
      ],
      "execution_count": null,
      "outputs": []
    },
    {
      "cell_type": "markdown",
      "metadata": {
        "id": "D_pSaCWM3gec"
      },
      "source": [
        "## **Ensemble methods**"
      ]
    },
    {
      "cell_type": "markdown",
      "source": [
        "### **Various hyper-parameters**"
      ],
      "metadata": {
        "id": "r8g4xFXRGFne"
      }
    },
    {
      "cell_type": "code",
      "metadata": {
        "id": "9Uvk2gjj3f1n"
      },
      "source": [
        "from sklearn.ensemble import StackingClassifier"
      ],
      "execution_count": 70,
      "outputs": []
    },
    {
      "cell_type": "code",
      "source": [
        "classifiers = [(\"Linear\", SVC(kernel=\"linear\")),\n",
        "               (\"Quadratic\", SVC(kernel=\"poly\", degree=2))]\n",
        "\n",
        "model = make_pipeline(PCA(n_components=3),\n",
        "                      StandardScaler(),\n",
        "                      StackingClassifier(classifiers))\n",
        "\n",
        "res = cross_validate(model, X, y, cv=10)\n",
        "np.mean(res[\"test_score\"]), np.std(res[\"test_score\"])"
      ],
      "metadata": {
        "colab": {
          "base_uri": "https://localhost:8080/"
        },
        "id": "eTQkxAZCFjw4",
        "outputId": "b17bd3cd-ca56-49f3-c44d-7cf70d5805cc"
      },
      "execution_count": 71,
      "outputs": [
        {
          "output_type": "execute_result",
          "data": {
            "text/plain": [
              "(0.9653702218658115, 0.015581850256831519)"
            ]
          },
          "metadata": {},
          "execution_count": 71
        }
      ]
    },
    {
      "cell_type": "code",
      "source": [
        "decision_surface(X, y, StackingClassifier(classifiers))"
      ],
      "metadata": {
        "id": "v48Iqa1NF0iI"
      },
      "execution_count": null,
      "outputs": []
    },
    {
      "cell_type": "markdown",
      "source": [
        "### **Random forest**"
      ],
      "metadata": {
        "id": "j4VUjY3TGP3w"
      }
    },
    {
      "cell_type": "code",
      "source": [
        "classifiers = [(\"One\", DecisionTreeClassifier(random_state=1)),\n",
        "               (\"Two\", DecisionTreeClassifier(random_state=2)),\n",
        "               (\"Three\", DecisionTreeClassifier(random_state=3)),\n",
        "               (\"Four\", DecisionTreeClassifier(random_state=4))]\n",
        "\n",
        "model = make_pipeline(PCA(n_components=3),\n",
        "                      StandardScaler(),\n",
        "                      StackingClassifier(classifiers))\n",
        "\n",
        "res = cross_validate(model, X, y, cv=10)\n",
        "np.mean(res[\"test_score\"]), np.std(res[\"test_score\"])"
      ],
      "metadata": {
        "colab": {
          "base_uri": "https://localhost:8080/"
        },
        "id": "5Hltix9NWsmo",
        "outputId": "7c2cf7e1-7a68-422a-c511-402f2eca44d8"
      },
      "execution_count": 73,
      "outputs": [
        {
          "output_type": "execute_result",
          "data": {
            "text/plain": [
              "(0.9618952151831062, 0.02008269760839265)"
            ]
          },
          "metadata": {},
          "execution_count": 73
        }
      ]
    },
    {
      "cell_type": "code",
      "metadata": {
        "id": "JMDa_nxxGYKr"
      },
      "source": [
        "from sklearn.ensemble import RandomForestClassifier"
      ],
      "execution_count": 74,
      "outputs": []
    },
    {
      "cell_type": "code",
      "metadata": {
        "id": "gdqWpK1iGYK0",
        "colab": {
          "base_uri": "https://localhost:8080/"
        },
        "outputId": "fc84c648-1090-4fd0-a1b6-633c041b1849"
      },
      "source": [
        "model = make_pipeline(PCA(n_components=3),\n",
        "                      StandardScaler(),\n",
        "                      RandomForestClassifier(n_estimators=100))\n",
        "\n",
        "res = cross_validate(model, X, y, cv=10)\n",
        "np.mean(res[\"test_score\"]), np.std(res[\"test_score\"])"
      ],
      "execution_count": 75,
      "outputs": [
        {
          "output_type": "execute_result",
          "data": {
            "text/plain": [
              "(0.9757818765036086, 0.01891295762572299)"
            ]
          },
          "metadata": {},
          "execution_count": 75
        }
      ]
    },
    {
      "cell_type": "code",
      "source": [
        "decision_surface(X, y, RandomForestClassifier(n_estimators=100))"
      ],
      "metadata": {
        "id": "7HTAt_pjD6_Q"
      },
      "execution_count": null,
      "outputs": []
    },
    {
      "cell_type": "markdown",
      "source": [
        "### **Stacking multiple methods**"
      ],
      "metadata": {
        "id": "h6a8h3qkFAkd"
      }
    },
    {
      "cell_type": "code",
      "metadata": {
        "id": "ccqwzF_tGYK1",
        "colab": {
          "base_uri": "https://localhost:8080/"
        },
        "outputId": "a909d71b-a3ea-4cfd-da17-3aa56adc4f99"
      },
      "source": [
        "classifiers = [(\"SVC\", SVC(kernel=\"rbf\", C=10, gamma=1)),\n",
        "               (\"RFC\", RandomForestClassifier()),\n",
        "               (\"MLP\", MLPClassifier(max_iter=1000)),\n",
        "               (\"Bayes\", GaussianNB()),\n",
        "               (\"KNN\", KNeighborsClassifier())]\n",
        "\n",
        "model = make_pipeline(PCA(n_components=3),\n",
        "                      StandardScaler(),\n",
        "                      StackingClassifier(classifiers))\n",
        "\n",
        "res = cross_validate(model, X, y, cv=10)\n",
        "np.mean(res[\"test_score\"]), np.std(res[\"test_score\"])"
      ],
      "execution_count": 77,
      "outputs": [
        {
          "output_type": "execute_result",
          "data": {
            "text/plain": [
              "(0.9896284415931568, 0.006195037090662189)"
            ]
          },
          "metadata": {},
          "execution_count": 77
        }
      ]
    },
    {
      "cell_type": "code",
      "source": [
        "decision_surface(X, y, StackingClassifier(classifiers))"
      ],
      "metadata": {
        "id": "Um00cOfpH2cn"
      },
      "execution_count": null,
      "outputs": []
    },
    {
      "cell_type": "markdown",
      "source": [
        "## **Performance evaluation**"
      ],
      "metadata": {
        "id": "bnIInEhCXdFP"
      }
    },
    {
      "cell_type": "markdown",
      "source": [
        "### **[`classification_report`](https://scikit-learn.org/stable/modules/generated/sklearn.metrics.classification_report.html) and [`ConfusionMatrixDisplay`](https://scikit-learn.org/stable/modules/generated/sklearn.metrics.ConfusionMatrixDisplay.html)**"
      ],
      "metadata": {
        "id": "OEuCneVx0Ep9"
      }
    },
    {
      "cell_type": "code",
      "source": [
        "from sklearn.metrics import classification_report, ConfusionMatrixDisplay"
      ],
      "metadata": {
        "id": "am_qy-DK0FLu"
      },
      "execution_count": 79,
      "outputs": []
    },
    {
      "cell_type": "code",
      "source": [
        "classifiers = [(\"SVC\", SVC(kernel=\"rbf\", C=10, gamma=1)),\n",
        "               (\"RFC\", RandomForestClassifier()),\n",
        "               (\"MLP\", MLPClassifier(max_iter=1000)),\n",
        "               (\"Bayes\", GaussianNB()),\n",
        "               (\"KNN\", KNeighborsClassifier())]\n",
        "\n",
        "model = make_pipeline(PCA(n_components=3),\n",
        "                      StandardScaler(),\n",
        "                      StackingClassifier(classifiers))\n",
        "\n",
        "model.fit(X_train, y_train)\n",
        "\n",
        "y_pred = model.predict(X_test)\n",
        "\n",
        "print(classification_report(y_test, y_pred, digits=3))"
      ],
      "metadata": {
        "id": "XIdS0Y3P0FOn"
      },
      "execution_count": null,
      "outputs": []
    },
    {
      "cell_type": "code",
      "source": [
        "ConfusionMatrixDisplay.from_estimator(model, X_test, y_test, display_labels=[\"QSO\", \"star\"]);"
      ],
      "metadata": {
        "id": "FoWrqWNF0FR5"
      },
      "execution_count": null,
      "outputs": []
    },
    {
      "cell_type": "markdown",
      "metadata": {
        "id": "mUhmTJO3GYK1"
      },
      "source": [
        "## **Conclusion**"
      ]
    },
    {
      "cell_type": "code",
      "metadata": {
        "id": "R3tjj2vcGYK1"
      },
      "source": [
        "# Data preparation\n",
        "X = data[[\"u\",\"g\",\"r\",\"i\",\"z\"]]\n",
        "le = LabelEncoder()\n",
        "y = le.fit_transform(data[\"target\"])\n",
        "\n",
        "# Train-test split\n",
        "X_train, X_test, y_train, y_test = train_test_split(X, y, test_size=0.1, stratify=y, random_state=420)\n",
        "\n",
        "# Stacking classifiers\n",
        "classifiers = [(\"SVC\", SVC(kernel=\"rbf\", C=10, gamma=1)),\n",
        "               (\"RFC\", RandomForestClassifier()),\n",
        "               (\"MLP\", MLPClassifier(max_iter=1000)),\n",
        "               (\"Bayes\", GaussianNB()),\n",
        "               (\"KNN\", KNeighborsClassifier())]\n",
        "\n",
        "# Making a pipeline\n",
        "model = make_pipeline(PCA(n_components=3),\n",
        "                      StandardScaler(),\n",
        "                      StackingClassifier(classifiers))\n",
        "\n",
        "# Fitting a model for train data\n",
        "model.fit(X_train, y_train)\n",
        "\n",
        "# Testing a model on test data\n",
        "score = model.score(X_test, y_test)\n",
        "ConfusionMatrixDisplay.from_estimator(model, X_test, y_test, display_labels=[\"QSO\", \"star\"]);\n",
        "\n",
        "# Cross-validation\n",
        "res = cross_validate(model, X, y, cv=10)\n",
        "print(np.mean(res[\"test_score\"]), np.std(res[\"test_score\"]))"
      ],
      "execution_count": null,
      "outputs": []
    },
    {
      "cell_type": "markdown",
      "source": [
        "## **Model inference**"
      ],
      "metadata": {
        "id": "piZXL3PN0Grh"
      }
    },
    {
      "cell_type": "code",
      "source": [
        "classifiers = [(\"SVC\", SVC(kernel=\"rbf\", C=10, gamma=1)),\n",
        "               (\"RFC\", RandomForestClassifier()),\n",
        "               (\"MLP\", MLPClassifier(max_iter=1000)),\n",
        "               (\"Bayes\", GaussianNB()),\n",
        "               (\"KNN\", KNeighborsClassifier())]\n",
        "\n",
        "model = make_pipeline(PCA(n_components=3),\n",
        "                      StandardScaler(),\n",
        "                      StackingClassifier(classifiers))\n",
        "\n",
        "model.fit(X, y)"
      ],
      "metadata": {
        "id": "ouEW5qescwo8"
      },
      "execution_count": null,
      "outputs": []
    },
    {
      "cell_type": "markdown",
      "source": [
        "### task 11: **pick an object from SDSS and classify it**\n",
        "\n",
        "http://skyserver.sdss.org/dr7/en/tools/search/radial.asp"
      ],
      "metadata": {
        "id": "ngmliPGF0KYg"
      }
    },
    {
      "cell_type": "code",
      "metadata": {
        "id": "f3SeWR9NNlmE"
      },
      "source": [],
      "execution_count": 92,
      "outputs": []
    },
    {
      "cell_type": "code",
      "metadata": {
        "id": "ZNg6aU3TE0Ba"
      },
      "source": [],
      "execution_count": 92,
      "outputs": []
    },
    {
      "cell_type": "code",
      "source": [],
      "metadata": {
        "id": "wGCeUSOY0gX2"
      },
      "execution_count": 92,
      "outputs": []
    },
    {
      "cell_type": "code",
      "source": [],
      "metadata": {
        "id": "ddBspnOkPVZ6"
      },
      "execution_count": null,
      "outputs": []
    }
  ]
}