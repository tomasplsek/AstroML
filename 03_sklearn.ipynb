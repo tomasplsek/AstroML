{
  "nbformat": 4,
  "nbformat_minor": 0,
  "metadata": {
    "colab": {
      "name": "Kopie sešitu 03_classification.ipynb",
      "provenance": [],
      "collapsed_sections": [],
      "toc_visible": true
    },
    "kernelspec": {
      "display_name": "Python 3",
      "language": "python",
      "name": "python3"
    },
    "language_info": {
      "codemirror_mode": {
        "name": "ipython",
        "version": 3
      },
      "file_extension": ".py",
      "mimetype": "text/x-python",
      "name": "python",
      "nbconvert_exporter": "python",
      "pygments_lexer": "ipython3",
      "version": "3.8.10"
    },
    "toc-autonumbering": false
  },
  "cells": [
    {
      "cell_type": "markdown",
      "metadata": {
        "id": "w5pcm7J6fqxK"
      },
      "source": [
        "# 3. hands-on session: **Classification problem: from *Data* to *Inference***"
      ]
    },
    {
      "cell_type": "markdown",
      "metadata": {
        "id": "qXE0gT_O3l-l"
      },
      "source": [
        "## **Contents**\n",
        "\n",
        "1. Preprocess the data\n",
        "1. Select features & reduce dimensions\n",
        "1. Find best hyperparameters\n",
        "1. Closs-validate\n",
        "1. Compare classifiers\n",
        "1. Combine classifiers\n",
        "1. Predict"
      ]
    },
    {
      "cell_type": "code",
      "metadata": {
        "id": "ZCF_HPrGAIMK"
      },
      "source": [
        "import numpy as np\n",
        "import pandas as pd\n",
        "import matplotlib.pyplot as plt"
      ],
      "execution_count": 17,
      "outputs": []
    },
    {
      "cell_type": "code",
      "metadata": {
        "colab": {
          "base_uri": "https://localhost:8080/"
        },
        "id": "FBEQmIMCTq06",
        "outputId": "55bfa628-83be-4246-b11d-d053bdae1cb4"
      },
      "source": [
        "!pip install corner\n",
        "import corner"
      ],
      "execution_count": 18,
      "outputs": [
        {
          "output_type": "stream",
          "name": "stdout",
          "text": [
            "Looking in indexes: https://pypi.org/simple, https://us-python.pkg.dev/colab-wheels/public/simple/\n",
            "Requirement already satisfied: corner in /usr/local/lib/python3.7/dist-packages (2.2.1)\n",
            "Requirement already satisfied: matplotlib>=2.1 in /usr/local/lib/python3.7/dist-packages (from corner) (3.2.2)\n",
            "Requirement already satisfied: kiwisolver>=1.0.1 in /usr/local/lib/python3.7/dist-packages (from matplotlib>=2.1->corner) (1.4.4)\n",
            "Requirement already satisfied: numpy>=1.11 in /usr/local/lib/python3.7/dist-packages (from matplotlib>=2.1->corner) (1.21.6)\n",
            "Requirement already satisfied: pyparsing!=2.0.4,!=2.1.2,!=2.1.6,>=2.0.1 in /usr/local/lib/python3.7/dist-packages (from matplotlib>=2.1->corner) (3.0.9)\n",
            "Requirement already satisfied: cycler>=0.10 in /usr/local/lib/python3.7/dist-packages (from matplotlib>=2.1->corner) (0.11.0)\n",
            "Requirement already satisfied: python-dateutil>=2.1 in /usr/local/lib/python3.7/dist-packages (from matplotlib>=2.1->corner) (2.8.2)\n",
            "Requirement already satisfied: typing-extensions in /usr/local/lib/python3.7/dist-packages (from kiwisolver>=1.0.1->matplotlib>=2.1->corner) (4.1.1)\n",
            "Requirement already satisfied: six>=1.5 in /usr/local/lib/python3.7/dist-packages (from python-dateutil>=2.1->matplotlib>=2.1->corner) (1.15.0)\n"
          ]
        }
      ]
    },
    {
      "cell_type": "markdown",
      "metadata": {
        "id": "nIMmT6-DCEYC"
      },
      "source": [
        "## **Our dataset**\n",
        "\n",
        "SDSS data of point sources: stars vs Quasi-stellar objects"
      ]
    },
    {
      "cell_type": "markdown",
      "metadata": {
        "id": "Hc23Ez28VGGe"
      },
      "source": [
        "<img src=\"https://cdn.mos.cms.futurecdn.net/HgaCHZDNppE6e52yeDACo6-970-80.jpg.webp\" height=200>\n",
        "\n",
        "<img src=\"https://earthsky.org/upl/2021/01/supermassive-black-hole-artist-e1610556964639.jpg\" height=200 align=right>\n",
        "\n"
      ]
    },
    {
      "cell_type": "code",
      "metadata": {
        "colab": {
          "base_uri": "https://localhost:8080/"
        },
        "id": "kjK_BVs1CDh9",
        "outputId": "5814fae9-40b7-40fd-c184-e05080220a5b"
      },
      "source": [
        "!wget -c \"https://drive.google.com/uc?id=1IoQfGFo13ZP2wTyp-xvzQvguPYhE8TWB\" -O \"sdss_photo.csv\""
      ],
      "execution_count": 19,
      "outputs": [
        {
          "output_type": "stream",
          "name": "stdout",
          "text": [
            "--2022-10-11 18:04:49--  https://drive.google.com/uc?id=1IoQfGFo13ZP2wTyp-xvzQvguPYhE8TWB\n",
            "Resolving drive.google.com (drive.google.com)... 173.194.218.102, 173.194.218.113, 173.194.218.139, ...\n",
            "Connecting to drive.google.com (drive.google.com)|173.194.218.102|:443... connected.\n",
            "HTTP request sent, awaiting response... 416 Requested range not satisfiable\n",
            "\n",
            "    The file is already fully retrieved; nothing to do.\n",
            "\n"
          ]
        }
      ]
    },
    {
      "cell_type": "code",
      "metadata": {
        "id": "Pqhbn1Ht58EC"
      },
      "source": [
        "data = pd.read_csv(\"sdss_photo.csv\")"
      ],
      "execution_count": 41,
      "outputs": []
    },
    {
      "cell_type": "markdown",
      "metadata": {
        "id": "jWeG6dFa0x77"
      },
      "source": [
        "## **Data preprocessing**"
      ]
    },
    {
      "cell_type": "code",
      "metadata": {
        "colab": {
          "base_uri": "https://localhost:8080/",
          "height": 424
        },
        "id": "DyEbvboDoe02",
        "outputId": "75c59d84-7128-4f84-d1d8-3b6bbea76d87"
      },
      "source": [
        "data"
      ],
      "execution_count": 42,
      "outputs": [
        {
          "output_type": "execute_result",
          "data": {
            "text/plain": [
              "             u          g          r          i          z target\n",
              "0    19.240999  17.525999  16.840000  16.613001  16.492001   star\n",
              "1    19.732000  18.339001  17.767000  17.580000  17.481001   star\n",
              "2    16.120001  15.232000  14.933000  14.845000  14.827000   star\n",
              "3    18.995001  18.150999  17.877001  17.747000  17.766001   star\n",
              "4    19.032000  18.112000  17.848000  17.709999  17.712000   star\n",
              "..         ...        ...        ...        ...        ...    ...\n",
              "862  19.247000  19.047001  18.663000  18.627001  18.671000    QSO\n",
              "863  26.433001  21.429001  20.261000  20.108000  20.073000    QSO\n",
              "864  20.535999  20.200001  20.292999  19.910000  19.726000    QSO\n",
              "865  20.627001  20.583000  20.270000  20.229000  20.190001    QSO\n",
              "866  19.431000  19.228001  18.794001  18.791000  18.923000    QSO\n",
              "\n",
              "[867 rows x 6 columns]"
            ],
            "text/html": [
              "\n",
              "  <div id=\"df-c2b9c84c-9c08-4201-8b5d-15dee83727c2\">\n",
              "    <div class=\"colab-df-container\">\n",
              "      <div>\n",
              "<style scoped>\n",
              "    .dataframe tbody tr th:only-of-type {\n",
              "        vertical-align: middle;\n",
              "    }\n",
              "\n",
              "    .dataframe tbody tr th {\n",
              "        vertical-align: top;\n",
              "    }\n",
              "\n",
              "    .dataframe thead th {\n",
              "        text-align: right;\n",
              "    }\n",
              "</style>\n",
              "<table border=\"1\" class=\"dataframe\">\n",
              "  <thead>\n",
              "    <tr style=\"text-align: right;\">\n",
              "      <th></th>\n",
              "      <th>u</th>\n",
              "      <th>g</th>\n",
              "      <th>r</th>\n",
              "      <th>i</th>\n",
              "      <th>z</th>\n",
              "      <th>target</th>\n",
              "    </tr>\n",
              "  </thead>\n",
              "  <tbody>\n",
              "    <tr>\n",
              "      <th>0</th>\n",
              "      <td>19.240999</td>\n",
              "      <td>17.525999</td>\n",
              "      <td>16.840000</td>\n",
              "      <td>16.613001</td>\n",
              "      <td>16.492001</td>\n",
              "      <td>star</td>\n",
              "    </tr>\n",
              "    <tr>\n",
              "      <th>1</th>\n",
              "      <td>19.732000</td>\n",
              "      <td>18.339001</td>\n",
              "      <td>17.767000</td>\n",
              "      <td>17.580000</td>\n",
              "      <td>17.481001</td>\n",
              "      <td>star</td>\n",
              "    </tr>\n",
              "    <tr>\n",
              "      <th>2</th>\n",
              "      <td>16.120001</td>\n",
              "      <td>15.232000</td>\n",
              "      <td>14.933000</td>\n",
              "      <td>14.845000</td>\n",
              "      <td>14.827000</td>\n",
              "      <td>star</td>\n",
              "    </tr>\n",
              "    <tr>\n",
              "      <th>3</th>\n",
              "      <td>18.995001</td>\n",
              "      <td>18.150999</td>\n",
              "      <td>17.877001</td>\n",
              "      <td>17.747000</td>\n",
              "      <td>17.766001</td>\n",
              "      <td>star</td>\n",
              "    </tr>\n",
              "    <tr>\n",
              "      <th>4</th>\n",
              "      <td>19.032000</td>\n",
              "      <td>18.112000</td>\n",
              "      <td>17.848000</td>\n",
              "      <td>17.709999</td>\n",
              "      <td>17.712000</td>\n",
              "      <td>star</td>\n",
              "    </tr>\n",
              "    <tr>\n",
              "      <th>...</th>\n",
              "      <td>...</td>\n",
              "      <td>...</td>\n",
              "      <td>...</td>\n",
              "      <td>...</td>\n",
              "      <td>...</td>\n",
              "      <td>...</td>\n",
              "    </tr>\n",
              "    <tr>\n",
              "      <th>862</th>\n",
              "      <td>19.247000</td>\n",
              "      <td>19.047001</td>\n",
              "      <td>18.663000</td>\n",
              "      <td>18.627001</td>\n",
              "      <td>18.671000</td>\n",
              "      <td>QSO</td>\n",
              "    </tr>\n",
              "    <tr>\n",
              "      <th>863</th>\n",
              "      <td>26.433001</td>\n",
              "      <td>21.429001</td>\n",
              "      <td>20.261000</td>\n",
              "      <td>20.108000</td>\n",
              "      <td>20.073000</td>\n",
              "      <td>QSO</td>\n",
              "    </tr>\n",
              "    <tr>\n",
              "      <th>864</th>\n",
              "      <td>20.535999</td>\n",
              "      <td>20.200001</td>\n",
              "      <td>20.292999</td>\n",
              "      <td>19.910000</td>\n",
              "      <td>19.726000</td>\n",
              "      <td>QSO</td>\n",
              "    </tr>\n",
              "    <tr>\n",
              "      <th>865</th>\n",
              "      <td>20.627001</td>\n",
              "      <td>20.583000</td>\n",
              "      <td>20.270000</td>\n",
              "      <td>20.229000</td>\n",
              "      <td>20.190001</td>\n",
              "      <td>QSO</td>\n",
              "    </tr>\n",
              "    <tr>\n",
              "      <th>866</th>\n",
              "      <td>19.431000</td>\n",
              "      <td>19.228001</td>\n",
              "      <td>18.794001</td>\n",
              "      <td>18.791000</td>\n",
              "      <td>18.923000</td>\n",
              "      <td>QSO</td>\n",
              "    </tr>\n",
              "  </tbody>\n",
              "</table>\n",
              "<p>867 rows × 6 columns</p>\n",
              "</div>\n",
              "      <button class=\"colab-df-convert\" onclick=\"convertToInteractive('df-c2b9c84c-9c08-4201-8b5d-15dee83727c2')\"\n",
              "              title=\"Convert this dataframe to an interactive table.\"\n",
              "              style=\"display:none;\">\n",
              "        \n",
              "  <svg xmlns=\"http://www.w3.org/2000/svg\" height=\"24px\"viewBox=\"0 0 24 24\"\n",
              "       width=\"24px\">\n",
              "    <path d=\"M0 0h24v24H0V0z\" fill=\"none\"/>\n",
              "    <path d=\"M18.56 5.44l.94 2.06.94-2.06 2.06-.94-2.06-.94-.94-2.06-.94 2.06-2.06.94zm-11 1L8.5 8.5l.94-2.06 2.06-.94-2.06-.94L8.5 2.5l-.94 2.06-2.06.94zm10 10l.94 2.06.94-2.06 2.06-.94-2.06-.94-.94-2.06-.94 2.06-2.06.94z\"/><path d=\"M17.41 7.96l-1.37-1.37c-.4-.4-.92-.59-1.43-.59-.52 0-1.04.2-1.43.59L10.3 9.45l-7.72 7.72c-.78.78-.78 2.05 0 2.83L4 21.41c.39.39.9.59 1.41.59.51 0 1.02-.2 1.41-.59l7.78-7.78 2.81-2.81c.8-.78.8-2.07 0-2.86zM5.41 20L4 18.59l7.72-7.72 1.47 1.35L5.41 20z\"/>\n",
              "  </svg>\n",
              "      </button>\n",
              "      \n",
              "  <style>\n",
              "    .colab-df-container {\n",
              "      display:flex;\n",
              "      flex-wrap:wrap;\n",
              "      gap: 12px;\n",
              "    }\n",
              "\n",
              "    .colab-df-convert {\n",
              "      background-color: #E8F0FE;\n",
              "      border: none;\n",
              "      border-radius: 50%;\n",
              "      cursor: pointer;\n",
              "      display: none;\n",
              "      fill: #1967D2;\n",
              "      height: 32px;\n",
              "      padding: 0 0 0 0;\n",
              "      width: 32px;\n",
              "    }\n",
              "\n",
              "    .colab-df-convert:hover {\n",
              "      background-color: #E2EBFA;\n",
              "      box-shadow: 0px 1px 2px rgba(60, 64, 67, 0.3), 0px 1px 3px 1px rgba(60, 64, 67, 0.15);\n",
              "      fill: #174EA6;\n",
              "    }\n",
              "\n",
              "    [theme=dark] .colab-df-convert {\n",
              "      background-color: #3B4455;\n",
              "      fill: #D2E3FC;\n",
              "    }\n",
              "\n",
              "    [theme=dark] .colab-df-convert:hover {\n",
              "      background-color: #434B5C;\n",
              "      box-shadow: 0px 1px 3px 1px rgba(0, 0, 0, 0.15);\n",
              "      filter: drop-shadow(0px 1px 2px rgba(0, 0, 0, 0.3));\n",
              "      fill: #FFFFFF;\n",
              "    }\n",
              "  </style>\n",
              "\n",
              "      <script>\n",
              "        const buttonEl =\n",
              "          document.querySelector('#df-c2b9c84c-9c08-4201-8b5d-15dee83727c2 button.colab-df-convert');\n",
              "        buttonEl.style.display =\n",
              "          google.colab.kernel.accessAllowed ? 'block' : 'none';\n",
              "\n",
              "        async function convertToInteractive(key) {\n",
              "          const element = document.querySelector('#df-c2b9c84c-9c08-4201-8b5d-15dee83727c2');\n",
              "          const dataTable =\n",
              "            await google.colab.kernel.invokeFunction('convertToInteractive',\n",
              "                                                     [key], {});\n",
              "          if (!dataTable) return;\n",
              "\n",
              "          const docLinkHtml = 'Like what you see? Visit the ' +\n",
              "            '<a target=\"_blank\" href=https://colab.research.google.com/notebooks/data_table.ipynb>data table notebook</a>'\n",
              "            + ' to learn more about interactive tables.';\n",
              "          element.innerHTML = '';\n",
              "          dataTable['output_type'] = 'display_data';\n",
              "          await google.colab.output.renderOutput(dataTable, element);\n",
              "          const docLink = document.createElement('div');\n",
              "          docLink.innerHTML = docLinkHtml;\n",
              "          element.appendChild(docLink);\n",
              "        }\n",
              "      </script>\n",
              "    </div>\n",
              "  </div>\n",
              "  "
            ]
          },
          "metadata": {},
          "execution_count": 42
        }
      ]
    },
    {
      "cell_type": "code",
      "metadata": {
        "colab": {
          "base_uri": "https://localhost:8080/",
          "height": 300
        },
        "id": "1Xj0KTG6oe5c",
        "outputId": "11c804cb-46c1-4bf8-974e-108fb5c503bc"
      },
      "source": [
        "data.describe().round(2)"
      ],
      "execution_count": 43,
      "outputs": [
        {
          "output_type": "execute_result",
          "data": {
            "text/plain": [
              "            u       g       r       i       z\n",
              "count  867.00  867.00  867.00  867.00  867.00\n",
              "mean    19.29   18.17   17.72   17.54   17.45\n",
              "std      1.39    1.33    1.35    1.37    1.38\n",
              "min     15.67   14.36   14.12   13.95   13.89\n",
              "25%     18.50   17.29   16.74   16.54   16.45\n",
              "50%     19.33   18.33   17.88   17.69   17.62\n",
              "75%     20.02   19.09   18.76   18.61   18.52\n",
              "max     26.43   25.17   21.14   20.72   20.91"
            ],
            "text/html": [
              "\n",
              "  <div id=\"df-f413963c-95df-40c5-b3e6-fad098505691\">\n",
              "    <div class=\"colab-df-container\">\n",
              "      <div>\n",
              "<style scoped>\n",
              "    .dataframe tbody tr th:only-of-type {\n",
              "        vertical-align: middle;\n",
              "    }\n",
              "\n",
              "    .dataframe tbody tr th {\n",
              "        vertical-align: top;\n",
              "    }\n",
              "\n",
              "    .dataframe thead th {\n",
              "        text-align: right;\n",
              "    }\n",
              "</style>\n",
              "<table border=\"1\" class=\"dataframe\">\n",
              "  <thead>\n",
              "    <tr style=\"text-align: right;\">\n",
              "      <th></th>\n",
              "      <th>u</th>\n",
              "      <th>g</th>\n",
              "      <th>r</th>\n",
              "      <th>i</th>\n",
              "      <th>z</th>\n",
              "    </tr>\n",
              "  </thead>\n",
              "  <tbody>\n",
              "    <tr>\n",
              "      <th>count</th>\n",
              "      <td>867.00</td>\n",
              "      <td>867.00</td>\n",
              "      <td>867.00</td>\n",
              "      <td>867.00</td>\n",
              "      <td>867.00</td>\n",
              "    </tr>\n",
              "    <tr>\n",
              "      <th>mean</th>\n",
              "      <td>19.29</td>\n",
              "      <td>18.17</td>\n",
              "      <td>17.72</td>\n",
              "      <td>17.54</td>\n",
              "      <td>17.45</td>\n",
              "    </tr>\n",
              "    <tr>\n",
              "      <th>std</th>\n",
              "      <td>1.39</td>\n",
              "      <td>1.33</td>\n",
              "      <td>1.35</td>\n",
              "      <td>1.37</td>\n",
              "      <td>1.38</td>\n",
              "    </tr>\n",
              "    <tr>\n",
              "      <th>min</th>\n",
              "      <td>15.67</td>\n",
              "      <td>14.36</td>\n",
              "      <td>14.12</td>\n",
              "      <td>13.95</td>\n",
              "      <td>13.89</td>\n",
              "    </tr>\n",
              "    <tr>\n",
              "      <th>25%</th>\n",
              "      <td>18.50</td>\n",
              "      <td>17.29</td>\n",
              "      <td>16.74</td>\n",
              "      <td>16.54</td>\n",
              "      <td>16.45</td>\n",
              "    </tr>\n",
              "    <tr>\n",
              "      <th>50%</th>\n",
              "      <td>19.33</td>\n",
              "      <td>18.33</td>\n",
              "      <td>17.88</td>\n",
              "      <td>17.69</td>\n",
              "      <td>17.62</td>\n",
              "    </tr>\n",
              "    <tr>\n",
              "      <th>75%</th>\n",
              "      <td>20.02</td>\n",
              "      <td>19.09</td>\n",
              "      <td>18.76</td>\n",
              "      <td>18.61</td>\n",
              "      <td>18.52</td>\n",
              "    </tr>\n",
              "    <tr>\n",
              "      <th>max</th>\n",
              "      <td>26.43</td>\n",
              "      <td>25.17</td>\n",
              "      <td>21.14</td>\n",
              "      <td>20.72</td>\n",
              "      <td>20.91</td>\n",
              "    </tr>\n",
              "  </tbody>\n",
              "</table>\n",
              "</div>\n",
              "      <button class=\"colab-df-convert\" onclick=\"convertToInteractive('df-f413963c-95df-40c5-b3e6-fad098505691')\"\n",
              "              title=\"Convert this dataframe to an interactive table.\"\n",
              "              style=\"display:none;\">\n",
              "        \n",
              "  <svg xmlns=\"http://www.w3.org/2000/svg\" height=\"24px\"viewBox=\"0 0 24 24\"\n",
              "       width=\"24px\">\n",
              "    <path d=\"M0 0h24v24H0V0z\" fill=\"none\"/>\n",
              "    <path d=\"M18.56 5.44l.94 2.06.94-2.06 2.06-.94-2.06-.94-.94-2.06-.94 2.06-2.06.94zm-11 1L8.5 8.5l.94-2.06 2.06-.94-2.06-.94L8.5 2.5l-.94 2.06-2.06.94zm10 10l.94 2.06.94-2.06 2.06-.94-2.06-.94-.94-2.06-.94 2.06-2.06.94z\"/><path d=\"M17.41 7.96l-1.37-1.37c-.4-.4-.92-.59-1.43-.59-.52 0-1.04.2-1.43.59L10.3 9.45l-7.72 7.72c-.78.78-.78 2.05 0 2.83L4 21.41c.39.39.9.59 1.41.59.51 0 1.02-.2 1.41-.59l7.78-7.78 2.81-2.81c.8-.78.8-2.07 0-2.86zM5.41 20L4 18.59l7.72-7.72 1.47 1.35L5.41 20z\"/>\n",
              "  </svg>\n",
              "      </button>\n",
              "      \n",
              "  <style>\n",
              "    .colab-df-container {\n",
              "      display:flex;\n",
              "      flex-wrap:wrap;\n",
              "      gap: 12px;\n",
              "    }\n",
              "\n",
              "    .colab-df-convert {\n",
              "      background-color: #E8F0FE;\n",
              "      border: none;\n",
              "      border-radius: 50%;\n",
              "      cursor: pointer;\n",
              "      display: none;\n",
              "      fill: #1967D2;\n",
              "      height: 32px;\n",
              "      padding: 0 0 0 0;\n",
              "      width: 32px;\n",
              "    }\n",
              "\n",
              "    .colab-df-convert:hover {\n",
              "      background-color: #E2EBFA;\n",
              "      box-shadow: 0px 1px 2px rgba(60, 64, 67, 0.3), 0px 1px 3px 1px rgba(60, 64, 67, 0.15);\n",
              "      fill: #174EA6;\n",
              "    }\n",
              "\n",
              "    [theme=dark] .colab-df-convert {\n",
              "      background-color: #3B4455;\n",
              "      fill: #D2E3FC;\n",
              "    }\n",
              "\n",
              "    [theme=dark] .colab-df-convert:hover {\n",
              "      background-color: #434B5C;\n",
              "      box-shadow: 0px 1px 3px 1px rgba(0, 0, 0, 0.15);\n",
              "      filter: drop-shadow(0px 1px 2px rgba(0, 0, 0, 0.3));\n",
              "      fill: #FFFFFF;\n",
              "    }\n",
              "  </style>\n",
              "\n",
              "      <script>\n",
              "        const buttonEl =\n",
              "          document.querySelector('#df-f413963c-95df-40c5-b3e6-fad098505691 button.colab-df-convert');\n",
              "        buttonEl.style.display =\n",
              "          google.colab.kernel.accessAllowed ? 'block' : 'none';\n",
              "\n",
              "        async function convertToInteractive(key) {\n",
              "          const element = document.querySelector('#df-f413963c-95df-40c5-b3e6-fad098505691');\n",
              "          const dataTable =\n",
              "            await google.colab.kernel.invokeFunction('convertToInteractive',\n",
              "                                                     [key], {});\n",
              "          if (!dataTable) return;\n",
              "\n",
              "          const docLinkHtml = 'Like what you see? Visit the ' +\n",
              "            '<a target=\"_blank\" href=https://colab.research.google.com/notebooks/data_table.ipynb>data table notebook</a>'\n",
              "            + ' to learn more about interactive tables.';\n",
              "          element.innerHTML = '';\n",
              "          dataTable['output_type'] = 'display_data';\n",
              "          await google.colab.output.renderOutput(dataTable, element);\n",
              "          const docLink = document.createElement('div');\n",
              "          docLink.innerHTML = docLinkHtml;\n",
              "          element.appendChild(docLink);\n",
              "        }\n",
              "      </script>\n",
              "    </div>\n",
              "  </div>\n",
              "  "
            ]
          },
          "metadata": {},
          "execution_count": 43
        }
      ]
    },
    {
      "cell_type": "code",
      "metadata": {
        "id": "ZVLpF-z3hmxk",
        "colab": {
          "base_uri": "https://localhost:8080/"
        },
        "outputId": "a43cd385-a273-4631-c761-c4527cdfb0fc"
      },
      "source": [
        "sum(data.target== \"star\"), sum(data.target == \"QSO\")"
      ],
      "execution_count": 44,
      "outputs": [
        {
          "output_type": "execute_result",
          "data": {
            "text/plain": [
              "(655, 212)"
            ]
          },
          "metadata": {},
          "execution_count": 44
        }
      ]
    },
    {
      "cell_type": "code",
      "source": [
        "fig = corner.corner(X[y == 0], color=\"C0\")\n",
        "corner.corner(X[y == 1], fig=fig, color=\"C1\");"
      ],
      "metadata": {
        "id": "yJCKq-V3Xqv5",
        "outputId": "551b72f6-3ea6-41e0-ed19-e0a15fa8c797",
        "colab": {
          "base_uri": "https://localhost:8080/",
          "height": 868
        }
      },
      "execution_count": 50,
      "outputs": [
        {
          "output_type": "stream",
          "name": "stderr",
          "text": [
            "WARNING:root:Pandas support in corner is deprecated; use ArviZ directly\n",
            "WARNING:root:Pandas support in corner is deprecated; use ArviZ directly\n"
          ]
        },
        {
          "output_type": "display_data",
          "data": {
            "text/plain": [
              "<Figure size 849.6x849.6 with 25 Axes>"
            ],
            "image/png": "[encoded data removed]"
          },
          "metadata": {
            "needs_background": "light"
          }
        }
      ]
    },
    {
      "cell_type": "markdown",
      "metadata": {
        "id": "6iO4-7kC79Kz"
      },
      "source": [
        "### task 1: **create `X` and `y`**\n",
        "\n",
        "```python\n",
        "data[[\"u\",\"g\",\"r\",\"i\",\"z\"]] -> X\n",
        "data.target -> y\n",
        "\"QSO\" -> 0\n",
        "\"star\" -> 1\n",
        "```\n",
        "\n",
        "hint: you can use [LabelEncoder()](https://scikit-learn.org/stable/modules/generated/sklearn.preprocessing.LabelEncoder.html)\n"
      ]
    },
    {
      "cell_type": "code",
      "metadata": {
        "colab": {
          "base_uri": "https://localhost:8080/",
          "height": 424
        },
        "id": "mTSxvZPF77kZ",
        "outputId": "e39068f8-a62f-4e04-a0ad-5af39f47a26b"
      },
      "source": [
        "filters = [\"u\",\"g\",\"r\",\"i\",\"z\"]\n",
        "X = data[filters]\n",
        "X"
      ],
      "execution_count": 81,
      "outputs": [
        {
          "output_type": "execute_result",
          "data": {
            "text/plain": [
              "             u          g          r          i          z\n",
              "0    19.240999  17.525999  16.840000  16.613001  16.492001\n",
              "1    19.732000  18.339001  17.767000  17.580000  17.481001\n",
              "2    16.120001  15.232000  14.933000  14.845000  14.827000\n",
              "3    18.995001  18.150999  17.877001  17.747000  17.766001\n",
              "4    19.032000  18.112000  17.848000  17.709999  17.712000\n",
              "..         ...        ...        ...        ...        ...\n",
              "862  19.247000  19.047001  18.663000  18.627001  18.671000\n",
              "863  26.433001  21.429001  20.261000  20.108000  20.073000\n",
              "864  20.535999  20.200001  20.292999  19.910000  19.726000\n",
              "865  20.627001  20.583000  20.270000  20.229000  20.190001\n",
              "866  19.431000  19.228001  18.794001  18.791000  18.923000\n",
              "\n",
              "[867 rows x 5 columns]"
            ],
            "text/html": [
              "\n",
              "  <div id=\"df-a2e83db8-2edf-4d07-80d9-65c93c822cae\">\n",
              "    <div class=\"colab-df-container\">\n",
              "      <div>\n",
              "<style scoped>\n",
              "    .dataframe tbody tr th:only-of-type {\n",
              "        vertical-align: middle;\n",
              "    }\n",
              "\n",
              "    .dataframe tbody tr th {\n",
              "        vertical-align: top;\n",
              "    }\n",
              "\n",
              "    .dataframe thead th {\n",
              "        text-align: right;\n",
              "    }\n",
              "</style>\n",
              "<table border=\"1\" class=\"dataframe\">\n",
              "  <thead>\n",
              "    <tr style=\"text-align: right;\">\n",
              "      <th></th>\n",
              "      <th>u</th>\n",
              "      <th>g</th>\n",
              "      <th>r</th>\n",
              "      <th>i</th>\n",
              "      <th>z</th>\n",
              "    </tr>\n",
              "  </thead>\n",
              "  <tbody>\n",
              "    <tr>\n",
              "      <th>0</th>\n",
              "      <td>19.240999</td>\n",
              "      <td>17.525999</td>\n",
              "      <td>16.840000</td>\n",
              "      <td>16.613001</td>\n",
              "      <td>16.492001</td>\n",
              "    </tr>\n",
              "    <tr>\n",
              "      <th>1</th>\n",
              "      <td>19.732000</td>\n",
              "      <td>18.339001</td>\n",
              "      <td>17.767000</td>\n",
              "      <td>17.580000</td>\n",
              "      <td>17.481001</td>\n",
              "    </tr>\n",
              "    <tr>\n",
              "      <th>2</th>\n",
              "      <td>16.120001</td>\n",
              "      <td>15.232000</td>\n",
              "      <td>14.933000</td>\n",
              "      <td>14.845000</td>\n",
              "      <td>14.827000</td>\n",
              "    </tr>\n",
              "    <tr>\n",
              "      <th>3</th>\n",
              "      <td>18.995001</td>\n",
              "      <td>18.150999</td>\n",
              "      <td>17.877001</td>\n",
              "      <td>17.747000</td>\n",
              "      <td>17.766001</td>\n",
              "    </tr>\n",
              "    <tr>\n",
              "      <th>4</th>\n",
              "      <td>19.032000</td>\n",
              "      <td>18.112000</td>\n",
              "      <td>17.848000</td>\n",
              "      <td>17.709999</td>\n",
              "      <td>17.712000</td>\n",
              "    </tr>\n",
              "    <tr>\n",
              "      <th>...</th>\n",
              "      <td>...</td>\n",
              "      <td>...</td>\n",
              "      <td>...</td>\n",
              "      <td>...</td>\n",
              "      <td>...</td>\n",
              "    </tr>\n",
              "    <tr>\n",
              "      <th>862</th>\n",
              "      <td>19.247000</td>\n",
              "      <td>19.047001</td>\n",
              "      <td>18.663000</td>\n",
              "      <td>18.627001</td>\n",
              "      <td>18.671000</td>\n",
              "    </tr>\n",
              "    <tr>\n",
              "      <th>863</th>\n",
              "      <td>26.433001</td>\n",
              "      <td>21.429001</td>\n",
              "      <td>20.261000</td>\n",
              "      <td>20.108000</td>\n",
              "      <td>20.073000</td>\n",
              "    </tr>\n",
              "    <tr>\n",
              "      <th>864</th>\n",
              "      <td>20.535999</td>\n",
              "      <td>20.200001</td>\n",
              "      <td>20.292999</td>\n",
              "      <td>19.910000</td>\n",
              "      <td>19.726000</td>\n",
              "    </tr>\n",
              "    <tr>\n",
              "      <th>865</th>\n",
              "      <td>20.627001</td>\n",
              "      <td>20.583000</td>\n",
              "      <td>20.270000</td>\n",
              "      <td>20.229000</td>\n",
              "      <td>20.190001</td>\n",
              "    </tr>\n",
              "    <tr>\n",
              "      <th>866</th>\n",
              "      <td>19.431000</td>\n",
              "      <td>19.228001</td>\n",
              "      <td>18.794001</td>\n",
              "      <td>18.791000</td>\n",
              "      <td>18.923000</td>\n",
              "    </tr>\n",
              "  </tbody>\n",
              "</table>\n",
              "<p>867 rows × 5 columns</p>\n",
              "</div>\n",
              "      <button class=\"colab-df-convert\" onclick=\"convertToInteractive('df-a2e83db8-2edf-4d07-80d9-65c93c822cae')\"\n",
              "              title=\"Convert this dataframe to an interactive table.\"\n",
              "              style=\"display:none;\">\n",
              "        \n",
              "  <svg xmlns=\"http://www.w3.org/2000/svg\" height=\"24px\"viewBox=\"0 0 24 24\"\n",
              "       width=\"24px\">\n",
              "    <path d=\"M0 0h24v24H0V0z\" fill=\"none\"/>\n",
              "    <path d=\"M18.56 5.44l.94 2.06.94-2.06 2.06-.94-2.06-.94-.94-2.06-.94 2.06-2.06.94zm-11 1L8.5 8.5l.94-2.06 2.06-.94-2.06-.94L8.5 2.5l-.94 2.06-2.06.94zm10 10l.94 2.06.94-2.06 2.06-.94-2.06-.94-.94-2.06-.94 2.06-2.06.94z\"/><path d=\"M17.41 7.96l-1.37-1.37c-.4-.4-.92-.59-1.43-.59-.52 0-1.04.2-1.43.59L10.3 9.45l-7.72 7.72c-.78.78-.78 2.05 0 2.83L4 21.41c.39.39.9.59 1.41.59.51 0 1.02-.2 1.41-.59l7.78-7.78 2.81-2.81c.8-.78.8-2.07 0-2.86zM5.41 20L4 18.59l7.72-7.72 1.47 1.35L5.41 20z\"/>\n",
              "  </svg>\n",
              "      </button>\n",
              "      \n",
              "  <style>\n",
              "    .colab-df-container {\n",
              "      display:flex;\n",
              "      flex-wrap:wrap;\n",
              "      gap: 12px;\n",
              "    }\n",
              "\n",
              "    .colab-df-convert {\n",
              "      background-color: #E8F0FE;\n",
              "      border: none;\n",
              "      border-radius: 50%;\n",
              "      cursor: pointer;\n",
              "      display: none;\n",
              "      fill: #1967D2;\n",
              "      height: 32px;\n",
              "      padding: 0 0 0 0;\n",
              "      width: 32px;\n",
              "    }\n",
              "\n",
              "    .colab-df-convert:hover {\n",
              "      background-color: #E2EBFA;\n",
              "      box-shadow: 0px 1px 2px rgba(60, 64, 67, 0.3), 0px 1px 3px 1px rgba(60, 64, 67, 0.15);\n",
              "      fill: #174EA6;\n",
              "    }\n",
              "\n",
              "    [theme=dark] .colab-df-convert {\n",
              "      background-color: #3B4455;\n",
              "      fill: #D2E3FC;\n",
              "    }\n",
              "\n",
              "    [theme=dark] .colab-df-convert:hover {\n",
              "      background-color: #434B5C;\n",
              "      box-shadow: 0px 1px 3px 1px rgba(0, 0, 0, 0.15);\n",
              "      filter: drop-shadow(0px 1px 2px rgba(0, 0, 0, 0.3));\n",
              "      fill: #FFFFFF;\n",
              "    }\n",
              "  </style>\n",
              "\n",
              "      <script>\n",
              "        const buttonEl =\n",
              "          document.querySelector('#df-a2e83db8-2edf-4d07-80d9-65c93c822cae button.colab-df-convert');\n",
              "        buttonEl.style.display =\n",
              "          google.colab.kernel.accessAllowed ? 'block' : 'none';\n",
              "\n",
              "        async function convertToInteractive(key) {\n",
              "          const element = document.querySelector('#df-a2e83db8-2edf-4d07-80d9-65c93c822cae');\n",
              "          const dataTable =\n",
              "            await google.colab.kernel.invokeFunction('convertToInteractive',\n",
              "                                                     [key], {});\n",
              "          if (!dataTable) return;\n",
              "\n",
              "          const docLinkHtml = 'Like what you see? Visit the ' +\n",
              "            '<a target=\"_blank\" href=https://colab.research.google.com/notebooks/data_table.ipynb>data table notebook</a>'\n",
              "            + ' to learn more about interactive tables.';\n",
              "          element.innerHTML = '';\n",
              "          dataTable['output_type'] = 'display_data';\n",
              "          await google.colab.output.renderOutput(dataTable, element);\n",
              "          const docLink = document.createElement('div');\n",
              "          docLink.innerHTML = docLinkHtml;\n",
              "          element.appendChild(docLink);\n",
              "        }\n",
              "      </script>\n",
              "    </div>\n",
              "  </div>\n",
              "  "
            ]
          },
          "metadata": {},
          "execution_count": 81
        }
      ]
    },
    {
      "cell_type": "code",
      "metadata": {
        "colab": {
          "base_uri": "https://localhost:8080/"
        },
        "id": "wdjrBi_U8ilA",
        "outputId": "94f03f86-24b5-4e5d-8c05-1e8e3f9504d5"
      },
      "source": [
        "y = np.array(data[\"target\"] == \"star\").astype(int)\n",
        "y"
      ],
      "execution_count": 82,
      "outputs": [
        {
          "output_type": "execute_result",
          "data": {
            "text/plain": [
              "array([1, 1, 1, 1, 1, 1, 1, 1, 1, 1, 1, 1, 1, 1, 1, 1, 1, 1, 1, 1, 1, 1,\n",
              "       1, 1, 1, 1, 1, 1, 1, 1, 1, 1, 1, 1, 1, 1, 1, 1, 1, 1, 1, 1, 1, 1,\n",
              "       1, 1, 1, 1, 1, 1, 1, 1, 1, 1, 1, 1, 1, 1, 1, 1, 1, 1, 1, 1, 1, 1,\n",
              "       1, 1, 1, 1, 1, 1, 1, 1, 1, 1, 1, 1, 1, 1, 1, 1, 1, 1, 1, 1, 1, 1,\n",
              "       1, 1, 1, 1, 1, 1, 1, 1, 1, 1, 1, 1, 1, 1, 1, 1, 1, 1, 1, 1, 1, 1,\n",
              "       1, 1, 1, 1, 1, 1, 1, 1, 1, 1, 1, 1, 1, 1, 1, 1, 1, 1, 1, 1, 1, 1,\n",
              "       1, 1, 1, 1, 1, 1, 1, 1, 1, 1, 1, 1, 1, 1, 1, 1, 1, 1, 1, 1, 1, 1,\n",
              "       1, 1, 1, 1, 1, 1, 1, 1, 1, 1, 1, 1, 1, 1, 1, 1, 1, 1, 1, 1, 1, 1,\n",
              "       1, 1, 1, 1, 1, 1, 1, 1, 1, 1, 1, 1, 1, 1, 1, 1, 1, 1, 1, 1, 1, 1,\n",
              "       1, 1, 1, 1, 1, 1, 1, 1, 1, 1, 1, 1, 1, 1, 1, 1, 1, 1, 1, 1, 1, 1,\n",
              "       1, 1, 1, 1, 1, 1, 1, 1, 1, 1, 1, 1, 1, 1, 1, 1, 1, 1, 1, 1, 1, 1,\n",
              "       1, 1, 1, 1, 1, 1, 1, 1, 1, 1, 1, 1, 1, 1, 1, 1, 1, 1, 1, 1, 1, 1,\n",
              "       1, 1, 1, 1, 1, 1, 1, 1, 1, 1, 1, 1, 1, 1, 1, 1, 1, 1, 1, 1, 1, 1,\n",
              "       1, 1, 1, 1, 1, 1, 1, 1, 1, 1, 1, 1, 1, 1, 1, 1, 1, 1, 1, 1, 1, 1,\n",
              "       1, 1, 1, 1, 1, 1, 1, 1, 1, 1, 1, 1, 1, 1, 1, 1, 1, 1, 1, 1, 1, 1,\n",
              "       1, 1, 1, 1, 1, 1, 1, 1, 1, 1, 1, 1, 1, 1, 1, 1, 1, 1, 1, 1, 1, 1,\n",
              "       1, 1, 1, 1, 1, 1, 1, 1, 1, 1, 1, 1, 1, 1, 1, 1, 1, 1, 1, 1, 1, 1,\n",
              "       1, 1, 1, 1, 1, 1, 1, 1, 1, 1, 1, 1, 1, 1, 1, 1, 1, 1, 1, 1, 1, 1,\n",
              "       1, 1, 1, 1, 1, 1, 1, 1, 1, 1, 1, 1, 1, 1, 1, 1, 1, 1, 1, 1, 1, 1,\n",
              "       1, 1, 1, 1, 1, 1, 1, 1, 1, 1, 1, 1, 1, 1, 1, 1, 1, 1, 1, 1, 1, 1,\n",
              "       1, 1, 1, 1, 1, 1, 1, 1, 1, 1, 1, 1, 1, 1, 1, 1, 1, 1, 1, 1, 1, 1,\n",
              "       1, 1, 1, 1, 1, 1, 1, 1, 1, 1, 1, 1, 1, 1, 1, 1, 1, 1, 1, 1, 1, 1,\n",
              "       1, 1, 1, 1, 1, 1, 1, 1, 1, 1, 1, 1, 1, 1, 1, 1, 1, 1, 1, 1, 1, 1,\n",
              "       1, 1, 1, 1, 1, 1, 1, 1, 1, 1, 1, 1, 1, 1, 1, 1, 1, 1, 1, 1, 1, 1,\n",
              "       1, 1, 1, 1, 1, 1, 1, 1, 1, 1, 1, 1, 1, 1, 1, 1, 1, 1, 1, 1, 1, 1,\n",
              "       1, 1, 1, 1, 1, 1, 1, 1, 1, 1, 1, 1, 1, 1, 1, 1, 1, 1, 1, 1, 1, 1,\n",
              "       1, 1, 1, 1, 1, 1, 1, 1, 1, 1, 1, 1, 1, 1, 1, 1, 1, 1, 1, 1, 1, 1,\n",
              "       1, 1, 1, 1, 1, 1, 1, 1, 1, 1, 1, 1, 1, 1, 1, 1, 1, 1, 1, 1, 1, 1,\n",
              "       1, 1, 1, 1, 1, 1, 1, 1, 1, 1, 1, 1, 1, 1, 1, 1, 1, 1, 1, 1, 1, 1,\n",
              "       1, 1, 1, 1, 1, 1, 1, 1, 1, 1, 1, 1, 1, 1, 1, 1, 1, 0, 0, 0, 0, 0,\n",
              "       0, 0, 0, 0, 0, 0, 0, 0, 0, 0, 0, 0, 0, 0, 0, 0, 0, 0, 0, 0, 0, 0,\n",
              "       0, 0, 0, 0, 0, 0, 0, 0, 0, 0, 0, 0, 0, 0, 0, 0, 0, 0, 0, 0, 0, 0,\n",
              "       0, 0, 0, 0, 0, 0, 0, 0, 0, 0, 0, 0, 0, 0, 0, 0, 0, 0, 0, 0, 0, 0,\n",
              "       0, 0, 0, 0, 0, 0, 0, 0, 0, 0, 0, 0, 0, 0, 0, 0, 0, 0, 0, 0, 0, 0,\n",
              "       0, 0, 0, 0, 0, 0, 0, 0, 0, 0, 0, 0, 0, 0, 0, 0, 0, 0, 0, 0, 0, 0,\n",
              "       0, 0, 0, 0, 0, 0, 0, 0, 0, 0, 0, 0, 0, 0, 0, 0, 0, 0, 0, 0, 0, 0,\n",
              "       0, 0, 0, 0, 0, 0, 0, 0, 0, 0, 0, 0, 0, 0, 0, 0, 0, 0, 0, 0, 0, 0,\n",
              "       0, 0, 0, 0, 0, 0, 0, 0, 0, 0, 0, 0, 0, 0, 0, 0, 0, 0, 0, 0, 0, 0,\n",
              "       0, 0, 0, 0, 0, 0, 0, 0, 0, 0, 0, 0, 0, 0, 0, 0, 0, 0, 0, 0, 0, 0,\n",
              "       0, 0, 0, 0, 0, 0, 0, 0, 0])"
            ]
          },
          "metadata": {},
          "execution_count": 82
        }
      ]
    },
    {
      "cell_type": "code",
      "metadata": {
        "colab": {
          "base_uri": "https://localhost:8080/"
        },
        "id": "3shTgaecWYO5",
        "outputId": "bd451492-0a32-4f17-ed80-5a4b48bb57d0"
      },
      "source": [
        "from sklearn.preprocessing import LabelEncoder\n",
        "\n",
        "le = LabelEncoder()\n",
        "# le.fit(data.target)\n",
        "# y = le.transform(data.target)\n",
        "y = le.fit_transform(data.target)\n",
        "y"
      ],
      "execution_count": 83,
      "outputs": [
        {
          "output_type": "execute_result",
          "data": {
            "text/plain": [
              "array([1, 1, 1, 1, 1, 1, 1, 1, 1, 1, 1, 1, 1, 1, 1, 1, 1, 1, 1, 1, 1, 1,\n",
              "       1, 1, 1, 1, 1, 1, 1, 1, 1, 1, 1, 1, 1, 1, 1, 1, 1, 1, 1, 1, 1, 1,\n",
              "       1, 1, 1, 1, 1, 1, 1, 1, 1, 1, 1, 1, 1, 1, 1, 1, 1, 1, 1, 1, 1, 1,\n",
              "       1, 1, 1, 1, 1, 1, 1, 1, 1, 1, 1, 1, 1, 1, 1, 1, 1, 1, 1, 1, 1, 1,\n",
              "       1, 1, 1, 1, 1, 1, 1, 1, 1, 1, 1, 1, 1, 1, 1, 1, 1, 1, 1, 1, 1, 1,\n",
              "       1, 1, 1, 1, 1, 1, 1, 1, 1, 1, 1, 1, 1, 1, 1, 1, 1, 1, 1, 1, 1, 1,\n",
              "       1, 1, 1, 1, 1, 1, 1, 1, 1, 1, 1, 1, 1, 1, 1, 1, 1, 1, 1, 1, 1, 1,\n",
              "       1, 1, 1, 1, 1, 1, 1, 1, 1, 1, 1, 1, 1, 1, 1, 1, 1, 1, 1, 1, 1, 1,\n",
              "       1, 1, 1, 1, 1, 1, 1, 1, 1, 1, 1, 1, 1, 1, 1, 1, 1, 1, 1, 1, 1, 1,\n",
              "       1, 1, 1, 1, 1, 1, 1, 1, 1, 1, 1, 1, 1, 1, 1, 1, 1, 1, 1, 1, 1, 1,\n",
              "       1, 1, 1, 1, 1, 1, 1, 1, 1, 1, 1, 1, 1, 1, 1, 1, 1, 1, 1, 1, 1, 1,\n",
              "       1, 1, 1, 1, 1, 1, 1, 1, 1, 1, 1, 1, 1, 1, 1, 1, 1, 1, 1, 1, 1, 1,\n",
              "       1, 1, 1, 1, 1, 1, 1, 1, 1, 1, 1, 1, 1, 1, 1, 1, 1, 1, 1, 1, 1, 1,\n",
              "       1, 1, 1, 1, 1, 1, 1, 1, 1, 1, 1, 1, 1, 1, 1, 1, 1, 1, 1, 1, 1, 1,\n",
              "       1, 1, 1, 1, 1, 1, 1, 1, 1, 1, 1, 1, 1, 1, 1, 1, 1, 1, 1, 1, 1, 1,\n",
              "       1, 1, 1, 1, 1, 1, 1, 1, 1, 1, 1, 1, 1, 1, 1, 1, 1, 1, 1, 1, 1, 1,\n",
              "       1, 1, 1, 1, 1, 1, 1, 1, 1, 1, 1, 1, 1, 1, 1, 1, 1, 1, 1, 1, 1, 1,\n",
              "       1, 1, 1, 1, 1, 1, 1, 1, 1, 1, 1, 1, 1, 1, 1, 1, 1, 1, 1, 1, 1, 1,\n",
              "       1, 1, 1, 1, 1, 1, 1, 1, 1, 1, 1, 1, 1, 1, 1, 1, 1, 1, 1, 1, 1, 1,\n",
              "       1, 1, 1, 1, 1, 1, 1, 1, 1, 1, 1, 1, 1, 1, 1, 1, 1, 1, 1, 1, 1, 1,\n",
              "       1, 1, 1, 1, 1, 1, 1, 1, 1, 1, 1, 1, 1, 1, 1, 1, 1, 1, 1, 1, 1, 1,\n",
              "       1, 1, 1, 1, 1, 1, 1, 1, 1, 1, 1, 1, 1, 1, 1, 1, 1, 1, 1, 1, 1, 1,\n",
              "       1, 1, 1, 1, 1, 1, 1, 1, 1, 1, 1, 1, 1, 1, 1, 1, 1, 1, 1, 1, 1, 1,\n",
              "       1, 1, 1, 1, 1, 1, 1, 1, 1, 1, 1, 1, 1, 1, 1, 1, 1, 1, 1, 1, 1, 1,\n",
              "       1, 1, 1, 1, 1, 1, 1, 1, 1, 1, 1, 1, 1, 1, 1, 1, 1, 1, 1, 1, 1, 1,\n",
              "       1, 1, 1, 1, 1, 1, 1, 1, 1, 1, 1, 1, 1, 1, 1, 1, 1, 1, 1, 1, 1, 1,\n",
              "       1, 1, 1, 1, 1, 1, 1, 1, 1, 1, 1, 1, 1, 1, 1, 1, 1, 1, 1, 1, 1, 1,\n",
              "       1, 1, 1, 1, 1, 1, 1, 1, 1, 1, 1, 1, 1, 1, 1, 1, 1, 1, 1, 1, 1, 1,\n",
              "       1, 1, 1, 1, 1, 1, 1, 1, 1, 1, 1, 1, 1, 1, 1, 1, 1, 1, 1, 1, 1, 1,\n",
              "       1, 1, 1, 1, 1, 1, 1, 1, 1, 1, 1, 1, 1, 1, 1, 1, 1, 0, 0, 0, 0, 0,\n",
              "       0, 0, 0, 0, 0, 0, 0, 0, 0, 0, 0, 0, 0, 0, 0, 0, 0, 0, 0, 0, 0, 0,\n",
              "       0, 0, 0, 0, 0, 0, 0, 0, 0, 0, 0, 0, 0, 0, 0, 0, 0, 0, 0, 0, 0, 0,\n",
              "       0, 0, 0, 0, 0, 0, 0, 0, 0, 0, 0, 0, 0, 0, 0, 0, 0, 0, 0, 0, 0, 0,\n",
              "       0, 0, 0, 0, 0, 0, 0, 0, 0, 0, 0, 0, 0, 0, 0, 0, 0, 0, 0, 0, 0, 0,\n",
              "       0, 0, 0, 0, 0, 0, 0, 0, 0, 0, 0, 0, 0, 0, 0, 0, 0, 0, 0, 0, 0, 0,\n",
              "       0, 0, 0, 0, 0, 0, 0, 0, 0, 0, 0, 0, 0, 0, 0, 0, 0, 0, 0, 0, 0, 0,\n",
              "       0, 0, 0, 0, 0, 0, 0, 0, 0, 0, 0, 0, 0, 0, 0, 0, 0, 0, 0, 0, 0, 0,\n",
              "       0, 0, 0, 0, 0, 0, 0, 0, 0, 0, 0, 0, 0, 0, 0, 0, 0, 0, 0, 0, 0, 0,\n",
              "       0, 0, 0, 0, 0, 0, 0, 0, 0, 0, 0, 0, 0, 0, 0, 0, 0, 0, 0, 0, 0, 0,\n",
              "       0, 0, 0, 0, 0, 0, 0, 0, 0])"
            ]
          },
          "metadata": {},
          "execution_count": 83
        }
      ]
    },
    {
      "cell_type": "code",
      "source": [
        "le.inverse_transform([0,1])"
      ],
      "metadata": {
        "id": "-HZSY2BqRFLI",
        "outputId": "cf32c16d-cc90-4a98-a00b-74e159ba462f",
        "colab": {
          "base_uri": "https://localhost:8080/"
        }
      },
      "execution_count": 84,
      "outputs": [
        {
          "output_type": "execute_result",
          "data": {
            "text/plain": [
              "array(['QSO', 'star'], dtype=object)"
            ]
          },
          "metadata": {},
          "execution_count": 84
        }
      ]
    },
    {
      "cell_type": "markdown",
      "metadata": {
        "id": "seZZJbZ0A7dk"
      },
      "source": [
        "### task 2: **classify with Decision tree & test accuracy**"
      ]
    },
    {
      "cell_type": "code",
      "metadata": {
        "id": "1TLjQ7rHWeRM"
      },
      "source": [
        "from sklearn.tree import DecisionTreeClassifier\n",
        "from sklearn.model_selection import train_test_split"
      ],
      "execution_count": 85,
      "outputs": []
    },
    {
      "cell_type": "code",
      "metadata": {
        "id": "3R9OArBLAefy"
      },
      "source": [
        "model = DecisionTreeClassifier()\n",
        "\n",
        "X_train, X_test, y_train, y_test = train_test_split(X, y, stratify=y, random_state=420)"
      ],
      "execution_count": 97,
      "outputs": []
    },
    {
      "cell_type": "code",
      "metadata": {
        "colab": {
          "base_uri": "https://localhost:8080/"
        },
        "id": "-6b4RklvAsmm",
        "outputId": "d41a8202-6667-4fc3-f2c8-15d35637af98"
      },
      "source": [
        "model.fit(X_train, y_train)"
      ],
      "execution_count": 98,
      "outputs": [
        {
          "output_type": "execute_result",
          "data": {
            "text/plain": [
              "DecisionTreeClassifier()"
            ]
          },
          "metadata": {},
          "execution_count": 98
        }
      ]
    },
    {
      "cell_type": "code",
      "metadata": {
        "colab": {
          "base_uri": "https://localhost:8080/"
        },
        "id": "RLPt5jOwB2eQ",
        "outputId": "35f6a450-952b-490d-9559-0ff5fe409076"
      },
      "source": [
        "y_pred = model.predict(X_test)\n",
        "sum(y_pred == y_test) / len(y_pred)"
      ],
      "execution_count": 99,
      "outputs": [
        {
          "output_type": "execute_result",
          "data": {
            "text/plain": [
              "0.9493087557603687"
            ]
          },
          "metadata": {},
          "execution_count": 99
        }
      ]
    },
    {
      "cell_type": "code",
      "metadata": {
        "colab": {
          "base_uri": "https://localhost:8080/"
        },
        "id": "nfBlkYhcBKAK",
        "outputId": "cb86b222-4687-4079-e0c1-1cb79ff89f8e"
      },
      "source": [
        "model.score(X_test, y_test)"
      ],
      "execution_count": 100,
      "outputs": [
        {
          "output_type": "execute_result",
          "data": {
            "text/plain": [
              "0.9493087557603687"
            ]
          },
          "metadata": {},
          "execution_count": 100
        }
      ]
    },
    {
      "cell_type": "markdown",
      "source": [
        "### task 3: **try [`classification_report`](https://scikit-learn.org/stable/modules/generated/sklearn.metrics.classification_report.html) and [`ConfusionMatrixDisplay`](https://scikit-learn.org/stable/modules/generated/sklearn.metrics.ConfusionMatrixDisplay.html)**"
      ],
      "metadata": {
        "id": "7u0I4RWtaNJQ"
      }
    },
    {
      "cell_type": "code",
      "metadata": {
        "id": "c57TLC6XBsc-"
      },
      "source": [
        "from sklearn.metrics import classification_report, ConfusionMatrixDisplay"
      ],
      "execution_count": 101,
      "outputs": []
    },
    {
      "cell_type": "code",
      "metadata": {
        "colab": {
          "base_uri": "https://localhost:8080/"
        },
        "id": "hJre5s3OBvKX",
        "outputId": "852aae4f-af9e-4960-a096-fc5a9d539fda"
      },
      "source": [
        "print(classification_report(y_test, y_pred, digits=3))"
      ],
      "execution_count": 102,
      "outputs": [
        {
          "output_type": "stream",
          "name": "stdout",
          "text": [
            "              precision    recall  f1-score   support\n",
            "\n",
            "           0      0.875     0.925     0.899        53\n",
            "           1      0.975     0.957     0.966       164\n",
            "\n",
            "    accuracy                          0.949       217\n",
            "   macro avg      0.925     0.941     0.933       217\n",
            "weighted avg      0.951     0.949     0.950       217\n",
            "\n"
          ]
        }
      ]
    },
    {
      "cell_type": "code",
      "metadata": {
        "colab": {
          "base_uri": "https://localhost:8080/",
          "height": 279
        },
        "id": "oKvnXTkIiw2p",
        "outputId": "26d23fba-69db-4fa3-e501-e77ba3952525"
      },
      "source": [
        "ConfusionMatrixDisplay.from_estimator(model, X_test, y_test, display_labels=[\"QSO\", \"star\"]);"
      ],
      "execution_count": 103,
      "outputs": [
        {
          "output_type": "display_data",
          "data": {
            "text/plain": [
              "<Figure size 432x288 with 2 Axes>"
            ],
            "image/png": "[encoded data removed]"
          },
          "metadata": {
            "needs_background": "light"
          }
        }
      ]
    },
    {
      "cell_type": "markdown",
      "metadata": {
        "id": "l3wPRpSa-0S0"
      },
      "source": [
        "### task 4: **rescale the data -> `X_scaled` & test score**"
      ]
    },
    {
      "cell_type": "code",
      "metadata": {
        "id": "GCbc-uPr--Y7"
      },
      "source": [
        "X_scaled = X.copy()\n",
        "for col in X.columns:\n",
        "    X_scaled[col] = (X[col] - np.mean(X[col])) / np.std(X[col])"
      ],
      "execution_count": 104,
      "outputs": []
    },
    {
      "cell_type": "code",
      "metadata": {
        "colab": {
          "base_uri": "https://localhost:8080/",
          "height": 300
        },
        "id": "A_k473pY_S-t",
        "outputId": "4387ad28-ea03-4dd7-82e4-5dc8b7861b21"
      },
      "source": [
        "X_scaled.describe().round(2)"
      ],
      "execution_count": 105,
      "outputs": [
        {
          "output_type": "execute_result",
          "data": {
            "text/plain": [
              "            u       g       r       i       z\n",
              "count  867.00  867.00  867.00  867.00  867.00\n",
              "mean    -0.00    0.00   -0.00   -0.00   -0.00\n",
              "std      1.00    1.00    1.00    1.00    1.00\n",
              "min     -2.61   -2.86   -2.65   -2.62   -2.59\n",
              "25%     -0.57   -0.66   -0.72   -0.73   -0.73\n",
              "50%      0.03    0.12    0.12    0.11    0.12\n",
              "75%      0.53    0.69    0.77    0.78    0.77\n",
              "max      5.15    5.24    2.52    2.32    2.51"
            ],
            "text/html": [
              "\n",
              "  <div id=\"df-a4c62552-5eb9-4195-b244-f5ec5b1c7142\">\n",
              "    <div class=\"colab-df-container\">\n",
              "      <div>\n",
              "<style scoped>\n",
              "    .dataframe tbody tr th:only-of-type {\n",
              "        vertical-align: middle;\n",
              "    }\n",
              "\n",
              "    .dataframe tbody tr th {\n",
              "        vertical-align: top;\n",
              "    }\n",
              "\n",
              "    .dataframe thead th {\n",
              "        text-align: right;\n",
              "    }\n",
              "</style>\n",
              "<table border=\"1\" class=\"dataframe\">\n",
              "  <thead>\n",
              "    <tr style=\"text-align: right;\">\n",
              "      <th></th>\n",
              "      <th>u</th>\n",
              "      <th>g</th>\n",
              "      <th>r</th>\n",
              "      <th>i</th>\n",
              "      <th>z</th>\n",
              "    </tr>\n",
              "  </thead>\n",
              "  <tbody>\n",
              "    <tr>\n",
              "      <th>count</th>\n",
              "      <td>867.00</td>\n",
              "      <td>867.00</td>\n",
              "      <td>867.00</td>\n",
              "      <td>867.00</td>\n",
              "      <td>867.00</td>\n",
              "    </tr>\n",
              "    <tr>\n",
              "      <th>mean</th>\n",
              "      <td>-0.00</td>\n",
              "      <td>0.00</td>\n",
              "      <td>-0.00</td>\n",
              "      <td>-0.00</td>\n",
              "      <td>-0.00</td>\n",
              "    </tr>\n",
              "    <tr>\n",
              "      <th>std</th>\n",
              "      <td>1.00</td>\n",
              "      <td>1.00</td>\n",
              "      <td>1.00</td>\n",
              "      <td>1.00</td>\n",
              "      <td>1.00</td>\n",
              "    </tr>\n",
              "    <tr>\n",
              "      <th>min</th>\n",
              "      <td>-2.61</td>\n",
              "      <td>-2.86</td>\n",
              "      <td>-2.65</td>\n",
              "      <td>-2.62</td>\n",
              "      <td>-2.59</td>\n",
              "    </tr>\n",
              "    <tr>\n",
              "      <th>25%</th>\n",
              "      <td>-0.57</td>\n",
              "      <td>-0.66</td>\n",
              "      <td>-0.72</td>\n",
              "      <td>-0.73</td>\n",
              "      <td>-0.73</td>\n",
              "    </tr>\n",
              "    <tr>\n",
              "      <th>50%</th>\n",
              "      <td>0.03</td>\n",
              "      <td>0.12</td>\n",
              "      <td>0.12</td>\n",
              "      <td>0.11</td>\n",
              "      <td>0.12</td>\n",
              "    </tr>\n",
              "    <tr>\n",
              "      <th>75%</th>\n",
              "      <td>0.53</td>\n",
              "      <td>0.69</td>\n",
              "      <td>0.77</td>\n",
              "      <td>0.78</td>\n",
              "      <td>0.77</td>\n",
              "    </tr>\n",
              "    <tr>\n",
              "      <th>max</th>\n",
              "      <td>5.15</td>\n",
              "      <td>5.24</td>\n",
              "      <td>2.52</td>\n",
              "      <td>2.32</td>\n",
              "      <td>2.51</td>\n",
              "    </tr>\n",
              "  </tbody>\n",
              "</table>\n",
              "</div>\n",
              "      <button class=\"colab-df-convert\" onclick=\"convertToInteractive('df-a4c62552-5eb9-4195-b244-f5ec5b1c7142')\"\n",
              "              title=\"Convert this dataframe to an interactive table.\"\n",
              "              style=\"display:none;\">\n",
              "        \n",
              "  <svg xmlns=\"http://www.w3.org/2000/svg\" height=\"24px\"viewBox=\"0 0 24 24\"\n",
              "       width=\"24px\">\n",
              "    <path d=\"M0 0h24v24H0V0z\" fill=\"none\"/>\n",
              "    <path d=\"M18.56 5.44l.94 2.06.94-2.06 2.06-.94-2.06-.94-.94-2.06-.94 2.06-2.06.94zm-11 1L8.5 8.5l.94-2.06 2.06-.94-2.06-.94L8.5 2.5l-.94 2.06-2.06.94zm10 10l.94 2.06.94-2.06 2.06-.94-2.06-.94-.94-2.06-.94 2.06-2.06.94z\"/><path d=\"M17.41 7.96l-1.37-1.37c-.4-.4-.92-.59-1.43-.59-.52 0-1.04.2-1.43.59L10.3 9.45l-7.72 7.72c-.78.78-.78 2.05 0 2.83L4 21.41c.39.39.9.59 1.41.59.51 0 1.02-.2 1.41-.59l7.78-7.78 2.81-2.81c.8-.78.8-2.07 0-2.86zM5.41 20L4 18.59l7.72-7.72 1.47 1.35L5.41 20z\"/>\n",
              "  </svg>\n",
              "      </button>\n",
              "      \n",
              "  <style>\n",
              "    .colab-df-container {\n",
              "      display:flex;\n",
              "      flex-wrap:wrap;\n",
              "      gap: 12px;\n",
              "    }\n",
              "\n",
              "    .colab-df-convert {\n",
              "      background-color: #E8F0FE;\n",
              "      border: none;\n",
              "      border-radius: 50%;\n",
              "      cursor: pointer;\n",
              "      display: none;\n",
              "      fill: #1967D2;\n",
              "      height: 32px;\n",
              "      padding: 0 0 0 0;\n",
              "      width: 32px;\n",
              "    }\n",
              "\n",
              "    .colab-df-convert:hover {\n",
              "      background-color: #E2EBFA;\n",
              "      box-shadow: 0px 1px 2px rgba(60, 64, 67, 0.3), 0px 1px 3px 1px rgba(60, 64, 67, 0.15);\n",
              "      fill: #174EA6;\n",
              "    }\n",
              "\n",
              "    [theme=dark] .colab-df-convert {\n",
              "      background-color: #3B4455;\n",
              "      fill: #D2E3FC;\n",
              "    }\n",
              "\n",
              "    [theme=dark] .colab-df-convert:hover {\n",
              "      background-color: #434B5C;\n",
              "      box-shadow: 0px 1px 3px 1px rgba(0, 0, 0, 0.15);\n",
              "      filter: drop-shadow(0px 1px 2px rgba(0, 0, 0, 0.3));\n",
              "      fill: #FFFFFF;\n",
              "    }\n",
              "  </style>\n",
              "\n",
              "      <script>\n",
              "        const buttonEl =\n",
              "          document.querySelector('#df-a4c62552-5eb9-4195-b244-f5ec5b1c7142 button.colab-df-convert');\n",
              "        buttonEl.style.display =\n",
              "          google.colab.kernel.accessAllowed ? 'block' : 'none';\n",
              "\n",
              "        async function convertToInteractive(key) {\n",
              "          const element = document.querySelector('#df-a4c62552-5eb9-4195-b244-f5ec5b1c7142');\n",
              "          const dataTable =\n",
              "            await google.colab.kernel.invokeFunction('convertToInteractive',\n",
              "                                                     [key], {});\n",
              "          if (!dataTable) return;\n",
              "\n",
              "          const docLinkHtml = 'Like what you see? Visit the ' +\n",
              "            '<a target=\"_blank\" href=https://colab.research.google.com/notebooks/data_table.ipynb>data table notebook</a>'\n",
              "            + ' to learn more about interactive tables.';\n",
              "          element.innerHTML = '';\n",
              "          dataTable['output_type'] = 'display_data';\n",
              "          await google.colab.output.renderOutput(dataTable, element);\n",
              "          const docLink = document.createElement('div');\n",
              "          docLink.innerHTML = docLinkHtml;\n",
              "          element.appendChild(docLink);\n",
              "        }\n",
              "      </script>\n",
              "    </div>\n",
              "  </div>\n",
              "  "
            ]
          },
          "metadata": {},
          "execution_count": 105
        }
      ]
    },
    {
      "cell_type": "code",
      "metadata": {
        "colab": {
          "base_uri": "https://localhost:8080/",
          "height": 300
        },
        "id": "CWBDavYmVNdp",
        "outputId": "3a8700d0-35b3-4efa-d1aa-fba6efe716fa"
      },
      "source": [
        "from sklearn.preprocessing import StandardScaler\n",
        "\n",
        "X_scaled = StandardScaler().fit_transform(X)\n",
        "X_scaled = pd.DataFrame(data=X_scaled, columns=X.columns)\n",
        "X_scaled.describe().round(2)"
      ],
      "execution_count": 106,
      "outputs": [
        {
          "output_type": "execute_result",
          "data": {
            "text/plain": [
              "            u       g       r       i       z\n",
              "count  867.00  867.00  867.00  867.00  867.00\n",
              "mean    -0.00    0.00   -0.00   -0.00   -0.00\n",
              "std      1.00    1.00    1.00    1.00    1.00\n",
              "min     -2.61   -2.86   -2.65   -2.62   -2.59\n",
              "25%     -0.57   -0.66   -0.72   -0.73   -0.73\n",
              "50%      0.03    0.12    0.12    0.11    0.12\n",
              "75%      0.53    0.69    0.77    0.78    0.77\n",
              "max      5.15    5.24    2.52    2.32    2.51"
            ],
            "text/html": [
              "\n",
              "  <div id=\"df-da114410-9a77-42f7-8752-344693448d4b\">\n",
              "    <div class=\"colab-df-container\">\n",
              "      <div>\n",
              "<style scoped>\n",
              "    .dataframe tbody tr th:only-of-type {\n",
              "        vertical-align: middle;\n",
              "    }\n",
              "\n",
              "    .dataframe tbody tr th {\n",
              "        vertical-align: top;\n",
              "    }\n",
              "\n",
              "    .dataframe thead th {\n",
              "        text-align: right;\n",
              "    }\n",
              "</style>\n",
              "<table border=\"1\" class=\"dataframe\">\n",
              "  <thead>\n",
              "    <tr style=\"text-align: right;\">\n",
              "      <th></th>\n",
              "      <th>u</th>\n",
              "      <th>g</th>\n",
              "      <th>r</th>\n",
              "      <th>i</th>\n",
              "      <th>z</th>\n",
              "    </tr>\n",
              "  </thead>\n",
              "  <tbody>\n",
              "    <tr>\n",
              "      <th>count</th>\n",
              "      <td>867.00</td>\n",
              "      <td>867.00</td>\n",
              "      <td>867.00</td>\n",
              "      <td>867.00</td>\n",
              "      <td>867.00</td>\n",
              "    </tr>\n",
              "    <tr>\n",
              "      <th>mean</th>\n",
              "      <td>-0.00</td>\n",
              "      <td>0.00</td>\n",
              "      <td>-0.00</td>\n",
              "      <td>-0.00</td>\n",
              "      <td>-0.00</td>\n",
              "    </tr>\n",
              "    <tr>\n",
              "      <th>std</th>\n",
              "      <td>1.00</td>\n",
              "      <td>1.00</td>\n",
              "      <td>1.00</td>\n",
              "      <td>1.00</td>\n",
              "      <td>1.00</td>\n",
              "    </tr>\n",
              "    <tr>\n",
              "      <th>min</th>\n",
              "      <td>-2.61</td>\n",
              "      <td>-2.86</td>\n",
              "      <td>-2.65</td>\n",
              "      <td>-2.62</td>\n",
              "      <td>-2.59</td>\n",
              "    </tr>\n",
              "    <tr>\n",
              "      <th>25%</th>\n",
              "      <td>-0.57</td>\n",
              "      <td>-0.66</td>\n",
              "      <td>-0.72</td>\n",
              "      <td>-0.73</td>\n",
              "      <td>-0.73</td>\n",
              "    </tr>\n",
              "    <tr>\n",
              "      <th>50%</th>\n",
              "      <td>0.03</td>\n",
              "      <td>0.12</td>\n",
              "      <td>0.12</td>\n",
              "      <td>0.11</td>\n",
              "      <td>0.12</td>\n",
              "    </tr>\n",
              "    <tr>\n",
              "      <th>75%</th>\n",
              "      <td>0.53</td>\n",
              "      <td>0.69</td>\n",
              "      <td>0.77</td>\n",
              "      <td>0.78</td>\n",
              "      <td>0.77</td>\n",
              "    </tr>\n",
              "    <tr>\n",
              "      <th>max</th>\n",
              "      <td>5.15</td>\n",
              "      <td>5.24</td>\n",
              "      <td>2.52</td>\n",
              "      <td>2.32</td>\n",
              "      <td>2.51</td>\n",
              "    </tr>\n",
              "  </tbody>\n",
              "</table>\n",
              "</div>\n",
              "      <button class=\"colab-df-convert\" onclick=\"convertToInteractive('df-da114410-9a77-42f7-8752-344693448d4b')\"\n",
              "              title=\"Convert this dataframe to an interactive table.\"\n",
              "              style=\"display:none;\">\n",
              "        \n",
              "  <svg xmlns=\"http://www.w3.org/2000/svg\" height=\"24px\"viewBox=\"0 0 24 24\"\n",
              "       width=\"24px\">\n",
              "    <path d=\"M0 0h24v24H0V0z\" fill=\"none\"/>\n",
              "    <path d=\"M18.56 5.44l.94 2.06.94-2.06 2.06-.94-2.06-.94-.94-2.06-.94 2.06-2.06.94zm-11 1L8.5 8.5l.94-2.06 2.06-.94-2.06-.94L8.5 2.5l-.94 2.06-2.06.94zm10 10l.94 2.06.94-2.06 2.06-.94-2.06-.94-.94-2.06-.94 2.06-2.06.94z\"/><path d=\"M17.41 7.96l-1.37-1.37c-.4-.4-.92-.59-1.43-.59-.52 0-1.04.2-1.43.59L10.3 9.45l-7.72 7.72c-.78.78-.78 2.05 0 2.83L4 21.41c.39.39.9.59 1.41.59.51 0 1.02-.2 1.41-.59l7.78-7.78 2.81-2.81c.8-.78.8-2.07 0-2.86zM5.41 20L4 18.59l7.72-7.72 1.47 1.35L5.41 20z\"/>\n",
              "  </svg>\n",
              "      </button>\n",
              "      \n",
              "  <style>\n",
              "    .colab-df-container {\n",
              "      display:flex;\n",
              "      flex-wrap:wrap;\n",
              "      gap: 12px;\n",
              "    }\n",
              "\n",
              "    .colab-df-convert {\n",
              "      background-color: #E8F0FE;\n",
              "      border: none;\n",
              "      border-radius: 50%;\n",
              "      cursor: pointer;\n",
              "      display: none;\n",
              "      fill: #1967D2;\n",
              "      height: 32px;\n",
              "      padding: 0 0 0 0;\n",
              "      width: 32px;\n",
              "    }\n",
              "\n",
              "    .colab-df-convert:hover {\n",
              "      background-color: #E2EBFA;\n",
              "      box-shadow: 0px 1px 2px rgba(60, 64, 67, 0.3), 0px 1px 3px 1px rgba(60, 64, 67, 0.15);\n",
              "      fill: #174EA6;\n",
              "    }\n",
              "\n",
              "    [theme=dark] .colab-df-convert {\n",
              "      background-color: #3B4455;\n",
              "      fill: #D2E3FC;\n",
              "    }\n",
              "\n",
              "    [theme=dark] .colab-df-convert:hover {\n",
              "      background-color: #434B5C;\n",
              "      box-shadow: 0px 1px 3px 1px rgba(0, 0, 0, 0.15);\n",
              "      filter: drop-shadow(0px 1px 2px rgba(0, 0, 0, 0.3));\n",
              "      fill: #FFFFFF;\n",
              "    }\n",
              "  </style>\n",
              "\n",
              "      <script>\n",
              "        const buttonEl =\n",
              "          document.querySelector('#df-da114410-9a77-42f7-8752-344693448d4b button.colab-df-convert');\n",
              "        buttonEl.style.display =\n",
              "          google.colab.kernel.accessAllowed ? 'block' : 'none';\n",
              "\n",
              "        async function convertToInteractive(key) {\n",
              "          const element = document.querySelector('#df-da114410-9a77-42f7-8752-344693448d4b');\n",
              "          const dataTable =\n",
              "            await google.colab.kernel.invokeFunction('convertToInteractive',\n",
              "                                                     [key], {});\n",
              "          if (!dataTable) return;\n",
              "\n",
              "          const docLinkHtml = 'Like what you see? Visit the ' +\n",
              "            '<a target=\"_blank\" href=https://colab.research.google.com/notebooks/data_table.ipynb>data table notebook</a>'\n",
              "            + ' to learn more about interactive tables.';\n",
              "          element.innerHTML = '';\n",
              "          dataTable['output_type'] = 'display_data';\n",
              "          await google.colab.output.renderOutput(dataTable, element);\n",
              "          const docLink = document.createElement('div');\n",
              "          docLink.innerHTML = docLinkHtml;\n",
              "          element.appendChild(docLink);\n",
              "        }\n",
              "      </script>\n",
              "    </div>\n",
              "  </div>\n",
              "  "
            ]
          },
          "metadata": {},
          "execution_count": 106
        }
      ]
    },
    {
      "cell_type": "code",
      "metadata": {
        "colab": {
          "base_uri": "https://localhost:8080/"
        },
        "id": "sR86rx_BVNgT",
        "outputId": "c507949d-9996-47c6-f0d5-98df6369d71b"
      },
      "source": [
        "from sklearn.pipeline import make_pipeline\n",
        "\n",
        "model = make_pipeline(StandardScaler(),\n",
        "                      DecisionTreeClassifier())\n",
        "\n",
        "model.fit(X_train, y_train)\n",
        "\n",
        "model.score(X_test, y_test)"
      ],
      "execution_count": 107,
      "outputs": [
        {
          "output_type": "execute_result",
          "data": {
            "text/plain": [
              "0.9585253456221198"
            ]
          },
          "metadata": {},
          "execution_count": 107
        }
      ]
    },
    {
      "cell_type": "markdown",
      "metadata": {
        "id": "4uNyaEwaTLas"
      },
      "source": [
        "## **Feature selection & dimensionality reduction**"
      ]
    },
    {
      "cell_type": "code",
      "metadata": {
        "id": "r5MWCPJSq0vE"
      },
      "source": [
        "from sklearn.ensemble import ExtraTreesClassifier"
      ],
      "execution_count": 108,
      "outputs": []
    },
    {
      "cell_type": "code",
      "metadata": {
        "colab": {
          "base_uri": "https://localhost:8080/"
        },
        "id": "o3r_-qzCq03O",
        "outputId": "c0975c3f-ba8e-4ab5-aaee-6a342be7943f"
      },
      "source": [
        "clf = ExtraTreesClassifier(random_state=42).fit(X,y)\n",
        "clf.feature_importances_"
      ],
      "execution_count": 109,
      "outputs": [
        {
          "output_type": "execute_result",
          "data": {
            "text/plain": [
              "array([0.29715325, 0.11687197, 0.21442021, 0.19203806, 0.17951651])"
            ]
          },
          "metadata": {},
          "execution_count": 109
        }
      ]
    },
    {
      "cell_type": "code",
      "metadata": {
        "id": "SLpvL6JS43Ls",
        "colab": {
          "base_uri": "https://localhost:8080/",
          "height": 265
        },
        "outputId": "f05b6237-4a67-417b-e959-4e01c5641359"
      },
      "source": [
        "plt.bar(np.arange(5), clf.feature_importances_, 0.5)\n",
        "plt.xticks(np.arange(5), X.columns);"
      ],
      "execution_count": 110,
      "outputs": [
        {
          "output_type": "display_data",
          "data": {
            "text/plain": [
              "<Figure size 432x288 with 1 Axes>"
            ],
            "image/png": "[encoded data removed]"
          },
          "metadata": {
            "needs_background": "light"
          }
        }
      ]
    },
    {
      "cell_type": "markdown",
      "metadata": {
        "id": "9E7QvHcTbYcm"
      },
      "source": [
        "#### task 5: **calculate spectral indices & test importance**\n",
        "\n"
      ]
    },
    {
      "cell_type": "code",
      "metadata": {
        "colab": {
          "base_uri": "https://localhost:8080/",
          "height": 424
        },
        "id": "MZfoAJA1rmRz",
        "outputId": "b0dcfb02-5cd7-4618-d591-3845e6394bd6"
      },
      "source": [
        "X[\"u-g\"] = X.u - X.g\n",
        "X[\"u-r\"] = X.u - X.r\n",
        "X[\"u-z\"] = X.u - X.z\n",
        "X[\"i-z\"] = X.i - X.z\n",
        "\n",
        "X"
      ],
      "execution_count": 118,
      "outputs": [
        {
          "output_type": "execute_result",
          "data": {
            "text/plain": [
              "             u          g          r          i          z       u-g  \\\n",
              "0    19.240999  17.525999  16.840000  16.613001  16.492001  1.715000   \n",
              "1    19.732000  18.339001  17.767000  17.580000  17.481001  1.393000   \n",
              "2    16.120001  15.232000  14.933000  14.845000  14.827000  0.888000   \n",
              "3    18.995001  18.150999  17.877001  17.747000  17.766001  0.844002   \n",
              "4    19.032000  18.112000  17.848000  17.709999  17.712000  0.920000   \n",
              "..         ...        ...        ...        ...        ...       ...   \n",
              "862  19.247000  19.047001  18.663000  18.627001  18.671000  0.199999   \n",
              "863  26.433001  21.429001  20.261000  20.108000  20.073000  5.004000   \n",
              "864  20.535999  20.200001  20.292999  19.910000  19.726000  0.335999   \n",
              "865  20.627001  20.583000  20.270000  20.229000  20.190001  0.044001   \n",
              "866  19.431000  19.228001  18.794001  18.791000  18.923000  0.202999   \n",
              "\n",
              "          u-r       u-z       i-z  \n",
              "0    2.400999  2.748999  0.121000  \n",
              "1    1.965000  2.250999  0.098999  \n",
              "2    1.187001  1.293001  0.018001  \n",
              "3    1.118000  1.229000 -0.019001  \n",
              "4    1.184000  1.320000 -0.002001  \n",
              "..        ...       ...       ...  \n",
              "862  0.584000  0.576000 -0.043999  \n",
              "863  6.172001  6.360001  0.035000  \n",
              "864  0.243000  0.809999  0.184000  \n",
              "865  0.357000  0.437000  0.039000  \n",
              "866  0.636999  0.507999 -0.132000  \n",
              "\n",
              "[867 rows x 9 columns]"
            ],
            "text/html": [
              "\n",
              "  <div id=\"df-86e732e3-6979-40f4-92cd-337b403df9a9\">\n",
              "    <div class=\"colab-df-container\">\n",
              "      <div>\n",
              "<style scoped>\n",
              "    .dataframe tbody tr th:only-of-type {\n",
              "        vertical-align: middle;\n",
              "    }\n",
              "\n",
              "    .dataframe tbody tr th {\n",
              "        vertical-align: top;\n",
              "    }\n",
              "\n",
              "    .dataframe thead th {\n",
              "        text-align: right;\n",
              "    }\n",
              "</style>\n",
              "<table border=\"1\" class=\"dataframe\">\n",
              "  <thead>\n",
              "    <tr style=\"text-align: right;\">\n",
              "      <th></th>\n",
              "      <th>u</th>\n",
              "      <th>g</th>\n",
              "      <th>r</th>\n",
              "      <th>i</th>\n",
              "      <th>z</th>\n",
              "      <th>u-g</th>\n",
              "      <th>u-r</th>\n",
              "      <th>u-z</th>\n",
              "      <th>i-z</th>\n",
              "    </tr>\n",
              "  </thead>\n",
              "  <tbody>\n",
              "    <tr>\n",
              "      <th>0</th>\n",
              "      <td>19.240999</td>\n",
              "      <td>17.525999</td>\n",
              "      <td>16.840000</td>\n",
              "      <td>16.613001</td>\n",
              "      <td>16.492001</td>\n",
              "      <td>1.715000</td>\n",
              "      <td>2.400999</td>\n",
              "      <td>2.748999</td>\n",
              "      <td>0.121000</td>\n",
              "    </tr>\n",
              "    <tr>\n",
              "      <th>1</th>\n",
              "      <td>19.732000</td>\n",
              "      <td>18.339001</td>\n",
              "      <td>17.767000</td>\n",
              "      <td>17.580000</td>\n",
              "      <td>17.481001</td>\n",
              "      <td>1.393000</td>\n",
              "      <td>1.965000</td>\n",
              "      <td>2.250999</td>\n",
              "      <td>0.098999</td>\n",
              "    </tr>\n",
              "    <tr>\n",
              "      <th>2</th>\n",
              "      <td>16.120001</td>\n",
              "      <td>15.232000</td>\n",
              "      <td>14.933000</td>\n",
              "      <td>14.845000</td>\n",
              "      <td>14.827000</td>\n",
              "      <td>0.888000</td>\n",
              "      <td>1.187001</td>\n",
              "      <td>1.293001</td>\n",
              "      <td>0.018001</td>\n",
              "    </tr>\n",
              "    <tr>\n",
              "      <th>3</th>\n",
              "      <td>18.995001</td>\n",
              "      <td>18.150999</td>\n",
              "      <td>17.877001</td>\n",
              "      <td>17.747000</td>\n",
              "      <td>17.766001</td>\n",
              "      <td>0.844002</td>\n",
              "      <td>1.118000</td>\n",
              "      <td>1.229000</td>\n",
              "      <td>-0.019001</td>\n",
              "    </tr>\n",
              "    <tr>\n",
              "      <th>4</th>\n",
              "      <td>19.032000</td>\n",
              "      <td>18.112000</td>\n",
              "      <td>17.848000</td>\n",
              "      <td>17.709999</td>\n",
              "      <td>17.712000</td>\n",
              "      <td>0.920000</td>\n",
              "      <td>1.184000</td>\n",
              "      <td>1.320000</td>\n",
              "      <td>-0.002001</td>\n",
              "    </tr>\n",
              "    <tr>\n",
              "      <th>...</th>\n",
              "      <td>...</td>\n",
              "      <td>...</td>\n",
              "      <td>...</td>\n",
              "      <td>...</td>\n",
              "      <td>...</td>\n",
              "      <td>...</td>\n",
              "      <td>...</td>\n",
              "      <td>...</td>\n",
              "      <td>...</td>\n",
              "    </tr>\n",
              "    <tr>\n",
              "      <th>862</th>\n",
              "      <td>19.247000</td>\n",
              "      <td>19.047001</td>\n",
              "      <td>18.663000</td>\n",
              "      <td>18.627001</td>\n",
              "      <td>18.671000</td>\n",
              "      <td>0.199999</td>\n",
              "      <td>0.584000</td>\n",
              "      <td>0.576000</td>\n",
              "      <td>-0.043999</td>\n",
              "    </tr>\n",
              "    <tr>\n",
              "      <th>863</th>\n",
              "      <td>26.433001</td>\n",
              "      <td>21.429001</td>\n",
              "      <td>20.261000</td>\n",
              "      <td>20.108000</td>\n",
              "      <td>20.073000</td>\n",
              "      <td>5.004000</td>\n",
              "      <td>6.172001</td>\n",
              "      <td>6.360001</td>\n",
              "      <td>0.035000</td>\n",
              "    </tr>\n",
              "    <tr>\n",
              "      <th>864</th>\n",
              "      <td>20.535999</td>\n",
              "      <td>20.200001</td>\n",
              "      <td>20.292999</td>\n",
              "      <td>19.910000</td>\n",
              "      <td>19.726000</td>\n",
              "      <td>0.335999</td>\n",
              "      <td>0.243000</td>\n",
              "      <td>0.809999</td>\n",
              "      <td>0.184000</td>\n",
              "    </tr>\n",
              "    <tr>\n",
              "      <th>865</th>\n",
              "      <td>20.627001</td>\n",
              "      <td>20.583000</td>\n",
              "      <td>20.270000</td>\n",
              "      <td>20.229000</td>\n",
              "      <td>20.190001</td>\n",
              "      <td>0.044001</td>\n",
              "      <td>0.357000</td>\n",
              "      <td>0.437000</td>\n",
              "      <td>0.039000</td>\n",
              "    </tr>\n",
              "    <tr>\n",
              "      <th>866</th>\n",
              "      <td>19.431000</td>\n",
              "      <td>19.228001</td>\n",
              "      <td>18.794001</td>\n",
              "      <td>18.791000</td>\n",
              "      <td>18.923000</td>\n",
              "      <td>0.202999</td>\n",
              "      <td>0.636999</td>\n",
              "      <td>0.507999</td>\n",
              "      <td>-0.132000</td>\n",
              "    </tr>\n",
              "  </tbody>\n",
              "</table>\n",
              "<p>867 rows × 9 columns</p>\n",
              "</div>\n",
              "      <button class=\"colab-df-convert\" onclick=\"convertToInteractive('df-86e732e3-6979-40f4-92cd-337b403df9a9')\"\n",
              "              title=\"Convert this dataframe to an interactive table.\"\n",
              "              style=\"display:none;\">\n",
              "        \n",
              "  <svg xmlns=\"http://www.w3.org/2000/svg\" height=\"24px\"viewBox=\"0 0 24 24\"\n",
              "       width=\"24px\">\n",
              "    <path d=\"M0 0h24v24H0V0z\" fill=\"none\"/>\n",
              "    <path d=\"M18.56 5.44l.94 2.06.94-2.06 2.06-.94-2.06-.94-.94-2.06-.94 2.06-2.06.94zm-11 1L8.5 8.5l.94-2.06 2.06-.94-2.06-.94L8.5 2.5l-.94 2.06-2.06.94zm10 10l.94 2.06.94-2.06 2.06-.94-2.06-.94-.94-2.06-.94 2.06-2.06.94z\"/><path d=\"M17.41 7.96l-1.37-1.37c-.4-.4-.92-.59-1.43-.59-.52 0-1.04.2-1.43.59L10.3 9.45l-7.72 7.72c-.78.78-.78 2.05 0 2.83L4 21.41c.39.39.9.59 1.41.59.51 0 1.02-.2 1.41-.59l7.78-7.78 2.81-2.81c.8-.78.8-2.07 0-2.86zM5.41 20L4 18.59l7.72-7.72 1.47 1.35L5.41 20z\"/>\n",
              "  </svg>\n",
              "      </button>\n",
              "      \n",
              "  <style>\n",
              "    .colab-df-container {\n",
              "      display:flex;\n",
              "      flex-wrap:wrap;\n",
              "      gap: 12px;\n",
              "    }\n",
              "\n",
              "    .colab-df-convert {\n",
              "      background-color: #E8F0FE;\n",
              "      border: none;\n",
              "      border-radius: 50%;\n",
              "      cursor: pointer;\n",
              "      display: none;\n",
              "      fill: #1967D2;\n",
              "      height: 32px;\n",
              "      padding: 0 0 0 0;\n",
              "      width: 32px;\n",
              "    }\n",
              "\n",
              "    .colab-df-convert:hover {\n",
              "      background-color: #E2EBFA;\n",
              "      box-shadow: 0px 1px 2px rgba(60, 64, 67, 0.3), 0px 1px 3px 1px rgba(60, 64, 67, 0.15);\n",
              "      fill: #174EA6;\n",
              "    }\n",
              "\n",
              "    [theme=dark] .colab-df-convert {\n",
              "      background-color: #3B4455;\n",
              "      fill: #D2E3FC;\n",
              "    }\n",
              "\n",
              "    [theme=dark] .colab-df-convert:hover {\n",
              "      background-color: #434B5C;\n",
              "      box-shadow: 0px 1px 3px 1px rgba(0, 0, 0, 0.15);\n",
              "      filter: drop-shadow(0px 1px 2px rgba(0, 0, 0, 0.3));\n",
              "      fill: #FFFFFF;\n",
              "    }\n",
              "  </style>\n",
              "\n",
              "      <script>\n",
              "        const buttonEl =\n",
              "          document.querySelector('#df-86e732e3-6979-40f4-92cd-337b403df9a9 button.colab-df-convert');\n",
              "        buttonEl.style.display =\n",
              "          google.colab.kernel.accessAllowed ? 'block' : 'none';\n",
              "\n",
              "        async function convertToInteractive(key) {\n",
              "          const element = document.querySelector('#df-86e732e3-6979-40f4-92cd-337b403df9a9');\n",
              "          const dataTable =\n",
              "            await google.colab.kernel.invokeFunction('convertToInteractive',\n",
              "                                                     [key], {});\n",
              "          if (!dataTable) return;\n",
              "\n",
              "          const docLinkHtml = 'Like what you see? Visit the ' +\n",
              "            '<a target=\"_blank\" href=https://colab.research.google.com/notebooks/data_table.ipynb>data table notebook</a>'\n",
              "            + ' to learn more about interactive tables.';\n",
              "          element.innerHTML = '';\n",
              "          dataTable['output_type'] = 'display_data';\n",
              "          await google.colab.output.renderOutput(dataTable, element);\n",
              "          const docLink = document.createElement('div');\n",
              "          docLink.innerHTML = docLinkHtml;\n",
              "          element.appendChild(docLink);\n",
              "        }\n",
              "      </script>\n",
              "    </div>\n",
              "  </div>\n",
              "  "
            ]
          },
          "metadata": {},
          "execution_count": 118
        }
      ]
    },
    {
      "cell_type": "code",
      "metadata": {
        "colab": {
          "base_uri": "https://localhost:8080/",
          "height": 265
        },
        "id": "Nj0_n3aJrmUs",
        "outputId": "9fc128cb-dd62-4c24-fb61-6d12ca14065e"
      },
      "source": [
        "clf = ExtraTreesClassifier(random_state=42).fit(X,y)\n",
        "plt.bar(np.arange(X.columns.size), clf.feature_importances_, 0.5)\n",
        "plt.xticks(np.arange(X.columns.size), X.columns);"
      ],
      "execution_count": 120,
      "outputs": [
        {
          "output_type": "display_data",
          "data": {
            "text/plain": [
              "<Figure size 432x288 with 1 Axes>"
            ],
            "image/png": "[encoded data removed]"
          },
          "metadata": {
            "needs_background": "light"
          }
        }
      ]
    },
    {
      "cell_type": "markdown",
      "metadata": {
        "id": "7Vsu9gRdl8ba"
      },
      "source": [
        "#### task 6: **test score if *u-r* spectral index is used**"
      ]
    },
    {
      "cell_type": "code",
      "metadata": {
        "colab": {
          "base_uri": "https://localhost:8080/"
        },
        "id": "-Z3PTCanGYKf",
        "outputId": "6b9ff15e-e85b-433b-c791-4bfc559e72cc"
      },
      "source": [
        "X_train, X_test, y_train, y_test = train_test_split(X[[\"u-r\"]], y, stratify=y, random_state=42)\n",
        "\n",
        "model.fit(X_train, y_train)\n",
        "\n",
        "model.score(X_test, y_test)"
      ],
      "execution_count": 123,
      "outputs": [
        {
          "output_type": "execute_result",
          "data": {
            "text/plain": [
              "0.9354838709677419"
            ]
          },
          "metadata": {},
          "execution_count": 123
        }
      ]
    },
    {
      "cell_type": "markdown",
      "metadata": {
        "id": "1ud7hKL_GYKe"
      },
      "source": [
        "#### task 7: **create dummy column & test importance**"
      ]
    },
    {
      "cell_type": "code",
      "metadata": {
        "id": "yjkNN6d4SuYn"
      },
      "source": [
        "X_new3 = X.copy()\n",
        "\n",
        "X_new3[\"dummy\"] = np.random.normal(0, 1, size=len(X.r))\n",
        "X_new3[\"dummy2\"] = np.ones_like(X.r)"
      ],
      "execution_count": null,
      "outputs": []
    },
    {
      "cell_type": "code",
      "metadata": {
        "id": "zXukq-8HGYKe"
      },
      "source": [
        "clf = ExtraTreesClassifier().fit(X_new3,y)\n",
        "plt.bar(np.arange(len(X_new3.columns)), clf.feature_importances_, 0.5)\n",
        "plt.xticks(np.arange(len(X_new3.columns)), X_new3.columns);"
      ],
      "execution_count": null,
      "outputs": []
    },
    {
      "cell_type": "code",
      "metadata": {
        "id": "u7Ou9OCHl2wR"
      },
      "source": [
        "X_new3 = X.copy()\n",
        "\n",
        "X_new3[\"dummy\"] = np.random.normal(0, 1, size=len(X.r))\n",
        "X_new3[\"dummy2\"] = np.ones_like(X.r)\n",
        "\n",
        "clf = ExtraTreesClassifier().fit(X_new3,y)\n",
        "plt.bar(np.arange(len(X_new3.columns)), clf.feature_importances_, 0.5)\n",
        "plt.xticks(np.arange(len(X_new3.columns)), X_new3.columns);"
      ],
      "execution_count": null,
      "outputs": []
    },
    {
      "cell_type": "code",
      "metadata": {
        "id": "twqvduOy1E63"
      },
      "source": [
        "X_train, X_test, y_train, y_test = train_test_split(X_new3[[\"dummy\"]], y, \n",
        "                                                    stratify=y, \n",
        "                                                    random_state=0)\n",
        "\n",
        "model.fit(X_train, y_train)\n",
        "\n",
        "model.score(X_test, y_test)"
      ],
      "execution_count": null,
      "outputs": []
    },
    {
      "cell_type": "code",
      "metadata": {
        "id": "o3GUkeHW_oIw"
      },
      "source": [
        "sum(data[\"target\"] == \"star\") / len(y), sum(data[\"target\"] == \"QSO\") / len(y)"
      ],
      "execution_count": null,
      "outputs": []
    },
    {
      "cell_type": "markdown",
      "metadata": {
        "id": "kNQwj_5FmPYF"
      },
      "source": [
        "### **Principal component analysis**"
      ]
    },
    {
      "cell_type": "code",
      "metadata": {
        "id": "InxyTPHuGYKa"
      },
      "source": [
        "from sklearn.decomposition import PCA\n",
        "\n",
        "pca = PCA(n_components=3)\n",
        "X_n = pca.fit_transform(X)"
      ],
      "execution_count": null,
      "outputs": []
    },
    {
      "cell_type": "code",
      "metadata": {
        "id": "dFrr051pGYKb"
      },
      "source": [
        "plt.plot(X.u, X.g, \".\")\n",
        "plt.plot(X_n[:,0], X_n[:,1], \".\")"
      ],
      "execution_count": null,
      "outputs": []
    },
    {
      "cell_type": "code",
      "metadata": {
        "id": "BuDSwwTDmTSC"
      },
      "source": [
        "X_train, X_test, y_train, y_test = train_test_split(X_n, y, \n",
        "                                                    stratify=y, \n",
        "                                                    random_state=42)\n",
        "\n",
        "model.fit(X_train, y_train)\n",
        "\n",
        "model.score(X_test, y_test)"
      ],
      "execution_count": null,
      "outputs": []
    },
    {
      "cell_type": "markdown",
      "metadata": {
        "id": "hfzrKed1GYKf"
      },
      "source": [
        "## **Tuning hyperparameters**"
      ]
    },
    {
      "cell_type": "code",
      "metadata": {
        "scrolled": true,
        "id": "y8XOCnR-GYKg"
      },
      "source": [
        "SVC?"
      ],
      "execution_count": null,
      "outputs": []
    },
    {
      "cell_type": "markdown",
      "metadata": {
        "id": "0PYW9nkuGYKh"
      },
      "source": [
        "#### task 8: **find SVC hyperparameters with best test score**"
      ]
    },
    {
      "cell_type": "code",
      "metadata": {
        "id": "Xvaxj20ZGYKh"
      },
      "source": [
        "def classify(X, y, classifier):\n",
        "    model = make_pipeline(StandardScaler(),\n",
        "                          classifier)\n",
        "\n",
        "    X_train, X_test, y_train, y_test = train_test_split(X, y, stratify=y, random_state=42)\n",
        "\n",
        "    model.fit(X_train, y_train)\n",
        "    y_pred = model.predict(X_test)\n",
        "    print(model.score(X_test, y_test).round(3))"
      ],
      "execution_count": null,
      "outputs": []
    },
    {
      "cell_type": "code",
      "metadata": {
        "id": "F-6ACW9fGYKi"
      },
      "source": [
        "classify(X, y, SVC(kernel=\"linear\"))"
      ],
      "execution_count": null,
      "outputs": []
    },
    {
      "cell_type": "code",
      "metadata": {
        "id": "GfPZIkZYGYKi"
      },
      "source": [
        "classify(X, y, SVC(kernel=\"linear\", C=10))"
      ],
      "execution_count": null,
      "outputs": []
    },
    {
      "cell_type": "code",
      "metadata": {
        "id": "gG1kpotXGYKj"
      },
      "source": [
        "classify(X, y, SVC(kernel=\"linear\", C=0.1))"
      ],
      "execution_count": null,
      "outputs": []
    },
    {
      "cell_type": "code",
      "metadata": {
        "id": "lLb81etQGYKj"
      },
      "source": [
        "classify(X, y, SVC(kernel=\"poly\", degree=1))"
      ],
      "execution_count": null,
      "outputs": []
    },
    {
      "cell_type": "code",
      "metadata": {
        "id": "-5WE1CLyGYKj"
      },
      "source": [
        "classify(X, y, SVC(kernel=\"rbf\", C=100))"
      ],
      "execution_count": null,
      "outputs": []
    },
    {
      "cell_type": "markdown",
      "metadata": {
        "id": "teq3fSl7GYKk"
      },
      "source": [
        "## **Cross-validation**"
      ]
    },
    {
      "cell_type": "code",
      "metadata": {
        "id": "46i2meaYGYKk"
      },
      "source": [
        "from sklearn.model_selection import cross_validate"
      ],
      "execution_count": null,
      "outputs": []
    },
    {
      "cell_type": "code",
      "metadata": {
        "id": "J5dKswVZGYKl"
      },
      "source": [
        "model = SVC(kernel=\"rbf\", C=1000)\n",
        "\n",
        "res = cross_validate(model, X, y, cv=10)\n",
        "\n",
        "np.mean(res[\"test_score\"]), np.std(res[\"test_score\"])"
      ],
      "execution_count": null,
      "outputs": []
    },
    {
      "cell_type": "markdown",
      "metadata": {
        "id": "a5rX00qbGYKl"
      },
      "source": [
        "### **Grid-search + crossvalidation**"
      ]
    },
    {
      "cell_type": "code",
      "metadata": {
        "id": "xKRbmlGLGYKl"
      },
      "source": [
        "from sklearn.model_selection import GridSearchCV"
      ],
      "execution_count": null,
      "outputs": []
    },
    {
      "cell_type": "code",
      "metadata": {
        "id": "jyeQmN-9GYKl"
      },
      "source": [
        "clf = SVC()\n",
        "params = {\"C\" : [0.01, 0.1, 1, 10, 100],\n",
        "          \"kernel\" : [\"linear\", \"poly\", \"rbf\"]}#,\n",
        "          #\"gamma\" : [\"scale\", \"auto\"]}\n",
        "model = GridSearchCV(clf, params, cv=5, n_jobs=8)\n",
        "model.fit(X, y)"
      ],
      "execution_count": null,
      "outputs": []
    },
    {
      "cell_type": "code",
      "metadata": {
        "id": "0UQbBdAsGYKm"
      },
      "source": [
        "model.cv_results_"
      ],
      "execution_count": null,
      "outputs": []
    },
    {
      "cell_type": "code",
      "metadata": {
        "id": "xFNq5dL4GYKm"
      },
      "source": [
        "params, score = model.cv_results_[\"params\"], model.cv_results_[\"mean_test_score\"]\n",
        "\n",
        "indices = np.argsort(score)\n",
        "\n",
        "for i in indices:\n",
        "    print(params[i], score[i].round(3))"
      ],
      "execution_count": null,
      "outputs": []
    },
    {
      "cell_type": "code",
      "metadata": {
        "id": "VvcN0sn0GYKm"
      },
      "source": [
        "model.best_estimator_"
      ],
      "execution_count": null,
      "outputs": []
    },
    {
      "cell_type": "markdown",
      "metadata": {
        "id": "jMH5qPGMAeB4"
      },
      "source": [
        "## **Classifier comparison**"
      ]
    },
    {
      "cell_type": "code",
      "metadata": {
        "id": "93lNl7rt3ftZ"
      },
      "source": [
        "from sklearn.neural_network import MLPClassifier # multi-layer perceptron classifier\n",
        "from sklearn.naive_bayes import GaussianNB\n",
        "from sklearn.tree import DecisionTreeClassifier\n",
        "from sklearn.neighbors import KNeighborsClassifier"
      ],
      "execution_count": null,
      "outputs": []
    },
    {
      "cell_type": "code",
      "metadata": {
        "id": "jRSP0nxqGYKn"
      },
      "source": [
        "classifiers = [MLPClassifier(max_iter=1000),\n",
        "               GaussianNB(),\n",
        "               DecisionTreeClassifier(),\n",
        "               KNeighborsClassifier(),\n",
        "               SVC(kernel=\"rbf\", C=10)]\n",
        "\n",
        "for classifier in classifiers:\n",
        "    classify(X, y, classifier)"
      ],
      "execution_count": null,
      "outputs": []
    },
    {
      "cell_type": "code",
      "metadata": {
        "id": "kjMNwSVEGYKo"
      },
      "source": [
        "clf = MLPClassifier(max_iter=1000)\n",
        "params = {\"hidden_layer_sizes\" : [5, 10, 50, 100],\n",
        "          \"activation\" : [\"identity\", \"logistic\", \"tanh\", \"relu\"],\n",
        "          \"solver\" : [\"sgd\", \"adam\"]}\n",
        "model = GridSearchCV(clf, params, cv=5, n_jobs=8)\n",
        "model.fit(X, y)"
      ],
      "execution_count": null,
      "outputs": []
    },
    {
      "cell_type": "code",
      "metadata": {
        "id": "1fPwnj2EGYKp"
      },
      "source": [
        "model.best_estimator_, model.best_score_"
      ],
      "execution_count": null,
      "outputs": []
    },
    {
      "cell_type": "code",
      "metadata": {
        "id": "Y5mz5zviGYKq"
      },
      "source": [
        "%time MLPClassifier(hidden_layer_sizes=10, max_iter=1000, solver='sgd').fit(X_train, y_train).score(X_test, y_test)"
      ],
      "execution_count": null,
      "outputs": []
    },
    {
      "cell_type": "code",
      "metadata": {
        "scrolled": true,
        "id": "4JWnkM5WGYKq"
      },
      "source": [
        "%time SVC(C=10).fit(X_train, y_train).score(X_test, y_test)"
      ],
      "execution_count": null,
      "outputs": []
    },
    {
      "cell_type": "markdown",
      "metadata": {
        "id": "D_pSaCWM3gec"
      },
      "source": [
        "## **Ensemble methods**"
      ]
    },
    {
      "cell_type": "code",
      "metadata": {
        "id": "JMDa_nxxGYKr"
      },
      "source": [
        "from sklearn.ensemble import RandomForestClassifier"
      ],
      "execution_count": null,
      "outputs": []
    },
    {
      "cell_type": "code",
      "metadata": {
        "id": "gdqWpK1iGYK0"
      },
      "source": [
        "model = RandomForestClassifier()\n",
        "\n",
        "res = cross_validate(model, X, y, cv=10)\n",
        "np.mean(res[\"test_score\"]), np.std(res[\"test_score\"])"
      ],
      "execution_count": null,
      "outputs": []
    },
    {
      "cell_type": "code",
      "metadata": {
        "id": "9Uvk2gjj3f1n"
      },
      "source": [
        "from sklearn.ensemble import StackingClassifier"
      ],
      "execution_count": null,
      "outputs": []
    },
    {
      "cell_type": "code",
      "metadata": {
        "id": "hbnW2C7wfanU"
      },
      "source": [
        "classifiers = [(\"MLP\", MLPClassifier(max_iter=1000, random_state=42)),\n",
        "               (\"Bayes\", GaussianNB()),\n",
        "               (\"RFC\", RandomForestClassifier()),\n",
        "               (\"KNN\", KNeighborsClassifier()),\n",
        "               (\"SVC\", SVC(C=10))]\n",
        "\n",
        "model = StackingClassifier(classifiers)\n",
        "\n",
        "res = cross_validate(model, X, y, cv=10)\n",
        "np.mean(res[\"test_score\"]), np.std(res[\"test_score\"])"
      ],
      "execution_count": null,
      "outputs": []
    },
    {
      "cell_type": "code",
      "metadata": {
        "id": "ccqwzF_tGYK1"
      },
      "source": [
        "classifiers = [(\"MLP\", MLPClassifier(max_iter=1000, random_state=42)),\n",
        "               (\"Bayes\", GaussianNB()),\n",
        "               (\"DTC\", DecisionTreeClassifier()),\n",
        "               (\"KNN\", KNeighborsClassifier()),\n",
        "               (\"SVC\", SVC(C=10))]\n",
        "\n",
        "# train the model\n",
        "clf = StackingClassifier(classifiers)\n",
        "\n",
        "model = make_pipeline(StandardScaler(),\n",
        "                      clf)\n",
        "\n",
        "res = cross_validate(model, X, y, cv=10)\n",
        "np.mean(res[\"test_score\"]), np.std(res[\"test_score\"])"
      ],
      "execution_count": null,
      "outputs": []
    },
    {
      "cell_type": "markdown",
      "metadata": {
        "id": "mUhmTJO3GYK1"
      },
      "source": [
        "## **Conclusion**"
      ]
    },
    {
      "cell_type": "code",
      "metadata": {
        "id": "R3tjj2vcGYK1"
      },
      "source": [
        "classifiers = [(\"MLP\", MLPClassifier(max_iter=1000, random_state=42)),\n",
        "               (\"Bayes\", GaussianNB()),\n",
        "               (\"DTC\", DecisionTreeClassifier()),\n",
        "               (\"KNN\", KNeighborsClassifier()),\n",
        "               (\"SVC\", SVC(C=10))]\n",
        "\n",
        "# train the model\n",
        "clf = StackingClassifier(classifiers)\n",
        "\n",
        "model = make_pipeline(StandardScaler(),\n",
        "                      clf)\n",
        "\n",
        "model.fit(X_new[[\"u-g\"]], y)"
      ],
      "execution_count": null,
      "outputs": []
    },
    {
      "cell_type": "code",
      "metadata": {
        "id": "f3SeWR9NNlmE"
      },
      "source": [
        "u = 15.914\n",
        "g = 15.500\n",
        "\n",
        "pred = model.predict(np.array([u-g]).reshape(-1,1))\n",
        "\n",
        "le.inverse_transform(pred)"
      ],
      "execution_count": null,
      "outputs": []
    },
    {
      "cell_type": "code",
      "metadata": {
        "id": "ZNg6aU3TE0Ba"
      },
      "source": [],
      "execution_count": null,
      "outputs": []
    }
  ]
}