{
 "cells": [
  {
   "cell_type": "markdown",
   "id": "4626358c-5f18-4498-9673-d6000d86a7d0",
   "metadata": {},
   "source": [
    "# **News: Gemini (Google)**"
   ]
  },
  {
   "cell_type": "markdown",
   "id": "6ada9c0b-c265-4a16-8c99-965ef44c9aca",
   "metadata": {},
   "source": [
    "Website: https://deepmind.google/technologies/gemini/\n",
    "\n",
    "Blogpost: https://blog.google/technology/ai/google-gemini-ai\n",
    "\n",
    "Mutlimodality video: https://twitter.com/GoogleDeepMind/status/1732461149554094259\n",
    "\n",
    "Paper: https://paperswithcode.com/paper/gemini-a-family-of-highly-capable-multimodal"
   ]
  },
  {
   "cell_type": "code",
   "execution_count": null,
   "id": "9948ffa3-d04f-40b6-800f-c2658463b8d6",
   "metadata": {
    "tags": []
   },
   "outputs": [],
   "source": [
    "from IPython.display import YouTubeVideo\n",
    "YouTubeVideo('jV1vkHv4zq8')"
   ]
  },
  {
   "cell_type": "markdown",
   "id": "862c80cb-369a-497e-8b3c-a599bd316ca0",
   "metadata": {},
   "source": [
    "# **Keras 3.0**\n",
    "\n",
    "Most important features:\n",
    "- multi-backend (Tensorflow, JAX, Pytorch)\n",
    "- Keras Ops module\n",
    "- optimized & redesigned\n",
    "- KerasCV & KerasNLP packages"
   ]
  },
  {
   "cell_type": "markdown",
   "id": "82d6d730-5f62-49d5-8c93-85afe0e567c8",
   "metadata": {},
   "source": [
    "## **Instalation**"
   ]
  },
  {
   "cell_type": "markdown",
   "id": "9b735b46-b2c8-4a8f-96c3-d5d3ac7f8872",
   "metadata": {},
   "source": [
    "From command line:\n",
    "```bash\n",
    "pip3 install keras --upgrade\n",
    "```\n",
    "\n",
    "For Anaconda environment:\n",
    "```bash\n",
    "conda activate Yourenvironment\n",
    "conda install pytorch\n",
    "pip3 install keras --upgrade\n",
    "```\n",
    "   \n",
    "When making a new env:\n",
    "```bash\n",
    "conda create -n Keras3 python=3.11 pytorch #(or tensorflow or jax)\n",
    "conda activate Keras3\n",
    "pip3 install keras --upgrade\n",
    "```\n",
    "\n",
    "For Conda installation, GPU support should set-up automatially. If you encounter issues, checkout the current requirements at https://github.com/keras-team/keras/tree/master."
   ]
  },
  {
   "cell_type": "markdown",
   "id": "a914cf5f-a2aa-4398-b63d-0b725974ae43",
   "metadata": {},
   "source": [
    "## **Import & select backend**\n",
    "\n",
    "From Python script or notebook:\n",
    "```python\n",
    "import os\n",
    "os.environ[\"KERAS_BACKEND\"] = \"jax\"\n",
    "```\n",
    "\n",
    "From command line:\n",
    "```bash\n",
    "export KERAS_BACKEND=\"jax\"\n",
    "```\n",
    "\n",
    "Permanently:\n",
    "\n",
    "edit file `keras.json` (usually it's located in `.keras` hidden folder in your home directory)\n",
    "```json\n",
    "{\n",
    "    ...\n",
    "    \"backend\": \"jax\",\n",
    "    ...\n",
    "}\n",
    "```"
   ]
  },
  {
   "cell_type": "code",
   "execution_count": null,
   "id": "910c6f1d-a016-4eb0-9075-56cd20629651",
   "metadata": {
    "tags": []
   },
   "outputs": [],
   "source": [
    "import matplotlib.pyplot as plt\n",
    "\n",
    "import os\n",
    "os.environ[\"KERAS_BACKEND\"] = \"torch\"\n",
    "\n",
    "from keras import ops\n",
    "from keras import layers\n",
    "from keras.models import Model, Sequential\n",
    "from keras.metrics import CategoricalAccuracy\n",
    "from keras.utils import plot_model, to_categorical\n",
    "from keras.optimizers import Adam\n",
    "from keras.datasets import mnist"
   ]
  },
  {
   "cell_type": "markdown",
   "id": "c77107f9-a5cd-4122-b95b-44e57fbd17a6",
   "metadata": {},
   "source": [
    "## **Load data**"
   ]
  },
  {
   "cell_type": "code",
   "execution_count": null,
   "id": "76bc6ffe-7f8e-408f-8024-edd4ec2bdd07",
   "metadata": {
    "tags": []
   },
   "outputs": [],
   "source": [
    "(X_train, y_train), (X_val, y_val) = mnist.load_data()\n",
    "\n",
    "# Normalize \n",
    "X_train = X_train / 255\n",
    "X_val = X_val / 255  "
   ]
  },
  {
   "cell_type": "code",
   "execution_count": null,
   "id": "1b7f0626-3f97-4936-93dc-e2ce86e73548",
   "metadata": {
    "tags": []
   },
   "outputs": [],
   "source": [
    "plt.figure(figsize=(7,7))\n",
    "x = 1\n",
    "for i in range(5):\n",
    "    for j in range(5):\n",
    "        plt.subplot(5,5,x)\n",
    "        plt.title(f\"Label : {y_train[x]}\")\n",
    "        plt.imshow(X_train[x], cmap=\"gray\");\n",
    "        plt.axis(\"off\")\n",
    "        x += 1"
   ]
  },
  {
   "cell_type": "markdown",
   "id": "eecba81b-aeee-4e2b-8947-f54075fbc639",
   "metadata": {},
   "source": [
    "### **Transform X**"
   ]
  },
  {
   "cell_type": "code",
   "execution_count": null,
   "id": "c3406437-a910-4e98-84a6-84fd90cbd654",
   "metadata": {
    "tags": []
   },
   "outputs": [],
   "source": [
    "X_train.shape"
   ]
  },
  {
   "cell_type": "code",
   "execution_count": null,
   "id": "157f5cb6-40e5-47e1-b2a9-68769ca156f9",
   "metadata": {
    "tags": []
   },
   "outputs": [],
   "source": [
    "# Reshape\n",
    "X_train = X_train.reshape((*X_train.shape, 1))  \n",
    "X_val = X_val.reshape((*X_val.shape, 1))"
   ]
  },
  {
   "cell_type": "code",
   "execution_count": null,
   "id": "119c14a2-61ae-45d0-8985-e73c55e70244",
   "metadata": {
    "tags": []
   },
   "outputs": [],
   "source": [
    "X_train.shape"
   ]
  },
  {
   "cell_type": "markdown",
   "id": "e319b2a3-3858-4b7c-b5a1-5b5dd49cd3ae",
   "metadata": {},
   "source": [
    "### **Transform Y**"
   ]
  },
  {
   "cell_type": "code",
   "execution_count": null,
   "id": "137628c9-7e21-48d2-a2db-241904d7776e",
   "metadata": {
    "tags": []
   },
   "outputs": [],
   "source": [
    "y_train[0]"
   ]
  },
  {
   "cell_type": "code",
   "execution_count": null,
   "id": "bec0602d-6336-4383-810b-a37632974e0a",
   "metadata": {
    "tags": []
   },
   "outputs": [],
   "source": [
    "y_train = to_categorical(y_train)\n",
    "y_val = to_categorical(y_val)"
   ]
  },
  {
   "cell_type": "code",
   "execution_count": null,
   "id": "77b6e3fa-98f9-4518-a612-a58624d0ac0b",
   "metadata": {
    "tags": []
   },
   "outputs": [],
   "source": [
    "y_train[0]"
   ]
  },
  {
   "cell_type": "code",
   "execution_count": null,
   "id": "6ee80bba-1d72-438d-8fa5-183f7ae46ae1",
   "metadata": {
    "tags": []
   },
   "outputs": [],
   "source": [
    "ops.argmax(y_train[0])"
   ]
  },
  {
   "cell_type": "markdown",
   "id": "39517d65-5896-4727-bf26-c7182e4c7699",
   "metadata": {},
   "source": [
    "## **Define network**"
   ]
  },
  {
   "cell_type": "code",
   "execution_count": null,
   "id": "017931ad-182a-4762-a673-fb761eab8e89",
   "metadata": {
    "tags": []
   },
   "outputs": [],
   "source": [
    "def get_model():\n",
    "    model = Sequential(\n",
    "        [layers.Input(shape=(28, 28, 1)),\n",
    "         layers.Conv2D(64, kernel_size=(3, 3), activation=\"relu\"),\n",
    "         layers.Conv2D(64, kernel_size=(3, 3), activation=\"relu\"),\n",
    "         layers.GlobalAveragePooling2D(),\n",
    "         layers.Dropout(0.2),\n",
    "         layers.Dense(10, activation=\"softmax\")]\n",
    "    )\n",
    "    \n",
    "    return model\n",
    "\n",
    "model = get_model()"
   ]
  },
  {
   "cell_type": "code",
   "execution_count": null,
   "id": "044d8a89-3bc2-4977-b2c1-ffb883fda388",
   "metadata": {
    "tags": []
   },
   "outputs": [],
   "source": [
    "model.summary()"
   ]
  },
  {
   "cell_type": "code",
   "execution_count": null,
   "id": "990f99bc-b612-4bfb-a230-1c0bb3ff1c8d",
   "metadata": {
    "tags": []
   },
   "outputs": [],
   "source": [
    "plot_model(\n",
    "    model,\n",
    "    dpi=70,\n",
    "    show_shapes=True,\n",
    "    show_dtype=True,\n",
    "    show_layer_activations=True,\n",
    "    rankdir=\"TB\"\n",
    ")"
   ]
  },
  {
   "cell_type": "markdown",
   "id": "7aba2a4f-fabc-4000-8a6c-593b19dcc7bd",
   "metadata": {},
   "source": [
    "## **Train model**"
   ]
  },
  {
   "cell_type": "markdown",
   "id": "64cb9766-c937-4576-9e75-238aadf0fdee",
   "metadata": {},
   "source": [
    "### **Default `.fit` method**"
   ]
  },
  {
   "cell_type": "code",
   "execution_count": null,
   "id": "0f0210f9-5d7a-4bb6-b9ed-b5eb40d59c0b",
   "metadata": {
    "tags": []
   },
   "outputs": [],
   "source": [
    "model = get_model()\n",
    "\n",
    "model.compile(optimizer=Adam(learning_rate=0.002),\n",
    "              loss='categorical_crossentropy',\n",
    "              metrics=['categorical_accuracy'])\n",
    "\n",
    "model.fit(X_train, y_train,\n",
    "          validation_data=(X_val, y_val),\n",
    "          batch_size=64, epochs=10)"
   ]
  },
  {
   "cell_type": "markdown",
   "id": "d0bbce52-5a0d-455e-9674-e9c00e5ec3b4",
   "metadata": {},
   "source": [
    "### **Custom fit**"
   ]
  },
  {
   "cell_type": "code",
   "execution_count": null,
   "id": "69f18475-b5bc-46e5-a106-6b9f63be6a78",
   "metadata": {
    "tags": []
   },
   "outputs": [],
   "source": [
    "import torch\n",
    "\n",
    "device = torch.device('cuda' if torch.cuda.is_available() else 'cpu')\n",
    "device"
   ]
  },
  {
   "cell_type": "markdown",
   "id": "7fd1fbca-a223-4cfa-8d2d-ed94ea508894",
   "metadata": {},
   "source": [
    "#### **optimizer \\& loss function**"
   ]
  },
  {
   "cell_type": "code",
   "execution_count": null,
   "id": "83778e0a-9a50-4f56-ae44-f463a891b057",
   "metadata": {
    "tags": []
   },
   "outputs": [],
   "source": [
    "# Load Keras model\n",
    "model = get_model()\n",
    "\n",
    "# Optimizer: Adam\n",
    "optimizer = torch.optim.Adam(model.parameters(), lr=0.005)\n",
    "\n",
    "# Loss function: Crossenstropy\n",
    "loss_fn = torch.nn.CrossEntropyLoss()\n",
    "\n",
    "def loss_fn(y_true, y_pred):\n",
    "    # Clipping - keeps the sum of y_pred at 1\n",
    "    y_pred = ops.clip(y_pred, 1e-7, 1 - 1e-7)\n",
    "    \n",
    "    loss = -(y_true * ops.log(y_pred) + (1 - y_true) * ops.log(1 - y_pred))\n",
    "    return ops.mean(loss)"
   ]
  },
  {
   "cell_type": "markdown",
   "id": "fa83aa0f-e838-4eca-b8cc-f43ea11535ef",
   "metadata": {
    "tags": []
   },
   "source": [
    "#### **1. input array (batchsize $\\,\\times\\,$ image shape)**"
   ]
  },
  {
   "cell_type": "code",
   "execution_count": null,
   "id": "53ad2207-5ed8-4c6d-8baa-9a62e54757ea",
   "metadata": {
    "tags": []
   },
   "outputs": [],
   "source": [
    "batchsize = 16\n",
    "\n",
    "inputs = torch.tensor(X_train[0:batchsize], device=device)\n",
    "targets = torch.tensor(y_train[0:batchsize], device=device)\n",
    "\n",
    "print(inputs.shape, targets.shape)"
   ]
  },
  {
   "cell_type": "code",
   "execution_count": null,
   "id": "6b2ac35e-22d8-42be-a8fd-217bf460c073",
   "metadata": {
    "tags": []
   },
   "outputs": [],
   "source": [
    "print(inputs.device, targets.device)"
   ]
  },
  {
   "cell_type": "markdown",
   "id": "4e312da1-0741-4da3-982d-e70ac20fee00",
   "metadata": {},
   "source": [
    "#### **2. forward pass - array of probabilities (batchsize $\\,\\times\\,$ classes)**"
   ]
  },
  {
   "cell_type": "code",
   "execution_count": null,
   "id": "a2886d94-a35d-40bc-9585-4615b7e02595",
   "metadata": {
    "tags": []
   },
   "outputs": [],
   "source": [
    "probs = model(inputs)\n",
    "\n",
    "probs.shape"
   ]
  },
  {
   "cell_type": "code",
   "execution_count": null,
   "id": "cab37558-bbae-4cae-b890-9fbf3ed92267",
   "metadata": {
    "tags": []
   },
   "outputs": [],
   "source": [
    "probs[0]"
   ]
  },
  {
   "cell_type": "code",
   "execution_count": null,
   "id": "06fe37e6-4d72-4ad0-b002-39cefb6ac5aa",
   "metadata": {
    "tags": []
   },
   "outputs": [],
   "source": [
    "probs[0].sum()"
   ]
  },
  {
   "cell_type": "markdown",
   "id": "8b982161-3a0b-4650-86ca-d68ab01aff89",
   "metadata": {},
   "source": [
    "#### **3. calculate the loss**"
   ]
  },
  {
   "cell_type": "code",
   "execution_count": null,
   "id": "f5b5febf-ee65-4b48-b126-7a0429ad9ee8",
   "metadata": {
    "tags": []
   },
   "outputs": [],
   "source": [
    "loss = loss_fn(probs, targets)\n",
    "\n",
    "loss"
   ]
  },
  {
   "cell_type": "markdown",
   "id": "c1ad04b3-beb7-451d-bd2a-7333b3365228",
   "metadata": {},
   "source": [
    "#### **4. backward pass**"
   ]
  },
  {
   "cell_type": "code",
   "execution_count": null,
   "id": "a0eea572-4349-4015-8905-e8d575e2077f",
   "metadata": {
    "tags": []
   },
   "outputs": [],
   "source": [
    "model.zero_grad()\n",
    "\n",
    "loss.backward()"
   ]
  },
  {
   "cell_type": "markdown",
   "id": "d726a0a0-3130-45d5-8733-ca4884f558a2",
   "metadata": {},
   "source": [
    "#### **5. optimizer**"
   ]
  },
  {
   "cell_type": "code",
   "execution_count": null,
   "id": "c69cf1cc-58a1-4c09-8d89-ff6650b03eaf",
   "metadata": {
    "tags": []
   },
   "outputs": [],
   "source": [
    "optimizer.step()"
   ]
  },
  {
   "cell_type": "markdown",
   "id": "3d55fab4-7a9e-43b9-beff-abcfc8cfae94",
   "metadata": {},
   "source": [
    "#### **check if model changed**"
   ]
  },
  {
   "cell_type": "code",
   "execution_count": null,
   "id": "14496efc-01ff-42e0-a725-9d277256b181",
   "metadata": {
    "tags": []
   },
   "outputs": [],
   "source": [
    "probs2 = model(inputs)\n",
    "\n",
    "loss2 = loss_fn(probs2, targets)\n",
    "\n",
    "loss2"
   ]
  },
  {
   "cell_type": "markdown",
   "id": "7e38cbfa-266b-44db-952c-e0f5256bfcc5",
   "metadata": {},
   "source": [
    "### **Training loop**"
   ]
  },
  {
   "cell_type": "code",
   "execution_count": null,
   "id": "5cab060c-2673-4dfd-ae80-309bf6c5f51d",
   "metadata": {
    "tags": []
   },
   "outputs": [],
   "source": [
    "# Load Keras model\n",
    "model = get_model()\n",
    "\n",
    "# Optimizer: Adam\n",
    "optimizer = torch.optim.Adam(model.parameters(), lr=0.02)\n",
    "\n",
    "# Loss function: Crossenstropy\n",
    "loss_fn = torch.nn.CrossEntropyLoss()\n",
    "\n",
    "\n",
    "batchsize = 128\n",
    "epochs = 10\n",
    "number_of_updates = X_train.shape[0] // batchsize\n",
    "\n",
    "for epoch in range(epochs):\n",
    "    print(f\"Epoch: {epoch+1}\")\n",
    "    \n",
    "    for step in range(number_of_updates):\n",
    "        i0 = step * batchsize\n",
    "        i1 = (step+1) * batchsize\n",
    "        \n",
    "        # Pytorch Tensor + Send to GPU\n",
    "        inputs = torch.tensor(X_train[i0:i1], device=device)\n",
    "        targets = torch.tensor(y_train[i0:i1], device=device)\n",
    "        \n",
    "        # Forward pass\n",
    "        probs = model(inputs)\n",
    "        loss = loss_fn(probs, targets)\n",
    "\n",
    "        # Backward pass\n",
    "        model.zero_grad()\n",
    "        loss.backward()\n",
    "\n",
    "        # Optimizer variable updates\n",
    "        optimizer.step()\n",
    "\n",
    "        # Log every 100 batches.\n",
    "        if i1 % 1000 == 0:\n",
    "            print(f\"Training loss at step {step:4d} ({(step + 1) * batchsize:5d} images): {loss.cpu().detach().numpy():.4f}\")"
   ]
  },
  {
   "cell_type": "markdown",
   "id": "a73fce77-49e4-47a5-a2d5-9eb222acf094",
   "metadata": {},
   "source": [
    "### **Measure accuracy**"
   ]
  },
  {
   "cell_type": "code",
   "execution_count": null,
   "id": "792a06c8-4ff6-4447-b9fd-099a86196f93",
   "metadata": {
    "tags": []
   },
   "outputs": [],
   "source": [
    "# Load Keras model\n",
    "model = get_model()\n",
    "\n",
    "# Optimizer: Adam\n",
    "optimizer = torch.optim.Adam(model.parameters(), lr=0.001)\n",
    "\n",
    "# Loss function: Crossenstropy\n",
    "loss_fn = torch.nn.CrossEntropyLoss()\n",
    "\n",
    "# Metrcis: Categorical Accuracy\n",
    "train_acc_metric = CategoricalAccuracy()\n",
    "val_acc_metric = CategoricalAccuracy()\n",
    "\n",
    "\n",
    "batchsize = 128\n",
    "epochs = 10\n",
    "number_of_updates = X_train.shape[0] // batchsize\n",
    "\n",
    "for epoch in range(epochs):\n",
    "    print(f\"Epoch: {epoch+1}\")\n",
    "    \n",
    "    for step in range(number_of_updates):\n",
    "        i0 = step * batchsize\n",
    "        i1 = (step+1) * batchsize\n",
    "        \n",
    "        # Pytorch Tensor + Send to GPU\n",
    "        inputs = torch.tensor(X_train[i0:i1], device=device)\n",
    "        targets = torch.tensor(y_train[i0:i1], device=device)\n",
    "        \n",
    "        # Forward pass\n",
    "        probs = model(inputs)\n",
    "        loss = loss_fn(probs, targets)\n",
    "\n",
    "        # Update metrics\n",
    "        train_acc_metric.update_state(targets, probs)\n",
    "        \n",
    "        # Backward pass\n",
    "        model.zero_grad()\n",
    "        loss.backward()\n",
    "\n",
    "        # Optimizer variable updates\n",
    "        optimizer.step()\n",
    "\n",
    "        # Log every 100 batches.\n",
    "        if i1 % 1000 == 0:\n",
    "            print(f\"Training loss at step {step:4d} ({(step + 1) * batchsize:5d} images): {loss.cpu().detach().numpy():.4f}\")\n",
    "            \n",
    "    train_acc = train_acc_metric.result()\n",
    "    print(f\"Training acc: {float(train_acc):.4f}\")\n",
    "    \n",
    "    # Reset training metrics at the end of each epoch\n",
    "    train_acc_metric.reset_state()\n",
    "\n",
    "    # Calculate \n",
    "    val_probs = model(X_val, training=False)\n",
    "    # Update val metrics\n",
    "    val_acc_metric.update_state(y_val, val_probs)\n",
    "    val_acc = val_acc_metric.result()\n",
    "    val_acc_metric.reset_state()\n",
    "    print(f\"Validation acc: {float(val_acc):.4f}\\n\")"
   ]
  },
  {
   "cell_type": "markdown",
   "id": "4bb00f6a-f315-4cb4-b14f-7086530c7ed0",
   "metadata": {},
   "source": [
    "### **Adding a scheduler**"
   ]
  },
  {
   "cell_type": "code",
   "execution_count": null,
   "id": "62855b32-c80c-43a1-a7ad-3b6cffa16f4b",
   "metadata": {
    "tags": []
   },
   "outputs": [],
   "source": [
    "# Load Keras model\n",
    "model = get_model()\n",
    "\n",
    "# Optimizer: Adam\n",
    "optimizer = torch.optim.Adam(model.parameters(), lr=0.002)\n",
    "scheduler = torch.optim.lr_scheduler.ExponentialLR(optimizer, gamma=0.8)\n",
    "\n",
    "# Loss function: Crossenstropy\n",
    "loss_fn = torch.nn.CrossEntropyLoss()\n",
    "\n",
    "# Metrcis: Categorical Accuracy\n",
    "train_acc_metric = CategoricalAccuracy()\n",
    "val_acc_metric = CategoricalAccuracy()\n",
    "\n",
    "\n",
    "batchsize = 128\n",
    "epochs = 10\n",
    "number_of_updates = X_train.shape[0] // batchsize\n",
    "\n",
    "for epoch in range(epochs):\n",
    "    print(f\"Epoch: {epoch+1}\")\n",
    "    print(f\"Learning rate: {optimizer.param_groups[0]['lr']}\")\n",
    "    \n",
    "    for step in range(number_of_updates):\n",
    "        i0 = step * batchsize\n",
    "        i1 = (step+1) * batchsize\n",
    "        \n",
    "        # Pytorch Tensor + Send to GPU\n",
    "        inputs = torch.tensor(X_train[i0:i1], device=device)\n",
    "        targets = torch.tensor(y_train[i0:i1], device=device)\n",
    "        \n",
    "        # Forward pass\n",
    "        probs = model(inputs)\n",
    "        loss = loss_fn(probs, targets)\n",
    "\n",
    "        # Update metrics\n",
    "        train_acc_metric.update_state(targets, probs)\n",
    "        \n",
    "        # Backward pass\n",
    "        model.zero_grad()\n",
    "        loss.backward()\n",
    "\n",
    "        # Optimizer variable updates\n",
    "        optimizer.step()\n",
    "\n",
    "        # Log every 100 batches.\n",
    "        if i1 % 1000 == 0:\n",
    "            print(f\"Training loss at step {step:4d} ({(step + 1) * batchsize:5d} images): {loss.cpu().detach().numpy():.4f}\")\n",
    "            \n",
    "    scheduler.step()\n",
    "            \n",
    "    train_acc = train_acc_metric.result()\n",
    "    print(f\"Training acc: {float(train_acc):.4f}\")\n",
    "    \n",
    "    # Reset training metrics at the end of each epoch\n",
    "    train_acc_metric.reset_state()\n",
    "\n",
    "    # Calculate \n",
    "    val_probs = model(X_val, training=False)\n",
    "    # Update val metrics\n",
    "    val_acc_metric.update_state(y_val, val_probs)\n",
    "    val_acc = val_acc_metric.result()\n",
    "    val_acc_metric.reset_state()\n",
    "    print(f\"Validation acc: {float(val_acc):.4f}\\n\")"
   ]
  },
  {
   "cell_type": "code",
   "execution_count": null,
   "id": "d6e9d451-74b6-4a0a-bb5e-3c10f92914e1",
   "metadata": {},
   "outputs": [],
   "source": []
  },
  {
   "cell_type": "code",
   "execution_count": null,
   "id": "a20049ce-a02b-4009-8d41-a791056044ed",
   "metadata": {},
   "outputs": [],
   "source": []
  },
  {
   "cell_type": "markdown",
   "id": "386604d9-1f37-4ab5-9684-56e77b7568e2",
   "metadata": {},
   "source": []
  },
  {
   "cell_type": "code",
   "execution_count": null,
   "id": "83ad9d66-5bac-4900-8e23-c2dfb9904383",
   "metadata": {},
   "outputs": [],
   "source": []
  },
  {
   "cell_type": "markdown",
   "id": "9d0a0aa0-0f20-47fc-8ee5-d52d7f2a783b",
   "metadata": {},
   "source": [
    "## **Final projects**\n",
    "\n",
    "Datasets:\n",
    "- [AstroNN](https://astronn.readthedocs.io/en/stable/galaxy10.html)\n",
    "- [AstroML](https://www.astroml.org/user_guide/datasets.html)\n",
    "- [Kaggle](https://www.kaggle.com/)\n",
    "- [HuggingFace](https://huggingface.co/datasets)\n",
    "\n",
    "Or build you own dataset:\n",
    "- filter & preprocess data: \n",
    "    - light curves ([OGLE](https://ogledb.astrouw.edu.pl/~ogle/OCVS/))\n",
    "    - X-ray data ([Chandra](https://cxcfps.cfa.harvard.edu/cda/footprint/cdaview.html))\n",
    "    - GAIA data ([Astroquery](https://www.cosmos.esa.int/web/gaia-users/archive/programmatic-access))\n",
    "    - VLBI images ([astrogeo](http://astrogeo.org/vlbi_images/)) \n",
    "    - SwiftXRT data ([Swift database](https://www.swift.ac.uk/user_objects/))\n",
    "- simulate data: \n",
    "    - gamma-ray bursts ([cosmogrb](https://github.com/grburgess/cosmogrb))\n",
    "    - X-ray spectrum ([Sherpa](https://cxc.cfa.harvard.edu/sherpa/threads/fake_pha/))\n",
    "    - X-ray image ([pyxsim](https://hea-www.cfa.harvard.edu/~jzuhone/pyxsim/cookbook/Thermal_Emission.html))"
   ]
  },
  {
   "cell_type": "code",
   "execution_count": null,
   "id": "624b1bd2-4010-4f53-a84c-5962e8ff6d76",
   "metadata": {},
   "outputs": [],
   "source": []
  },
  {
   "cell_type": "code",
   "execution_count": null,
   "id": "38421216-9fac-465a-8a38-76035e414504",
   "metadata": {},
   "outputs": [],
   "source": []
  }
 ],
 "metadata": {
  "kernelspec": {
   "display_name": "Python 3 (ipykernel)",
   "language": "python",
   "name": "python3"
  },
  "language_info": {
   "codemirror_mode": {
    "name": "ipython",
    "version": 3
   },
   "file_extension": ".py",
   "mimetype": "text/x-python",
   "name": "python",
   "nbconvert_exporter": "python",
   "pygments_lexer": "ipython3",
   "version": "3.11.6"
  }
 },
 "nbformat": 4,
 "nbformat_minor": 5
}
