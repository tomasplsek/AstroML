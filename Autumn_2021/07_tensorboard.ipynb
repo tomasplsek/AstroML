{
 "cells": [
  {
   "cell_type": "markdown",
   "id": "323250f9-fedc-4ba3-868a-3346cf8c681b",
   "metadata": {},
   "source": [
    "# **Library import**"
   ]
  },
  {
   "cell_type": "code",
   "execution_count": 1,
   "id": "89cf3ce7-21d9-4f0f-b2b5-3ffe8a10e934",
   "metadata": {},
   "outputs": [
    {
     "name": "stderr",
     "output_type": "stream",
     "text": [
      "2021-12-16 18:14:34.132164: I tensorflow/stream_executor/platform/default/dso_loader.cc:49] Successfully opened dynamic library libcudart.so.11.0\n"
     ]
    }
   ],
   "source": [
    "import io\n",
    "import numpy as np\n",
    "import matplotlib.pyplot as plt\n",
    "\n",
    "from tensorflow.keras.models import Sequential\n",
    "from tensorflow.keras.layers import Dense, Flatten\n",
    "from tensorflow.keras.optimizers import Adam"
   ]
  },
  {
   "cell_type": "code",
   "execution_count": 2,
   "id": "98110c54-c678-43d7-bfba-6e4b48fb1d5a",
   "metadata": {},
   "outputs": [
    {
     "name": "stderr",
     "output_type": "stream",
     "text": [
      "2021-12-16 18:14:36.936063: I tensorflow/compiler/jit/xla_cpu_device.cc:41] Not creating XLA devices, tf_xla_enable_xla_devices not set\n",
      "2021-12-16 18:14:36.937900: I tensorflow/stream_executor/platform/default/dso_loader.cc:49] Successfully opened dynamic library libcuda.so.1\n",
      "2021-12-16 18:14:37.137291: I tensorflow/stream_executor/cuda/cuda_gpu_executor.cc:941] successful NUMA node read from SysFS had negative value (-1), but there must be at least one NUMA node, so returning NUMA node zero\n",
      "2021-12-16 18:14:37.143958: I tensorflow/core/common_runtime/gpu/gpu_device.cc:1720] Found device 0 with properties: \n",
      "pciBusID: 0000:01:00.0 name: GeForce MX250 computeCapability: 6.1\n",
      "coreClock: 1.582GHz coreCount: 3 deviceMemorySize: 1.96GiB deviceMemoryBandwidth: 44.76GiB/s\n",
      "2021-12-16 18:14:37.144057: I tensorflow/stream_executor/platform/default/dso_loader.cc:49] Successfully opened dynamic library libcudart.so.11.0\n",
      "2021-12-16 18:14:37.147870: I tensorflow/stream_executor/platform/default/dso_loader.cc:49] Successfully opened dynamic library libcublas.so.11\n",
      "2021-12-16 18:14:37.148101: I tensorflow/stream_executor/platform/defaul"
     ]
    },
    {
     "data": {
      "text/plain": [
       "[PhysicalDevice(name='/physical_device:GPU:0', device_type='GPU')]"
      ]
     },
     "execution_count": 2,
     "metadata": {},
     "output_type": "execute_result"
    },
    {
     "name": "stderr",
     "output_type": "stream",
     "text": [
      "t/dso_loader.cc:49] Successfully opened dynamic library libcublasLt.so.11\n",
      "2021-12-16 18:14:37.150574: I tensorflow/stream_executor/platform/default/dso_loader.cc:49] Successfully opened dynamic library libcufft.so.10\n",
      "2021-12-16 18:14:37.151049: I tensorflow/stream_executor/platform/default/dso_loader.cc:49] Successfully opened dynamic library libcurand.so.10\n",
      "2021-12-16 18:14:37.154906: I tensorflow/stream_executor/platform/default/dso_loader.cc:49] Successfully opened dynamic library libcusolver.so.10\n",
      "2021-12-16 18:14:37.156305: I tensorflow/stream_executor/platform/default/dso_loader.cc:49] Successfully opened dynamic library libcusparse.so.11\n",
      "2021-12-16 18:14:37.156824: I tensorflow/stream_executor/platform/default/dso_loader.cc:49] Successfully opened dynamic library libcudnn.so.8\n",
      "2021-12-16 18:14:37.157191: I tensorflow/stream_executor/cuda/cuda_gpu_executor.cc:941] successful NUMA node read from SysFS had negative value (-1), but there must be at least one NUMA node, so returning NUMA node zero\n",
      "2021-12-16 18:14:37.163387: I tensorflow/stream_executor/cuda/cuda_gpu_executor.cc:941] successful NUMA node read from SysFS had negative value (-1), but there must be at least one NUMA node, so returning NUMA node zero\n",
      "2021-12-16 18:14:37.168770: I tensorflow/core/common_runtime/gpu/gpu_device.cc:1862] Adding visible gpu devices: 0\n"
     ]
    }
   ],
   "source": [
    "import tensorflow as tf\n",
    "tf.config.list_physical_devices('GPU')"
   ]
  },
  {
   "cell_type": "markdown",
   "id": "764ff2f3-ff54-4575-a15e-e0f6f727928b",
   "metadata": {},
   "source": [
    "# **Data**"
   ]
  },
  {
   "cell_type": "code",
   "execution_count": 3,
   "id": "e6c67645-d6de-4e8f-936b-af923abc7c59",
   "metadata": {},
   "outputs": [
    {
     "data": {
      "image/png": "[encoded data removed]",
      "text/plain": [
       "<Figure size 432x288 with 1 Axes>"
      ]
     },
     "metadata": {
      "needs_background": "light"
     },
     "output_type": "display_data"
    }
   ],
   "source": [
    "(X_train, y_train), (X_test, y_test) = tf.keras.datasets.mnist.load_data()\n",
    "\n",
    "plt.imshow(X_train[10], cmap=\"gray\", origin=\"lower\");"
   ]
  },
  {
   "cell_type": "markdown",
   "id": "bab04527-750f-422f-8200-ad0715ab08b2",
   "metadata": {},
   "source": [
    "# **Compile & Fit Model**"
   ]
  },
  {
   "cell_type": "code",
   "execution_count": 4,
   "id": "91b2c08f-75ba-4ffc-b561-0999be97bfe0",
   "metadata": {},
   "outputs": [
    {
     "name": "stderr",
     "output_type": "stream",
     "text": [
      "2021-12-16 18:16:17.728637: I tensorflow/core/platform/cpu_feature_guard.cc:142] This TensorFlow binary is optimized with oneAPI Deep Neural Network Library (oneDNN) to use the following CPU instructions in performance-critical operations:  AVX2 FMA\n",
      "To enable them in other operations, rebuild TensorFlow with the appropriate compiler flags.\n",
      "2021-12-16 18:16:17.728930: I tensorflow/compiler/jit/xla_gpu_device.cc:99] Not creating XLA devices, tf_xla_enable_xla_devices not set\n",
      "2021-12-16 18:16:17.729111: I tensorflow/stream_executor/cuda/cuda_gpu_executor.cc:941] successful NUMA node read from SysFS had negative value (-1), but there must be at least one NUMA node, so returning NUMA node zero\n",
      "2021-12-16 18:16:17.740475: I tensorflow/core/common_runtime/gpu/gpu_device.cc:1720] Found device 0 with properties: \n",
      "pciBusID: 0000:01:00.0 name: GeForce MX250 computeCapability: 6.1\n",
      "coreClock: 1.582GHz coreCount: 3 deviceMemorySize: 1.96GiB deviceMemoryBandwidth: 44.76GiB/s\n",
      "2021-12-16 18:16:17.740681: I tensorflow/stream_executor/platform/default/dso_loader.cc:49] Successfully opened dynamic library libcudart.so.11.0\n",
      "2021-12-16 18:16:17.740816: I tensorflow/stream_executor/platform/default/dso_loader.cc:49] Successfully opened dynamic library libcublas.so.11\n",
      "2021-12-16 18:16:17.740853: I tensorflow/stream_executor/platform/default/dso_loader.cc:49] Successfully opened dynamic library libcublasLt.so.11\n",
      "2021-12-16 18:16:17.740890: I tensorflow/stream_executor/platform/default/dso_loader.cc:49] Successfully opened dynamic library libcufft.so.10\n",
      "2021-12-16 18:16:17.740923: I tensorflow/stream_executor/platform/default/dso_loader.cc:49] Successfully opened dynamic library libcurand.so.10\n",
      "2021-12-16 18:16:17.740952: I tensorflow/stream_executor/platform/default/dso_loader.cc:49] Successfully opened dynamic library libcusolver.so.10\n",
      "2021-12-16 18:16:17.740982: I tensorflow/stream_executor/platform/default/dso_loader.cc:49] Successfully opened dynamic library libcusparse.so.11\n",
      "2021-12-16 18:16:17.741042: I tensorflow/stream_executor/platform/default/dso_loader.cc:49] Successfully opened dynamic library libcudnn.so.8\n",
      "2021-12-16 18:16:17.741242: I tensorflow/stream_executor/cuda/cuda_gpu_executor.cc:941] successful NUMA node read from SysFS had negative value (-1), but there must be at least one NUMA node, so returning NUMA node zero\n",
      "2021-12-16 18:16:17.754080: I tensorflow/stream_executor/cuda/cuda_gpu_executor.cc:941] successful NUMA node read from SysFS had negative value (-1), but there must be at least one NUMA node, so returning NUMA node zero\n",
      "2021-12-16 18:16:17.765282: I tensorflow/core/common_runtime/gpu/gpu_device.cc:1862] Adding visible gpu devices: 0\n",
      "2021-12-16 18:16:17.765409: I tensorflow/stream_executor/platform/default/dso_loader.cc:49] Successfully opened dynamic library libcudart.so.11.0\n",
      "2021-12-16 18:16:19.036183: I tensorflow/core/common_runtime/gpu/gpu_device.cc:1261] Device interconnect StreamExecutor with strength 1 edge matrix:\n",
      "2021-12-16 18:16:19.036216: I tensorflow/core/common_runtime/gpu/gpu_device.cc:1267]      0 \n",
      "2021-12-16 18:16:19.036228: I tensorflow/core/common_runtime/gpu/gpu_device.cc:1280] 0:   N \n",
      "2021-12-16 18:16:19.036465: I tensorflow/stream_executor/cuda/cuda_gpu_executor.cc:941] successful NUMA node read from SysFS had negative value (-1), but there must be at least one NUMA node, so returning NUMA node zero\n",
      "2021-12-16 18:16:19.036840: I tensorflow/stream_executor/cuda/cuda_gpu_executor.cc:941] successful NUMA node read from SysFS had negative value (-1), but there must be at least one NUMA node, so returning NUMA node zero\n",
      "2021-12-16 18:16:19.037239: I tensorflow/stream_executor/cuda/cuda_gpu_executor.cc:941] successful NUMA node read from SysFS had negative value (-1), but there must be at least one NUMA node, so returning NUMA node zero\n",
      "2021-12-16 18:16:19.037713: I tensorflow/core/common_runtime/gpu/gpu_device.cc:1406] Created TensorFlow device (/job:localhost/replica:0/task:0/device:GPU:0 with 1627 MB memory) -> physical GPU (device: 0, name: GeForce MX250, pci bus id: 0000:01:00.0, compute capability: 6.1)\n"
     ]
    }
   ],
   "source": [
    "model = Sequential()\n",
    "model.add(Flatten())\n",
    "model.add(Dense(128, activation='relu'))\n",
    "model.add(Dense(10, activation='softmax'))\n",
    "\n",
    "model.compile(optimizer=Adam(learning_rate=0.0001),\n",
    "              loss='sparse_categorical_crossentropy',\n",
    "              metrics=['accuracy'])"
   ]
  },
  {
   "cell_type": "code",
   "execution_count": 5,
   "id": "a80f2758-a9f3-4b64-bbe9-a096c39903e2",
   "metadata": {},
   "outputs": [
    {
     "name": "stderr",
     "output_type": "stream",
     "text": [
      "2021-12-16 18:16:24.921324: I tensorflow/compiler/mlir/mlir_graph_optimization_pass.cc:116] None of the MLIR optimization passes are enabled (registered 2)\n",
      "2021-12-16 18:16:24.946669: I tensorflow/core/platform/profile_utils/cpu_utils.cc:112] CPU Frequency: 2299965000 Hz\n"
     ]
    },
    {
     "name": "stdout",
     "output_type": "stream",
     "text": [
      "Epoch 1/5\n"
     ]
    },
    {
     "name": "stderr",
     "output_type": "stream",
     "text": [
      "2021-12-16 18:16:25.806414: I tensorflow/stream_executor/platform/default/dso_loader.cc:49] Successfully opened dynamic library libcublas.so.11\n"
     ]
    },
    {
     "name": "stdout",
     "output_type": "stream",
     "text": [
      "  49/3750 [..............................] - ETA: 12s - loss: 114.8504 - accuracy: 0.1711 "
     ]
    },
    {
     "name": "stderr",
     "output_type": "stream",
     "text": [
      "2021-12-16 18:16:26.294713: I tensorflow/stream_executor/platform/default/dso_loader.cc:49] Successfully opened dynamic library libcublasLt.so.11\n"
     ]
    },
    {
     "name": "stdout",
     "output_type": "stream",
     "text": [
      "3750/3750 [==============================] - 13s 3ms/step - loss: 16.4751 - accuracy: 0.7308\n",
      "Epoch 2/5\n",
      "3750/3750 [==============================] - 12s 3ms/step - loss: 1.7939 - accuracy: 0.9196\n",
      "Epoch 3/5\n",
      "3750/3750 [==============================] - 12s 3ms/step - loss: 0.9470 - accuracy: 0.9417\n",
      "Epoch 4/5\n",
      "3750/3750 [==============================] - 12s 3ms/step - loss: 0.5702 - accuracy: 0.9547\n",
      "Epoch 5/5\n",
      "3750/3750 [==============================] - 12s 3ms/step - loss: 0.3749 - accuracy: 0.9646\n"
     ]
    }
   ],
   "source": [
    "history = model.fit(X_train, y_train, batch_size=16, epochs=5)"
   ]
  },
  {
   "cell_type": "code",
   "execution_count": 6,
   "id": "106291f8-c664-48fd-bf98-ba7230b4f153",
   "metadata": {},
   "outputs": [
    {
     "data": {
      "image/png": "[encoded data removed]",
      "text/plain": [
       "<Figure size 792x288 with 2 Axes>"
      ]
     },
     "metadata": {
      "needs_background": "light"
     },
     "output_type": "display_data"
    }
   ],
   "source": [
    "plt.figure(figsize=(11,4))\n",
    "plt.subplot(121)\n",
    "plt.plot(history.history['accuracy'])\n",
    "plt.subplot(122)\n",
    "plt.plot(history.history['loss'], c=\"C1\");"
   ]
  },
  {
   "cell_type": "markdown",
   "id": "8bf15835-742c-4ad0-ae42-5d12993d42a8",
   "metadata": {},
   "source": [
    "# **Callbacks**"
   ]
  },
  {
   "cell_type": "markdown",
   "id": "56111722-5229-45c4-b9d8-b3d203cbc948",
   "metadata": {},
   "source": [
    "https://keras.io/api/callbacks/"
   ]
  },
  {
   "cell_type": "code",
   "execution_count": 7,
   "id": "054a4f3c-9a36-4ee0-a72d-8ff4a118619d",
   "metadata": {},
   "outputs": [],
   "source": [
    "from tensorflow.keras.callbacks import TensorBoard, ReduceLROnPlateau"
   ]
  },
  {
   "cell_type": "markdown",
   "id": "97a6cd18-67f9-457c-8d97-94be62afd8b4",
   "metadata": {},
   "source": [
    "# **Tensorboard**"
   ]
  },
  {
   "cell_type": "markdown",
   "id": "ee2c1800-f5a7-4643-96d1-6f6df1ece996",
   "metadata": {},
   "source": [
    "https://keras.io/api/callbacks/tensorboard/\n",
    "\n",
    "https://www.tensorflow.org/tensorboard"
   ]
  },
  {
   "cell_type": "code",
   "execution_count": null,
   "id": "242a861d-4d70-43ff-b6ff-2014806e1b6e",
   "metadata": {},
   "outputs": [],
   "source": [
    "!tensorboard --logdir logs"
   ]
  },
  {
   "cell_type": "code",
   "execution_count": 8,
   "id": "145d9109-b4e6-4163-a3a6-36ca8acfd9a2",
   "metadata": {},
   "outputs": [
    {
     "name": "stderr",
     "output_type": "stream",
     "text": [
      "2021-12-16 18:26:28.171407: I tensorflow/core/profiler/lib/profiler_session.cc:136] Profiler session initializing.\n",
      "2021-12-16 18:26:28.171466: I tensorflow/core/profiler/lib/profiler_session.cc:155] Profiler session started.\n",
      "2021-12-16 18:26:28.171501: I tensorflow/core/profiler/internal/gpu/cupti_tracer.cc:1365] Profiler found 1 GPUs\n",
      "2021-12-16 18:26:28.171737: W tensorflow/stream_executor/platform/default/dso_loader.cc:60] Could not load dynamic library 'libcupti.so.11.0'; dlerror: libcupti.so.11.0: cannot open shared object file: No such file or directory; LD_LIBRARY_PATH: /home/plsek/anaconda3/envs/ciao/heasoft-6.28/x86_64-pc-linux-gnu-libc2.31/lib::/home/plsek/anaconda3/envs/ciao/SPEX-3.06.00/lib\n",
      "2021-12-16 18:26:28.172443: I tensorflow/stream_executor/platform/default/dso_loader.cc:49] Successfully opened dynamic library libcupti.so\n",
      "2021-12-16 18:26:28.272908: E tensorflow/core/profiler/internal/gpu/cupti_tracer.cc:1415] function cupti_interface_->Subscribe( &subscriber_, (CUpti_CallbackFunc)ApiCallback, this)failed with error CUPTI_ERROR_INSUFFICIENT_PRIVILEGES\n",
      "2021-12-16 18:26:28.273558: I tensorflow/core/profiler/lib/profiler_session.cc:172] Profiler session tear down.\n"
     ]
    }
   ],
   "source": [
    "callbacks = [TensorBoard(log_dir=\"logs/pokus_1\", update_freq=\"epoch\")] #, update_freq=\"batch\""
   ]
  },
  {
   "cell_type": "code",
   "execution_count": 9,
   "id": "f85efd17-a80f-4aba-9e66-84cbd964c654",
   "metadata": {},
   "outputs": [
    {
     "name": "stdout",
     "output_type": "stream",
     "text": [
      "Epoch 1/15\n",
      "  53/3750 [..............................] - ETA: 14s - loss: 74.5014 - accuracy: 0.3233   "
     ]
    },
    {
     "name": "stderr",
     "output_type": "stream",
     "text": [
      "2021-12-16 18:26:45.025174: I tensorflow/core/profiler/lib/profiler_session.cc:136] Profiler session initializing.\n",
      "2021-12-16 18:26:45.025219: I tensorflow/core/profiler/lib/profiler_session.cc:155] Profiler session started.\n",
      "2021-12-16 18:26:45.026387: E tensorflow/core/profiler/internal/gpu/cupti_tracer.cc:1415] function cupti_interface_->Subscribe( &subscriber_, (CUpti_CallbackFunc)ApiCallback, this)failed with error CUPTI_ERROR_INSUFFICIENT_PRIVILEGES\n",
      "2021-12-16 18:26:45.032465: I tensorflow/core/profiler/lib/profiler_session.cc:71] Profiler session collecting data.\n",
      "2021-12-16 18:26:45.033883: I tensorflow/core/profiler/internal/gpu/cupti_collector.cc:228]  GpuTracer has collected 0 callback api events and 0 activity events. \n",
      "2021-12-16 18:26:45.035189: I tensorflow/core/profiler/lib/profiler_session.cc:172] Profiler session tear down.\n",
      "2021-12-16 18:26:45.037792: I tensorflow/core/profiler/rpc/client/save_profile.cc:137] Creating directory: logs/pokus_1/train/plugins/profile/2021_12_16_18_26_45\n",
      "2021-12-16 18:26:45.038611: I tensorflow/core/profiler/rpc/client/save_profile.cc:143] Dumped gzipped tool data for trace.json.gz to logs/pokus_1/train/plugins/profile/2021_12_16_18_26_45/vostro.trace.json.gz\n",
      "2021-12-16 18:26:45.043302: I tensorflow/core/profiler/rpc/client/save_profile.cc:137] Creating directory: logs/pokus_1/train/plugins/profile/2021_12_16_18_26_45\n",
      "2021-12-16 18:26:45.044241: I tensorflow/core/profiler/rpc/client/save_profile.cc:143] Dumped gzipped tool data for memory_profile.json.gz to logs/pokus_1/train/plugins/profile/2021_12_16_18_26_45/vostro.memory_profile.json.gz\n",
      "2021-12-16 18:26:45.044519: I tensorflow/core/profiler/rpc/client/capture_profile.cc:251] Creating directory: logs/pokus_1/train/plugins/profile/2021_12_16_18_26_45Dumped tool data for xplane.pb to logs/pokus_1/train/plugins/profile/2021_12_16_18_26_45/vostro.xplane.pb\n",
      "Dumped tool data for overview_page.pb to logs/pokus_1/train/plugins/profile/2021_12_16_18_26_45/vostro.overview_page.pb\n",
      "Dumped tool data for input_pipeline.pb to logs/pokus_1/train/plugins/profile/2021_12_16_18_26_45/vostro.input_pipeline.pb\n",
      "Dumped tool data for tensorflow_stats.pb to logs/pokus_1/train/plugins/profile/2021_12_16_18_26_45/vostro.tensorflow_stats.pb\n",
      "Dumped tool data for kernel_stats.pb to logs/pokus_1/train/plugins/profile/2021_12_16_18_26_45/vostro.kernel_stats.pb\n",
      "\n"
     ]
    },
    {
     "name": "stdout",
     "output_type": "stream",
     "text": [
      "3750/3750 [==============================] - 15s 4ms/step - loss: 6.4708 - accuracy: 0.8165 - val_loss: 0.5045 - val_accuracy: 0.8726\n",
      "Epoch 2/15\n",
      "3750/3750 [==============================] - 13s 4ms/step - loss: 0.3773 - accuracy: 0.9032 - val_loss: 0.3323 - val_accuracy: 0.9163\n",
      "Epoch 3/15\n",
      "3750/3750 [==============================] - 13s 3ms/step - loss: 0.3140 - accuracy: 0.9195 - val_loss: 0.3898 - val_accuracy: 0.8743\n",
      "Epoch 4/15\n",
      "3750/3750 [==============================] - 12s 3ms/step - loss: 0.3026 - accuracy: 0.9260 - val_loss: 0.3415 - val_accuracy: 0.9224\n",
      "Epoch 5/15\n",
      "3750/3750 [==============================] - 12s 3ms/step - loss: 0.2804 - accuracy: 0.9313 - val_loss: 0.3133 - val_accuracy: 0.9376\n",
      "Epoch 6/15\n",
      "3750/3750 [==============================] - 11s 3ms/step - loss: 0.2572 - accuracy: 0.9373 - val_loss: 0.3764 - val_accuracy: 0.9256\n",
      "Epoch 7/15\n",
      "3750/3750 [==============================] - 12s 3ms/step - loss: 0.2628 - accuracy: 0.9385 - val_loss: 0.3029 - val_accuracy: 0.9373\n",
      "Epoch 8/15\n",
      "3750/3750 [==============================] - 13s 3ms/step - loss: 0.2582 - accuracy: 0.9384 - val_loss: 0.3201 - val_accuracy: 0.9343\n",
      "Epoch 9/15\n",
      "3750/3750 [==============================] - 13s 3ms/step - loss: 0.2569 - accuracy: 0.9421 - val_loss: 0.3620 - val_accuracy: 0.9337\n",
      "Epoch 10/15\n",
      "3750/3750 [==============================] - 13s 4ms/step - loss: 0.2361 - accuracy: 0.9432 - val_loss: 0.4439 - val_accuracy: 0.9381\n",
      "Epoch 11/15\n",
      "3750/3750 [==============================] - 14s 4ms/step - loss: 0.2435 - accuracy: 0.9427 - val_loss: 0.3811 - val_accuracy: 0.9373\n",
      "Epoch 12/15\n",
      "3750/3750 [==============================] - 14s 4ms/step - loss: 0.2246 - accuracy: 0.9463 - val_loss: 0.4054 - val_accuracy: 0.9306\n",
      "Epoch 13/15\n",
      "3750/3750 [==============================] - 15s 4ms/step - loss: 0.2356 - accuracy: 0.9442 - val_loss: 0.4491 - val_accuracy: 0.9366\n",
      "Epoch 14/15\n",
      "3750/3750 [==============================] - 15s 4ms/step - loss: 0.2222 - accuracy: 0.9474 - val_loss: 0.4266 - val_accuracy: 0.9409\n",
      "Epoch 15/15\n",
      "3750/3750 [==============================] - 14s 4ms/step - loss: 0.2258 - accuracy: 0.9487 - val_loss: 0.3694 - val_accuracy: 0.9342\n"
     ]
    },
    {
     "data": {
      "text/plain": [
       "<tensorflow.python.keras.callbacks.History at 0x7fa7ac1cb3c8>"
      ]
     },
     "execution_count": 9,
     "metadata": {},
     "output_type": "execute_result"
    }
   ],
   "source": [
    "model = Sequential()\n",
    "model.add(Flatten())\n",
    "model.add(Dense(128, activation='relu'))\n",
    "model.add(Dense(10, activation='softmax'))\n",
    "\n",
    "model.compile(optimizer=Adam(learning_rate=0.001),\n",
    "              loss='sparse_categorical_crossentropy',\n",
    "              metrics=['accuracy'])\n",
    "\n",
    "model.fit(X_train, y_train,\n",
    "          validation_data = (X_test, y_test),\n",
    "          batch_size=16, epochs=15,\n",
    "          callbacks=callbacks)"
   ]
  },
  {
   "cell_type": "markdown",
   "id": "bd86ac4c-fc83-4fcd-a462-b0661763cb80",
   "metadata": {},
   "source": [
    "# **Reduce learning rate**"
   ]
  },
  {
   "cell_type": "markdown",
   "id": "c4191537-2bf9-4f10-865b-26251aab6be2",
   "metadata": {},
   "source": [
    "https://keras.io/api/callbacks/reduce_lr_on_plateau/\n",
    "\n",
    "https://www.tensorflow.org/api_docs/python/tf/keras/callbacks/ReduceLROnPlateau"
   ]
  },
  {
   "cell_type": "code",
   "execution_count": 10,
   "id": "8974224b-c95d-40ae-9ffd-3ee3ea45f197",
   "metadata": {},
   "outputs": [
    {
     "name": "stderr",
     "output_type": "stream",
     "text": [
      "2021-12-16 18:30:20.525808: I tensorflow/core/profiler/lib/profiler_session.cc:136] Profiler session initializing.\n",
      "2021-12-16 18:30:20.525942: I tensorflow/core/profiler/lib/profiler_session.cc:155] Profiler session started.\n",
      "2021-12-16 18:30:20.526171: E tensorflow/core/profiler/internal/gpu/cupti_tracer.cc:1415] function cupti_interface_->Subscribe( &subscriber_, (CUpti_CallbackFunc)ApiCallback, this)failed with error CUPTI_ERROR_NOT_INITIALIZED\n",
      "2021-12-16 18:30:20.526268: I tensorflow/core/profiler/lib/profiler_session.cc:172] Profiler session tear down.\n"
     ]
    }
   ],
   "source": [
    "callbacks = [TensorBoard(log_dir=\"logs/pokus_2\", update_freq=\"epoch\"),\n",
    "             ReduceLROnPlateau(monitor='val_loss', factor=0.1, patience=2,\n",
    "                               min_lr=0.0, mode=\"min\", verbose=1)]"
   ]
  },
  {
   "cell_type": "code",
   "execution_count": 11,
   "id": "79ef38f8-66fa-4d30-b6aa-85145c6a4653",
   "metadata": {},
   "outputs": [
    {
     "name": "stdout",
     "output_type": "stream",
     "text": [
      "Epoch 1/15\n",
      "  32/3750 [..............................] - ETA: 20s - loss: 84.9085 - accuracy: 0.3070    "
     ]
    },
    {
     "name": "stderr",
     "output_type": "stream",
     "text": [
      "2021-12-16 18:30:25.302076: I tensorflow/core/profiler/lib/profiler_session.cc:136] Profiler session initializing.\n",
      "2021-12-16 18:30:25.302127: I tensorflow/core/profiler/lib/profiler_session.cc:155] Profiler session started.\n",
      "2021-12-16 18:30:25.302229: E tensorflow/core/profiler/internal/gpu/cupti_tracer.cc:1415] function cupti_interface_->Subscribe( &subscriber_, (CUpti_CallbackFunc)ApiCallback, this)failed with error CUPTI_ERROR_NOT_INITIALIZED\n",
      "2021-12-16 18:30:25.342018: I tensorflow/core/profiler/lib/profiler_session.cc:71] Profiler session collecting data.\n",
      "2021-12-16 18:30:25.343184: I tensorflow/core/profiler/internal/gpu/cupti_collector.cc:228]  GpuTracer has collected 0 callback api events and 0 activity events. \n",
      "2021-12-16 18:30:25.344166: I tensorflow/core/profiler/lib/profiler_session.cc:172] Profiler session tear down.\n",
      "2021-12-16 18:30:25.345854: I tensorflow/core/profiler/rpc/client/save_profile.cc:137] Creating directory: logs/pokus_2/train/plugins/profile/2021_12_16_18_30_25\n",
      "2021-12-16 18:30:25.346369: I tensorflow/core/profiler/rpc/client/save_profile.cc:143] Dumped gzipped tool data for trace.json.gz to logs/pokus_2/train/plugins/profile/2021_12_16_18_30_25/vostro.trace.json.gz\n",
      "2021-12-16 18:30:25.350721: I tensorflow/core/profiler/rpc/client/save_profile.cc:137] Creating directory: logs/pokus_2/train/plugins/profile/2021_12_16_18_30_25\n",
      "2021-12-16 18:30:25.351825: I tensorflow/core/profiler/rpc/client/save_profile.cc:143] Dumped gzipped tool data for memory_profile.json.gz to logs/pokus_2/train/plugins/profile/2021_12_16_18_30_25/vostro.memory_profile.json.gz\n",
      "2021-12-16 18:30:25.352135: I tensorflow/core/profiler/rpc/client/capture_profile.cc:251] Creating directory: logs/pokus_2/train/plugins/profile/2021_12_16_18_30_25Dumped tool data for xplane.pb to logs/pokus_2/train/plugins/profile/2021_12_16_18_30_25/vostro.xplane.pb\n",
      "Dumped tool data for overview_page.pb to logs/pokus_2/train/plugins/profile/2021_12_16_18_30_25/vostro.overview_page.pb\n",
      "Dumped tool data for input_pipeline.pb to logs/pokus_2/train/plugins/profile/2021_12_16_18_30_25/vostro.input_pipeline.pb\n",
      "Dumped tool data for tensorflow_stats.pb to logs/pokus_2/train/plugins/profile/2021_12_16_18_30_25/vostro.tensorflow_stats.pb\n",
      "Dumped tool data for kernel_stats.pb to logs/pokus_2/train/plugins/profile/2021_12_16_18_30_25/vostro.kernel_stats.pb\n",
      "\n"
     ]
    },
    {
     "name": "stdout",
     "output_type": "stream",
     "text": [
      "3750/3750 [==============================] - 15s 4ms/step - loss: 6.4894 - accuracy: 0.8153 - val_loss: 0.4594 - val_accuracy: 0.8917\n",
      "Epoch 2/15\n",
      "3750/3750 [==============================] - 14s 4ms/step - loss: 0.4102 - accuracy: 0.9032 - val_loss: 0.3541 - val_accuracy: 0.9188\n",
      "Epoch 3/15\n",
      "3750/3750 [==============================] - 14s 4ms/step - loss: 0.3470 - accuracy: 0.9145 - val_loss: 0.3197 - val_accuracy: 0.9254\n",
      "Epoch 4/15\n",
      "3750/3750 [==============================] - 13s 3ms/step - loss: 0.2784 - accuracy: 0.9325 - val_loss: 0.3429 - val_accuracy: 0.9274\n",
      "Epoch 5/15\n",
      "3750/3750 [==============================] - 13s 3ms/step - loss: 0.2709 - accuracy: 0.9353 - val_loss: 0.3186 - val_accuracy: 0.9282\n",
      "Epoch 6/15\n",
      "3750/3750 [==============================] - 12s 3ms/step - loss: 0.2639 - accuracy: 0.9396 - val_loss: 0.3046 - val_accuracy: 0.9375\n",
      "Epoch 7/15\n",
      "3750/3750 [==============================] - 12s 3ms/step - loss: 0.2669 - accuracy: 0.9413 - val_loss: 0.3428 - val_accuracy: 0.9406\n",
      "Epoch 8/15\n",
      "3750/3750 [==============================] - 13s 3ms/step - loss: 0.2504 - accuracy: 0.9420 - val_loss: 0.3181 - val_accuracy: 0.9381\n",
      "\n",
      "Epoch 00008: ReduceLROnPlateau reducing learning rate to 0.00010000000474974513.\n",
      "Epoch 9/15\n",
      "3750/3750 [==============================] - 13s 3ms/step - loss: 0.1659 - accuracy: 0.9579 - val_loss: 0.2381 - val_accuracy: 0.9519\n",
      "Epoch 10/15\n",
      "3750/3750 [==============================] - 13s 3ms/step - loss: 0.1307 - accuracy: 0.9648 - val_loss: 0.2371 - val_accuracy: 0.9532\n",
      "Epoch 11/15\n",
      "3750/3750 [==============================] - 14s 4ms/step - loss: 0.1223 - accuracy: 0.9658 - val_loss: 0.2281 - val_accuracy: 0.9540\n",
      "Epoch 12/15\n",
      "3750/3750 [==============================] - 14s 4ms/step - loss: 0.1208 - accuracy: 0.9667 - val_loss: 0.2399 - val_accuracy: 0.9544\n",
      "Epoch 13/15\n",
      "3750/3750 [==============================] - 14s 4ms/step - loss: 0.1102 - accuracy: 0.9684 - val_loss: 0.2337 - val_accuracy: 0.9548\n",
      "\n",
      "Epoch 00013: ReduceLROnPlateau reducing learning rate to 1.0000000474974514e-05.\n",
      "Epoch 14/15\n",
      "3750/3750 [==============================] - 15s 4ms/step - loss: 0.1008 - accuracy: 0.9712 - val_loss: 0.2327 - val_accuracy: 0.9555\n",
      "Epoch 15/15\n",
      "3750/3750 [==============================] - 15s 4ms/step - loss: 0.1013 - accuracy: 0.9720 - val_loss: 0.2345 - val_accuracy: 0.9561\n",
      "\n",
      "Epoch 00015: ReduceLROnPlateau reducing learning rate to 1.0000000656873453e-06.\n"
     ]
    },
    {
     "data": {
      "text/plain": [
       "<tensorflow.python.keras.callbacks.History at 0x7fa7cff3a518>"
      ]
     },
     "execution_count": 11,
     "metadata": {},
     "output_type": "execute_result"
    }
   ],
   "source": [
    "model = Sequential()\n",
    "model.add(Flatten())\n",
    "model.add(Dense(128, activation='relu'))\n",
    "model.add(Dense(10, activation='softmax'))\n",
    "\n",
    "model.compile(optimizer=Adam(learning_rate=0.001),\n",
    "              loss='sparse_categorical_crossentropy',\n",
    "              metrics=['accuracy'])\n",
    "\n",
    "model.fit(X_train, y_train,\n",
    "          validation_data = (X_test, y_test),\n",
    "          batch_size=16, epochs=15,\n",
    "          callbacks=callbacks)"
   ]
  },
  {
   "cell_type": "markdown",
   "id": "f04997c4-c333-4b4e-a336-606fa02e5a77",
   "metadata": {},
   "source": [
    "# **Images**"
   ]
  },
  {
   "cell_type": "markdown",
   "id": "4986970c-b889-43e6-a99c-97789f58b02f",
   "metadata": {},
   "source": [
    "https://www.tensorflow.org/tensorboard/image_summaries"
   ]
  },
  {
   "cell_type": "code",
   "execution_count": 12,
   "id": "684bfb25-9ec4-4b4d-817d-12b0f37cfbaf",
   "metadata": {},
   "outputs": [],
   "source": [
    "from tensorflow.summary import create_file_writer, scalar"
   ]
  },
  {
   "cell_type": "code",
   "execution_count": 13,
   "id": "71f0d793-c8c5-4adf-bea3-6631aa0ddf55",
   "metadata": {},
   "outputs": [],
   "source": [
    "def plot(img, pred):\n",
    "    fig = plt.figure(figsize=(5,5))\n",
    "    plt.title(pred)\n",
    "    plt.xticks([])\n",
    "    plt.yticks([])\n",
    "    plt.imshow(img, cmap=plt.cm.binary)\n",
    "    return fig\n",
    "\n",
    "def plot_to_image(figure):\n",
    "    buf = io.BytesIO()\n",
    "    plt.savefig(buf, format='png')\n",
    "    plt.close(figure)\n",
    "    buf.seek(0)\n",
    "    image = tf.image.decode_png(buf.getvalue(), channels=4)\n",
    "    image = tf.expand_dims(image, 0)\n",
    "    return image"
   ]
  },
  {
   "cell_type": "code",
   "execution_count": 14,
   "id": "1f8f5061-df6e-4b5f-b585-e5466b29e60c",
   "metadata": {},
   "outputs": [],
   "source": [
    "logdir = \"logs/images\"\n",
    "with create_file_writer(logdir).as_default():\n",
    "    for i, img in enumerate(X_test[0:10]):\n",
    "        y_pred = model.predict(img.reshape(-1,28,28,1))\n",
    "        y_pred = np.argmax(y_pred)\n",
    "        \n",
    "        tf.summary.image(\"10 training data examples\", \n",
    "                         plot_to_image(plot(img, y_pred)), max_outputs=25, step=i)"
   ]
  },
  {
   "cell_type": "markdown",
   "id": "59574643-ae77-4c81-910b-e5c285bebb8d",
   "metadata": {},
   "source": [
    "## **only wrong images**"
   ]
  },
  {
   "cell_type": "code",
   "execution_count": 15,
   "id": "6710ef65-0195-4131-93c3-23571f3f949d",
   "metadata": {},
   "outputs": [],
   "source": [
    "def plot(img, pred, true):\n",
    "    fig = plt.figure(figsize=(5,5))\n",
    "    plt.title(f\"{pred} (true {true})\")\n",
    "    plt.xticks([])\n",
    "    plt.yticks([])\n",
    "    plt.imshow(img, cmap=plt.cm.binary)\n",
    "    return fig\n",
    "\n",
    "logdir = \"logs/images_wrong\"\n",
    "\n",
    "y_pred = model.predict(X_test)\n",
    "y_pred = np.argmax(y_pred, axis=1)\n",
    "wrong = (y_pred == y_test) == False\n",
    "\n",
    "with create_file_writer(logdir).as_default():\n",
    "    for i, pred, true, img in zip(range(10), \n",
    "                                  y_pred[wrong][:10], \n",
    "                                  y_test[wrong][:10], \n",
    "                                  X_test[wrong][:10]):\n",
    "        tf.summary.image(\"10 mistakenly classified images\", \n",
    "                         plot_to_image(plot(img, pred, true)), max_outputs=25, step=i)"
   ]
  },
  {
   "cell_type": "markdown",
   "id": "46b3fb4f-4e41-4e60-b60d-adde1e70954c",
   "metadata": {},
   "source": [
    "# **HyperParams**"
   ]
  },
  {
   "cell_type": "code",
   "execution_count": 16,
   "id": "313d75aa-6cd2-4903-a4a3-68a738639d41",
   "metadata": {},
   "outputs": [],
   "source": [
    "def get_model(neurons, learning_rate):\n",
    "    model = Sequential()\n",
    "    model.add(Flatten())\n",
    "    \n",
    "    #for i in range(layers):\n",
    "    model.add(Dense(neurons, activation='relu'))\n",
    "    \n",
    "    model.add(Dense(10, activation='softmax'))\n",
    "\n",
    "    model.compile(optimizer=Adam(learning_rate=learning_rate),\n",
    "                  loss='sparse_categorical_crossentropy',\n",
    "                  metrics=['accuracy'])\n",
    "    \n",
    "    return model"
   ]
  },
  {
   "cell_type": "code",
   "execution_count": 17,
   "id": "de1b2e9e-81b0-448e-bf3a-00f37bd3b1eb",
   "metadata": {},
   "outputs": [],
   "source": [
    "from tensorboard.plugins.hparams import api as hp\n",
    "\n",
    "neurons = hp.HParam('num_units', hp.Discrete([64, 128, 256]))\n",
    "learning_rate = hp.HParam('learning_rate', hp.Discrete([1e-3, 1e-4, 1e-5]))\n",
    "batchsize = hp.HParam('batch_size', hp.Discrete([8, 16]))"
   ]
  },
  {
   "cell_type": "code",
   "execution_count": 18,
   "id": "44b8efc9-455a-49e2-8c77-94d4a2ebc493",
   "metadata": {
    "scrolled": true,
    "tags": []
   },
   "outputs": [],
   "source": [
    "with create_file_writer('logs/hparam_tuning').as_default():\n",
    "    hp.hparams_config(hparams=[neurons, learning_rate, batchsize],\n",
    "                      metrics=[hp.Metric('accuracy', display_name='Accuracy')])"
   ]
  },
  {
   "cell_type": "code",
   "execution_count": 19,
   "id": "ca6096af-818f-410f-b7d7-3db8fa2eb6b5",
   "metadata": {},
   "outputs": [],
   "source": [
    "def train_test_model(hparams):\n",
    "    model = get_model(hparams[neurons], hparams[learning_rate])\n",
    "\n",
    "    name = \"hp_{0}_{1}_{2}\".format(hparams[neurons], hparams[learning_rate], hparams[batchsize])\n",
    "    logdir = \"logs/hparam_tuning/\" + name\n",
    "    \n",
    "    callbacks = [TensorBoard(log_dir=logdir, update_freq=\"epoch\")]\n",
    "    \n",
    "    model.fit(X_train, y_train, batch_size=hparams[batchsize], epochs=5, callbacks=callbacks)\n",
    "    _, accuracy = model.evaluate(X_test, y_test)\n",
    "\n",
    "    return accuracy\n",
    "\n",
    "def run(run_dir, hparams):\n",
    "    with create_file_writer(run_dir).as_default():\n",
    "        hp.hparams(hparams)\n",
    "        accuracy = train_test_model(hparams)\n",
    "        scalar(\"accuracy\", accuracy, step=1)"
   ]
  },
  {
   "cell_type": "code",
   "execution_count": 20,
   "id": "9a487fad-bd6a-46b4-a51c-810e10fb2c08",
   "metadata": {
    "scrolled": true,
    "tags": []
   },
   "outputs": [
    {
     "name": "stdout",
     "output_type": "stream",
     "text": [
      "--- Starting trial: run-0\n",
      "{'num_units': 64, 'learning_rate': 1e-05, 'batch_size': 8}\n",
      "Epoch 1/5\n"
     ]
    },
    {
     "name": "stderr",
     "output_type": "stream",
     "text": [
      "2021-12-16 18:46:42.094037: I tensorflow/core/profiler/lib/profiler_session.cc:136] Profiler session initializing.\n",
      "2021-12-16 18:46:42.094079: I tensorflow/core/profiler/lib/profiler_session.cc:155] Profiler session started.\n",
      "2021-12-16 18:46:42.094152: E tensorflow/core/profiler/internal/gpu/cupti_tracer.cc:1415] function cupti_interface_->Subscribe( &subscriber_, (CUpti_CallbackFunc)ApiCallback, this)failed with error CUPTI_ERROR_NOT_INITIALIZED\n",
      "2021-12-16 18:46:42.094176: I tensorflow/core/profiler/lib/profiler_session.cc:172] Profiler session tear down.\n"
     ]
    },
    {
     "name": "stdout",
     "output_type": "stream",
     "text": [
      "  30/7500 [..............................] - ETA: 49s - loss: 172.5625 - accuracy: 0.0724 "
     ]
    },
    {
     "name": "stderr",
     "output_type": "stream",
     "text": [
      "2021-12-16 18:46:43.014633: I tensorflow/core/profiler/lib/profiler_session.cc:136] Profiler session initializing.\n",
      "2021-12-16 18:46:43.014697: I tensorflow/core/profiler/lib/profiler_session.cc:155] Profiler session started.\n",
      "2021-12-16 18:46:43.014821: E tensorflow/core/profiler/internal/gpu/cupti_tracer.cc:1415] function cupti_interface_->Subscribe( &subscriber_, (CUpti_CallbackFunc)ApiCallback, this)failed with error CUPTI_ERROR_NOT_INITIALIZED\n",
      "2021-12-16 18:46:43.064691: I tensorflow/core/profiler/lib/profiler_session.cc:71] Profiler session collecting data.\n",
      "2021-12-16 18:46:43.065727: I tensorflow/core/profiler/internal/gpu/cupti_collector.cc:228]  GpuTracer has collected 0 callback api events and 0 activity events. \n",
      "2021-12-16 18:46:43.066376: I tensorflow/core/profiler/lib/profiler_session.cc:172] Profiler session tear down.\n",
      "2021-12-16 18:46:43.067512: I tensorflow/core/profiler/rpc/client/save_profile.cc:137] Creating directory: logs/hparam_tuning/hp_64_1e-05_8/train/plugins/profile/2021_12_16_18_46_43\n",
      "2021-12-16 18:46:43.068095: I tensorflow/core/profiler/rpc/client/save_profile.cc:143] Dumped gzipped tool data for trace.json.gz to logs/hparam_tuning/hp_64_1e-05_8/train/plugins/profile/2021_12_16_18_46_43/vostro.trace.json.gz\n",
      "2021-12-16 18:46:43.072861: I tensorflow/core/profiler/rpc/client/save_profile.cc:137] Creating directory: logs/hparam_tuning/hp_64_1e-05_8/train/plugins/profile/2021_12_16_18_46_43\n",
      "2021-12-16 18:46:43.073704: I tensorflow/core/profiler/rpc/client/save_profile.cc:143] Dumped gzipped tool data for memory_profile.json.gz to logs/hparam_tuning/hp_64_1e-05_8/train/plugins/profile/2021_12_16_18_46_43/vostro.memory_profile.json.gz\n",
      "2021-12-16 18:46:43.074308: I tensorflow/core/profiler/rpc/client/capture_profile.cc:251] Creating directory: logs/hparam_tuning/hp_64_1e-05_8/train/plugins/profile/2021_12_16_18_46_43Dumped tool data for xplane.pb to logs/hparam_tuning/hp_64_1e-05_8/train/plugins/profile/2021_12_16_18_46_43/vostro.xplane.pb\n",
      "Dumped tool data for overview_page.pb to logs/hparam_tuning/hp_64_1e-05_8/train/plugins/profile/2021_12_16_18_46_43/vostro.overview_page.pb\n",
      "Dumped tool data for input_pipeline.pb to logs/hparam_tuning/hp_64_1e-05_8/train/plugins/profile/2021_12_16_18_46_43/vostro.input_pipeline.pb\n",
      "Dumped tool data for tensorflow_stats.pb to logs/hparam_tuning/hp_64_1e-05_8/train/plugins/profile/2021_12_16_18_46_43/vostro.tensorflow_stats.pb\n",
      "Dumped tool data for kernel_stats.pb to logs/hparam_tuning/hp_64_1e-05_8/train/plugins/profile/2021_12_16_18_46_43/vostro.kernel_stats.pb\n",
      "\n"
     ]
    },
    {
     "name": "stdout",
     "output_type": "stream",
     "text": [
      "7500/7500 [==============================] - 28s 4ms/step - loss: 55.8112 - accuracy: 0.3572\n",
      "Epoch 2/5\n",
      "7500/7500 [==============================] - 26s 3ms/step - loss: 8.2987 - accuracy: 0.7648\n",
      "Epoch 3/5\n",
      "7500/7500 [==============================] - 26s 3ms/step - loss: 5.4024 - accuracy: 0.8241\n",
      "Epoch 4/5\n",
      "7500/7500 [==============================] - 26s 3ms/step - loss: 3.9782 - accuracy: 0.8520\n",
      "Epoch 5/5\n",
      " 271/7500 [>.............................] - ETA: 26s - loss: 3.5705 - accuracy: 0.8632"
     ]
    },
    {
     "ename": "KeyboardInterrupt",
     "evalue": "",
     "output_type": "error",
     "traceback": [
      "\u001b[0;31m---------------------------------------------------------------------------\u001b[0m",
      "\u001b[0;31mKeyboardInterrupt\u001b[0m                         Traceback (most recent call last)",
      "\u001b[0;32m/tmp/ipykernel_65519/3773156448.py\u001b[0m in \u001b[0;36m<module>\u001b[0;34m\u001b[0m\n\u001b[1;32m     11\u001b[0m             \u001b[0mprint\u001b[0m\u001b[0;34m(\u001b[0m\u001b[0;34m'--- Starting trial: %s'\u001b[0m \u001b[0;34m%\u001b[0m \u001b[0mrun_name\u001b[0m\u001b[0;34m)\u001b[0m\u001b[0;34m\u001b[0m\u001b[0;34m\u001b[0m\u001b[0m\n\u001b[1;32m     12\u001b[0m             \u001b[0mprint\u001b[0m\u001b[0;34m(\u001b[0m\u001b[0;34m{\u001b[0m\u001b[0mh\u001b[0m\u001b[0;34m.\u001b[0m\u001b[0mname\u001b[0m\u001b[0;34m:\u001b[0m \u001b[0mhparams\u001b[0m\u001b[0;34m[\u001b[0m\u001b[0mh\u001b[0m\u001b[0;34m]\u001b[0m \u001b[0;32mfor\u001b[0m \u001b[0mh\u001b[0m \u001b[0;32min\u001b[0m \u001b[0mhparams\u001b[0m\u001b[0;34m}\u001b[0m\u001b[0;34m)\u001b[0m\u001b[0;34m\u001b[0m\u001b[0;34m\u001b[0m\u001b[0m\n\u001b[0;32m---> 13\u001b[0;31m             \u001b[0mrun\u001b[0m\u001b[0;34m(\u001b[0m\u001b[0;34m'logs/hparam_tuning/'\u001b[0m \u001b[0;34m+\u001b[0m \u001b[0mrun_name\u001b[0m\u001b[0;34m,\u001b[0m \u001b[0mhparams\u001b[0m\u001b[0;34m)\u001b[0m\u001b[0;34m\u001b[0m\u001b[0;34m\u001b[0m\u001b[0m\n\u001b[0m\u001b[1;32m     14\u001b[0m             \u001b[0msession_num\u001b[0m \u001b[0;34m+=\u001b[0m \u001b[0;36m1\u001b[0m\u001b[0;34m\u001b[0m\u001b[0;34m\u001b[0m\u001b[0m\n",
      "\u001b[0;32m/tmp/ipykernel_65519/819349806.py\u001b[0m in \u001b[0;36mrun\u001b[0;34m(run_dir, hparams)\u001b[0m\n\u001b[1;32m     15\u001b[0m     \u001b[0;32mwith\u001b[0m \u001b[0mcreate_file_writer\u001b[0m\u001b[0;34m(\u001b[0m\u001b[0mrun_dir\u001b[0m\u001b[0;34m)\u001b[0m\u001b[0;34m.\u001b[0m\u001b[0mas_default\u001b[0m\u001b[0;34m(\u001b[0m\u001b[0;34m)\u001b[0m\u001b[0;34m:\u001b[0m\u001b[0;34m\u001b[0m\u001b[0;34m\u001b[0m\u001b[0m\n\u001b[1;32m     16\u001b[0m         \u001b[0mhp\u001b[0m\u001b[0;34m.\u001b[0m\u001b[0mhparams\u001b[0m\u001b[0;34m(\u001b[0m\u001b[0mhparams\u001b[0m\u001b[0;34m)\u001b[0m\u001b[0;34m\u001b[0m\u001b[0;34m\u001b[0m\u001b[0m\n\u001b[0;32m---> 17\u001b[0;31m         \u001b[0maccuracy\u001b[0m \u001b[0;34m=\u001b[0m \u001b[0mtrain_test_model\u001b[0m\u001b[0;34m(\u001b[0m\u001b[0mhparams\u001b[0m\u001b[0;34m)\u001b[0m\u001b[0;34m\u001b[0m\u001b[0;34m\u001b[0m\u001b[0m\n\u001b[0m\u001b[1;32m     18\u001b[0m         \u001b[0mscalar\u001b[0m\u001b[0;34m(\u001b[0m\u001b[0;34m\"accuracy\"\u001b[0m\u001b[0;34m,\u001b[0m \u001b[0maccuracy\u001b[0m\u001b[0;34m,\u001b[0m \u001b[0mstep\u001b[0m\u001b[0;34m=\u001b[0m\u001b[0;36m1\u001b[0m\u001b[0;34m)\u001b[0m\u001b[0;34m\u001b[0m\u001b[0;34m\u001b[0m\u001b[0m\n",
      "\u001b[0;32m/tmp/ipykernel_65519/819349806.py\u001b[0m in \u001b[0;36mtrain_test_model\u001b[0;34m(hparams)\u001b[0m\n\u001b[1;32m      7\u001b[0m     \u001b[0mcallbacks\u001b[0m \u001b[0;34m=\u001b[0m \u001b[0;34m[\u001b[0m\u001b[0mTensorBoard\u001b[0m\u001b[0;34m(\u001b[0m\u001b[0mlog_dir\u001b[0m\u001b[0;34m=\u001b[0m\u001b[0mlogdir\u001b[0m\u001b[0;34m,\u001b[0m \u001b[0mupdate_freq\u001b[0m\u001b[0;34m=\u001b[0m\u001b[0;34m\"epoch\"\u001b[0m\u001b[0;34m)\u001b[0m\u001b[0;34m]\u001b[0m\u001b[0;34m\u001b[0m\u001b[0;34m\u001b[0m\u001b[0m\n\u001b[1;32m      8\u001b[0m \u001b[0;34m\u001b[0m\u001b[0m\n\u001b[0;32m----> 9\u001b[0;31m     \u001b[0mmodel\u001b[0m\u001b[0;34m.\u001b[0m\u001b[0mfit\u001b[0m\u001b[0;34m(\u001b[0m\u001b[0mX_train\u001b[0m\u001b[0;34m,\u001b[0m \u001b[0my_train\u001b[0m\u001b[0;34m,\u001b[0m \u001b[0mbatch_size\u001b[0m\u001b[0;34m=\u001b[0m\u001b[0mhparams\u001b[0m\u001b[0;34m[\u001b[0m\u001b[0mbatchsize\u001b[0m\u001b[0;34m]\u001b[0m\u001b[0;34m,\u001b[0m \u001b[0mepochs\u001b[0m\u001b[0;34m=\u001b[0m\u001b[0;36m5\u001b[0m\u001b[0;34m,\u001b[0m \u001b[0mcallbacks\u001b[0m\u001b[0;34m=\u001b[0m\u001b[0mcallbacks\u001b[0m\u001b[0;34m)\u001b[0m\u001b[0;34m\u001b[0m\u001b[0;34m\u001b[0m\u001b[0m\n\u001b[0m\u001b[1;32m     10\u001b[0m     \u001b[0m_\u001b[0m\u001b[0;34m,\u001b[0m \u001b[0maccuracy\u001b[0m \u001b[0;34m=\u001b[0m \u001b[0mmodel\u001b[0m\u001b[0;34m.\u001b[0m\u001b[0mevaluate\u001b[0m\u001b[0;34m(\u001b[0m\u001b[0mX_test\u001b[0m\u001b[0;34m,\u001b[0m \u001b[0my_test\u001b[0m\u001b[0;34m)\u001b[0m\u001b[0;34m\u001b[0m\u001b[0;34m\u001b[0m\u001b[0m\n\u001b[1;32m     11\u001b[0m \u001b[0;34m\u001b[0m\u001b[0m\n",
      "\u001b[0;32m~/anaconda3/envs/ciao/lib/python3.7/site-packages/tensorflow/python/keras/engine/training.py\u001b[0m in \u001b[0;36mfit\u001b[0;34m(self, x, y, batch_size, epochs, verbose, callbacks, validation_split, validation_data, shuffle, class_weight, sample_weight, initial_epoch, steps_per_epoch, validation_steps, validation_batch_size, validation_freq, max_queue_size, workers, use_multiprocessing)\u001b[0m\n\u001b[1;32m   1098\u001b[0m                 _r=1):\n\u001b[1;32m   1099\u001b[0m               \u001b[0mcallbacks\u001b[0m\u001b[0;34m.\u001b[0m\u001b[0mon_train_batch_begin\u001b[0m\u001b[0;34m(\u001b[0m\u001b[0mstep\u001b[0m\u001b[0;34m)\u001b[0m\u001b[0;34m\u001b[0m\u001b[0;34m\u001b[0m\u001b[0m\n\u001b[0;32m-> 1100\u001b[0;31m               \u001b[0mtmp_logs\u001b[0m \u001b[0;34m=\u001b[0m \u001b[0mself\u001b[0m\u001b[0;34m.\u001b[0m\u001b[0mtrain_function\u001b[0m\u001b[0;34m(\u001b[0m\u001b[0miterator\u001b[0m\u001b[0;34m)\u001b[0m\u001b[0;34m\u001b[0m\u001b[0;34m\u001b[0m\u001b[0m\n\u001b[0m\u001b[1;32m   1101\u001b[0m               \u001b[0;32mif\u001b[0m \u001b[0mdata_handler\u001b[0m\u001b[0;34m.\u001b[0m\u001b[0mshould_sync\u001b[0m\u001b[0;34m:\u001b[0m\u001b[0;34m\u001b[0m\u001b[0;34m\u001b[0m\u001b[0m\n\u001b[1;32m   1102\u001b[0m                 \u001b[0mcontext\u001b[0m\u001b[0;34m.\u001b[0m\u001b[0masync_wait\u001b[0m\u001b[0;34m(\u001b[0m\u001b[0;34m)\u001b[0m\u001b[0;34m\u001b[0m\u001b[0;34m\u001b[0m\u001b[0m\n",
      "\u001b[0;32m~/anaconda3/envs/ciao/lib/python3.7/site-packages/tensorflow/python/eager/def_function.py\u001b[0m in \u001b[0;36m__call__\u001b[0;34m(self, *args, **kwds)\u001b[0m\n\u001b[1;32m    826\u001b[0m     \u001b[0mtracing_count\u001b[0m \u001b[0;34m=\u001b[0m \u001b[0mself\u001b[0m\u001b[0;34m.\u001b[0m\u001b[0mexperimental_get_tracing_count\u001b[0m\u001b[0;34m(\u001b[0m\u001b[0;34m)\u001b[0m\u001b[0;34m\u001b[0m\u001b[0;34m\u001b[0m\u001b[0m\n\u001b[1;32m    827\u001b[0m     \u001b[0;32mwith\u001b[0m \u001b[0mtrace\u001b[0m\u001b[0;34m.\u001b[0m\u001b[0mTrace\u001b[0m\u001b[0;34m(\u001b[0m\u001b[0mself\u001b[0m\u001b[0;34m.\u001b[0m\u001b[0m_name\u001b[0m\u001b[0;34m)\u001b[0m \u001b[0;32mas\u001b[0m \u001b[0mtm\u001b[0m\u001b[0;34m:\u001b[0m\u001b[0;34m\u001b[0m\u001b[0;34m\u001b[0m\u001b[0m\n\u001b[0;32m--> 828\u001b[0;31m       \u001b[0mresult\u001b[0m \u001b[0;34m=\u001b[0m \u001b[0mself\u001b[0m\u001b[0;34m.\u001b[0m\u001b[0m_call\u001b[0m\u001b[0;34m(\u001b[0m\u001b[0;34m*\u001b[0m\u001b[0margs\u001b[0m\u001b[0;34m,\u001b[0m \u001b[0;34m**\u001b[0m\u001b[0mkwds\u001b[0m\u001b[0;34m)\u001b[0m\u001b[0;34m\u001b[0m\u001b[0;34m\u001b[0m\u001b[0m\n\u001b[0m\u001b[1;32m    829\u001b[0m       \u001b[0mcompiler\u001b[0m \u001b[0;34m=\u001b[0m \u001b[0;34m\"xla\"\u001b[0m \u001b[0;32mif\u001b[0m \u001b[0mself\u001b[0m\u001b[0;34m.\u001b[0m\u001b[0m_experimental_compile\u001b[0m \u001b[0;32melse\u001b[0m \u001b[0;34m\"nonXla\"\u001b[0m\u001b[0;34m\u001b[0m\u001b[0;34m\u001b[0m\u001b[0m\n\u001b[1;32m    830\u001b[0m       \u001b[0mnew_tracing_count\u001b[0m \u001b[0;34m=\u001b[0m \u001b[0mself\u001b[0m\u001b[0;34m.\u001b[0m\u001b[0mexperimental_get_tracing_count\u001b[0m\u001b[0;34m(\u001b[0m\u001b[0;34m)\u001b[0m\u001b[0;34m\u001b[0m\u001b[0;34m\u001b[0m\u001b[0m\n",
      "\u001b[0;32m~/anaconda3/envs/ciao/lib/python3.7/site-packages/tensorflow/python/eager/def_function.py\u001b[0m in \u001b[0;36m_call\u001b[0;34m(self, *args, **kwds)\u001b[0m\n\u001b[1;32m    853\u001b[0m       \u001b[0;31m# In this case we have created variables on the first call, so we run the\u001b[0m\u001b[0;34m\u001b[0m\u001b[0;34m\u001b[0m\u001b[0;34m\u001b[0m\u001b[0m\n\u001b[1;32m    854\u001b[0m       \u001b[0;31m# defunned version which is guaranteed to never create variables.\u001b[0m\u001b[0;34m\u001b[0m\u001b[0;34m\u001b[0m\u001b[0;34m\u001b[0m\u001b[0m\n\u001b[0;32m--> 855\u001b[0;31m       \u001b[0;32mreturn\u001b[0m \u001b[0mself\u001b[0m\u001b[0;34m.\u001b[0m\u001b[0m_stateless_fn\u001b[0m\u001b[0;34m(\u001b[0m\u001b[0;34m*\u001b[0m\u001b[0margs\u001b[0m\u001b[0;34m,\u001b[0m \u001b[0;34m**\u001b[0m\u001b[0mkwds\u001b[0m\u001b[0;34m)\u001b[0m  \u001b[0;31m# pylint: disable=not-callable\u001b[0m\u001b[0;34m\u001b[0m\u001b[0;34m\u001b[0m\u001b[0m\n\u001b[0m\u001b[1;32m    856\u001b[0m     \u001b[0;32melif\u001b[0m \u001b[0mself\u001b[0m\u001b[0;34m.\u001b[0m\u001b[0m_stateful_fn\u001b[0m \u001b[0;32mis\u001b[0m \u001b[0;32mnot\u001b[0m \u001b[0;32mNone\u001b[0m\u001b[0;34m:\u001b[0m\u001b[0;34m\u001b[0m\u001b[0;34m\u001b[0m\u001b[0m\n\u001b[1;32m    857\u001b[0m       \u001b[0;31m# Release the lock early so that multiple threads can perform the call\u001b[0m\u001b[0;34m\u001b[0m\u001b[0;34m\u001b[0m\u001b[0;34m\u001b[0m\u001b[0m\n",
      "\u001b[0;32m~/anaconda3/envs/ciao/lib/python3.7/site-packages/tensorflow/python/eager/function.py\u001b[0m in \u001b[0;36m__call__\u001b[0;34m(self, *args, **kwargs)\u001b[0m\n\u001b[1;32m   2941\u001b[0m        filtered_flat_args) = self._maybe_define_function(args, kwargs)\n\u001b[1;32m   2942\u001b[0m     return graph_function._call_flat(\n\u001b[0;32m-> 2943\u001b[0;31m         filtered_flat_args, captured_inputs=graph_function.captured_inputs)  # pylint: disable=protected-access\n\u001b[0m\u001b[1;32m   2944\u001b[0m \u001b[0;34m\u001b[0m\u001b[0m\n\u001b[1;32m   2945\u001b[0m   \u001b[0;34m@\u001b[0m\u001b[0mproperty\u001b[0m\u001b[0;34m\u001b[0m\u001b[0;34m\u001b[0m\u001b[0m\n",
      "\u001b[0;32m~/anaconda3/envs/ciao/lib/python3.7/site-packages/tensorflow/python/eager/function.py\u001b[0m in \u001b[0;36m_call_flat\u001b[0;34m(self, args, captured_inputs, cancellation_manager)\u001b[0m\n\u001b[1;32m   1917\u001b[0m       \u001b[0;31m# No tape is watching; skip to running the function.\u001b[0m\u001b[0;34m\u001b[0m\u001b[0;34m\u001b[0m\u001b[0;34m\u001b[0m\u001b[0m\n\u001b[1;32m   1918\u001b[0m       return self._build_call_outputs(self._inference_function.call(\n\u001b[0;32m-> 1919\u001b[0;31m           ctx, args, cancellation_manager=cancellation_manager))\n\u001b[0m\u001b[1;32m   1920\u001b[0m     forward_backward = self._select_forward_and_backward_functions(\n\u001b[1;32m   1921\u001b[0m         \u001b[0margs\u001b[0m\u001b[0;34m,\u001b[0m\u001b[0;34m\u001b[0m\u001b[0;34m\u001b[0m\u001b[0m\n",
      "\u001b[0;32m~/anaconda3/envs/ciao/lib/python3.7/site-packages/tensorflow/python/eager/function.py\u001b[0m in \u001b[0;36m_build_call_outputs\u001b[0;34m(self, result)\u001b[0m\n\u001b[1;32m   2165\u001b[0m     \u001b[0;31m# Replace outputs with results, skipping over any 'None' values.\u001b[0m\u001b[0;34m\u001b[0m\u001b[0;34m\u001b[0m\u001b[0;34m\u001b[0m\u001b[0m\n\u001b[1;32m   2166\u001b[0m     outputs_list = nest.flatten(\n\u001b[0;32m-> 2167\u001b[0;31m         self._func_graph.structured_outputs, expand_composites=True)\n\u001b[0m\u001b[1;32m   2168\u001b[0m     \u001b[0mj\u001b[0m \u001b[0;34m=\u001b[0m \u001b[0;36m0\u001b[0m\u001b[0;34m\u001b[0m\u001b[0;34m\u001b[0m\u001b[0m\n\u001b[1;32m   2169\u001b[0m     \u001b[0;32mfor\u001b[0m \u001b[0mi\u001b[0m\u001b[0;34m,\u001b[0m \u001b[0mo\u001b[0m \u001b[0;32min\u001b[0m \u001b[0menumerate\u001b[0m\u001b[0;34m(\u001b[0m\u001b[0moutputs_list\u001b[0m\u001b[0;34m)\u001b[0m\u001b[0;34m:\u001b[0m\u001b[0;34m\u001b[0m\u001b[0;34m\u001b[0m\u001b[0m\n",
      "\u001b[0;32m~/anaconda3/envs/ciao/lib/python3.7/site-packages/tensorflow/python/util/nest.py\u001b[0m in \u001b[0;36mflatten\u001b[0;34m(structure, expand_composites)\u001b[0m\n\u001b[1;32m    339\u001b[0m     \u001b[0;32mreturn\u001b[0m \u001b[0;34m[\u001b[0m\u001b[0;32mNone\u001b[0m\u001b[0;34m]\u001b[0m\u001b[0;34m\u001b[0m\u001b[0;34m\u001b[0m\u001b[0m\n\u001b[1;32m    340\u001b[0m   \u001b[0mexpand_composites\u001b[0m \u001b[0;34m=\u001b[0m \u001b[0mbool\u001b[0m\u001b[0;34m(\u001b[0m\u001b[0mexpand_composites\u001b[0m\u001b[0;34m)\u001b[0m\u001b[0;34m\u001b[0m\u001b[0;34m\u001b[0m\u001b[0m\n\u001b[0;32m--> 341\u001b[0;31m   \u001b[0;32mreturn\u001b[0m \u001b[0m_pywrap_utils\u001b[0m\u001b[0;34m.\u001b[0m\u001b[0mFlatten\u001b[0m\u001b[0;34m(\u001b[0m\u001b[0mstructure\u001b[0m\u001b[0;34m,\u001b[0m \u001b[0mexpand_composites\u001b[0m\u001b[0;34m)\u001b[0m\u001b[0;34m\u001b[0m\u001b[0;34m\u001b[0m\u001b[0m\n\u001b[0m\u001b[1;32m    342\u001b[0m \u001b[0;34m\u001b[0m\u001b[0m\n\u001b[1;32m    343\u001b[0m \u001b[0;34m\u001b[0m\u001b[0m\n",
      "\u001b[0;31mKeyboardInterrupt\u001b[0m: "
     ]
    }
   ],
   "source": [
    "session_num = 0\n",
    "\n",
    "for N in neurons.domain.values:\n",
    "    for BS in batchsize.domain.values:\n",
    "        for LR in learning_rate.domain.values:\n",
    "            hparams = {neurons : N,\n",
    "                       learning_rate : LR,\n",
    "                       batchsize: BS}\n",
    "            \n",
    "            run_name = \"run-%d\" % session_num\n",
    "            print('--- Starting trial: %s' % run_name)\n",
    "            print({h.name: hparams[h] for h in hparams})\n",
    "            run('logs/hparam_tuning/' + run_name, hparams)\n",
    "            session_num += 1"
   ]
  },
  {
   "cell_type": "code",
   "execution_count": null,
   "id": "f3cfcb0f-246c-49ff-9f8e-d36c5ee04f99",
   "metadata": {},
   "outputs": [],
   "source": []
  },
  {
   "cell_type": "markdown",
   "id": "0db0ca2e-fa45-4519-8282-22700a9d407a",
   "metadata": {},
   "source": [
    "# **Tensorboard inline**"
   ]
  },
  {
   "cell_type": "code",
   "execution_count": 22,
   "id": "40f07f79-3d6d-433b-9070-a7da6d74c876",
   "metadata": {},
   "outputs": [],
   "source": [
    "%load_ext tensorboard"
   ]
  },
  {
   "cell_type": "code",
   "execution_count": 23,
   "id": "35c9e30f-91e1-4834-8b9c-e0b1ae521cff",
   "metadata": {},
   "outputs": [
    {
     "data": {
      "text/html": [
       "\n",
       "      <iframe id=\"tensorboard-frame-1f0edd6fd15cf006\" width=\"100%\" height=\"800\" frameborder=\"0\">\n",
       "      </iframe>\n",
       "      <script>\n",
       "        (function() {\n",
       "          const frame = document.getElementById(\"tensorboard-frame-1f0edd6fd15cf006\");\n",
       "          const url = new URL(\"/\", window.location);\n",
       "          const port = 6007;\n",
       "          if (port) {\n",
       "            url.port = port;\n",
       "          }\n",
       "          frame.src = url;\n",
       "        })();\n",
       "      </script>\n",
       "    "
      ],
      "text/plain": [
       "<IPython.core.display.HTML object>"
      ]
     },
     "metadata": {},
     "output_type": "display_data"
    }
   ],
   "source": [
    "%tensorboard --logdir logs/"
   ]
  },
  {
   "cell_type": "markdown",
   "id": "5fb5534e-768f-4949-8a85-d0eb79490e6a",
   "metadata": {},
   "source": [
    "# **Tensorboard dev**"
   ]
  },
  {
   "cell_type": "markdown",
   "id": "cc9278bc-0f53-4f8b-8d79-183572f09b1a",
   "metadata": {},
   "source": [
    "https://tensorboard.dev/"
   ]
  },
  {
   "cell_type": "code",
   "execution_count": 24,
   "id": "33118b6b-4d9b-4c70-9729-ee4b8cc25975",
   "metadata": {},
   "outputs": [
    {
     "name": "stdout",
     "output_type": "stream",
     "text": [
      "2021-12-16 18:58:07.909264: I tensorflow/stream_executor/platform/default/dso_loader.cc:49] Successfully opened dynamic library libcudart.so.11.0\n",
      "Upload started and will continue reading any new data as it's added to the logdir.\n",
      "\n",
      "To stop uploading, press Ctrl-C.\n",
      "\n",
      "New experiment created. View your TensorBoard at: https://tensorboard.dev/experiment/05yx3Mn2TXKqbiE1LwqSWQ/\n",
      "\n",
      "\u001b[1m[2021-12-16T18:58:11]\u001b[0m Started scanning logdir.\n",
      "\u001b[1m[2021-12-16T18:58:29]\u001b[0m Total uploaded: 198 scalars, 19 tensors (114 B), 18 binary objects (532.2 kB)\n",
      "^C2K\u001b[33mListening for new data in logdir...\u001b[0m\n",
      "\n",
      "\n",
      "Interrupted. View your TensorBoard at https://tensorboard.dev/experiment/05yx3Mn2TXKqbiE1LwqSWQ/\n"
     ]
    }
   ],
   "source": [
    "!tensorboard dev upload --logdir logs --name \"MNIST Digits\""
   ]
  },
  {
   "cell_type": "code",
   "execution_count": 25,
   "id": "c760e755-aa8c-45b4-ba9e-9f312c3b0fa7",
   "metadata": {},
   "outputs": [
    {
     "name": "stdout",
     "output_type": "stream",
     "text": [
      "2021-12-16 19:00:38.052679: I tensorflow/stream_executor/platform/default/dso_loader.cc:49] Successfully opened dynamic library libcudart.so.11.0\n",
      "Deleted experiment 05yx3Mn2TXKqbiE1LwqSWQ.\n"
     ]
    }
   ],
   "source": [
    "!tensorboard dev delete --experiment_id 05yx3Mn2TXKqbiE1LwqSWQ"
   ]
  },
  {
   "cell_type": "code",
   "execution_count": null,
   "id": "6e2441f6-df67-4746-9122-459f6ce280d7",
   "metadata": {},
   "outputs": [],
   "source": []
  }
 ],
 "metadata": {
  "kernelspec": {
   "display_name": "Python 3.7.3 64-bit ('ciao': conda)",
   "language": "python",
   "name": "python373jvsc74a57bd05a6a217defae70f985bcb22335fab597a52c06d5d3a9df34c5c441dd5bc92fc3"
  },
  "language_info": {
   "codemirror_mode": {
    "name": "ipython",
    "version": 3
   },
   "file_extension": ".py",
   "mimetype": "text/x-python",
   "name": "python",
   "nbconvert_exporter": "python",
   "pygments_lexer": "ipython3",
   "version": "3.7.3"
  }
 },
 "nbformat": 4,
 "nbformat_minor": 5
}
